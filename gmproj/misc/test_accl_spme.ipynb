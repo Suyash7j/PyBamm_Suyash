{
 "cells": [
  {
   "cell_type": "code",
   "execution_count": 1,
   "metadata": {},
   "outputs": [],
   "source": [
    "import pybamm\n",
    "import matplotlib.pyplot as plt\n",
    "import numpy as np\n",
    "import pandas as pd\n",
    "import math\n",
    "import dfols\n",
    "import signal\n",
    "from scipy.integrate import solve_ivp\n",
    "from scipy.fft import fft, fftfreq, fftshift\n",
    "from scipy.signal import savgol_filter\n",
    "from scipy.signal import find_peaks\n",
    "from scipy import interpolate\n",
    "from stopit import threading_timeoutable as timeoutable\n",
    "import os, sys\n",
    "sys.path.append(os.path.dirname(os.path.dirname(os.path.abspath(\"__file__\"))))\n",
    "from batfuns import *\n",
    "plt.rcParams = set_rc_params(plt.rcParams)\n",
    "\n",
    "eSOH_DIR = \"../data/esoh/\"\n",
    "oCV_DIR = \"../data/ocv/\"\n",
    "fig_DIR = \"../figures/figures_model/\"\n",
    "res_DIR = \"../data/results_model/\"\n",
    "%matplotlib widget"
   ]
  },
  {
   "cell_type": "code",
   "execution_count": 2,
   "metadata": {},
   "outputs": [],
   "source": [
    "parameter_values = get_parameter_values()\n",
    "spme = pybamm.lithium_ion.SPM(\n",
    "    {\n",
    "        \"SEI\": \"ec reaction limited\",\n",
    "        \"loss of active material\": \"stress-driven\",\n",
    "        \"lithium plating\": \"irreversible\",\n",
    "        # \"calculate discharge energy\": \"true\"\n",
    "    }\n",
    ")\n",
    "param=spme.param"
   ]
  },
  {
   "cell_type": "code",
   "execution_count": 3,
   "metadata": {},
   "outputs": [
    {
     "name": "stdout",
     "output_type": "stream",
     "text": [
      "25\n"
     ]
    }
   ],
   "source": [
    "cell = 1\n",
    "cell_no,dfe,dfe_0,dfo_0,N,N_0 = load_data(cell,eSOH_DIR,oCV_DIR)\n",
    "eps_n_data,eps_p_data,c_rate_c,c_rate_d,dis_set,Temp,SOC_0 = init_exp(cell_no,dfe,spme,parameter_values)\n",
    "print(Temp)"
   ]
  },
  {
   "cell_type": "code",
   "execution_count": 4,
   "metadata": {},
   "outputs": [],
   "source": [
    "parameter_values.update(\n",
    "    {\n",
    "      \"Positive electrode LAM constant proportional term [s-1]\": 1.27152e-07,\n",
    "      \"Negative electrode LAM constant proportional term [s-1]\": 1.27272e-06,\n",
    "      \"Positive electrode LAM constant exponential term\": 1.1992,\n",
    "      \"Negative electrode LAM constant exponential term\": 1.1992,\n",
    "      \"SEI kinetic rate constant [m.s-1]\":  4.60788219e-16, #1.08494281e-16 , \n",
    "      \"EC diffusivity [m2.s-1]\": 4.56607447e-19,#8.30909086e-19,\n",
    "      \"SEI growth activation energy [J.mol-1]\": 1.87422275e+04,#1.58777981e+04,\n",
    "      # \"Exchange-current density for plating [A.m-2]\":0.001,\n",
    "      # \"Lithium plating transfer coefficient\": 0.7,\n",
    "      # \"Dead lithium decay constant [s-1]\": 1E-4,\n",
    "    },\n",
    "    check_already_exists=False,\n",
    ")"
   ]
  },
  {
   "cell_type": "code",
   "execution_count": 5,
   "metadata": {},
   "outputs": [],
   "source": [
    "experiment = pybamm.Experiment(\n",
    "    [\n",
    "        (\"Discharge at \"+c_rate_d+dis_set,\n",
    "         \"Rest for 5 min\",\n",
    "         \"Charge at \"+c_rate_c+\" until 4.2V\", \n",
    "         \"Hold at 4.2V until C/100\")\n",
    "    ] *dfe.N.iloc[-1],\n",
    "    # ] *40,\n",
    "    termination=\"50% capacity\",\n",
    "#     cccv_handling=\"ode\",\n",
    ")"
   ]
  },
  {
   "cell_type": "code",
   "execution_count": 6,
   "metadata": {},
   "outputs": [],
   "source": [
    "# all_sumvars_dict = cycle_adaptive_simulation(spme, parameter_values, experiment,SOC_0, save_at_cycles=1)"
   ]
  },
  {
   "cell_type": "code",
   "execution_count": 6,
   "metadata": {},
   "outputs": [],
   "source": [
    "model = spme\n",
    "SOC_0=1\n",
    "save_at_cycles=None"
   ]
  },
  {
   "cell_type": "code",
   "execution_count": 7,
   "metadata": {},
   "outputs": [
    {
     "name": "stdout",
     "output_type": "stream",
     "text": [
      "Discharge capacity [A.h]\n",
      "X-averaged negative electrode active material volume fraction\n",
      "X-averaged positive electrode active material volume fraction\n",
      "X-averaged negative particle concentration\n",
      "X-averaged positive particle concentration\n",
      "X-averaged outer SEI thickness\n",
      "X-averaged lithium plating concentration\n",
      "X-averaged dead lithium concentration\n"
     ]
    }
   ],
   "source": [
    "for var in model.initial_conditions:\n",
    "    print(var.name)"
   ]
  },
  {
   "cell_type": "code",
   "execution_count": 14,
   "metadata": {},
   "outputs": [],
   "source": [
    "experiment_one_cycle = pybamm.Experiment(\n",
    "        experiment.operating_conditions_cycles[:1],\n",
    "        termination=experiment.termination_string,\n",
    "        cccv_handling=experiment.cccv_handling,\n",
    "    )\n",
    "Vmin = 3.0\n",
    "Vmax = 4.2\n",
    "esoh_model = pybamm.lithium_ion.ElectrodeSOH()\n",
    "esoh_sim = pybamm.Simulation(esoh_model, parameter_values=parameter_values)\n",
    "param = model.param\n",
    "esoh_solver = pybamm.lithium_ion.ElectrodeSOHSolver(parameter_values, param)\n",
    "Cn = parameter_values.evaluate(param.n.cap_init)\n",
    "Cp = parameter_values.evaluate(param.p.cap_init)\n",
    "eps_n = parameter_values[\"Negative electrode active material volume fraction\"]\n",
    "eps_p = parameter_values[\"Positive electrode active material volume fraction\"]\n",
    "C_over_eps_n = Cn / eps_n\n",
    "C_over_eps_p = Cp / eps_p\n",
    "c_n_max = parameter_values.evaluate(param.n.prim.c_max)\n",
    "c_p_max = parameter_values.evaluate(param.p.prim.c_max)\n",
    "n_Li_init = parameter_values.evaluate(param.n_Li_particles_init)\n",
    "\n",
    "esoh_sol = esoh_sim.solve(\n",
    "    [0],\n",
    "    inputs={\"V_min\": Vmin, \"V_max\": Vmax, \"C_n\": Cn, \"C_p\": Cp, \"n_Li\": n_Li_init},\n",
    "    solver=pybamm.AlgebraicSolver(),\n",
    ")\n",
    "\n",
    "parameter_values.update(\n",
    "    {\n",
    "        \"Initial concentration in negative electrode [mol.m-3]\": esoh_sol[\n",
    "            \"x_100\"\n",
    "        ].data[0]\n",
    "        * c_n_max,\n",
    "        \"Initial concentration in positive electrode [mol.m-3]\": esoh_sol[\n",
    "            \"y_100\"\n",
    "        ].data[0]\n",
    "        * c_p_max,\n",
    "        \n",
    "    }\n",
    ")\n",
    "\n",
    "sim_ode = pybamm.Simulation(\n",
    "    model, experiment=experiment_one_cycle, parameter_values=parameter_values,\n",
    "    solver=pybamm.CasadiSolver(\"safe\")\n",
    ")\n",
    "sol0 = sim_ode.solve(initial_soc=SOC_0)\n",
    "model = sim_ode.solution.all_models[0]\n",
    "cap0 = sol0.summary_variables[\"Capacity [A.h]\"]"
   ]
  },
  {
   "cell_type": "code",
   "execution_count": 15,
   "metadata": {},
   "outputs": [],
   "source": [
    "if experiment.termination == {}:\n",
    "    event = None\n",
    "else:\n",
    "\n",
    "    def capacity_cutoff(t, y):\n",
    "        sol = y_to_sol(y, esoh_sim, model)\n",
    "        cap = pybamm.make_cycle_solution([sol], esoh_solver, True)[1][\"Capacity [A.h]\"]\n",
    "        return cap / cap0 - experiment_one_cycle.termination[\"capacity\"][0] / 100\n",
    "\n",
    "    capacity_cutoff.terminal = True\n",
    "\n",
    "num_cycles = len(experiment.operating_conditions_cycles)"
   ]
  },
  {
   "cell_type": "code",
   "execution_count": 16,
   "metadata": {},
   "outputs": [],
   "source": [
    "def sol_to_y(sol, loc=\"end\"):\n",
    "    if loc == \"start\":\n",
    "        pos = 0\n",
    "    elif loc == \"end\":\n",
    "        pos = -1\n",
    "    model = sol.all_models[0]\n",
    "    n_Li = sol[\"Total lithium in particles [mol]\"].data[pos].flatten()\n",
    "    Cn = sol[\"Negative electrode capacity [A.h]\"].data[pos].flatten()\n",
    "    Cp = sol[\"Positive electrode capacity [A.h]\"].data[pos].flatten()\n",
    "    # y = np.concatenate([n_Li, Cn, Cp])\n",
    "    y = n_Li\n",
    "    for var in model.initial_conditions:\n",
    "        if var.name not in [\n",
    "            \"X-averaged negative particle concentration\",\n",
    "            \"X-averaged positive particle concentration\",\n",
    "            \"Discharge capacity [A.h]\",\n",
    "            \"Porosity times concentration\",\n",
    "        ]:\n",
    "            print(var.name)\n",
    "            value = sol[var.name].data\n",
    "            if value.ndim == 1:\n",
    "                value = value[pos]\n",
    "            elif value.ndim == 2:\n",
    "                value = value[:, pos]\n",
    "            elif value.ndim == 3:\n",
    "                value = value[:, :, pos]\n",
    "            y = np.concatenate([y, value.flatten()])\n",
    "        elif var.name == \"Porosity times concentration\":\n",
    "            print(var)\n",
    "            for child in var.children:\n",
    "                value = sol[child.name].data\n",
    "                if value.ndim == 1:\n",
    "                    value = value[pos]\n",
    "                elif value.ndim == 2:\n",
    "                    value = value[:, pos]\n",
    "                elif value.ndim == 3:\n",
    "                    value = value[:, :, pos]\n",
    "                y = np.concatenate([y, value.flatten()])\n",
    "    return y"
   ]
  },
  {
   "cell_type": "code",
   "execution_count": 17,
   "metadata": {},
   "outputs": [],
   "source": [
    "sol =sol0\n",
    "loc=\"start\"\n",
    "if loc == \"start\":\n",
    "    pos = 0\n",
    "elif loc == \"end\":\n",
    "    pos = -1"
   ]
  },
  {
   "cell_type": "code",
   "execution_count": 18,
   "metadata": {},
   "outputs": [
    {
     "name": "stdout",
     "output_type": "stream",
     "text": [
      "X-averaged negative electrode active material volume fraction\n",
      "(606,)\n",
      "X-averaged positive electrode active material volume fraction\n",
      "(606,)\n",
      "X-averaged outer SEI thickness\n",
      "(606,)\n",
      "X-averaged lithium plating concentration\n",
      "(606,)\n",
      "X-averaged dead lithium concentration\n",
      "(606,)\n"
     ]
    }
   ],
   "source": [
    "model = sol.all_models[0]\n",
    "n_Li = sol[\"Total lithium in particles [mol]\"].data[pos].flatten()\n",
    "Cn = sol[\"Negative electrode capacity [A.h]\"].data[pos].flatten()\n",
    "Cp = sol[\"Positive electrode capacity [A.h]\"].data[pos].flatten()\n",
    "# y = np.concatenate([n_Li, Cn, Cp])\n",
    "y = n_Li\n",
    "for var in model.initial_conditions:\n",
    "    if var.name not in [\n",
    "        \"X-averaged negative particle concentration\",\n",
    "        \"X-averaged positive particle concentration\",\n",
    "        \"Discharge capacity [A.h]\",\n",
    "        \"Porosity times concentration\",\n",
    "    ]:\n",
    "        print(var.name)\n",
    "        value = sol[var.name].data\n",
    "        print(value.shape)\n",
    "        if value.ndim == 1:\n",
    "            value = value[pos]\n",
    "        elif value.ndim == 2:\n",
    "            value = np.average(value[:, pos])\n",
    "        elif value.ndim == 3:\n",
    "            value = np.average(value[:, :, pos])\n",
    "        y = np.concatenate([y, value.flatten()])\n",
    "    elif var.name == \"Porosity times concentration\":\n",
    "        print(var)\n",
    "        for child in var.children:\n",
    "            print(child.name)\n",
    "            value = sol[child.name].data\n",
    "            print(value.shape)\n",
    "            if value.ndim == 1:\n",
    "                value = value[pos]\n",
    "            elif value.ndim == 2:\n",
    "                value = np.average(value[:, pos])\n",
    "            elif value.ndim == 3:\n",
    "                value = np.average(value[:, :, pos])\n",
    "            y = np.concatenate([y, value.flatten()])"
   ]
  },
  {
   "cell_type": "code",
   "execution_count": 19,
   "metadata": {},
   "outputs": [
    {
     "data": {
      "text/plain": [
       "array([0.1929887, 0.61     , 0.445    , 1.       , 0.       , 0.       ])"
      ]
     },
     "execution_count": 19,
     "metadata": {},
     "output_type": "execute_result"
    }
   ],
   "source": [
    "y"
   ]
  },
  {
   "cell_type": "code",
   "execution_count": 20,
   "metadata": {},
   "outputs": [
    {
     "data": {
      "text/plain": [
       "6"
      ]
     },
     "execution_count": 20,
     "metadata": {},
     "output_type": "execute_result"
    }
   ],
   "source": [
    "len(y)"
   ]
  },
  {
   "cell_type": "code",
   "execution_count": 14,
   "metadata": {},
   "outputs": [
    {
     "ename": "NameError",
     "evalue": "name 'sdfsdfsd' is not defined",
     "output_type": "error",
     "traceback": [
      "\u001b[1;31m---------------------------------------------------------------------------\u001b[0m",
      "\u001b[1;31mNameError\u001b[0m                                 Traceback (most recent call last)",
      "\u001b[1;32mc:\\Users\\spannala\\PyBaMM\\gmproj\\misc\\test_accl_spme.ipynb Cell 14\u001b[0m in \u001b[0;36m<cell line: 1>\u001b[1;34m()\u001b[0m\n\u001b[1;32m----> <a href='vscode-notebook-cell:/c%3A/Users/spannala/PyBaMM/gmproj/misc/test_accl_spme.ipynb#X54sZmlsZQ%3D%3D?line=0'>1</a>\u001b[0m sdfsdfsd\n",
      "\u001b[1;31mNameError\u001b[0m: name 'sdfsdfsd' is not defined"
     ]
    }
   ],
   "source": [
    "sdfsdfsd"
   ]
  },
  {
   "cell_type": "code",
   "execution_count": 21,
   "metadata": {},
   "outputs": [
    {
     "name": "stdout",
     "output_type": "stream",
     "text": [
      "X-averaged negative electrode active material volume fraction\n",
      "X-averaged positive electrode active material volume fraction\n",
      "X-averaged outer SEI thickness\n",
      "X-averaged lithium plating concentration\n",
      "X-averaged dead lithium concentration\n"
     ]
    }
   ],
   "source": [
    "num_cycles = len(experiment.operating_conditions_cycles)\n",
    "if save_at_cycles is None:\n",
    "    t_eval = np.arange(1, num_cycles + 1)\n",
    "elif save_at_cycles == -1:\n",
    "    t_eval = None\n",
    "else:\n",
    "    t_eval = np.arange(1, num_cycles + 1, save_at_cycles)\n",
    "y0 = sol_to_y(sol0, loc=\"start\")\n",
    "y = y0"
   ]
  },
  {
   "cell_type": "code",
   "execution_count": 15,
   "metadata": {},
   "outputs": [],
   "source": [
    "n_Li = y[0]\n",
    "Cn = C_over_eps_n * y[1]\n",
    "Cp = C_over_eps_p * y[2]\n",
    "\n",
    "esoh_sol = esoh_sim.solve(\n",
    "    [0],\n",
    "    inputs={\"V_min\": Vmin, \"V_max\": Vmax, \"C_n\": Cn, \"C_p\": Cp, \"n_Li\": n_Li},\n",
    ")\n",
    "esoh_sim.built_model.set_initial_conditions_from(esoh_sol)\n",
    "ics = {}\n",
    "x_100 = esoh_sol[\"x_100\"].data[0]\n",
    "y_100 = esoh_sol[\"y_100\"].data[0]\n",
    "x_0 = esoh_sol[\"x_0\"].data[0]\n",
    "y_0 = esoh_sol[\"y_0\"].data[0]"
   ]
  },
  {
   "cell_type": "code",
   "execution_count": 16,
   "metadata": {},
   "outputs": [
    {
     "name": "stdout",
     "output_type": "stream",
     "text": [
      "Discharge capacity [A.h]\n",
      "X-averaged negative electrode active material volume fraction\n",
      "X-averaged positive electrode active material volume fraction\n",
      "X-averaged negative particle concentration\n",
      "X-averaged positive particle concentration\n",
      "Porosity times concentration\n",
      "Outer SEI thickness\n"
     ]
    }
   ],
   "source": [
    "for var in model.initial_conditions:\n",
    "    print(var.name)"
   ]
  },
  {
   "cell_type": "code",
   "execution_count": 17,
   "metadata": {},
   "outputs": [
    {
     "name": "stdout",
     "output_type": "stream",
     "text": [
      "X-averaged negative electrode active material volume fraction\n",
      "[[0.61]]\n",
      "X-averaged positive electrode active material volume fraction\n",
      "[[0.445]]\n",
      "Negative electrode porosity times concentration\n",
      "[[0.3]\n",
      " [0.3]\n",
      " [0.3]\n",
      " [0.3]\n",
      " [0.3]\n",
      " [0.3]\n",
      " [0.3]\n",
      " [0.3]\n",
      " [0.3]\n",
      " [0.3]\n",
      " [0.3]\n",
      " [0.3]\n",
      " [0.3]\n",
      " [0.3]\n",
      " [0.3]\n",
      " [0.3]\n",
      " [0.3]\n",
      " [0.3]\n",
      " [0.3]\n",
      " [0.3]\n",
      " [0.3]\n",
      " [0.3]\n",
      " [0.3]\n",
      " [0.3]\n",
      " [0.3]\n",
      " [0.3]\n",
      " [0.3]\n",
      " [0.3]\n",
      " [0.3]\n",
      " [0.3]\n",
      " [0.3]\n",
      " [0.3]\n",
      " [0.3]\n",
      " [0.3]\n",
      " [0.3]\n",
      " [0.3]\n",
      " [0.3]\n",
      " [0.3]\n",
      " [0.3]\n",
      " [0.3]\n",
      " [0.3]\n",
      " [0.3]\n",
      " [0.3]\n",
      " [0.3]\n",
      " [0.3]\n",
      " [0.3]\n",
      " [0.3]\n",
      " [0.3]\n",
      " [0.3]\n",
      " [0.3]\n",
      " [0.3]\n",
      " [0.3]\n",
      " [0.3]\n",
      " [0.3]\n",
      " [0.3]\n",
      " [0.3]\n",
      " [0.3]\n",
      " [0.3]\n",
      " [0.3]\n",
      " [0.3]]\n",
      "Separator porosity times concentration\n",
      "[[0.4]\n",
      " [0.4]\n",
      " [0.4]\n",
      " [0.4]\n",
      " [0.4]\n",
      " [0.4]\n",
      " [0.4]\n",
      " [0.4]\n",
      " [0.4]\n",
      " [0.4]\n",
      " [0.4]\n",
      " [0.4]\n",
      " [0.4]\n",
      " [0.4]\n",
      " [0.4]\n",
      " [0.4]\n",
      " [0.4]\n",
      " [0.4]\n",
      " [0.4]\n",
      " [0.4]\n",
      " [0.4]\n",
      " [0.4]\n",
      " [0.4]\n",
      " [0.4]\n",
      " [0.4]\n",
      " [0.4]\n",
      " [0.4]\n",
      " [0.4]\n",
      " [0.4]\n",
      " [0.4]\n",
      " [0.4]\n",
      " [0.4]\n",
      " [0.4]\n",
      " [0.4]\n",
      " [0.4]\n",
      " [0.4]\n",
      " [0.4]\n",
      " [0.4]\n",
      " [0.4]\n",
      " [0.4]\n",
      " [0.4]\n",
      " [0.4]\n",
      " [0.4]\n",
      " [0.4]\n",
      " [0.4]\n",
      " [0.4]\n",
      " [0.4]\n",
      " [0.4]\n",
      " [0.4]\n",
      " [0.4]\n",
      " [0.4]\n",
      " [0.4]\n",
      " [0.4]\n",
      " [0.4]\n",
      " [0.4]\n",
      " [0.4]\n",
      " [0.4]\n",
      " [0.4]\n",
      " [0.4]\n",
      " [0.4]]\n",
      "Positive electrode porosity times concentration\n",
      "[[0.3]\n",
      " [0.3]\n",
      " [0.3]\n",
      " [0.3]\n",
      " [0.3]\n",
      " [0.3]\n",
      " [0.3]\n",
      " [0.3]\n",
      " [0.3]\n",
      " [0.3]\n",
      " [0.3]\n",
      " [0.3]\n",
      " [0.3]\n",
      " [0.3]\n",
      " [0.3]\n",
      " [0.3]\n",
      " [0.3]\n",
      " [0.3]\n",
      " [0.3]\n",
      " [0.3]\n",
      " [0.3]\n",
      " [0.3]\n",
      " [0.3]\n",
      " [0.3]\n",
      " [0.3]\n",
      " [0.3]\n",
      " [0.3]\n",
      " [0.3]\n",
      " [0.3]\n",
      " [0.3]\n",
      " [0.3]\n",
      " [0.3]\n",
      " [0.3]\n",
      " [0.3]\n",
      " [0.3]\n",
      " [0.3]\n",
      " [0.3]\n",
      " [0.3]\n",
      " [0.3]\n",
      " [0.3]\n",
      " [0.3]\n",
      " [0.3]\n",
      " [0.3]\n",
      " [0.3]\n",
      " [0.3]\n",
      " [0.3]\n",
      " [0.3]\n",
      " [0.3]\n",
      " [0.3]\n",
      " [0.3]\n",
      " [0.3]\n",
      " [0.3]\n",
      " [0.3]\n",
      " [0.3]\n",
      " [0.3]\n",
      " [0.3]\n",
      " [0.3]\n",
      " [0.3]\n",
      " [0.3]\n",
      " [0.3]]\n",
      "Outer SEI thickness\n",
      "[[1.]\n",
      " [1.]\n",
      " [1.]\n",
      " [1.]\n",
      " [1.]\n",
      " [1.]\n",
      " [1.]\n",
      " [1.]\n",
      " [1.]\n",
      " [1.]\n",
      " [1.]\n",
      " [1.]\n",
      " [1.]\n",
      " [1.]\n",
      " [1.]\n",
      " [1.]\n",
      " [1.]\n",
      " [1.]\n",
      " [1.]\n",
      " [1.]]\n"
     ]
    }
   ],
   "source": [
    "start = 1\n",
    "for var in model.initial_conditions:\n",
    "    if var.name == \"X-averaged negative particle concentration\":\n",
    "        ics[var.name] = ((x_100-x_0)*SOC_0+x_0) * np.ones((model.variables[var.name].size, 2))\n",
    "    elif var.name == \"X-averaged positive particle concentration\":\n",
    "        ics[var.name] = ((y_100-y_0)*SOC_0+y_0)  * np.ones((model.variables[var.name].size, 2))\n",
    "        \n",
    "    elif var.name == \"Discharge capacity [A.h]\":\n",
    "        ics[var.name] = np.zeros(1)\n",
    "    else:\n",
    "        if var.name == \"Porosity times concentration\":\n",
    "            for child in var.children:\n",
    "                # end = start + model.variables[child.name].size\n",
    "                # ics[child.name] = y[start:end, np.newaxis]\n",
    "                end = start + 1\n",
    "                ics[child.name] = y[start] * np.ones((model.variables[var.name].size, 1))\n",
    "                print(child.name)\n",
    "                print(ics[child.name])\n",
    "                start = end\n",
    "        else:\n",
    "            # end = start + model.variables[var.name].size\n",
    "            # ics[var.name] = y[start:end, np.newaxis]\n",
    "            end = start + 1\n",
    "            ics[var.name] = y[start] * np.ones((model.variables[var.name].size, 1))\n",
    "            start = end\n",
    "            print(var.name)\n",
    "            print(ics[var.name])\n",
    "    "
   ]
  },
  {
   "cell_type": "code",
   "execution_count": null,
   "metadata": {},
   "outputs": [],
   "source": [
    "len(y)"
   ]
  },
  {
   "cell_type": "code",
   "execution_count": 18,
   "metadata": {},
   "outputs": [
    {
     "name": "stdout",
     "output_type": "stream",
     "text": [
      "Discharge capacity [A.h]\n",
      "X-averaged negative electrode active material volume fraction\n",
      "X-averaged positive electrode active material volume fraction\n",
      "X-averaged negative particle concentration\n",
      "X-averaged positive particle concentration\n",
      "Porosity times concentration\n",
      "Outer SEI thickness\n"
     ]
    }
   ],
   "source": [
    "for var in model.initial_conditions:\n",
    "    # if var.name == \"Porosity times concentration\":\n",
    "        print(var.name)\n",
    "        var1 = var"
   ]
  },
  {
   "cell_type": "code",
   "execution_count": 19,
   "metadata": {},
   "outputs": [
    {
     "data": {
      "text/plain": [
       "['negative electrode']"
      ]
     },
     "execution_count": 19,
     "metadata": {},
     "output_type": "execute_result"
    }
   ],
   "source": [
    "model.variables[var1.name].domains['primary']"
   ]
  },
  {
   "cell_type": "code",
   "execution_count": 20,
   "metadata": {},
   "outputs": [],
   "source": [
    "init_cond = model.initial_conditions"
   ]
  },
  {
   "cell_type": "code",
   "execution_count": 21,
   "metadata": {},
   "outputs": [
    {
     "data": {
      "text/plain": [
       "{Variable(0x5e55c2873187ce3b, Discharge capacity [A.h], children=[], domains={}): Vector(-0x6af52df65ef574d5, Column vector of length 1, children=[], domains={}),\n",
       " Variable(0x79c80969d5bffb65, X-averaged negative electrode active material volume fraction, children=[], domains={'primary': ['current collector']}): Vector(0x5ad1a309d230bd96, Column vector of length 1, children=[], domains={'primary': ['current collector']}),\n",
       " Variable(0x6266b3f6664d09e, X-averaged positive electrode active material volume fraction, children=[], domains={'primary': ['current collector']}): Vector(-0x4eb5155eec27d50b, Column vector of length 1, children=[], domains={'primary': ['current collector']}),\n",
       " Variable(-0x66f077a4ef1e44c9, X-averaged negative particle concentration, children=[], domains={'primary': ['negative particle'], 'secondary': ['current collector']}): Vector(-0x4d3a2717c55ff3b5, Column vector of length 20, children=[], domains={'primary': ['negative particle'], 'secondary': ['current collector']}),\n",
       " Variable(0x6c50925994a050c2, X-averaged positive particle concentration, children=[], domains={'primary': ['positive particle'], 'secondary': ['current collector']}): Vector(0x52a1448bc8096fcb, Column vector of length 20, children=[], domains={'primary': ['positive particle'], 'secondary': ['current collector']}),\n",
       " ConcatenationVariable(-0x51889890885eef58, Porosity times concentration, children=['Negative electrode porosity times concentration', 'Separator porosity times concentration', 'Positive electrode porosity times concentration'], domains={'primary': ['negative electrode', 'separator', 'positive electrode'], 'secondary': ['current collector']}): Vector(-0xab0428d8cda9355, Column vector of length 60, children=[], domains={'primary': ['negative electrode', 'separator', 'positive electrode'], 'secondary': ['current collector']}),\n",
       " Variable(0x4fa3b6466fc86c80, Outer SEI thickness, children=[], domains={'primary': ['negative electrode'], 'secondary': ['current collector']}): Vector(0x35cfe7aef189b1e0, Column vector of length 20, children=[], domains={'primary': ['negative electrode'], 'secondary': ['current collector']})}"
      ]
     },
     "execution_count": 21,
     "metadata": {},
     "output_type": "execute_result"
    }
   ],
   "source": [
    "init_cond"
   ]
  },
  {
   "cell_type": "code",
   "execution_count": null,
   "metadata": {},
   "outputs": [],
   "source": [
    "dfsdfs"
   ]
  },
  {
   "cell_type": "code",
   "execution_count": null,
   "metadata": {},
   "outputs": [],
   "source": [
    "model.initial_conditions"
   ]
  },
  {
   "cell_type": "code",
   "execution_count": 22,
   "metadata": {},
   "outputs": [
    {
     "data": {
      "text/plain": [
       "<pybamm.models.full_battery_models.lithium_ion.spme.SPMe at 0x1a48398c2b0>"
      ]
     },
     "execution_count": 22,
     "metadata": {},
     "output_type": "execute_result"
    }
   ],
   "source": [
    " model.set_initial_conditions_from(ics)"
   ]
  }
 ],
 "metadata": {
  "kernelspec": {
   "display_name": "Python 3",
   "language": "python",
   "name": "python3"
  },
  "language_info": {
   "codemirror_mode": {
    "name": "ipython",
    "version": 3
   },
   "file_extension": ".py",
   "mimetype": "text/x-python",
   "name": "python",
   "nbconvert_exporter": "python",
   "pygments_lexer": "ipython3",
   "version": "3.9.7"
  },
  "orig_nbformat": 4,
  "vscode": {
   "interpreter": {
    "hash": "fe6e1a396f7757d05554318f98bb2d7e7d3785df9fdbcce0707f057fad4349a9"
   }
  }
 },
 "nbformat": 4,
 "nbformat_minor": 2
}
