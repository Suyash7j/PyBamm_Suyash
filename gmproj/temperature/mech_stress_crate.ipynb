{
 "cells": [
  {
   "cell_type": "markdown",
   "metadata": {},
   "source": [
    "# Try Li Plating Sub Models"
   ]
  },
  {
   "cell_type": "code",
   "execution_count": 1,
   "metadata": {},
   "outputs": [],
   "source": [
    "import pybamm\n",
    "import matplotlib.pyplot as plt\n",
    "import numpy as np\n",
    "import scipy\n",
    "import pandas as pd\n",
    "import math\n",
    "import dfols\n",
    "import signal\n",
    "from scipy.integrate import solve_ivp\n",
    "from scipy.fft import fft, fftfreq, fftshift\n",
    "from scipy.signal import savgol_filter\n",
    "from scipy.signal import find_peaks\n",
    "from scipy import interpolate\n",
    "from stopit import threading_timeoutable as timeoutable\n",
    "import os, sys\n",
    "sys.path.append(os.path.dirname(os.path.dirname(os.path.abspath(\"__file__\"))))\n",
    "from batfuns import *\n",
    "plt.rcParams = set_rc_params(plt.rcParams)\n",
    "\n",
    "eSOH_DIR = \"../data/esoh/\"\n",
    "oCV_DIR = \"../data/ocv/\"\n",
    "fig_DIR = \"../figures/figures_model/\"\n",
    "res_DIR = \"../data/results_model/\"\n",
    "%matplotlib widget"
   ]
  },
  {
   "cell_type": "code",
   "execution_count": 2,
   "metadata": {},
   "outputs": [],
   "source": [
    "parameter_values = get_parameter_values()"
   ]
  },
  {
   "cell_type": "code",
   "execution_count": 3,
   "metadata": {},
   "outputs": [],
   "source": [
    "spm = pybamm.lithium_ion.SPM(\n",
    "    {\n",
    "        \"SEI\": \"ec reaction limited\",\n",
    "        \"loss of active material\": \"stress-driven\",\n",
    "        \"lithium plating\": \"irreversible\",\n",
    "        \"stress-induced diffusion\": \"false\",\n",
    "    }\n",
    ")\n",
    "param=spm.param"
   ]
  },
  {
   "cell_type": "code",
   "execution_count": 4,
   "metadata": {},
   "outputs": [
    {
     "name": "stdout",
     "output_type": "stream",
     "text": [
      "25\n"
     ]
    }
   ],
   "source": [
    "cell = 4\n",
    "sno = 7\n",
    "cell_no,dfe,dfe_0,dfo_0,N,N_0 = load_data(cell,eSOH_DIR,oCV_DIR)\n",
    "eps_n_data,eps_p_data,c_rate_c,c_rate_d,dis_set,Temp,SOC_0 = init_exp(cell_no,dfe,spm,parameter_values)\n",
    "print(Temp)"
   ]
  },
  {
   "cell_type": "code",
   "execution_count": 5,
   "metadata": {},
   "outputs": [],
   "source": [
    "par_val = {}\n",
    "# Previous i.e. tuning mech sim sep and then Li plating\n",
    "par_val[0]=[1.2715e-07,1.2727e-06,1.1992,1.353e-9]\n",
    "# Using only C/5 and 1.5C Cycling aging, cost function with Cn,Cp,x100,y0\n",
    "par_val[1]=[1.4819e-07,1.5114e-06,1.2484,1.4732e-09]\n",
    "# Using only C/5 and 1.5C Cycling aging, cost function with Cn,Cp,C,LLI(%)\n",
    "par_val[2]=[1.4493e-07,1.3608e-06,1.199,1.2138e-09]\n",
    "# Using C/5, 1.5C and mixed c-rate (Ch:C/5, Dh:1.5C) Cycling aging, cost function with Cn,Cp,x100,y0\n",
    "par_val[3]=[1.043e-07,1.036e-06,1.208,1.6045e-09]\n",
    "# Using C/5, 1.5C and mixed c-rate (Ch:C/5, Dh:1.5C) Cycling aging, cost function with Cn,Cp,C,LLI(%)\n",
    "par_val[4]=[8.755e-08,8.572e-07,1.135,1.5788e-09]\n",
    "# Using C/5, 1.5C and mixed c-rate (Ch:C/5, Dh:1.5C) Cycling aging, cost function with Cn,Cp,C,LLI(%) another initial condition\n",
    "par_val[5]=[8.7698e-08,8.5848e-07,1.1354,1.5778e-09]\n",
    "# New Mech Damage Model\n",
    "par_val[6]=[2.056E-07,2.4664E-06,1.2468,1.0482e-09]\n",
    "# New Mech Damage Model with Lithium plating resistane\n",
    "par_val[7]=[2.190e-07,2.308e-06,1.214,2.537e-09]"
   ]
  },
  {
   "cell_type": "code",
   "execution_count": 23,
   "metadata": {},
   "outputs": [],
   "source": [
    "parameter_values = get_parameter_values()\n",
    "parameter_values.update(\n",
    "    {\n",
    "        \"Negative electrode active material volume fraction\": eps_n_data,\n",
    "        \"Positive electrode active material volume fraction\": eps_p_data,\n",
    "        \"Initial temperature [K]\": 273.15+25,\n",
    "        \"Ambient temperature [K]\": 273.15+25,\n",
    "        \"Positive electrode LAM constant proportional term [s-1]\": par_val[sno][0],\n",
    "        \"Negative electrode LAM constant proportional term [s-1]\": par_val[sno][1],\n",
    "        \"Positive electrode LAM constant exponential term\": par_val[sno][2],\n",
    "        \"Negative electrode LAM constant exponential term\": par_val[sno][2],\n",
    "        # \"Positive electrode LAM constant exponential term\": 1,\n",
    "        # \"Negative electrode LAM constant exponential term\": 1,\n",
    "        \"Negative electrode critical stress [Pa]\": 60e6,\n",
    "        \"SEI kinetic rate constant [m.s-1]\":  4.60788219e-16, #1.08494281e-16 , \n",
    "        \"EC diffusivity [m2.s-1]\": 4.56607447e-19,#8.30909086e-19,\n",
    "        \"SEI growth activation energy [J.mol-1]\": 1.87422275e+04,#1.58777981e+04,\n",
    "        \"Lithium plating kinetic rate constant [m.s-1]\": par_val[sno][3],\n",
    "        \"Initial inner SEI thickness [m]\": 0e-09,\n",
    "        \"Initial outer SEI thickness [m]\": 5e-09,\n",
    "        \"SEI resistivity [Ohm.m]\": 30000.0,\n",
    "        \"Positive electrode reference exchange-current density activation energy [J.mol-1]\": 0,\n",
    "        \"Positive electrode diffusion coefficient activation energy [J.mol-1]\": 0,\n",
    "        \"Negative electrode reference exchange-current density activation energy [J.mol-1]\": 0,\n",
    "        \"Negative electrode diffusion coefficient activation energy [J.mol-1]\": 0,\n",
    "        \"Positive electrode OCP entropic change [V.K-1]\":0,\n",
    "        \"Negative electrode OCP entropic change [V.K-1]\":0,\n",
    "    },\n",
    "    check_already_exists=False,\n",
    ")\n"
   ]
  },
  {
   "cell_type": "code",
   "execution_count": 7,
   "metadata": {},
   "outputs": [],
   "source": [
    "# c_rate_d = '2C'\n",
    "# c_rate_c = '1.5C'\n",
    "c_rate_c ='C/20'\n",
    "c_rate_d ='C/20'\n",
    "SOC_0 = 0"
   ]
  },
  {
   "cell_type": "code",
   "execution_count": 8,
   "metadata": {},
   "outputs": [],
   "source": [
    "# pybamm.set_logging_level(\"WARNING\")\n",
    "pybamm.set_logging_level(\"NOTICE\")\n",
    "# pybamm.set_logging_level(\"INFO\")\n",
    "# pybamm.set_logging_level(\"VERBOSE\")\n",
    "# pybamm.set_logging_level(\"SPAM\")\n",
    "experiment = pybamm.Experiment(\n",
    "    [\n",
    "        (\n",
    "        #  \"Rest for 10 minutes\", \n",
    "         \"Charge at \"+c_rate_c+\" until 4.2V\", \n",
    "         \"Hold at 4.2V until C/50\",\n",
    "        #  \"Rest for 20 minutes\",\n",
    "         )\n",
    "    ],\n",
    "    termination=\"50% capacity\",\n",
    "    period = \"10 sec\",\n",
    "#     cccv_handling=\"ode\",\n",
    ")\n",
    "\n",
    "# experiment = pybamm.Experiment(\n",
    "#     [\n",
    "#         (\n",
    "#          \"Charge at \"+c_rate_c+\" until 4.2V\", \n",
    "#          \"Hold at 4.2V until C/50\",\n",
    "#          \"Rest for 5 min\",\n",
    "#          \"Discharge at \"+c_rate_d+\" until 3V\",\n",
    "#          )\n",
    "#     ],\n",
    "#     termination=\"50% capacity\",\n",
    "#     period = \"10 sec\",\n",
    "# #     cccv_handling=\"ode\",\n",
    "# )\n",
    "SOC_0 = 0 \n",
    "\n",
    "# experiment = pybamm.Experiment(\n",
    "#     [\n",
    "#         (\n",
    "#         #  \"Charge at \"+c_rate_c+\" until 4.2V\", \n",
    "#         #  \"Hold at 4.2V until C/50\",\n",
    "#         #  \"Rest for 5 min\",\n",
    "#          \"Discharge at \"+c_rate_d+\" until 3V\",\n",
    "#          )\n",
    "#     ],\n",
    "#     termination=\"50% capacity\",\n",
    "# #     cccv_handling=\"ode\",\n",
    "# )\n",
    "# SOC_0 = 1"
   ]
  },
  {
   "cell_type": "code",
   "execution_count": 9,
   "metadata": {},
   "outputs": [],
   "source": [
    "SOC_0=0.0"
   ]
  },
  {
   "cell_type": "code",
   "execution_count": 10,
   "metadata": {},
   "outputs": [
    {
     "name": "stderr",
     "output_type": "stream",
     "text": [
      "2023-02-15 09:51:01.560 - [NOTICE] callbacks.on_cycle_start(174): Cycle 1/1 (25.245 ms elapsed) --------------------\n",
      "2023-02-15 09:51:01.561 - [NOTICE] callbacks.on_step_start(182): Cycle 1/1, step 1/2: Charge at C/20 until 4.2V\n",
      "2023-02-15 09:51:02.452 - [NOTICE] callbacks.on_step_start(182): Cycle 1/1, step 2/2: Hold at 4.2V until C/50\n",
      "2023-02-15 09:51:03.633 - [NOTICE] callbacks.on_cycle_end(196): Capacity is now 4.849 Ah (originally 4.849 Ah, will stop at 2.424 Ah)\n",
      "2023-02-15 09:51:03.634 - [NOTICE] callbacks.on_experiment_end(222): Finish experiment simulation, took 2.099 s\n"
     ]
    }
   ],
   "source": [
    "sim_long = pybamm.Simulation(spm, experiment=experiment, parameter_values=parameter_values, \n",
    "                            solver=pybamm.CasadiSolver(\"safe\"))\n",
    "sol_long = sim_long.solve(initial_soc=SOC_0)\n",
    "solution1 = sol_long\n",
    "\n",
    "# sim_long1 = pybamm.Simulation(spme_li, experiment=experiment, parameter_values=parameter_values, \n",
    "#                             solver=pybamm.CasadiSolver(\"safe\"))\n",
    "# sol_long1 = sim_long1.solve(initial_soc=SOC_0)\n",
    "# solution1_e = sol_long1"
   ]
  },
  {
   "cell_type": "code",
   "execution_count": 11,
   "metadata": {},
   "outputs": [
    {
     "name": "stderr",
     "output_type": "stream",
     "text": [
      "2023-02-15 09:51:05.274 - [NOTICE] callbacks.on_cycle_start(174): Cycle 1/1 (21.054 ms elapsed) --------------------\n",
      "2023-02-15 09:51:05.275 - [NOTICE] callbacks.on_step_start(182): Cycle 1/1, step 1/2: Charge at C/20 until 4.2V\n",
      "2023-02-15 09:51:06.389 - [NOTICE] callbacks.on_step_start(182): Cycle 1/1, step 2/2: Hold at 4.2V until C/50\n",
      "2023-02-15 09:51:07.627 - [NOTICE] callbacks.on_cycle_end(196): Capacity is now 4.848 Ah (originally 4.848 Ah, will stop at 2.424 Ah)\n",
      "2023-02-15 09:51:07.628 - [NOTICE] callbacks.on_experiment_end(222): Finish experiment simulation, took 2.374 s\n"
     ]
    }
   ],
   "source": [
    "parameter_values.update(\n",
    "    {\n",
    "        \"Initial temperature [K]\": 273.15+45,\n",
    "        \"Ambient temperature [K]\": 273.15+45,\n",
    "    },\n",
    "    check_already_exists=False,\n",
    ")\n",
    "experiment = pybamm.Experiment(\n",
    "    [\n",
    "        (\n",
    "        #  \"Rest for 10 minutes\",\n",
    "         \"Charge at \"+c_rate_c+\" until 4.2V\", \n",
    "         \"Hold at 4.2V until C/50\",\n",
    "        #  \"Rest for 20 minutes\",\n",
    "         )\n",
    "    ],\n",
    "    termination=\"50% capacity\",\n",
    "    period = \"10 sec\",\n",
    "#     cccv_handling=\"ode\",\n",
    ")\n",
    "SOC_0=0.002\n",
    "sim_long = pybamm.Simulation(spm, experiment=experiment, parameter_values=parameter_values, \n",
    "                            solver=pybamm.CasadiSolver(\"safe\"))\n",
    "sol_long = sim_long.solve(initial_soc=SOC_0)\n",
    "solution2 = sol_long\n"
   ]
  },
  {
   "cell_type": "code",
   "execution_count": 12,
   "metadata": {},
   "outputs": [],
   "source": [
    "def plot_vars(solution):\n",
    "    t =  solution[\"Time [s]\"].entries\n",
    "    t = t/3600\n",
    "    V =  solution[\"Terminal voltage [V]\"].entries\n",
    "    I =  solution[\"Current [A]\"].entries\n",
    "    Q = -solution['Discharge capacity [A.h]'].entries\n",
    "    Q_Li = solution[\"Loss of capacity to lithium plating [A.h]\"].entries\n",
    "    I_Li = solution[\"X-averaged lithium plating interfacial current density [A.m-2]\"].entries\n",
    "\n",
    "    I_de = solution[\"X-averaged negative electrode interfacial current density [A.m-2]\"].entries\n",
    "    I_st = solution[\"X-averaged lithium plating interfacial current density\"].entries\n",
    "    I_to = solution[\"X-averaged negative electrode total interfacial current density [A.m-2]\"].entries\n",
    "\n",
    "    # phi_seif = solution[\"X-averaged SEI film overpotential [V]\"].entries\n",
    "    phi_seif = []\n",
    "    # phi_sei  = solution[\"X-averaged negative electrode sei reaction overpotential [V]\"].entries\n",
    "    phi_sei  = []\n",
    "    # phi_sei = 0\n",
    "    phi_pl  = solution[\"X-averaged negative electrode lithium plating reaction overpotential [V]\"].entries\n",
    "    phi_pl_nd  = solution[\"X-averaged negative electrode lithium plating reaction overpotential\"].entries\n",
    "    phi_del = solution[\"X-averaged negative electrode surface potential difference [V]\"].entries\n",
    "\n",
    "    phi_ocp = solution[\"X-averaged negative electrode open circuit potential [V]\"].entries\n",
    "    phi_int = solution[\"X-averaged negative electrode reaction overpotential [V]\"].entries\n",
    "\n",
    "    i0_int = solution[\"X-averaged negative electrode exchange current density [A.m-2]\"].entries\n",
    "    phi_e_avg = solution[\"X-averaged negative electrolyte potential [V]\"].entries\n",
    "    c_e_avg = solution[\"X-averaged negative electrolyte concentration [mol.m-3]\"].entries\n",
    "    c_ss_n = solution[\"X-averaged negative particle surface concentration\"].entries\n",
    "    c_save_n1 = solution[\"R-averaged negative particle concentration\"].entries\n",
    "    c_save_n = c_save_n1[1,:]\n",
    "    c_s_n = solution[\"X-averaged negative particle concentration\"].entries\n",
    "\n",
    "    u_css_n = solution[\"X-averaged negative electrode open circuit potential [V]\"].entries\n",
    "\n",
    "    # j_pl = solution[\"Negative electrode lithium plating interfacial current density [A.m-2]\"].entries\n",
    "    j_pl = []\n",
    "    # eta_pl = solution[\"Negative electrode lithium plating reaction overpotential [V]\"].entries\n",
    "    eta_pl = []\n",
    "    sigma_ts_n = solution[\"X-averaged negative particle surface tangential stress [Pa]\"].entries\n",
    "    sigma_rs_n = solution[\"X-averaged negative particle surface radial stress [Pa]\"].entries\n",
    "    sigma_hs_n = (sigma_rs_n+2*sigma_ts_n)/2\n",
    "    sigma_ts_p = solution[\"X-averaged positive particle surface tangential stress [Pa]\"].entries\n",
    "    sigma_rs_p = solution[\"X-averaged positive particle surface radial stress [Pa]\"].entries\n",
    "    sigma_hs_p = (sigma_rs_p+2*sigma_ts_p)/2\n",
    "\n",
    "    C_n = solution[\"Negative electrode capacity [A.h]\"].entries\n",
    "    C_p = solution[\"Positive electrode capacity [A.h]\"].entries\n",
    "\n",
    "    return t,V,I,Q,Q_Li,I_Li,I_de,I_st,I_to,phi_seif,phi_sei,phi_pl,phi_del,phi_ocp,phi_int,i0_int,phi_e_avg,c_e_avg,c_ss_n,c_save_n,c_s_n,u_css_n,j_pl,eta_pl,sigma_hs_n,C_n,sigma_hs_p,C_p"
   ]
  },
  {
   "cell_type": "code",
   "execution_count": 13,
   "metadata": {},
   "outputs": [],
   "source": [
    "t1,V1,I1,Q1,Q_Li1,I_Li1,I_de1,I_st1,I_to1,phi_seif1,phi_sei1,phi_pl1,phi_del1,phi_ocp1,phi_int1,i0_int1,phi_e_avg1,c_e_avg1,c_ss_n1,c_save_n1,c_s_n1,u_css_n1,j_pl1,eta_pl1,sigma_hs_n1,C_n1,sigma_hs_p1,C_p1 = plot_vars(solution1)"
   ]
  },
  {
   "cell_type": "code",
   "execution_count": 14,
   "metadata": {},
   "outputs": [],
   "source": [
    "t2,V2,I2,Q2,Q_Li2,I_Li2,I_de2,I_st2,I_to2,phi_seif2,phi_sei2,phi_pl2,phi_del2,phi_ocp2,phi_int2,i0_int2,phi_e_avg2,c_e_avg2,c_ss_n2,c_save_n2,c_s_n2,u_css_n2,j_pl2,eta_pl2,sigma_hs_n2,C_n2,sigma_hs_p2,C_p2 = plot_vars(solution2)"
   ]
  },
  {
   "cell_type": "code",
   "execution_count": 16,
   "metadata": {},
   "outputs": [
    {
     "data": {
      "text/plain": [
       "Text(0.5, 1.0, 'C/20 Charge Voltage')"
      ]
     },
     "execution_count": 16,
     "metadata": {},
     "output_type": "execute_result"
    },
    {
     "data": {
      "application/vnd.jupyter.widget-view+json": {
       "model_id": "8b4cfc25001f49acbd8fa1bb7357a28c",
       "version_major": 2,
       "version_minor": 0
      },
      "image/png": "[encoded data removed]",
      "text/html": [
       "\n",
       "            <div style=\"display: inline-block;\">\n",
       "                <div class=\"jupyter-widgets widget-label\" style=\"text-align: center;\">\n",
       "                    Figure\n",
       "                </div>\n",
       "                <img src='data:image/png;base64,iVBORw0KGgoAAAANSUhEUgAAAcYAAAGHCAYAAAAqZvLgAAAAOXRFWHRTb2Z0d2FyZQBNYXRwbG90bGliIHZlcnNpb24zLjUuMSwgaHR0cHM6Ly9tYXRwbG90bGliLm9yZy/YYfK9AAAACXBIWXMAAA9hAAAPYQGoP6dpAAB4l0lEQVR4nO2dd3xT1fuAnyRt070AZaOIICB7CLhARAVEwIFbBARUFBzg9oeIioCiqAUVRRRUEBQBRb+CDJWiIIgLWbL3aJvupknO749L0qSLBHJvcup5Pp98SO49uX369pA3995z3mMSQggUCoVCoVAAYA61gEKhUCgU4YRKjAqFQqFQeKESo0KhUCgUXqjEqFAoFAqFFyoxKhQKhULhhUqMCoVCoVB4oRKjQqFQKBReqMSoUCgUCoUXKjEqqjTp6encdNNN3H777QwdOpQhQ4Ywbdo0hg8fzu7du33aZmdnM2LECADWr19Pp06diI+Pp0OHDvzwww9ljr1ixQoGDBjAAw88wMMPP4zD4TilT25uLi+//DK9evVi0KBB3HPPPTz00EMsWrSIkSNHUlRUxIcffkjHjh2ZNWtWMEIQdDZs2MA111yDyWQiISGBd99912f/oUOHuPXWWzGZTDz44IMUFRWVexwhBIsXL6ZHjx6MGzfOCHWFwj+EQlFFeeWVV0SdOnXEpk2bfLa//fbbAhC7du3y2T5nzhzxzTffiKNHj4p27dqJtLQ0MWPGDHHuueeK6OhosXXrVk/bTZs2ibPPPlscO3ZMCCHEgw8+KB566KFKffbu3SsuvPBCMWrUKGG32z3bDxw4INq1aycGDhwo8vLyxOrVqwUgPvjggzMLgI7k5+eLGjVqiGbNmpW7f/369eLaa6+t9BhOp1Ns3LhRREdHi7Fjx/rs++OPP4KlqlAEjEqMiirJN998IwDx1Vdflbt/+PDhZRLjoEGDhN1uFzNnzhR79uzxbN+xY4eIiooSzz77rGdbr169xO233+55vXbtWmGxWMoc043T6RQXX3yx6Nixo3C5XGX279mzRwwdOtTTNtwToxBCPP744wLw+cLg5rnnnhPLly/36zh169b1SYxZWVliwIABwdJUKAJGXUpVVEmeeOIJGjRoQO/evcvdP2rUKCIiIjyvc3JyiI6OJjIykquvvpr69et79p133nk0a9aMjIwMQLvk+t1339G2bVtPm9atWyOEYMGCBeX+vMWLF7NmzRruu+8+TCZTmf3169fnpptuAsBsluO/5fDhwzGZTGUupQoh+OGHH7jiiiv8Oo7FYvE8Lyws5LbbbuPIkSNBdVUoAkGO/4EKRQBs3bqV33//nUsvvbTCNk2bNqVu3bqe10uWLKFPnz4A1K5du0x7h8NBp06dAPjtt99wOBxUq1bNsz86OprExER+++23cn/evHnzACp16tGjR5ltEydOJDU1lRYtWrBv3z7P9uXLl3Prrbfy5JNP0qZNG958800ATpw4waRJkzj33HNZu3Ytbdq0oUWLFjidTg4fPszw4cOZNm0a9913H7/++qvPz3I6nUyaNIlRo0bRsWNH+vfvz8GDByv0Pffcc7nqqquYNWuWz33EVatWcdlll2EymXC5XEyYMIHRo0czYMAArrrqKrZs2VLhMT/66CN27NjBtm3buPfee/nmm28AmDp1Kvfccw8jRoygTZs2rFq1yud9r776KuPGjWP8+PFMnDixzHFXrFjBww8/TP/+/WnZsiVfffVVhQ4KhbqUqqhyLF68WADi0Ucf9fs97suo5XHgwAHRsGFDUVhYKIQQ4rPPPhOAWLx4sU+7evXqiauuuqrcY7Rt21YAIicnxy8fQPTp00esWLFCbN26VZx99tni4YcfFkJo9/diY2PF//73PyGEEO+8844wm80iOztbHDp0SLzwwgsCEA8//LCYP3++uPfee4UQQlx22WVi6tSpQgghcnNzRd26dUX79u3FsGHDhBBCjBs3Tvz2229CCCEKCgrEhRdeKLp3716p58KFCwUg5syZ49k2cOBAsXv3biGEdrl19OjRnn2PPvqoOPvss0VmZqZnW4MGDXwupQ4cOFBcfvnlnterVq0SgCgqKhJCCHHrrbeKDh06ePbPnDlTtGnTxvN62LBhokmTJqJr165i586dYtu2beKxxx7z7B8/frywWq1ix44dlf5uiv8uEZXkTIVCSnJycgCIioryq31ubq7nMmp5TJo0iVdeeQWr1QrguRQaExPj087pdFZ4jECdAPr160e3bt0AuOyyyzxnWpGRkQwYMIB27doBULNmTVwuF5mZmdSvX5/OnTsDMHDgQFq1asWNN95IZmYmP/zwA0899RQAcXFxtGzZkgYNGjBt2jSKioqYNm0aUVFRfPvttwC0atWK48eP43K5Kry826dPH+rUqcM777zD7bffTnZ2NllZWTRo0IATJ04wZcoUVq9e7Wn/2GOPMXXqVKZOncrYsWP9ikPt2rUZOXKkJ3Y1a9bk559/9uz/8ssvadKkief1lVdeybx58/jjjz+IiopiyJAhCCF4+eWXAbDZbFxyySXs3LmT8847zy8HxX8LlRgVVY569eoB+H2fasmSJVx77bXl7lu7di0RERH079/fs61WrVqA9gHrTW5uLjVq1KjQafv27Rw5csTjdyq8k1FMTAzHjx8HICIigg8++IC1a9eyZMkSj4fL5fJ5X1JSks/7Y2NjOXr0qGdbfHy851Lpv//+i81m4/HHHy/3HmhFWCwW7rnnHsaNG8fmzZv56aefuPnmmwFYs2YNxcXFPh5nnXUW9erVY/369X7/jPPPP5/XXnuNuXPn8tdff7Ft2zbP7wpQvXp1n6k38fHx2Gw28vPziYqK4s8//+SRRx7hlltu8ftnKv7bqHuMiipHhw4dSE5OLnfuoTfueYfLli3jyiuvLLP/yJEjzJgxw3Om4aZp06ZERkb6JJn8/Hyys7Pp2LFjuT/rqquuAqjUqbJ5kO77dW5GjRrFF198wfjx4z2DdiojOjqaV199lTlz5uByuSgsLOSXX37h7rvvBqCoqIjCwkI2b97s874TJ04gTrGW+dChQ7FYLLz99tt8+eWXni8R7veV/oJSs2bNCs+sy8Nms9G9e3eioqJ44YUXaN++vc/+p59+mj179rBjxw5Au8fZt29fkpOTPb/bhg0byhzX/UVDoSiNSoyKKkd0dDSPPvooO3bsYP78+eW2+emnn/jzzz/Jzc3FarWWucSZm5vLE088wWuvveYZvWq328nKyiI1NZVevXr5XM77888/iYqK8gzgKc2wYcOoXr06kyZNKjcBulyuMqM7K2L58uW88cYbPPfccz4jOk9F06ZNiY+PZ8KECbz++ut8+OGH9OvXD9DOyiIjI8tc3pwxY8YpzyDr1KnDtddey/vvv0/Dhg2Jjo4GoG3btlgsljIDZU6cOFHpiNXSP2/y5Mnk5uZy/fXXl9u+Ro0atG3blvfee4+33nqLunXregY7ATRv3px3332XAwcOeLalp6fzzz//VPp7Kf67qMSoqJI8+eST9O3bl0GDBvHJJ5/4nG0tXbqUHTt20KZNG7766qsyl1ELCwsZMGAAF198MWvXruXbb79l4cKF3HrrrZ42zzzzDN9//z35+fkAfPjhh4waNcpnpKs3KSkpfP755+zYsYN+/fqxf/9+z77MzEzGjRvn+eB3Op0APs7e2wsLCwFtBOcff/zBBx98AGjJ+ffff/e8r3TFmTvuuIN27dpx3nnncd5552Gz2dizZw+gXX584IEH+Pzzz+nVqxdvv/02Q4YMqfDScGnuvfde8vPzGTRokGdbvXr1GDx4MO+9955nqsvvv/+Ow+Fg8ODBPr+X+3cD7f7nnj17yMzM5LvvvvOcyaanp/P999/z3XffYbPZSE9PJyMjg0mTJpGbm0uLFi2oUaMGderUYePGjZ44jBkzhtzcXDp37szkyZOZMGECr776Kpdccolfv5viP0iIB/8oFLrhdDrF9OnTRfv27UXDhg3F1VdfLQYOHOgz6X/w4MGe0Y5uevfuLYAyj9KVXBYuXChuueUW8cADD4inn35aOJ3OUzpt375d3HXXXaJ+/fqiXbt24sYbbxRPP/20OHHihBBCGy36zDPPCED06NFDbNq0Sfzvf/8T55xzjkhISBBffPGFsNvt4tprrxUJCQnitttuE5s3bxapqanijjvuEFu2bBE33XSTAMRNN90ktm3b5vnZQ4cOFWeffbaIiYkRZrNZAMJisYgFCxYIIYQoLCwUI0eOFMnJyaJ27dpi4sSJfsfa5XKJfv36ldnuPmabNm3EvffeK4YMGeJTPME9orZVq1bixx9/FEIIsXHjRlG7dm1x0UUXicOHD4udO3eK5s2bixo1aojnn39efPnllyIxMVG8/vrrQgghfvjhB5GSkiKSkpJERESE5+/l7bNw4ULRpEkTER8fL/r27SuOHj3q9++m+O9hEuIUNxAUCoX05OXlMXLkSGbMmOEZnGO32/nrr794+eWX+eyzz0JsePqMHz+evn370rJlS0A70z5+/Dh33303s2fP9plvqlD4g7qUqlD8B3jppZdo2LChz0jXqKgoGjZsSOPGjUNodmZs2bKFjz/+2JMUQRuVe9ZZZ3HeeeeRmpoaQjuFrKjpGgrFf4BDhw6xbNkyGjZsSNeuXYmPj2fz5s1Mnz6dKVOmhFrvtDly5Ajbtm3j8ccfZ/DgwdStW5fjx48za9YsunbtGtDUE4XCjbqUqlD8B8jNzWXixInMnTuXffv2Ua1aNfr27cu4ceP8HmATrixevJiJEyfy119/IYTgoosu4plnnuHyyy8PtZpCUlRiVCgUCoXCC3WPUaFQKBQKL1RiVCgUCoXCC5UYFQqFQqHwosqPSnW5XBw8eJCEhAQ1Qk2hUCj+owghyMnJoXbt2qdcDLzKJ8aDBw/6vZqBQqFQKKo2+/btq7B0o5sqnxgTEhIALRiJiYmnfZyMjAzpJgsrZ/2RzRfkc5bNF5SzEQTqm52dTb169Tw5oTKqbGJMS0sjLS3NU5w4MTHxjBKjw+E4o/eHAuWsP7L5gnzOsvmCcjaC0/X155ZalZ/HmJ2dTVJSEjab7Yz+6EII6e5RKmf9kc0X5HOWzReUsxEE6htILlCjUv2k9GrtMqCc9Uc2X5DPWTZfUM5GoKevSox+UnptPBlQzvojmy/I5yybLyhnI9DTVyVGP4mMjAy1QsAoZ/2RzRfkc5bNF5SzEejpqxKjn8TExIRaIWCUs/7I5gvyOcvmC8rZCPT0VYnRT7Kzs0OtEDDKWX9k8wX5nGXzBeVsBHr6hkVitNvttGrVilWrVpXZl5eXx2233UZiYiKtW7fm559/Nl5QoVAoFP8ZwiIxTp48md27d5e77/XXX+eaa65h5cqVNGjQgL59+5KXl2esIBAXF2f4zzxTlLP+yOYL8jnL5gvK2Qj09A35BP/09HRq1apFSkpKufu7dOlCt27dAJg9ezbVq1dn8+bNdOjQwUhNT6EAmVDO+iObL8jnLJsvKGcj0NM3pGeMeXl5zJ8/n8GDB1fYxp0UQatek5CQQJ06dYzQ86GwsNDwn3mmKGf9kc0X5HOWzReUc6BkZsLTT8NNN2mP3NyTO44cgccegylTyrxHT9+QnjFOnDiRJ5980u/227dv55JLLqF27doVtikqKqKoqMjzWrYbyqdi1apVPPTQQ+zdu5f+/fuTkZHBkSNHmDhxIpdeemmo9RQKhSIgtm+Ha6+FbdtKtr37LvDvv3DFFbB3r5YtDSRkifHbb7+lffv2nHXWWX6/Z9q0abz66quVtpkwYQLjxo0rsz0jIwOHw0FycjI5OTk4nU4iIiKIi4vzVFCIjY1FCEFBQQEAycnJ5Obm4nA4sFgsuFwusrKyAG2osMlkIj8/H4CkpCTy8vI8bRMTE8nMzAQgOjoai8XiuTeamJhIQUEBxcXFmM1mkpKSfNpGRESQe/IrU0JCAkVFRdjtdkwmE127dqV79+6sWbOGN954g8jISEaPHk3Pnj3Ztm0bSUlJni8GKSkpZGZmIoQgKioKq9VKTk4OAPHx8RQXF3vapqamkpWVhcvlIjIykpiYGM+Xiri4OJxOp+cbWkpKCjabzdM2Nja20hhWFm/AJ4YWi4WMjAwsFgsJCQmVxjs/P7/CGFYW7+TkZDIyMgCwWq1ERkZWGO+UlBSftlFRUT4xjIqK8uxPTU2tNN4Oh6PCGJ4q3tnZ2X73We94x8fHl4mhEIKMjIwyfbZ0vM1ms999tnS8CwsLK4zhqeJdOoZu3/L6rHfb6Ohov/ts6Xi7XC6/+2xlnxHuGLrbhOIz4lTxttvt5cYwMjKS4uJiQz8jfvopgrvvTiAz07e0W2ZmJiImhuSzz8a8dy/27GxyS/VZs9l8ys9k78+IgMrdiRBx5ZVXimrVqnkeZrNZJCYmiokTJ5bbfuXKlWL+/PmnPG5hYaGw2Wyex759+wQgbDbbGflmZWWd0fuDydixY8XFF1/seb1p0yYBiAULFvi0Cydnf5HNWTZfIeRzls1XCOXsDzNmCBERIQRoj+bNhVizRoh9+4RwOk82OnRIiP79hfjrrzP2tdlsfueCkJ0xfvLJJz6XPDt37syUKVO4+uqry7TdsWMH//zzD/fdd98pj2u1WrFarUF1hfC+Me3+xlS9enVAu3w8fvx4hBD8/vvv3Hnnndx1110++6Kjo/n55589+9avX8+LL75I27ZtKS4uZsaMGVx++eW88cYbDBkyhB9//JHJkyczbNgwXX+XcI5zecjmC/I5y+YLyrkyXC544gmYPLlkW8+eMPfDIhLtx8F7DEnNmvDFF+UeR0/fkCXGGjVq+Ly2WCzUqFGDxMREJk2aRO/evWnevDkHDhzgzTff5OGHH2b37t3YbDbS09P9SpKnQ/v2cPhw2e1CJKNn4fmaNeHXXwN/X0ZGBs888wxXXnkll112GQDDhg1jyJAhXHTRReTk5HDeeefRpEkTLrroIs++Hj16cODAAc++1q1bU1BQwIYNG5g+fTrDhw/n3HPP5cILL2TBggUsXbqU+++/X/fEGBER8oHSASGbL8jnLJsvKOeKyM+HO+/0zXUjR8KrTx4n4vr+cPw4rF0LycmnPJauvgGdi+pIgwYNxMqVK4UQQrRt21bMnz9fnDhxQjRq1EgAPo+5c+f6fdxATp+FEKJOnZJTeyMfder4H6uxY8eKunXrioceekjEx8eLsWPHiqKiIiGEEEeOHBFms1nk5OQIh8MhhBCiT58+4p577vHZ58a9Twgh7rrrLjF27FjPvrp163r+Jv/++68wmUz+S54mbmdZkM1XCPmcZfMVQjmXx6FDQnToUPKZZ7EIkZYmhPjnHyEaNizZcd11uvhKcSm1NN4T/Dds2OB5vn37dkM9atYsf7vL5cJs1m92S0U/tyKqVavGa6+9xp49e1i6dClPP/00ADt37sTlclFcXIzdbic1NZWGDRuydetWn31u3Pug7AKeFovF89xsNiMMWLrTZrNJtYq4bL4gn7NsvqCcS/PXX9C7tzbAFCAhAT77DK6J/B463QDuJaRq1oRnngm5b9gkxnChosuZGRlZYdnR33//fdq0acNTTz3F5MmTqV+/PgBbtmyhSZMmgLagZ5MmTXz2de7c2WefQqFQ6MF332mzLdwz5+rVg6++gpa/zID77weHQ9vRqhUsWaI1CDFhURJOBtxTC8IBh8PhufGckpLCp59+ytSpU1m8eDG1a9emT58+zJw50+O8ceNGhg4d6rPPjXsfaEnyVGeFep81hlOc/UE2X5DPWTZfUM5u3nkHevUqSYrt2sEv6U5afjQahg0rSYrXXgs//hhQUtQzxiox+okRlxH9YeXKlXz11Vfs2LGDTz75hIKCAjp37sz48eO5+eabGTt2LG+++SaHDx9m+PDhjB49mkcffZTmzZsD2hnm4cOHGTJkiM++zZs38/PPP7Nq1Sr+/fdflixZwuHDh/n88885cOCAJ5m+9957uv5+4RJnf5HNF+Rzls0XlLPLBWPGwL33gnvwaN++sPrrXGqNuB6856M//DB8+aV2fTVEvqUxCRn/ggGQnZ1NUlISNpuNxMTE0z5ORkZGWF5KrQzlrD+y+YJ8zrL5wn/bOS9PG3m6cGHJtkcegUmTwDLjbXDPKLBYIC0Nhg83xDeQXKDuMSoUCoUiKOzZo50Z/v679tpigTffLMmFDB8OP/2k3WScPx969AiZa2VU2TPGtLQ00tLScDqdbNu27YzPGPUelaoHyll/ZPMF+Zxl84X/pvNPP8H118OxY9prz8jTa0o1LCyEffvg/PNPX5bAfQM5Y5TrLxcAI0aMYPPmzaxfvz4ox3PXD5QJ5aw/svmCfM6y+cJ/z/n997V63+6keN558MtPxVzz9YOwfLlv4+joM06KoG+Mq2xiDDaqxJMxyOYsmy/I5yybL/x3nB0ObezMPfeAe3p09+6wfukxmo7sAW+9BQMGwI4dQbatoiXhZEOVeDIG2Zxl8wX5nGXzhf+Gc2Ym3HKLNk/RzYMPwqt3/U7kVX21G46gjcb5809o1CiItvrGWL6/XoiIj48PtULAKGf9kc0X5HOWzReqvvPWrXDddSVrKEZEwLRpMDR5Plx+t1YUFbRKNgsXQqdOIfUNFHUp1U/cK1jIhHLWH9l8QT5n2Xyhajv/739w0UUlSbF6dfh+mYuhe5/VLpu6k2LHjlopMR2SYiC+p4NKjAqFQqE4JULAhAnaElHu0qYtWsCGZRlcNulaeOGFksZ33gmrV/suISUR6lKqn8TExIRaIWCUs/7I5gvyOcvmC1XPOScHBg70nbTfrx/M/tBF/OXdYdMmbaPZrC20+PDD6LpO3yl8zxR1xugnpVeekAHlrD+y+YJ8zrL5QtVy3rpVuyrqToomEzz/PHz+OcQnmuG557Qd1atrI3EeeUT3pFiZbzBQidFP8t3XzUPMihUraN26NUlJScyZM4eioiJsNhtvv/02ERERXHHFFaxbtw4IH+dAkM1ZNl+Qz1k2X6g6zl9+CR06wJYt2uukJK1ozbPPaieHgFbq5p13YMMGba5GCH2DhUqMknHFFVfQp08fLrzwQu644w6sVitJSUnce++9nH322dxxxx107Nix0mP88ccfrF692iBjhUIhG06ntixi//7aZVSACy+E3746QK8/J2o3HL0ZNgxOLmtXFVCJ0U+SkpJCreDBYrGUexnBZDL5lEgqz9lms3HXXXeFbfX/cIqzP8jmC/I5y+YLcjtnZmqrQL34Ysm+AQNg3aRVnHtDW3jiCXj33RBZlqBnjKtsYkxLS6NZs2Z06NAhKMfLy8sLynGM4p9//mHEiBE8+eSTdOvWjV9PrsD82WefsWvXLt59910+/PDDEFuWRbY4y+YL8jnL5gvyOv/xB7RvD99+q20zm+GVyYK57V8hps+VcPSotmPKFLDbQyeLvjGusqNSR4wYwYgRIzyFYwNiyhTt4UW8y+V1Uf0kbdvC4sW+2667DjZuPPXPeOQR7XGa7NmzhyeeeMJnW/bJ1UALCwu58cYb+frrrznnnHOYP38+vXv35t9//2Xo0KG8+OKLDBs2jK5du572z9cLh3vhUkmQzRfkc5bNF+R0nj3bzJgxUFCgva5eHT5/P4vLPhwCX3xR0vCqq+CTTyAqKjSiJ9EzxlU2MZ4R2dlw4IDPpnJPrctbbfrYsTLvrfBnnAENGjTg5Zdf9tk2Z84cAL7++mtiYmJISUkB4Prrr2fYsGEsWrSI22+//Yx+rt5YLJZQKwSEbL4gn7NsviCXc0GBVsrt/fdLKsm0awdfPfcrNUcOgF27Sho/84w2CjUMfj89Y6wSY3kkJpaZmCqAMnf1atQo+94aNfyb1HoGS2Cdiu3bt1NcXEzCyRWxLRYLDRo0YP/+/br9zGCREOAq3qFGNl+Qz1k2X5DHeft2uOmmkvUTAYbeI3ir2TSibnik5HJpSgp89JF28zFM0DPGKjGWRzmXOTP9XS269KXVEFC/fn127drF0aNHqVmzJgBCCJo0aRJis1OTlZUl1crnsvmCfM6y+YIczgsWwODBJaNOY2MFb79t4s6jU+CR0SUNO3WCefPCbtSpnjGusoNvqjIOh6PcJVfsdjtOp5N+/foRFxfHokWLAK0DFRcX07NnTwCioqLIzMxk69athnorFIrQY7fDqFHamaI7KV5wASxbls2ddwKDBpUkwUce0Uq7hVlS1Bt1xugn4VLiafXq1Xz99dds376dWbNmceutt1JYWMicOXM4duwYn376KS1btmTJkiWMHDmS7du3U1RUxIIFC7BarQDcfvvtjBw5kunTp4fdWWS4xNlfZPMF+Zxl84Xwdd67V5t68csvJdtuu02bn2+xnBxMk5oKn30Ghw5pdd/CFD1jbBLhOqEtSLhHpdpsNhLP4L5eUVGRJ7HIgnLWH9l8QT5n2XwhPJ2XLtVqe2dkaK+jomDay9kM3vYEprH/R1FKStg5V0agMQ4kF6hLqX4i67wk2ZDNWTZfkM9ZNl8IL2e7HR57DHr3LkmK554Lm977lSHT2mF6ezrcdht5ZzhS3mjUPEaFQqFQBMzOnXDrrXCyfDIA/a5z8XG7KcQOeQqKi7WNGzZg2bat/JH2/0HUGaOfnMll2FChnPVHNl+Qz1k2XwgP57lzoU2bkqQYGQnTxx7mi8KexI4dU5IUO3SAjRuJu+ii0MmeBnrGuMomxmCXhCtwl4OQCOWsP7L5gnzOsvlCaJ3z8mDIEO1M0X11tFEj+PuVb7h3eitM331X0vjxx+Gnn+C886SLs56+VfZS6hmVhCuHYve3K4lQzvojmy/I5yybL4TO+Y8/4OabS5aJArj71iLeSX2SqFGvlWysWRNmz4Yrr/Rski3OevpW2cQYbMyl66RKgHLWH9l8QT5n2XzBeGchYNo0ePRRKCrStsXFadvuqrECenklxd694YMPytxPlC3Oevqq6Rp+IoSQblVu5aw/svmCfM6y+YKxzhkZ2qXTL78s2da6tVaspnHjkxuGDYMPP4TJk7XCqOW4yRbnQH3VdA0dyMzMDLVCwChn/ZHNF+Rzls0XjHNevhxatPBNimOGZ/PzWlGSFAFeew3Wr4eRI8tNiiBfnPX0VYlRoVAoJKOwUKvW1qMHHDyobatWDdY+9z8mLb4A67yPfN8QFwctWxovKikqMfpJdHR0qBUCRjnrj2y+IJ+zbL6gr/Mff2gzLF7zvm3YLZ/d1z5Ap+eu0Uq5Pfig73JRfiBbnPX0VYnRT2RaX82NctYf2XxBPmfZfEEfZ5dLWz+9Qwf46y9tm9UKnzy8niUH2hD/YVpJ4y5dIMDEIVuc9fQNi8Rot9tp1aoVq1atKnf/4sWLefDBBxk6dCjLly83Vu4k4VTiyV+Us/7I5gvyOcvmC8F33rdPu2z66KMlSyS2aeFgz5DnufWNzpi2bdM2xsRAWhp88w3UqhVSZ72p8iXhJk+ezO7du8vdt2XLFl544QV++eUXXC4XHTp0YMmSJdTxZzFghUKhkJx58+DeeyErS3ttMsGEwdsZ8+edmKd5LZPRoYM2NzHMVsyRkZCfMaanp1OrVi1SUlLK3f/6669zzTXXYDKZsFgsdO7cmenTpxtsGR4lngJFOeuPbL4gn7NsvhAc58xMbTWMW24pSYp168KGl5fx+KetMa87mRQtFhg7FtasOaOkKFucq2xJuLy8PObPn8/gwYMrbLNixQoaNGjged24cWNWr15dYfuioiKys7N9HsGgsLAwKMcxEuWsP7L5gnzOsvnCmTt/8w1ceCHMmVOy7ZZbtIE3bQa3AXdSOP98LSE+95xWDPUMkC3OevqG9FLqxIkTefLJJyttc+DAAVJTUz2v4+PjOegen1wOEyZMYNy4cWW2Z2Rk4HA4SE5OJicnB6fTSUREBHFxcdhsNgBiY2MRQnhq8CUnJ5Obm4vD4SA/P5/Y2FiyTn51i4mJwWQykZ+fD0BSUhJ5eXk4HA4sFguJiYmeeTbR0dFYLBbPNfHExEQKCgooLi7GbDaTlJTk0zYiIoLc3FwAEhISKCoqwm63YzKZSElJIePk2jFWq5XIyEiftna7nSJ36Qu0uT5CCKKiorBareScXLI7Pj6e4uJiT9vU1FSysrJwuVxERkYSExPj+VIRFxeH0+n0dMSUlBRsNpunbWxsbKUxrCzegE8MbTYbdrsdi8VCQkJCpfHOz8+vMIaVxTs5ObnSGFYW76ioKJ8Y5uTkYD950yc1NbXSeDscjgpjeKp4Z2dn+91nveMdHx9fJoYZGRnY7fYyfbZ0vM1ms999tnS8CwsL/e6zpeNdOoZu3/L6rHfb6Ohov/ts6Xi7XC6/+2xFnxHeMczNzcVisQT8GXHoUB7PPhvLnDklA2cSEgTTpkGvXpkIAfmxsUS+8w7OhQvJf/55EmrWpCg397Q+I7xjWFhYKMVnhDuG/nwme39GBFS8QISIb775RixatMjzukGDBmLlypVl2sXFxYmlS5d6Xk+bNk00adKkwuMWFhYKm83meezbt08AwmaznZFvRkbGGb0/FChn/ZHNVwj5nGXzFeL0nJctE6JePSG0Am/a4/bL9oq8awcIcfCgDpa+yBbnQH1tNpvfuSBkZ4yvvvoqv/32m+d1ZmYmffv25emnn+axxx7zbK9du7bn2wNATk4OtWvXrvC4VqtVl1WoK7oHGs4oZ/2RzRfkc5bNFwJzzs3VFhL2HjoRHyf4+oaZXPrlI5iys2F4ASxaVGHVmmAgW5z19A3ZPcZPPvmETZs2eR61a9fmvffe49577/Vp1717d7Zv3+55vWPHDrp162a0rufShEwoZ/2RzRfkc5bNF/x3Xr1aK0jjnRQHdN7H0XY9ueyje7SkCLBxozZxX0dki7OeviFLjDVq1KBu3bqeh8VioUaNGiQmJjJp0iT+/vtvAIYPH86yZcsAcDgcrFu3jqFDh4ZKW6FQKM6Y/Hx46CHo2rWkQE1sjOD7295n7t8XEvPD/0oaDxqkzeiv5EqZIriExTzG0sybN4+GDRvSvHlzWrduzaBBgxg9ejR2u53XXnuNmjVrGu6kx+VZvVHO+iObL8jnLJsvVO68ciUMHQr//luybUCHXXxgvZfYT7wWEa5dG2bMgF69dDQtQbY46+kbNonRe4L/hg0bfPYNGjTIYJuyRJ7hUOhQoJz1RzZfkM9ZNl8o3zkrC8aMgffeK9kWHQ2L+s6kx5IHMZ0cTQnA3XdrxVCTk/VW9SBbnPX0DfkEf1lwD3eWCeWsP7L5gnzOsvlCWecvv4RmzXyT4iWXwKZNcNXNKSVJsW5d+OorbSFhA5MiyBdnPX3D5oxRoVAoqhqHD2sLXSxYULItPh4mTYLhw8FsBpr0hxtvhJo14cUXSybvK0KGSox+kpCQEGqFgFHO+iObL8jnLJsvQHx8ArNmaWsmeq+n+1inH3im2Rck3Pua79SLuXO10m4hRLY46+mrLqX6iXc1GVlQzvojmy/I5yyb765d0LOniUGDSpJiw9Qstl8xnIk/X07CzKnw+ee+bwqDJZ9ki7Oeviox+om77JdMKGf9kc0X5HOWxbe4WLtEeuGFsGKF+2Kc4I1LPmNbZDMarXi3pPHHH4fEsTJkibMbPX2r7KXUtLQ00tLScDqdQTleQHX2wgTlrD+y+YJ8zjL4rlmjLQ3lXkAY4JKaO/ii9gPU+MlrTmJ8PEyYAPfdZ7zkKZAhzt7o6WsSQgjdjh4GZGdne4pTy7asikKhCG8yMuDxx31Hm8aYClnQYSI9f5+AyftyX+/eMG0a1K9vvKgioFygLqX6Sab3HXRJUM76I5svyOccjr5CwEcfacsfeifFy1tlkVGvJb3WPVeSFOvWhS++gCVLwjophmOcK0NPX5UY/UTGE2vlrD+y+YJ8zuHmu2ULXHEFDBwIx49r2xIS4I034PsNyUR3bKVttFhg9Gj45x/o31/XAuDBINzifCr09K2y9xiDTVRUVKgVAkY5649sviCfc7j4FhTASy/BxInaQBsAM05uuNHM61NNJaVMX38dh81GxKuvQosWIfMNlHCJs7/o6avOGP1EtjqCoJyNQDZfkM851L5CwMKFWuWaF14oSYo31lpDRqOOfHb9XN/63nXqIL7+WqqkCKGPc6Do6asSo5+4V7WWCeWsP7L5gnzOofTdsgWuuQauvx7c5ZzrRxxk44V3Mv/QJSTt2AgPP6wVQvVCthiDfM56+qrEqFAoFKXIydEKfrdoAd+dXPAiiiJmNJrIrsjGtPlrTknjmjXhyJHQiCp0Qd1j9JP4+PhQKwSMctYf2XxBPmcjfYXQ5t4/9pjvusB31/iaNy0PEb9jR8nG1FSttunQoWUq18gWY5DPWU9fdcboJ8XuGwsSoZz1RzZfkM/ZKN9Nm+DSS+HOO0uSYrPI7Ww5/1o+OHYt8YdPJkWzGe6/H7Zv12b1l1POTbYYg3zOevqqxOgnstURBOVsBLL5gnzOevsePaoVomnXTqtg46ZvX1jbfyJNtn9dsvGyy2DjRkhL084YK0C2GIN8zqpW6mmQlpZGs2bN6NChQ6hVFApFGFJYqE29aNQI3n4bXC5te+PG8M032hqKiVNf0CYp1q2rrYCxahW0ahVKbYUBqJJwCoXiP4UQMH++VsrNPdIUBP2jv+Xu/jaumXULPlPkfvoJ2rSBuDjjZRVBQ5WE0wHZyiWBcjYC2XxBPudg+q5bB5dcAjffXJIUW5n+4O86V/NFYS+u+98IovJK/bxLLgk4KcoWY5DPWZWECwNkPLFWzvojmy/I5xwM37174fbb4aKLID1d23Y2h/m6zlB+M7Wh2YFl2saMDPjwwzP+ebLFGORzViXhwgDZyiWBcjYC2XxBPucz8c3KgsmTYcoU7Z4iQAz5TKg+hRG5LxNxIK+kcYMG2k3HAQPOTBj5YgzyOevpqxKjn0RHR4daIWCUs/7I5gvyOZ+Ob26uVtR78uSSojQRFDMybibPR4wj7rjXJMXERHj6aRg5EoIUG9liDPI56+mrLqX6SXZ2dqgVAkY5649sviCfcyC+hYXw2mvQsKGW69xJMTISFl36Kq/m3Uuc7WRStFhgxAjYsUOb0R/ED1rZYgzyOevpqxKjQqGQnuJieOcdberFI4/AsWPadrMZBg/W5uL3WjQckpO1Hf36wZ9/wltvQY0aodJWhCnqUqqfxEk4VFs5649sviCfc2W+Tid88gk89xzs3FmyvT3rubvTVnp8eAeNG7u3pmjZs1496NxZT2XpYgzyOevpqxKjnzidzlArBIxy1h/ZfEE+5/J8hYAvvoD/+z/YvLlke2O2MrPWM1x8aAH8GQfJVwFnlTQIwsAaf5AtxiCfs56+6lKqnxS6h7RJhHLWH9l8QT5nb18htKo07dvDjTeWJMXz2MH/ag1ki7mZlhQB8vK0S6UhQLYYg3zOevqqM0aFQiEFq1drA2q865mey07eOOsFeh//CNMhrzOIs8/WTifvucd4UYX0VNnEmJaWRlpaWtBOt1NSUoJyHCNRzvojmy/I57x9ewrPPgvLlpVsa8BuplR7kX5ZszAfdZTsSEmB0aNh1KiQlnCTLcYgn7OevlX2UuqIESPYvHkz69evD8rxbDZbUI5jJMpZf2TzBXmc//hDGzzaqZPJJyk2bQqL75jP9Sfew+w8mRSTk2H8eK3O21NPhbyuqSwx9kY2Zz19q2xiDDYud+l9iVDO+iObL4S/87ZtcOut0Lo1LFpUsr1hQ/joI22WRcu374ezztIm548dC7t2wTPPaK/DgHCPcXnI5qynb5W9lBpsIiMjQ60QMMpZf2TzhfB13rMHnn9eK1XqvgNSj72Mj51Am07RNP32NTzqcXHasNRmzbTLp2FGuMa4MmRz1tNXJUY/iYmJCbVCwChn/ZHNF8LP+dAheOklbYqhe1H2c9nJuOgJ3Fb8IZb8YvgpCo6Ohjp1St548cWhEfaDcIuxP8jmrKevupTqJ7KVSwLlbASy+UL4OGdmwhNPwHnnabMqiovhfLbxceTd7DA35s7C97A4T2bKqCjYuDG0wgEQLjEOBNmc9fRVZ4wKhcJQ8vPhzTfh5ZdLapk2ZTNjLS9yk2su5mKve0eJiRQMHUrMk09CtWoh8VX89whpYkxPT2fIkCEcOnSIgQMHMnXq1HLbvfTSS7hcLsxmM/n5+YwfPx6TyWSoq2zlkkA5G4FsvhA6Z6cTPvhAGytz8GDJ9tctj/Cg83XMTq/19VJS4KGHYORIzDExYLUa7nsmqH6hP1WyJFxubi4rV65kzZo1rF27ln79+tGnTx+uvPJKn3ZfffUVu3btYsaMGQAMHjyYzz77jJtvvtlQX9lGbIFyNgLZfCE0zj//rC1k4X011GyGgQPhzvPOx/zMyaRYrRo8+qjW+OQIU1dBgeG+Z4rqF/qjp2/I7jFGRETw1FNPkZqaSu/evWnTpg0Wi6VMu3/++YecnBzP65iYmJDMtymQ8D+nctYf2XzBWOeMDBgyRKvZvXEjNORfanGQvn21eYozZ0Lq6MHQtq22eOLu3fDkkz7TLlSMjUE2Zz19Q3bG6L3IZF5eHi1atKBr165l2l177bWMHTuWBQsW0L17d44fP86dd95Z4XGLioooKiryvJbthrJCUVX49lttyadDh6Aax3me/2MoMzjR6y5qfvl+SUOrFX79FQy+PaJQVETIB9+kp6fzxBNPUKtWLQoKCoiNjfXZ37RpU+bMmcMdd9zB5Zdfzueff17pMN0JEyYwbty4MtszMjJwOBwkJyeTk5OD0+kkIiKCuLg4zxlobGwsQgjPN5Hk5GRyc3NxOByYzWZcLhdZJ0cLxMTEYDKZyM/PByApKYm8vDwcDgcWi4XExEQyMzMB7UuAxWIhLy8PgMTERAoKCiguLsZsNpOUlOTTNiIigtzcXAASEhIoKirCbrdjMplISUkhIyMDAKvVSmRkpE9bu93u+WKQnJxMZmYmQgiioqKwWq2es+/4+HiKi4s9bVNTU8nKysLlchEZGUlMTIznS0VcXBxOp9NTtDclJQWbzeZpGxsbW2kMK4s34BNDs9lMRkYGFouFhISESuOdn59fYQwri3dycnKlMaws3lFRUT4xjIyM9OxPTU2tNN4Oh6PCGJ4q3tnZ2X73We94x8fHl4mhy+UiIyOjTJ8tHW+z2ex3n/WOd2RkIo88InjvvUgsOBjB24znWVLQjn32t7PI+mUYrvPPLzfepWPo9i2vz3q3jY6O9rvPlo63y+Xyu89W9BnhHUP38cL9M8I7hhERERQXF4f9Z4Q7hv58Jnt/RgQyLsUkhBCnbqYfhw8f5ptvvmHMmDEMGDCAadOmlWkzf/58kpKSGDFiBBdccAFffPFFhZM7yztjrFevHjabjcQzqIphs9lISko67feHAuWsP7L5gr7O+/dD//7aCWBbNvA+Q2jN7yUN4uO1e4iPPOJ3lRoVY2OQzTlQ3+zsbJKSkvzKBSGfx1izZk0GDRrEK6+8wurVq8vsX716Nb/++itXXXUVq1evZtOmTUyZMqXC41mtVhITE30ewUC2tcpAORuBbL6gn/OaNdpyUJt+Leb/GMfPdPJNigMHwvbt2qrCAfy/VDE2Btmc/xPrMbZv35463lUtTjJ//nwaNmwIQO3atXnhhRf48ccfjdYjIiLkV50DRjnrj2y+oI/zjBnQrRtYj+whnS6M4zkiOVngu1UrSE+HWbOgZs2Aj61ibAyyOevpG7LEWFhYyIYNGzyvly5dyqhRowCYNGkSf//9NwCtW7fmt99+87SzWCx07NjRWFnkm+MDytkIZPOF4Drb7XD//TBsmFa55i4+ogO/ajstFm1NxHXrtGGpp8l/PcZGIZtzlZzHuHXrVnr16kWjRo3o0qULHTt2pHfv3gDMmzePhg0b0rx5cwYPHszevXt5+eWXqV69Ovv27eOpp54y3Ndms5Gammr4zz0TlLP+yOYLwXM+cgRuugm8L+DkjXwK15Y1mP/dAXPnatdWz5D/coyNRDZnPX1DlhhbtWrFkSNHyt3nfSZpNpt5/vnnjdJSKBR+sG4dXH89HDggABNWq1YEfOBAC2R+qjUKw1UvFAp/CJt7jOFO6WkkMqCc9Uc2XzgzZyG0+4mXXQZRB3byM53oU+NnfvhBG1sDaAkxiEnxvxbjUCGbs56+ct1tDSEhntVyWihn/ZHNF07f+fhxGDoUvvwSruZbPuE2UslkoeUGLPU3AIEPrPGH/1KMQ4lsznr6qjNGP5GtXBIoZyOQzRcCdxZCu13YogUs+tLFU7zIUnqRijbh3JKUAF5lG4PNfyHG4YBszlWyJJxCoQh//v4bHnwQVq6EOuznO+7mSr4vadC3L3z0UUDzEhWKcEedMfpJcnJyqBUCRjnrj2y+4J/ztm1wxx3aWeLKlYLbmcOftChJiiYTjB8PX3yhe1KsqjEON2Rz1tO3yibGtLQ0mjVrRocOHYJyPHetQZlQzvojmy9U7rxpE9x1FzRtCh9/DOeKf1lFV+Zwp6fWKXXqwHffwTPPaGtHhdA3XFHO+qOnb5VNjCNGjGDz5s2sX78+KMdzOBxBOY6RKGf9kc0Xyjo7ndqJ3+WXQ5s2MHs2uJe6s6bE0claUmCDW26BP/+EUuumGukrA8pZf/T0rbKJMdiUt1ZkuKOc9Uc2Xyhx3r8fXnwRzjsPbrgBfvgBzuYwoM22ePFF+GVPTawTxkGjRvD11/Dpp4bPT5Q5xjIhm7OeviFfXUNvAqmoXhkulwuzAZeNgoly1h/ZfIuK4MsvXcyaZeZ//9NGnJpw0ZNvGMkbdGMln760mxserE18/Mk3FRdrp5BWa0icZYsxKGcjCNRXqtU1ZMG95pdMKGf9kcFXCPjtNxg1CmrXhltuMfPtt1BDHOERXmUbjfmaa7ma74iimIEFb5ckRYDIyJAlRZAjxqVRzvqjp6/f0zUCWehRCIHZbJbumrVCUZXYvl278vnpp7Bli7YtEjv9+Yq7mUUvlhJBqaV7zj0X6tc3XlahCCP8TowjRozgzTff9PvADz744GkJhSsxMTGhVggY5aw/4eZ74ADMm6clw19/9d13L9MZz7NU50TZN155JYwcCb16aatihBHhFmN/UM76o6ev34kxMjIyoAMH2j7c8fdsOZxQzvoTDr5Hj2pl2j79FFav1i6damgFvkGrbXpjw3iqz/JKinXranMzBg6Exo0NtvafcIhxoChn/dHT1+/E+PDDDwd04ClTpgQsE87k5+cTHR0dao2AUM76Eyrffftg4UJtmsWPP5ZMrziHXdzMPG5hLh+c9yL17u3NzTdDvXpA3vWwdDRFl16Kddgw6N497M4Oy0O2PgHK2Qj09PU7Md51113MnTuXs88+WxcRhUJROdu3a4nwiy+0ZZ/c1OYANzGfW5hLJ37xbJ/aeS6M7l3SMC4O9u0jLzcXq0Tr7ikURuN3YszLy2PcuHGYTCb69etHjx499PQKO5KSkkKtEDDKWX/09HW5tPuEX32lnR3+9VfJvsZspT8L6c9CLmJd+Qc4fPjkfAyvS05RUSrGBqCc9UdPX78T48cff8z555+P3W5n4cKFDB06lHr16jFw4EAaNGigm2C4kJeXd0bzIEOBctafYPtmZ8OyZdpc+qVLoby1vB/hVV5ldPkHaNVKq04zYAA0bGiIs97I5gvK2Qj09PU7MZ5//vkAREVFcfPNN3PzzTezb98+PvzwQ/bu3csVV1xB//79sYZwvpM3aWlppKWl4XQ6T93YD2SceqKc9ScYvjt2aGeFX3+tDZ4pLta2W3BwOT+xjcYcojadO8P118MtjS6H/l4HaNlS2zFggFbk1ABnI5HNF5SzEejpe0bLTkVGRiKE4H//+x+zZs3i7rvv5t133w2W2xkxYsQIRowY4al2cKbIVi4JlLMRnI5vdra2jNOyZdpj27aSfdU4Tk++oTdfczX/I4UsfrlhEnWnjqFOnZONRDstEXbpAv37V3hmGEznUCKbLyhnIwiLknD79++nbt26ACxfvpy3336bJUuWUKtWLe655x7uueceatbUZwXvMyFYJeGEENINZ1bO+uOPr8OhDZZxJ8Kff9YKd588Aq3ZRG++pjdfcxG/YKbUf8nOnSE93VDncEI2X1DORhCobyC5wO8zxlGjRtGyZUvmzJnDrl27uOqqq1iwYAG9e/eWqr7e6ZKZmUmqZCP5lLP+lOcrBPzzT8lZ4cqV2lliae5hBs/xHHU4WP7Bk5Lg6quhXz/dncMZ2XxBORuBnr5+J8aFCxfy008/MXjwYIYPH84555yji5BCIRsul7YS0+rV2uOHH+D48ZL9ERTThXX8TivyiKdJE+jRAwZHWKnzeqmk2Lw59O6tPbp0gYgzutuhUChOA7//191xxx289957REVF6ekTtsg08dWNctYHp1Nb0Hf1alixIpH0dMjM9G4hOJ/t9GAZPVhGd9MKEkQOyx/4ksZj+paUIj3WE96Nha5dtUTYqxcY8IVThhh7I5svKGcj0NPX78T48ssv/2eTIsh3YxqUc7DIyNDuC65dqz3WrYOcHPde7b/Q2RymK6u4kuVcbVpGPbG35AAnbxleKZZB/b4l22vU0A5u8EjucIxxZcjmC8rZCPT09Tsxvvrqq7z66qt+H/jRRx8NqH24k5eXFzZTUfxFOQeO0wmbN5ckwbVrYevWyt+zIOpWbrDPLdlQejhb9epake7u3cu+OQS/a6hjHCiy+YJyNgI9ff1OjMXuyVU6tVcojEYI2L0bNmzQHr/+Cr/84n02WEId9nM5q2nHBl6t9SpdLjZx+eXQurWNi786ByZ6NbZa4dJLtRuJPXpok+7/AwPUFIqqgt/TNQJdj9FkMgVtcv2ZEKzpGg6HgwjJBkIo5xKEgF27SpLghg2wcaN2JbOc1pzHv3Qhna6mH+gRtYp6Rf+W7N22HdP5jUp8V62CsWPh8su1+4WXXgphvISPbP1CNl9QzkYQqK8u0zVc7vL9/1EKCgpISEgItUZA/FedhYCdO7XE5z4T3Lix9AAZX6wU8iBvckV0Op1FOslFR08eDCjybWtavQpOJsaCggISrrxSu1QqCbL1C9l8QTkbgZ6+8nw9CJBgl4ST8dLwf8HZ4dBWp//tN+2xcaM2YtRmq/g9Z3GEZLLIrtmEdu3QHm2iuPbulzDbssq+ISoKLrpIOxu8/HJtwv1p+oYDsjnL5gvK2Qj09K2yiTHYJeFkLGJQ1ZwdDm2+4Pr1JUnwjz+gsLDi45lw0Zy/6ZmYztUJ6bTOX0O1zH8pvPRKrKuXeS08YYYuneGbbyA5WUt+XbrAxRdDp04VXhqtajEOR2TzBeVsBHr6+n2PUVZUSTh5nY8f1yqhuUeHrl8P+fmVvz+OXHpX+4Xrqq+hoyOdcw7/TGReOaeP8fHatVXvexS//aadHTZt6vdgGdljLAOy+YJyNoKwKAn3X0e2ckkgn3NhISxdmsMvvySybJmWpypH0LiRoHVbM23aQNu20GnnYhLvux1OVPAWqxXat9fOBAsKwPseRZs2ATvLFmOQz1k2X1DORhAWJeG8+ffff7n33ntJTk5m/vz5rF+/nu+++46RI0dKdfNWEXq2boUlS+C77+DHH6GwsOJvcufUc3LLBZvoGbOKZlnppG5bi3lSmrbChJvdXXzfdPbZJZdEu3TRsqdEc7UUCoXxnFZiHDRoEG3atCEyMhKADh06cPDgQQYPHsz8+fODKhguyFYuCcLTWQitiszChbBoke+SS6Vp3Upwa6vNXBWxgiYHVxDz8ypYluXbKD3dNzE2aACPPqrNHbz4Yjj3XN8V7INMOMb4VMjmLJsvKGcjCIuScN60bt2aqVOnMnXqVM82h8PBsmXLgiYWbsg0v8dNODlnZsI778AHH1ScDOvVg+7dnVx9tYU+v79A3Mfvwkf7Kj5oYqJWwdsbkwleeSV44qcgnGLsL7I5y+YLytkI9PQ9rWE9ycnJ5Obmem58/vXXXzz22GN07NgxoOOkp6fTtGlTkpOTGTVqVKVt8/Pzee211/joo4/45ZdfTkf7jMjNzTX8Z54p4eBst8Prr8N558GTT/omRbMZLrsMXnu5iC1bYM8eePVVG7fcAnH5x2BfqaSYmgo33ABvvaUNR83IgBCXHQyHGAeKbM6y+YJyNgI9fU8r5Y4YMYLBgwfz66+/Mn36dLZt20aXLl14//33/T5Gbm4uK1euZM2aNaxdu5Z+/frRp08frixnonRGRgZ33nknb731Fueee+7pKCsMRgj4/HN44gn491/ffV27wqBbC+kX8y2JX8+Fl76BQdvBdFZJo7594e23oVs3uOoquOIKaNlSlVZTKBT6I86AgwcPil9++UXs3bs34PcWFBQIl8vled2hQwexYsWKctt2795drFy58rQcbTabAITNZjut97ux2+1n9P5QECrn9HQhOncWQkuP2sNkEuKuu4TYu2ijEMOHC5GY6NsgLc3XubhYiOzskPgHguoX+iObrxDK2QgC9Q0kF5zW1+/77rsPgFq1atGxY0fq1asHwIQJExg1ahQffvjhKY8RHR3tuRSbl5dHixYt6Nq1a5l2ixcvZufOnfz666/06tWLJ598MiQVGoqKik7dKMww2vmXX7RxMF26aPMO3XTrKtj+yiI+3HIR9fq21W42ei9pX60anHT1OEdE+E6lCFNUv9Af2XxBORuBnr6nlRj//vtvzj//fFJSUhgyZAgOh4OsrCyeffZZxo8fT+PGjZkxY4Zfx0pPT6dnz57k5uZSUFBQZv+nn35Kp06dGDVqFLNnz+bjjz/m2WefrfB4RUVFZGdn+zyCgd1uD8pxjMQIZyG0YjFdu2oFYr78smRf06aQPmE139vacd6j/bSFDN3ExcFdd8HSpXDoEDz8sGHOwUQ2X5DPWTZfUM5GoKfvaVW+ad++PbfeeitNmzZl586dREZG0rVrV5o2beopNt65c2fWep82VMDhw4f55ptvGDNmDAMGDGDatGk++1u2bMmwYcN44IEHABg/fjzTp0/n4MGD5R7vueeeY9y4cWW279q1i8TERJKTk8nJycHpdBIREUFcXBy2k4U1Y2NjEUJ4ErR7kJHD4aCgoIBatWqRlZUFQExMDCaTifyTpViSkpLIy8vD4XBgsVhITEwk82TV6ujoaCwWC3l5eQAkJiZSUFBAcXExZrOZpKQkn7YRERGeG8sJCQkUFRVht9sxmUykpKSQcXJJCKvVSmRkpE9bu93u+SblPiMXQhAVFYXVaiXn5JpK8fHxFBcXe9qmpqaSlZWFy+UiMjKSmJgYz5eKuLg4nE4nhSdrr6WkpHDihI3PP4/grbdi+Osv3wVDa9YUjB6dz513FlFj/FhMb73l2SdatiT/rrsouuEGYmvWBPCJ4eHDh4mJicFisZCQkFBpvPPz8yuMYWXxTk5OrjSGlcU7KirKJ4YnTpzwrAmXmppKZmZmhfF2OBw+MbTZbH7HOzs72+8+692/4+Pjy8Tw2LFjxMXFlemzpeNtNpv97rOl411YWOh3ny0d79IxPHz4MHFxceX2We+20dHRlcawsni7XK4KY+jvZ4R3DPPy8qhevXrYf0Z4x7CoqIjq1asH7TPCO96xsbF+99nS8QbKjaE/n8nenxEmk4nk5GT/qqAFdJH2JO+//77P69mzZ4u///5bREdHe7bVqlUroGN+8MEHolmzZmW2N23aVLz++uue119++aWwWq0VHqewsFDYbDbPY9++fUG5x6jQKCjQbgc2aOB7ixCEaNJEiPfeE6Kw0OsN2dlC1KsnRJs2QixeLITXfWWFQqEwikDuMZ7WqNQtW7bwxRdfEBMTw/fff8/Ro0exWCzEx8cDsGfPnoDnmLRv3546deqU2d6yZUu2b9/ueR0REUGzZs0qPI7VatVlVeeMjAypyiVBcJ3tdm2Q6MSJUPpk/aKL4PHHoW+Hg5h//w2svUt2JiTADz9A/fp+jSiVLc6y+YJ8zrL5gnI2Aj19T+se46OPPsrnn3/O6NGjsdvtTJ06lR9//JFRo0YxcuRIbrrpJm666aZKj1FYWMiGDRs8r5cuXeqZyzhp0iT+/vtvAEaNGsXSpUs9p/Pp6ek89NBDp6OtOE1WrIDWrWHUKN+k2LMnrFoFa1fb6X/gLcwXNoObb9YmJHpzzjlqmoVCoZCG0zpjPPvss/n44499tr3wwgukpqbicDhYvHgxPXv2rPQYW7dupVevXjRq1IguXbrQsWNHevfWzjTmzZtHw4YNad68OZ07d+b5559n1KhRNG7cmLi4OO66667T0T4j9DgL1ZszdT54UKuuNneu7/b+/eHZZ6FNK5e2s9mz2srAbp56Ckr1D3+RLc6y+YJ8zrL5gnI2Aj19T3vZqczMTHJzc3G//ciRI7z77rt+j0Y1imAtO2W324mKigqimf6crrPTqc2oePJJ31kVF10EaWnQrq3QKn8/+6xWgcabgQO1ajTVqhnqHCpk8wX5nGXzBeVsBIH6BpILTuv61pgxY6hWrRrnnHOO59GpUye/RqHKimzlkuD0nP/4Q6u9PWJESVKsVg3ee0+r190uY5mWIfv29U2KV16pTceYNeu0k+LpOocS2XxBPmfZfEE5G0HYlYTbu3cvR48e5YcffqBjx47UrVuXZcuW4XA4gu2nMIj8fBg3TjvZczpLtg8eDJMmncx1H3ygbfCmfXuYMEFLjAqFQlEFOK0zxhYtWlC9enWuu+46Zs+eDcDll1/OwycnaVdFZFxn0l/nJUugWTMtAbqTYpMm2sCa99/3OgEcMECrBg5a3dJFi7SzxCAmRdniLJsvyOcsmy8oZyPQ0/e0zhiLi4tp1KgRs2fPplGjRnTr1o3s7GzP5P6qiN1u96w/KQunct67Vxtp6l2tJipKGzvzxBNgjRKA11qGcXEwe7a2RMadd+oy0lS2OMvmC/I5y+YLytkI9PQ9rcQ4btw4BgwYwPnnn0/nzp2pXr06v/32GzfeeGOw/cKGoqIi4uLiQq0REBU5O53wxhvwzDPaJVQ3V1wB06ZpZ4usXavdaFywABo2LGnUubP2MNg5XJHNF+Rzls0XlLMR6Ol7Wl/533jjDZo3b+4ZEdStWzeuvfZaVqxYEVS5MyEtLY1mzZrRoUOHUKuEFX//rQ2ueeSRkqR41lna7Irly6HJuXZ4+mm45BL47TdtlKn3TUeFQqGo4gQ0XeOzzz6jsLCQ+fPnl5nAn5GRwcsvv8zhw4eDLnkmBGu6huzY7fDyy/DCC+C9OMl998FLL0FyMvDnn9ol0t9/L2nQqRMsXgw1ahitrFAoFEEjkFwQ0KXUbt26cdddd7F58+YyQ2WjoqJ46aWXAreVhMzMTFJSUkKtERCZmZkkJ6fw5ZcwZozvgsFNmmhTMC65BO2McPIU7dqqu2J9RIQ2TPWxx7TnBjrLFGfZfEE+Z9l8QTkbgZ6+AX3i1ahRg0WLFrFkyRJuuOEGXYTCldOsgxAynE5YtCiC6dN9V3uyWLS6ps8+C9HRaOXb7rwTfvyxpFHz5togmzZtDPeWLc6y+YJ8zrL5gnI2Aj19A77HGBUVVWFS/Oqrr85YKFyRoSJETg4sXAhDh2o1uwcNSvBJil27woYN8OKLJ5Pi4sVaEVR3UjSZYPRo+PXXkCRFkCPO3sjmC/I5y+YLytkI9PT164yxY8eOHD9+vNI2LpeLw4cPe9bjqmqEYx1BIWDLFm2t36VLtfzmff/QTYsWMH48XHedlvs8WCxwci0zGjSAjz6Cyy4zQr1CwjHOlSGbL8jnLJsvKGcj0NPXr8R43XXXUb9+ferXr+9Z/LY0LpeLBQsWBFUunMjJyQmLJVny87WJ919/rSXD3bvLbxcdDV272nnkkSiuvLJUQnTTu7c2PHX/fq04anKyfuJ+Ei5x9hfZfEE+Z9l8QTkbgZ6+fiXGhx9+GKvVeso1Fjt16hQUKYUve/Zo1WmWLoWVK6Gik/Jzz9VyXa9e2mXTgoJc346zerV2RuidJSdN0ibqV/CFR6FQKP5r+JUYy5tEuX79et577z32799PkyZNGDp0KE2bNg26YLjgXoTZCISATZu0+4WLF/vOnvAmMlLLc716aY8mTXzzm8Vy0jk/Hx58EGbO1FYbHj7cu5Fuv8fpYGScg4FsviCfs2y+oJyNQE/f05rgP3v2bC677DIOHz5M48aNcblcDB8+nMWLFwfbL2woLu/mXZA5eFA7gWvRAtq21e4Llk6Kdepog2sWLoQTJ7RJ+Y88AhdcUPakr7i4GNas0Q42c6a2cdQorRZcmGJEnIOJbL4gn7NsvqCcjUBP39OaoDZ79mz+/fdfateu7bP9scce47rrrguKWLihZ/mhTZu0VS3mzoXyFijp0EEbONOnj1a726+rnidOYHniCa0KuHtYc2ysdsZYv34w9YOKKkulP7I5y+YLytkI9PQ9rcTYqVOnMkkRtAmXCv/ZsUObU/jFF2X3XXwx3H67tuxhOaGumLw8ePNNePllom22ku0dO8KHH2qnlgqFQqGokNNKjIWFhXz//fd07tyZ4uJitmzZwsyZMzl69Giw/U6btLQ00tLScAapzmcwRz/Z7dpl0okTfadXpKbCvfdqSx66V3cKiFde0SYpuqdgAMTEaHXgRo0Ku/uJ5SHTqDiQzxfkc5bNF5SzEejqK/xkxowZnufZ2dnilltuERaLRZjNZmE2m0Xfvn3FsWPH/D2cYdhsNgEIm812RsfJzMwMis/27UK0bSuEdn1Te9SsKcSbbwqRm3uGB580qeSgZrMovPNOIfbvD4q3UQQrzkYhm68Q8jnL5iuEcjaCQH0DyQV+D74ZMWIEDz30EFu2bCEhIYFPP/2UQ4cOkZ6ezv79+/nyyy+pXr26fhk8xARjrckff4SLLoKNG7XXERHaQhbbt8MDD2jLHfpFXp52r3DHDt/tQ4ZASgrcfTf88Qd5r7+ujdaRCNnW9JTNF+Rzls0XlLMR6Onr96XUiRMncsMNNzBv3jxeeeUVOnfuzC233MJFF12km1w4caYLYi5bBtdeW1Kju0kTbamndu0COMju3fDWW9qAmqwsGDkSpk4t2Z+aCgcOaJdPgcicnDNyDgUyLZQK8vmCfM6y+YJyNgI9fQNadsqbtWvX8tlnnyGE4KabbuLiiy8OtltQCNayUw6H45QFDipizRro0QMKCrTXV10Fn30GSUl+vFkIbWL+1KnapEbvb0kJCXD4sDbaNMjOoUI2Z9l8QT5n2XxBORtBoL6B5ILTmscI0LlzZ1577TWeeuopnn76aS644AImTZp0uocLe7Kzs0/rfQcOwPXXlyTF/v3hq6/8SIpCaOVuOnaEbt3gyy9LkqLVql0uXb26wqR4Js6hRDZn2XxBPmfZfEE5G4Gevqf99eCvv/7i7bff5uOPP0YIwR133EHv3r2D6SY9DgfcfDO4B+t27w6ffqpVrKmUnTvhhhu0CY7e1K4N998Pw4aphYMVCoVCJ/xOjAsXLqRnz57Mnz+fd955h7Vr19K6dWsmTZrE7bffTmwlZy5VgdOZSPrGG9plVNDm1M+dq53snZLatUuyKUCrVtqExxtv9COrliDTZF03sjnL5gvyOcvmC8rZCPT09Tsx3nrrrVhOzoO7+eabmTJlCh07dtRNLNwIdD7knj3aYsCgVar55BOocNCuEL7lbKKjtUQ4e7Z2kD59TqvId7DmcBqJbM6y+YJ8zrL5gnI2Aj19/b7HmJiYyIsvvsiBAweYOXPmfyopAgGvM/nMM1rtboD77tMq2ZTL8uXQvr02iMab+++HdevKWUTRf2RcG1M2Z9l8QT5n2XxBORuBnr5+J8bp06fz0EMPkRwGa/aFO//8o03FAG0GxUsvldPI6YT/+z9tuOrGjVrJG+8BwhERaikohUKhCAF+X0q94YYb9PQIe1JSUvxuO358SY57/PFyRqBmZ8Ott2oLLLqx2bSJ+0FcSiUQ53BBNmfZfEE+Z9l8QTkbgZ6+pz1dI9xJS0ujWbNmdOjQISjHs3kX5K6Egwdh/nzteY0aMGJEqQbHj8MVV5QkRbNZK5r6/fdBTYrgv3M4IZuzbL4gn7NsvqCcjUBP3yqbGEeMGMHmzZtZv359UI7nb/mhd98tWTpq+PBSZd6OHYPLL4cNG7TXqanw3Xfw2GNaggwyspV4AvmcZfMF+Zxl8wXlbARhURLuv44/5YccDi0xgraQxfDhXjvz8rSacJs3a69r19bqxDVrFnzZk8hW4gnkc5bNF+Rzls0XlLMR6OmrEqOf+DNPc9UqOHRIe96nD9Ste3KHy6Utrrhunfa6dm2tonjDhrq4upFxbqlszrL5gnzOsvmCcjYCPX2r7KXUYOPP9ey5c0ue33671468vJKacImJ8O23uidFkO+eAcjnLJsvyOcsmy8oZyPQ01edMQYJux0+/1x7Hh8PvXp57UxIgG++0QbZtGkDLVqExFGhUCgUp0YlRj851Wn76tXaSlCgzckv09xshief1MWtImS7NALyOcvmC/I5y+YLytkIquyl1PT0dJo2bUpycjKjRo06Zfu5c+fStWtX/cXK4VSrc337bcnzvn09b9JPyA9Oc0WxkCKbs2y+IJ+zbL6gnI1AT9+QJcbc3FxWrlzJmjVr+Pjjj5k2bRrLly+vsP3Bgwd5qdwSMsZQ4L5HWAHuxGg2w5VXos1X7NwZfvhBf7kKOJVzOCKbs2y+IJ+zbL6gnI1AT9+QJcaIiAieeuopUlNT6d27N23atPEUKS+PiRMncu+99xpo6D/79pXMwujYUZueyMSJ8Msv2rzFWbNCqadQKBSKAAjZPcbo6GjP87y8PFq0aFHhZdL333+f2267jX/++eeUxy0qKqKoqMjzOliLWVZWI3bZspLn11yDNmfjrbe0DVarVg81BMhY11Y2Z9l8QT5n2XxBORuBnr4hH3yTnp7OE088Qa1atSgoKChzQ/Xff/8lIyODiy66yK/EOGHCBMaNG1dme0ZGBg6Hg+TkZHJycnA6nURERBAXF+cZ9hsbG4sQwnOKnpycTG5uLg6Hg8LCQmrWrEnWyRE2MTExmEwm8vPzWbEiDtAWWmzfPpvCKVOIPln5vXDwYFwpKViKisjLywO0lUoKCgooLi7GbDaTlJREZmYmoH1hiIiIIDc3F4CEhASKioqw2+2YTCZSUlLIyMgAwGq1EhkZ6dPWbrd7vhhYLBZcLhdCCKKiorBareTk5AAQHx9PcXGxp21qaipZWVm4XC4iIyOJiYnxfKmIi4vD6XR6qtmnpKRgs9k8bWNjYyuNYWXxBsg/uQxJUlISR48exWq1YrFYSEhIKDfe7rb5+fkVxtBisVQY7+Tk5EpjWFm8o6KifGKYmZnpmWicmppKZmZmhfF296PyYniqeGdnZ/vdZ73jHR8fXyaGx48fJzY2lqSkJPLy8nA4HOXG22w2+91nS8e7sLDQ7z5bOt6lY3jkyBFiY2PL7bPebaOjo/3us6Xj7XK5/O6zFX1GeMcwPz+fatWqlemz3vFOTEz0u8/q9RnhHUO73U61atXC/jPCHcPKPpPdbb0/I0yBLMogQsyhQ4fEzJkzRbVq1cR9993ns8/pdIqHHnpIFBcXCyGE+OCDD8Tll19e6fEKCwuFzWbzPPbt2ycAYbPZzsjzxIkTFe674AIhQIjISCHyMwqEqFFD2xARIcT+/Wf0c8+EypzDFdmcZfMVQj5n2XyFUM5GEKivzWbzOxeE/IyxZs2aDBo0CJPJxOTJk332rVmzhhkzZjB79mxAu0xaWFhI9erVOX78eLnHs1qtWK3WoHtGRJQfqhMnYMsW7XnbthCzeJ5WExXgxhuhTp2gu/hLRc7hjGzOsvmCfM6y+YJyNgI9fcMmEu3bt6dOqSTSsWNHtrizDjB//nw+++wz5ruXrzCQOJ9q4CWsXVvyvEsX4L33SjaMHKmv1CmoyDmckc1ZNl+Qz1k2X1DORqCnb8hGpRYWFrLBvcoEsHTpUs9cxkmTJvH3339jtVqpW7eu55GSkuLZZjQVlR9KTy95fuX5e+Cnn7QXzZpBp04GmFWMbCWeQD5n2XxBPmfZfEE5G0GVLAm3detWevXqRaNGjejSpQsdO3akd+/eAMybN4+GDRvSvHnzUOn5zcaNJc+77C1VLDWQm70KhUKhCAtMQkhW7iBAsrOzSUpKwmazkZiYeNrHKSws9Jli4qZmTThyBKpVg2OX34Dpiy+0HTt3wrnnnvbPCwYVOYczsjnL5gvyOcvmC8rZCAL1DSQXhM09Rhk5ckR7ALRqBaYFC2DTJq3aTYiTokKhUChOD7XslJ+458Z48/vvJc9btUK7dNqmDfhR99UIynMOd2Rzls0X5HOWzReUsxHo6asS4xmwaVPJ89atQ2WhUCgUimCiEqOfJCUlldlW5owxzCjPOdyRzVk2X5DPWTZfUM5GoKevSox+4i7V5M3ff2v/9jB/T4v7LoaXXoJduww2q5jynMMd2Zxl8wX5nGXzBeVsBHr6VtnBN2lpaaSlpeF0OoNyPIfD4fPa5YLt27Xn/ZJXYV6bDmvT4ZxzwmbgTWlnGZDNWTZfkM9ZNl9Qzkagp2+VPWMcMWIEmzdvZv369UE5XuklsQ4cAPe930v5sWTHpZcG5ecFg8qW8QpXZHOWzRfkc5bNF5SzEejpW2UTY7BJSEjweb11q/ZvFEVckP2L9uKcc6BePWPFKqG0swzI5iybL8jnLJsvKGcj0NNXJUY/cS9t4mbbNu3fdmwg0qEttRJOZ4tQ1lkGZHOWzRfkc5bNF5SzEejpqxLjaeI+Y7yYNSUbwywxKhQKhSJwVGL0k5iYGJ/X7sTYjpJC6KEuGl6a0s4yIJuzbL4gn7NsvqCcjUBPX5UY/aT06s/uS6ntTSeriEdHQ9OmBltVTkArVocJsjnL5gvyOcvmC8rZCPT0VYnRT7zLDzkcsHcvJJBNI3FyzkbLlhBmC33KVuIJ5HOWzRfkc5bNF5SzEaiScGHGwYPgdEJrNpVsbNs2ZD4KhUKhCB7hdYoTxniXH9qzR/t3K034pMcH3HbBRujRI0RmFSNbiSeQz1k2X5DPWTZfUM5GoErChQHep+27d2v/HuVsjva6G954A/r0CYlXZch2aQTkc5bNF+Rzls0XlLMRqEupp0FaWhrNmjWjQ4cOQTlecXGx57n7jBGgQYOgHF4XvJ1lQTZn2XxBPmfZfEE5G4GevlU2MQa7JJzZXBIq9xkjhHdi9HaWBdmcZfMF+Zxl8wXlbAR6+soViRBS+h5jEln04DvOjdwPQoTQrGJku2cA8jnL5gvyOcvmC8rZCNQ9xjAgMzPT83z3bujEz3zH1aS0rAfPPBM6sUrwdpYF2Zxl8wX5nGXzBeVsBHr6qsQYIC6XNoexKf+UbDz//NAJKRQKhSKoqMToJ9HR0QAcPw52e6nEGGYVb9y4nWVCNmfZfEE+Z9l8QTkbgZ6+KjH6iXvtr0OHtNc+ifGCC0JgdGpkW18N5HOWzRfkc5bNF5SzEaj1GMOAvLw8QKt6A3A+J0vB1awJYXrT2u0sE7I5y+YL8jnL5gvK2Qj09FWJMUAOHYIY8qnJEW1Dw4ahFVIoFApFUFGJ0U8SExMB7YzxXHaV7AjjxOh2lgnZnGXzBfmcZfMF5WwEevqqxOgnBQUFgHbGKEtidDvLhGzOsvmCfM6y+YJyNgI9fVVi9BN3+aGDB6EhO0t2nHtuiIxOjWwlnkA+Z9l8QT5n2XxBORuBKgl3GgS7Vqq7/NChQ5BINnYitR1hfMYoW4knkM9ZNl+Qz1k2X1DORqCnr0mIMK1nFiSys7NJSkrCZrMF5Zp0/fqwbx/UrOHk0K8HoEYNiIkJgqlCoVAo9CKQXCDXV4QQkpGRgcsFhw9rr8+ubdGyZBgnxYyMjFArBIxszrL5gnzOsvmCcjYCPX1VYgyAEyfAfVm7du3QuigUCoVCH1Ri9BOr1eo5WwSoVSt0Lv5itVpDrRAwsjnL5gvyOcvmC8rZCPT0VYnRTyIjIzl6FM5jBx9zGwP/GgPLloVaq1IiIyNDrRAwsjnL5gvyOcvmC8rZCPT0VYnRT3Jzczl+HBqzjdv4lMvWvQI//hhqrUrJzc0NtULAyOYsmy/I5yybLyhnI9DTN6SJMT09naZNm5KcnMyoUaPKbZOXl8dtt91GYmIirVu35ueffzbYsoRjx6AOB0o21K0bMheFQqFQ6EPIEmNubi4rV65kzZo1fPzxx0ybNo3ly5eXaff6669zzTXXsHLlSho0aEDfvn1DUuw2ISGBY8egLvtLNtapY7hHICQkJIRaIWBkc5bNF+Rzls0XlLMR6OkbssQYERHBU089RWpqKr1796ZNmzblLiPSpUsX7rrrLtq1a8fs2bPJzMxk8+bNhvsWFRWVPWMM88RYVFQUaoWAkc1ZNl+Qz1k2X1DORqCnb4RuRz4F3otM5uXl0aJFC7p27VqmXbdu3TzPExMTSUhIoE4IEpLdbpcuMdrt9lArBIxszrL5gnzOsvmCcjYCPX1DPvgmPT2dnj17kpube8qisNu3b+eSSy6hdiWTCIuKisjOzvZ5BAOTycTx4yWXUkVUFFSvHpRj64XJZAq1QsDI5iybL8jnLJsvKGcj0NM3ZGeMbho2bMigQYMYM2YMo0ePZtq0aRW2nTZtGq+++mqlx5swYQLjxo0rsz0jIwOHw0FycjI5OTk4nU4iIiKIi4vDZrMBEBsbixDCk6CTk5PJzc3F4XBgsVg4dkx4zhhF7doUFRWRn58PQFJSEnl5eZ62iYmJZGZmAtrZscVi8dwbTUxMpKCggOLiYsxmM0lJST5tIyIiPCOuEhISKCoqwm63YzKZSElJ8VR8sFqtREZG+rS12+2eSwypqalkZmYihCAqKgqr1UpOTg4A8fHxFBcX+7TNysrC5XIRGRlJTEyM50tFXFwcTqeTwsJCAFJSUrDZbJ62sbGxlcawsngDPjG0WCxkZGRgsVhISEggKysLgJiYGEwmk0/b/Pz8CmNYWbyTk5MrjWFl8Y6KivKJYVRUlGf/qeLtcDgqjOGp4p2dne13n/WOd3x8fJkYCiHIyMgo02dLx9tsNvvdZ0vHu7Cw0O8+WzrepWPo9i2vz3q3jY6O9rvPlo63y+Xyu89W9hnhHcOCgoIyfTbcPyOKi4vD/jPCO4Yul8vvz4hAEmnY1EqdNWsWkydP5u+//y53/6pVqzh+/Dg33nhjpccpKiryufacnZ1NvXr1zrhWakZGBm0viGb3sThtwyWXhP10jYyMDFJTU0OtERCyOcvmC/I5y+YLytkIAvUNpFZqyM8Y3bRv377Ce4c7duzgn3/+4b777jvlcaxWqy4VEVwuiD6hpmooFApFVSdk9xgLCwvZsGGD5/XSpUs9cxknTZrkOXM8cOAAb775Jj179mT37t38/vvvTJ8+3XDf/HwrBa4o3mY46Wf1g4svNtwhUGQr8QTyOcvmC/I5y+YLytkI9PQN2Rnj1q1b6dWrF40aNaJLly507NiR3r17AzBv3jwaNmxIrVq16Nq1Kzt27OCNN97wvHfu3LmG+2ZnR7GXBtzH29xxFXR5wHCFgImKigq1QsDI5iybL8jnLJsvKGcj0NM3ZImxVatWHDlypNx93meS27dvN0qpUvbuLYCTixPXqBFaF3/JycmR6p4ByOcsmy/I5yybLyhnI9DTN+TTNWThxImSEU1hPktDoVAoFGeASox+UlAQgxknALJ8qYqPjw+1QsDI5iybL8jnLJsvKGcj0NNXJUY/OXHCyXxuwkYitz/XCI4eDbXSKSl2r6osEbI5y+YL8jnL5gvK2Qj09FWJ0U9OnHBxFkdJJIeEI//CGcyJNArZah+CfM6y+YJ8zrL5gnI2Aj19VWL0k6wsE2ehnSU64pPAq9arQqFQKKoOVTYxpqWl0axZMzp06BCU4xUURHsSo6v6WUE5pt7INMLMjWzOsvmCfM6y+YJyNgI9fatsYhwxYgSbN29m/fr1QTle5uFcktHq95nOliMxumsryoRszrL5gnzOsvmCcjYCPX2rbGIMNubjxzzPLbXkSIxhUgY3IGRzls0X5HOWzReUsxHo6asSo59EZh73PDfXPDuEJv4jWyULkM9ZNl+Qz1k2X1DORqCnr0qMfhKdXXLGyFlynDHKVvsQ5HOWzRfkc5bNF5SzEejpqxKjHwgBsble8xYlqQnnXldNJmRzls0X5HOWzReUsxHo6asSox8UFECi0+tGr6oJp1AoFFWWsFmPMZzJzITPuYGtNOGqdhk81LlzqJX8QrYSTyCfs2y+IJ+zbL6gnI1AT1+VGP0gMxP2UZ991KdmS6BBqI38w+FwSHdDXTZn2XxBPmfZfEE5G4GevupSqh94T5dJSQmdR6AUFhaGWiFgZHOWzRfkc5bNF5SzEejpqxKjH3jf401KCp2HQqFQKPRHXUr1g5wcuILvcWHmnOxqQMtQK/lFikyntyeRzVk2X5DPWTZfUM5GoKdvlT1jDGat1JwcmMFQVnIFA96+Igh2xmCz2UKtEDCyOcvmC/I5y+YLytkI9PStsokxmLVSc3MhlQwA7AnyFNp1uVyhVggY2Zxl8wX5nGXzBeVsBHr6VtnEGExysxyeAuLOJHkSY2RkZKgVAkY2Z9l8QT5n2XxBORuBnr4qMfqB43iW57krpVroRAIkJiYm1AoBI5uzbL4gn7NsvqCcjUBPX5UY/UCcyCh5IdGaZdnZ2aFWCBjZnGXzBfmcZfMF5WwEevqqxOgHpsySxGiuLk9iVCgUCkXgqMToBxZbSWKMrCHPkOa4uLhQKwSMbM6y+YJ8zrL5gnI2Aj19VWL0A1N2ybDgyBrJoRMJEKfTGWqFgJHNWTZfkM9ZNl9Qzkagp69KjH5gyS8pfRNZLTGEJoEhW4knkM9ZNl+Qz1k2X1DORqBKwoUYs70Q58lQmZMSQmyjUCgUCj0xCSFEqCX0JDs7m6SkJGw2G4mJp3e216wZ/POP4OyEAg4fjwBJKtALITCZTKHWCAjZnGXzBfmcZfMF5WwEgfoGkguq7BljMEvC2e0AJpzWWGmSIsg3/Brkc5bNF+Rzls0XlLMRqOkap0EwS8JpiVGqnAjIdzMd5HOWzRfkc5bNF5SzEajBNyFG1sQYESHf4imyOcvmC/I5y+YLytkI9PSVKxIhYkjOa9RgDxHZiVD0NFitoVbyC9nmJYF8zrL5gnzOsvmCcjYCNY8xxFxb+DkPMZUHMsaDWZ6QybaMDMjnLJsvyOcsmy8oZyNQy06FmGiRD4DdFAWSVaBXKBQKRWCoxHgKhIBIod1kLDbJcQnVTWxsbKgVAkY2Z9l8QT5n2XxBORuBnr4hTYzp6ek0bdqU5ORkRo0aVWG7xYsX8+CDDzJ06FCWL19uoCE4HBDFycRolmv0jYxTVGVzls0X5HOWzReUsxHo6RuywTe5ubmsXLmSNWvWsHbtWvr160efPn248sorfdpt2bKFF154gV9++QWXy0WHDh1YsmQJderUMcQzIgIa1bfDXkhMlesyakFBgXRrrMnmLJsvyOcsmy8oZyPQ0zdkZ4wRERE89dRTpKam0rt3b9q0aYPFYinT7vXXX+eaa67BZDJhsVjo3Lkz06dPN8zTZAJzsXbGaI6W64xRoVAoFIETssQYHR3tKeeTl5dHixYt6Nq1a5l2K1asoEGDBp7XjRs3ZvXq1UZpakg6kTE5OTnUCgEjm7NsviCfs2y+oJyNQE/fkA++SU9Pp2fPnuTm5lJQUFBm/4EDB0hNLVkcOD4+noMHD1Z4vKKiIrKzs30eZ4ykiTEnJ+fUjcIM2Zxl8wX5nGXzBeVsBHr6hnyCf8OGDRk0aBBjxoxh9OjRTJs2zWe/yWQiOjra89putxNZyZSJCRMmMG7cuDLbMzIycDgcJCcnk5OTg9PpJCIigri4OM98mNjYWIQQngSdnJxMbm4uCXY7JkBERZGZoS1aHBMTg8lkIj9fm8qRlJREXl4eDocDi8VCYmIimZmZgHZ2bLFYyMvLAyAxMZGCggKKi4sxm80kJSX5tI2IiCA3NxeAhIQEioqKsNvtmEwmUlJSyDjpYLVaiYyM9Glrt9spKiry/N6ZmZkIIYiKisJqtXo6U3x8PMXFxZ62qampZGVl4XK5iIyMJCYmxvOlIi4uDqfT6VnmJSUlBZvN5mkbGxtbaQwrizfgE8Pc3FycTicWi4WEhASysrIqjHd+fn6FMaws3snJyZXGsLJ4R0VF+cQwPz/fU5oqNTW10ng7HI4KY3iqeGdnZ/vdZ73jHR8fXyaGNpsNp9NZps+WjrfZbPa7z5aOd2Fhod99tnS8S8fQ7Vten/VuGx0d7XefLR1vl8vld58t7zOidAxzc3OJiooK+88I7xgWFhYSGxsb9p8R7hjm5+cH9BkRSMHxsFldY9asWUyePJm///7bZ3vjxo15/vnnueWWWwCYNGkS3377LStWrCj3OEVFRT6JITs7m3r16p3R6hpcdx2OvDwiGjcGA+9vninZ2dmn/zuHCNmcZfMF+Zxl8wXlbASB+gayukbIzxjdtG/fvtyRpt27d2f79u2e1zt27KBbt24VHsdqtWINdsm2xYsxu1xSVb0B7RufbMjmLJsvyOcsmy8oZyPQ0zdkn/SFhYVs2LDB83rp0qWeuYyTJk3ynDkOHz6cZcuWAeBwOFi3bh1Dhw413Nd9ui4Tyll/ZPMF+Zxl8wXlbAR6+obsjHHr1q306tWLRo0a0aVLFzp27Ejv3r0BmDdvHg0bNqR58+a0bt2aQYMGMXr0aOx2O6+99ho1a9YMlbZCoVAoqjhhc49RLwK5rlwZsk1+BeVsBLL5gnzOsvmCcjaCQH0DyQVy3TQLIYGMaAoXlLP+yOYL8jnL5gvK2Qj09FWJ0U/cQ4BlQjnrj2y+IJ+zbL6gnI1AT1+VGBUKhUKh8EIlRj9JSkoKtULAKGf9kc0X5HOWzReUsxHo6asSo5+4K1LIhHLWH9l8QT5n2XxBORuBnr5VNjGmpaXRrFkzOnToEJTjORyOoBzHSJSz/sjmC/I5y+YLytkI9PStsolxxIgRbN68mfXr1wfleOUtiRXuKGf9kc0X5HOWzReUsxHo6VtlE2OwSUhICLVCwChn/ZHNF+Rzls0XlLMR6OmrEqOfyFYuCZSzEcjmC/I5y+YLytkIqmRJOKNwF/Y503UZs7OziYiQK1zKWX9k8wX5nGXzBeVsBIH6unOAP8Xe5InCaeJeW6xevXohNlEoFApFqMnJyTnlVI8qXyvV5XJx8OBBEhISKiwh1KFDh0oH6bjXdNy3b1+lNfZOdRwj2/yXnWXzVc4Vt5HNVzkHp40evkIIcnJyqF27NuZTLCFY5c8YzWYzdevWrbSNezXtU5GYmFhpO3+OY2Qb+G86y+ZrdBuQz1k2X1DOZ9JGL19/iwKowTdoUzuMOo6RbfyhKjrL5mt0G3+QzVk232D+rKrobKRveVT5S6nBIFhLVxmJctYf2XxBPmfZfEE5G4HevuqM0Q+sVitjx47FarWGWsVvlLP+yOYL8jnL5gvK2Qj09lVnjAqFQqFQeKHOGBUKhUKh8EIlRoVCoVAovFCJUaFQKBQKL1Ri9CIvL4/777+fJ598kpEjR1JUVFRuuxkzZvDoo48yePBgNm3aZKxkKZYuXUqjRo1ITU3lwQcfrHAplj179hAZGYnJZMJkMrFx40aDTX158cUXPS6tWrUqt83ixYt58MEHGTp0KMuXLzfYsIQePXp4XN2Pr7/+uky73NxcUlNTPW2++OILQz2XL1/ORRddxO7duz3b/O3TEJp+XZ6zv30aQtOvy3MG//o0GN+vy/P1t0+D8f26or//kSNHGDZsGI899hhPP/10paXdXnrpJR5//HEGDx7Mnj17ApcQCg933nmn+OKLL4QQQnz44Yfi4YcfLtNm+fLlom/fvkIIIbKzs0Xz5s1Fbm6ukZoejh07Jm677Taxbt06MWfOHBEXFycmT55cbttnnnlGfPPNN2LZsmVi1apVBpv6UlhYKIYNGyaWLVsmli1bJrZt21amzT///CM6dOggXC6XcDgcok2bNmL//v2Gu+7bt0/cd999YvXq1WLt2rVi7dq1omXLlqKgoKBM26lTp4rPPvvM83s5HA7DPI8ePSoWLlwoALFr1y7Pdn/6tBCh6dflOQfSp4Uwvl9XFGd/+rQQxvfr8nwD6dNCGNuvK/v7X3rppWLjxo1CCCHGjRsnpk6dWu4x3n//fTFy5EghhBA7d+4UHTt2FE6nMyAPlRhPcuDAAREdHe3pHEePHhUxMTEiOzvbp93VV18t3n//fc/rXr16iRkzZhjq6mbt2rUiPz/f8/qxxx4TvXr1KtMuIyND9OzZU+zZs8dIvQp59913xcsvvyzy8vIqbDN8+HDx7LPPel7ff//94umnnzZCz4d9+/b5vN6/f7+48cYby7QrLi4WPXr0EFu2bDFKrQxOp9PnA9DfPi1E6Pp1aWd/+7QQoevXpZ2F8K9PCxGafl3a198+LYTx/bqiv//atWtFvXr1PNvXrVsn6tatK1wuV5ljNGnSRHz//fee182aNRPLli0LyENdSj3JqlWrqF69OtHR0QDUqFEDq9XKunXrPG2cTierV6+mQYMGnm2NGzdm9erVhvsCdOrUiZiYGM/rOnXqlFv+bsGCBfzwww80aNCAO+64g9zcXCM1y/Dpp5/y9NNPU7NmTWbPnl1umxUrVoRFnEvHc9GiRfTt27dMu2XLlvHLL79wwQUXcPXVV3P06FGjFD2Urv/oT5+G0Pbr0s7+9mkIXb8ur86mP30aQtOvS/v626fB+H5d0d+/vLjt37+fnTt3+rz/4MGDbN269YxjrBLjSQ4cOEBqaqrPtvj4eA4ePOh5nZGRQWFhoU+70m1Cyfr16xk+fHiZ7UOHDsVms7F06VJ+/PFHBg0aFAK7ElasWMGJEyd45JFHGDhwYLn3Nkr/PcIlzkuXLuXaa68ts71nz57YbDbWrFnDoUOH6NOnDy6XKwSGJfjTpyG8+3VFfRrCq1/706chPPt1RX0aQt+v3X//8uIGlIndgQMHAM44xioxnsRkMnm+Wbux2+1ERkb6tAF82pVuEyp27dpFSkoKbdu2LXe/xWKhZ8+efPfddyxatCjk/xmTkpJ47rnneOaZZ5g6dWqZ/aX/HuEQZ5vNBkBycnKFbbp06cL333/Pv//+y88//2yQWfn406fd7SD8+vWp+jSEV78+VZ+G8OvX/vRpCE2/9v77lxc3QLe+rBLjSWrXru3pJG5yc3OpXbu253W1atWwWq0+7dzLmIQSl8vF9OnTmTRp0inbNmnShO7du7Nv3z4DzE7NiBEjynUp/fcIhzgvXbqUXr16nbJdjRo1uOmmm0IeY3/6NIRnvw6kT0N49euK+jSEX7/2t0+Dsf269N+/vLi5t3vjfn2mMVaJ8STdunVj//79nm8i7m+eHTt29LQxmUx069aN7du3e7bt2LGDbt26GStbitdff52HHnqozNlBRcTFxXHBBRfobOUfZrO53DOC7t27h12cFy9eTL9+/fxqGxERQevWrXX1ORX+9GkIz34daJ+G8OnXFfVpCL9+HUifBuP6dem/f3lxa9iwIfXr1/d5X+3atWnatOkZx1glxpPUqlWLa665xnOT9rvvvuP+++/HarXy1FNPcejQIUD7Nvjtt98CWoX3AwcOcNNNN4XMe8qUKTRp0gS73c7OnTuZOXMm27dv93H+5JNPPM/T09O59NJL/V6XLNgcP36cOXPm4HQ6EULw2muv8cILLwAwadIk/v77bwCGDx/OsmXLAHA4HKxbt46hQ4eGxBm0yzEnTpzw+ebp7btkyRK2bdsGwPbt20lKSqJJkyaGOoqT87rc/1bUp6OjoxFChEW/Lu0M5ffpHTt2lHEOVb8u7VxZn4bQ9+vyYgzl9+nSvqHo1+X9/atVq0ZKSoon4X333Xc88sgjgDZXd8yYMeTn5wNw//33e/ryzp07SU1N5dJLLw1MIqAxrFWcY8eOiSFDhojx48eLhx9+WBQVFYn8/HxxzjnniLVr13raTZgwQTz99NPivvvuE7///nvIfKdOnSoAn0fTpk3LON9xxx0iNTVVDBgwQMycOTNkvkJo84oaNmwoLrjgAjF06FDx119/efa1bdtWzJ8/3/N65syZ4tFHHxUPPvigWLFiRSh0PXzzzTdiwoQJPtu8fZ966imRmJgo+vbtK6ZMmRLwvKkzJScnR0ybNk0AYuzYseLYsWNCiPL7tBAiLPp1ec4V9enynEPRr8tzrqxPCxHafl1RvxCi/D5d2tfofl3Z33/Hjh1i8ODB4rnnnhNjx471TNXYvXu3qFOnjti9e7cQQpueMmbMGDFu3DgxfPhwsXfv3oA91OoaCoVCoVB4oS6lKhQKhULhhUqMCoVCoVB4oRKjQqFQKBReqMSoUCgUCoUXKjEqFAqFQuGFSowKhUKhUHihEqNCoVAoFF6oxKhQKBQKhRcqMSoUVYxJkyYxYsSIUGsoFNISEWoBhUIRGM899xyff/45LVu2ZNeuXfz+++/079+fzMxMVq5cybp168jKygq1pkIhLSoxKhSSUadOHdavX090dDSzZs3imWeeYc6cOQDMmzeP+Ph4LrzwwhBbKhTyohKjQiEZ/fv3r3A5puuuu87QFdYViqqIuseoUEhG9erVK9x34MABHnjgAYYPHw7A9OnTadKkCT/99BO9e/cmJSWFBQsW8NVXX9GkSRMaNWrE7t27AW1ZojfffJNx48bRqVMnZs6cacSvo1CEHSoxKhRViPr16xMVFUVRUREAPXv2ZNu2bWzevJlFixbxxBNPMGbMGKxWK1u3bqVZs2a8/fbbAHz88cckJyczduxYpk2bxvDhw9m1a1cofx2FIiSoxKhQVCGioqKoWbOm53WDBg0AuOqqq4iIiKB9+/YIIejRowcArVu35ujRowB89NFHbNmyhddff52VK1fSvXt3z0LACsV/CXWPUaGoYphMpnKfA1gsFp/XZrPZc09y3759jBs3js6dOwPw6KOP6myqUIQn6oxRoVAAUKtWLT7//HPP68LCQv74448QGikUoUGdMSoUEuN0OnE4HD7bhBAIITzPvf8tD/e+W2+9lfvuu4/ExEQuu+wy5s2bx8SJE3UyVyjCF5UYFQpJ2bBhA5999hlHjx7lvffeY8CAAWRmZrJixQpOnDjBP//8Q3p6OqANrBk8eDDz58/n8OHDLF68mAsuuIDly5dz/Phx/vzzT4YMGcKuXbt48803+eSTT5gxYwaJiYkh/i0VCuMxicq+SioUCoVC8R9D3WNUKBQKhcILlRgVCoVCofBCJUaFQqFQKLxQiVGhUCgUCi9UYlQoFAqFwguVGBUKhUKh8EIlRoVCoVAovFCJUaFQKBQKL1RiVCgUCoXCC5UYFQqFQqHwQiVGhUKhUCi8UIlRoVAoFAov/h+cS6VgJvs7ZAAAAABJRU5ErkJggg==' width=500.0/>\n",
       "            </div>\n",
       "        "
      ],
      "text/plain": [
       "Canvas(toolbar=Toolbar(toolitems=[('Home', 'Reset original view', 'home', 'home'), ('Back', 'Back to previous …"
      ]
     },
     "metadata": {},
     "output_type": "display_data"
    }
   ],
   "source": [
    "fig, ax = plt.subplots(1, 1, figsize=(5, 4))\n",
    "ax1 = ax\n",
    "ax1.plot(t1,V1,'b')\n",
    "ax1.plot(t2,V2,'r--')\n",
    "ax1.set_xlabel(\"Time\")\n",
    "ax1.set_ylabel(\"Voltage [V]\")\n",
    "ax1.legend([\"Room\",\"Hot\"])\n",
    "ax1.set_title(\"C/20 Charge Voltage\")"
   ]
  },
  {
   "cell_type": "code",
   "execution_count": 22,
   "metadata": {},
   "outputs": [
    {
     "data": {
      "text/plain": [
       "Text(0.5, 1.0, 'C/20 Charge Voltage Error')"
      ]
     },
     "execution_count": 22,
     "metadata": {},
     "output_type": "execute_result"
    },
    {
     "data": {
      "application/vnd.jupyter.widget-view+json": {
       "model_id": "b77fed67656349309119d998203a5f1b",
       "version_major": 2,
       "version_minor": 0
      },
      "image/png": "[encoded data removed]",
      "text/html": [
       "\n",
       "            <div style=\"display: inline-block;\">\n",
       "                <div class=\"jupyter-widgets widget-label\" style=\"text-align: center;\">\n",
       "                    Figure\n",
       "                </div>\n",
       "                <img src='data:image/png;base64,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' width=500.0/>\n",
       "            </div>\n",
       "        "
      ],
      "text/plain": [
       "Canvas(toolbar=Toolbar(toolitems=[('Home', 'Reset original view', 'home', 'home'), ('Back', 'Back to previous …"
      ]
     },
     "metadata": {},
     "output_type": "display_data"
    }
   ],
   "source": [
    "int_V = interpolate.CubicSpline(t2,V2,extrapolate=True)\n",
    "rmse_V = pybamm.rmse(V1,int_V(t1))\n",
    "fig, ax = plt.subplots(1, 1, figsize=(5, 4))\n",
    "ax1 = ax\n",
    "ax1.plot(t1,V1-int_V(t1),'b')\n",
    "ax1.set_xlabel(\"Time\")\n",
    "ax1.set_ylabel(\"Voltage [V]\")\n",
    "ax1.set_title(\"C/20 Charge Voltage Error\")"
   ]
  },
  {
   "cell_type": "code",
   "execution_count": null,
   "metadata": {},
   "outputs": [],
   "source": [
    "sdfsd"
   ]
  },
  {
   "cell_type": "code",
   "execution_count": null,
   "metadata": {},
   "outputs": [],
   "source": [
    "# fig, axes = plt.subplots(2, 3, figsize=(8, 6))\n",
    "# ax1 = axes.flat[0]\n",
    "# ax1.plot(t1,V1,'b')\n",
    "# ax1.plot(t2,V2,'rv-')\n",
    "# ax1.set_title('Voltage [V]')\n",
    "# ax3 = axes.flat[3]\n",
    "# ax3.plot(t1,phi_pl1,'b')\n",
    "# ax3.plot(t2,phi_pl2,'rv-')\n",
    "# ax3.set_ylim([-0.1,1])\n",
    "# ax3.set_title('Plating Overpotential [V]')\n",
    "# ax4 = axes.flat[5]\n",
    "# ax4.plot(t1,phi_sei1,'b')\n",
    "# ax4.plot(t2,phi_sei2,'rv-')\n",
    "# # ax4.set_ylim([-0.1,1])\n",
    "# ax4.set_title('SEI Overpotential [V]')\n",
    "# ax2 = axes.flat[2]\n",
    "# ax2.plot(t1,Q_Li1,'b')\n",
    "# ax2.plot(t2,Q_Li2,'rv-')\n",
    "# ax2.set_title('Capacity lost due to plating [Ah]')\n",
    "# ax6=axes.flat[1]\n",
    "# ax6.plot(t1,I_Li1,'b')\n",
    "# ax6.plot(t2,I_Li2,'rv-')\n",
    "# ax6.set_title('Lithium plating interfacial current density')\n",
    "# ax5=axes.flat[4]\n",
    "# ax5.plot(t1,phi_del1,'b')\n",
    "# ax5.plot(t2,phi_del2,'rv-')\n",
    "# ax5.set_ylim([-0.1,1])\n",
    "\n",
    "# ax1.plot(t3,V3,'g--')\n",
    "# ax3.plot(t3,phi_pl3,'g--')\n",
    "# ax4.plot(t3,phi_sei3,'g--')\n",
    "# ax2.plot(t3,Q_Li3,'g--')\n",
    "# ax6.plot(t3,I_Li3,'g--')\n",
    "# ax5.plot(t3,phi_del3,'g--')\n",
    "# ax5.set_title('Neg Elec Surf Pot Diff [V]')\n",
    "# # ax5.set_ylim([-0.1,1])\n",
    "# # ax1.legend(['baseline',r'decreasing $\\alpha_{pl}$',r'Increasing $k_{0,pl}$'])\n",
    "# # ax1.legend(['Irreversible ','Reversible','Partially Reversible'])\n",
    "# ax1.legend(['C/5','1.5C','New Params'])\n",
    "# # ax1.legend(['SPM','SPMe'])\n",
    "# fig.tight_layout()\n",
    "# # plt.savefig(fig_DIR+'plating_models_parameters'+'.png')\n",
    "# plt.savefig(fig_DIR+'plating_compare_crate'+'.png')\n",
    "# # plt.savefig(fig_DIR+'plating_compare_spme'+'.png')"
   ]
  },
  {
   "cell_type": "code",
   "execution_count": null,
   "metadata": {},
   "outputs": [],
   "source": [
    "# fig, axes = plt.subplots(3, 1, figsize=(6,8))\n",
    "# ax1 = axes.flat[0]\n",
    "# ax1.plot(Q1,phi_ocp1,'b')\n",
    "# ax1.plot(Q2,phi_ocp2,'rv-')\n",
    "# ax1.set_title('Negative Electrode Open Circuit Potential [V]')\n",
    "# ax2 = axes.flat[1]\n",
    "# ax2.plot(Q1,phi_int1,'b')\n",
    "# ax2.plot(Q2,phi_int2,'rv-')\n",
    "# ax2.set_title('Negative Electrode Intercalation Overpotential [V]')\n",
    "# ax3 = axes.flat[2]\n",
    "# ax3.plot(Q1,phi_pl1,'b')\n",
    "# ax3.plot(Q2,phi_pl2,'rv-')\n",
    "# ax3.set_title('Plating Overpotential [V]')\n",
    "# # ax5.set_ylim([-0.1,1])\n",
    "# # ax1.legend(['baseline',r'decreasing $\\alpha_{pl}$',r'Increasing $k_{0,pl}$'])\n",
    "# # ax1.legend(['Irreversible ','Reversible','Partially Reversible'])\n",
    "# ax1.legend(['C/5','1.5C','High R'])\n",
    "# # ax1.legend(['SPM','SPMe'])\n",
    "# fig.tight_layout()\n",
    "# # plt.savefig(fig_DIR+'plating_models_parameters'+'.png')\n",
    "# # plt.savefig(fig_DIR+'plating_compare_crate'+'.png')\n",
    "# # plt.savefig(fig_DIR+'plating_compare_spme'+'.png')"
   ]
  },
  {
   "attachments": {},
   "cell_type": "markdown",
   "metadata": {},
   "source": [
    "# Compare Stress, Plating C Rates"
   ]
  },
  {
   "cell_type": "code",
   "execution_count": null,
   "metadata": {},
   "outputs": [],
   "source": [
    "t1,V1,I1,Q1,Q_Li1,I_Li1,I_de1,I_st1,I_to1,phi_seif1,phi_sei1,phi_pl1,phi_del1,phi_ocp1,phi_int1,i0_int1,phi_e_avg1,c_e_avg1,c_ss_n1,c_save_n1,c_s_n1,u_css_n1,j_pl1,eta_pl1,sigma_hs_n1,C_n1,sigma_hs_p1,C_p1 = plot_vars(solution1)\n",
    "t2,V2,I2,Q2,Q_Li2,I_Li2,I_de2,I_st2,I_to2,phi_seif2,phi_sei2,phi_pl2,phi_del2,phi_ocp2,phi_int2,i0_int2,phi_e_avg2,c_e_avg2,c_ss_n2,c_save_n2,c_s_n2,u_css_n2,j_pl2,eta_pl2,sigma_hs_n2,C_n2,sigma_hs_p2,C_p2 = plot_vars(solution2)"
   ]
  },
  {
   "cell_type": "code",
   "execution_count": null,
   "metadata": {},
   "outputs": [],
   "source": [
    "fig, ax = plt.subplots(1, 2, figsize=(6, 4))\n",
    "ax1 = ax.flat[0]\n",
    "ax1.plot(t1,sigma_hs_p1,'b--')\n",
    "ax1.plot(t2,sigma_hs_p2,'r--')\n",
    "ax1.set_title(r'$\\sigma^+_{h,surf}$ [Pa]')\n",
    "ax2 = ax.flat[1]\n",
    "ax2.plot(t1,C_p1[0]-C_p1,'b--')\n",
    "ax2.plot(t2,C_p2[0]-C_p2,'r--')\n",
    "ax2.set_title(r'$C_{p,loss}$ [Ah]')\n",
    "fig.tight_layout()\n",
    "plt.savefig(fig_DIR+'positive_electrode_stress'+'.png')"
   ]
  },
  {
   "cell_type": "code",
   "execution_count": null,
   "metadata": {},
   "outputs": [],
   "source": [
    "sigma_hs_p1_min = min(sigma_hs_p1/1e6)\n",
    "sigma_hs_p2_min = min(sigma_hs_p2/1e6)\n",
    "print(sigma_hs_p1_min)\n",
    "print(sigma_hs_p2_min)\n",
    "print(sigma_hs_p2_min/sigma_hs_p1_min)"
   ]
  },
  {
   "cell_type": "code",
   "execution_count": null,
   "metadata": {},
   "outputs": [],
   "source": [
    "sigma_hs_n1_min = min(sigma_hs_n1/1e6)\n",
    "sigma_hs_n2_min = min(sigma_hs_n2/1e6)\n",
    "print(sigma_hs_n1_min)\n",
    "print(sigma_hs_n2_min)\n",
    "print(sigma_hs_n2_min/sigma_hs_n1_min)"
   ]
  },
  {
   "cell_type": "code",
   "execution_count": null,
   "metadata": {},
   "outputs": [],
   "source": [
    "fig, ax = plt.subplots(1, 2, figsize=(6, 4))\n",
    "ax1 = ax.flat[0]\n",
    "ax1.plot(t1,sigma_hs_n1,'b--')\n",
    "ax1.plot(t2,sigma_hs_n2,'r--')\n",
    "ax1.set_title(r'$\\sigma^-_{h,surf}$ [Pa]')\n",
    "ax2 = ax.flat[1]\n",
    "ax2.plot(t1,C_n1[0]-C_n1,'b--')\n",
    "ax2.plot(t2,C_n2[0]-C_n2,'r--')\n",
    "ax2.set_title(r'$C_{n,loss}$ [Ah]')\n",
    "fig.tight_layout()\n",
    "plt.show()\n",
    "plt.savefig(fig_DIR+'negative_electrode_stress'+'.png')"
   ]
  },
  {
   "cell_type": "code",
   "execution_count": null,
   "metadata": {},
   "outputs": [],
   "source": [
    "aSAs"
   ]
  },
  {
   "cell_type": "code",
   "execution_count": null,
   "metadata": {},
   "outputs": [],
   "source": [
    "fig, axes = plt.subplots(1, 2, figsize=(9, 4))\n",
    "ax1 = axes.flat[0]\n",
    "ax1.plot(t1,sigma_hs_n1,'b--')\n",
    "ax1.plot(t2,sigma_hs_n2,'rv-')\n",
    "ax1.set_title(r'$\\sigma_{h,surf}$ [Pa]')\n",
    "ax11 = axes.flat[1]\n",
    "ax11.plot(t1,c_ss_n1-c_save_n1,'b--')\n",
    "# ax11.plot(t1,c_save_n1,'b--')\n",
    "ax11.plot(t2,c_ss_n2-c_save_n2,'rv-')\n",
    "ax11.set_title(r'$c_{ss}^--c_{s,avg}^-$ [mol.$m^{-3}$]')\n",
    "plt.savefig(fig_DIR+'mech_stress_crate'+'.png')"
   ]
  },
  {
   "cell_type": "code",
   "execution_count": null,
   "metadata": {},
   "outputs": [],
   "source": [
    "\n",
    "fig, axes = plt.subplots(6, 2, figsize=(8, 10))\n",
    "ax1 = axes.flat[0]\n",
    "ax1.plot(t1,V1,'b')\n",
    "ax1.plot(t2,V2,'rv-')\n",
    "ax1.set_title('Voltage [V]')\n",
    "ax2 = axes.flat[2]\n",
    "ax2.plot(t1,phi_ocp1,'b')\n",
    "ax2.plot(t2,phi_ocp2,'rv-')\n",
    "ax2.set_title(r'U($c_{ss})$  [V]')\n",
    "ax3 = axes.flat[6]\n",
    "ax3.plot(t1,phi_pl1,'b')\n",
    "ax3.plot(t2,phi_pl2,'rv-')\n",
    "ax3.axhline(y = 0.0, color = 'k', linestyle = '--')\n",
    "ax3.set_title(r'$\\eta_{pl}$ [V]')\n",
    "ax4=axes.flat[3]\n",
    "ax4.plot(t1,i0_int1,'b')\n",
    "ax4.plot(t2,i0_int2,'rv-')\n",
    "ax4.set_title(r'$i_0$  [A.$m^{-2}$]')\n",
    "ax5=axes.flat[4]\n",
    "ax5.plot(t1,phi_int1,'b')\n",
    "ax5.plot(t2,phi_int2,'rv-')\n",
    "ax5.set_title(r'$\\eta_{int}$ [V]')\n",
    "ax6=axes.flat[7]\n",
    "ax6.plot(t1,I_Li1,'b')\n",
    "ax6.plot(t2,I_Li2,'rv-')\n",
    "ax6.set_title(r'$j_{pl}$ [A.$m^{-2}$]')\n",
    "ax7 = axes.flat[1]\n",
    "ax7.plot(t1,I1,'b')\n",
    "ax7.plot(t2,I2,'rv-')\n",
    "ax7.set_title('Current [A]')\n",
    "ax8=axes.flat[5]\n",
    "ax8.plot(t1,I_to1,'b')\n",
    "ax8.plot(t2,I_to2,'rv-')\n",
    "ax8.set_title(r'$j_{int}$  [A.$m^{-2}$]')\n",
    "ax9=axes.flat[8]\n",
    "ax9.plot(t1,phi_e_avg1,'b')\n",
    "ax9.plot(t2,phi_e_avg2,'rv-')\n",
    "ax9.set_title(r'$\\overline{\\Phi}^-_{e}$ [V]')\n",
    "ax10=axes.flat[9]\n",
    "ax10.plot(t1,c_e_avg1,'b')\n",
    "ax10.plot(t2,c_e_avg2,'rv-')\n",
    "ax10.set_title(r'$\\overline{c}^-_{e}$ [mol.$m^{-3}$]')\n",
    "\n",
    "ax11 = axes.flat[10]\n",
    "ax11.plot(t1,c_ss_n1-c_save_n1,'b--')\n",
    "# ax11.plot(t1,c_save_n1,'b--')\n",
    "ax11.plot(t2,c_ss_n2-c_save_n2,'rv-')\n",
    "# ax11.plot(t2,c_save_n2,'r--')\n",
    "# ax11.legend(['surf','ave'])\n",
    "ax11.set_title(r'$c_{ss}^--c_{s,avg}^-$ [mol.$m^{-3}$]')\n",
    "ax12 = axes.flat[11]\n",
    "ax12.plot(t1,Q_Li1,'b')\n",
    "ax12.plot(t2,Q_Li2,'rv-')\n",
    "ax12.set_title('Capacity lost due to plating [Ah]')\n",
    "\n",
    "ax11.set_xlabel(\"Time [hr]\")\n",
    "ax12.set_xlabel(\"Time [hr]\")\n",
    "# ax5.set_ylim([-0.1,1])\n",
    "# ax1.legend(['baseline',r'decreasing $\\alpha_{pl}$',r'Increasing $k_{0,pl}$'])\n",
    "# ax1.legend(['Irreversible ','Reversible','Partially Reversible'])\n",
    "# ax1.legend(['C/5','1.5C'])\n",
    "ax1.legend(['1.5C','2C'])\n",
    "axis = [ax1,ax2,ax5,ax3,ax9,ax7,ax4,ax8,ax6,ax10,ax11,ax12]\n",
    "labels = [\"a)\",\"b)\",\"c)\",\"d)\",\"e)\",\"f)\",\"g)\",\"h)\",\"i)\",\"j)\",\"k)\",\"l)\"]\n",
    "for ax, label in zip(axis,labels):\n",
    "  ax.text(-0.1,1.1,label,transform=ax.transAxes, fontsize=14)  \n",
    "\n",
    "# ax1.legend(['SPM','SPMe'])\n",
    "fig.tight_layout()\n",
    "# plt.savefig(fig_DIR+'plating_models_parameters'+'.png')\n",
    "# plt.savefig(fig_DIR+'plating_compare_models_1p5C'+'.png')\n",
    "plt.savefig(fig_DIR+'plating_compare_crate_new_2'+'.png')"
   ]
  },
  {
   "cell_type": "code",
   "execution_count": null,
   "metadata": {},
   "outputs": [],
   "source": [
    "i_pl_area1 = np.trapz(I_Li1,t1)\n",
    "i_pl_avg1 = i_pl_area1/t1[-1]\n",
    "i_pl_area2 = np.trapz(I_Li2,t2)\n",
    "i_pl_avg2 = i_pl_area2/t2[-1]\n",
    "print(i_pl_avg1)\n",
    "print(i_pl_avg2)\n",
    "print(i_pl_avg2/i_pl_avg1)\n",
    "print(Q_Li2[-1]/Q_Li1[-1])"
   ]
  },
  {
   "cell_type": "code",
   "execution_count": null,
   "metadata": {},
   "outputs": [],
   "source": [
    "fgdfgd"
   ]
  },
  {
   "attachments": {},
   "cell_type": "markdown",
   "metadata": {},
   "source": [
    "# Concentration Evolution"
   ]
  },
  {
   "cell_type": "code",
   "execution_count": null,
   "metadata": {},
   "outputs": [],
   "source": [
    "fig, ax = plt.subplots(1, 1, figsize=(5, 4))\n",
    "ax.plot(t1/t1[-1],c_ss_n1,'b')\n",
    "ax.plot(t1/t1[-1],c_save_n1,'b--')\n",
    "ax.plot(t1/t1[-1],c_s_n1[0,:],'b-.')\n",
    "ax.plot(t2/t2[-1],c_ss_n2,'r')\n",
    "ax.plot(t2/t2[-1],c_save_n2,'r--')\n",
    "ax.plot(t2/t2[-1],c_s_n2[0,:],'r-.')\n",
    "ax.legend([r\"C/5 $c_{ss}$\",r\"C/5 $c_{s,ave}$\",r\"C/5 $c_{s,0}$\",r\"1.5C $c_{ss}$\",r\"1.5C $c_{s,ave}$\",r\"1.5C $c_{s,0}$\"])\n",
    "ax.set_xlabel(\"Normalized Time\")\n",
    "ax.set_ylabel(\"Conc [mol$m^{-3}$]\")\n",
    "ax.set_title(r'Negative Electrode Li Concentration $c_s$')\n",
    "fig.savefig(fig_DIR+\"neg_conc_crate_comp_norm\"+\".png\")"
   ]
  },
  {
   "cell_type": "code",
   "execution_count": null,
   "metadata": {},
   "outputs": [],
   "source": [
    "fig, ax = plt.subplots(1, 1, figsize=(5, 4))\n",
    "ax.plot(t1/t1[-1],u_css_n1,'b')\n",
    "ax.plot(t2/t2[-1],u_css_n2,'r')\n",
    "ax.legend([\"C/5\",\"1.5C\"])\n",
    "ax.set_xlabel(\"Normalized Time\")\n",
    "ax.set_ylabel(\"Potential [V]\")\n",
    "ax.set_title(r'$U_n(c_{ss})$')\n",
    "fig.savefig(fig_DIR+\"neg_pot_crate_comp\"+\".png\")"
   ]
  },
  {
   "cell_type": "code",
   "execution_count": null,
   "metadata": {},
   "outputs": [],
   "source": [
    "fig, ax = plt.subplots(1, 1, figsize=(5, 4))\n",
    "ax.plot(t1/t1[-1],c_ss_n1-c_save_n1,'b')\n",
    "# ax.plot(t1/t1[-1],c_save_n1-c_s_n1[0,:],'b--')\n",
    "# ax.plot(t1/t1[-1],c_s_n1[0,:],'b-.')\n",
    "ax.plot(t2/t2[-1],c_ss_n2-c_save_n2,'r')\n",
    "# ax.plot(t2/t2[-1],c_save_n2-c_s_n2[0,:],'r--')\n",
    "# ax.plot(t2/t2[-1],c_s_n2[0,:],'r-.')\n",
    "ax.legend([r\"C/5 $c_{ss}-c_{s,avg}$\",r\"1.5C $c_{ss}-c_{s,avg}$\"])\n",
    "ax.set_xlabel(\"Normalized Time\")\n",
    "ax.set_ylabel(\"Conc [mol$m^{-3}$]\")\n",
    "ax.set_title(r'Negative Electrode Li Concentration Difference $c_s$')"
   ]
  },
  {
   "cell_type": "code",
   "execution_count": null,
   "metadata": {},
   "outputs": [],
   "source": [
    "len(t1)"
   ]
  },
  {
   "cell_type": "code",
   "execution_count": null,
   "metadata": {},
   "outputs": [],
   "source": [
    "fig, ax1 = plt.subplots(1, 1, figsize=(5,3))\n",
    "ax1.plot(t1,I1)\n",
    "n=1\n",
    "ax1.plot(t1[n],I1[n],'rx')\n",
    "n=150\n",
    "ax1.plot(t1[n],I1[n],'rx')\n",
    "n=287\n",
    "ax1.plot(t1[n],I1[n],'rx')\n",
    "n=292\n",
    "ax1.plot(t1[n],I1[n],'rx')\n",
    "n=298\n",
    "ax1.plot(t1[n],I1[n],'rx')"
   ]
  },
  {
   "cell_type": "code",
   "execution_count": null,
   "metadata": {},
   "outputs": [],
   "source": [
    "fig, ax1 = plt.subplots(1, 1, figsize=(5,3))\n",
    "ax1.plot(t2,I2)\n",
    "n=1\n",
    "ax1.plot(t2[n],I2[n],'rx')\n",
    "n=18\n",
    "ax1.plot(t2[n],I2[n],'rx')\n",
    "n=36\n",
    "ax1.plot(t2[n],I2[n],'rx')\n",
    "n=46\n",
    "ax1.plot(t2[n],I2[n],'rx')\n",
    "n=56\n",
    "ax1.plot(t2[n],I2[n],'rx')"
   ]
  },
  {
   "cell_type": "code",
   "execution_count": null,
   "metadata": {},
   "outputs": [],
   "source": [
    "ln = np.linspace(0,1,20)\n",
    "n = 1\n",
    "print(t1[n]/60)\n",
    "y1 = c_s_n1[:,n]\n",
    "n = 10\n",
    "y2 = c_s_n1[:,n]\n",
    "n = 20\n",
    "y3 = c_s_n1[:,n]\n",
    "n = 30\n",
    "y4 = c_s_n1[:,n]\n",
    "n = 40\n",
    "y5 = c_s_n1[:,n]\n",
    "n = 50\n",
    "y6 = c_s_n1[:,n]\n",
    "fig, ax1 = plt.subplots(1, 1, figsize=(5,3))\n",
    "ax1.plot(ln,y1)\n",
    "ax1.plot(ln,y2,'--')\n",
    "ax1.plot(ln,y3,'--')\n",
    "ax1.plot(ln,y4,'--')\n",
    "ax1.plot(ln,y5,'--')\n",
    "ax1.plot(ln,y6,'--')\n",
    "ax1.set_title(r'Negative Electrode $c_e-c_{e,ref}$ [mol.$m^{-3}$]')\n",
    "ax1.set_xlabel(\"Negative electrode normalized length\")\n",
    "ax1.legend([\"1 min\",\"10 min\",\"20 min\",\"30 min\",\"40 min\",\"50 min\"])\n",
    "# ax1.legend(['C/5','1.5 C'])\n",
    "fig.tight_layout()\n",
    "# plt.savefig(fig_DIR+'dfn_c_e_5'+'.png')"
   ]
  },
  {
   "cell_type": "code",
   "execution_count": null,
   "metadata": {},
   "outputs": [],
   "source": [
    "i_pl_area1 = np.trapz(I_Li1,t1)\n",
    "i_pl_avg1 = i_pl_area1/t1[-1]\n",
    "i_pl_area2 = np.trapz(I_Li2,t2)\n",
    "i_pl_avg2 = i_pl_area2/t2[-1]\n",
    "print(i_pl_avg1)\n",
    "print(i_pl_avg2)\n",
    "print(i_pl_avg2/i_pl_avg1)\n",
    "print(Q_Li2[-1]/Q_Li1[-1])"
   ]
  },
  {
   "cell_type": "code",
   "execution_count": null,
   "metadata": {},
   "outputs": [],
   "source": [
    "sadas"
   ]
  },
  {
   "cell_type": "code",
   "execution_count": null,
   "metadata": {},
   "outputs": [],
   "source": [
    "out = parameter_values.evaluate(0.75*param.F/param.R/298.15)\n",
    "print(out)"
   ]
  },
  {
   "attachments": {},
   "cell_type": "markdown",
   "metadata": {},
   "source": [
    "# Compare Lithium Plating average vs seperator overpotential"
   ]
  },
  {
   "cell_type": "code",
   "execution_count": null,
   "metadata": {},
   "outputs": [],
   "source": [
    "t1_e,V1_e,I1_e,Q1_e,Q_Li1_e,I_Li1_e,I_de1_e,I_st1_e,I_to1_e,phi_seif1_e,phi_sei1_e,phi_pl1_e,phi_del1_e,phi_ocp1_e,phi_int1_e,i0_int1_e,phi_e_avg1_e,c_e_avg1_e,c_ss_n1_e,c_save_n1_e,c_s_n1_e,u_css_n1_e,j_pl1_e,eta_pl1_e = plot_vars(solution1_e)\n",
    "t2_e,V2_e,I2_e,Q2_e,Q_Li2_e,I_Li2_e,I_de2_e,I_st2_e,I_to2_e,phi_seif2_e,phi_sei2_e,phi_pl2_e,phi_del2_e,phi_ocp2_e,phi_int2_e,i0_int2_e,phi_e_avg2_e,c_e_avg2_e,c_ss_n2_e,c_save_n2_e,c_s_n2_e,u_css_n2_e,j_pl2_e,eta_pl2_e = plot_vars(solution2_e)"
   ]
  },
  {
   "cell_type": "code",
   "execution_count": null,
   "metadata": {},
   "outputs": [],
   "source": [
    "# ln = np.linspace(0,1,20)\n",
    "# fig, ax1 = plt.subplots(1, 1, figsize=(5,3))\n",
    "# # ax1.plot(t2_e,j_pl2_e[10,:])\n",
    "# ax1.plot(ln,j_pl2_e[:,10])"
   ]
  },
  {
   "cell_type": "code",
   "execution_count": null,
   "metadata": {},
   "outputs": [],
   "source": [
    "es_2 = solution2_e[\"X-averaged positive electrode active material volume fraction\"].entries\n",
    "R_n = parameter_values.evaluate(param.n.prim.R_typ)\n",
    "F = parameter_values.evaluate(param.F)\n",
    "j_pl2_max_e = j_pl2_e[-1,:]\n",
    "nn = len(j_pl2_e)\n",
    "j_pl2_a=0\n",
    "eta_pl2_a=0\n",
    "for i in range(nn):\n",
    "    j_pl2_a+=j_pl2_e[i,:]\n",
    "    eta_pl2_a+=eta_pl2_e[i,:]\n",
    "j_pl2_av = j_pl2_a/nn\n",
    "eta_pl2_av = eta_pl2_a/nn\n",
    "d_c_lip_max = j_pl2_max_e\n",
    "d_c_lip_av = j_pl2_av\n",
    "\n",
    "eta_pl2_max_e = eta_pl2_e[-1,:]\n",
    "\n",
    "as_2 = 3*es_2/R_n\n",
    "\n",
    "mul =  parameter_values.evaluate(param.n.L*param.A_cc)\n",
    "# mul =  parameter_values.evaluate(param.n.L)\n",
    "mul2 = parameter_values.evaluate(param.n.L*param.L_y*param.L_z)\n",
    "# mul2 = parameter_values.evaluate(param.L_z)"
   ]
  },
  {
   "cell_type": "code",
   "execution_count": null,
   "metadata": {},
   "outputs": [],
   "source": [
    "Q_Li2_e_calc = -scipy.integrate.cumtrapz(d_c_lip_av*mul2*F,t2_e)\n",
    "Q_Li2_e_calc = np.append(Q_Li2_e_calc,Q_Li2_e_calc[-1])"
   ]
  },
  {
   "cell_type": "code",
   "execution_count": null,
   "metadata": {},
   "outputs": [],
   "source": [
    "Q_Li2_e_calc[-1] "
   ]
  },
  {
   "cell_type": "code",
   "execution_count": null,
   "metadata": {},
   "outputs": [],
   "source": [
    "Q_Li2_e[-1]"
   ]
  },
  {
   "cell_type": "code",
   "execution_count": null,
   "metadata": {},
   "outputs": [],
   "source": [
    "fig, ax1= plt.subplots(1, 1, figsize=(5, 4))\n",
    "ax1.plot(t2_e,Q_Li2_e)\n",
    "ax1.plot(t2_e,Q_Li2_e_calc)"
   ]
  },
  {
   "cell_type": "code",
   "execution_count": null,
   "metadata": {},
   "outputs": [],
   "source": [
    "c_lip_max = scipy.integrate.cumtrapz(d_c_lip_max,t2_e)\n",
    "c_lip_max = np.append(c_lip_max,c_lip_max[-1])\n",
    "c_lip_av = scipy.integrate.cumtrapz(d_c_lip_av,t2_e)\n",
    "c_lip_av = np.append(c_lip_av,c_lip_av[-1])"
   ]
  },
  {
   "cell_type": "code",
   "execution_count": null,
   "metadata": {},
   "outputs": [],
   "source": [
    "Q_Li2_e_max =c_lip_max/c_lip_av*Q_Li2_e"
   ]
  },
  {
   "cell_type": "code",
   "execution_count": null,
   "metadata": {},
   "outputs": [],
   "source": [
    "fig, axes = plt.subplots(1, 3, figsize=(10, 4))\n",
    "ax1 = axes.flat[0]\n",
    "ax1.plot(t2_e,j_pl2_av)\n",
    "ax1.plot(t2_e,j_pl2_max_e,'--')\n",
    "ax1.set_title(\"Plating Current\")\n",
    "ax1.set_ylabel(r\"Current [A$m^{-2}$]\")\n",
    "ax1.set_xlabel(\"Time [hr]\")\n",
    "ax1.legend([\"Average\",\"Maximum\"])\n",
    "ax2 = axes.flat[1]\n",
    "ax2.plot(t2_e,Q_Li2_e)\n",
    "ax2.plot(t2_e,Q_Li2_e_max,'--')\n",
    "ax2.set_title(R\"$Q_{loss,pl}$\")\n",
    "ax2.set_ylabel(r\"Capacity Loss [Ah]\")\n",
    "ax2.set_xlabel(\"Time [hr]\")\n",
    "ax3 = axes.flat[2]\n",
    "ax3.plot(t2_e,eta_pl2_av)\n",
    "ax3.plot(t2_e,eta_pl2_max_e,'--')\n",
    "ax3.set_title(R\"$\\eta_{pl}$\")\n",
    "ax3.set_ylabel(r\"Overpotential [V]\")\n",
    "ax3.set_xlabel(\"Time [hr]\")\n",
    "fig.tight_layout()\n",
    "plt.savefig(fig_DIR+'impact_eta_plmax'+'.png')"
   ]
  },
  {
   "cell_type": "code",
   "execution_count": null,
   "metadata": {},
   "outputs": [],
   "source": [
    "t1,V1,I1,Q1,Q_Li1,I_Li1,I_de1,I_st1,I_to1,phi_seif1,phi_sei1,phi_pl1,phi_del1,phi_ocp1,phi_int1,i0_int1,phi_e_avg1,c_e_avg1,c_ss_n1,c_save_n1,c_s_n1 = plot_vars(solution1)\n",
    "t2,V2,I2,Q2,Q_Li2,I_Li2,I_de2,I_st2,I_to2,phi_seif2,phi_sei2,phi_pl2,phi_del2,phi_ocp2,phi_int2,i0_int2,phi_e_avg2,c_e_avg2,c_ss_n2,c_save_n2,c_s_n2 = plot_vars(solution2)\n",
    "fig, axes = plt.subplots(6, 2, figsize=(8, 10))\n",
    "ax1 = axes.flat[0]\n",
    "ax1.plot(t1,V1,'b')\n",
    "ax1.plot(t2,V2,'rv-')\n",
    "ax1.set_title('Voltage [V]')\n",
    "ax2 = axes.flat[2]\n",
    "ax2.plot(t1,phi_ocp1,'b')\n",
    "ax2.plot(t2,phi_ocp2,'rv-')\n",
    "ax2.set_title(r'U($c_{ss})$  [V]')\n",
    "ax3 = axes.flat[6]\n",
    "ax3.plot(t1,phi_pl1,'b')\n",
    "ax3.plot(t2,phi_pl2,'rv-')\n",
    "ax3.set_title(r'$\\eta_{pl}$ [V]')\n",
    "ax4=axes.flat[3]\n",
    "ax4.plot(t1,i0_int1,'b')\n",
    "ax4.plot(t2,i0_int2,'rv-')\n",
    "ax4.set_title(r'$i_0$  [A.$m^{-2}$]')\n",
    "ax5=axes.flat[4]\n",
    "ax5.plot(t1,phi_int1,'b')\n",
    "ax5.plot(t2,phi_int2,'rv-')\n",
    "ax5.set_title(r'$\\eta_{int}$ [V]')\n",
    "ax6=axes.flat[7]\n",
    "ax6.plot(t1,I_Li1,'b')\n",
    "ax6.plot(t2,I_Li2,'rv-')\n",
    "ax6.set_title(r'$j_{pl}$ [A.$m^{-2}$]')\n",
    "ax7 = axes.flat[1]\n",
    "ax7.plot(t1,I1,'b')\n",
    "ax7.plot(t2,I2,'rv-')\n",
    "ax7.set_title('Current [A]')\n",
    "ax8=axes.flat[5]\n",
    "ax8.plot(t1,I_to1,'b')\n",
    "ax8.plot(t2,I_to2,'rv-')\n",
    "ax8.set_title(r'$j_{int}$  [A.$m^{-2}$]')\n",
    "ax9=axes.flat[8]\n",
    "ax9.plot(t1,phi_e_avg1,'b')\n",
    "ax9.plot(t2,phi_e_avg2,'rv-')\n",
    "ax9.set_title(r'$\\overline{\\Phi}^-_{e}$ [V]')\n",
    "ax10=axes.flat[9]\n",
    "ax10.plot(t1,c_e_avg1,'b')\n",
    "ax10.plot(t2,c_e_avg2,'rv-')\n",
    "ax10.set_title(r'$\\overline{c}^-_{e}$ [mol.$m^{-3}$]')\n",
    "\n",
    "ax11 = axes.flat[10]\n",
    "ax11.plot(t1,c_ss_n1-c_save_n1,'b--')\n",
    "# ax11.plot(t1,c_save_n1,'b--')\n",
    "ax11.plot(t2,c_ss_n2-c_save_n2,'r')\n",
    "# ax11.plot(t2,c_save_n2,'r--')\n",
    "ax11.legend(['surf','ave'])\n",
    "ax11.set_title(r'$c_s^-$ [mol.$m^{-3}$]')\n",
    "ax12 = axes.flat[11]\n",
    "ax12.plot(t1,Q_Li1,'b')\n",
    "ax12.plot(t2,Q_Li2,'rv-')\n",
    "ax12.set_title('Capacity lost due to plating [Ah]')\n",
    "\n",
    "ax11.set_xlabel(\"Time [hr]\")\n",
    "ax12.set_xlabel(\"Time [hr]\")\n",
    "# ax5.set_ylim([-0.1,1])\n",
    "# ax1.legend(['baseline',r'decreasing $\\alpha_{pl}$',r'Increasing $k_{0,pl}$'])\n",
    "# ax1.legend(['Irreversible ','Reversible','Partially Reversible'])\n",
    "ax1.legend(['1.5C','2C'])\n",
    "axis = [ax1,ax2,ax5,ax3,ax9,ax7,ax4,ax8,ax6,ax10,ax11,ax12]\n",
    "labels = [\"a)\",\"b)\",\"c)\",\"d)\",\"e)\",\"f)\",\"g)\",\"h)\",\"i)\",\"j)\",\"k)\",\"l)\"]\n",
    "for ax, label in zip(axis,labels):\n",
    "  ax.text(-0.1,1.1,label,transform=ax.transAxes, fontsize=14)  \n",
    "\n",
    "# ax1.legend(['SPM','SPMe'])\n",
    "fig.tight_layout()\n",
    "# plt.savefig(fig_DIR+'plating_models_parameters'+'.png')\n",
    "# plt.savefig(fig_DIR+'plating_compare_models_1p5C'+'.png')\n",
    "plt.savefig(fig_DIR+'plating_compare_crate_high_irrev'+'.png')"
   ]
  },
  {
   "cell_type": "code",
   "execution_count": null,
   "metadata": {},
   "outputs": [],
   "source": [
    "asdasd"
   ]
  },
  {
   "cell_type": "code",
   "execution_count": null,
   "metadata": {},
   "outputs": [],
   "source": [
    "c_ss_n1"
   ]
  },
  {
   "cell_type": "code",
   "execution_count": null,
   "metadata": {},
   "outputs": [],
   "source": [
    "c_smax_n = 28746\n",
    "f1 = (c_ss_p1**0.5)*((c_smax_n-c_ss_p1)**0.5)\n",
    "\n",
    "fig, ax1 = plt.subplots(1, 1, figsize=(5, 4))\n",
    "ax1.plot(t1,f1,'b')\n",
    "# ax1.plot(t2,V2,'rv-')\n",
    "ax1.set_title(r'$(c_{s,max}-c_{ss})^{1-\\alpha}\\times(c_{ss})^{\\alpha}$')\n",
    "ax1.set_xlabel(\"Time [hr]\")\n",
    "plt.savefig(fig_DIR+'exch_current_nonlinearity'+'.png')"
   ]
  },
  {
   "cell_type": "code",
   "execution_count": null,
   "metadata": {},
   "outputs": [],
   "source": [
    "c_ss_p1 = np.linspace(1,0,51)"
   ]
  },
  {
   "cell_type": "code",
   "execution_count": null,
   "metadata": {},
   "outputs": [],
   "source": [
    "c_smax_p =1\n",
    "f1 = (c_ss_p1**0.05)*((c_smax_p-c_ss_p1)**0.05)\n",
    "\n",
    "fig, ax1 = plt.subplots(1, 1, figsize=(5, 4))\n",
    "ax1.plot(c_ss_p1,f1,'b')\n",
    "# ax1.plot(t2,V2,'rv-')\n",
    "ax1.set_title(r'$(c_{s,max}-c_{ss})^{1-\\alpha}\\times(c_{ss})^{\\alpha}$')\n",
    "# plt.savefig(fig_DIR+'exch_current_nonlinearity'+'.png')"
   ]
  }
 ],
 "metadata": {
  "kernelspec": {
   "display_name": "Python 3",
   "language": "python",
   "name": "python3"
  },
  "language_info": {
   "codemirror_mode": {
    "name": "ipython",
    "version": 3
   },
   "file_extension": ".py",
   "mimetype": "text/x-python",
   "name": "python",
   "nbconvert_exporter": "python",
   "pygments_lexer": "ipython3",
   "version": "3.9.7"
  },
  "orig_nbformat": 4,
  "vscode": {
   "interpreter": {
    "hash": "fe6e1a396f7757d05554318f98bb2d7e7d3785df9fdbcce0707f057fad4349a9"
   }
  }
 },
 "nbformat": 4,
 "nbformat_minor": 2
}
