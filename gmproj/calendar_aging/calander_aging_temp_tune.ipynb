{
 "cells": [
  {
   "cell_type": "code",
   "execution_count": 1,
   "metadata": {},
   "outputs": [],
   "source": [
    "import pybamm\n",
    "import matplotlib.pyplot as plt\n",
    "import numpy as np\n",
    "import pandas as pd\n",
    "import math\n",
    "import dfols\n",
    "import signal\n",
    "from scipy.integrate import solve_ivp\n",
    "from scipy.fft import fft, fftfreq, fftshift\n",
    "from scipy.signal import savgol_filter\n",
    "from scipy.signal import find_peaks\n",
    "from scipy import interpolate\n",
    "from stopit import threading_timeoutable as timeoutable\n",
    "import os, sys\n",
    "sys.path.append(os.path.dirname(os.path.dirname(os.path.abspath(\"__file__\"))))\n",
    "from batfuns import *\n",
    "import pickle\n",
    "plt.rcParams = set_rc_params(plt.rcParams)\n",
    "\n",
    "eSOH_DIR = \"../data/esoh_R/\"\n",
    "oCV_DIR = \"../data/ocv/\"\n",
    "fig_DIR = \"../figures/figures_cal/\"\n",
    "res_DIR = \"../data/results_cal/\""
   ]
  },
  {
   "cell_type": "code",
   "execution_count": 2,
   "metadata": {},
   "outputs": [],
   "source": [
    "parameter_values = get_parameter_values()"
   ]
  },
  {
   "cell_type": "code",
   "execution_count": 3,
   "metadata": {},
   "outputs": [],
   "source": [
    "spm = pybamm.lithium_ion.SPM(\n",
    "    {\n",
    "        \"SEI\": \"ec reaction limited\",\n",
    "        # \"loss of active material\": (\"stress-driven\",\"none\"),\n",
    "        \"loss of active material\": \"stress-driven\",\n",
    "        # \"stress-induced diffusion\": \"true\",\n",
    "        # \"lithium plating\": \"reversible\",\n",
    "    }\n",
    ")\n",
    "# spm.print_parameter_info()\n",
    "param=spm.param"
   ]
  },
  {
   "cell_type": "code",
   "execution_count": 4,
   "metadata": {},
   "outputs": [],
   "source": [
    "cell = 22\n",
    "# cell = 23\n",
    "sim_des = \"cal\"\n",
    "cell_no,dfe,N,dfo_0 = load_data_calendar(cell,eSOH_DIR,oCV_DIR)\n",
    "eps_n_data,eps_p_data,SOC_0,Temp = init_exp_calendar(cell_no,dfe,param,parameter_values)\n",
    "pybamm.set_logging_level(\"WARNING\")\n",
    "# pybamm.set_logging_level(\"NOTICE\")\n",
    "calendar_time = 24\n",
    "experiment = pybamm.Experiment(\n",
    "    [\n",
    "        (\"Rest for \"+f'{calendar_time}'+\" hours\",)\n",
    "    ]*int(N[-1]+10) ,\n",
    "    termination=\"50% capacity\",\n",
    "#     cccv_handling=\"ode\",\n",
    ")\n",
    "parameter_values = get_parameter_values()\n",
    "\n",
    "parameter_values.update(\n",
    "    {\n",
    "        # \"Positive electrode LAM constant proportional term [s-1]\": 4.20e-06, #4.03536e-06\n",
    "        # \"Negative electrode LAM constant proportional term [s-1]\": 5.38e-05, #5.24755e-05\n",
    "        \"Positive electrode LAM constant proportional term [s-1]\": 5e-3/3600,\n",
    "        \"Negative electrode LAM constant proportional term [s-1]\": 4.3e-2/3600,\n",
    "        \"EC diffusivity [m2.s-1]\": 2e-18,\n",
    "        \"Positive electrode LAM constant exponential term\": 2,\n",
    "        \"Negative electrode LAM constant exponential term\": 2,\n",
    "        \"Negative electrode active material volume fraction\": eps_n_data,\n",
    "        \"Positive electrode active material volume fraction\": eps_p_data,\n",
    "        # \"Initial concentration in positive electrode [mol.m-3]\": y_init*c_p_max,\n",
    "        # \"Initial concentration in negative electrode [mol.m-3]\": x_init*c_n_max,\n",
    "        \"Initial temperature [K]\": 273.15+Temp,\n",
    "        \"Ambient temperature [K]\": 273.15+Temp,\n",
    "        \"SEI kinetic rate constant [m.s-1]\":  4.60788219e-16, #1.08494281e-16 , \n",
    "        \"EC diffusivity [m2.s-1]\": 4.56607447e-19,#8.30909086e-19,\n",
    "        \"SEI growth activation energy [J.mol-1]\": 1.87422275e+04,#1.58777981e+04,\n",
    "    },\n",
    "    check_already_exists=False,\n",
    ")"
   ]
  },
  {
   "cell_type": "code",
   "execution_count": 5,
   "metadata": {},
   "outputs": [],
   "source": [
    "all_sumvars_dict = cycle_adaptive_simulation(spm, parameter_values, experiment,SOC_0, save_at_cycles=1)\n",
    "with open(res_DIR+'fast_sim_'+sim_des+\"_cell_\"+cell_no+'_sum_var.pickle', 'wb') as handle:\n",
    "        pickle.dump(all_sumvars_dict, handle, protocol=pickle.HIGHEST_PROTOCOL)\n",
    "# fig = plotc(all_sumvars_dict,dfe);\n",
    "# plt.savefig(fig_DIR +'calendar_aging_cell_'+cell_no+'_eSOH.png')"
   ]
  },
  {
   "cell_type": "code",
   "execution_count": 6,
   "metadata": {},
   "outputs": [],
   "source": [
    "cell = 24\n",
    "# cell = 23\n",
    "cell_no,dfe,N,dfo_0 = load_data_calendar(cell,eSOH_DIR,oCV_DIR)\n",
    "eps_n_data,eps_p_data,SOC_0,Temp = init_exp_calendar(cell_no,dfe,param,parameter_values)\n",
    "pybamm.set_logging_level(\"WARNING\")\n",
    "# pybamm.set_logging_level(\"NOTICE\")\n",
    "calendar_time = 24\n",
    "experiment = pybamm.Experiment(\n",
    "    [\n",
    "        (\"Rest for \"+f'{calendar_time}'+\" hours\",)\n",
    "    ]*int(N[-1]+10) ,\n",
    "    termination=\"50% capacity\",\n",
    "#     cccv_handling=\"ode\",\n",
    ")\n",
    "parameter_values = get_parameter_values()\n",
    "\n",
    "parameter_values.update(\n",
    "    {\n",
    "        # \"Positive electrode LAM constant proportional term [s-1]\": 4.20e-06, #4.03536e-06\n",
    "        # \"Negative electrode LAM constant proportional term [s-1]\": 5.38e-05, #5.24755e-05\n",
    "        \"Positive electrode LAM constant proportional term [s-1]\": 5e-3/3600,\n",
    "        \"Negative electrode LAM constant proportional term [s-1]\": 4.3e-2/3600,\n",
    "        \"EC diffusivity [m2.s-1]\": 2e-18,\n",
    "        \"Positive electrode LAM constant exponential term\": 2,\n",
    "        \"Negative electrode LAM constant exponential term\": 2,\n",
    "        \"Negative electrode active material volume fraction\": eps_n_data,\n",
    "        \"Positive electrode active material volume fraction\": eps_p_data,\n",
    "        # \"Initial concentration in positive electrode [mol.m-3]\": y_init*c_p_max,\n",
    "        # \"Initial concentration in negative electrode [mol.m-3]\": x_init*c_n_max,\n",
    "        \"Initial temperature [K]\": 273.15+Temp,\n",
    "        \"Ambient temperature [K]\": 273.15+Temp,\n",
    "        \"SEI kinetic rate constant [m.s-1]\":  4.60788219e-16, #1.08494281e-16 , \n",
    "        \"EC diffusivity [m2.s-1]\": 4.56607447e-19,#8.30909086e-19,\n",
    "        \"SEI growth activation energy [J.mol-1]\": 1.87422275e+04,#1.58777981e+04,\n",
    "    },\n",
    "    check_already_exists=False,\n",
    ")"
   ]
  },
  {
   "cell_type": "code",
   "execution_count": 7,
   "metadata": {},
   "outputs": [],
   "source": [
    "all_sumvars_dict1 = cycle_adaptive_simulation(spm, parameter_values, experiment,SOC_0, save_at_cycles=1)\n",
    "with open(res_DIR+'fast_sim_'+sim_des+\"_cell_\"+cell_no+'_sum_var.pickle', 'wb') as handle:\n",
    "        pickle.dump(all_sumvars_dict1, handle, protocol=pickle.HIGHEST_PROTOCOL)"
   ]
  },
  {
   "cell_type": "code",
   "execution_count": 8,
   "metadata": {},
   "outputs": [],
   "source": [
    "def plotc4(all_sumvars_dict1,all_sumvars_dict2,esoh_data,esoh_data_2,leg1=\"sim1\",leg2=\"sim2\"):\n",
    "    esoh_vars = [\"x_100\", \"y_0\", \"C_n\", \"C_p\", \"Capacity [A.h]\", \"Loss of lithium inventory [%]\"]\n",
    "    fig, axes = plt.subplots(3,2,figsize=(7,7))\n",
    "    for k, name in enumerate(esoh_vars):\n",
    "        ax = axes.flat[k]\n",
    "        ax.plot(all_sumvars_dict1[\"Cycle number\"],all_sumvars_dict1[name],\"r^\")\n",
    "        ax.plot(esoh_data[\"N\"],esoh_data[name],\"kx\")\n",
    "        ax.plot(all_sumvars_dict2[\"Cycle number\"],all_sumvars_dict2[name],\"bv\")\n",
    "        ax.plot(esoh_data_2[\"N\"],esoh_data_2[name],\"kx\")\n",
    "        ax.set_title(split_long_string(name))\n",
    "        if k ==2 or k==3:\n",
    "            ax.set_ylim([3,6.2])\n",
    "        if k>3:\n",
    "            ax.set_xlabel(\"Cycle number\")\n",
    "    fig.legend([leg1, \"Data\", leg2 ], \n",
    "           loc=\"lower center\",bbox_to_anchor=[0.5,-0.05], ncol=1, fontsize=11)\n",
    "    fig.tight_layout()\n",
    "    return fig"
   ]
  },
  {
   "cell_type": "code",
   "execution_count": 9,
   "metadata": {},
   "outputs": [],
   "source": [
    "cell = 22\n",
    "# cell = 23\n",
    "cell_no,dfe1,N,dfo_0 = load_data_calendar(cell,eSOH_DIR,oCV_DIR)"
   ]
  },
  {
   "cell_type": "code",
   "execution_count": 10,
   "metadata": {},
   "outputs": [
    {
     "data": {
      "image/png": "[encoded data removed]",
      "text/plain": [
       "<Figure size 1050x1050 with 6 Axes>"
      ]
     },
     "metadata": {
      "needs_background": "light"
     },
     "output_type": "display_data"
    }
   ],
   "source": [
    "fig = plotc4(all_sumvars_dict,all_sumvars_dict1,dfe1,dfe,leg1=\"Hot\",leg2=\"Cold\");\n",
    "fig.savefig(fig_DIR +'calendar_aging'+'_hot_cold.png')"
   ]
  },
  {
   "cell_type": "code",
   "execution_count": 11,
   "metadata": {},
   "outputs": [
    {
     "ename": "NameError",
     "evalue": "name 'vcxvxcv' is not defined",
     "output_type": "error",
     "traceback": [
      "\u001b[1;31m---------------------------------------------------------------------------\u001b[0m",
      "\u001b[1;31mNameError\u001b[0m                                 Traceback (most recent call last)",
      "\u001b[1;32mc:\\Users\\spannala\\PyBaMM\\gmproj\\calendar_aging\\calander_aging_temp_tune.ipynb Cell 11\u001b[0m in \u001b[0;36m<cell line: 1>\u001b[1;34m()\u001b[0m\n\u001b[1;32m----> <a href='vscode-notebook-cell:/c%3A/Users/spannala/PyBaMM/gmproj/calendar_aging/calander_aging_temp_tune.ipynb#X13sZmlsZQ%3D%3D?line=0'>1</a>\u001b[0m vcxvxcv\n",
      "\u001b[1;31mNameError\u001b[0m: name 'vcxvxcv' is not defined"
     ]
    }
   ],
   "source": [
    "#  vcxvxcv"
   ]
  },
  {
   "cell_type": "code",
   "execution_count": null,
   "metadata": {},
   "outputs": [],
   "source": [
    "def plot_comp(all_sumvars_dict_0,all_sumvars_dict_1,esoh_data):\n",
    "    esoh_vars = [\"x_100\", \"y_0\", \"C_n\", \"C_p\", \"Capacity [A.h]\", \"Loss of lithium inventory [%]\"]\n",
    "    esoh_data[\"Capacity [A.h]\"]=esoh_data[\"Cap\"]\n",
    "    param = pybamm.LithiumIonParameters()\n",
    "    esoh_data[\"n_Li\"]= 3600/param.F.value*(esoh_data[\"y_100\"]*esoh_data[\"C_p\"]+esoh_data[\"x_100\"]*esoh_data[\"C_n\"])\n",
    "    esoh_data[\"Loss of lithium inventory [%]\"]=(1-esoh_data[\"n_Li\"]/esoh_data[\"n_Li\"][0])*100\n",
    "    fig, axes = plt.subplots(3,2,figsize=(7,7))\n",
    "    for k, name in enumerate(esoh_vars):\n",
    "        ax = axes.flat[k]\n",
    "        ax.plot(all_sumvars_dict_1[\"Cycle number\"],all_sumvars_dict_1[name],\"bo\")\n",
    "        ax.plot(all_sumvars_dict_0[\"Cycle number\"],all_sumvars_dict_0[name],\"ro\")\n",
    "        # ax.plot(all_sumvars_dict_1[\"Cycle number\"],all_sumvars_dict_1[name],\"bo\")\n",
    "        ax.plot(esoh_data[\"N\"],esoh_data[name],\"kx\")\n",
    "        ax.axvline(x = all_sumvars_dict_0[\"Cycle number\"][-1], color = 'm', label = 'axvline - full height')\n",
    "        ax.set_title(split_long_string(name))\n",
    "        if k>3:\n",
    "            ax.set_xlabel(\"Cycle number\")\n",
    "    fig.legend([\"Pred\"]+[\"Train\"] + [\"Data\"], \n",
    "           loc=\"lower center\",bbox_to_anchor=[0.5, -0.05], ncol=1, fontsize=11)\n",
    "    fig.tight_layout()\n",
    "    return fig"
   ]
  },
  {
   "cell_type": "code",
   "execution_count": null,
   "metadata": {},
   "outputs": [],
   "source": [
    "ic = {}\n",
    "ic= [1.5e-16, 2e-17, 1000]\n",
    "# ic= [1.5e-17, 2e-18, 100]\n",
    "# ic= [1.5e-16, 2e-17, 2000]\n",
    "sim_des = \"4eSOH_ic0\""
   ]
  },
  {
   "cell_type": "code",
   "execution_count": null,
   "metadata": {},
   "outputs": [],
   "source": [
    "cell_no,dfe,N,dfo_0 = load_data_calendar(24,eSOH_DIR,oCV_DIR)"
   ]
  },
  {
   "cell_type": "code",
   "execution_count": null,
   "metadata": {},
   "outputs": [],
   "source": [
    "timer = pybamm.Timer()\n",
    "def objective(model, data):\n",
    "    days = np.floor(data[\"Time\"])\n",
    "    return np.array(model.loc[days][\"Capacity [A.h]\"]) - np.array(data[\"Cap\"])\n",
    "\n",
    "def multi_objective(model, data):\n",
    "    days = np.floor(data[\"Time\"])\n",
    "    # variables = [\"Capacity [A.h]\", \"n_Li\"]\n",
    "    variables = [\"Capacity [A.h]\", \"Loss of lithium inventory [%]\",\"y_0\",\"x_100\"]\n",
    "    weights = [1,1/20,1,1]\n",
    "    # weights = [1,1]\n",
    "    return np.concatenate([\n",
    "        (np.array(model.loc[days][var]) - np.array(data[var])) * w\n",
    "        for w,var in zip(weights,variables)\n",
    "    ]\n",
    "    )\n",
    "\n",
    "def simulate(x,eps_n_data,eps_p_data,SOC_0,Temp,experiment):\n",
    "    parameter_values.update(\n",
    "        {\n",
    "            \"SEI kinetic rate constant [m.s-1]\": x[0] * ic[0],\n",
    "            \"EC diffusivity [m2.s-1]\": x[1] * ic[1],\n",
    "            \"SEI growth activation energy [J.mol-1]\": x[2] * ic[2],\n",
    "            \"Negative electrode active material volume fraction\": eps_n_data,\n",
    "            \"Positive electrode active material volume fraction\": eps_p_data,\n",
    "            \"Initial temperature [K]\": 273.15+Temp,\n",
    "            \"Ambient temperature [K]\": 273.15+Temp,\n",
    "        },\n",
    "        check_already_exists=False,\n",
    "    )\n",
    "    return cycle_adaptive_simulation(spm, parameter_values, experiment,SOC_0,save_at_cycles=1)\n",
    "\n",
    "def prediction_error(x):\n",
    "    try:\n",
    "        out=[]\n",
    "        for cell in [22,24]:\n",
    "            cell_no,dfe,N,dfo_0 = load_data_calendar(cell,eSOH_DIR,oCV_DIR)\n",
    "            eps_n_data,eps_p_data,SOC_0,Temp = init_exp_calendar(cell_no,dfe,param,parameter_values)\n",
    "            experiment = pybamm.Experiment(\n",
    "                [\n",
    "                    (\"Rest for \"+f'{calendar_time}'+\" hours\",)\n",
    "                ]*int(N[-1]+10) ,\n",
    "                termination=\"50% capacity\",\n",
    "            #     cccv_handling=\"ode\",\n",
    "            )\n",
    "            model = simulate(x,eps_n_data,eps_p_data,SOC_0,Temp,experiment)\n",
    "            out_t =   multi_objective(pd.DataFrame(model), dfe)\n",
    "            out=np.concatenate([out,out_t])\n",
    "        print(f\"x={x}, norm={np.linalg.norm(out)}\")\n",
    "    except:\n",
    "        out=[]\n",
    "        for cell in [22,24]:\n",
    "            cell_no,dfe,N,dfo_0 = load_data_calendar(cell,eSOH_DIR,oCV_DIR)\n",
    "            # out_t = np.concatenate([np.array(dfe['Cap'])]*2)\n",
    "            out_t = np.concatenate([np.array(dfe['Cap'])]*4)\n",
    "            out=np.concatenate([out,out_t])\n",
    "        out = 2*np.ones_like(out)\n",
    "        print(f\"x={x}, norm={np.linalg.norm(out)}\")\n",
    "    return out\n",
    "x0 = np.array([1.0,1.0,1.0])\n",
    "# print(prediction_error(x0))\n",
    "# lower = np.array([1e-6, 1e-6, 1e-3])\n",
    "# upper = np.array([1e+4, 1e+4, 1e+4])\n",
    "lower = np.array([1e-6, 1e-6, 1e-6])\n",
    "upper = np.array([1e+6, 1e+6, 1e+6])\n",
    "soln_dfols = dfols.solve(prediction_error, x0,bounds=(lower, upper), rhoend=1e-2) #rhoend=1e-4\n",
    "print(timer.time())"
   ]
  },
  {
   "cell_type": "code",
   "execution_count": null,
   "metadata": {},
   "outputs": [],
   "source": [
    "# gfh"
   ]
  },
  {
   "cell_type": "code",
   "execution_count": null,
   "metadata": {},
   "outputs": [],
   "source": [
    "x = soln_dfols.x\n",
    "for cell in [24]:\n",
    "    cell_no,dfe,N,dfo_0 = load_data_calendar(cell,eSOH_DIR,oCV_DIR)\n",
    "    eps_n_data,eps_p_data,SOC_0,Temp = init_exp_calendar(cell_no,dfe,param,parameter_values)\n",
    "    experiment = pybamm.Experiment(\n",
    "                [\n",
    "                    (\"Rest for \"+f'{calendar_time}'+\" hours\",)\n",
    "                ]*int(N[-1]+10) ,\n",
    "                termination=\"50% capacity\",\n",
    "            #     cccv_handling=\"ode\",\n",
    "            )\n",
    "    sol_out = simulate(x,eps_n_data,eps_p_data,SOC_0,Temp,experiment)\n",
    "    fig = plotc(sol_out,dfe);\n",
    "    # plt.savefig(fig_DIR +'calendar_aging_cell_'+cell_no+'_tuning_out_newRp.png')"
   ]
  },
  {
   "cell_type": "code",
   "execution_count": null,
   "metadata": {},
   "outputs": [],
   "source": [
    "# fdfd"
   ]
  },
  {
   "cell_type": "code",
   "execution_count": null,
   "metadata": {},
   "outputs": [],
   "source": [
    "df_x = pd.DataFrame(columns=['x_0','x_1','x_2','obj'], index=[0])"
   ]
  },
  {
   "cell_type": "code",
   "execution_count": null,
   "metadata": {},
   "outputs": [],
   "source": [
    "\n",
    "x1 = np.multiply(ic,x)\n",
    "df_x['x_0'][0]= x1[0]\n",
    "df_x['x_1'][0]= x1[1]\n",
    "df_x['x_2'][0]= x1[2]\n",
    "df_x['obj'][0]= np.linalg.norm(prediction_error(x))"
   ]
  },
  {
   "cell_type": "code",
   "execution_count": null,
   "metadata": {},
   "outputs": [],
   "source": [
    "df_x"
   ]
  },
  {
   "cell_type": "code",
   "execution_count": null,
   "metadata": {},
   "outputs": [],
   "source": [
    "sim_des=\"LLI\""
   ]
  },
  {
   "cell_type": "code",
   "execution_count": null,
   "metadata": {},
   "outputs": [],
   "source": [
    "df_x.to_csv(res_DIR + \"cal_train_\"+sim_des+\".csv\")"
   ]
  },
  {
   "cell_type": "code",
   "execution_count": null,
   "metadata": {},
   "outputs": [],
   "source": [
    "# plot1(sol_out,dfe);"
   ]
  },
  {
   "cell_type": "code",
   "execution_count": null,
   "metadata": {},
   "outputs": [],
   "source": [
    "x1"
   ]
  },
  {
   "cell_type": "code",
   "execution_count": null,
   "metadata": {},
   "outputs": [],
   "source": [
    "jkljlkkljkkl"
   ]
  },
  {
   "cell_type": "code",
   "execution_count": null,
   "metadata": {},
   "outputs": [],
   "source": [
    "# x=[ 0.80252411,1.32768299 ,12.04782054]\n",
    "# x = [7.26412824e-01, 1.39438258e-02, 1.58180798e+01]\n",
    "\n",
    "# ic 0 \n",
    "x = [1.08494281e-16, 8.30909086e-19, 1.58777981e+04]\n",
    "\n",
    "# ic 1\n",
    "x = [1.49494239e-16, 1.52351159e-20, 1.97143640e+04]\n",
    "x = [1.23347457e-16, 4.56120806e-20, 1.58720498e+04]\n",
    "# ic 2\n",
    "x = [1.08779660e-16, 1.69314263e-18, 1.58319272e+04]\n",
    "\n"
   ]
  },
  {
   "cell_type": "markdown",
   "metadata": {},
   "source": [
    "## Plot Comparisons"
   ]
  },
  {
   "cell_type": "code",
   "execution_count": null,
   "metadata": {},
   "outputs": [],
   "source": [
    "xx={}\n",
    "xx[0] = [1.08494281e-16, 8.30909086e-19, 1.58777981e+04]\n",
    "# xx[1] = [1.49494239e-16, 1.52351159e-20, 1.97143640e+04]\n",
    "# xx[2] = [1.08779660e-16, 1.69314263e-18, 1.58319272e+04]\n",
    "\n",
    "# xx[0] = [1.49494239e-16, 1.52351159e-20, 1.97143640e+04]\n",
    "# xx[1] = [1.23347457e-16, 4.56120806e-20, 1.58720498e+04]"
   ]
  },
  {
   "cell_type": "code",
   "execution_count": null,
   "metadata": {},
   "outputs": [],
   "source": [
    "def simulate_plot(x,eps_n_data,eps_p_data,SOC_0,Temp):\n",
    "    parameter_values.update(\n",
    "        {\n",
    "            # \"SEI kinetic rate constant [m.s-1]\": x[0],\n",
    "            # \"EC diffusivity [m2.s-1]\": x[1],\n",
    "            # \"SEI growth activation energy [J.mol-1]\": x[2],\n",
    "            \"SEI kinetic rate constant [m.s-1]\":  4.60788219e-16, #1.08494281e-16 , \n",
    "            \"EC diffusivity [m2.s-1]\": 4.56607447e-19,#8.30909086e-19,\n",
    "            \"SEI growth activation energy [J.mol-1]\": 1.87422275e+04,#1.58777981e+04,\n",
    "            \"Negative electrode active material volume fraction\": eps_n_data,\n",
    "            \"Positive electrode active material volume fraction\": eps_p_data,\n",
    "            \"Initial temperature [K]\": 273.15+Temp,\n",
    "            \"Ambient temperature [K]\": 273.15+Temp,\n",
    "        },\n",
    "        check_already_exists=False,\n",
    "    )\n",
    "    return cycle_adaptive_simulation(spm, parameter_values, experiment,SOC_0,save_at_cycles=1)"
   ]
  },
  {
   "cell_type": "markdown",
   "metadata": {},
   "source": [
    "## Calendar Aging Multiple Initial Conditions"
   ]
  },
  {
   "cell_type": "code",
   "execution_count": null,
   "metadata": {},
   "outputs": [],
   "source": [
    "cell = 22\n",
    "cell_no,dfe,N,dfo_0 = load_data_calendar(cell,eSOH_DIR,oCV_DIR)\n",
    "eps_n_data,eps_p_data,SOC_0,Temp = init_exp_calendar(cell_no,dfe,param,parameter_values)\n",
    "dfe[\"Rs_ave_inc\"]=(dfe[\"Rs_ave\"]-dfe[\"Rs_ave\"].iloc[0])/dfe[\"Rs_ave\"].iloc[0]*100\n",
    "dfe[\"Rs_ave_inc\"]= dfe[\"Rs_ave_inc\"]/max(dfe[\"Rs_ave_inc\"]) \n",
    "sol_out_hot_100={}\n",
    "for i in range(len(xx)):\n",
    "    sol_out_hot_100[i] = simulate_plot(xx[i],eps_n_data,eps_p_data,SOC_0,Temp)\n",
    "    sol_out_hot_100[i][\"Rs_ave_inc\"]=(sol_out_hot_100[i][\"X-averaged SEI thickness [m]\"]-sol_out_hot_100[i][\"X-averaged SEI thickness [m]\"][0])/sol_out_hot_100[i][\"X-averaged SEI thickness [m]\"][0]*100\n",
    "    sol_out_hot_100[i][\"Rs_ave_inc\"]=sol_out_hot_100[i][\"Rs_ave_inc\"]/max(sol_out_hot_100[i][\"Rs_ave_inc\"])\n",
    "    sol_out_hot_100[i][\"Rs_ave\"]=200000.0*sol_out_hot_100[i][\"X-averaged SEI thickness [m]\"]"
   ]
  },
  {
   "cell_type": "code",
   "execution_count": null,
   "metadata": {},
   "outputs": [],
   "source": [
    "dfe[\"Rs_ave\"]"
   ]
  },
  {
   "cell_type": "code",
   "execution_count": null,
   "metadata": {},
   "outputs": [],
   "source": [
    "sol_out_hot_100[0][\"Rs_ave\"][200]"
   ]
  },
  {
   "cell_type": "code",
   "execution_count": null,
   "metadata": {},
   "outputs": [],
   "source": [
    "(10e-6+sol_out_hot_100[i][\"X-averaged SEI thickness [m]\"][-1])/(10e-6+sol_out_hot_100[i][\"X-averaged SEI thickness [m]\"][0])"
   ]
  },
  {
   "cell_type": "code",
   "execution_count": null,
   "metadata": {},
   "outputs": [],
   "source": [
    "(sol_out_hot_100[i][\"X-averaged SEI thickness [m]\"])/sol_out_hot_100[i][\"X-averaged SEI thickness [m]\"][0]"
   ]
  },
  {
   "cell_type": "code",
   "execution_count": null,
   "metadata": {},
   "outputs": [],
   "source": [
    "dfe[\"Rs_ave\"]"
   ]
  },
  {
   "cell_type": "code",
   "execution_count": null,
   "metadata": {},
   "outputs": [],
   "source": [
    "esoh_vars = [\"x_100\", \"y_0\", \"C_n\", \"C_p\", \"Capacity [A.h]\", \"Loss of lithium inventory [%]\",\"Rs_ave_inc\"]\n",
    "esoh_vars_str = [\"x_100\", \"y_0\", \"C_n\", \"C_p\", \"cap\", \"LLI\",\"Rs_ave_inc\"]\n",
    "fig, ax = plt.subplots(1,1,figsize=(3,3))\n",
    "ax.plot(dfe['N'],dfe[\"Rs_ave\"],label=\"data\")\n",
    "ax.plot(sol_out_hot_100[0]['Cycle number'],sol_out_hot_100[0][\"Rs_ave\"],label=\"sim\")\n",
    "\n",
    "for ev_num in range(len(esoh_vars)):\n",
    "    fig, ax = plt.subplots(1,1,figsize=(3,3))\n",
    "    col = ['r','g','b','r','c']\n",
    "    col_idx = [x // 2 +1 for x in range(-1,8)]\n",
    "    mar_idx = [x % 2 for x in range(-1,8)]\n",
    "    mar_idx[0]=2\n",
    "    mar = [u'v',u'P',u'x']\n",
    "    for k in range(len(sol_out_hot_100)):\n",
    "        ax.plot(sol_out_hot_100[k]['Cycle number'],sol_out_hot_100[k][esoh_vars[ev_num]],color=col[k],marker=mar[k])\n",
    "        ax.set_title(split_long_string(esoh_vars[ev_num]))\n",
    "    ax.plot(dfe['N'],dfe[esoh_vars[ev_num]],'ko')\n",
    "    # fig.legend(['ic0','ic1','ic2','data'], \n",
    "            #    loc=\"lower center\",bbox_to_anchor=[0.5,-0.2], ncol=2, fontsize=11)\n",
    "    fig.legend(['sim','data'], \n",
    "               loc=\"lower center\",bbox_to_anchor=[0.5,-0.1], ncol=2, fontsize=11)\n",
    "    plt.savefig(fig_DIR+'cal_hot_100_4eSOH_ic'+'_comp_'+esoh_vars_str[ev_num]+'.png')"
   ]
  },
  {
   "cell_type": "code",
   "execution_count": null,
   "metadata": {},
   "outputs": [],
   "source": [
    "cell = 23\n",
    "cell_no,dfe,N,dfo_0 = load_data_calendar(cell,eSOH_DIR,oCV_DIR)\n",
    "eps_n_data,eps_p_data,SOC_0,Temp = init_exp_calendar(cell_no,dfe,param,parameter_values)\n",
    "dfe[\"Rs_ave_inc\"]=(dfe[\"Rs_ave\"]-dfe[\"Rs_ave\"].iloc[0])/dfe[\"Rs_ave\"].iloc[0]*100\n",
    "dfe[\"Rs_ave_inc\"]= dfe[\"Rs_ave_inc\"]/max(dfe[\"Rs_ave_inc\"]) \n",
    "200000.0\n",
    "sol_out_hot_50={}\n",
    "for i in range(len(xx)):\n",
    "    sol_out_hot_50[i] = simulate_plot(xx[i],eps_n_data,eps_p_data,SOC_0,Temp)\n",
    "    sol_out_hot_50[i][\"Rs_ave_inc\"]=(sol_out_hot_50[i][\"X-averaged SEI thickness [m]\"]-sol_out_hot_50[i][\"X-averaged SEI thickness [m]\"][0])/sol_out_hot_50[i][\"X-averaged SEI thickness [m]\"][0]*100\n",
    "    sol_out_hot_50[i][\"Rs_ave_inc\"]=sol_out_hot_50[i][\"Rs_ave_inc\"]/max(sol_out_hot_50[i][\"Rs_ave_inc\"])\n",
    "    sol_out_hot_50[i][\"Rs_ave\"]=200000.0*sol_out_hot_50[i][\"X-averaged SEI thickness [m]\"][0]"
   ]
  },
  {
   "cell_type": "code",
   "execution_count": null,
   "metadata": {},
   "outputs": [],
   "source": [
    "esoh_vars = [\"x_100\", \"y_0\", \"C_n\", \"C_p\", \"Capacity [A.h]\", \"Loss of lithium inventory [%]\",\"Rs_ave_inc\"]\n",
    "esoh_vars_str = [\"x_100\", \"y_0\", \"C_n\", \"C_p\", \"cap\", \"LLI\",\"Rs_ave_inc\"]\n",
    "fig, ax = plt.subplots(1,1,figsize=(3,3))\n",
    "ax.plot(dfe['N'],dfe[\"Rs_ave\"])\n",
    "for ev_num in range(len(esoh_vars)):\n",
    "    fig, ax = plt.subplots(1,1,figsize=(3,3))\n",
    "    col = ['r','g','b','r','c']\n",
    "    col_idx = [x // 2 +1 for x in range(-1,8)]\n",
    "    mar_idx = [x % 2 for x in range(-1,8)]\n",
    "    mar_idx[0]=2\n",
    "    mar = [u'v',u'P',u'x']\n",
    "    for k in range(len(sol_out_hot_50)):\n",
    "        ax.plot(sol_out_hot_50[k]['Cycle number'],sol_out_hot_50[k][esoh_vars[ev_num]],color=col[k],marker=mar[k])\n",
    "        ax.set_title(split_long_string(esoh_vars[ev_num]))\n",
    "    ax.plot(dfe['N'],dfe[esoh_vars[ev_num]],'ko')\n",
    "    # fig.legend(['ic0','ic1','ic2','data'], \n",
    "            #    loc=\"lower center\",bbox_to_anchor=[0.5,-0.2], ncol=2, fontsize=11)\n",
    "    plt.savefig(fig_DIR+'cal_hot_50_4eSOH_ic'+'_comp_'+esoh_vars_str[ev_num]+'.png')"
   ]
  },
  {
   "cell_type": "code",
   "execution_count": null,
   "metadata": {},
   "outputs": [],
   "source": [
    "cell = 24\n",
    "cell_no,dfe,N,dfo_0 = load_data_calendar(cell,eSOH_DIR,oCV_DIR)\n",
    "eps_n_data,eps_p_data,SOC_0,Temp = init_exp_calendar(cell_no,dfe,param,parameter_values)\n",
    "dfe[\"Rs_ave_inc\"]=(dfe[\"Rs_ave\"]-dfe[\"Rs_ave\"].iloc[0])/dfe[\"Rs_ave\"].iloc[0]*100\n",
    "dfe[\"Rs_ave_inc\"]= dfe[\"Rs_ave_inc\"]/max(dfe[\"Rs_ave_inc\"]) \n",
    "sol_out_cold_100={}\n",
    "for i in range(len(xx)):\n",
    "    sol_out_cold_100[i] = simulate_plot(xx[i],eps_n_data,eps_p_data,SOC_0,Temp)\n",
    "    sol_out_cold_100[i][\"Rs_ave_inc\"]=(sol_out_cold_100[i][\"X-averaged SEI thickness [m]\"]-sol_out_cold_100[i][\"X-averaged SEI thickness [m]\"][0])/sol_out_cold_100[i][\"X-averaged SEI thickness [m]\"][0]*100\n",
    "    sol_out_cold_100[i][\"Rs_ave_inc\"]=sol_out_cold_100[i][\"Rs_ave_inc\"]/max(sol_out_cold_100[i][\"Rs_ave_inc\"])\n",
    "    sol_out_cold_100[i][\"Rs_ave\"]=200000.0*sol_out_cold_100[i][\"X-averaged SEI thickness [m]\"][0]"
   ]
  },
  {
   "cell_type": "code",
   "execution_count": null,
   "metadata": {},
   "outputs": [],
   "source": [
    "esoh_vars = [\"x_100\", \"y_0\", \"C_n\", \"C_p\", \"Capacity [A.h]\", \"Loss of lithium inventory [%]\",\"Rs_ave_inc\"]\n",
    "esoh_vars_str = [\"x_100\", \"y_0\", \"C_n\", \"C_p\", \"cap\", \"LLI\",\"Rs_ave_inc\"]\n",
    "fig, ax = plt.subplots(1,1,figsize=(3,3))\n",
    "ax.plot(dfe['N'],dfe[\"Rs_ave\"])\n",
    "for ev_num in range(len(esoh_vars)):\n",
    "    fig, ax = plt.subplots(1,1,figsize=(3,3))\n",
    "    col = ['r','g','b','r','c']\n",
    "    col_idx = [x // 2 +1 for x in range(-1,8)]\n",
    "    mar_idx = [x % 2 for x in range(-1,8)]\n",
    "    mar_idx[0]=2\n",
    "    mar = [u'v',u'P',u'x']\n",
    "    for k in range(len(sol_out_cold_100)):\n",
    "        ax.plot(sol_out_cold_100[k]['Cycle number'],sol_out_cold_100[k][esoh_vars[ev_num]],color=col[k],marker=mar[k])\n",
    "        ax.set_title(split_long_string(esoh_vars[ev_num]))\n",
    "    ax.plot(dfe['N'],dfe[esoh_vars[ev_num]],'ko')\n",
    "    # fig.legend(['ic0','ic1','ic2','data'], \n",
    "            #    loc=\"lower center\",bbox_to_anchor=[0.5,-0.1], ncol=2, fontsize=11)\n",
    "    plt.savefig(fig_DIR+'cal_cold_100_4eSOH_ic'+'_comp_'+esoh_vars_str[ev_num]+'.png')"
   ]
  },
  {
   "cell_type": "code",
   "execution_count": null,
   "metadata": {},
   "outputs": [],
   "source": [
    "cell = 25\n",
    "cell_no,dfe,N,dfo_0 = load_data_calendar(cell,eSOH_DIR,oCV_DIR)\n",
    "eps_n_data,eps_p_data,SOC_0,Temp = init_exp_calendar(cell_no,dfe,param,parameter_values)\n",
    "dfe[\"Rs_ave_inc\"]=(dfe[\"Rs_ave\"]-dfe[\"Rs_ave\"].iloc[0])/dfe[\"Rs_ave\"].iloc[0]*100\n",
    "dfe[\"Rs_ave_inc\"]= dfe[\"Rs_ave_inc\"]/max(dfe[\"Rs_ave_inc\"]) \n",
    "sol_out_cold_50={}\n",
    "for i in range(len(xx)):\n",
    "    sol_out_cold_50[i] = simulate_plot(xx[i],eps_n_data,eps_p_data,SOC_0,Temp)\n",
    "    sol_out_cold_50[i][\"Rs_ave_inc\"]=(sol_out_cold_50[i][\"X-averaged SEI thickness [m]\"]-sol_out_cold_50[i][\"X-averaged SEI thickness [m]\"][0])/sol_out_cold_50[i][\"X-averaged SEI thickness [m]\"][0]*100\n",
    "    sol_out_cold_50[i][\"Rs_ave\"]=200000.0*sol_out_cold_50[i][\"X-averaged SEI thickness [m]\"][0]"
   ]
  },
  {
   "cell_type": "code",
   "execution_count": null,
   "metadata": {},
   "outputs": [],
   "source": [
    "esoh_vars = [\"x_100\", \"y_0\", \"C_n\", \"C_p\", \"Capacity [A.h]\", \"Loss of lithium inventory [%]\",\"Rs_ave_inc\"]\n",
    "esoh_vars_str = [\"x_100\", \"y_0\", \"C_n\", \"C_p\", \"cap\", \"LLI\",\"Rs_ave_inc\"]\n",
    "fig, ax = plt.subplots(1,1,figsize=(3,3))\n",
    "ax.plot(dfe['N'],dfe[\"Rs_ave\"])\n",
    "for ev_num in range(len(esoh_vars)):\n",
    "    fig, ax = plt.subplots(1,1,figsize=(3,3))\n",
    "    col = ['r','g','b','r','c']\n",
    "    col_idx = [x // 2 +1 for x in range(-1,8)]\n",
    "    mar_idx = [x % 2 for x in range(-1,8)]\n",
    "    mar_idx[0]=2\n",
    "    mar = [u'v',u'P',u'x']\n",
    "    for k in range(len(sol_out_cold_50)):\n",
    "        ax.plot(sol_out_cold_50[k]['Cycle number'],sol_out_cold_50[k][esoh_vars[ev_num]],color=col[k],marker=mar[k])\n",
    "        ax.set_title(split_long_string(esoh_vars[ev_num]))\n",
    "    ax.plot(dfe['N'],dfe[esoh_vars[ev_num]],'ko')\n",
    "    # fig.legend(['ic0','ic1','ic2','data'], \n",
    "            #    loc=\"lower center\",bbox_to_anchor=[0.5,-0.1], ncol=2, fontsize=11)\n",
    "    plt.savefig(fig_DIR+'cal_cold_50_4eSOH_ic'+'_comp_'+esoh_vars_str[ev_num]+'.png')"
   ]
  },
  {
   "cell_type": "code",
   "execution_count": null,
   "metadata": {},
   "outputs": [],
   "source": [
    "asdasd"
   ]
  },
  {
   "cell_type": "markdown",
   "metadata": {},
   "source": [
    "# Compare Data"
   ]
  },
  {
   "cell_type": "code",
   "execution_count": null,
   "metadata": {},
   "outputs": [],
   "source": [
    "esoh_vars = [\"x_100\", \"y_0\", \"C_n\", \"C_p\", \"Capacity [A.h]\", \"Loss of lithium inventory [%]\"]\n",
    "esoh_vars_str = [\"x_100\", \"y_0\", \"C_n\", \"C_p\", \"cap\", \"LLI\"]\n",
    "for ev_num in range(len(esoh_vars)):\n",
    "    fig, ax = plt.subplots(1,1,figsize=(3,3))\n",
    "    col = ['r','r','b','b','c']\n",
    "    col_idx = [x // 2 +1 for x in range(-1,8)]\n",
    "    mar_idx = [x % 2 for x in range(-1,8)]\n",
    "    mar_idx[0]=2\n",
    "    mar = [u'v',u'x',u'v',u'x']\n",
    "    idx = 0\n",
    "    for cell in [22,23,24,25]:\n",
    "        cell_no,dfe,N = load_data_calendar(cell,eSOH_DIR)\n",
    "        ax.plot(dfe['N'],dfe[esoh_vars[ev_num]],color=col[idx],marker=mar[idx])\n",
    "        ax.set_title(split_long_string(esoh_vars[ev_num]))\n",
    "        idx+=1\n",
    "    fig.legend(['45 100%','45 50%','-5 100%','-5 50%'], \n",
    "            loc=\"lower center\",bbox_to_anchor=[0.5,-0.2], ncol=2, fontsize=11)\n",
    "    # plt.savefig(fig_DIR+'cal_data'+'_comp_'+esoh_vars_str[ev_num]+'.png')"
   ]
  },
  {
   "cell_type": "markdown",
   "metadata": {},
   "source": [
    "## Compare Voltage data"
   ]
  },
  {
   "cell_type": "code",
   "execution_count": null,
   "metadata": {},
   "outputs": [],
   "source": [
    "dis_set = \" until 3V\"\n",
    "c_rate_d = 'C/20'\n",
    "c_rate_c = 'C/20'\n",
    "experiment_rev_exp = pybamm.Experiment(\n",
    "    [\n",
    "        \"Discharge at \"+c_rate_d+dis_set,\n",
    "        \"Rest for 60 min\",\n",
    "        \"Charge at \"+c_rate_c+\" until 4.2V\", \n",
    "        # \"Hold at 4.2V until C/50\"\n",
    "    ],\n",
    ")"
   ]
  },
  {
   "cell_type": "code",
   "execution_count": null,
   "metadata": {},
   "outputs": [],
   "source": [
    "def voltage_sim(cyc_no,N,eSOH,SOC_data):\n",
    "    # dfo = dfo_0[dfo_0['N']==N[cyc_no]]\n",
    "    model = spm\n",
    "    Vmin = 3.0\n",
    "    Vmax = 4.2\n",
    "    esoh_model = pybamm.lithium_ion.ElectrodeSOH()\n",
    "    esoh_sim = pybamm.Simulation(esoh_model, parameter_values=parameter_values)\n",
    "    param = model.param\n",
    "    try:\n",
    "        print('sim')\n",
    "        print(int(N[cyc_no]))\n",
    "        Cn = eSOH[\"C_n\"][int(N[cyc_no])]\n",
    "        print(Cn)\n",
    "        Cp = eSOH[\"C_p\"][int(N[cyc_no])]\n",
    "        print(Cp)\n",
    "        n_Li_init = eSOH[\"Total lithium in particles [mol]\"][int(N[cyc_no])]\n",
    "        print(n_Li_init)\n",
    "    except:\n",
    "        print('data')\n",
    "        Cn = eSOH[\"C_n\"][cyc_no]\n",
    "        Cp = eSOH[\"C_p\"][cyc_no]\n",
    "        n_Li_init = eSOH[\"n_Li\"][cyc_no]  \n",
    "    c_n_max = parameter_values.evaluate(param.n.c_max)\n",
    "    c_p_max = parameter_values.evaluate(param.p.c_max)      \n",
    "    eps_n_data = parameter_values.evaluate(Cn*3600/(param.n.L * param.n.c_max * param.F* param.A_cc))\n",
    "    eps_p_data = parameter_values.evaluate(Cp*3600/(param.p.L * param.p.c_max * param.F* param.A_cc))\n",
    "\n",
    "    esoh_sol = esoh_sim.solve(\n",
    "        [0],\n",
    "        inputs={\"V_min\": Vmin, \"V_max\": Vmax, \"C_n\": Cn, \"C_p\": Cp, \"n_Li\": n_Li_init},\n",
    "        solver=pybamm.AlgebraicSolver(),\n",
    "    )\n",
    "\n",
    "    parameter_values.update(\n",
    "        {\n",
    "            \"Initial concentration in negative electrode [mol.m-3]\": esoh_sol[\n",
    "       \"x_100\"\n",
    "            ].data[0]\n",
    "            * c_n_max,\n",
    "            \"Initial concentration in positive electrode [mol.m-3]\": esoh_sol[\n",
    "                \"y_100\"\n",
    "            ].data[0]\n",
    "            * c_p_max,\n",
    "            \"Negative electrode active material volume fraction\": eps_n_data,\n",
    "            \"Positive electrode active material volume fraction\": eps_p_data,\n",
    "            \"Initial temperature [K]\": 273.15+25,\n",
    "            \"Ambient temperature [K]\": 273.15+25,\n",
    "            \n",
    "        }\n",
    "    )\n",
    "\n",
    "    sim_exp = pybamm.Simulation(\n",
    "        model, experiment=experiment_rev_exp, parameter_values=parameter_values,\n",
    "        solver=pybamm.CasadiSolver(\"safe\")\n",
    "    )\n",
    "    sol_exp = sim_exp.solve()\n",
    "    t_t = sol_exp[\"Time [min]\"].entries\n",
    "    I_t = sol_exp[\"Current [A]\"].entries\n",
    "    Q_t = -sol_exp['Discharge capacity [A.h]'].entries\n",
    "    Vt_t = sol_exp[\"Terminal voltage [V]\"].entries\n",
    "    idx = np.where(np.diff(np.sign(I_t)))[0]\n",
    "    I = I_t[idx[-1]:]\n",
    "    t = t_t[idx[-1]:]-t_t[idx[-1]]\n",
    "    Q = Q_t[idx[-1]:]-Q_t[idx[-1]]\n",
    "    Vt = Vt_t[idx[-1]:]\n",
    "    # Q_filt = ((Q/max(Q))>0.15)\n",
    "    # int_V = interpolate.CubicSpline(SOC_data['Q'],SOC_data['V'],extrapolate=True)\n",
    "    # rmse_V = pybamm.rmse(Vt*Q_filt,int_V(Q)*Q_filt)\n",
    "    # V_err = Vt*Q_filt-int_V(Q)*Q_filt\n",
    "    # V_max_loc = np.argmax(abs(V_err))\n",
    "    # V_err_Q = Q[V_max_loc]\n",
    "    # V_err_max = V_err[V_max_loc]\n",
    "    # if max(Q)<max(SOC_data['Q']):\n",
    "    #     int_V = interpolate.CubicSpline(SOC_data['Q'],SOC_data['V'],extrapolate=True)\n",
    "    #     rmse_V = pybamm.rmse(Vt,int_V(Q))\n",
    "    #     V_err = Vt-int_V(Q)\n",
    "    #     max_V = abs(V_err[-2])\n",
    "    #     V_max_loc = np.argmax(abs(V_err))\n",
    "    #     V_err_Q = Q[V_max_loc]\n",
    "    #     V_err_max = V_err[V_max_loc]\n",
    "    #     Q_err = Q\n",
    "    # else:\n",
    "    int_V = interpolate.CubicSpline(Q,Vt,extrapolate=True)\n",
    "    rmse_V = pybamm.rmse(SOC_data['V'],int_V(SOC_data['Q']))\n",
    "    V_err = int_V(SOC_data['Q'])-SOC_data['V']\n",
    "    max_V = abs(V_err.iloc[-2])\n",
    "    V_max_loc = np.argmax(abs(V_err))\n",
    "    V_err_Q = SOC_data['Q'].iloc[V_max_loc]\n",
    "    V_err_max = V_err.iloc[V_max_loc]\n",
    "    Q_err = SOC_data['Q']\n",
    "    return Q,Vt,rmse_V,max_V"
   ]
  },
  {
   "cell_type": "code",
   "execution_count": null,
   "metadata": {},
   "outputs": [],
   "source": [
    "# results_dict[\"Capacity [A.h]\"]"
   ]
  },
  {
   "cell_type": "code",
   "execution_count": null,
   "metadata": {},
   "outputs": [],
   "source": [
    "cell=22\n",
    "results_dict = sol_out_hot_100[0]\n",
    "# cell=23\n",
    "# results_dict = sol_out_hot_50[0]\n",
    "# cell=24\n",
    "# results_dict = sol_out_cold_100[0]\n",
    "# cell=25\n",
    "# results_dict = sol_out_cold_50[0]\n",
    "cell_no,dfe,N,dfo_0 = load_data_calendar(cell,eSOH_DIR,oCV_DIR)"
   ]
  },
  {
   "cell_type": "code",
   "execution_count": null,
   "metadata": {},
   "outputs": [],
   "source": [
    "i = 0\n",
    "rmse_V_l = []\n",
    "max_V_l = []\n",
    "fig, axes = plt.subplots(1,3,figsize=(10,6))\n",
    "# for cyc_no in [0,int((len(N)+1)/2),len(N)-1]:\n",
    "for cyc_no in range(len(N)):\n",
    "# for cyc_no in [0]:\n",
    "    # cyc_no=0\n",
    "    print(cyc_no)\n",
    "    dfo = dfo_0[dfo_0['N']==N[cyc_no]]\n",
    "    # Q,Vt,exp,rmse_V,rmse_E,max_V,max_E = rev_exp(cyc_no,all_sumvars_dict,dfo)\n",
    "    # Q_p,Vt_p,exp_p,rmse_V_p,rmse_E_p,max_V_p,max_E_p = rev_exp(cyc_no,dfe,dfo)\n",
    "    # rmse_V_l = np.append(rmse_V_l,rmse_V)\n",
    "    # rmse_E_l = np.append(rmse_E_l,rmse_E)\n",
    "    # max_V_l = np.append(max_V_l,max_V)\n",
    "    # max_E_l = np.append(max_E_l,max_E)\n",
    "    if cyc_no in [0,int((len(N)+1)/2),len(N)-1]:\n",
    "        Q,Vt,rmse_V,max_V = voltage_sim(cyc_no,N,results_dict,dfo)\n",
    "        rmse_V_l = np.append(rmse_V_l,rmse_V)\n",
    "        max_V_l = np.append(max_V_l,max_V)\n",
    "        ax2 = axes.flat[i]\n",
    "        ax2.plot(dfo['Q'],dfo['V'],'k',linewidth=1)\n",
    "        ax2.plot(Q,Vt,'b--',linewidth=1.5)\n",
    "        ax2.set_ylim([3,4.2])\n",
    "        ax2.set_xlim([0,5.1])\n",
    "        ax2.set_xlabel('Q [Ah]')\n",
    "        ax2.text(0.5,0.2,f'RMSE_s: {rmse_V*1e3:0.1f} mV',transform=ax2.transAxes)\n",
    "        if i ==0:\n",
    "            ax2.set_ylabel('$V_t$ [Ah]')\n",
    "        i+=1\n",
    "fig.suptitle('Cell = '+cell_no)\n",
    "fig.tight_layout()\n",
    "plt.savefig(fig_DIR +'cal_volt_comp_'+cell_no+'.png')"
   ]
  },
  {
   "cell_type": "code",
   "execution_count": null,
   "metadata": {},
   "outputs": [],
   "source": [
    "eSOH = results_dict\n",
    "SOC_data =dfo"
   ]
  },
  {
   "cell_type": "code",
   "execution_count": null,
   "metadata": {},
   "outputs": [],
   "source": [
    "fig, ax = plt.subplots(1,1,figsize=(3,3))\n",
    "ax.plot(Q_t,Vt_t)\n",
    "fig.show()"
   ]
  },
  {
   "cell_type": "code",
   "execution_count": null,
   "metadata": {},
   "outputs": [],
   "source": [
    "model = spm\n",
    "Vmin = 3.0\n",
    "Vmax = 4.2\n",
    "esoh_model = pybamm.lithium_ion.ElectrodeSOH()\n",
    "esoh_sim = pybamm.Simulation(esoh_model, parameter_values=parameter_values)\n",
    "param = model.param\n",
    "try:\n",
    "    print('sim')\n",
    "    print(int(N[cyc_no]))\n",
    "    Cn = eSOH[\"C_n\"][int(N[cyc_no])]\n",
    "    print(Cn)\n",
    "    Cp = eSOH[\"C_p\"][int(N[cyc_no])]\n",
    "    print(Cp)\n",
    "    n_Li_init = eSOH[\"Total lithium in particles [mol]\"][int(N[cyc_no])]\n",
    "    print(n_Li_init)\n",
    "except:\n",
    "    print('data')\n",
    "    Cn = eSOH[\"C_n\"][cyc_no]\n",
    "    Cp = eSOH[\"C_p\"][cyc_no]\n",
    "    n_Li_init = eSOH[\"n_Li\"][cyc_no]  \n",
    "c_n_max = parameter_values.evaluate(param.n.c_max)\n",
    "c_p_max = parameter_values.evaluate(param.p.c_max)      \n",
    "eps_n_data = parameter_values.evaluate(Cn*3600/(param.n.L * param.n.c_max * param.F* param.A_cc))\n",
    "eps_p_data = parameter_values.evaluate(Cp*3600/(param.p.L * param.p.c_max * param.F* param.A_cc))\n",
    "\n",
    "esoh_sol = esoh_sim.solve(\n",
    "    [0],\n",
    "    inputs={\"V_min\": Vmin, \"V_max\": Vmax, \"C_n\": Cn, \"C_p\": Cp, \"n_Li\": n_Li_init},\n",
    "    solver=pybamm.AlgebraicSolver(),\n",
    ")\n",
    "\n",
    "parameter_values.update(\n",
    "    {\n",
    "        \"Initial concentration in negative electrode [mol.m-3]\": esoh_sol[\n",
    "    \"x_100\"\n",
    "        ].data[0]\n",
    "        * c_n_max,\n",
    "        \"Initial concentration in positive electrode [mol.m-3]\": esoh_sol[\n",
    "            \"y_100\"\n",
    "        ].data[0]\n",
    "        * c_p_max,\n",
    "        \"Negative electrode active material volume fraction\": eps_n_data,\n",
    "        \"Positive electrode active material volume fraction\": eps_p_data,\n",
    "        \n",
    "    }\n",
    ")\n",
    "\n",
    "sim_exp = pybamm.Simulation(\n",
    "    model, experiment=experiment_rev_exp, parameter_values=parameter_values,\n",
    "    solver=pybamm.CasadiSolver(\"safe\")\n",
    ")\n",
    "sol_exp = sim_exp.solve()\n",
    "t_t = sol_exp[\"Time [min]\"].entries\n",
    "I_t = sol_exp[\"Current [A]\"].entries\n",
    "Q_t = -sol_exp['Discharge capacity [A.h]'].entries\n",
    "Vt_t = sol_exp[\"Terminal voltage [V]\"].entries\n",
    "idx = np.where(np.diff(np.sign(I_t)))[0]\n",
    "I = I_t[idx[-1]:]\n",
    "t = t_t[idx[-1]:]-t_t[idx[-1]]\n",
    "Q = Q_t[idx[-1]:]-Q_t[idx[-1]]\n",
    "Vt = Vt_t[idx[-1]:]\n",
    "# Q_filt = ((Q/max(Q))>0.15)\n",
    "# int_V = interpolate.CubicSpline(SOC_data['Q'],SOC_data['V'],extrapolate=True)\n",
    "# rmse_V = pybamm.rmse(Vt*Q_filt,int_V(Q)*Q_filt)\n",
    "# V_err = Vt*Q_filt-int_V(Q)*Q_filt\n",
    "# V_max_loc = np.argmax(abs(V_err))\n",
    "# V_err_Q = Q[V_max_loc]\n",
    "# V_err_max = V_err[V_max_loc]\n",
    "# if max(Q)<max(SOC_data['Q']):\n",
    "#     int_V = interpolate.CubicSpline(SOC_data['Q'],SOC_data['V'],extrapolate=True)\n",
    "#     rmse_V = pybamm.rmse(Vt,int_V(Q))\n",
    "#     V_err = Vt-int_V(Q)\n",
    "#     max_V = abs(V_err[-2])\n",
    "#     V_max_loc = np.argmax(abs(V_err))\n",
    "#     V_err_Q = Q[V_max_loc]\n",
    "#     V_err_max = V_err[V_max_loc]\n",
    "#     Q_err = Q\n",
    "# else:\n",
    "int_V = interpolate.CubicSpline(Q,Vt,extrapolate=True)\n",
    "rmse_V = pybamm.rmse(SOC_data['V'],int_V(SOC_data['Q']))\n",
    "V_err = int_V(SOC_data['Q'])-SOC_data['V']\n",
    "max_V = abs(V_err.iloc[-2])\n",
    "V_max_loc = np.argmax(abs(V_err))\n",
    "V_err_Q = SOC_data['Q'].iloc[V_max_loc]\n",
    "V_err_max = V_err.iloc[V_max_loc]\n",
    "Q_err = SOC_data['Q']\n",
    "# return Q,Vt,rmse_V,max_V"
   ]
  }
 ],
 "metadata": {
  "kernelspec": {
   "display_name": "Python 3.9.7 ('windows-dev': venv)",
   "language": "python",
   "name": "python3"
  },
  "language_info": {
   "codemirror_mode": {
    "name": "ipython",
    "version": 3
   },
   "file_extension": ".py",
   "mimetype": "text/x-python",
   "name": "python",
   "nbconvert_exporter": "python",
   "pygments_lexer": "ipython3",
   "version": "3.9.7"
  },
  "orig_nbformat": 4,
  "vscode": {
   "interpreter": {
    "hash": "fe6e1a396f7757d05554318f98bb2d7e7d3785df9fdbcce0707f057fad4349a9"
   }
  }
 },
 "nbformat": 4,
 "nbformat_minor": 2
}
