{
 "cells": [
  {
   "attachments": {},
   "cell_type": "markdown",
   "metadata": {},
   "source": [
    "# Plot Mechanical Stress at several C-rates"
   ]
  },
  {
   "cell_type": "code",
   "execution_count": 1,
   "metadata": {},
   "outputs": [],
   "source": [
    "import pybamm\n",
    "import matplotlib.pyplot as plt\n",
    "import numpy as np\n",
    "import scipy\n",
    "import pandas as pd\n",
    "import math\n",
    "import dfols\n",
    "import signal\n",
    "from scipy.integrate import solve_ivp\n",
    "from scipy.fft import fft, fftfreq, fftshift\n",
    "from scipy.signal import savgol_filter\n",
    "from scipy.signal import find_peaks\n",
    "from scipy import interpolate\n",
    "from stopit import threading_timeoutable as timeoutable\n",
    "import os, sys\n",
    "sys.path.append(os.path.dirname(os.path.dirname(os.path.abspath(\"__file__\"))))\n",
    "from batfuns import *\n",
    "plt.rcParams = set_rc_params(plt.rcParams)\n",
    "\n",
    "eSOH_DIR = \"../data/esoh/\"\n",
    "oCV_DIR = \"../data/ocv/\"\n",
    "cyc_DIR = \"../data/cycling/\"\n",
    "fig_DIR = \"../figures/figures_model/\"\n",
    "res_DIR = \"../data/results_model/\"\n",
    "%matplotlib widget"
   ]
  },
  {
   "cell_type": "code",
   "execution_count": 2,
   "metadata": {},
   "outputs": [],
   "source": [
    "parameter_values = get_parameter_values()"
   ]
  },
  {
   "cell_type": "code",
   "execution_count": 3,
   "metadata": {},
   "outputs": [],
   "source": [
    "spm = pybamm.lithium_ion.SPM(\n",
    "    {\n",
    "        \"SEI\": \"ec reaction limited\",\n",
    "        \"loss of active material\": \"stress-driven\",\n",
    "        \"lithium plating\": \"irreversible\",\n",
    "        \"stress-induced diffusion\": \"false\",\n",
    "    }\n",
    ")\n",
    "# spm.print_parameter_info()\n",
    "param=spm.param"
   ]
  },
  {
   "cell_type": "code",
   "execution_count": 4,
   "metadata": {},
   "outputs": [
    {
     "name": "stdout",
     "output_type": "stream",
     "text": [
      "25\n"
     ]
    }
   ],
   "source": [
    "cell = 10\n",
    "sno = 15\n",
    "cell_no,dfe,dfe_0,dfo_0,N,N_0 = load_data(cell,eSOH_DIR,oCV_DIR)\n",
    "eps_n_data,eps_p_data,c_rate_c,c_rate_d,dis_set,Temp,SOC_0 = init_exp(cell_no,dfe,spm,parameter_values)\n",
    "print(Temp)"
   ]
  },
  {
   "cell_type": "code",
   "execution_count": 5,
   "metadata": {},
   "outputs": [],
   "source": [
    "par_val = {}\n",
    "# Previous i.e. tuning mech sim sep and then Li plating\n",
    "par_val[0] = [1.2715e-07,1.2727e-06,1.1992,1.353e-9,0,0]\n",
    "# Using only C/5 and 1.5C Cycling aging, cost function with Cn,Cp,x100,y0\n",
    "par_val[1] = [1.4819e-07,1.5114e-06,1.2484,1.4732e-09,0,0]\n",
    "# Using only C/5 and 1.5C Cycling aging, cost function with Cn,Cp,C,LLI(%)\n",
    "par_val[2] = [1.4493e-07,1.3608e-06,1.199,1.2138e-09,0,0]\n",
    "# Using C/5, 1.5C and mixed c-rate (Ch:C/5, Dh:1.5C) Cycling aging, cost function with Cn,Cp,x100,y0\n",
    "par_val[3] = [1.043e-07,1.036e-06,1.208,1.6045e-09,0,0]\n",
    "# Using C/5, 1.5C and mixed c-rate (Ch:C/5, Dh:1.5C) Cycling aging, cost function with Cn,Cp,C,LLI(%)\n",
    "par_val[4] = [8.755e-08,8.572e-07,1.135,1.5788e-09,0,0]\n",
    "# Using C/5, 1.5C and mixed c-rate (Ch:C/5, Dh:1.5C) Cycling aging, cost function with Cn,Cp,C,LLI(%) another initial condition\n",
    "par_val[5] = [8.7698e-08,8.5848e-07,1.1354,1.5778e-09,0,0]\n",
    "# New Mech Damage Model\n",
    "par_val[6] = [2.056E-07,2.4664E-06,1.2468,1.0482e-09,0,0]\n",
    "# New Mech Damage Model with Lithium plating resistane\n",
    "par_val[7] = [2.190e-07,2.308e-06,1.214,2.537e-09,0]\n",
    "# New Assymetric Mech Damage Model, tuned using C/5, 1.5C and mixed c-rate (Ch:C/5, Dh:1.5C) Cycling aging\n",
    "par_val[8] = [1.426e-07,3.832e-06,1.215,2.35e-09,1.462e-06,0]\n",
    "# New Assymetric Mech Damage Model, tuned using C/5, 1.5C and mixed c-rate (Ch:C/5, Dh:1.5C) Cycling aging version 2\n",
    "par_val[9] = [1.41036e-07,2.3913188000000003e-06,1.2098,2.4487124e-09,7.330208e-08,0]\n",
    "# New Assymetric Mech Damage Model, tuned using C/5, 1.5C and mixed c-rate (Ch:C/5, Dh:1.5C) Cycling aging version 3\n",
    "par_val[10] = [1.414e-07,1.5045e-06,1.2094,2.45e-09,4.603e-08,0]\n",
    "# Post processing LAM model using simulated stress, tuned using C/5 and 1.5C Cycling aging \n",
    "par_val[11] = [4.2298e-08,3.1590e-07,1.0773,2.3688e-09,1.8939e-08,0]\n",
    "# Post processing LAM model using simulated stress, tuned using C/5 and mixed c-rate (Ch:C/5, Dh:1.5C) Cycling aging \n",
    "par_val[12] = [8.4600e-09,2.8926e-07,1.0462,2.8351e-09,7.6933e-11,0]\n",
    "# Post processing LAM model using simulated stress, tuned using C/5 and mixed c-rate (Ch:C/5, Dh:1.5C) Cycling aging version 2\n",
    "par_val[13] = [4.0689e-08,2.8887e-07,1.0484,2.4848e-09,7.6548e-12,5.8577e-11]\n",
    "# Post processing LAM model using simulated stress, tuned using C/5 and mixed c-rate (Ch:C/5, Dh:1.5C) Cycling aging negative beta\n",
    "par_val[14] = [4.0419e-08,2.8956e-07,1.0788,2.3578e-09,-7.8991e-09,-1.4254e-09]\n",
    "# Post processing LAM model using simulated stress, tuned using C/5 and mixed c-rate (Ch:C/5, Dh:1.5C) Cycling aging V1: correct Omega\n",
    "par_val[15] = [4.0312e-08,1.8157e-07,1.0776,2.3586e-09,-4.9170e-09,-1.4406e-09]\n",
    "# Post processing LAM model using simulated stress, tuned using C/5 and mixed c-rate (Ch:C/5, Dh:1.5C) Cycling aging V2: New critical stress values\n",
    "par_val[16] = [3.7270e-09,5.4495e-08,1.0593,3.1062e-09,-1.4317e-09,-1.5005e-10]\n",
    "# par_val[16] = [5.9604e-08,3.7083e-07,1.1885,2.1512e-09,-9.0250e-09,-8.5400e-11]\n",
    "# par_val[15] = [1.8738e-07,3.5218e-07,1.0998,2.5332e-09,7.6933e-13,7.6933e-13]\n",
    "par_val[17]= [3.9120e-08,1.7582e-07,1.0612,1.4662e-11,-4.2190e-09,-1.7768e-09]\n",
    "\n",
    "par_val[18]= [4.0260e-08,1.7690e-07,1.0613,1.4276e-11,-3.9503e-09,-1.7136e-09]"
   ]
  },
  {
   "cell_type": "code",
   "execution_count": 6,
   "metadata": {},
   "outputs": [],
   "source": [
    "parameter_values = get_parameter_values()\n",
    "parameter_values.update(\n",
    "    {\n",
    "        \"Negative electrode active material volume fraction\": eps_n_data,\n",
    "        \"Positive electrode active material volume fraction\": eps_p_data,\n",
    "        \"Initial temperature [K]\": 273.15+Temp,\n",
    "        \"Ambient temperature [K]\": 273.15+Temp,\n",
    "        \"Positive electrode LAM constant proportional term [s-1]\": par_val[sno][0],\n",
    "        \"Negative electrode LAM constant proportional term [s-1]\": par_val[sno][1],\n",
    "        \"Positive electrode LAM constant proportional term 2 [s-1]\": par_val[sno][5],\n",
    "        \"Negative electrode LAM constant proportional term 2 [s-1]\": par_val[sno][4],\n",
    "        \"Positive electrode LAM constant exponential term\": par_val[sno][2],\n",
    "        \"Negative electrode LAM constant exponential term\": par_val[sno][2],\n",
    "        \"SEI kinetic rate constant [m.s-1]\":  4.60788219e-16, #1.08494281e-16 , \n",
    "        \"EC diffusivity [m2.s-1]\": 4.56607447e-19,#8.30909086e-19,\n",
    "        \"SEI growth activation energy [J.mol-1]\": 1.87422275e+04,#1.58777981e+04,\n",
    "        \"Lithium plating kinetic rate constant [m.s-1]\": par_val[sno][3],\n",
    "        \"Initial inner SEI thickness [m]\": 0e-09,\n",
    "        \"Initial outer SEI thickness [m]\": 5e-09,\n",
    "        \"SEI resistivity [Ohm.m]\": 30000.0,\n",
    "        \"Negative electrode partial molar volume [m3.mol-1]\": 7e-06,\n",
    "        \"Negative electrode LAM min stress [Pa]\": 0,\n",
    "        \"Negative electrode LAM max stress [Pa]\": 0,\n",
    "        \"Positive electrode LAM min stress [Pa]\": 0,\n",
    "        \"Positive electrode LAM max stress [Pa]\": 0,\n",
    "        # \"Negative electrode critical stress [Pa]\": 20e+06,\n",
    "        # \"Positive electrode critical stress [Pa]\": 40e+06,\n",
    "    },\n",
    "    check_already_exists=False,\n",
    ")"
   ]
  },
  {
   "cell_type": "code",
   "execution_count": 7,
   "metadata": {},
   "outputs": [],
   "source": [
    "# c_rate_d = '2C'\n",
    "# c_rate_c = '1.5C'\n",
    "c_rate_c ='C/5'\n",
    "c_rate_d ='C/5'"
   ]
  },
  {
   "cell_type": "code",
   "execution_count": 8,
   "metadata": {},
   "outputs": [],
   "source": [
    "# pybamm.set_logging_level(\"WARNING\")\n",
    "pybamm.set_logging_level(\"NOTICE\")\n",
    "experiment = pybamm.Experiment(\n",
    "    [\n",
    "        (\n",
    "        #  \"Rest for 10 minutes\", \n",
    "         \"Charge at \"+c_rate_c+\" until 4.2V\", \n",
    "         \"Hold at 4.2V until C/50\",\n",
    "        #  \"Rest for 20 minutes\",\n",
    "         )\n",
    "    ],\n",
    "    termination=\"50% capacity\",\n",
    "    period = \"10 sec\",\n",
    "#     cccv_handling=\"ode\",\n",
    ")\n",
    "\n",
    "experiment = pybamm.Experiment(\n",
    "    [\n",
    "        (\n",
    "         \"Charge at \"+c_rate_c+\" until 4.2V\", \n",
    "         \"Hold at 4.2V until C/50\",\n",
    "         \"Rest for 5 min\",\n",
    "         \"Discharge at \"+c_rate_d+\" until 3V\",\n",
    "        #  \"Discharge at \"+c_rate_d+\" for 150 min\",\n",
    "         )\n",
    "    ],\n",
    "    termination=\"50% capacity\",\n",
    "    period = \"10 sec\",\n",
    "#     cccv_handling=\"ode\",\n",
    ")\n",
    "SOC_0 = 0.5\n",
    "parameter_values.update(\n",
    "    {\n",
    "        \"Negative electrode LAM min stress [Pa]\": -4947907,\n",
    "        \"Negative electrode LAM max stress [Pa]\": 4948199,\n",
    "        \"Positive electrode LAM min stress [Pa]\": 0,\n",
    "        \"Positive electrode LAM max stress [Pa]\": 0,\n",
    "    },\n",
    "    check_already_exists=False,\n",
    ")"
   ]
  },
  {
   "cell_type": "code",
   "execution_count": 9,
   "metadata": {},
   "outputs": [
    {
     "name": "stderr",
     "output_type": "stream",
     "text": [
      "2023-06-13 10:32:22.964 - [NOTICE] callbacks.on_cycle_start(174): Cycle 1/1 (12.789 ms elapsed) --------------------\n",
      "2023-06-13 10:32:22.965 - [NOTICE] callbacks.on_step_start(182): Cycle 1/1, step 1/4: Charge at C/5 until 4.2V\n",
      "2023-06-13 10:32:23.099 - [NOTICE] callbacks.on_step_start(182): Cycle 1/1, step 2/4: Hold at 4.2V until C/50\n",
      "2023-06-13 10:32:23.224 - [NOTICE] callbacks.on_step_start(182): Cycle 1/1, step 3/4: Rest for 5 min\n",
      "2023-06-13 10:32:23.267 - [NOTICE] callbacks.on_step_start(182): Cycle 1/1, step 4/4: Discharge at C/5 until 3V\n",
      "2023-06-13 10:32:23.884 - [NOTICE] callbacks.on_cycle_end(196): Capacity is now 4.796 Ah (originally 4.796 Ah, will stop at 2.398 Ah)\n",
      "2023-06-13 10:32:23.885 - [NOTICE] callbacks.on_experiment_end(222): Finish experiment simulation, took 932.433 ms\n"
     ]
    }
   ],
   "source": [
    "sim_long = pybamm.Simulation(spm, experiment=experiment, parameter_values=parameter_values, \n",
    "                            solver=pybamm.CasadiSolver(\"safe\"))\n",
    "sol_long = sim_long.solve(initial_soc=SOC_0)\n",
    "solution1 = sol_long"
   ]
  },
  {
   "cell_type": "code",
   "execution_count": 10,
   "metadata": {},
   "outputs": [
    {
     "name": "stderr",
     "output_type": "stream",
     "text": [
      "2023-06-13 10:32:25.766 - [NOTICE] callbacks.on_cycle_start(174): Cycle 1/1 (13.068 ms elapsed) --------------------\n",
      "2023-06-13 10:32:25.767 - [NOTICE] callbacks.on_step_start(182): Cycle 1/1, step 1/4: Charge at 1.5C until 4.2V\n",
      "2023-06-13 10:32:25.943 - [NOTICE] callbacks.on_step_start(182): Cycle 1/1, step 2/4: Hold at 4.2V until C/50\n",
      "2023-06-13 10:32:26.061 - [NOTICE] callbacks.on_step_start(182): Cycle 1/1, step 3/4: Rest for 5 min\n",
      "2023-06-13 10:32:26.114 - [NOTICE] callbacks.on_step_start(182): Cycle 1/1, step 4/4: Discharge at 1.5C until 3V\n",
      "2023-06-13 10:32:26.685 - [NOTICE] callbacks.on_cycle_end(196): Capacity is now 4.795 Ah (originally 4.795 Ah, will stop at 2.398 Ah)\n",
      "2023-06-13 10:32:26.686 - [NOTICE] callbacks.on_experiment_end(222): Finish experiment simulation, took 931.691 ms\n"
     ]
    }
   ],
   "source": [
    "# parameter_values.update(\n",
    "#     {\n",
    "#     #   \"Exchange-current density for plating [A.m-2]\":0.001,\n",
    "#     #   \"Lithium plating transfer coefficient\": 0.5,\n",
    "#     #   \"Dead lithium decay constant [s-1]\": 1E-4,\n",
    "#         # \"Exchange-current density for stripping [A.m-2]\": 0.00005,\n",
    "#     },\n",
    "#     check_already_exists=False,\n",
    "# )\n",
    "c_rate_c ='C/5'\n",
    "c_rate_c ='1.5C'\n",
    "c_rate_d ='1.5C'\n",
    "# c_rate_c ='2C'\n",
    "experiment = pybamm.Experiment(\n",
    "    [\n",
    "        (\n",
    "        #  \"Rest for 10 minutes\",\n",
    "         \"Charge at \"+c_rate_c+\" until 4.2V\", \n",
    "         \"Hold at 4.2V until C/50\",\n",
    "        #  \"Rest for 20 minutes\",\n",
    "         )\n",
    "    ],\n",
    "    termination=\"50% capacity\",\n",
    "    period = \"1 sec\",\n",
    "#     cccv_handling=\"ode\",\n",
    ")\n",
    "experiment = pybamm.Experiment(\n",
    "    [\n",
    "        (\n",
    "         \"Charge at \"+c_rate_c+\" until 4.2V\", \n",
    "         \"Hold at 4.2V until C/50\",\n",
    "         \"Rest for 5 min\",\n",
    "         \"Discharge at \"+c_rate_d+\" until 3V\",\n",
    "         )\n",
    "    ],\n",
    "    termination=\"50% capacity\",\n",
    "    period = \"1 sec\",\n",
    "#     cccv_handling=\"ode\",\n",
    ")\n",
    "drive_cycle = pd.read_csv(cyc_DIR+'peyman_drive_cycle_current'+'.csv', comment=\"#\", header=None).to_numpy()\n",
    "# experiment = pybamm.Experiment(\n",
    "#     [\n",
    "#         (\n",
    "#          \"Charge at \"+c_rate_c+\" until 4.2V\", \n",
    "#          \"Hold at 4.2V until C/50\",\n",
    "#          \"Rest for 5 min\",\n",
    "#          \"Run DriveCycle (A)\",\n",
    "#         )\n",
    "#     ] ,\n",
    "#     drive_cycles={\"DriveCycle\": drive_cycle},\n",
    "#     termination=\"50% capacity\",\n",
    "# #     cccv_handling=\"ode\",\n",
    "# )\n",
    "SOC_0 = 0.5\n",
    "parameter_values.update(\n",
    "    {\n",
    "        \"Negative electrode LAM min stress [Pa]\": -37947482,\n",
    "        \"Negative electrode LAM max stress [Pa]\": 37960494,\n",
    "        \"Positive electrode LAM min stress [Pa]\": 0,\n",
    "        \"Positive electrode LAM max stress [Pa]\": 0,\n",
    "    },\n",
    "    check_already_exists=False,\n",
    ")\n",
    "\n",
    "sim_long = pybamm.Simulation(spm, experiment=experiment, parameter_values=parameter_values, \n",
    "                            solver=pybamm.CasadiSolver(\"safe\"))\n",
    "sol_long = sim_long.solve(initial_soc=SOC_0)\n",
    "solution2 = sol_long"
   ]
  },
  {
   "cell_type": "code",
   "execution_count": 11,
   "metadata": {},
   "outputs": [
    {
     "name": "stderr",
     "output_type": "stream",
     "text": [
      "2023-06-13 10:32:28.518 - [NOTICE] callbacks.on_cycle_start(174): Cycle 1/1 (14.952 ms elapsed) --------------------\n",
      "2023-06-13 10:32:28.519 - [NOTICE] callbacks.on_step_start(182): Cycle 1/1, step 1/4: Charge at C/5 until 4.2V\n",
      "2023-06-13 10:32:28.707 - [NOTICE] callbacks.on_step_start(182): Cycle 1/1, step 2/4: Hold at 4.2V until C/50\n",
      "2023-06-13 10:32:28.893 - [NOTICE] callbacks.on_step_start(182): Cycle 1/1, step 3/4: Rest for 5 min\n",
      "2023-06-13 10:32:28.936 - [NOTICE] callbacks.on_step_start(182): Cycle 1/1, step 4/4: Discharge at 1.5C until 3V\n",
      "2023-06-13 10:32:29.925 - [NOTICE] callbacks.on_cycle_end(196): Capacity is now 4.797 Ah (originally 4.797 Ah, will stop at 2.398 Ah)\n",
      "2023-06-13 10:32:29.926 - [NOTICE] callbacks.on_experiment_end(222): Finish experiment simulation, took 1.421 s\n"
     ]
    }
   ],
   "source": [
    "# parameter_values.update(\n",
    "#     {\n",
    "#     #   \"Exchange-current density for plating [A.m-2]\":0.001,\n",
    "#     #   \"Lithium plating transfer coefficient\": 0.5,\n",
    "#     #   \"Dead lithium decay constant [s-1]\": 1E-4,\n",
    "#         # \"Exchange-current density for stripping [A.m-2]\": 0.00005,\n",
    "#     },\n",
    "#     check_already_exists=False,\n",
    "# )\n",
    "# parameter_values.update(\n",
    "#     {\n",
    "#         \"Negative electrode LAM constant proportional term 2 [s-1]\": 7.5*par_val[sno][4],\n",
    "\n",
    "#     },\n",
    "#     check_already_exists=False,\n",
    "# ) \n",
    "c_rate_c ='C/5'\n",
    "# c_rate_c ='1.5C'\n",
    "c_rate_d ='1.5C'\n",
    "# c_rate_c ='2C'\n",
    "experiment = pybamm.Experiment(\n",
    "    [\n",
    "        (\n",
    "        #  \"Rest for 10 minutes\",\n",
    "         \"Charge at \"+c_rate_c+\" until 4.2V\", \n",
    "         \"Hold at 4.2V until C/50\",\n",
    "        #  \"Rest for 20 minutes\",\n",
    "         )\n",
    "    ],\n",
    "    termination=\"50% capacity\",\n",
    "    period = \"1 sec\",\n",
    "#     cccv_handling=\"ode\",\n",
    ")\n",
    "experiment = pybamm.Experiment(\n",
    "    [\n",
    "        (\n",
    "         \"Charge at \"+c_rate_c+\" until 4.2V\", \n",
    "         \"Hold at 4.2V until C/50\",\n",
    "         \"Rest for 5 min\",\n",
    "         \"Discharge at \"+c_rate_d+\" until 3V\",\n",
    "         )\n",
    "    ],\n",
    "    termination=\"50% capacity\",\n",
    "    period = \"1 sec\",\n",
    "#     cccv_handling=\"ode\",\n",
    ")\n",
    "drive_cycle = pd.read_csv(cyc_DIR+'peyman_drive_cycle_current'+'.csv', comment=\"#\", header=None).to_numpy()\n",
    "# experiment = pybamm.Experiment(\n",
    "#     [\n",
    "#         (\n",
    "#          \"Charge at \"+c_rate_c+\" until 4.2V\", \n",
    "#          \"Hold at 4.2V until C/50\",\n",
    "#          \"Rest for 5 min\",\n",
    "#          \"Run DriveCycle (A)\",\n",
    "#         )\n",
    "#     ] ,\n",
    "#     drive_cycles={\"DriveCycle\": drive_cycle},\n",
    "#     termination=\"50% capacity\",\n",
    "# #     cccv_handling=\"ode\",\n",
    "# )\n",
    "SOC_0 = 0.5\n",
    "\n",
    "parameter_values.update(\n",
    "    {\n",
    "        \"Negative electrode LAM min stress [Pa]\": -5083876,\n",
    "        \"Negative electrode LAM max stress [Pa]\": 38131043,\n",
    "        \"Positive electrode LAM min stress [Pa]\": 0,\n",
    "        \"Positive electrode LAM max stress [Pa]\": 0,\n",
    "    },\n",
    "    check_already_exists=False,\n",
    ")\n",
    "\n",
    "\n",
    "\n",
    "sim_long = pybamm.Simulation(spm, experiment=experiment, parameter_values=parameter_values, \n",
    "                            solver=pybamm.CasadiSolver(\"safe\"))\n",
    "sol_long = sim_long.solve(initial_soc=SOC_0)\n",
    "solution3 = sol_long"
   ]
  },
  {
   "cell_type": "code",
   "execution_count": 12,
   "metadata": {},
   "outputs": [
    {
     "name": "stderr",
     "output_type": "stream",
     "text": [
      "2023-06-13 10:32:31.496 - [NOTICE] callbacks.on_cycle_start(174): Cycle 1/1 (13.939 ms elapsed) --------------------\n",
      "2023-06-13 10:32:31.497 - [NOTICE] callbacks.on_step_start(182): Cycle 1/1, step 1/4: Charge at 1.5C until 4.2V\n",
      "2023-06-13 10:32:31.587 - [NOTICE] callbacks.on_step_start(182): Cycle 1/1, step 2/4: Hold at 4.2V until C/50\n",
      "2023-06-13 10:32:31.697 - [NOTICE] callbacks.on_step_start(182): Cycle 1/1, step 3/4: Rest for 5 min\n",
      "2023-06-13 10:32:31.808 - [NOTICE] callbacks.on_step_start(182): Cycle 1/1, step 4/4: Run DriveCycle (A)\n",
      "2023-06-13 10:32:33.066 - [NOTICE] callbacks.on_cycle_end(196): Capacity is now 4.792 Ah (originally 4.792 Ah, will stop at 2.396 Ah)\n",
      "2023-06-13 10:32:33.066 - [NOTICE] callbacks.on_experiment_end(222): Finish experiment simulation, took 1.583 s\n"
     ]
    }
   ],
   "source": [
    "c_rate_c = '1.5C'\n",
    "drive_cycle = pd.read_csv(cyc_DIR+'peyman_drive_cycle_current'+'.csv', comment=\"#\", header=None).to_numpy()\n",
    "experiment = pybamm.Experiment(\n",
    "    [\n",
    "        (\n",
    "         \"Charge at \"+c_rate_c+\" until 4.2V\", \n",
    "         \"Hold at 4.2V until C/50\",\n",
    "         \"Rest for 5 min\",\n",
    "         \"Run DriveCycle (A)\",\n",
    "        )\n",
    "    ] ,\n",
    "    drive_cycles={\"DriveCycle\": drive_cycle},\n",
    "    termination=\"50% capacity\",\n",
    "#     cccv_handling=\"ode\",\n",
    ")\n",
    "SOC_0 = 0 \n",
    "\n",
    "parameter_values.update(\n",
    "    {\n",
    "        \"Negative electrode LAM min stress [Pa]\": -28221466,\n",
    "        \"Negative electrode LAM max stress [Pa]\":  17687100,\n",
    "        \"Positive electrode LAM min stress [Pa]\": 0,\n",
    "        \"Positive electrode LAM max stress [Pa]\": 0,\n",
    "    },\n",
    "    check_already_exists=False,\n",
    ")\n",
    "\n",
    "sim_long = pybamm.Simulation(spm, experiment=experiment, parameter_values=parameter_values, \n",
    "                            solver=pybamm.CasadiSolver(\"safe\"))\n",
    "sol_long = sim_long.solve(initial_soc=SOC_0)\n",
    "solution4 = sol_long"
   ]
  },
  {
   "cell_type": "code",
   "execution_count": 13,
   "metadata": {},
   "outputs": [],
   "source": [
    "def plot_vars(solution):\n",
    "    t =  solution[\"Time [s]\"].entries\n",
    "    t = t/3600\n",
    "    V =  solution[\"Terminal voltage [V]\"].entries\n",
    "    I =  solution[\"Current [A]\"].entries\n",
    "    Q = -solution['Discharge capacity [A.h]'].entries\n",
    "    Q_Li = solution[\"Loss of capacity to lithium plating [A.h]\"].entries\n",
    "    I_Li = solution[\"X-averaged lithium plating interfacial current density [A.m-2]\"].entries\n",
    "\n",
    "    I_de = solution[\"X-averaged negative electrode interfacial current density [A.m-2]\"].entries\n",
    "    I_st = solution[\"X-averaged lithium plating interfacial current density\"].entries\n",
    "    I_to = solution[\"X-averaged negative electrode total interfacial current density [A.m-2]\"].entries\n",
    "\n",
    "    # phi_seif = solution[\"X-averaged SEI film overpotential [V]\"].entries\n",
    "    phi_seif = []\n",
    "    # phi_sei  = solution[\"X-averaged negative electrode sei reaction overpotential [V]\"].entries\n",
    "    phi_sei  = []\n",
    "    # phi_sei = 0\n",
    "    phi_pl  = solution[\"X-averaged negative electrode lithium plating reaction overpotential [V]\"].entries\n",
    "    phi_pl_nd  = solution[\"X-averaged negative electrode lithium plating reaction overpotential\"].entries\n",
    "    phi_del = solution[\"X-averaged negative electrode surface potential difference [V]\"].entries\n",
    "\n",
    "    phi_ocp = solution[\"X-averaged negative electrode open circuit potential [V]\"].entries\n",
    "    phi_int = solution[\"X-averaged negative electrode reaction overpotential [V]\"].entries\n",
    "\n",
    "    i0_int = solution[\"X-averaged negative electrode exchange current density [A.m-2]\"].entries\n",
    "    phi_e_avg = solution[\"X-averaged negative electrolyte potential [V]\"].entries\n",
    "    c_e_avg = solution[\"X-averaged negative electrolyte concentration [mol.m-3]\"].entries\n",
    "    c_ss_n = solution[\"X-averaged negative particle surface concentration\"].entries\n",
    "    c_save_n1 = solution[\"R-averaged negative particle concentration\"].entries\n",
    "    c_save_n = c_save_n1[1,:]\n",
    "    c_s_n = solution[\"X-averaged negative particle concentration\"].entries\n",
    "\n",
    "    u_css_n = solution[\"X-averaged negative electrode open circuit potential [V]\"].entries\n",
    "\n",
    "    # j_pl = solution[\"Negative electrode lithium plating interfacial current density [A.m-2]\"].entries\n",
    "    j_pl = []\n",
    "    # eta_pl = solution[\"Negative electrode lithium plating reaction overpotential [V]\"].entries\n",
    "    eta_pl = []\n",
    "    sigma_ts_n = solution[\"X-averaged negative particle surface tangential stress [Pa]\"].entries\n",
    "    sigma_rs_n = solution[\"X-averaged negative particle surface radial stress [Pa]\"].entries\n",
    "    sigma_hs_n = (sigma_rs_n+2*sigma_ts_n)/2\n",
    "    sigma_ts_p = solution[\"X-averaged positive particle surface tangential stress [Pa]\"].entries\n",
    "    sigma_rs_p = solution[\"X-averaged positive particle surface radial stress [Pa]\"].entries\n",
    "    sigma_hs_p = (sigma_rs_p+2*sigma_ts_p)/2\n",
    "    # sigma_ts_n = []\n",
    "    # sigma_rs_n = []\n",
    "    # sigma_hs_n = []\n",
    "    # sigma_ts_p = []\n",
    "    # sigma_rs_p = []\n",
    "    # sigma_hs_p = []\n",
    "\n",
    "    C_n = solution[\"Negative electrode capacity [A.h]\"].entries\n",
    "    C_p = solution[\"Positive electrode capacity [A.h]\"].entries\n",
    "\n",
    "    return t,V,I,Q,Q_Li,I_Li,I_de,I_st,I_to,phi_seif,phi_sei,phi_pl,phi_del,phi_ocp,phi_int,i0_int,phi_e_avg,c_e_avg,c_ss_n,c_save_n,c_s_n,u_css_n,j_pl,eta_pl,sigma_hs_n,C_n,sigma_hs_p,C_p"
   ]
  },
  {
   "attachments": {},
   "cell_type": "markdown",
   "metadata": {},
   "source": [
    "# Compare Stress, Plating C Rates"
   ]
  },
  {
   "cell_type": "code",
   "execution_count": 14,
   "metadata": {},
   "outputs": [],
   "source": [
    "t1,V1,I1,Q1,Q_Li1,I_Li1,I_de1,I_st1,I_to1,phi_seif1,phi_sei1,phi_pl1,phi_del1,phi_ocp1,phi_int1,i0_int1,phi_e_avg1,c_e_avg1,c_ss_n1,c_save_n1,c_s_n1,u_css_n1,j_pl1,eta_pl1,sigma_hs_n1,C_n1,sigma_hs_p1,C_p1 = plot_vars(solution1)\n",
    "t2,V2,I2,Q2,Q_Li2,I_Li2,I_de2,I_st2,I_to2,phi_seif2,phi_sei2,phi_pl2,phi_del2,phi_ocp2,phi_int2,i0_int2,phi_e_avg2,c_e_avg2,c_ss_n2,c_save_n2,c_s_n2,u_css_n2,j_pl2,eta_pl2,sigma_hs_n2,C_n2,sigma_hs_p2,C_p2 = plot_vars(solution2)\n",
    "t3,V3,I3,Q3,Q_Li3,I_Li3,I_de3,I_st3,I_to3,phi_seif3,phi_sei3,phi_pl3,phi_del3,phi_ocp3,phi_int3,i0_int3,phi_e_avg3,c_e_avg3,c_ss_n3,c_save_n3,c_s_n3,u_css_n3,j_pl3,eta_pl3,sigma_hs_n3,C_n3,sigma_hs_p3,C_p3 = plot_vars(solution3)"
   ]
  },
  {
   "cell_type": "code",
   "execution_count": 15,
   "metadata": {},
   "outputs": [],
   "source": [
    "t4,V4,I4,Q4,Q_Li4,I_Li4,I_de4,I_st4,I_to4,phi_seif4,phi_sei4,phi_pl4,phi_del4,phi_ocp4,phi_int4,i0_int4,phi_e_avg4,c_e_avg4,c_ss_n4,c_save_n4,c_s_n4,u_css_n4,j_pl4,eta_pl4,sigma_hs_n4,C_n4,sigma_hs_p4,C_p4 = plot_vars(solution4)"
   ]
  },
  {
   "cell_type": "code",
   "execution_count": 16,
   "metadata": {},
   "outputs": [
    {
     "name": "stdout",
     "output_type": "stream",
     "text": [
      "-5083014.720804467\n",
      "5087671.38209612\n",
      "-38111218.66825918\n",
      "38165104.90579485\n",
      "-5083201.504023985\n",
      "38144848.34977405\n"
     ]
    }
   ],
   "source": [
    "print(min(sigma_hs_n1))\n",
    "print(max(sigma_hs_n1))\n",
    "print(min(sigma_hs_n2))\n",
    "print(max(sigma_hs_n2))\n",
    "print(min(sigma_hs_n3))\n",
    "print(max(sigma_hs_n3))"
   ]
  },
  {
   "cell_type": "code",
   "execution_count": null,
   "metadata": {},
   "outputs": [],
   "source": []
  },
  {
   "cell_type": "code",
   "execution_count": 17,
   "metadata": {},
   "outputs": [],
   "source": [
    "beta_LAM_n = param.n.beta_LAM_dimensional\n",
    "beta_LAM2_n = param.n.beta_LAM_dimensional2\n",
    "m_LAM_n = param.n.m_LAM\n",
    "stress_critical_n = param.n.stress_critical_dim\n",
    "j_stress_LAM_n1 = parameter_values.evaluate(-beta_LAM_n*(abs(min(sigma_hs_n1)) / stress_critical_n) ** m_LAM_n + 1*beta_LAM2_n*(abs(max(sigma_hs_n1)) / stress_critical_n) ** m_LAM_n)\n",
    "j_stress_LAM_n2 = parameter_values.evaluate(-beta_LAM_n*(abs(min(sigma_hs_n2)) / stress_critical_n) ** m_LAM_n + 1*beta_LAM2_n*(abs(max(sigma_hs_n2)) / stress_critical_n) ** m_LAM_n)\n",
    "j_stress_LAM_n3 = parameter_values.evaluate(-beta_LAM_n*(abs(min(sigma_hs_n3)) / stress_critical_n) ** m_LAM_n + 1*beta_LAM2_n*(abs(max(sigma_hs_n3)) / stress_critical_n) ** m_LAM_n)"
   ]
  },
  {
   "cell_type": "code",
   "execution_count": 18,
   "metadata": {},
   "outputs": [],
   "source": [
    "beta1= 1.8157e-07\n",
    "beta2= -4.917e-09"
   ]
  },
  {
   "cell_type": "code",
   "execution_count": 19,
   "metadata": {},
   "outputs": [
    {
     "data": {
      "text/plain": [
       "-36.9269880008135"
      ]
     },
     "execution_count": 19,
     "metadata": {},
     "output_type": "execute_result"
    }
   ],
   "source": [
    "beta1/beta2"
   ]
  },
  {
   "cell_type": "code",
   "execution_count": 20,
   "metadata": {},
   "outputs": [
    {
     "name": "stdout",
     "output_type": "stream",
     "text": [
      "1.8157e-07\n",
      "-4.917e-09\n"
     ]
    }
   ],
   "source": [
    "print(parameter_values.evaluate(beta_LAM_n))\n",
    "print(parameter_values.evaluate(beta_LAM2_n))"
   ]
  },
  {
   "cell_type": "code",
   "execution_count": 21,
   "metadata": {},
   "outputs": [
    {
     "data": {
      "text/plain": [
       "-36.9269880008135"
      ]
     },
     "execution_count": 21,
     "metadata": {},
     "output_type": "execute_result"
    }
   ],
   "source": [
    "parameter_values.evaluate(beta_LAM_n)/parameter_values.evaluate(beta_LAM2_n)"
   ]
  },
  {
   "cell_type": "code",
   "execution_count": 22,
   "metadata": {},
   "outputs": [
    {
     "data": {
      "text/plain": [
       "36.89056785851011"
      ]
     },
     "execution_count": 22,
     "metadata": {},
     "output_type": "execute_result"
    }
   ],
   "source": [
    "parameter_values.evaluate(-beta_LAM_n*(abs(min(sigma_hs_n1)) / stress_critical_n) ** m_LAM_n)/ parameter_values.evaluate(beta_LAM2_n*(abs(max(sigma_hs_n1)) / stress_critical_n) ** m_LAM_n)"
   ]
  },
  {
   "cell_type": "code",
   "execution_count": 23,
   "metadata": {},
   "outputs": [
    {
     "data": {
      "text/plain": [
       "36.870807052466816"
      ]
     },
     "execution_count": 23,
     "metadata": {},
     "output_type": "execute_result"
    }
   ],
   "source": [
    "parameter_values.evaluate(-beta_LAM_n*(abs(min(sigma_hs_n2)) / stress_critical_n) ** m_LAM_n)/ parameter_values.evaluate(beta_LAM2_n*(abs(max(sigma_hs_n2)) / stress_critical_n) ** m_LAM_n)"
   ]
  },
  {
   "cell_type": "code",
   "execution_count": 24,
   "metadata": {},
   "outputs": [
    {
     "data": {
      "text/plain": [
       "4.208449787864046"
      ]
     },
     "execution_count": 24,
     "metadata": {},
     "output_type": "execute_result"
    }
   ],
   "source": [
    "parameter_values.evaluate(-beta_LAM_n*(abs(min(sigma_hs_n3)) / stress_critical_n) ** m_LAM_n)/ parameter_values.evaluate(beta_LAM2_n*(abs(max(sigma_hs_n3)) / stress_critical_n) ** m_LAM_n)"
   ]
  },
  {
   "cell_type": "code",
   "execution_count": 25,
   "metadata": {},
   "outputs": [],
   "source": [
    "# j_stress_LAM_n1 = -1.2671327275496018e-08\n",
    "# j_stress_LAM_n2 = -1.1382681231454379e-07\n",
    "# j_stress_LAM_n3 = -1.571975948605771e-08"
   ]
  },
  {
   "cell_type": "code",
   "execution_count": 26,
   "metadata": {},
   "outputs": [
    {
     "name": "stdout",
     "output_type": "stream",
     "text": [
      "-1.3044891323028042e-08\n",
      "-1.1435963459486492e-07\n",
      "-1.5719119678014853e-08\n"
     ]
    }
   ],
   "source": [
    "print(j_stress_LAM_n1)\n",
    "print(j_stress_LAM_n2)\n",
    "print(j_stress_LAM_n3)"
   ]
  },
  {
   "cell_type": "code",
   "execution_count": 27,
   "metadata": {},
   "outputs": [],
   "source": [
    "act_n_loss1 = j_stress_LAM_n1*t1[-1]*3600\n",
    "act_n_loss2 = j_stress_LAM_n2*t2[-1]*3600\n",
    "act_n_loss3 = j_stress_LAM_n3*t3[-1]*3600"
   ]
  },
  {
   "cell_type": "code",
   "execution_count": 28,
   "metadata": {},
   "outputs": [
    {
     "name": "stdout",
     "output_type": "stream",
     "text": [
      "-0.0003440298441608439\n",
      "-0.0005092148307306536\n",
      "-0.00017996762262800005\n"
     ]
    }
   ],
   "source": [
    "print(act_n_loss1)\n",
    "print(act_n_loss2)\n",
    "print(act_n_loss3)"
   ]
  },
  {
   "cell_type": "code",
   "execution_count": 29,
   "metadata": {},
   "outputs": [
    {
     "data": {
      "application/vnd.jupyter.widget-view+json": {
       "model_id": "ff3d4110978b40d9abbbb09102d80a84",
       "version_major": 2,
       "version_minor": 0
      },
      "image/png": "[encoded data removed]",
      "text/html": [
       "\n",
       "            <div style=\"display: inline-block;\">\n",
       "                <div class=\"jupyter-widgets widget-label\" style=\"text-align: center;\">\n",
       "                    Figure\n",
       "                </div>\n",
       "                <img src='data:image/png;base64,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' width=800.0/>\n",
       "            </div>\n",
       "        "
      ],
      "text/plain": [
       "Canvas(toolbar=Toolbar(toolitems=[('Home', 'Reset original view', 'home', 'home'), ('Back', 'Back to previous …"
      ]
     },
     "metadata": {},
     "output_type": "display_data"
    }
   ],
   "source": [
    "# sigma_hs_n1_min = min(sigma_hs_n1/1e6)\n",
    "# sigma_hs_n2_min = min(sigma_hs_n2/1e6)\n",
    "# print(sigma_hs_n2_min/sigma_hs_n1_min)\n",
    "# print(max(C_n2[0]-C_n2)/max(C_n1[0]-C_n1))\n",
    "fig, ax = plt.subplots(1, 2, figsize=(8, 5))\n",
    "ax1 = ax.flat[0]\n",
    "ax1.plot(t1,sigma_hs_n1,'--',color='tab:blue')\n",
    "ax1.plot(t2,sigma_hs_n2,'--',color='tab:orange')\n",
    "ax1.plot(t3,sigma_hs_n3,'--',color='tab:red')\n",
    "ax1.plot(t4,sigma_hs_n4,'--',color='tab:green')\n",
    "ax1.set_title(r'$\\sigma^-_{h,surf}$ [Pa]')\n",
    "ax1.set_xlabel('Time [h]')\n",
    "ax2 = ax.flat[1]\n",
    "ax2.plot(t1,C_n1[0]-C_n1,'--',color='tab:blue')\n",
    "ax2.plot(t2,C_n2[0]-C_n2,'--',color='tab:orange')\n",
    "ax2.plot(t3,C_n3[0]-C_n3,'--',color='tab:red')\n",
    "ax2.plot(t4,C_n4[0]-C_n4,'--',color='tab:green')\n",
    "ax2.set_title(r'$C_{n,loss}$ [Ah]')\n",
    "ax2.set_xlabel('Time [h]')\n",
    "ax1.legend([\"C/5\",\"1.5C\",\"Assymmetric\",\"DC\"])\n",
    "# ax1.legend([\"C/5\",\"1.5C\",\"Mixed\"])\n",
    "fig.tight_layout()\n",
    "plt.show()\n",
    "# plt.savefig(fig_DIR+'negative_electrode_stress'+'.png')\n",
    "# plt.savefig(fig_DIR+'negative_electrode_stress_mixed'+'.png')"
   ]
  },
  {
   "cell_type": "code",
   "execution_count": 44,
   "metadata": {},
   "outputs": [
    {
     "data": {
      "application/vnd.jupyter.widget-view+json": {
       "model_id": "0852a28824f34902a177fd855a39c638",
       "version_major": 2,
       "version_minor": 0
      },
      "image/png": "[encoded data removed]",
      "text/html": [
       "\n",
       "            <div style=\"display: inline-block;\">\n",
       "                <div class=\"jupyter-widgets widget-label\" style=\"text-align: center;\">\n",
       "                    Figure\n",
       "                </div>\n",
       "                <img src='data:image/png;base64,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' width=500.0/>\n",
       "            </div>\n",
       "        "
      ],
      "text/plain": [
       "Canvas(toolbar=Toolbar(toolitems=[('Home', 'Reset original view', 'home', 'home'), ('Back', 'Back to previous …"
      ]
     },
     "metadata": {},
     "output_type": "display_data"
    }
   ],
   "source": [
    "sto = np.linspace(0,1,100)\n",
    "yout = np.zeros(len(sto))\n",
    "for i in range(len(sto)):\n",
    "    yout[i] = graphite_volume_change_mohtat(sto[i],29000).evaluate()\n",
    "fig, ax = plt.subplots(1, 1, figsize=(5, 4))\n",
    "ax.plot(sto,yout,'k')\n",
    "ax.set_xlabel(r'Stoichiometry $x$')\n",
    "# ax.set_ylabel(r'$\\Delta\\mathit{V}$')\n",
    "ax.set_title(\"Graphite Volumetric Strain Function\")\n",
    "fig.tight_layout()\n",
    "plt.show()\n",
    "plt.savefig(fig_DIR+'graphtite_vol_strain'+'.png')"
   ]
  },
  {
   "cell_type": "code",
   "execution_count": 30,
   "metadata": {},
   "outputs": [
    {
     "ename": "NameError",
     "evalue": "name 'dfgdfg' is not defined",
     "output_type": "error",
     "traceback": [
      "\u001b[1;31m---------------------------------------------------------------------------\u001b[0m",
      "\u001b[1;31mNameError\u001b[0m                                 Traceback (most recent call last)",
      "\u001b[1;32mc:\\Users\\spannala\\PyBaMM\\gmproj\\cycling_aging\\mech_stress_crate.ipynb Cell 33\u001b[0m in \u001b[0;36m<cell line: 1>\u001b[1;34m()\u001b[0m\n\u001b[1;32m----> <a href='vscode-notebook-cell:/c%3A/Users/spannala/PyBaMM/gmproj/cycling_aging/mech_stress_crate.ipynb#Y121sZmlsZQ%3D%3D?line=0'>1</a>\u001b[0m dfgdfg\n",
      "\u001b[1;31mNameError\u001b[0m: name 'dfgdfg' is not defined"
     ]
    }
   ],
   "source": [
    "dfgdfg"
   ]
  },
  {
   "cell_type": "code",
   "execution_count": null,
   "metadata": {},
   "outputs": [],
   "source": [
    "sto = np.linspace(0,1,100)\n",
    "yout = np.zeros(len(sto))\n",
    "yout1 = np.zeros(len(sto))\n",
    "for i in range(len(sto)):\n",
    "    yout[i] = graphite_volume_change(sto[i])\n",
    "    yout1[i] = graphite_volume_change_mohtat(sto[i]).evaluate()\n",
    "plt.figure()\n",
    "plt.plot(sto,yout)\n",
    "plt.plot(sto,yout1,'--')\n",
    "plt.xlim([0,1])\n",
    "plt.legend(['Matlab','PyBaMM Interpolant'])\n",
    "plt.xlabel('Stoich')\n",
    "plt.ylabel('Volumetric Strain')\n",
    "plt.title('Graphite Vol Strain Function')\n",
    "plt.savefig('exp_func')"
   ]
  },
  {
   "cell_type": "code",
   "execution_count": null,
   "metadata": {},
   "outputs": [],
   "source": [
    "# fig, ax = plt.subplots(1, 2, figsize=(6, 4))\n",
    "# ax1 = ax.flat[0]\n",
    "# ax1.plot(t1,sigma_hs_p1,'b--')\n",
    "# ax1.plot(t2,sigma_hs_p2,'r--')\n",
    "# ax1.set_title(r'$\\sigma^+_{h,surf}$ [Pa]')\n",
    "# ax2 = ax.flat[1]\n",
    "# ax2.plot(t1,C_p1[0]-C_p1,'b--')\n",
    "# ax2.plot(t2,C_p2[0]-C_p2,'r--')\n",
    "# ax2.set_title(r'$C_{p,loss}$ [Ah]')\n",
    "# fig.tight_layout()\n",
    "# plt.savefig(fig_DIR+'positive_electrode_stress'+'.png')"
   ]
  },
  {
   "cell_type": "code",
   "execution_count": null,
   "metadata": {},
   "outputs": [],
   "source": [
    "# sigma_hs_p1_min = min(sigma_hs_p1/1e6)\n",
    "# sigma_hs_p2_min = min(sigma_hs_p2/1e6)\n",
    "# print(sigma_hs_p1_min)\n",
    "# print(sigma_hs_p2_min)\n",
    "# print(sigma_hs_p2_min/sigma_hs_p1_min)"
   ]
  },
  {
   "cell_type": "code",
   "execution_count": null,
   "metadata": {},
   "outputs": [],
   "source": [
    "# parameter_values.search(\"max\")"
   ]
  },
  {
   "cell_type": "code",
   "execution_count": null,
   "metadata": {},
   "outputs": [],
   "source": [
    "# aSAs"
   ]
  },
  {
   "cell_type": "code",
   "execution_count": null,
   "metadata": {},
   "outputs": [],
   "source": [
    "# fig, axes = plt.subplots(2, 3, figsize=(8, 6))\n",
    "# ax1 = axes.flat[0]\n",
    "# ax1.plot(t1,V1,'b')\n",
    "# ax1.plot(t2,V2,'rv-')\n",
    "# ax1.set_title('Voltage [V]')\n",
    "# ax3 = axes.flat[3]\n",
    "# ax3.plot(t1,phi_pl1,'b')\n",
    "# ax3.plot(t2,phi_pl2,'rv-')\n",
    "# ax3.set_ylim([-0.1,1])\n",
    "# ax3.set_title('Plating Overpotential [V]')\n",
    "# ax4 = axes.flat[5]\n",
    "# ax4.plot(t1,phi_sei1,'b')\n",
    "# ax4.plot(t2,phi_sei2,'rv-')\n",
    "# # ax4.set_ylim([-0.1,1])\n",
    "# ax4.set_title('SEI Overpotential [V]')\n",
    "# ax2 = axes.flat[2]\n",
    "# ax2.plot(t1,Q_Li1,'b')\n",
    "# ax2.plot(t2,Q_Li2,'rv-')\n",
    "# ax2.set_title('Capacity lost due to plating [Ah]')\n",
    "# ax6=axes.flat[1]\n",
    "# ax6.plot(t1,I_Li1,'b')\n",
    "# ax6.plot(t2,I_Li2,'rv-')\n",
    "# ax6.set_title('Lithium plating interfacial current density')\n",
    "# ax5=axes.flat[4]\n",
    "# ax5.plot(t1,phi_del1,'b')\n",
    "# ax5.plot(t2,phi_del2,'rv-')\n",
    "# ax5.set_ylim([-0.1,1])\n",
    "\n",
    "# ax1.plot(t3,V3,'g--')\n",
    "# ax3.plot(t3,phi_pl3,'g--')\n",
    "# ax4.plot(t3,phi_sei3,'g--')\n",
    "# ax2.plot(t3,Q_Li3,'g--')\n",
    "# ax6.plot(t3,I_Li3,'g--')\n",
    "# ax5.plot(t3,phi_del3,'g--')\n",
    "# ax5.set_title('Neg Elec Surf Pot Diff [V]')\n",
    "# # ax5.set_ylim([-0.1,1])\n",
    "# # ax1.legend(['baseline',r'decreasing $\\alpha_{pl}$',r'Increasing $k_{0,pl}$'])\n",
    "# # ax1.legend(['Irreversible ','Reversible','Partially Reversible'])\n",
    "# ax1.legend(['C/5','1.5C','New Params'])\n",
    "# # ax1.legend(['SPM','SPMe'])\n",
    "# fig.tight_layout()\n",
    "# # plt.savefig(fig_DIR+'plating_models_parameters'+'.png')\n",
    "# plt.savefig(fig_DIR+'plating_compare_crate'+'.png')\n",
    "# # plt.savefig(fig_DIR+'plating_compare_spme'+'.png')"
   ]
  },
  {
   "cell_type": "code",
   "execution_count": null,
   "metadata": {},
   "outputs": [],
   "source": [
    "# fig, axes = plt.subplots(3, 1, figsize=(6,8))\n",
    "# ax1 = axes.flat[0]\n",
    "# ax1.plot(Q1,phi_ocp1,'b')\n",
    "# ax1.plot(Q2,phi_ocp2,'rv-')\n",
    "# ax1.set_title('Negative Electrode Open Circuit Potential [V]')\n",
    "# ax2 = axes.flat[1]\n",
    "# ax2.plot(Q1,phi_int1,'b')\n",
    "# ax2.plot(Q2,phi_int2,'rv-')\n",
    "# ax2.set_title('Negative Electrode Intercalation Overpotential [V]')\n",
    "# ax3 = axes.flat[2]\n",
    "# ax3.plot(Q1,phi_pl1,'b')\n",
    "# ax3.plot(Q2,phi_pl2,'rv-')\n",
    "# ax3.set_title('Plating Overpotential [V]')\n",
    "# # ax5.set_ylim([-0.1,1])\n",
    "# # ax1.legend(['baseline',r'decreasing $\\alpha_{pl}$',r'Increasing $k_{0,pl}$'])\n",
    "# # ax1.legend(['Irreversible ','Reversible','Partially Reversible'])\n",
    "# ax1.legend(['C/5','1.5C','High R'])\n",
    "# # ax1.legend(['SPM','SPMe'])\n",
    "# fig.tight_layout()\n",
    "# # plt.savefig(fig_DIR+'plating_models_parameters'+'.png')\n",
    "# # plt.savefig(fig_DIR+'plating_compare_crate'+'.png')\n",
    "# # plt.savefig(fig_DIR+'plating_compare_spme'+'.png')"
   ]
  },
  {
   "cell_type": "code",
   "execution_count": null,
   "metadata": {},
   "outputs": [],
   "source": [
    "# fig, axes = plt.subplots(1, 2, figsize=(9, 4))\n",
    "# ax1 = axes.flat[0]\n",
    "# ax1.plot(t1,sigma_hs_n1,'b--')\n",
    "# ax1.plot(t2,sigma_hs_n2,'rv-')\n",
    "# ax1.set_title(r'$\\sigma_{h,surf}$ [Pa]')\n",
    "# ax11 = axes.flat[1]\n",
    "# ax11.plot(t1,c_ss_n1-c_save_n1,'b--')\n",
    "# # ax11.plot(t1,c_save_n1,'b--')\n",
    "# ax11.plot(t2,c_ss_n2-c_save_n2,'rv-')\n",
    "# ax11.set_title(r'$c_{ss}^--c_{s,avg}^-$ [mol.$m^{-3}$]')\n",
    "# plt.savefig(fig_DIR+'mech_stress_crate'+'.png')"
   ]
  },
  {
   "cell_type": "code",
   "execution_count": null,
   "metadata": {},
   "outputs": [],
   "source": [
    "parameter_values.search(\"plating\")"
   ]
  },
  {
   "cell_type": "code",
   "execution_count": null,
   "metadata": {},
   "outputs": [],
   "source": [
    "# min(-np.exp(-alpha_pl*F/R/T*phi_pl2))/min(-np.exp(-alpha_pl*F/R/T*phi_pl1))"
   ]
  },
  {
   "cell_type": "code",
   "execution_count": null,
   "metadata": {},
   "outputs": [],
   "source": [
    "(c_ss_n1-c_save_n1)/I1"
   ]
  },
  {
   "cell_type": "code",
   "execution_count": null,
   "metadata": {},
   "outputs": [],
   "source": [
    "csmax_n = 28746\n",
    "F = 96485\n",
    "R = 8.314\n",
    "T = 273.15+25\n",
    "alpha_pl = 0.65\n",
    "fig, ax = plt.subplots(2, 1, figsize=(5, 7))\n",
    "ax1 = ax.flat[0]\n",
    "ax1.plot(t1/t1[-1],(c_ss_n1-c_save_n1),'b--')\n",
    "ax1.plot(t2/t2[-1],(c_ss_n2-c_save_n2),'rv-')\n",
    "ax1.set_title(r'$(c_{ss}^--c_{s,avg}^-)/c_{s,max}^-$ [mol.$m^{-3}$]')\n",
    "ax1.set_xlabel(\"Normalized Time\")\n",
    "ax1.legend(['C/5','1.5C'])\n",
    "ax1 = ax.flat[1]\n",
    "ax1.plot(t1/t1[-1],(c_ss_n1-c_save_n1)/I1,'b--')\n",
    "ax1.plot(t2/t2[-1],(c_ss_n2-c_save_n2)/I2,'rv-')\n",
    "ax1.set_title(r'$\\frac{c_{ss}^--c_{s,avg}^-}{I}$')\n",
    "fig.tight_layout()\n",
    "plt.savefig(fig_DIR+'plating_css_vs_I'+'.png')"
   ]
  },
  {
   "cell_type": "code",
   "execution_count": null,
   "metadata": {},
   "outputs": [],
   "source": [
    "csmax_n = 28746\n",
    "F = 96485\n",
    "R = 8.314\n",
    "T = 273.15+25\n",
    "alpha_pl = 0.65\n",
    "fig, axes = plt.subplots(2, 2, figsize=(7, 5))\n",
    "ax2 = axes.flat[1]\n",
    "ax2.plot(t1/t1[-1],phi_pl1,'b')\n",
    "ax2.plot(t2/t2[-1],phi_pl2,'rv-')\n",
    "ax2.axhline(y = 0.0, color = 'k', linestyle = '--')\n",
    "ax2.set_title(r'$\\eta_{pl}$ [V]')\n",
    "ax4 = axes.flat[3]\n",
    "ax4.plot(t1/t1[-1],-np.exp(-alpha_pl*F/R/T*phi_pl1),'b')\n",
    "ax4.plot(t2/t2[-1],-np.exp(-alpha_pl*F/R/T*phi_pl2),'rv-')\n",
    "ax4.set_title(r'$exp\\left(\\frac{-\\alpha_{c,pl}F}{RT}\\eta_{pl}\\right)$')\n",
    "ax1 = axes.flat[0]\n",
    "# ax1.plot(t1,c_save_n1*csmax_n,'b--')\n",
    "# ax1.plot(t2,c_save_n2*csmax_n,'r--')\n",
    "ax1.plot(t1/t1[-1],c_ss_n1*csmax_n,'b')\n",
    "ax1.plot(t2/t2[-1],c_ss_n2*csmax_n,'rv-')\n",
    "ax1.set_title(r'$c_{ss}^-$ [mol.$m^{-3}$]')\n",
    "ax3 = axes.flat[2]\n",
    "ax3.plot(t1/t1[-1],(c_ss_n1-c_save_n1)*csmax_n,'b--')\n",
    "ax3.plot(t2/t2[-1],(c_ss_n2-c_save_n2)*csmax_n,'rv-')\n",
    "ax3.set_title(r'$c_{ss}^--c_{s,avg}^-$ [mol.$m^{-3}$]')\n",
    "# ax11.plot(t2,c_save_n2,'r--')\n",
    "# ax11.legend(['surf','ave'])\n",
    "ax3.set_xlabel(\"Normalized Time\")\n",
    "ax4.set_xlabel(\"Normalized Time\")\n",
    "# ax4.set_xlabel(\"Time [hr]\")\n",
    "ax2.legend(['C/5','1.5C'])\n",
    "# axis = [ax1,ax2,ax5,ax3,ax9,ax7,ax4,ax8,ax6,ax10,ax11,ax12]\n",
    "# labels = [\"a)\",\"b)\",\"c)\",\"d)\",\"e)\",\"f)\",\"g)\",\"h)\",\"i)\",\"j)\",\"k)\",\"l)\"]\n",
    "# for ax, label in zip(axis,labels):\n",
    "#   ax.text(-0.1,1.1,label,transform=ax.transAxes, fontsize=14)  \n",
    "fig.tight_layout()\n",
    "plt.savefig(fig_DIR+'plating_compare_crate_1'+'.png')"
   ]
  },
  {
   "cell_type": "code",
   "execution_count": null,
   "metadata": {},
   "outputs": [],
   "source": [
    "\n",
    "fig, axes = plt.subplots(2, 1, figsize=(4, 6))\n",
    "ax1=axes.flat[0]\n",
    "ax1.plot(t1,I_Li1,'b')\n",
    "ax1.plot(t2,I_Li2,'rv-')\n",
    "ax1.set_title(r'$j_{pl}$ [A.$m^{-2}$]')\n",
    "ax2 = axes.flat[1]\n",
    "ax2.plot(t1,Q_Li1,'b')\n",
    "ax2.plot(t2,Q_Li2,'rv-')\n",
    "ax2.set_title('Capacity lost due to plating [Ah]')\n",
    "\n",
    "# ax11.set_xlabel(\"Time [hr]\")\n",
    "ax2.set_xlabel(\"Time [hr]\")\n",
    "# ax5.set_ylim([-0.1,1])\n",
    "# ax1.legend(['baseline',r'decreasing $\\alpha_{pl}$',r'Increasing $k_{0,pl}$'])\n",
    "# ax1.legend(['Irreversible ','Reversible','Partially Reversible'])\n",
    "ax1.legend(['C/5','1.5C'])\n",
    "# ax1.legend(['SPM','SPMe'])\n",
    "fig.tight_layout()\n",
    "# plt.savefig(fig_DIR+'plating_models_parameters'+'.png')\n",
    "# plt.savefig(fig_DIR+'plating_compare_models_1p5C'+'.png')\n",
    "plt.savefig(fig_DIR+'plating_compare_crate_2_1'+'.png')"
   ]
  },
  {
   "cell_type": "code",
   "execution_count": null,
   "metadata": {},
   "outputs": [],
   "source": [
    "\n",
    "fig, axes = plt.subplots(6, 2, figsize=(8, 10))\n",
    "ax1 = axes.flat[0]\n",
    "ax1.plot(t1,V1,'b')\n",
    "ax1.plot(t2,V2,'rv-')\n",
    "ax1.set_title('Voltage [V]')\n",
    "ax2 = axes.flat[2]\n",
    "ax2.plot(t1,phi_ocp1,'b')\n",
    "ax2.plot(t2,phi_ocp2,'rv-')\n",
    "ax2.set_title(r'U($c_{ss})$  [V]')\n",
    "ax3 = axes.flat[6]\n",
    "ax3.plot(t1,phi_pl1,'b')\n",
    "ax3.plot(t2,phi_pl2,'rv-')\n",
    "ax3.axhline(y = 0.0, color = 'k', linestyle = '--')\n",
    "ax3.set_title(r'$\\eta_{pl}$ [V]')\n",
    "ax4=axes.flat[3]\n",
    "ax4.plot(t1,i0_int1,'b')\n",
    "ax4.plot(t2,i0_int2,'rv-')\n",
    "ax4.set_title(r'$i_0$  [A.$m^{-2}$]')\n",
    "ax5=axes.flat[4]\n",
    "ax5.plot(t1,phi_int1,'b')\n",
    "ax5.plot(t2,phi_int2,'rv-')\n",
    "ax5.set_title(r'$\\eta_{int}$ [V]')\n",
    "ax6=axes.flat[7]\n",
    "ax6.plot(t1,I_Li1,'b')\n",
    "ax6.plot(t2,I_Li2,'rv-')\n",
    "ax6.set_title(r'$j_{pl}$ [A.$m^{-2}$]')\n",
    "ax7 = axes.flat[1]\n",
    "ax7.plot(t1,I1,'b')\n",
    "ax7.plot(t2,I2,'rv-')\n",
    "ax7.set_title('Current [A]')\n",
    "ax8=axes.flat[5]\n",
    "ax8.plot(t1,I_to1,'b')\n",
    "ax8.plot(t2,I_to2,'rv-')\n",
    "ax8.set_title(r'$j_{int}$  [A.$m^{-2}$]')\n",
    "ax9=axes.flat[8]\n",
    "ax9.plot(t1,phi_e_avg1,'b')\n",
    "ax9.plot(t2,phi_e_avg2,'rv-')\n",
    "ax9.set_title(r'$\\overline{\\Phi}^-_{e}$ [V]')\n",
    "ax10=axes.flat[9]\n",
    "ax10.plot(t1,c_e_avg1,'b')\n",
    "ax10.plot(t2,c_e_avg2,'rv-')\n",
    "ax10.set_title(r'$\\overline{c}^-_{e}$ [mol.$m^{-3}$]')\n",
    "\n",
    "ax11 = axes.flat[10]\n",
    "ax11.plot(t1,c_ss_n1-c_save_n1,'b--')\n",
    "# ax11.plot(t1,c_save_n1,'b--')\n",
    "ax11.plot(t2,c_ss_n2-c_save_n2,'rv-')\n",
    "# ax11.plot(t2,c_save_n2,'r--')\n",
    "# ax11.legend(['surf','ave'])\n",
    "ax11.set_title(r'$c_{ss}^--c_{s,avg}^-$ [mol.$m^{-3}$]')\n",
    "ax12 = axes.flat[11]\n",
    "ax12.plot(t1,Q_Li1,'b')\n",
    "ax12.plot(t2,Q_Li2,'rv-')\n",
    "ax12.set_title('Capacity lost due to plating [Ah]')\n",
    "\n",
    "ax11.set_xlabel(\"Time [hr]\")\n",
    "ax12.set_xlabel(\"Time [hr]\")\n",
    "# ax5.set_ylim([-0.1,1])\n",
    "# ax1.legend(['baseline',r'decreasing $\\alpha_{pl}$',r'Increasing $k_{0,pl}$'])\n",
    "# ax1.legend(['Irreversible ','Reversible','Partially Reversible'])\n",
    "# ax1.legend(['C/5','1.5C'])\n",
    "ax1.legend(['1.5C','2C'])\n",
    "axis = [ax1,ax2,ax5,ax3,ax9,ax7,ax4,ax8,ax6,ax10,ax11,ax12]\n",
    "labels = [\"a)\",\"b)\",\"c)\",\"d)\",\"e)\",\"f)\",\"g)\",\"h)\",\"i)\",\"j)\",\"k)\",\"l)\"]\n",
    "for ax, label in zip(axis,labels):\n",
    "  ax.text(-0.1,1.1,label,transform=ax.transAxes, fontsize=14)  \n",
    "\n",
    "# ax1.legend(['SPM','SPMe'])\n",
    "fig.tight_layout()\n",
    "# plt.savefig(fig_DIR+'plating_models_parameters'+'.png')\n",
    "# plt.savefig(fig_DIR+'plating_compare_models_1p5C'+'.png')\n",
    "plt.savefig(fig_DIR+'plating_compare_crate_new_2'+'.png')"
   ]
  },
  {
   "cell_type": "code",
   "execution_count": null,
   "metadata": {},
   "outputs": [],
   "source": [
    "i_pl_area1 = np.trapz(I_Li1,t1)\n",
    "i_pl_avg1 = i_pl_area1/t1[-1]\n",
    "i_pl_area2 = np.trapz(I_Li2,t2)\n",
    "i_pl_avg2 = i_pl_area2/t2[-1]\n",
    "print(i_pl_avg1)\n",
    "print(i_pl_avg2)\n",
    "print(i_pl_avg2/i_pl_avg1)\n",
    "print(Q_Li2[-1]/Q_Li1[-1])"
   ]
  },
  {
   "cell_type": "code",
   "execution_count": null,
   "metadata": {},
   "outputs": [],
   "source": [
    "fgdfgd"
   ]
  },
  {
   "attachments": {},
   "cell_type": "markdown",
   "metadata": {},
   "source": [
    "# Concentration Evolution"
   ]
  },
  {
   "cell_type": "code",
   "execution_count": null,
   "metadata": {},
   "outputs": [],
   "source": [
    "fig, ax = plt.subplots(1, 1, figsize=(5, 4))\n",
    "ax.plot(t1/t1[-1],c_ss_n1,'b')\n",
    "ax.plot(t1/t1[-1],c_save_n1,'b--')\n",
    "ax.plot(t1/t1[-1],c_s_n1[0,:],'b-.')\n",
    "ax.plot(t2/t2[-1],c_ss_n2,'r')\n",
    "ax.plot(t2/t2[-1],c_save_n2,'r--')\n",
    "ax.plot(t2/t2[-1],c_s_n2[0,:],'r-.')\n",
    "ax.legend([r\"C/5 $c_{ss}$\",r\"C/5 $c_{s,ave}$\",r\"C/5 $c_{s,0}$\",r\"1.5C $c_{ss}$\",r\"1.5C $c_{s,ave}$\",r\"1.5C $c_{s,0}$\"])\n",
    "ax.set_xlabel(\"Normalized Time\")\n",
    "ax.set_ylabel(\"Conc [mol$m^{-3}$]\")\n",
    "ax.set_title(r'Negative Electrode Li Concentration $c_s$')\n",
    "fig.savefig(fig_DIR+\"neg_conc_crate_comp_norm\"+\".png\")"
   ]
  },
  {
   "cell_type": "code",
   "execution_count": null,
   "metadata": {},
   "outputs": [],
   "source": [
    "fig, ax = plt.subplots(1, 1, figsize=(5, 4))\n",
    "ax.plot(t1/t1[-1],c_ss_n1,'b')\n",
    "ax.plot(t1/t1[-1],c_save_n1,'b--')\n",
    "# ax.plot(t1/t1[-1],c_s_n1[0,:],'b-.')\n",
    "ax.plot(t2/t2[-1],c_ss_n2,'r')\n",
    "ax.plot(t2/t2[-1],c_save_n2,'r--')\n",
    "# ax.plot(t2/t2[-1],c_s_n2[0,:],'r-.')\n",
    "ax.legend([r\"C/5 $c_{ss}$\",r\"C/5 $c_{s,ave}$\",r\"1.5C $c_{ss}$\",r\"1.5C $c_{s,ave}$\"])\n",
    "ax.set_xlabel(\"Normalized Time\")\n",
    "ax.set_ylabel(r\"Normalized Concentration [$x=c_{s}/c_{s,max}$]\")\n",
    "ax.set_title(r'Negative Electrode Li Concentration $c_s$')\n",
    "fig.savefig(fig_DIR+\"neg_conc_crate_comp_norm\"+\".png\")"
   ]
  },
  {
   "cell_type": "code",
   "execution_count": null,
   "metadata": {},
   "outputs": [],
   "source": [
    "fig, ax = plt.subplots(1, 1, figsize=(5, 4))\n",
    "ax.plot(t1/t1[-1],c_ss_n1-c_save_n1,'b')\n",
    "# ax.plot(t1/t1[-1],c_s_n1[0,:],'b-.')\n",
    "ax.plot(t2/t2[-1],c_ss_n2-c_save_n2,'r')\n",
    "# ax.plot(t2/t2[-1],c_s_n2[0,:],'r-.')\n",
    "ax.legend([r\"C/5 $c_{ss}-c_{s,ave}$\",r\"1.5C $c_{ss}-c_{s,ave}$\"])\n",
    "ax.set_xlabel(\"Normalized Time\")\n",
    "ax.set_ylabel(r\"Normalized Concentration [$x=c_{s}/c_{s,max}$]\")\n",
    "ax.set_title(r'Negative Electrode Li Concentration $c_s$')\n",
    "fig.savefig(fig_DIR+\"neg_conc_diff_crate_comp_norm\"+\".png\")"
   ]
  },
  {
   "cell_type": "code",
   "execution_count": null,
   "metadata": {},
   "outputs": [],
   "source": [
    "fig, ax = plt.subplots(1, 1, figsize=(5, 4))\n",
    "ax.plot(t1/t1[-1],u_css_n1,'b')\n",
    "ax.plot(t2/t2[-1],u_css_n2,'r')\n",
    "ax.legend([\"C/5\",\"1.5C\"])\n",
    "ax.set_xlabel(\"Normalized Time\")\n",
    "ax.set_ylabel(\"Potential [V]\")\n",
    "ax.set_title(r'$U_n(c_{ss})$')\n",
    "fig.savefig(fig_DIR+\"neg_pot_crate_comp\"+\".png\")"
   ]
  },
  {
   "cell_type": "code",
   "execution_count": null,
   "metadata": {},
   "outputs": [],
   "source": [
    "fig, ax = plt.subplots(1, 1, figsize=(5, 4))\n",
    "ax.plot(t1/t1[-1],c_ss_n1-c_save_n1,'b')\n",
    "# ax.plot(t1/t1[-1],c_save_n1-c_s_n1[0,:],'b--')\n",
    "# ax.plot(t1/t1[-1],c_s_n1[0,:],'b-.')\n",
    "ax.plot(t2/t2[-1],c_ss_n2-c_save_n2,'r')\n",
    "# ax.plot(t2/t2[-1],c_save_n2-c_s_n2[0,:],'r--')\n",
    "# ax.plot(t2/t2[-1],c_s_n2[0,:],'r-.')\n",
    "ax.legend([r\"C/5 $c_{ss}-c_{s,avg}$\",r\"1.5C $c_{ss}-c_{s,avg}$\"])\n",
    "ax.set_xlabel(\"Normalized Time\")\n",
    "ax.set_ylabel(\"Conc [mol$m^{-3}$]\")\n",
    "ax.set_title(r'Negative Electrode Li Concentration Difference $c_s$')"
   ]
  },
  {
   "cell_type": "code",
   "execution_count": null,
   "metadata": {},
   "outputs": [],
   "source": [
    "len(t1)"
   ]
  },
  {
   "cell_type": "code",
   "execution_count": null,
   "metadata": {},
   "outputs": [],
   "source": [
    "fig, ax1 = plt.subplots(1, 1, figsize=(5,3))\n",
    "ax1.plot(t1,I1)\n",
    "n=1\n",
    "ax1.plot(t1[n],I1[n],'rx')\n",
    "n=150\n",
    "ax1.plot(t1[n],I1[n],'rx')\n",
    "n=287\n",
    "ax1.plot(t1[n],I1[n],'rx')\n",
    "n=292\n",
    "ax1.plot(t1[n],I1[n],'rx')\n",
    "n=298\n",
    "ax1.plot(t1[n],I1[n],'rx')"
   ]
  },
  {
   "cell_type": "code",
   "execution_count": null,
   "metadata": {},
   "outputs": [],
   "source": [
    "fig, ax1 = plt.subplots(1, 1, figsize=(5,3))\n",
    "ax1.plot(t2,I2)\n",
    "n=1\n",
    "ax1.plot(t2[n],I2[n],'rx')\n",
    "n=18\n",
    "ax1.plot(t2[n],I2[n],'rx')\n",
    "n=36\n",
    "ax1.plot(t2[n],I2[n],'rx')\n",
    "n=46\n",
    "ax1.plot(t2[n],I2[n],'rx')\n",
    "n=56\n",
    "ax1.plot(t2[n],I2[n],'rx')"
   ]
  },
  {
   "cell_type": "code",
   "execution_count": null,
   "metadata": {},
   "outputs": [],
   "source": [
    "ln = np.linspace(0,1,20)\n",
    "n = 1\n",
    "print(t1[n]/60)\n",
    "y1 = c_s_n1[:,n]\n",
    "n = 10\n",
    "y2 = c_s_n1[:,n]\n",
    "n = 20\n",
    "y3 = c_s_n1[:,n]\n",
    "n = 30\n",
    "y4 = c_s_n1[:,n]\n",
    "n = 40\n",
    "y5 = c_s_n1[:,n]\n",
    "n = 50\n",
    "y6 = c_s_n1[:,n]\n",
    "fig, ax1 = plt.subplots(1, 1, figsize=(5,3))\n",
    "ax1.plot(ln,y1)\n",
    "ax1.plot(ln,y2,'--')\n",
    "ax1.plot(ln,y3,'--')\n",
    "ax1.plot(ln,y4,'--')\n",
    "ax1.plot(ln,y5,'--')\n",
    "ax1.plot(ln,y6,'--')\n",
    "ax1.set_title(r'Negative Electrode $c_e-c_{e,ref}$ [mol.$m^{-3}$]')\n",
    "ax1.set_xlabel(\"Negative electrode normalized length\")\n",
    "ax1.legend([\"1 min\",\"10 min\",\"20 min\",\"30 min\",\"40 min\",\"50 min\"])\n",
    "# ax1.legend(['C/5','1.5 C'])\n",
    "fig.tight_layout()\n",
    "# plt.savefig(fig_DIR+'dfn_c_e_5'+'.png')"
   ]
  },
  {
   "cell_type": "code",
   "execution_count": null,
   "metadata": {},
   "outputs": [],
   "source": [
    "i_pl_area1 = np.trapz(I_Li1,t1)\n",
    "i_pl_avg1 = i_pl_area1/t1[-1]\n",
    "i_pl_area2 = np.trapz(I_Li2,t2)\n",
    "i_pl_avg2 = i_pl_area2/t2[-1]\n",
    "print(i_pl_avg1)\n",
    "print(i_pl_avg2)\n",
    "print(i_pl_avg2/i_pl_avg1)\n",
    "print(Q_Li2[-1]/Q_Li1[-1])"
   ]
  },
  {
   "cell_type": "code",
   "execution_count": null,
   "metadata": {},
   "outputs": [],
   "source": [
    "sadas"
   ]
  },
  {
   "cell_type": "code",
   "execution_count": null,
   "metadata": {},
   "outputs": [],
   "source": [
    "out = parameter_values.evaluate(0.75*param.F/param.R/298.15)\n",
    "print(out)"
   ]
  },
  {
   "attachments": {},
   "cell_type": "markdown",
   "metadata": {},
   "source": [
    "# Compare Lithium Plating average vs seperator overpotential"
   ]
  },
  {
   "cell_type": "code",
   "execution_count": null,
   "metadata": {},
   "outputs": [],
   "source": [
    "t1_e,V1_e,I1_e,Q1_e,Q_Li1_e,I_Li1_e,I_de1_e,I_st1_e,I_to1_e,phi_seif1_e,phi_sei1_e,phi_pl1_e,phi_del1_e,phi_ocp1_e,phi_int1_e,i0_int1_e,phi_e_avg1_e,c_e_avg1_e,c_ss_n1_e,c_save_n1_e,c_s_n1_e,u_css_n1_e,j_pl1_e,eta_pl1_e = plot_vars(solution1_e)\n",
    "t2_e,V2_e,I2_e,Q2_e,Q_Li2_e,I_Li2_e,I_de2_e,I_st2_e,I_to2_e,phi_seif2_e,phi_sei2_e,phi_pl2_e,phi_del2_e,phi_ocp2_e,phi_int2_e,i0_int2_e,phi_e_avg2_e,c_e_avg2_e,c_ss_n2_e,c_save_n2_e,c_s_n2_e,u_css_n2_e,j_pl2_e,eta_pl2_e = plot_vars(solution2_e)"
   ]
  },
  {
   "cell_type": "code",
   "execution_count": null,
   "metadata": {},
   "outputs": [],
   "source": [
    "# ln = np.linspace(0,1,20)\n",
    "# fig, ax1 = plt.subplots(1, 1, figsize=(5,3))\n",
    "# # ax1.plot(t2_e,j_pl2_e[10,:])\n",
    "# ax1.plot(ln,j_pl2_e[:,10])"
   ]
  },
  {
   "cell_type": "code",
   "execution_count": null,
   "metadata": {},
   "outputs": [],
   "source": [
    "es_2 = solution2_e[\"X-averaged positive electrode active material volume fraction\"].entries\n",
    "R_n = parameter_values.evaluate(param.n.prim.R_typ)\n",
    "F = parameter_values.evaluate(param.F)\n",
    "j_pl2_max_e = j_pl2_e[-1,:]\n",
    "nn = len(j_pl2_e)\n",
    "j_pl2_a=0\n",
    "eta_pl2_a=0\n",
    "for i in range(nn):\n",
    "    j_pl2_a+=j_pl2_e[i,:]\n",
    "    eta_pl2_a+=eta_pl2_e[i,:]\n",
    "j_pl2_av = j_pl2_a/nn\n",
    "eta_pl2_av = eta_pl2_a/nn\n",
    "d_c_lip_max = j_pl2_max_e\n",
    "d_c_lip_av = j_pl2_av\n",
    "\n",
    "eta_pl2_max_e = eta_pl2_e[-1,:]\n",
    "\n",
    "as_2 = 3*es_2/R_n\n",
    "\n",
    "mul =  parameter_values.evaluate(param.n.L*param.A_cc)\n",
    "# mul =  parameter_values.evaluate(param.n.L)\n",
    "mul2 = parameter_values.evaluate(param.n.L*param.L_y*param.L_z)\n",
    "# mul2 = parameter_values.evaluate(param.L_z)"
   ]
  },
  {
   "cell_type": "code",
   "execution_count": null,
   "metadata": {},
   "outputs": [],
   "source": [
    "Q_Li2_e_calc = -scipy.integrate.cumtrapz(d_c_lip_av*mul2*F,t2_e)\n",
    "Q_Li2_e_calc = np.append(Q_Li2_e_calc,Q_Li2_e_calc[-1])"
   ]
  },
  {
   "cell_type": "code",
   "execution_count": null,
   "metadata": {},
   "outputs": [],
   "source": [
    "Q_Li2_e_calc[-1] "
   ]
  },
  {
   "cell_type": "code",
   "execution_count": null,
   "metadata": {},
   "outputs": [],
   "source": [
    "Q_Li2_e[-1]"
   ]
  },
  {
   "cell_type": "code",
   "execution_count": null,
   "metadata": {},
   "outputs": [],
   "source": [
    "fig, ax1= plt.subplots(1, 1, figsize=(5, 4))\n",
    "ax1.plot(t2_e,Q_Li2_e)\n",
    "ax1.plot(t2_e,Q_Li2_e_calc)"
   ]
  },
  {
   "cell_type": "code",
   "execution_count": null,
   "metadata": {},
   "outputs": [],
   "source": [
    "c_lip_max = scipy.integrate.cumtrapz(d_c_lip_max,t2_e)\n",
    "c_lip_max = np.append(c_lip_max,c_lip_max[-1])\n",
    "c_lip_av = scipy.integrate.cumtrapz(d_c_lip_av,t2_e)\n",
    "c_lip_av = np.append(c_lip_av,c_lip_av[-1])"
   ]
  },
  {
   "cell_type": "code",
   "execution_count": null,
   "metadata": {},
   "outputs": [],
   "source": [
    "Q_Li2_e_max =c_lip_max/c_lip_av*Q_Li2_e"
   ]
  },
  {
   "cell_type": "code",
   "execution_count": null,
   "metadata": {},
   "outputs": [],
   "source": [
    "fig, axes = plt.subplots(1, 3, figsize=(10, 4))\n",
    "ax1 = axes.flat[0]\n",
    "ax1.plot(t2_e,j_pl2_av)\n",
    "ax1.plot(t2_e,j_pl2_max_e,'--')\n",
    "ax1.set_title(\"Plating Current\")\n",
    "ax1.set_ylabel(r\"Current [A$m^{-2}$]\")\n",
    "ax1.set_xlabel(\"Time [hr]\")\n",
    "ax1.legend([\"Average\",\"Maximum\"])\n",
    "ax2 = axes.flat[1]\n",
    "ax2.plot(t2_e,Q_Li2_e)\n",
    "ax2.plot(t2_e,Q_Li2_e_max,'--')\n",
    "ax2.set_title(R\"$Q_{loss,pl}$\")\n",
    "ax2.set_ylabel(r\"Capacity Loss [Ah]\")\n",
    "ax2.set_xlabel(\"Time [hr]\")\n",
    "ax3 = axes.flat[2]\n",
    "ax3.plot(t2_e,eta_pl2_av)\n",
    "ax3.plot(t2_e,eta_pl2_max_e,'--')\n",
    "ax3.set_title(R\"$\\eta_{pl}$\")\n",
    "ax3.set_ylabel(r\"Overpotential [V]\")\n",
    "ax3.set_xlabel(\"Time [hr]\")\n",
    "fig.tight_layout()\n",
    "plt.savefig(fig_DIR+'impact_eta_plmax'+'.png')"
   ]
  },
  {
   "cell_type": "code",
   "execution_count": null,
   "metadata": {},
   "outputs": [],
   "source": [
    "t1,V1,I1,Q1,Q_Li1,I_Li1,I_de1,I_st1,I_to1,phi_seif1,phi_sei1,phi_pl1,phi_del1,phi_ocp1,phi_int1,i0_int1,phi_e_avg1,c_e_avg1,c_ss_n1,c_save_n1,c_s_n1 = plot_vars(solution1)\n",
    "t2,V2,I2,Q2,Q_Li2,I_Li2,I_de2,I_st2,I_to2,phi_seif2,phi_sei2,phi_pl2,phi_del2,phi_ocp2,phi_int2,i0_int2,phi_e_avg2,c_e_avg2,c_ss_n2,c_save_n2,c_s_n2 = plot_vars(solution2)\n",
    "fig, axes = plt.subplots(6, 2, figsize=(8, 10))\n",
    "ax1 = axes.flat[0]\n",
    "ax1.plot(t1,V1,'b')\n",
    "ax1.plot(t2,V2,'rv-')\n",
    "ax1.set_title('Voltage [V]')\n",
    "ax2 = axes.flat[2]\n",
    "ax2.plot(t1,phi_ocp1,'b')\n",
    "ax2.plot(t2,phi_ocp2,'rv-')\n",
    "ax2.set_title(r'U($c_{ss})$  [V]')\n",
    "ax3 = axes.flat[6]\n",
    "ax3.plot(t1,phi_pl1,'b')\n",
    "ax3.plot(t2,phi_pl2,'rv-')\n",
    "ax3.set_title(r'$\\eta_{pl}$ [V]')\n",
    "ax4=axes.flat[3]\n",
    "ax4.plot(t1,i0_int1,'b')\n",
    "ax4.plot(t2,i0_int2,'rv-')\n",
    "ax4.set_title(r'$i_0$  [A.$m^{-2}$]')\n",
    "ax5=axes.flat[4]\n",
    "ax5.plot(t1,phi_int1,'b')\n",
    "ax5.plot(t2,phi_int2,'rv-')\n",
    "ax5.set_title(r'$\\eta_{int}$ [V]')\n",
    "ax6=axes.flat[7]\n",
    "ax6.plot(t1,I_Li1,'b')\n",
    "ax6.plot(t2,I_Li2,'rv-')\n",
    "ax6.set_title(r'$j_{pl}$ [A.$m^{-2}$]')\n",
    "ax7 = axes.flat[1]\n",
    "ax7.plot(t1,I1,'b')\n",
    "ax7.plot(t2,I2,'rv-')\n",
    "ax7.set_title('Current [A]')\n",
    "ax8=axes.flat[5]\n",
    "ax8.plot(t1,I_to1,'b')\n",
    "ax8.plot(t2,I_to2,'rv-')\n",
    "ax8.set_title(r'$j_{int}$  [A.$m^{-2}$]')\n",
    "ax9=axes.flat[8]\n",
    "ax9.plot(t1,phi_e_avg1,'b')\n",
    "ax9.plot(t2,phi_e_avg2,'rv-')\n",
    "ax9.set_title(r'$\\overline{\\Phi}^-_{e}$ [V]')\n",
    "ax10=axes.flat[9]\n",
    "ax10.plot(t1,c_e_avg1,'b')\n",
    "ax10.plot(t2,c_e_avg2,'rv-')\n",
    "ax10.set_title(r'$\\overline{c}^-_{e}$ [mol.$m^{-3}$]')\n",
    "\n",
    "ax11 = axes.flat[10]\n",
    "ax11.plot(t1,c_ss_n1-c_save_n1,'b--')\n",
    "# ax11.plot(t1,c_save_n1,'b--')\n",
    "ax11.plot(t2,c_ss_n2-c_save_n2,'r')\n",
    "# ax11.plot(t2,c_save_n2,'r--')\n",
    "ax11.legend(['surf','ave'])\n",
    "ax11.set_title(r'$c_s^-$ [mol.$m^{-3}$]')\n",
    "ax12 = axes.flat[11]\n",
    "ax12.plot(t1,Q_Li1,'b')\n",
    "ax12.plot(t2,Q_Li2,'rv-')\n",
    "ax12.set_title('Capacity lost due to plating [Ah]')\n",
    "\n",
    "ax11.set_xlabel(\"Time [hr]\")\n",
    "ax12.set_xlabel(\"Time [hr]\")\n",
    "# ax5.set_ylim([-0.1,1])\n",
    "# ax1.legend(['baseline',r'decreasing $\\alpha_{pl}$',r'Increasing $k_{0,pl}$'])\n",
    "# ax1.legend(['Irreversible ','Reversible','Partially Reversible'])\n",
    "ax1.legend(['1.5C','2C'])\n",
    "axis = [ax1,ax2,ax5,ax3,ax9,ax7,ax4,ax8,ax6,ax10,ax11,ax12]\n",
    "labels = [\"a)\",\"b)\",\"c)\",\"d)\",\"e)\",\"f)\",\"g)\",\"h)\",\"i)\",\"j)\",\"k)\",\"l)\"]\n",
    "for ax, label in zip(axis,labels):\n",
    "  ax.text(-0.1,1.1,label,transform=ax.transAxes, fontsize=14)  \n",
    "\n",
    "# ax1.legend(['SPM','SPMe'])\n",
    "fig.tight_layout()\n",
    "# plt.savefig(fig_DIR+'plating_models_parameters'+'.png')\n",
    "# plt.savefig(fig_DIR+'plating_compare_models_1p5C'+'.png')\n",
    "plt.savefig(fig_DIR+'plating_compare_crate_high_irrev'+'.png')"
   ]
  },
  {
   "cell_type": "code",
   "execution_count": null,
   "metadata": {},
   "outputs": [],
   "source": [
    "asdasd"
   ]
  },
  {
   "cell_type": "code",
   "execution_count": null,
   "metadata": {},
   "outputs": [],
   "source": [
    "c_ss_n1"
   ]
  },
  {
   "cell_type": "code",
   "execution_count": null,
   "metadata": {},
   "outputs": [],
   "source": [
    "c_smax_n = 28746\n",
    "f1 = (c_ss_p1**0.5)*((c_smax_n-c_ss_p1)**0.5)\n",
    "\n",
    "fig, ax1 = plt.subplots(1, 1, figsize=(5, 4))\n",
    "ax1.plot(t1,f1,'b')\n",
    "# ax1.plot(t2,V2,'rv-')\n",
    "ax1.set_title(r'$(c_{s,max}-c_{ss})^{1-\\alpha}\\times(c_{ss})^{\\alpha}$')\n",
    "ax1.set_xlabel(\"Time [hr]\")\n",
    "plt.savefig(fig_DIR+'exch_current_nonlinearity'+'.png')"
   ]
  },
  {
   "cell_type": "code",
   "execution_count": null,
   "metadata": {},
   "outputs": [],
   "source": [
    "c_ss_p1 = np.linspace(1,0,51)"
   ]
  },
  {
   "cell_type": "code",
   "execution_count": null,
   "metadata": {},
   "outputs": [],
   "source": [
    "c_smax_p =1\n",
    "f1 = (c_ss_p1**0.05)*((c_smax_p-c_ss_p1)**0.05)\n",
    "\n",
    "fig, ax1 = plt.subplots(1, 1, figsize=(5, 4))\n",
    "ax1.plot(c_ss_p1,f1,'b')\n",
    "# ax1.plot(t2,V2,'rv-')\n",
    "ax1.set_title(r'$(c_{s,max}-c_{ss})^{1-\\alpha}\\times(c_{ss})^{\\alpha}$')\n",
    "# plt.savefig(fig_DIR+'exch_current_nonlinearity'+'.png')"
   ]
  }
 ],
 "metadata": {
  "kernelspec": {
   "display_name": "Python 3",
   "language": "python",
   "name": "python3"
  },
  "language_info": {
   "codemirror_mode": {
    "name": "ipython",
    "version": 3
   },
   "file_extension": ".py",
   "mimetype": "text/x-python",
   "name": "python",
   "nbconvert_exporter": "python",
   "pygments_lexer": "ipython3",
   "version": "3.9.7"
  },
  "orig_nbformat": 4,
  "vscode": {
   "interpreter": {
    "hash": "fe6e1a396f7757d05554318f98bb2d7e7d3785df9fdbcce0707f057fad4349a9"
   }
  }
 },
 "nbformat": 4,
 "nbformat_minor": 2
}
