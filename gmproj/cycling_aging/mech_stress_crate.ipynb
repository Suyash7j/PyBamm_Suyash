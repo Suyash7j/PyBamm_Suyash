{
 "cells": [
  {
   "cell_type": "markdown",
   "metadata": {},
   "source": [
    "# Try Li Plating Sub Models"
   ]
  },
  {
   "cell_type": "code",
   "execution_count": 1,
   "metadata": {},
   "outputs": [],
   "source": [
    "import pybamm\n",
    "import matplotlib.pyplot as plt\n",
    "import numpy as np\n",
    "import scipy\n",
    "import pandas as pd\n",
    "import math\n",
    "import dfols\n",
    "import signal\n",
    "from scipy.integrate import solve_ivp\n",
    "from scipy.fft import fft, fftfreq, fftshift\n",
    "from scipy.signal import savgol_filter\n",
    "from scipy.signal import find_peaks\n",
    "from scipy import interpolate\n",
    "from stopit import threading_timeoutable as timeoutable\n",
    "import os, sys\n",
    "sys.path.append(os.path.dirname(os.path.dirname(os.path.abspath(\"__file__\"))))\n",
    "from batfuns import *\n",
    "plt.rcParams = set_rc_params(plt.rcParams)\n",
    "\n",
    "eSOH_DIR = \"../data/esoh/\"\n",
    "oCV_DIR = \"../data/ocv/\"\n",
    "cyc_DIR = \"../data/cycling/\"\n",
    "fig_DIR = \"../figures/figures_model/\"\n",
    "res_DIR = \"../data/results_model/\"\n",
    "%matplotlib widget"
   ]
  },
  {
   "cell_type": "code",
   "execution_count": 2,
   "metadata": {},
   "outputs": [],
   "source": [
    "parameter_values = get_parameter_values()"
   ]
  },
  {
   "cell_type": "code",
   "execution_count": 3,
   "metadata": {},
   "outputs": [],
   "source": [
    "spm = pybamm.lithium_ion.SPM(\n",
    "    {\n",
    "        \"SEI\": \"ec reaction limited\",\n",
    "        \"loss of active material\": \"stress-driven\",\n",
    "        \"lithium plating\": \"irreversible\",\n",
    "        \"stress-induced diffusion\": \"false\",\n",
    "    }\n",
    ")\n",
    "# spm.print_parameter_info()\n",
    "param=spm.param"
   ]
  },
  {
   "cell_type": "code",
   "execution_count": 4,
   "metadata": {},
   "outputs": [
    {
     "name": "stdout",
     "output_type": "stream",
     "text": [
      "25\n"
     ]
    }
   ],
   "source": [
    "cell = 4\n",
    "sno = 7\n",
    "cell_no,dfe,dfe_0,dfo_0,N,N_0 = load_data(cell,eSOH_DIR,oCV_DIR)\n",
    "eps_n_data,eps_p_data,c_rate_c,c_rate_d,dis_set,Temp,SOC_0 = init_exp(cell_no,dfe,spm,parameter_values)\n",
    "print(Temp)"
   ]
  },
  {
   "cell_type": "code",
   "execution_count": 5,
   "metadata": {},
   "outputs": [],
   "source": [
    "par_val = {}\n",
    "# Previous i.e. tuning mech sim sep and then Li plating\n",
    "par_val[0]=[1.2715e-07,1.2727e-06,1.1992,1.353e-9]\n",
    "# Using only C/5 and 1.5C Cycling aging, cost function with Cn,Cp,x100,y0\n",
    "par_val[1]=[1.4819e-07,1.5114e-06,1.2484,1.4732e-09]\n",
    "# Using only C/5 and 1.5C Cycling aging, cost function with Cn,Cp,C,LLI(%)\n",
    "par_val[2]=[1.4493e-07,1.3608e-06,1.199,1.2138e-09]\n",
    "# Using C/5, 1.5C and mixed c-rate (Ch:C/5, Dh:1.5C) Cycling aging, cost function with Cn,Cp,x100,y0\n",
    "par_val[3]=[1.043e-07,1.036e-06,1.208,1.6045e-09]\n",
    "# Using C/5, 1.5C and mixed c-rate (Ch:C/5, Dh:1.5C) Cycling aging, cost function with Cn,Cp,C,LLI(%)\n",
    "par_val[4]=[8.755e-08,8.572e-07,1.135,1.5788e-09]\n",
    "# Using C/5, 1.5C and mixed c-rate (Ch:C/5, Dh:1.5C) Cycling aging, cost function with Cn,Cp,C,LLI(%) another initial condition\n",
    "par_val[5]=[8.7698e-08,8.5848e-07,1.1354,1.5778e-09]\n",
    "# New Mech Damage Model\n",
    "par_val[6]=[2.056E-07,2.4664E-06,1.2468,1.0482e-09]\n",
    "# New Mech Damage Model with Lithium plating resistane\n",
    "par_val[7]=[2.190e-07,2.308e-06,1.214,2.537e-09]"
   ]
  },
  {
   "cell_type": "code",
   "execution_count": 6,
   "metadata": {},
   "outputs": [],
   "source": [
    "parameter_values = get_parameter_values()\n",
    "parameter_values.update(\n",
    "    {\n",
    "        \"Negative electrode active material volume fraction\": eps_n_data,\n",
    "        \"Positive electrode active material volume fraction\": eps_p_data,\n",
    "        \"Initial temperature [K]\": 273.15+Temp,\n",
    "        \"Ambient temperature [K]\": 273.15+Temp,\n",
    "        \"Positive electrode LAM constant proportional term [s-1]\": par_val[sno][0],\n",
    "        \"Negative electrode LAM constant proportional term [s-1]\": par_val[sno][1],\n",
    "        \"Positive electrode LAM constant exponential term\": par_val[sno][2],\n",
    "        \"Negative electrode LAM constant exponential term\": par_val[sno][2],\n",
    "        # \"Positive electrode LAM constant exponential term\": 1,\n",
    "        # \"Negative electrode LAM constant exponential term\": 1,\n",
    "        \"Negative electrode critical stress [Pa]\": 60e6,\n",
    "        \"SEI kinetic rate constant [m.s-1]\":  4.60788219e-16, #1.08494281e-16 , \n",
    "        \"EC diffusivity [m2.s-1]\": 4.56607447e-19,#8.30909086e-19,\n",
    "        \"SEI growth activation energy [J.mol-1]\": 1.87422275e+04,#1.58777981e+04,\n",
    "        \"Lithium plating kinetic rate constant [m.s-1]\": par_val[sno][3],\n",
    "        \"Initial inner SEI thickness [m]\": 0e-09,\n",
    "        \"Initial outer SEI thickness [m]\": 5e-09,\n",
    "        \"SEI resistivity [Ohm.m]\": 30000.0,\n",
    "        \"Positive electrode reference exchange-current density activation energy [J.mol-1]\": 0,\n",
    "        \"Positive electrode diffusion coefficient activation energy [J.mol-1]\": 0,\n",
    "        \"Negative electrode reference exchange-current density activation energy [J.mol-1]\": 0,\n",
    "        \"Negative electrode diffusion coefficient activation energy [J.mol-1]\": 0,\n",
    "    },\n",
    "    check_already_exists=False,\n",
    ")\n"
   ]
  },
  {
   "cell_type": "code",
   "execution_count": 7,
   "metadata": {},
   "outputs": [],
   "source": [
    "# c_rate_d = '2C'\n",
    "# c_rate_c = '1.5C'\n",
    "c_rate_c ='C/5'\n",
    "c_rate_d ='C/5'"
   ]
  },
  {
   "cell_type": "code",
   "execution_count": 8,
   "metadata": {},
   "outputs": [],
   "source": [
    "# pybamm.set_logging_level(\"WARNING\")\n",
    "pybamm.set_logging_level(\"NOTICE\")\n",
    "experiment = pybamm.Experiment(\n",
    "    [\n",
    "        (\n",
    "        #  \"Rest for 10 minutes\", \n",
    "         \"Charge at \"+c_rate_c+\" until 4.2V\", \n",
    "         \"Hold at 4.2V until C/50\",\n",
    "        #  \"Rest for 20 minutes\",\n",
    "         )\n",
    "    ],\n",
    "    termination=\"50% capacity\",\n",
    "    period = \"10 sec\",\n",
    "#     cccv_handling=\"ode\",\n",
    ")\n",
    "\n",
    "experiment = pybamm.Experiment(\n",
    "    [\n",
    "        (\n",
    "         \"Charge at \"+c_rate_c+\" until 4.2V\", \n",
    "         \"Hold at 4.2V until C/50\",\n",
    "         \"Rest for 5 min\",\n",
    "        #  \"Discharge at \"+c_rate_d+\" until 3V\",\n",
    "         \"Discharge at \"+c_rate_d+\" for 150 min\",\n",
    "         )\n",
    "    ],\n",
    "    termination=\"50% capacity\",\n",
    "    period = \"10 sec\",\n",
    "#     cccv_handling=\"ode\",\n",
    ")\n",
    "SOC_0 = 0.5"
   ]
  },
  {
   "cell_type": "code",
   "execution_count": 9,
   "metadata": {},
   "outputs": [
    {
     "name": "stderr",
     "output_type": "stream",
     "text": [
      "2023-02-17 15:55:57.675 - [NOTICE] callbacks.on_cycle_start(174): Cycle 1/1 (11.627 ms elapsed) --------------------\n",
      "2023-02-17 15:55:57.676 - [NOTICE] callbacks.on_step_start(182): Cycle 1/1, step 1/4: Charge at C/5 until 4.2V\n",
      "2023-02-17 15:55:57.820 - [NOTICE] callbacks.on_step_start(182): Cycle 1/1, step 2/4: Hold at 4.2V until C/50\n",
      "2023-02-17 15:55:57.923 - [NOTICE] callbacks.on_step_start(182): Cycle 1/1, step 3/4: Rest for 5 min\n",
      "2023-02-17 15:55:57.977 - [NOTICE] callbacks.on_step_start(182): Cycle 1/1, step 4/4: Discharge at C/5 for 150 min\n",
      "2023-02-17 15:55:58.352 - [NOTICE] callbacks.on_cycle_end(196): Capacity is now 4.850 Ah (originally 4.850 Ah, will stop at 2.425 Ah)\n",
      "2023-02-17 15:55:58.352 - [NOTICE] callbacks.on_experiment_end(222): Finish experiment simulation, took 687.874 ms\n"
     ]
    }
   ],
   "source": [
    "sim_long = pybamm.Simulation(spm, experiment=experiment, parameter_values=parameter_values, \n",
    "                            solver=pybamm.CasadiSolver(\"safe\"))\n",
    "sol_long = sim_long.solve(initial_soc=SOC_0)\n",
    "solution1 = sol_long"
   ]
  },
  {
   "cell_type": "code",
   "execution_count": 10,
   "metadata": {},
   "outputs": [
    {
     "name": "stderr",
     "output_type": "stream",
     "text": [
      "2023-02-17 15:55:59.915 - [NOTICE] callbacks.on_cycle_start(174): Cycle 1/1 (12.525 ms elapsed) --------------------\n",
      "2023-02-17 15:55:59.916 - [NOTICE] callbacks.on_step_start(182): Cycle 1/1, step 1/4: Charge at 1.5C until 4.2V\n",
      "2023-02-17 15:56:00.021 - [NOTICE] callbacks.on_step_start(182): Cycle 1/1, step 2/4: Hold at 4.2V until C/50\n",
      "2023-02-17 15:56:00.147 - [NOTICE] callbacks.on_step_start(182): Cycle 1/1, step 3/4: Rest for 5 min\n",
      "2023-02-17 15:56:00.191 - [NOTICE] callbacks.on_step_start(182): Cycle 1/1, step 4/4: Run DriveCycle (A)\n",
      "2023-02-17 15:56:01.524 - [NOTICE] callbacks.on_cycle_end(196): Capacity is now 4.849 Ah (originally 4.849 Ah, will stop at 2.425 Ah)\n",
      "2023-02-17 15:56:01.525 - [NOTICE] callbacks.on_experiment_end(222): Finish experiment simulation, took 1.621 s\n"
     ]
    }
   ],
   "source": [
    "# parameter_values.update(\n",
    "#     {\n",
    "#     #   \"Exchange-current density for plating [A.m-2]\":0.001,\n",
    "#     #   \"Lithium plating transfer coefficient\": 0.5,\n",
    "#     #   \"Dead lithium decay constant [s-1]\": 1E-4,\n",
    "#         # \"Exchange-current density for stripping [A.m-2]\": 0.00005,\n",
    "#     },\n",
    "#     check_already_exists=False,\n",
    "# )\n",
    "c_rate_c ='1.5C'\n",
    "c_rate_d ='1.5C'\n",
    "# c_rate_c ='2C'\n",
    "experiment = pybamm.Experiment(\n",
    "    [\n",
    "        (\n",
    "        #  \"Rest for 10 minutes\",\n",
    "         \"Charge at \"+c_rate_c+\" until 4.2V\", \n",
    "         \"Hold at 4.2V until C/50\",\n",
    "        #  \"Rest for 20 minutes\",\n",
    "         )\n",
    "    ],\n",
    "    termination=\"50% capacity\",\n",
    "    period = \"1 sec\",\n",
    "#     cccv_handling=\"ode\",\n",
    ")\n",
    "experiment = pybamm.Experiment(\n",
    "    [\n",
    "        (\n",
    "         \"Charge at \"+c_rate_c+\" until 4.2V\", \n",
    "         \"Hold at 4.2V until C/50\",\n",
    "         \"Rest for 5 min\",\n",
    "         \"Discharge at \"+c_rate_d+\" until 3V\",\n",
    "         )\n",
    "    ],\n",
    "    termination=\"50% capacity\",\n",
    "    period = \"1 sec\",\n",
    "#     cccv_handling=\"ode\",\n",
    ")\n",
    "drive_cycle = pd.read_csv(cyc_DIR+'peyman_drive_cycle_current'+'.csv', comment=\"#\", header=None).to_numpy()\n",
    "experiment = pybamm.Experiment(\n",
    "    [\n",
    "        (\n",
    "         \"Charge at \"+c_rate_c+\" until 4.2V\", \n",
    "         \"Hold at 4.2V until C/50\",\n",
    "         \"Rest for 5 min\",\n",
    "         \"Run DriveCycle (A)\",\n",
    "        )\n",
    "    ] ,\n",
    "    drive_cycles={\"DriveCycle\": drive_cycle},\n",
    "    termination=\"50% capacity\",\n",
    "#     cccv_handling=\"ode\",\n",
    ")\n",
    "SOC_0 = 0.5 \n",
    "\n",
    "sim_long = pybamm.Simulation(spm, experiment=experiment, parameter_values=parameter_values, \n",
    "                            solver=pybamm.CasadiSolver(\"safe\"))\n",
    "sol_long = sim_long.solve(initial_soc=SOC_0)\n",
    "solution2 = sol_long"
   ]
  },
  {
   "cell_type": "code",
   "execution_count": 11,
   "metadata": {},
   "outputs": [],
   "source": [
    "def plot_vars(solution):\n",
    "    t =  solution[\"Time [s]\"].entries\n",
    "    t = t/3600\n",
    "    V =  solution[\"Terminal voltage [V]\"].entries\n",
    "    I =  solution[\"Current [A]\"].entries\n",
    "    Q = -solution['Discharge capacity [A.h]'].entries\n",
    "    Q_Li = solution[\"Loss of capacity to lithium plating [A.h]\"].entries\n",
    "    I_Li = solution[\"X-averaged lithium plating interfacial current density [A.m-2]\"].entries\n",
    "\n",
    "    I_de = solution[\"X-averaged negative electrode interfacial current density [A.m-2]\"].entries\n",
    "    I_st = solution[\"X-averaged lithium plating interfacial current density\"].entries\n",
    "    I_to = solution[\"X-averaged negative electrode total interfacial current density [A.m-2]\"].entries\n",
    "\n",
    "    # phi_seif = solution[\"X-averaged SEI film overpotential [V]\"].entries\n",
    "    phi_seif = []\n",
    "    # phi_sei  = solution[\"X-averaged negative electrode sei reaction overpotential [V]\"].entries\n",
    "    phi_sei  = []\n",
    "    # phi_sei = 0\n",
    "    phi_pl  = solution[\"X-averaged negative electrode lithium plating reaction overpotential [V]\"].entries\n",
    "    phi_pl_nd  = solution[\"X-averaged negative electrode lithium plating reaction overpotential\"].entries\n",
    "    phi_del = solution[\"X-averaged negative electrode surface potential difference [V]\"].entries\n",
    "\n",
    "    phi_ocp = solution[\"X-averaged negative electrode open circuit potential [V]\"].entries\n",
    "    phi_int = solution[\"X-averaged negative electrode reaction overpotential [V]\"].entries\n",
    "\n",
    "    i0_int = solution[\"X-averaged negative electrode exchange current density [A.m-2]\"].entries\n",
    "    phi_e_avg = solution[\"X-averaged negative electrolyte potential [V]\"].entries\n",
    "    c_e_avg = solution[\"X-averaged negative electrolyte concentration [mol.m-3]\"].entries\n",
    "    c_ss_n = solution[\"X-averaged negative particle surface concentration\"].entries\n",
    "    c_save_n1 = solution[\"R-averaged negative particle concentration\"].entries\n",
    "    c_save_n = c_save_n1[1,:]\n",
    "    c_s_n = solution[\"X-averaged negative particle concentration\"].entries\n",
    "\n",
    "    u_css_n = solution[\"X-averaged negative electrode open circuit potential [V]\"].entries\n",
    "\n",
    "    # j_pl = solution[\"Negative electrode lithium plating interfacial current density [A.m-2]\"].entries\n",
    "    j_pl = []\n",
    "    # eta_pl = solution[\"Negative electrode lithium plating reaction overpotential [V]\"].entries\n",
    "    eta_pl = []\n",
    "    sigma_ts_n = solution[\"X-averaged negative particle surface tangential stress [Pa]\"].entries\n",
    "    sigma_rs_n = solution[\"X-averaged negative particle surface radial stress [Pa]\"].entries\n",
    "    sigma_hs_n = (sigma_rs_n+2*sigma_ts_n)/2\n",
    "    sigma_ts_p = solution[\"X-averaged positive particle surface tangential stress [Pa]\"].entries\n",
    "    sigma_rs_p = solution[\"X-averaged positive particle surface radial stress [Pa]\"].entries\n",
    "    sigma_hs_p = (sigma_rs_p+2*sigma_ts_p)/2\n",
    "\n",
    "    C_n = solution[\"Negative electrode capacity [A.h]\"].entries\n",
    "    C_p = solution[\"Positive electrode capacity [A.h]\"].entries\n",
    "\n",
    "    return t,V,I,Q,Q_Li,I_Li,I_de,I_st,I_to,phi_seif,phi_sei,phi_pl,phi_del,phi_ocp,phi_int,i0_int,phi_e_avg,c_e_avg,c_ss_n,c_save_n,c_s_n,u_css_n,j_pl,eta_pl,sigma_hs_n,C_n,sigma_hs_p,C_p"
   ]
  },
  {
   "cell_type": "code",
   "execution_count": 12,
   "metadata": {},
   "outputs": [],
   "source": [
    "# fig, axes = plt.subplots(2, 3, figsize=(8, 6))\n",
    "# ax1 = axes.flat[0]\n",
    "# ax1.plot(t1,V1,'b')\n",
    "# ax1.plot(t2,V2,'rv-')\n",
    "# ax1.set_title('Voltage [V]')\n",
    "# ax3 = axes.flat[3]\n",
    "# ax3.plot(t1,phi_pl1,'b')\n",
    "# ax3.plot(t2,phi_pl2,'rv-')\n",
    "# ax3.set_ylim([-0.1,1])\n",
    "# ax3.set_title('Plating Overpotential [V]')\n",
    "# ax4 = axes.flat[5]\n",
    "# ax4.plot(t1,phi_sei1,'b')\n",
    "# ax4.plot(t2,phi_sei2,'rv-')\n",
    "# # ax4.set_ylim([-0.1,1])\n",
    "# ax4.set_title('SEI Overpotential [V]')\n",
    "# ax2 = axes.flat[2]\n",
    "# ax2.plot(t1,Q_Li1,'b')\n",
    "# ax2.plot(t2,Q_Li2,'rv-')\n",
    "# ax2.set_title('Capacity lost due to plating [Ah]')\n",
    "# ax6=axes.flat[1]\n",
    "# ax6.plot(t1,I_Li1,'b')\n",
    "# ax6.plot(t2,I_Li2,'rv-')\n",
    "# ax6.set_title('Lithium plating interfacial current density')\n",
    "# ax5=axes.flat[4]\n",
    "# ax5.plot(t1,phi_del1,'b')\n",
    "# ax5.plot(t2,phi_del2,'rv-')\n",
    "# ax5.set_ylim([-0.1,1])\n",
    "\n",
    "# ax1.plot(t3,V3,'g--')\n",
    "# ax3.plot(t3,phi_pl3,'g--')\n",
    "# ax4.plot(t3,phi_sei3,'g--')\n",
    "# ax2.plot(t3,Q_Li3,'g--')\n",
    "# ax6.plot(t3,I_Li3,'g--')\n",
    "# ax5.plot(t3,phi_del3,'g--')\n",
    "# ax5.set_title('Neg Elec Surf Pot Diff [V]')\n",
    "# # ax5.set_ylim([-0.1,1])\n",
    "# # ax1.legend(['baseline',r'decreasing $\\alpha_{pl}$',r'Increasing $k_{0,pl}$'])\n",
    "# # ax1.legend(['Irreversible ','Reversible','Partially Reversible'])\n",
    "# ax1.legend(['C/5','1.5C','New Params'])\n",
    "# # ax1.legend(['SPM','SPMe'])\n",
    "# fig.tight_layout()\n",
    "# # plt.savefig(fig_DIR+'plating_models_parameters'+'.png')\n",
    "# plt.savefig(fig_DIR+'plating_compare_crate'+'.png')\n",
    "# # plt.savefig(fig_DIR+'plating_compare_spme'+'.png')"
   ]
  },
  {
   "cell_type": "code",
   "execution_count": 13,
   "metadata": {},
   "outputs": [],
   "source": [
    "# fig, axes = plt.subplots(3, 1, figsize=(6,8))\n",
    "# ax1 = axes.flat[0]\n",
    "# ax1.plot(Q1,phi_ocp1,'b')\n",
    "# ax1.plot(Q2,phi_ocp2,'rv-')\n",
    "# ax1.set_title('Negative Electrode Open Circuit Potential [V]')\n",
    "# ax2 = axes.flat[1]\n",
    "# ax2.plot(Q1,phi_int1,'b')\n",
    "# ax2.plot(Q2,phi_int2,'rv-')\n",
    "# ax2.set_title('Negative Electrode Intercalation Overpotential [V]')\n",
    "# ax3 = axes.flat[2]\n",
    "# ax3.plot(Q1,phi_pl1,'b')\n",
    "# ax3.plot(Q2,phi_pl2,'rv-')\n",
    "# ax3.set_title('Plating Overpotential [V]')\n",
    "# # ax5.set_ylim([-0.1,1])\n",
    "# # ax1.legend(['baseline',r'decreasing $\\alpha_{pl}$',r'Increasing $k_{0,pl}$'])\n",
    "# # ax1.legend(['Irreversible ','Reversible','Partially Reversible'])\n",
    "# ax1.legend(['C/5','1.5C','High R'])\n",
    "# # ax1.legend(['SPM','SPMe'])\n",
    "# fig.tight_layout()\n",
    "# # plt.savefig(fig_DIR+'plating_models_parameters'+'.png')\n",
    "# # plt.savefig(fig_DIR+'plating_compare_crate'+'.png')\n",
    "# # plt.savefig(fig_DIR+'plating_compare_spme'+'.png')"
   ]
  },
  {
   "attachments": {},
   "cell_type": "markdown",
   "metadata": {},
   "source": [
    "# Compare Stress, Plating C Rates"
   ]
  },
  {
   "cell_type": "code",
   "execution_count": 14,
   "metadata": {},
   "outputs": [],
   "source": [
    "t1,V1,I1,Q1,Q_Li1,I_Li1,I_de1,I_st1,I_to1,phi_seif1,phi_sei1,phi_pl1,phi_del1,phi_ocp1,phi_int1,i0_int1,phi_e_avg1,c_e_avg1,c_ss_n1,c_save_n1,c_s_n1,u_css_n1,j_pl1,eta_pl1,sigma_hs_n1,C_n1,sigma_hs_p1,C_p1 = plot_vars(solution1)\n",
    "t2,V2,I2,Q2,Q_Li2,I_Li2,I_de2,I_st2,I_to2,phi_seif2,phi_sei2,phi_pl2,phi_del2,phi_ocp2,phi_int2,i0_int2,phi_e_avg2,c_e_avg2,c_ss_n2,c_save_n2,c_s_n2,u_css_n2,j_pl2,eta_pl2,sigma_hs_n2,C_n2,sigma_hs_p2,C_p2 = plot_vars(solution2)"
   ]
  },
  {
   "cell_type": "code",
   "execution_count": 15,
   "metadata": {},
   "outputs": [
    {
     "name": "stdout",
     "output_type": "stream",
     "text": [
      "7.498440994875393\n",
      "1.483727354214271\n"
     ]
    },
    {
     "data": {
      "application/vnd.jupyter.widget-view+json": {
       "model_id": "e19b05229bd14721965fd6b17588b9a7",
       "version_major": 2,
       "version_minor": 0
      },
      "image/png": "[encoded data removed]",
      "text/html": [
       "\n",
       "            <div style=\"display: inline-block;\">\n",
       "                <div class=\"jupyter-widgets widget-label\" style=\"text-align: center;\">\n",
       "                    Figure\n",
       "                </div>\n",
       "                <img src='data:image/png;base64,iVBORw0KGgoAAAANSUhEUgAAAk4AAAGGCAYAAACNCg6xAAAAOXRFWHRTb2Z0d2FyZQBNYXRwbG90bGliIHZlcnNpb24zLjUuMSwgaHR0cHM6Ly9tYXRwbG90bGliLm9yZy/YYfK9AAAACXBIWXMAAA9hAAAPYQGoP6dpAACMUUlEQVR4nO2deXwT1fr/P0mapkuapqVFKEsFLiggKAoKXlAqqKBcFAXFK27gAu0VvxdcWkRZBMqiIHqr3B+CiEsFXK8iCIIUFQR3UARB9hbZ0ibpkqRZfn9MJ5M9k/QkaSbP+/XKi8nMmZmTD+dMn3nOc54jczgcDhAEQRAEQRBBkce6AgRBEARBEPECGU4EQRAEQRAiIcOJIAiCIAhCJGQ4EQRBEARBiIQMJ4IgCIIgCJGQ4UQQBEEQBCESMpwIgiAIgiBEQoYTQRAEQRCESMhwIgiCIAiCEAkZTgRBEARBECIhw4kgCIIgCEIkSbGuABE/zJ49G/v27fPaP2nSJFx77bUxqBFBEARBRBcZLfJLxAv3338/tm3bhr59+0KhUGDNmjXYsWMH/vOf/6C8vBwdOnTAJZdcgmPHjqFLly6YNWsW+vTpE/CaX331FZYuXQoAeP/99/Hll19i8ODBUfg1BEEQRDxChhMRN9x///0AgFWrVrnt37dvH3r27Inly5fjwQcfRG1tLYYMGYJ9+/Zh9+7d6N69u6jry2QyMpwIgiCIgFCMExH3pKWluX1Xq9V49tlnUVtb6/QmEQQhDWw2G1avXo3Ro0dj3LhxuPfee9GlSxfIZDI8+uijsa4eAO4l78ILL8To0aNx5513+iyzZs0arF271uex3bt3495778WwYcP83uOrr77C6NGjMXr0aMhkMmzbto1F1QkRUIwTIUn+9re/AQBOnDgR45oQBMGKqqoqjB49Gr1798brr7+OjIwMAIDVakVBQQEKCgpiXEOBwYMHe3nHXfnvf/+LpKQk3HHHHV7HcnNzcfDgQahUKr/nDxo0CIMGDQLAecuJ6EEeJ8LJiRMn8PDDD6Nz585IS0uDXC6HTCbDvffeG+uqhcyRI0cAABdffDEA4IsvvsBdd92FkpIS9OnTBy+//HIsq0cQRIicPXsWV111FXr06IFly5Y5jSYASEpKwq233ho3k1T++OMP/PTTT9iyZQuOHTvmdbxTp07o2rVrDGpGiIE8TgQA4LfffsM111yDiy66CM8++yx++OEH9OnTB507d0bnzp1jXb2QMBgMmDlzJrRaLf7973+joaEBt9xyCz788EPccMMN6NSpEyZNmoT777/f7eFLEETLZfz48TCbzViyZInP4+PGjUOrVq2iXKvwWL58OcrLyzFixAisWLECs2fP9iojl5Nfo6VC/zMEAOCBBx5A79698dVXX+H+++/HsGHD8MEHH2Dw4MHo2LFjrKsnis8++wwzZszAww8/jAEDBmDv3r1o3749lEol7rjjDlxxxRUAgDZt2sBut6O6ujrGNSYIQgw//PADPv30U0ydOtXvy84FF1wQ5VqFh8ViweHDhzFs2DCMGDECr7/+Oux2u9/y33//PXr37g2tVovVq1dHsaaEP8jjRGDXrl347rvv8OWXX0KhUAAAzpw5g2+//TbGNQuNm266CQ8++KDX/qSkJLz++uvYuXMnPvnkE+j1egAI+LAiCKLlwMcKjR49OrYVYcD777/vjGuaOHEihg8fjo0bN+Kmm27yKnv8+HH88MMP2LhxI4qLizFlyhTcc889FNMUY8jjRKCiogJt27Z1iw/47rvv0LZt2xjWii2PPfYYPvjgAzz33HMYM2ZMrKtDEEQI7NmzB5mZmejSpUusq9Js/ve//+G2224DANx4443o1KkTli9f7rNs+/bt8cgjjyAvLw9jx47F+fPncfbs2WhWl/BB3BtOX3zxBa666iocPXo0aNmHHnoIMpnM7VNWVhb5SrZwqqur0bVrV+dbjNlsxpo1a3DXXXfFuGZs+OKLL/DSSy9h5syZTo8aQRDxw+nTp5GbmxvrajSbAwcO4Pfff8dDDz2E+++/Hw888AC0Wi0+/fRTnD592qu8a5xTamoqAMBkMkWtvoRv4tpwOnv2LGpra7F79+6gZRsaGmC1WrF161bs3LkTO3fuxMCBA/GPf/wjCjVt2fTp08fN9btkyRJ06dIFU6dOjWGtxNPQ0AAAqK+v93mcf9CsXr0ae/bsweuvvw4A2Lt3L3755ZfoVJIgiLDJy8tDZWUl/OVrdjgcfo/5o6qqCrfffjs2btzIooqiWL58Od5//32sWrXK+fnoo49gs9kCpi4AhJQDFGIQe+LacMrNzcXIkSNFlTUajfjvf/+LgoIC9O/fH3369EFSUlLcBD5HktGjR+PSSy/FokWLMHv2bJw8eRKbN292yyFy5MgRDBkyBNu3b49oXcxmM5YtW4ZFixbhww8/DFp+x44deO655wAAK1euxJo1a7weoDfeeCNGjBiBp556CgsWLEBxcTGys7Oxdu1a9OzZMyK/gyAIdtx2221oaGjw+0x47bXXYLFYQrpmXl4eTpw4gYEDB7KoYlBMJhMOHTrkNdzYsWNHXHPNNVixYkXIxh8RG+I+ONzXlM3du3dj/fr1+PXXX5GcnIzXXnsNrVu3diuzZcsWDBkyJFrVbNHI5fKgGbY7deqE06dPo3///hGty5NPPonJkycjPz9f1EPk6quvxtVXX4133nnHbxmlUolPPvnEbd/58+ebXVeCIKLDI488gnfffReFhYXQaDQYOnQoAKCmpgavvPIKRo0aFTBZpC+OHz8OrVYLtVodiSp78cYbb/g10kaMGIEnnngCGzZscAaJ22w2n94lm80W0XoSwYlrj5Mv9Ho9nn/+ecyaNQvr1q3D77//jsWLF3uV++ijjzBq1KgY1DA++fXXX9GtWzckJydH7B67du3Czz//jC5duiApKQlKpTJi9yIIIn5QKpX44osvMHHiRBQVFaFTp0646aab8Oyzz+Kee+5xrkd5/vx5PPDAA1i5ciVWrFiBiy++2G8w9aefforhw4cDAP78808sWrQIGzZswCOPPIK6ujoAwPTp07F27VoMHjwYp06d8rsvGO+++y6mTZuGjz76CN98843bsd9++w0bNmwAwM2yW7NmDT799FNs27YNe/fuxTvvvIPDhw9jxYoVAICXX36ZXvxiTNx7nDxZv349qqur8eKLLwIALrvsMi+r3W63Y//+/TRMEwKfffYZbrrpJrz22mtYtGgRvv76a5/BmtOnT0fv3r3xyiuvoLy8HCaTCU8//TTGjh2LkSNH4vHHH0e/fv2wceNGDBw4EH/99ReOHz+O6dOnY8mSJcjPz8ehQ4ecS6YQBEEAQEpKCmbOnImZM2f6LdOqVSscP34cMpkMY8aMwaJFi/zmffr000/x4osv4syZMxgzZgwqKiqQkZGBDz74ABs3bsTtt9+Ozz77DGPHjsXKlSuds4x97QvG2LFjMXbsWJ/HevbsiS1btnjtHzFihNv3N998E2+++aao+xGRRXIepxMnTqBz5874v//7P/zf//0fVq1ahRkzZriV2bVrV8SHnKTGhg0b4HA4MGbMGMhkMr8Po88++ww9evRwPlTatm2LEydOoHv37rBarfjwww9x8803o7q6GiqVChMmTMDUqVPRoUMHNDQ0YPLkyQGNpoqKCowdOxZ33303k9/lulAmQRDxjV6vxy+//IKBAwfixIkT6NixI1JSUrzK1dXV4fjx4+jWrRteffVV3Hrrrc5n2p49e5CXlwcAmDt3LkaMGIHMzEznub72EYmF5Ayntm3bYv369W5TNj1n3dEwXWjwD6MBAwagqqoKHTp08PkwArwfKg0NDc50B2vWrEHXrl2hUCjwyy+/4JprrkGbNm3QrVs3WK1W7NmzB5dffrnfeqxatQpHjhzBu+++i7fffpvJbxs0aBDee+89vPfee3A4HBg8eDCT6xIEEX0+//xz3HrrrejatSs+/fRT3HzzzdDr9Vi7dq3byMOWLVtw3XXXoaamBidPnsRll10GAPj666+RlpaGAQMG4LfffsPw4cNx++2343//+x8A+NxHJB5xbzjxAcT8vzfddBOMRiNGjhyJTZs2oaysDMePH3c7Z/fu3eRxCoFNmzbh1ltvxSWXXIJPPvkEI0aMgNFoRF1dndsDyddDZcuWLRg2bBj27duHX3/9FcOHD8fatWtx4403us1o5NND0PpMBEGEy6effooHHngAALB//34olUr8/PPPeOSRR9zSDvzxxx9QKpUwmUyYNGkSdu7ciQ0bNmDbtm34+OOPYbFYcN999+HTTz+FRqPBjTfe6HNfIFh7xz0hb3nsiOsYp9raWueY7xtvvIF//etfyMnJwccff4yioiKMHTsWkyZNQlFRkfOc/fv346KLLqKU9SHw2WefOR9GBw4cwGWXXQaVSoXvvvsOjzzyCNRqNYYOHYr77rsPM2fOdHuo1NfX47fffoPRaITNZsO5c+fw888/O6/H8/nnn0fsAUMQRGLgupbbypUrndvr1693m6X7+OOPO7fbtGnj9HTzweIAt0Yc4B5r5GufL4LlZGLBoEGDMGjQoIjfh/BG5qDEEUQz2LFjBxwOB/7+97836zqTJk3CK6+8QgYtQRBMOXXqFHbs2IHbb7891lUhJAIZTkTYsHggTZgwASNGjED//v0ltTYeQRAEIU3IcCIIgiAIghBJ3MU42e12VFVVISMjg4Z1CKKF43A4YDQakZeXl3CB//SsIoj4IZRnVdwZTvx0eIIg4ocTJ06gffv2sa5GVKFnFUHEH2KeVXFnOPFJyk6cOAGNRhO0fF1dHdLT0yNdrYSB9GSL1PU0GAzo0KGD34SpUoaeVbGF9GSL1PUM5VkVd4YT7/LWaDSiHkZWq1VUOUIcpCdbEkXPRByqomdVbCE92ZIoeop5ViVW0AFBEARBEEQzkLzhlJ2dHesqSArSky2kp/QoKytDjx490K9fv5DOo7bAFtKTLaSngOQNp+rq6lhXQVKQnmwhPaVHUVER9u3bh++++y6k86gtsIX0ZAvpKSB5w4nSVLGF9GQL6UnwUFtgC+nJFtJTQPKGU3JycqyrIClIT7aQngQPtQW2kJ5sIT0FJG84qVSqWFdBUpCebCE9CR5qC2whPdlCegrEjeEUbsCl0WiMUI0SE9KTLaQnwUNtgS2kJ1tIT4G4MZzCDbgkCIIgCIJgRdwYTuGiVqtjXQVJQXqyhfQkeKgtsIX0ZAvpKSB5w8lqtca6CpKC9GQL6UnwUFtgC+nJFtJTIO6WXAkVk8mEtLS0WFcj+jgcwGOPAb/9BixbBnTtyuSyCatnhCA9pUdZWRnKyspgs9lCOi8ibWHVKmDxYsBoBBobAX9//LKzgX373PcVFQHvvRf8HrfdBrz6qvu+nj2Bc+eCn/uf/wBjxgjf9+4Fhg4Nfh4A/PorkJsrfH/pJWDuXOfXFIcD8LV8xiWXAFu2uO+77Tbgm2+C3/PRR4Hp08XVT2LQs0pA8oZTwrJnD/Dyy9z2gw8CFRXCsYYG7qEjlwM5OUB+fmzqSBASpKioCEVFRTAYDMjMzIxtZWw2zhgJhi+DymAAzpwJfq7B4L3v7FnuEwyTybseYu4JcC+HrtTXu53rdzhFp/PeV10t7r61teLqRkgayRtOWVlZsa5CbPjpJ2F7+3b3Y3/+CVx5Jbc9YQLw2muiL5uwekYI0pPgiUhbuPxyQKnkPEpJSdzHlxfG171zc4ELLwx+D1evD0/HjkB6evBzPcskJ4u7J8C9+LmSmel2rgOAz+Va8/K897VpI+6+Cdxf6VklEBHD6YsvvsDTTz+NNWvW4EI/jfF///sfNm/eDJPJhDvvvBNDxbpnQ0Sv10Or1Ubk2i2aQFleXY+FuGp9wuoZIUhPgqfZbeHJJ4EePYD77xf29e7NeUnCSV64eDH3CYfvvw/vvJ49gSNHwjt30iTu04S+pka8nuXl4d0zgaBnlQBzw+ns2bOora3F7t27/ZbZv38/5syZg127dsFut6Nfv3745JNP0K5dO9bVgd1uZ37NuMdVE8+3tqCnkp4sIT0Jnma1hYoKYNEibnv3buCVV7hthYL7JCDUt9hCegown1WXm5uLkSNHBizz4osvYtiwYZDJZFAoFBgwYABe9QwuZIRSqYzIdeMavV7Y/vLLkE4lPdlCehI8YbcFh4PzNvH07MmmQnEO9S22kJ4CEUlHIA/ixdi6dSvyXQKSu3XrhgrX4GUXzGYzDAaD2ycUUlNTQyovGTp2FLb5eCYe1yDIgwdDumzC6hkhSE+CJ+y2sGsX52UCgF69gIkT2VUqjqG+xRbSUyAmweGVlZXIzs52fler1aiqqvJZtrS0FLNmzfLar9PpYLVaodVqYTQaYbPZkJSUhPT0dOibPCppaWmoqalxLk6o1WpRW1sLq9UKhUKBjIwM1NTUAOAahUwmQ319PQAgMzMTdXV1zrIajQbV1dUAgJSUFCgUCtTV1QEANBoNGhoa0NjYCLlcjszMTLeySUlJqG2ajZGRkQGz2QyLxQKZTIasrCzommZ5qFQqKJVKt7IWiwVmsxkAkJ2djerqajgcDiQnJ0OlUjnT4KvVajQ2NgplhwxBTXU17HY7lEolUq1W1P76K5QbNkClUrn9xzscDuj1emfZtLQ0Nw0dDgcaGhoAwFnGn94A/GoYTO/6+nq/GgbSW6vVBtQwkN7Jycn+NQyit9VqhalpVlBWVpabhqmpqU4jPz09HTabza2swWCAzWZDQ0MD2rRp41dvz/atVqtFt1lPveVyueg266m3yWQS3WZd9VYk6DBROBgMBrfnomhWrBC2//3vhB2a8yRsPQmfkJ4CMocjUBRxMy4sk+HIkSM+g8PVajXWrVuH4cOHAwBeffVVLF26FPv37/cqazabnX/IAO4/r0OHDtDr9dBoNEHrodPp6D+bp21b4K+/vPeH0ARIT7ZIXU9+Sr7Y/iolQv3tYbUFm42bJXbmDJCWxqUAoFw7AKTft6KN1PUMpb/GxOOUl5fnfMMGuMUD83xNEQX3RtucVZnTxUyJTRR8GU0hQnqyhfSUHuEmwAyrLezaJQy933gjGU0uUN9iC+kpEJMlV4YMGYKDLrE1hw4dQkFBQUTuFerDS9JkZDT7EqQnW0hP6RHuguRhtQXX2NCbbw79fAlDfYstpKdARAwnfvTPdRRw4cKF+O233wAAjzzyCDZv3gyAW/9m9+7deOihhyJRFWdcScIwbx4waxZw3XVcjib+A4SXy8WDhNMzwpCeBE9YbeHrr4XtQYPYVUYCUN9iC+kpwHyorra2Fm+++SYA4I033sC//vUv5OTkYM2aNejcuTN69uyJyy67DA888AAef/xxWCwWLFmyBG3atGFdlcRkzhxuSRVf8AaUTCbENTXFmREEEWc4HMDOndx2bi6z9SgJgghMxILDI0WoAZcOhwOyELNjxzX+fqvDwT1cz53jPE8WC7d/9Ghg3TrRl084PSOM1PWk4PAIPqtsNmDjRm7dSYUCePzxZtRWeki9b0UbqevZ4oPDo0mLWGizpcCvVs4bTUBIM+oA0pM1pCfBE3JbUCi4uCaKbfIJ9S22kJ4CkjecKKDND3yCTF8LdAaA9GQL6UnwUFtgC+nJFtJTQPKGU1KS5H9ieDz0ELdO3YABIZ1GerKF9CR4qC2whfRkC+kpIHklKPeEH555hvv3qaeAEFJBkJ5sIT0JnpDbwpdfApmZwIUXAhJOTBgu1LfYQnoKxCSPUziUlZWhR48e6NevX0jnuSbaTHh8Nfwg6wp6QnqyhfSUHlF7Vv3zn8AVV3Dr0xFeUN9iC+kpEDeGU7hJ5YggSHiWBEHEgqg8qxoahJUAfCxrRRBE5Igbwylc0mgJAgFfM+gWLAjpEqQnW0hPgiektnDsmLBNhpNPqG+xhfQUkHyMU5ylqWLLVVdxxtLdd3PffWkR4kyJhNYzApCeBE9IbeHIEWG7Uyf2lZEA1LfYQnoKSN5wamhoQGpqaqyrET20WqCmBrjoIi6rsMMhDMf5yygeAgmnZ4QhPcVRV1eHJ554ApmZmairq8OiRYt8Lv69fPly7N+/H9XV1Zg8eTIuu+wy57F58+ZBr9fj7NmzmDFjBvLz8wEABw4cwD333IP9+/fjH//4B1auXOm8ts1mQ3FxMZKSknD+/HksWLAAWVlZEfmNIbUFV49T0+8g3KG+xRbSU0DyQ3UJR+/eQJ8+wIEDXOC3QiEsy0AQccqkSZNw/fXXo7S0FH379kVJSYlXmS1btmD9+vV44YUXsHTpUowbNw51dXUAgJUrV+L06dNYsGABnnnmGdxxxx2w2+2w2+1Yu3YtPvnkE2zevBnr1693LhkFALNmzUJeXh5KS0sxbtw4TJgwIWq/OSCnTgnb7dvHrh4EkYBI3nDSarWxrkJ0qagAfvwRmDpV2MfQxZpwekYY0jM4VVVVWLduHYY3ras4fPhwLFu2DEaj0a3cokWLMHLkSABARkYG8vPzUV5eDoBbZPyWW24BAHTq1Am1tbXYunUrAODJJ5/EBRdcgKuuugo33HADFAoFAMBiseDFF190njdw4EB88cUXOHjwYER+Z0htgQ8MB4ALLmBeFylAfYstpKeA5A0nz4drwtD0pg0A2LWL+zcvr9mXTVg9IwTpGZxt27YhJycHKSkpAIDc3FyoVCrs3r3bWcZms6GiosI5/AYA3bp1Q0VFBaqqqnDgwAGfx+RyuXNYzm63Iz09Hf/85z8BAN9//z2MRiM6NmXZl8vl6NKlC7Zv3x6R3xlSWzh9WtimBdJ9Qn2LLaSngOQNp4RLE3/11Vw28GXLhH2898lub/blE07PCEN6BqeyshLZHgke1Wo1qqqqnN91Oh1MJpNbOb5MZWUlAPg8xrN3717cfvvtOH78uDNfTWVlJTQajVvGZM/zXDGbzTAYDG6fUAipLfAeJ5ks5GWTEgXqW2whPQUkHxyecGniA8Uzubr3wyTh9IwwpGdwZDKZ09vEY7FYoFQq3coAcCvHl/F3zDUTcrt27TBu3Dg8/vjjuP/++/HZZ5+Juq8rpaWlmDVrltd+nU4Hq9UKrVYLo9EIm82GpKQkpKenO420tLQ02O126HQ6ANywSG1tLaxWKxQKBTIyMlBTUwMASE1NhcpohByAvVUrOORy1BkMzrIajQbV1dXO36xQKJyxXhqNBg0NDWhsbIRcLkdmZqZb2aSkJNTW1gLghjvNZjMsFgtkMhmysrKc9VOpVFAqlW5lLRYLzGYzAM5Ira6uhsPhQHJyMlQqldNjoVar0djY6Fa2pqYGdrsdSqUSqampTqMzPT0dNpsNJpMJAJCVlQW9Xu8sm5aW5qahw+FAQ9MkGLlcDr1e71dvAKivrwcA56QDf3rLZDK3svX19X41DKS3VqsNqGEgvZOTkwNqGEhvq9XqV8NgehsMBthsNlgsFthsNr96e7ZvtVodUMNAesvlctFt1lNvk8kkus266s0P0Yshbp7aZWVlKCsrC9nqVavVEaqRRBg2LKTipCdbSM/g5OXleWUtrq2tRZ7L0HOrVq2gUqncyhmNRuTl5TnL6fV656wgo9GInj17OstmZ2fj9ttvR6tWrXDzzTf7vS9/TV+UlJRgypQpzu8GgwEdOnRAdnY2NBoNAHitLu/qBUtOTobcJZM/f46vsvjtN6C+HnKdDmgylvyWBdxmIGZkZAQs6/rd00gMVtbVGPWcfej5W13LesbPeN7HNYdQsLL8/7HdbnfT01dZV8M4mIauZYNpGA29PTUMpncoGrqW5dssr6c/vV3L+rtuKHqHoqFrWc9nqli9Q/EQx81QXbjZeHkrNiEIJwg8xMzhCaVnFCA9g1NQUICTJ0/CYrEAgHOo7Morr3SWkclkKCgocAvcPnToEAoKCpCXl4fu3bv7POZJ37590a5dOwDAFVdcgdTUVJw4cQIA94fj6NGjuPbaa33WU6VSQaPRuH1CIeS2kJZGM+oCQH2LLaSnQNwYToQIAhlOY8d67xs3DujbFygsBIYPB5piQQiiJdG2bVsMGzYMFRUVAIBNmzahsLAQKpUK06ZNw6mmqflFRUXYuHEjAO7tsbKyEmPGjAEAFBYWOo8dPnwY2dnZGDRoEGw2G3bt2uVM7rd+/Xr83//9HwDOEJowYYLzvO3bt+Pmm292CzInCCLxkDniLB2owWBAZmYm9Hq9qDe6hEraZbdzeZvCZfRoYN26gEUSSs8oIHU9Q+2v/jh37hyKi4tx4YUXQqfTYf78+bDZbOjRowfKy8vRv39/AMD8+fNRW1sLnU6HiRMnonfv3gA4b1FxcbEzuPvpp59Ghw4dcOrUKfTv3x9ZWVkYMmQIunXrhkceecR534aGBkydOhXt2rVDZWUlSktLvYYjWP12qbeFaEN6skXqeobSXyVvOJlMJq8AT8liswHNCTYuLgZKSwMWSSg9o4DU9WRlOMUjEXtW/fIL8P/+H5CdzXmKr76aQW2lh9T7VrSRup6h9Ne4CQ4Pl/r6ekn/Z7sRBRs4ofSMAqQnwSO6LezbB7zyCrfdqhUZTn6gvsUW0lOAYpykhGvSy3CIL+cjQSQmTdOrAQARWjePIAj/SN5wEhuPIAmCDLOxIKH0jAKkJ8Ejui005bABwA3XET6hvsUW0lNA8oZTXXO9MPHE8ePNO//dd4MWSSg9owDpKT3KysrQo0cP9OvXL6TzRLcF8jiJgvoWW0hPAckbTlarNdZViB7NzUJ97FjQIgmlZxQgPaVHuDnnRLcFV48TGU5+ob7FFtJTQPKGUyhp1IngkJ5sIT0JHtFtgYbqREF9iy2kp0DcGE7hur89U7VLmltvjfgtEkrPKEB6Ejyi2wIN1YmC+hZbSE+BuDGcaMkVEbis1xMpEkrPKEB6Ejyi2wJfLiWF+xA+ob7FFtJTIG4MJ0IEzY1xuv56NvUgCCJyNK3uDvIAEERMkHwCTCmniPdi0KDmnS8ikV5C6RkFSE+CR3RbKCgAunUjwykI1LfYQnoKSN5wkssTyKm2d2/Eb5FQekYB0pPgEd0WVqyIbEUkAvUttpCeApJXIqFyT/z0U/POl8mCFkkoPaMA6Sk9Ip7HiRAF6ckW0lNA8oZTQmG3N+/88+fZ1IMgEphwJ7IQBBEfSN5wSqgV2X/4oXnnb9wYtEhC6RkFSE+Ch9oCW0hPtpCeApI3nBoaGmJdhehx7lzzzh85MmiRhNIzCpCeBI+otnDkCJCfD/TsCcyYEflKxTHUt9hCegpIPji8sbEx1lWIHg5HxM9PKD2jAOlJ8IhqC3q9sCbl6dORrVCcQ32LLaSngOQ9Tgk1E6C5hpMIEkrPKEB6Ejyi2gKfwwkA1OrIVUYCUN9iC+kpEDdKhDtTJTMzM0I1aoFEweOUUHpGAdKT4BHVFlxnNpHhFBDqW2whPQXixnAKd6ZKteuCmFInPb155y9ZErRIQukZBUhPgkdUW3D1ODW3v0sc6ltsIT0F4sZwIkTQ3CVXCIJo2dBQHUHEHMkbTimJtAhm69YRv0VC6RkFSE/pEW5Ygai2QEN1oqG+xRbSU0DyhpNCoYh1FaLH7bdH/BYJpWcUID2lR7hhBaLaAg3ViYb6FltITwHJG04JlSY+CtNFE0rPKEB6Ejyi2gIN1YmG+hZbSE8BpoZTXV0dCgsLUVJSgsmTJ8NsNvssd+zYMSiVSshkMshkMvz4448sq5G4NHe19KlT2dSDIIjIQIYTQcQcptHEkyZNwqhRozBq1CisXr0aJSUlWLx4sVe51157DZ988gmSkpKgVCpx+eWXs6yGGwmVJv7CC5t3fm5u0CIJpWcUID0JHlFtYcwY4G9/42KdOnWKfKXiGOpbbCE9BZh5nKqqqrBu3ToMHz4cADB8+HAsW7YMRqPRrVx1dTV++OEH9OjRA0OHDsW1117Lqgo+MZlMEb1+i2L+/OadL5MFLZJQekYB0pPgEdUWBgwACguBJ54A2raNfKXiGOpbbCE9BZgZTtu2bUNOTo4z8j43NxcqlQq7d+92K/fee+9h+/btyM/Px7hx41Dr6nr2gdlshsFgcPuEgsViCe2HxDMvvBDxWySUnlGA9CR4qC2whfRkC+kpwGyorrKyEtnZ2W771Go1qqqq3PY99NBDGD9+PDZt2oSJEyfigQcewLp16/xet7S0FLNmzfLar9PpYLVaodVqYTQaYbPZkJSUhPT0dOj1egBAWloaGhsbodPpAABarRa1tbWwWq1QKBTIyMhATU0NACA1NRUymQz19fUAuCypdXV1zrIajcaZACwlJQUKhcIZLKfRaNDQ0IDGxkbI5XJkZma6lU1KSnIaiBkZGTCbzbBYLJDJZMjKynLWT6VSQalUupW1WCzOWLHs7GxUV1fD4XAgOTkZKpXK6dFTq9VIDvq/FBjL1q0wT5qEtLQ0Nw0dDodzgUeHwwG9Xu9XbwB+NQymd319vV8NA+mt1WoDahhI7+TkZDcNGxsbRetttVqdb2FZWVnQ6/Ww2+1QKpVITU11Gvnp6emw2WxuZQ0Gg3OfzWbzq7dn+1ar1aLbrKfecrlcdJv11NtkMolus65600wc8chEeHwJ8ZCebCE9BWQOB5sFzp5//nmsW7cOu3btcu674IILsHTpUowdO9bnOQcOHECvXr1w9OhR5OXl+SxjNpvdgswNBgM6dOgAvV4v3THX+npg3z7giiv8D5+dOQP88gtQUMAlvqytDS84/IMPgNtu47avvx7YtMm7jF4PLF8O9O0LDB7M7Tt1CvjtN+47Jd4k/GAwGJCZmSnt/uqHiPz2gwe5Z4JaDbRpw+aaBEGE1F+ZDdXl5eU535p5amtr/RpEAHDRRRdhyJAhOHHihN8yKpUKGo3G7RMK/Jtx3OBwAH//O9CvHzBnju8yNht3/IYbgHnzuH3TpoV3P9e4qIsv9r4PAEyZwsVUFBSg+o8/uLQHV1zBGVo+gv8J8cRd+ySCEm4CTFFtYdQooGtXoEuXMGuXOFDfYgvpKcDMcCooKMDJkyed46D8EN2VV14Z8Lz09HRc7PkHO5E5dw74+Wdu+9lngc2bgQcfBJRKQKUCfv8d2L8fOH6cKzNjBrBhA/Dyy97XatcO6NDB/73GjgVcY9Dsds67NG4c91ablASsXw+sXOkskvTzz8CPP3IeJwB46ingyy+b9ZMJQkqEmwBTFHwuHUpFQBAxg5nh1LZtWwwbNgwVFRUAgE2bNqGwsBAqlQrTpk3DqaY/tO+8845ze8eOHRg0aFBEV11WqVQRu7ZP/voLCOBBC4pnTMgNNwBWK/exWAC5HPBMfX/TTdwwmicLFwI//ABcconve/3tb+7fHQ5umPDtt4V9I0ZwH756+fne97/uOm6Ib8UK4PXXuWt88gmwbVvg30pEv30SLRZRbYGfTENZw4NCfYstpKcA0+CUZcuWobi4GLt27YJOp8P8+fNhMplQXl6OkSNHom3bttiwYQMeffRRDB06FMOGDcNjjz3GsgpeKJXKiF7fjaNHgW7duCGuX37xb7AEgh8ec8VuF7blcm/jCgA6dgS+/9593913c8bQr7/6vpfcw27+7jvf93dZAy8pJcXbcAKAG28UtnfvBpYt47Z//BHo08f3/Ynotk+iRSOqLfCGE3mcgkJ9iy2kpwBTwyknJwevvfaa1/4jR444t998802WtwxKbW2t12y/iPHxx8KyJx9/zM5w8tTMM1HltddyQd6hIsZwuukmt6G6BqMRyclB5u/xRhPADSX+73+h1y1BiGr7JFo0QduCzQbwuXTIcAoK9S22kJ4Ckl+rLqq4Djnu2BHeNVy9S77YudPbTd80PBoyvmbseRpOn33m/r2x0bdx54+mKe4E0RzELue0fPlyTJ06FePHj8fPfKxgE/PmzcNTTz2F8ePH49ixY879u3fvxqWXXorMzEzcfffdXkl7586d61we6tJLL2X+20TjulYYDdURRMyQ/DzyjOau3xYKTbl3AHAGh8UCBPPOeNK2LWeAecxQdBLMsPLEIwGpG54eJxHXT5fJQqvDt9+KL5uARLV9xjFilnPasmUL1q9fj48++ghGoxEDBgzArl27kJ6ejpUrV+L06dNYunQpjhw5gjvuuAM7d+6EzWbDCy+8gLKyMtTU1ODBBx9ESUkJ/vOf/wDg0qEcP34cmzdvBgDk5+dH7DcGbQu0Tl1IUN9iC+kpIHmPk78304hQWOj+3dWQEotMxgWE+6Nz59Cu5yN5qJPff/feF8SbZJHLQ/M4Wa3iyyYgUW2fcYrY5ZwWLVqEkSNHAuAe8vn5+SgvLwcALFy4ELfccgsAoFOnTqitrcXWrVtx+PBhLFmyBAMHDsSIESMwY8YMfOkyS3T16tXo3Lkzrr76agwdOhRdu3aN2O8M2hbIcAoJ6ltsIT0FJG84xTRNfLiJIX/5JfDxIMvUuBFofSFfsxmDGEWNJhOX5oBgAi1jEBwxyznZbDZUVFS4eYS6deuGiooKVFVV4cCBAz6PXXTRRW655tq1a4f27ds7v5eXl+Ppp59GmzZtgsZnRnx5KBqqCwnqW2whPQXiZqiurKwMZWVlsIXi7UCM08Q3LUESMn/84f+Y3c5lDxbD1KmAx5I3TiZP9h5y69EjuDcpPd1tlh3RPGgZg+CIWc5Jp9PBZDK5lVOr1dizZw8qKysBwOuY53JQALBr1y5MnDjR+X3r1q3Q6/VYsmQJ7rvvPmRnZ+Pmm2/2Wc9ILw9VW1UFPv2vNSUFhqay8bg8lOfSRjU1NaKXK3Jd2oiWh6LloWKxPFTcGE5FRUUoKipypkUXS1ZWVgRrFYRw/iieORP4uM0mbqjs/vuB55/nUhL4olcvLt+Sr+sHIPPvfw9+b0I0MW2fcYJMJnN6m3gsFovb9GjeAHUtx5fxdyzdw2tjMBhw9OhRzJ07121/ZmYmZs6cCbvdjqVLl/o1nEpKSjBlyhS363Xo0AHZ2dnOFQ88n12uxpznb/RcJUFz/fXAyZNAXR2SMjLczvUs62louubg8YxV8Szr+t1zCnqwsq6aerZt17LJycluZbVabcD7pLm8hAYrm5qaCn94lnXVPJiGrmWDaRgNvT01DKZ3KBq6lg3UZgF3vYOVDUXvUDR0Lav2GMYWq3coHmLJD9VVx9usLjGGk5jg7FWruH8DGW+33+69z6NDeRJ3erZwSM/giFnOqVWrVlCpVG7ljEYj8vLynOV8HXNl8eLFWLp0qd96FBUVRXR5qKBtITmZGybv1o2bREIEhPoWW0hPAckbTozWMI4ewbxJdntowdm+Zs7xnDvnve/CCwNezuFwhBf0Tvgk7tpnDBCznJNMJkNBQQEOugxjHzp0CAUFBcjLy0P37t19HuNZtWoVRo8ejZycHL/1kMvluPzyy5n9Lk+oLbCF9GQL6SkgecMpaLLGSMKv5xYKwbxJYofqeFzy1bjhcAAes5Kwbx+3XEyAhZmTk5OBpplKoqEO55eYts84QexyTkVFRdi4cSMAzu1eWVmJMWPGAAAKCwudxw4fPozs7GwMGjQIALcMlEwmg1qtxpEjR/Dxxx/j66+/xrlz5/DWW2/BZrPB4XBgyZIlmONv4W0GUFtgC+nJFtJTIG5inMIlpuvrhDMVP5hRFIrh9NFH/g2xYcOEhYJd6dgx4CVTfvwReOihwPfNz3c32Ox238vEELT+k0jELOc0YsQI/Prrr5g+fTp0Oh3Ky8udMRWFhYUoLi7G7NmznekNAODDDz/Evffe6zbpJDMzE2fOnEFlZSVmzJiBuXPnYtCgQXjsscfQqVOniP3GoG1hxw4uAa5azWX0D7SAN0F9izGkp4DkDSej0Ri7NPEhzgAEALz4YuDj27dzD08x8IsCe/LCC9xDd968kKvnczaeJ55eLpuNDCc/xLR9xhFilnMCgOLiYp/ny+VyLFy40Gv/qFGjYPXzgtOpUyf8+eefYdQ2PIK2hY0bgeee47Y//5wMpyBQ32IL6Skg+aG6mBJqlu/jx4G33w5c5oUXQlvO5aKLvPfxQ2ch5pkBgKRgOaZ8EY4BSRCEO5QAkyBaBJI3nDynJkaUgQPdv4dqMLz6Kru6AJyBVFLiez8AXHAB2/v5g3IV+SWq7ZNo0QRtC2Q4hQT1LbaQngKSN5waGxujd7OvvnL/HorHafJkYP58931NwasBeeAB/8f8xRatWcN5twLNuBPLgw8GLzNzJvD444GzmCcoUW2fRFQoKytDjx490K9fv5DOC9oWKHN4SFDfYgvpKSB5wymm6+tcfz0XxBksN9NPPwEvv+y9f8CA4PcI1JhtNt/G0fffAxs2BPcEiZlBdN11wcssWMANMZLh5AWt/yQ9ioqKsG/fPnz33XchnUdr1bGF+hZbSE+BuAkOD3fJlZhy4gT3CdbgJkzwvV9MDFIgr5Fc7t/rZTYHN5x8xUd50pQmXxS04C9BhA8ZTgTRIogbj1O4b3EtYhZAMGPPX34MMbFBgXIkpaZyy674q5OvJVdc6dw5+P1DyVVFrl4vWkT7JFoEQdsCP1Qnk3F9mwgI9S22kJ4CcWM4hUtU08QPH+57/2+/BT5v/Hjf+1kEVXtM13ZitwMe6yJ5ISZL8vnz4utCq2t7QcsYEDxB2wLvcUpLYxOfKHGob7GF9BSQfO+Lapp4f0NRwYao/AV6eixs6JNAa8vJZP6vbbcHzgOTn+8+NOCPUJKikeHkBS1jQPAEbQt8f6RhOlFQ32IL6SkgecMpqmni/TWsYENU/obyrr46+D1HjPC9//nngb59/bv07XYgKUCI27Fj4vJFjRoVvAwPxTh5QcsYEDxB20LXrlzc4d/+Fp0KxTnUt9hCegpI3nDil1yICoEMp9pa4K23fAd8+wsCl8s5t3wg/GXkfvzxwENxdjtw1VWBry0Gudx/HJUnjY3A2bPA66+L82YlAFFtn0SLJmhb2LwZ2L8f+Prr6FQozqG+xRbSUyBuZtWFi8FgiF5Qmz/DyWoFcnOF6fh79wKdOgnDaG+95f+aU6YETgugVnN5kmbO9D4WaGjMbgcuvtj/cYAb6nv6aWDu3MBlpk7lAtwnTw58PYsFaN2a2x4/nssllZcnejmW9euBlSuDl2vbFvjPf9z3zZsH/PBD8HOHD/dOTXXHHeJymZaUcE4+nj17gFmzAp9jsdiRnMyl1nJ1AK5eDXz8cfB79url/V8/ZYr/tZ1duece4NZbhe/V1eLScgFcdokLLxRXlhBHVJ9VCQDpyRbSU0DyhlNU8TdLrbHRPYdRr17cX52DB7m/lrt2+T7PagWmTeP+gu7d67vMVVcBvXsDn3zibRnYbP6HCW027v7BmDaNi7XyswaYM4A9WKA54G3IdewIXHstsG2b2+6GBuD994Fx49yL//kn8MEHwW/Ttav3vh07OMMrGHl53vs+/FDcKKNnLtKzZ8XUl3N/e9rcv/4q7rf6ygaxZQtntAXD0+FoNou7JwA8+6y4colIXKZOIQhCNJIfqkuPZoZdfwbQ99977zt6lPtLHig5Zn4+F6MU7K9Uaqpvb8/58/6HAWWy4LFX9fXcUOGUKf7L8IbT3/8OvPQSsGgR0KWL77K+gt0rKrxSGixYwHlDVq1yL0oTiYh4INzUKVF9ViUApCdbSE8ByXucovbWF2jGgb816G691X+Adt++nCcJCDyUZbdzFoUvq2LxYv/Wxt13c/ESgeCTZ77/vv8yvOHUqxfnrhk5knMN+cJfXigX7RwO4P/9P267sJCLPc/M5L7ffz/3PViWBl9yvfFG8DykgO9JiGKGvQDA04s9cCBQWRn4nIaGBqSmpno1g6efBv7v/4Lf01e85ubN4jxkGo3799zc4PV1LUuwJeCz6tgx4N57uQZ6003Av/4VvYrFKeTxYwvpKRA3hlO47m+TyYS0YAHWLAhlXTpX/P2FGzpUsABuvZX7S3X2rHc5flkVX9aCSuV7Vl1KCmfErFghrm6BXD2uAYM5OYGvt3q17/0u19+zR3BAXXedYDQBXDhXuDOxW7UK7zzA9/CdGFSq4OfqdA3Izvb+P8rMdP/tocCHkYWKQhH+byWaT8Bn1fnzwPbt3DYFl4kias/+BIH0FIibwY9w3d9Rg/U6Pk88IWzLZL6jkwcNAn7/ndvu1Mn7+MCB3oFCADBxIvfv4cOB68Df05/Hq0sXccuy8BQW+t7fti2wcSPw3HP4cbdgSIpZBo8gEgLXBX4pjxNBxJS4MZzCJSsrKzo3YjX++/nn3HhJSoq7sTR3rvuULQD46itAr+e2+/d3P5aaCtx3HzB4MBd/5ApvCP36q/t+T1eFP8Np0CDu3z//FAK+m5teYPhw4Nln8cDDQpB5jx7Nu2Q8ELX2SbR4ArYF1/5FsSaioL7FFtJTQPKGk543LCJJVRW7a/3nP0C7dtzD8ZNPhP0TJ3LB58uWuY/huAb8uM5L/+ADweDxnMP/5JPcv675YF59FfjrL/dy/gwn1zdePsDcta6MSIQ8f1Fpn0RcELAt0AK/IcOqbx04ADz3HBc90a4dt1iDWs3Nm3H9vPSS+3mVld5l/H327XM/9/XXxZ3n6xl5993izvU1AHDBBf7Lp6cL256zb3ftEv9bPecrzZ0r7rzBg73rO3hw8PO2bAnyHxwGcRPjFC72cGOPQoHl3GxXA4Q3yA4eBMrKOEPmhhu4ZDsvvMAdczWc/AWod+sGGI1cT27VSohFyszkhhh1OqBNG27fP/4h1KFPH+5fzxgn19QDvOEkMheTGDJRAz20uOACZpdssUSlfRJxQcC2QEN1IcOibx0/znm+xVzKM1zV4eBSq4jB89Fts4k71zXLDY/FIu5cX2n+GhoCnSv8rfGMHLHbxf9WTxobxZ3rKxrGbA5+biQesZI3nJRi8gs1l0iYtIDQE0+eBJYu5bbVasFoAtynQSUlCdOsPI0dtdp3PFJysmA0Ae4B3vxUL0+j6H//E7b/+IM7n2GugH9jCeYkzUqIvw9RaZ9EXBCwLdBQXciw6FsdOwJ33gmUl3Pfc3O5d0+FwvuR5zk3RqnkJhuLwXPJz6wscef6mgjSsaO4c9u3997Xs6e7je6K3W6DXM79LfCcuJKWJv63eup2wQXizvWV5aZLF//15YnE3xHJG06p/tZqY8nRo+7f27TxHvYKB95wcvUqnTvnXoZ/5di6FXjxRe6h+tRTnGcqHFznxfPepEDz/8+f5/5l6HGqgRbZ2cHTDkiBqLRPIqqEOwM4YFugobqQYdW3Zs8GLr0UGDuWS60nlgsuEJeI1he33859wsH1vTpUdu70f8xqdfjNnnPppeH/1kmTuE84BFp0I5JIPsbJ4C8BZCRhYTQBguHk6qN87TX3MvzD2WrljJjqav9ZvsXg2jPEJAPiyzA0nGxQeOVEkioxaZ9ERAl3BnDAtkBDdSHDqm/97W/cu2goRpMUoWeVgOQNp7jjttuE7e7duX8931xdvUmXXcb9y8pweeop4McfudcH/v4ufmTTffcBt9wilOfXu2M4VHff+KSAy+MRRMJBQ3VRoaEBuOsu4NtvY10ToiUj+aG6uEsT/+KLXO/t1g0YMYLb5xndtmoVZ+BcdpkQwB0sJ5NY8vO9X6369OEWe1MoIMvO5gypjAzgyiuFwek//mBzfwBXXKnAFbcFLycF4q59EhEjYFsYMoSLR6yt9R2cQngRTt969VXg3Xe5z7x53MLdBAc9qwQkbzjF3aylDh2Azz5z3+e5Nkbbtt5ZuCM5tpWZCQwYAACwNzRwOaLefNO7DCteeQV45BF212vBxF37JCJGwLYwYoTwIkWIItS+VVsLlJZy2zIZye0JPasE4maorqysDD169EC/fv1COq8h3DmSLYmBAzmvj0IBvPee7zK33ipsz5kTsar41fOee0LLIh6II0fYXCcOkET7JJhAbYEtoeq5dKkw92bsWPGzxBIFap8CceNxKioqQlFREQwGAzJZejfiAbkc+O47LvDb33pwCgU3pFdXF5vg0eRk4Lff/C9aHAI2qx2HDwJduzKoF0EQRBCqq4FFi7hthcI9lzBBeBI3Hqdw0Wq1sa6CeAJ5bBSK4IvoymQRN5oC6umZ3GTMmLDuYW6w46mnwjo17oir9klElIBtobZWSA9CiCKUvrV4sbB61X33cSGmhDv0rBKQvOFkNBqjf9NbbgFmzQr9vDhIlR1Uzy++AK66CnjmGe4V7sUXfZe7/36/l9iPi5EoeSFj0j6JFknAtnDVVZxXN9jLE+FEbN86e1Z4TCmVbBeCkBL0rBKQvOEUahK6sOjY0f27XM71vuXLvcvy/mBf5OayrVcECKpnQQE3l3f2bG523mOPeS/EBHCLMfnhE/wjYQynqLRPIqqEG48ZsC3w6QgSpWMwQGzfWrBAkPfhhylfkz/oWSUgecMpiUHMTVA6d3b//vHH3L8PPgh8+aWw/+WXgccfBwYNEvZ16CBsx8GrTlh6du/OvdY99xy3vX49t/8f/+D+7dIF+OQTHH/jS2hRjZmYxSJUKi6ISvskokq4CTADtgX+LzslvxSNmL5VVcUtAwoAKSnA009HuFJxDD2rBJgrUVdXhyeeeAKZmZmoq6vDokWLoPJciAfA8uXLsX//flRXV2Py5Mm4jE/kyJio5J7wnKb59tvC9uDBwO+/cw88Pv/KO+9wUzhuuAG4/nohB1IcDKyHrWdODjB9OvfhWbYMuOYa4Oabge7dod8L8OuZJ8qLNeVGIXgCtgU+czi1F9GI6Vs1NcDll3Np6v71Ly7TC+EbelYJMDecJk2ahFGjRmHUqFFYvXo1SkpKsHjxYrcyW7Zswfr16/HRRx/BaDRiwIAB2LVrV0T+Y/R6PbIjvX6Hq+H011/esUp8dm2e9u3dh+ziwGDiYapnXh7ngWvCdYWXRDGcotI+ibjAb1tobBSWXSKPk2jE9K0ePYCvvwY+/xzo2zdKFYtT6FklwHSorqqqCuvWrcPw4cMBAMOHD8eyZcu8gsoWLVqEkSNHAgAyMjKQn5+Pcn756XjEdew3DuKUWiquk4bIK0y4UldXh8LCQpSUlGDy5Mkwu67f6MLy5csxdepUjB8/Hj///LPbsXnz5uGpp57C+PHjcezYMef+3bt349JLL0VmZibuvvtut+eV2PtGFNd16uitnzkyGTBsGMXdE+Jhajht27YNOTk5SElJAQDk5uZCpVJh9+7dzjI2mw0VFRXId4nA69atGyoqKlhWxUlaWlpEruvEahWWlFYouF4oYSKpp2vC9ETxOEW8fUqESZMm4frrr0dpaSn69u2LEh9rYfCe7BdeeAFLly7FuHHjUNdkdKxcuRKnT5/GggUL8Mwzz+COO+6A3W5HY2MjXnjhBZSVleHtt9/Gli1b3K4t5r6s8NsWXNepI4+TaKhvsYX0FGBqOFVWVnq58tRqNaqqqpzfdTodTCaTWznPMq6YzWYYDAa3jxh+W/EtvrrvNXxz/0qc+fVMGL9GJElJAN+gLrlE8oaTw+GI2LVd3/gS5cU6knpKBRae7IULF+KWpsWpO3XqhNraWmzduhWHDx/GkiVLMHDgQIwYMQIzZszAl00TOsTelxV+24Krx4kMJ9EE6luzZwObNwPU/cRDzyoBpgMiMpnM6W3isVgsULq4D2RNhoVrOc8yrpSWlmKWj5xIOp0OVqsVWq0WRqMRNpsNSUlJSE9Ph16vx+mX3sJ1e7jpEjuvughJeX2g1WpRW1sLq9UKhUKBjIwM1NTUAABSU1Mhk8lQX18PAM7gdr6sRqNBdXW1s+4KhcL5Nqvt1w+yn35C3eTJsNbUIDMz061sUlISapveGjMyMmA2m2GxWCCTyZCVlQWdTgcAUKlUUCqVbmUtFotzeCA7OxvV1dVwOBxITk6GSqVyPsTVajUaGxvdytbU1MBut0OpVCI1NdVpdKanp8Nms8FkMgEAsrKyoNfrnWXT0tKgb8oGl5aWBofD4Uy3b7fbYbFYvPTmywLwq2EwvS+5xAQgHZ062XDXXXLodL711mg0aGhoQGNjI+RyObRabUANA+mdnJwcUMNAelutVr8aBtPbYDDAZrOhoaEBbdq08au3Z/tWq9Wi26yn3nK53K+Gnm3WU2+TySS6zbrqrVAo0FwCebKHDBkCQPBkP/HEE87zeE/2TTfdhAMHDvj0cj/33HNu92rXrh3aN03iEHNfV8xms9tQntiXPJ6GhgakpqZ6H3D1OCXKGwUD/Om5Zw8wYwa3PWYMsHZtlCsWp/htnwkIU8MpLy/P+QeAp7a2Fnl5ec7vrVq1gkqlcitnNBrdyrhSUlKCKVOmOL8bDAZ06NAB2dnZ0DQtfuu5BEt2djaUycnO76rkNKeHS+OxYK6nh8zVoPNb1m4H5HJhtuDGjUByMtQuWbM9r+v63dNIDFbWNWg+KyvLb9nk5GS3sp6ZXj3v4+p6DVaW7zA6nc6n3q6I0tBH2YED01FXB6SmKpocd+5lXWdnZmRkBLxuuHp7ahhM71A0dC3La6jT6aBQKPzq7VrW33VD0TsUDV3Lqj08HWL1DtV48EVzPNl79uxBZWWlVx39ebl37dqFiRMnir6vK+G+5AFc27BYLE6D1PUlL/mvv8Cr35CUBDQ0hP2SF8xgltpLnl6v99K7uFgNgPv7cOmlddDpzCG/5NXX14t+6ZDSS57NZqOXPDA2nAoKCvDwww/DYrEgOTnZ+YC58sornWVkMhkKCgpw8OBB9O/fHwBw6NAh3HPPPT6vqVKpfKYzCIZMIQyZ2RoZrup8/jyXQmDuXKDJhQ8PL5uUYZl2/+uvgSVLgBUrAK2WG/VMtKBwWsYgOM31ZPs75jmL12Aw4OjRo5g7d67o+7oS7kseT+vWrSF3eflyGsGDBgHffAPU1iK1QwegyaiOlMEslZc8u93upicAHDqUjQ0buO28PGDKlHSkpnL1COUlL5SXDqm85PF60kse4xintm3bYtiwYc5A702bNqGwsBAqlQrTpk3DqVOnAHAJ4jZu3OisbGVlJcaEua6ZP+RyF8PJynBsdsIE4KefuNxDq1axu26cUOs6bNAMGhqAu+8GPviAmwZ84gSTy8YdrPSUMs31ZPPlgnm5Fy9ejKVLl4Z0X1dUKhU0Go3bJxT8tgWNBrj6ai7vW/fuIV0zkfGl5zPPuG/TyJN46FklwDxz+LJly7BmzRrMmTMHe/bswdy5c2EymVBeXu6cAjxixAj06tUL06dPR3FxMcrLy73e7JqLm8eJleH0xRdCVvCcHMBHnIPUsbomW2oGS5YAx49z2+3bJ27iOVZ6SpmCggKcPHkSFosFAIJ6snkOHTqEgoIC5OXloXv37j6P8axatQqjR49GjssMBTH3ZQm1BbZ46rl9O7BpE7d94YXA+PHRr1M8Q+1TgPnASE5ODl577TWv/UeOHHH7XlxczPrWbsgVgk1obWRkOM2bJ2wvXuy+XEqCwCLYt74eeP55/nrAq68m3hAdDws9pY6rJ/v666/38mQ/+uijaNu2LYqKilBeXo577rnHy5NdWFiIjRs3YtCgQTh8+DCys7MxqGnpo3feeQcymQxqtRpHjhzBnj170KpVKwwcONDnfVm/5PFQW2CLq54Oh/uiBTNncmsmE+Kh9ikg2T9XchePk93KIMbp11+Fdee6dQP++c/mXzMO8RxrDoc1a4Cm2D7885+JPfrAQs9EYNmyZSguLsauXbug0+kwf/58pyd75MiRaNu2LUaMGIFff/0V06dPh06nc/NkFxYWori4GLNnz3amGQCADz/8EPfee6/bAqaZmZk4c+aM3/tGCr9tYe9eblmm9HSgXz+gVauI1UFKuOq5aRPw1Vfc9sUXA+PGxahScQw9qwQkazjJWMc4vfOOsF1UBMiZj3LGBTU1Nc1Ou+8aGlZU1Lz6xDss9EwEmuvJlsvlWLhwodf+UaNGBRyC8HffSOC3Lbz7ruDt3rwZGDo0KvWJd3g9Pb1Ns2Zxnm4iNOhZJSDZv/6uHqdmD9U5HJybBOAMprFjm3e9BObcOW42HcA57iIULkIQ0oESYDYLvV5w0l16KTB6dGzrQ8Q/0vU4ZWlRJW8Ph0wGpTr0dAZuHDwIHD7MbQ8eDLRu3ez6xSvNTYD22WfCmsi33CL5ROtBoYRyBI/ftkAJMMOC11Or5VLtbd/Ovfcm6GBBs6FnlUDcGE5lZWUoKytzi0UIRJ/yJ4HyJ2EymTCkucGcmzcL2zfe2LxrxTmyZlo6W7YI2//4RzMrIwGaqyfR8gj1WcXjty3QWnVh4annNdfEqCISgZ5VAnFjexcVFWHfvn347rvvQjqPz1TaLFzvef31zb9eHNNcPb/5hvtXpaJhOoBR+yRaFMyfVWQ4hQX1LbaQngJx43GKKa+/zs1f3b2bGyQnwuarr4AdO4DKSs54IggiCK4xTjRUJ5oNG5RIT6eQAII9kjecPFPAh4VMxmVMu/DC5l8rzmmunm3bArffzqgyEoBJ+yQkgd+2wHucZDJKdS0Ssxl4+mk1jh3jVibYuhWg2fTNg55VAnEzVBcq55a9h90XjsHOdqPx9tQfY10dyVDn+vZLNBvSk+Dx2xZ4w0mtJteJSFasAI4d47TKySGjiQX0rBKQrMdJfuB3XHnsPQDAjh8einFtpAOl3WcL6Unw+G0L/B8sGqYTRUMDMGeO8P2552JXFylBzyoByRpOqWnCm1mtoRmZw59/Hjh7FujZE7jjDiBCyy3EC81Ju//yy9zb3yWXAL16MaxUHEPLGBA8ftuCSsU9dygwXBSvvAI0rSePUaO4oTqi+dCzSkCyhpMqVTCcDPpmJMB8801gzx5uMbW77mJQs/gm1BXfeaxW4IknuNiDHj2A335jXLE4JVw9Cenhty3wixOHmN4gETEaAX5VHJnMgdmzaWiTFfSsEpBsjJPcZcmVM6cdcIRjO1mtwIED3Ha3boBSyaZycUw1v8hciBw+zBlNAGc4ERzh6klIj6Btgd74g7J0Kbc6AQDcfrsFl1wS2/pICXpWCUjWcHJND1tX58DZs2Fc4/hx4a/9xRezqVeCsm+fsE2GEyFlysrK0KNHD/Tr1y/WVUkoqqu5yAqAszGffLIhthUiJIt0DSeX2Sdy2J0rY4eE6wKinTs3v04SICXMGC8ynHwTrp5EyyXcBJjUFprH889z69IBwP33Az17Jse0PlKD2qdA3BhOIb/FuRhOMjjw6quAyRTiTclw8iLcAEFXw6lnT0aVkQAUcEnw+GwLlZXAvfcCkyYB774b/UrFESdPcv8qlcAzz1DfYg3pKRA3weFFRUUoKiqCwWAQl4jLw3DasgVYtw645x6hyJYt3DPJH8WGw3iU/9Kpk9uxZ54BVq4MXo3rruPiy10ZNEhYMzgQs2cDEyYI30+cAPr3D34ewC1o2aWL8P3NN4Hi4uDntW8P7Nrlvu/BB4ENG7htu13pd5HMceOABQvc9/3tb9z04Koq7rtCAXTtKu43JAJ1dXVQUQp1An7awl9/CQ8QmQwYOzb6FYsT3ngDmDwZ+OEHID8f0Omob7GEnlUCcWM4hYzLX/ckuQOwA+3auRcxm4U/6L7IgYvHycNw0usDn8tz/rz3vjNnxJ3rmW/MZhN3HsDFtbtSXy/uXF/x7zqd67n+nZQ1Nd77Tp3i7s1z6aW01ApBiIbWqQuJK67gPgQRSaRrOPXqBUyYALvDgWevuRCpX3qPtqWkAB06+L9Et9NHAUvTl/x8t2NZWYHP5cnN9d7Xti3nhQmG53NSoRB3T4DLnuB5LTHn5uV578vJcT3XAcD3FN+sLO997dsLvzUry9sjlejQFF+Cx2dboHXqwob6FltITwGZwxHWRP2YwQ/V6fV6Uf+RRqMRGeHm2+/YkRsfa90aOH06vGtIjGbpSXghdT1D7a9Sgsmzau1a4M47ue3nnwemTo1ATeOXI0eAb77hUux5huBIvW9FG6nrGUp/jZvg8HBpbGwM/+R//AO4+WYuUIkA0Ew9CS9IT4LHZ1tw9TjRUJ0Xs2Zxcau9ewO//up+jPoWW0hPAekO1TUh9xfJLIayMnYVkQjN0pPwgvQkeHy2BdcYJxqqc2P/fiFu/tQpLizAFepbbCE9BSSvhKgZeIRoSE+2kJ7SI9wEmD7bAnmc/DJjBmBvWob0iScArdb9OPUttpCeAtI1nJYvBzQaICMDKC+PdW0kA6XdZwvpKT3CTYDpsy2Qx8knv/zChX8BXAjqo496l6G+xRbSU0C6Q3WNjYDRyM3/Cmds1uFwywVFEAQRdcjj5JNnnxW2S0pIGiK6SNfj5Gr0hDNxcO5cIDsbuOQSYMcOdvWKcyjtPltIT4LHZ1u47DJuVt3NN3OuFQK7dgH/+x+33a4dMHGi73LUt9hCegrEjceprKwMZWVlsNls4k5oruF09iy3amR1Nfymyk5AkjwTRBHNgvQkeHy2hfvu4z6Ek2eecd/29/ec+hZbSE+BuLEIQo4bcDV2+AjCUDh3TtjOyQn9fIlS6xpzQTQb0pPgobYQnIoKYPNmbrtTJ+CBB/yXJT3ZQnoKxI3hFDLN9TiR4UQQBNGi+PZb4Z145kwgOTmm1SESFDKc/HH2LPdvUhJA0zCdSDlzbCwgPQkeagvBeeopLtHlY48Bd98duCzpyRbSU0C6hpPrUF1zPE45OTS7zgWz2RzrKkgK0pPg8dkWrr6aW0DyssuiXp+WSvfuwIsvei+x4gn1LbaQngLSNZxcjZ3mxDjRMJ0bFosleCFCNKSn9Ag3AabPtnDqFPf56y9GtUscqG+xhfQUSAzDKVSPU3090NDAbZPh5IaMvG9MIT2lR7gJMH22BT4gN4GTX9pswNtvA6H+3aa+xRbSU0C6htPgwcCaNcC6dcANN4R2LgWG+yUrKyvWVZAUpCfB47Mt8AkwE9hwWrsWGDcOuPhiYMMG8edR32IL6SkgXcPpwguBO+6A7rrrgM6dQzvX1XBq1YppteIdnU4X6ypICtKT4PFqCzab4PlO0NTYViu3Jh0AHDkS2iw66ltsIT0FpGs4NYcLLwTefx9YsSL41A2CICJOXV0dCgsLUVJSgsmTJ/sNVF2+fDmmTp2K8ePH4+eff3Y7Nm/ePDz11FMYP348jh075nbs+++/x7Bhw1BRUeF1zbfffhsymQwymQytW7eOXpBsfb2wnaAep9WrgYMHue3Bg4HrrotpdQgCgJQzhzehUqlCv1l2NnDbbaGflwCEpSfhF9JTHJMmTcKoUaMwatQorF69GiUlJVi8eLFbmS1btmD9+vX46KOPYDQaMWDAAOzatQvp6elYuXIlTp8+jaVLl+LIkSO44447sHPnTsjlctTV1UGv16OiogLFxcVe9/7qq6+wuSnrYuvWrSP2f+Z1XdeEgwnocTKbgVmzhO9z5oQ2wZn6FltIT4G48TiFHHB57hywYweSv/sOqKqKbOUSCKVSGesqSArSMzhVVVVYt24dhg8fDgAYPnw4li1bBqPR6FZu0aJFGDlyJAAu50x+fj7Ky8sBAAsXLsQtt9wCAOjUqRNqa2uxdetWAEB6ejqGDBmC3Nxcr3tv3rwZKpUK/fr1w9ChQ9G7d++I/U6vtuC6wG8Cepxeew04fpzbHj4c+PvfQzuf+hZbSE+BuDGcQmbzZuDvf4eyoICLLiSYQGn32UJ6Bmfbtm3IyclxLjKam5sLlUqF3bt3O8vYbDZUVFQgPz/fua9bt26oqKhAVVUVDhw44POYK3Ifa1K+/fbbePXVV9G6dWssWrQIjnBywonEqy0ksMepvp7zMPE891zo16C+xRbSU0C6hlNz0hEcPAjs3Ans2ycEZxIEERMqKyuRnZ3ttk+tVqPKxZOs0+lgMpncyvFlKisrAcDnsWCsWrUKNTU1WLx4MZ555hm88sorfsuazWYYDAa3T7NIYI/TK68Iqatuuw244orY1ocgXImbGKeQaU7m8P/8B3jpJW57506gf3929YpzKO0+W0jP4MhkMqe3icdisbgNHfA5ZlzL8WX8HUsXaYykpaWhqKgIqampmD9/PoqKinyWKy0txSzXoJwmdDodrFYrtFotjEYjbDYbkpKSkJ6eDr1e77yHUql0zlzSarWoa9MGsv/+F3KTCSlXXIGapmOpqamQyWSobwoez8zMRF1dHaxWKxQKBTQaDaqrq52/WaFQoK7JCNNoNGhoaEBjYyPkcjkyMzPdyiYlJTk9CxkZGTCbzbBYLJDJZMjKynLWT6VSQalUupW1WCzOwPns7GxUV1fD4XAgOTkZKpXKObSqVqvR2NjoVrampgZ2ux1KpRKNjakoLZUDkEMmc6CkxASdjnuBzcrKgl6vd5ZNS0tz09DhcKCh6WWX19ef3gD8apiRkYGamhq/etfX1/vVMJDeWq02oIaB9E5OTg6oYSC9rVYrTCaTTw1TU1OdRn56ejpsNptbWYPBAJvNBplMBpvN5ldvz/atVqsDahhIbz72UEyb9dTbZDKJbrOueiuCpaJ3QbqGU3M8Tk3/gQAArZZFbSSD5x8sonmQnsHJy8tzPqx5amtrkZeX5/zeqlUrqFQqt3JGoxF5eXnOcnq9Hqmpqc5jPXv2DKke999/P5588km/x0tKSjBlyhTnd4PBgA4dOiA7OxsajQYA9wfDFVcvmM1mc/ue0aUL0KWLUNbjfq6GIH99X9cF3AN7PY11z7Ku3z3bZrCyrsaoZ94f17LJycluZbUuz9nPPgP48LV//lOGvn1TAaT6LOurTvz/cV1dXUC9gdA0dC0bTMNo6O2pYTC9eWMRCK6ha1lew7q6OigUCr96u5b1d91ItVnXsmqPYW2xeofiIWY2VHf69Gk8/PDDePLJJ/H0008HjAX45ptvnNN7k5OT8VcklhNojuHk+pCmBX7doPWK2EJ6BqegoAAnT550LvnAD7FdeeWVzjIymQwFBQU4yM9dB3Do0CEUFBQgLy8P3bt393ksFGQyGa4IMGakUqmg0WjcPqFAbYHjppuAP/4Axo8XcjiFA+nJFtJTgJnhNGbMGEyaNAkLFy6ESqXCyy+/7LfsunXrsHnzZmzevBlff/012rRpw6oaAs1Zq448TgTRYmjbtq1bjqVNmzahsLAQKpUK06ZNw6lTpwBwM283btwIgHt7rKysxJgxYwAAhYWFzmOHDx9GdnY2Bg0a5HYfh8Ph9sJnMpmwYsUK57DF0qVLMXPmzIj+VoLjwgu5NHpdu8a6JgThDRPD6dtvv8XRo0fRp08fANx0YX8zUA4cOIC//voLvXv3xtChQ93eGpnSnBgn3nBKTgY8YisSHU+3J9E8SE9xLFu2DGvWrMGcOXOwZ88ezJ07FyaTCeXl5c5kliNGjECvXr0wffp0FBcXo7y83Dk0UFhYiMbGRsyePRsLFy7EunXrnNe22WwoLy/HX3/9hbVr1+J40xx4s9mMl19+GRdffDHGjx+PK664AgMGDIjYb/RqCydOAN99B/z+u3ugOCEK6ltsIT1dcDBg7ty5joEDBzq/19TUOAA4Dh065FV2+vTpjpSUFIdcLndMmTLFYbFYQrqXXq93AHDo9frABT/80OHgTCaHo7Q0pHs4LryQOy83N7TzEgCdThfrKkgKqespur9KkFB/u1dbmDFDeIZt2MC+gi2ML790OOrr2V1P6n0r2khdz1D6KxOPk+d0YT44y9d03+eeew56vR5vvvkmXn/9dUybNi3gtcOe4tucGCc+MjHEGIVEwBHBPDaJCOlJ8Hi1hQTK43TyJDBsGBcLv2IFm2tS32IL6SkgelZdSUkJ9u7d6/PYl19+iREjRji/80Gc/mYLJScn45///CfatGmDESNGYP78+X6nAoY7xVdZWws+Dr++rg4mnQ5arRa1tbVBp5xm1dZCBsCWlga9TieJKb7BppyKneKblJREU3zBbopvY2MjTfElAHDPRTdcDSeJ53GaO5dbYuXUKeDAATbX9NKTaBakp4DMwcCMnDdvHrZv3+4Mvjxz5gwuuOACHDt2DB07dgx4bvfu3bFt2zZccMEFPo+bzWa3aH5+iq9erw88a6WxEWhoQKPVCqVaLX5Z7cZGoezAgcBXX4k7L0FobGyk6fMMkbqeBoMBmZmZwfurBAn1t3u1hXvuAd56i9v+4w/JRkofOQJ06wZYrUBGBve9VavmX1fqfSvaSF3PUPork6G6IUOGeE317dy5c1CjCQA6duyI1q1b+z0e9hRfpRLQaGAExBtNgHsQpsTd4+HguT4Y0TxIT+lRVlaGHj16oF+/fiGd59UWEsTjNGsWZzQBwL//zcZoAqhvsYb0FGBiOF111VXIyspyGk+bNm1yJoKrq6vDE0884RxOWLFihXNY4r333sODDz7ozOzbItBqOZ/x+fPAm2/GujYEQcQZIS9I7o8EeInbv194zGZlAS75QwmixcIsj9OaNWswf/58ZzxSYWEhAODcuXMoLy/H2bNnYbfb8dZbb+Hiiy/GPffcA6VS6cyzEik8s4iKIjkZyM4GcnLYVyjOCUtPwi+kJ8Hj1RYSwOM0Y4aQZu/JJ9nmG6a+xRbSU4DZkitdunTBCh/TIfLz83Hy5Enn9y+//JLVLQPz55/A6tWc9+iGG4DrrovOfSVOY2MjBQkyhPQkeLzaAu9xSkkBJBhk/8svwNq13Hbr1sCjj7K9PvUttpCeAtJdq+7PP4HZs5EMcB4kMpyYYDabRS+OSgSH9CR4vNoC73GSaPt45hlhe9o09j+T+hZbSE8B6RpO4WYO37sXePttLqbghhuASGU2JwiCCARvOElwiKSqCvjiC267fXvgkUdiWx+CCAXpGk7hrlW3dy+wYAG3rdGQ4eQBpd1nC+lJ8Hi1hcOHueE6CS6umpfHDQrMmwdcfnlkVraivsUW0lMgMQynUDxOCZStNxxqamqgpYWPmUF6EjxebSE9XbLDdADQti0QYC34ZkN9iy2kpwCzWXUtDjKcIoI9FO8dERTSU3qEm8eJ2gJbSE+2kJ4CcWM4hfwwCjfGydVwysjwXy5BkXLm2FhAekqPcPM4JUJbOHAAELvcaHNJBD2jCekpEDeGU8gPo3BjnFyzo5LHyYvU1NRYV0FSkJ4Ej1tbOHeOm3Y2fz7w+eexqxRDHA7g7ruBTp2AhQu51a0iCfUttpCeAnFjOIUMi6E6CccXhIshWq+LCQLpSfC4tYWqKmDOHKCkBHjvvdhViiEffQT88AOg0wHvvhv51FTUt9hCegpI13AKd6iuaWkYAGQ4EQQRG1yXW5HAc8hmc8/b9Nxz7o9ogognpDurTqMB+veHHYA8P1/8eQ0Nwja5Jr2gBGhsIT0JHp/JLwFJhAysWQP89hu33b8/cNNNkb8n9S22kJ4C0jWcevUCdu6Eqb4eaWlp4s8jwykgNpst1lWQFKQnwePWFiS0wK/Vyq1JxzN3rnskRaSgvsUW0lNA8s5Sk8kU2gk9egADB3JZ2UIxuBKEkPUkAkJ6EjxubUFCsZZvvAEcOsRtFxREb/Ur6ltsIT0FpOtxChc+azhBEESskIjHyWwGZs8Wvs+ZE7u6EAQrJO9xysrKinUVJAXpyRbSU3qEmwDTrS1IxOO0fDlw/Di3fdNNwNVXR+/e1LfYQnoKSNdw+v13oH9/2Pr1AxYtinVtJINer491FSQF6Sk9wk2A6dYWJOBxcjiAsjLh+3PPRff+1LfYQnoKxM1QXVlZGcrKysQHqNXXA7t2cT/wqqsiWbWEgtLus4X0JHjc2oIEZtXJZMA333DvrVVVXNhoNKG+xRbSUyBuDKeioiIUFRXBYDAgMzMz+AnhZg6/5hpuZl3XrsA774ReUYlDaffZQnoSPG5toX17bt5+bS0Qx6vSZ2cDpaWxuTf1LbaQngJxYziFTLiZw3/8kXOT0wwCn4SU2oEICulJ8Li1hcmTuQ8RNtS32EJ6Ckg3ximczOEOh5A5nHI4+YTGudlCehI8UmkLej231F6skYqeLQXSU0C6hlM4Q3UWi2BkkeFEEAQRMgsWAJ07c0kv6W8tIUUSw3AS63FyXaeO3JI+IXctW0hPgkcKbeH0aWDpUsBoBObPj63hJAU9WxKkpwDFOLlCy60ExRFKvBgRFNKT4HFrC3feySVAys4G1q+PXaVCZP584f3zkUeAjh1jVxfqW2whPQWk63EKJ8bJ1eNEhpNPGlyNS6LZkJ7SI9wEmG5t4aefgG+/BXbuZFy7yHHyJPDqq9x2aiowbVps60N9iy2kp4B0DadwYpxcGwa5JQmCCINwE2C6wedxiqMcTnPmcEusAMCjjwJt2sS2PgQRKaQ7VJebC8yYATsAeZ8+4s4hj1NQtFptrKsgKUhPgsetLfCZw+NkuZXDh4EVK7jtjAzgySdjWx+A+hZrSE8B6RpOOTnAzJkw6vXiEmYC5HESgdFoFK8nERTSk+BxtgWHI+48TrNmAVYrtz1lCtCqVWzrA1DfYg3pKRA3hlPIS640EVL5Tp2AhQs5Ayqaq1HGEaHqTwSG9CR4nG3BbBbCC+LA4/T778Bbb3HbWVnAv/8d2/rwUN9iC+kpEDeGU8hLrjSRlBTCT8zPB554IozaJQ4h6UkEhfQUR11dHZ544glkZmairq4OixYtgkql8iq3fPly7N+/H9XV1Zg8eTIuu+wy57F58+ZBr9fj7NmzmDFjBvLz853Hvv/+e0yfPh0lJSW49tprnfttNhuKi4uRlJSE8+fPY8GCBRFbJd7ZFuJsnbrnnxfsvKeeAlqKU4L6FltITwHpBofb7YBej/TGRvcHEdEs0uPgDTieID3FMWnSJFx//fUoLS1F3759UVJS4lVmy5YtWL9+PV544QUsXboU48aNQ11TrNDKlStx+vRpLFiwAM888wzuuOMO56KldXV10Ov1qKio8JpyPWvWLOTl5aG0tBTjxo3DhAkTIvYbnW2Bj2/idkbsfqx48UUuMPzii4F//SvWtRGgvsUW0lNAuobTsWOAVgtFTg7w0EOxro1koLT7bCE9g1NVVYV169Zh+PDhAIDhw4dj2bJlMBqNbuUWLVqEkSNHAgAyMjKQn5+P8vJyAMDChQtxyy23AAA6deqE2tpabN26FQD3B2HIkCHIzc11u57FYsGLL77oPG/gwIH44osvcPDgwYj8TmdbcDWc4sDjlJEBPP008NtvLcvOo77FFtJTQLqGUzgJMGtrudS3NTVCpCNBEDFl27ZtyMnJQUpKCgAgNzcXKpUKu3fvdpax2WyoqKhwG37r1q0bKioqUFVVhQMHDvg85opc7v44/P7772E0GtGxKYujXC5Hly5dsH37dp/1NJvNMBgMbp+wcPWQtyRLJAhy6f41IQg3pDtoGY7h9Prrworkb70F3H03+3rFOZR2ny2kZ3AqKyuRnZ3ttk+tVqOqqsr5XafTwWQyuZVTq9XYs2cPKisrAcDrmOv5/u6r0WjcYjsCnVdaWopZs2Z57dfpdLBardBqtTAajbDZbEhKSkJ6errzLT4tLQ0KhQI6nQ6y1FRkzpuHRp0Olssvh12vR0ZGBmpqagAAqampkMlkqG9Kn8LHfVmtVigUCmg0GlRXVwMAUlJSoFAonEOWGo0GDQ0NaGxshFwuR2ZmplvZpKQk1DYZbhkZGTCbzbBYLJDJZMjKyoJOpwMAqFQq1NQokZoqlLVYLDA3JXLKzs5GdXU1HA4HkpOToVKpnB5CtVqNxsZGt7I1NTWw2+1QKpVITU11Gp3p6emw2WwwmUwAgKysLOj1emfZtLQ0Nw0dDoczUWNKSgr0er1fvQH41TCY3vX19X41DKS3Vqt101CpVIrWOzk5OaCGgfS2Wq1+NQymt8FggM1mg91uh81m86u3Z/tWq9Wi26yn3nK5XHSb9dTbZDL51TCQ3gqFAmKRruEUTubwpsYCAPAReEoQRPSRyWRObxOPxWKBUql0KwPArRxfxt+xYDEbYu7rSklJCaZMmeL8bjAY0KFDB2RnZ0Oj0QCA18QWT4MwJSWFW2alVy+oAKiClW2Cv76/sq6B9BkZGQHLun73/K38sS+/BG66CSgszMZTTwFKJVfWVVPPIHrX6yYnJ7uV9cwR5Fkn1xeMYGVTm3LwmUwmcXo3EUxD17LBNGStt6/vnhoG0zsUDV3L8hqaTCYoFAq/eruW9XfdSLVZ17Jqj+FtsXqH4iGWrnM1nMzhfNpbgAwnP9S7Jgklmg3pGZy8vDyv+Ira2lrk5eU5v7dq1QoqlcqtnNFoRF5enrOcr2Oh3jfQeSqVChqNxu0TCvHSFhwOYPp07j1z8WLg889jXSPfxIue8QLpKZAYhpNYj5Or4eTxpkkQRGwoKCjAyZMnYbFYAMA5VHbllVc6y8hkMhQUFLgFbh86dAgFBQXIy8tD9+7dfR4LxBVXXIHU1FScOHECAGC323H06FG3dAWJyMaNwI4d3Hb37sA//xnb+hBEtCHDyRXyOAWFMseyhfQMTtu2bTFs2DBnMPemTZtQWFgIlUqFadOm4dSpUwC4XG8bN24EwLndKysrMWbMGABAYWGh89jhw4eRnZ2NQYMGud3H4XC4pSNQqVSYMGGC87zt27fj5ptvdgsyZ4mzLRiNwNmzXCLeFrYiPe9t4pk9GwghNCSqUN9iC+kpIF3DKZwYJzKcglLnOlWaaDakpziWLVuGNWvWYM6cOdizZw/mzp0Lk8mE8vJyHDt2DAAwYsQI9OrVC9OnT0dxcTHKy8udMRWFhYVobGzE7NmzsXDhQqxbt855bZvNhvLycvz1119Yu3Ytjh8/7jz23HPP4aeffsLcuXOxdu1avPbaaxH7jc628NJLQOvW3LJPn34asfuFw4cfAj/+yG336QPcdlts6xMI6ltsIT0F4iY4POQlV8KJcaLg8KBYKU0DU0hPceTk5Pg0Wo4cOeL2vbi42Of5crkcCxcu9HlMoVDgrrvuwl133eV1LDU1Fa+88koYNQ4dZ1tooQkwbTbgmWeE788917JTEFDfYgvpKdCCm707RUVF2LdvH7777jtxJ9BQXUQIZcomERzSk+BxtoUWuuTKu+8C+/Zx2wMGcLPqWjLUt9hCegrEjccpZLKygB07YHc4IBe7VDcFhwfFc1oo0TxIT4LH2RZaYALMxkZgxgzh+5w57u+mLRHqW2whPQXixuMUMkolMGAAai6+GLjoInHnkMcpKHySMoINpKf0KCsrQ48ePdCvX7+QznO2hRa45Mo77wB//sltFxQA110X2/qIgfoWW0hPAekaTuGwZAnwww/cXNucnFjXhiCIOCTksAJPWqDH6c47ucV8W7fmvE0EkchId6iuCdespkHJz+c+hF9C0pMICulJ8DjbQgv0OKWkAI89BjzySPxEMVDfYgvpKcDM4+RwOPDee++hR48eQcsuX74cU6dOxfjx4/Hzzz+zqoI7jY3A2rVQvPcesG1bZO6RgMhaemBDnEF6EjzOtsB7nOTyFhcyEC9GE0B9izWkpwAzj9Px48eh0+nw+++/Byy3ZcsWrF+/Hh999BGMRiMGDBiAXbt2BV03KmQaGoA770QyAFx/PTB4MNvrJyj19fVe63cR4UN6EjzOtsAbTmp1zCOw6+u5dFLxCPUttpCeAsw8Tvn5+Rg6dGjQcosWLcLIkSMBcFH6+fn5KC8vZ1UNgXDSEbz/PvDmm8AHH7CvD0EQhBj4oboYxzcZDEDnztzwXNOqMwRBgHFwuDxINjSbzYaKigq3JQu6devmXErBF2azGQaDwe0jinAMp2nTgHvvBSZMEFc+AaG0+2whPQkeZ1v44gtg9+6Yv8AtWQKcPg38v//nnvgyXqC+xRbSUyCqweE6nQ4mkwnZ2dnOfWq1Gnv27PF7TmlpKWbNmuXzWlarFVqtFkajETabDUlJSUhPT+dWNK+vB3+XRrMZRp0OWq0WtbW1sFqtUCgUyMjIcE6xTE1NRYrJBBkAe3IyHDYb6urqnGU1Gg2qq6sBACkpKVAoFM4U9BqNBg0NDWhsbIRcLkdmZqZb2aSkJNQ2ud8zMjJgNpthsVggk8mQlZUFnU4HgFsbS6lUupW1WCwwN6VJyM7ORnV1NRwOB5KTk6FSqWA0Gp06NjY2upWtqamB3W6HUqlEamqq0+hMT0+HzWaDqSlTelZWFvR6vbNsWlqac1X4tLQ0OBwONDQ0ABCSoHnp3VQWEFbRzszMdNPQU2+ZTOZWtr6+3q+GgfTWarUBNQykd3JyckANA+lttVr9ahhMb4PBAJvNhsbGRuTk5PjV27N9q9XqgBoG0lsul4tus556m0wm0W3WVW9Kmiee+vp6LleO2PQpEeT8eWDxYm5boYhPw8mpJ8EE0lNA5nCIc8eUlJRg7969Po/dcssteOihh3D06FF06tQJ/i557tw55ObmYt++fejevTsA4KmnnsIvv/ziXEjTE7PZ7PxDBnCLd3bo0AF6vR4ajcZ/hRsahMH5wYOBL78M/iPbtOFesTp2BJrWvyLc0el0boYv0TykrqfBYEBmZmbw/ipBQv3tLaktFBcDCxZw2w89xHmd4o2WpKcUkLqeofRX0R6n0tLSZlesVatWUKlUzrdrADAajcjLy/N7jkqlgiqcmSXNWXKlhc1kaUkEG44lQoP0lB4hr6vZREtpC3/9xa0zDADJyfHpbQJajp5SgfQUiKoSMpkMBQUFOHjwoHPfoUOHUFBQEImbCdtiF/nlDSeaOeAXGudmC+kpPcJNgJmZmQkYjcBrr3ELw33/fYRqGJj58zmHPQBMnAh06BCTajQb6ltsIT0FmBpO/BCd61Cdw+HAtGnTcOrUKQDcQ4UfljMYDKisrMSYMWNYVoODPE4RgY+DIdhAehI81dXVQGUlNzZ2113Ayy9HvQ4nTgCvvsptp6UBJSVRrwIzqG+xhfQUYGY4nT17Fm+88QYA4NVXX3UGlppMJpSXl+NYU8zQiBEj0KtXL0yfPh3FxcUoLy+PTG6IUA0nm03wTCUns68PQRBEMFyXW4lB1vA5cwCLhdt+9FEu7JMgCHeYzarLzc3FzJkzMXPmTLf9qampOHLkiNu+4uJiVrf1j1wOZGTAIZNBJiYfSmOjsK1URq5ecQ4lQGML6UnwpKSkxHS5lcOHgZUruW2NBnjyyajenjnUt9hCegpIN9pLoQAMBljOnAE+/zx4ef41CyCPUwBoejlbSE+CR6FQxHSB3w4duGG6Dh2AKVOAeJ9ARX2LLaSngOQX+a2rqxM3K89uB9q25TxPWm3E6xWviNaTEAXpSfDU1dVBFUOPk1IJPPggcM89XORCvEN9iy2kp4DkDSfRaLVAVVWsa0EQRCITQ48TD/1tJIjASHeorolES7oXaUhPtpCeBI9Go4lJjJPVGpXbRB3qW2whPQXixnAqKytDjx490K9fP/EnPfwwHA88AMyeHbmKJRj8UiAEG0hP6RHWswpNbSEGs+puuw24+27AJb2eJKC+xRbSUyBuDKewksq9/jqUb70F/O9/katYgtHoOvuQaDakp/QINwFmY2Oju8cpCkN1O3cCn3wCvPMOcOON4nMFxwPUt9hCegrEjeEUFnwuJzFPg2PHgDvvBMaNA1atimi14hlKu88W0pPgkcvl3KoFbdsCGRncJ8JMny5sT5vGZXGRCtS32EJ6Ckg7OJw3nMQkwDx/Hli7ltvWaID7749YteIZLc04ZArpSfBotVrOknG1ZiLI1q3cBwC6dAHuuy8qt40a1LfYQnoKSNuEDMVwogSYotDpdLGugqQgPQmeaLYFh8PdPps1S3qPPepbbCE9BaRtOPGuRTGGEyXAJAgiQfjsMy6+CQB69ADGjo1tfQginpC24RRKjBN5nERBCdDYQnoSPNFqC3Y78MwzwvfZs7mFFqQG9S22kJ4CFOPE42o4kcfJL0oyKplCehI8SqUSmDqVS8Sr0QD//W9E7vPhh8BPP3Hbffpw6QikCPUttpCeAonhcQp1qI4aiF9qXfPMEM2G9CR4amtrgY0bgXff5fIDRACbzd3bNGeO8JiUGtS32EJ6CkjbcAolxomG6giCYEC4CTABCHmcIpTDSSYDnn0W6NYNuPpqYPjwiNyGICRN3AzVlZWVoaysDLZQVp8cNQr22lrIO3YMXpaCw0WREYXcMokE6Sk9ioqKUFRUBIPBgMzMTNHnZWRkCJnDI5Q1XC7nAsFHjwbOnJGutwmgvsUa0lMgbgynsB5Gq1ahvrYWajEPIfI4icJsNtNYN0NIT4LHbDZDGWGPE09SEpCXF9FbxBzqW2whPQXixnAKF4urJykQnTtzGeAaG4GLLopspeIY0XoSoiA9CR5LQwNgMnFfGHucHA5pe5d8QX2LLaSngOQNJ5nYp8Xf/859iICI1pMQBekpjrq6OjzxxBPIzMxEXV0dFi1a5HN69PLly7F//35UV1dj8uTJuOyyy5zH5s2bB71ej7Nnz2LGjBnIz88HANhsNhQXFyMpKQnnz5/HggULkJWV5Txv7ty5mN6ULbJ379745ZdfIvIbZfX1whfGHqf//AfYsoVLPdC7N9NLt1iob7GF9BSQvOHk+gAkmg/pyRbSUxyTJk3CqFGjMGrUKKxevRolJSVYvHixW5ktW7Zg/fr1+Oijj2A0GjFgwADs2rUL6enpWLlyJU6fPo2lS5fiyJEjuOOOO7Bz507I5XLMmjULeXl5+Pe//43t27djwoQJ+OCDDwBwwxPHjx/H5s2bAcBpbEWCLNdhEIYep7o6YO5c4PRpbkHfw4eBCP6MFgP1LbaQngLSnlXXpw/sbdsC/fvHuiaSgdLus4X0DE5VVRXWrVuH4U1TwIYPH45ly5bBaDS6lVu0aBFGjhwJgAtkzc/PR3l5OQBg4cKFuOWWWwAAnTp1Qm1tLbZu3QqLxYIXX3zReWzgwIH44osvcPDgQQDA6tWr0blzZ1x99dUYOnQounbtGrHfWVNZKXxh6HEqK+OMJgC4/fbEMJoA6lusIT0FpG04nToF+V9/AX/9FeuaEAQRJtu2bUNOTg5SUlIAALm5uVCpVNi9e7ezjM1mQ0VFhZtHqFu3bqioqEBVVRUOHDjg89j3338Po9GIjk0zb+VyObp06YLt27cDAMrLy/H000+jTZs2ePPNNwPW02w2w2AwuH1CQcYHhgPMPE56PbBgAbctl3Nr0hEE0TykPVQXSgLMhQuB0lJuRt077wBDh0a2bnEKpd1nC+kZnMrKSmRnZ7vtU6vVqKqqcn7X6XQwmUxu5dRqNfbs2YPKJk+O57GqqipUVlZCo9EgKSnJ57W3bt0KvV6PJUuW4L777kN2djZuvvlmn/UsLS3FLB+WiU6ng9VqhVarhdFohM1mQ1JSEtLT06HX6wEAaWlpcGRmwnT//ZDV1UF55ZWoNRhgtVqhUCiQkZGBmpoaAEBqaipkMhnqm2Ki+LgvvqxGo0F1dTUAYPFiNXQ6Lr3KmDFmdO2qgNHYgMbGRsjlcmRmZjrLpqSkICkpyZnoMCMjA2azGRaLBTKZDFlZWU6vg0qlglKpdCtrsVhgNpudWldXV8PhcCA5ORkqlcrpIVSr1WhsbHQrW1NTA7vdDqVSidTUVKfRmZ6eDpvNBlNT0HxWVhb0er2zbFpamruGDgcaGhoAcJmu9Xq9X70B+NUwmN719fV+NVQoFKhrMoI1Gg0aGgS9tVptQA0D6Z2cnBxQw0B6W61WvxoG09tgMMBms8FqtcJms/nV27N9q9Vq0W3WU2+5XO5Xw2B6m0wm0W3WVW9FCOsOkeHEU1sLNP3HiVrbLkFJphxXTCE9gyOTyZzeJh6LxeI2NZoPXHUtx5fxdyw9PV3UtTMzMzFz5kzY7XYsXbrUr+FUUlKCKVOmOL8bDAZ06NAB2dnZ0Gg0zmu54mrMKS65BMrXX3d+13hc39N4dK03f33XsufPAy+9xH1PSgLmzVMhKck7H4/ndV2/e04/D1Y23WWI0TMmxrVscnKyW1mtVhvwPryhI6ZsamoqAKCxsTFo/YNp6K9sMA1dX4gipbenhsH0DkVD17J8m21sbIRCofCrt2tZf9cNRe9QNHQt65l+SKzeoXiIpT1UF+5adZSrwi+ecSVE8yA9g5OXl+d8y+Wpra1FnksiolatWkGlUrmVMxqNyMvLc5bzd8zz2vwxT4qKinDixAm/9VSpVNBoNG6fUGDdFhYtAvhLTpjAZVxJJKhvsYX0FEgMw0mMB4kMJ4JokRQUFODkyZPOPDL8MNqVV17pLCOTyVBQUOAM6gaAQ4cOoaCgAHl5eejevbvPY1dccQVSU1OdBpHdbsfRo0dx7bXXetVDLpfj8ssvj8hvZM1ffwneJpUKaMqmQBAEA+LGcApr/adQ1qqjJVdEISoLOyEa0jM4bdu2xbBhw1BRUQEA2LRpEwoLC6FSqTBt2jScOnUKAOcR2rhxIwDO7V5ZWYkxY8YAAAoLC53HDh8+jOzsbAwaNAgqlQoTJkxwHtu+fTtuvvlm5Ofn49y5c3jrrbdgs9ngcDiwZMkSzJkzJ2K/k2VbKC0FmkJPMHEi0L49s0vHDdS32EJ6CsgcDjFWRcuBX3JFr9cHd4Xn5wPHjwNt2gBND1e/TJoELFvGbf/4I9CnD5sKS4y6ujq3cXWieUhdz5D6awDOnTuH4uJiXHjhhdDpdJg/fz5sNht69OiB8vJy9G9KOTJ//nzU1tZCp9Nh4sSJ6N2U7dFut6O4uNgZ+P3000+jQ4cOAICGhgZMnToV7dq1Q2VlJUpLS5GZmYkjR45g6NChSE5OxqBBg/DYY4+hZ8+eEfvt5nnzoJozh5tRt3o1MGxYGEpxbNgAlJQABw9yeZsuuCDsS8UtUu9b0UbqeobSXxMjOJyG6phhNpsl3XmiDekpjpycHLz22mte+48cOeL2vbi42Of5crkcCxcu9HksNTUVr7zyitf+Tp064c8//wyjtuFhr6nh3EQNDc1eH2X4cODGG4F9+xLTaAKob7GG9BSIm6G6sAglOJyG6giCiCWM8zjJ5cAllzT7MgRBeCBtj9Ps2ZxB5DFF0ifkcRKF59ROonmQngRPqtUqfKE3+2ZDfYstpKeAtD1O99yD6ttuA0aPDl6WDCdR8InHCDaQntIjrIksACznzwtfPPLWiGHfPuCGG4Bvvw35VElCfYstpKeAtA0nAKJj36dM4TKGr1oFkGXtlzibS9DiIT2lR1FREfbt24fvvvsutBObMhoDCMtwevZZYPNmYMAAYN26kE+XHNS32EJ6Ckh7qA4hZGa++mruQwSEMl2zhfQkeBSuMU4hGk4//gi8/z633aYN4Ce5eUJBfYstpKeAtA2nykqozp4FbDbgssuAENaiIXxDa6uxhfQkeOS84SSXAx7LwATjmWeE7aefBlxWzEhYqG+xhfQUkPZQ3cMPQ9mnD9C3L7dMONFsKO0+W0hPgsfOr5WVkRFSOoIdO4DPPuO2O3YEHnooApWLQ6hvsYX0FJC2x8n1ra1ptWe/7N3L5U9JTua8UwRBEFFExsc4hThM5+ptevZZbokVgiAiR9wYTmVlZSgrK4PNZhN/UiiG0wMPAD/8wA3nuU4LJtygtPtsIT0JHtuqVZAbjcJSUSLYupX7AMDf/gbce2+EKheHUN9iC+kpEDeGU1FREYqKipxp0UXh+uoVzHDi0xFQKoKAWK1WChJkCOlJ8DRecw2UIQQnORzui/fOmkWPL1eob7GF9BSQdoyTq8fJbA5clgwnUZiCGaBESJCeBE+obeGzz4CdO7ntnj2BO++MQKXiGOpbbCE9BRLHcAr2n84vuUIWNUEQzSDcBJihkpPD5WwCgOeeo0nDBBEtpG040VAdc7KysmJdBUlBekqPsBJgGo3I2r2bmyJ34oSoU666CvjmG+DLL4Fbbw2vrlKG+hZbSE8BaRtO5HFijp7SOjCF9CQAAAcPQjZ8OPD3vwOlpaJPk8mAwYNDyl6QMFDfYgvpKcDMcHI4HHjvvffQo0ePoGWPHTsGpVIJmUwGmUyGH3/8kVU13KEYJ+bY7fZYV0FSkJ4EAMA1Rw7NXmIC9S22kJ4CzGbVHT9+HDqdDr///nvQsq+99ho++eQTJCUlQalU4vLLL2dVDXdoqI45StKHKaQnAcDdcAqQx6mxERg3jktyOWQIeZoCQX2LLaSnADOPU35+PoYOHRq0XHV1NX744Qf06NEDQ4cOxbXXXsuqCt488ACshw8DZ84At90WuCwN1YkiNTU11lWQFKQnAUC04fT668DatcD11wPFxVGoVxxDfYstpKcA0xgnuYjEbe+99x62b9+O/Px8jBs3DrWuK4L7wGw2w2AwuH1Ek5kJQ2YmkJsb3CAij5MoQtKfCArpSQAQZTiZTNzsOZ5RoyJcpziH+hZbSE+BqCfAfOihhzB+/Hhs2rQJEydOxAMPPIB169b5LV9aWopZs2Z57dfpdLBardBqtTAajbDZbEhKSkJ6eroziC0tLQ0WiwU6nQ4AoNVqUVtbC6vVCoVCgYyMDNTU1AAAUisrIbNa0dDQAIdOh8zMTNTV1TnLajQaVFdXAwBSUlKgUChQ17Qop0ajQUNDAxobGyGXy5GZmelWNikpyWkgZmRkwGw2w2KxQCaTISsry1k/lUoFpVLpVtZiscDcFJ+VnZ2N6upqOBwOJCcnQ6VSOdcPUqvVaGxsdCtbU1MDu90OpVKJ1NRUZ8NPT0+HzWZz5uXIysqCXq93lk1LS3PT0OFwoKGhAQA3zq3X6/3qDQD19fUA4KWhm96pqZDJZG5l6+vr/WoYSG+tVhtQw0B6JycnB9QwkN5Wq9WvhsH0NhgMsNlsaGhogM1m86u3Z/tWq9UBNQykt1wuF91mPfU2mUyi26yr3gqaIy8OETFO//0vcPIktz1iBNC/fxTqRRCEFzKHw+EQU7CkpAR79+71eeyWW27BQw89hKNHj6JTp04QeUkcOHAAvXr1wtGjR5GXl+ezjNlsdv4hAzirt0OHDtDr9dBoNEHvYTabaVVnhpCebJG6nnymf7H9VUqE9NtnzQJmzuS2168HbrrJ7XBdHdC5Mxd1AAA//URLagZD6n0r2khdz1D6q2iPU2kIU2TFctFFF2HIkCE4ceKEX8NJpVKF/591/Dhk5eWA3c5lihs8OPzKEgAQ2lqBRFBIT+kR1rqaQYbqXn5ZMJrGjCGjSQzUt9hCegrEPI9Teno6Lr744shc/PBhJBcXA9OmAZ9/Hpl7JBiUdp8tpKf0CDcBphMPw0mvBxYu5Lblcs45RQSH+hZbSE8BpoYTP0TnOlTncDgwbdo0nDp1CgDwzjvvOLd37NiBQYMGiV+0N1TEpiOorQVmzADmzgU++CAydSEIgvBHU0wbAK8YpyVLgKbwM4wbB3TvHsV6EQThBTPD6ezZs3jjjTcAAK+++qozsNRkMqG8vBzHjh0DAGzYsAGXXHIJ7rzzThw4cACPPfYYqyp4IzZzuF4PzJ7NLTX+9tuRq48EoLT7bCE9CQDA6tVwmM3A+fNAp07O3efPA4sXc9tJSdz7HSEO6ltsIT0FmM2qy83NxcyZMzGTD3BsIjU1FUeOHHF+f/PNN1ndMjiueSeaDDmf8DmcAMrjFAQ+gI5gA+lJ8BgaGpCZne2+z8CFZ27aBEyYwAWIE+KgvsUW0lMg6ukIokpOjrB97pz/cnwOJ4DyOAWBAgTZQnoSPL7aQqdOXHjm9u1Aly4xqFQcQ32LLaSngLQNp+xsOORyyOx2YUqKL8hwEk1SkrSbTLQhPQmeQG3hmmuiWBGJQH2LLaSngLSVkMu5rOGnTwNnz/ovR0N1oklPT491FSQF6UkAAKZNg9pqBTp0AB59NNa1kQTUt9hCegrEPB1BpLG1asVtnDkD+EvMSR4n0fAZrgk2kJ4EAODllyFftAh45RUA3ATfjz/2/8gigkN9iy2kp0DcGE5lZWXo0aMH+vXrF9J5Dj7OyWTi0g74ggwngiAYEfKzymoVnk0aDf74g5s9d+utwPDhZDwRREsjbgynsJLKAZB17w706gUMGeKeK8UVGqoTDb8eHcEG0lN6hPysOn9e2M7NxYwZAB+HO2gQIJOxr2MiQH2LLaSngLRjnAA0LlmCJNe0BD4LkcdJLGLXISTEQXoSrvGXuqTWePddbjs3F4hkmjupQ32LLaSnQNx4nMKlwZ+XyZWMDG6p8csvB9q3j3yl4hhRehKiIT0J1xm/X/6a69yeNs0riTgRAtS32EJ6Ckje4ySKAQOAnTtjXQuCIPxQV1eHJ554ApmZmairq8OiRYt8Lv69fPly7N+/H9XV1Zg8eTIuc1kNd968edDr9Th79ixmzJiB/Px8AFx+muLiYiQlJeH8+fNYsGCBM0uy2Ps2CxeP044/WwPg3t8mTmR7G4Ig2CB5j5NWqxW++AsOJ0TjpifRbEhPcUyaNAnXX389SktL0bdvX5SUlHiV2bJlC9avX48XXngBS5cuxbhx45xLP61cuRKnT5/GggUL8Mwzz+COO+6A3W4HAMyaNQt5eXkoLS3FuHHjMGHChJDu22xcPE5nwXmcnnnGfcUoInSob7GF9BSQvOFkNBq5KSo9ewLZ2cChQ7GuUlxjdF3FnWg2pGdwqqqqsG7dOgwfPhwAMHz4cCxbtsxLu0WLFmHkyJEAgIyMDOTn56O8vBwAsHDhQtxyyy0AgE6dOqG2thZbt26FxWLBiy++6Dw2cOBAfPHFFzh48KDo+zYbF4/TGbRG167AAw+wvUUiQn2LLaSngOQNJ5vNBpjNwL59XBB4z57c0NzQocCwYcA//gGMGiWspEkEhNLus4X0DM62bduQk5ODlCYXTG5uLlQqFXbv3u0sY7PZUFFR4Rx+A4Bu3bqhoqICVVVVOHDggM9j33//PYxGIzp27AgAkMvl6NKlC7Zv3y7qvixwnBY8TmfQGi+8QHNUWEB9iy2kp4DkY5ySkpK4KMt33gFOnOBSD3z7rXfBQ4eAjz7ifOTXXx/1esYLlHafLaRncCorK5HtsfitWq1GVVWV87tOp4PJZHIrp1arsWfPHlRWVgKA17GqqipUVlZCo9G4/T/wx1JSUoLe1xWz2Qyz2ez8bjAYRP0+2aW9cfiSf+DMr2fQfXAbjBgh6jQiCNS32EJ6CkheCbVazS298s03nAH15ZdA04PUjV9/5SIyXYJJCW/UNM2HKaRncGQymdPrw2OxWKB0ccvImpIduZbjy/g7lp6eHvDaYu7rSmlpKWbNmuW1X6fTwWq1QqvVwmg0wmazISkpCenp6Vw25rFj0fre8Sgen4TnnjOiuloHrVaL2tpaWK1WKBQKZGRkoKamBgCQmpoKmUyG+vp6AHAGrvNlNRoNqqurnb9ZoVA4Y700Gg0aGhrQ2NgIuVyOzMxMt7JJSUmobYoFzcjIgNlshsVigUwmQ1ZWFnQ6HQBApVJBqVS6lbVYLE7DMTs7G9XV1XA4HEhOToZKpXIO9ajVajQ2NrqVrampgd1uh1KpRGpqqtPoTE9Ph81mg8lkAgBkZWVBr9c7y6alpTkzWqelpcHhcDhnf2k0Guj1em+9IeQk8qdhML3r6+v9ahhIb61WG1DDQHonJycH1DCQ3lar1a+GwfQ2GAyw2WxQKBSw2Wx+9fZs32q1WnSb9dRbLpeLbrOeeptMJtFt1lVvhUIBsUjecKqpqeHeGjt0AN58k9tpNnPDdlYr92ls5NLztm4NkFUdEKeeBBNIz+Dk5eV5LfdQW1uLvLw85/dWrVpBpVK5lTMajcjLy3OW0+v1SG3K6WY0GtGzZ0+f1+bPS0pKCnpfV0pKSjBlyhTnd4PBgA4dOiA7OxsajQYA9wfDFdf/+2XLdG7f+XN8lQXcDcFgZV1nAmZkZAQs6/rd00gMVtZ1PTN+ZqKvssnJyW5lPQOPPe/jmnwxWFn+/1in0wWsLxCahq5lg2kYDb09NQymdygaupbl26xOp4NCofCrt2tZf9eNVJt1Lev5MipWb7EeYiCOYpzCXXLFJyoVlyBFqwVycoC2bYG8PDKaCKIFUlBQgJMnT8LSlOGfHyq78sornWVkMhkKCgpw8OBB575Dhw6hoKAAeXl56N69u89jV1xxBVJTU3HixAkAgN1ux9GjR3HttdeKuq8rKpUKGo3G7UMQhPSIG8Mp3CVXUoNlDSdCgvRkC+kZnLZt22LYsGGoqKgAAGzatAmFhYVQqVSYNm0aTp06BYB7RmzcuBEA9/ZYWVmJMWPGAAAKCwudxw4fPozs7GwMGjQIKpUKEyZMcB7bvn07br75ZuTn5/u9r+fwHSuoLbCF9GQL6Skgc8RZHnWDwYDMzEzo9XpRb3QmkyliD7pEhPRki9T1DLW/+uPcuXMoLi7GhRdeCJ1Oh/nz58Nms6FHjx4oLy9H//79AQDz589HbW0tdDodJk6ciN69ewPgPEnFxcXO4O6nn34aHTp0AMBlRJ46dSratWuHyspKlJaWOoccfN03WeR6lvSsii2kJ1ukrmco/VXyhpOvcW4ifEhPtkhdT1aGUzxCz6rYQnqyRep6htJf42aojiAIgiAIItZI3nDyjPInmgfpyRbSk+ChtsAW0pMtpKeA5A0nPr8DwQbSky2kJ8FDbYEtpCdbSE8ByRtOVqs11lWQFKQnW0hP6RFu6hRqC2whPdlCegpI3nAKJRsoERzSky2kp/QIN3UKtQW2kJ5sIT0FJG84eWYcJZoH6ckW0pPgobbAFtKTLaSnQNwYTuG6v/n1bwg2kJ5sIT0JHmoLbCE92UJ6CsTNGiNFRUUoKiqCXq+HVqsVva6MwWCgVZ0ZQnqyRep68v00ztLFMYH/zfSsig2kJ1ukrmcoz6q4U4Ff8ZnP+ksQRMvHaDQm3HRmelYRRPwh5lkVd5nD7XY7qqqqkJGRAZlMFrAsvzr5iRMnmGYt7tevX8iBn1K4JulJeoaKw+GA0WhEXl4e5PK4iQxgAj2rYndN0pP0DJVQnlVx53GSy+Vo3759SOewXqlcoVAwXz4iXq4JkJ6skbqeieZp4qFnVWyvCZCerJG6nmKfVYn1CsiIoqKihL1mJIiX3056EvFGvLSFeGlf8fLbSc/IEndDdaGQyAuMRgLSky2kJ8FDbYEtpCdbSE93JO1xUqlUmDFjBlQqVayrIglIT7aQngQPtQW2kJ5sIT3dkbTHiSAIgiAIgiWS9jgRBEEQBEGwhAwngiAIgiAIkZDhRBAEQRAEIRIynAiCIAiCIEQiWcOprq4OhYWFKCkpweTJk2E2m2Ndpbjms88+w9/+9jdkZ2fj0UcfhdVqjXWVJIHFYsGll16Kbdu2xboqRIygZxVb6FkVGehZJSBZw2nSpEm4/vrrUVpair59+6KkpCTWVYpbzp07h7fffhvl5eV4+eWX8frrr+PFF1+MdbUkwaJFi3D06NFYV4OIIfSsYgc9qyIHPasEJJmOoKqqCl26dEF1dTVSUlJw9uxZ5Ofn4/Tp08jIyIh19eKOb7/9FpdeeilSU1MBAE899RR+/fVXrF+/PsY1i2927NiB/fv3Y/bs2Vi1ahUGDx4c6yoRUYaeVWyhZ1VkoGeVO5L0OG3btg05OTlISUkBAOTm5kKlUmH37t0xrll80r9/f+eDCADatWsX8hpchDt1dXVYt24dxo8fH+uqEDGEnlVsoWcVe+hZ5Y0kDafKykpkZ2e77VOr1aiqqopRjaTFd999h0ceeSTW1YhrFixYQEMyBD2rIgw9q5oPPau8kaThJJPJnG9wPBaLBUqlMkY1kg5HjhxBVlYWLr/88lhXJW7ZuHEj+vbti9atW8e6KkSMoWdV5KBnVfOhZ5VvJGk45eXlQa/Xu+2rra1FXl5ejGokDex2O1599VUsXLgw1lWJa1544QWMHz8eOTk5yMnJwYkTJ3DLLbeQrgkIPasiAz2r2EDPKt9IMjj81KlT6Nq1K3Q6HZKTk1FVVYWuXbvi/PnzXm93hHgWL16MsWPH0kO9mZw9e9ZtyvmAAQOwePFi3HjjjbTyeIJBz6rIQM8qNtCzyjeS9Di1bdsWw4YNQ0VFBQBg06ZNKCwspAdRM1i8eDEuuugiWCwWHD58GCtXrsShQ4diXa24JDc3F+3bt3d+FAoFcnNzE/pBlKjQs4o99KxiBz2rfJMU6wpEimXLlqG4uBi7du2CTqfD/PnzY12luOWll17C1KlT3fZ1796dZlkQBAPoWcUOelYR0UCSQ3UEQRAEQRCRQJJDdQRBEARBEJGADCeCIAiCIAiRkOFEEARBEAQhEjKcCIIgCIIgREKGE0EQBEEQhEjIcCIIgiAIghAJGU4EQRAEQRAiIcOJIAiCIAhCJGQ4EQRBEARBiIQMJ4IgCIIgCJGQ4UQQBEEQBCESMpwIgiAIgiBE8v8BI97/thluAQwAAAAASUVORK5CYII=' width=600.0/>\n",
       "            </div>\n",
       "        "
      ],
      "text/plain": [
       "Canvas(toolbar=Toolbar(toolitems=[('Home', 'Reset original view', 'home', 'home'), ('Back', 'Back to previous …"
      ]
     },
     "metadata": {},
     "output_type": "display_data"
    }
   ],
   "source": [
    "sigma_hs_n1_min = min(sigma_hs_n1/1e6)\n",
    "sigma_hs_n2_min = min(sigma_hs_n2/1e6)\n",
    "print(sigma_hs_n2_min/sigma_hs_n1_min)\n",
    "print(max(C_n2[0]-C_n2)/max(C_n1[0]-C_n1))\n",
    "fig, ax = plt.subplots(1, 2, figsize=(6, 4))\n",
    "ax1 = ax.flat[0]\n",
    "ax1.plot(t1,sigma_hs_n1,'b--')\n",
    "ax1.plot(t2,sigma_hs_n2,'r--')\n",
    "ax1.set_title(r'$\\sigma^-_{h,surf}$ [Pa]')\n",
    "ax2 = ax.flat[1]\n",
    "ax2.plot(t1,C_n1[0]-C_n1,'b--')\n",
    "ax2.plot(t2,C_n2[0]-C_n2,'r--')\n",
    "ax2.set_title(r'$C_{n,loss}$ [Ah]')\n",
    "fig.tight_layout()\n",
    "plt.show()\n",
    "plt.savefig(fig_DIR+'negative_electrode_stress'+'.png')"
   ]
  },
  {
   "cell_type": "code",
   "execution_count": 16,
   "metadata": {},
   "outputs": [
    {
     "data": {
      "application/vnd.jupyter.widget-view+json": {
       "model_id": "bf0ca429e06143ec986a57721f11c5f7",
       "version_major": 2,
       "version_minor": 0
      },
      "image/png": "[encoded data removed]",
      "text/html": [
       "\n",
       "            <div style=\"display: inline-block;\">\n",
       "                <div class=\"jupyter-widgets widget-label\" style=\"text-align: center;\">\n",
       "                    Figure\n",
       "                </div>\n",
       "                <img src='data:image/png;base64,iVBORw0KGgoAAAANSUhEUgAAAk0AAAGGCAYAAABmPbWyAAAAOXRFWHRTb2Z0d2FyZQBNYXRwbG90bGliIHZlcnNpb24zLjUuMSwgaHR0cHM6Ly9tYXRwbG90bGliLm9yZy/YYfK9AAAACXBIWXMAAA9hAAAPYQGoP6dpAACPvElEQVR4nO2deXgT5fbHv+mW7htUaRHKIiCgKCIICkpVLqsgKi5cXFhEaK+got4WV1BkuyLoRVEWxa0i7gjyY1FaFQREvWyy7y1CIW2Wtmna9P398XaytFkmySSTTM7nefp0knln5uTbk+mZdzlHxRhjIAiCIAiCIFwSIbcBBEEQBEEQoQAFTQRBEARBECKgoIkgCIIgCEIEFDQRBEEQBEGIgIImgiAIgiAIEVDQRBAEQRAEIQIKmgiCIAiCIERAQRNBEARBEIQIKGgiCIIgCIIQAQVNhFd88MEHcptAEARBEAGFgibCK44dOya3CQRBEAQRUChoIgiCIAiCEEGU3AYQocPChQvx999/AwB+/vlnGI1GAMDo0aPRrVs3OU0jCIIgCL+jYowxuY0gQo+XXnoJL730ktxmEARBEETAoOE5giAIgiAIEVDQRHhF69atA37Nhx9+GG3atMHdd9+Ne++9FwCwdetWjB49GiqVCq1bt8aQIUPQtWtXDB8+HH/88Yfbc/7000+4++67cffdd0OlUmHLli1+/hQEQRBEqELDc0TI8PDDDwMA3n//fbv39+/fj65du2Lp0qWYMGECDAYDbr31Vuzfvx87duxA586dRZ1fpVLhxx9/RP/+/aU1nCAIglAE1NNEhDzx8fF2rxMTE/HCCy/AYDBg0aJFMllFEARBKA0KmghFcvnllwMATp8+LbMlBEFIidlsxgcffIC7774bY8aMwYMPPoj27dtDpVLhsccek9s8AI6nEjRm1apV+Oyzzxzu27FjBx588EEMGjTI6TVoaoE8UMoBwsLp06fx8ssvY9OmTfj7779hNBrBGMMDDzwQchnAjx8/DgC44oorAACbNm3C8uXL0aZNG6xfvx7jxo0LmhssQRDiKC0txd13341u3brhvffeQ1JSEgCgrq4OOTk5yMnJkdlCK/37928ylcCWd955B1FRUbjnnnua7MvIyMDhw4ehVqudHt+vXz/069cPAJ9aQAQGCpoIAMC+fftw0003oVOnTnjhhRewa9cudO/eHe3atUO7du3kNs8jdDodXnrpJaSmpuKJJ55AdXU1RowYga+++gr/+Mc/0LZtW0yePBkPP/yw5aZLEERwU1ZWhuuvvx4DBw7EkiVL7PZFRUXhjjvuwM033yyTdZ5x6NAh/PHHH9DpdDh58iSys7Pt9rdt2xYdOnTAqVOnZLKQcAYFTQQAYOzYsejWrRs2bdqEyMhIZGRk4O2338Z3330nt2miWbduHU6fPo2DBw+iT58++Pzzz3HZZZehrq4O99xzD3r06AEAaNGiBerr61FeXk5BE0GECOPGjUNNTQ1ef/11h/vHjBmDZs2aBdgq71i6dCkKCwsxbNgwLF++HDNnzmzSJiKCZs8EIxQ0Edi+fTt27tyJH3/8EZGRkQCA8+fP49dff5XZMs8YMmQIJkyY0OT9qKgovPfee9i2bRvWrFkDrVYLAKivrw+0iQRBeMGuXbvw3XffYc6cOU4fdC699NIAW+UdJpMJx44dw/z58zFs2DC89957eOmll5wGSb/99hvGjRuHU6dO4Y033sCDDz4YYIsJWyiUJVBUVITMzEy7ru2dO3ciMzNTRqukZerUqfjyyy/x8ssvY9SoUXKbQxCEBwhzg+6++255DZGAL774wjKPadKkSThz5gzWr1/vsO2pU6ewa9curF+/HsOHD8eTTz4JyhIkLyEfNG3atAnXX389Tpw44bZtaWkpcnNzsXDhQkydOhWbN2/2v4EhQHl5OTp06GCZTFhTU4NVq1bh/vvvl9kyadi0aRPeeOMNvPTSS5aeNIIgQofdu3cjJSUF7du3l9sUn/n2229x5513AgAGDhyItm3bYunSpQ7bXnbZZXj00UeRlZWF++67DxcvXkRZWVkgzSUaEdLDc2VlZTAYDNixY4eo9lOmTMETTzyBG2+8EUajEe3atcOJEycQExPjZ0uDm+7du2Pbtm2W16+//jrat2+PadOmyWiVeKqrqwEAVVVVDvcLhYU/+OAD3HjjjXjvvfcAAHv27IFWq8XVV18dGEMJgvCKc+fOISMjQ24zfObgwYP466+/8Mgjj1jeS01NxXfffYdz5841GWK0HbKLi4sDYL2fEfIQ0j1NGRkZGD58uOj2f/31F/R6PQAgJiYGJpMJNTU1/jIvZLj77rtx9dVXY/78+Zg5cybOnDmDjRs32i13PX78OG699VYUFxf71ZaamhosWbIE8+fPx1dffeW2/datW/Hyyy8DAFasWIFVq1Y16b4eOHAghg0bhn//+9+YO3cu8vPzkZ6ejs8++wxdu3b1y+cgCEI6srKyUFJS4nRoijHm8bBVaWkp7rrrLqdDY/5g6dKl+OKLL/D+++9bfr7++muYzWaX6QkAa1oBmospLyHd0wQ4XmGwY8cOrF27Fnv37kVMTAyWLVuGhIQE3H333Zg6dSqKiorw008/4fnnn6fVU+Aausuc3bZtW5w7dw69e/f2qy3PPPMMpkyZguzsbFE3wRtuuAE33HADPvnkE6dtoqOjsWbNGrv3Ll686LOtBEEEhjvvvBM//vgjvvrqK8vQli3Lli3Dgw8+6DKvUWOysrJw+vRp9O3bV0pTnWI0GnHkyJEmQ4ytW7fGTTfdhOXLl+OZZ56hnEtBTkj3NDlCq9XiP//5D2bMmIHVq1fjr7/+woIFCwAAzz//PK699lr07t0bf/31F6ZOnSqztaHD3r170bFjR78OZW7fvh1//vkn2rdvj6ioKERHR/vtWgRBhA6PPvoobrzxRuTm5mLTpk2W9ysqKvDqq6+ib9++HgVMAJ9knZqaisTERKnNdcjKlSudBmjDhg3D4cOH8f3331veM5vNDnuVzGaz32wk3KO4oGnt2rUoLy/HwoUL8cYbb+Caa66xOF5tbS1uvPFGPPvss3j11Vfx4Ycfymxt6LBu3ToMGTIEy5YtQ6dOnZxORnzuuefw2WefoX///jh79iyOHz+O0aNH49tvvwUAPPXUU1i1ahXGjh2L5cuXY9asWXj00Udx+vRpvP7668jOzsaRI0cC+dEIgghyoqOjsWnTJkyaNAl5eXlo27YthgwZghdeeAEPPPCApSj3hQsX8OCDD6KgoAAfffQRrr/+euzatcvhOb/77jsMHjwYAHD06FHMnz8f33//PR599FFUVlYCaHo/c/aeOz799FNMnz4dX3/9NX755Re7ffv27bMES5MmTcKqVavw3XffYcuWLdizZw8++eQTHDt2DMuXLwcAvPnmm9RTLidMAQBgx48fZ4wxNmfOHDZx4kSH7caNG8f27t3LGGNs5cqVLCYmhp06dSpQZoY0/fv3Z++++y6rqKhgnTp1YtXV1Q7bde/ene3Zs4cdPXqUMcZYdXU169u3Lzt06BCrra1l7dq1Y3q9no0YMYJ9+OGH7OzZs+zgwYOMMcaGDx/Odu7c6dSGhx56iLVp04bde++9bPTo0ZJ8ruLiYnbXXXexu+66iwFgP/74oyTnJQhCHm666Sa2evVqxhhjBQUFbM6cOQ7bDR48mB08eJCdO3eOde/enel0OsYYYxMmTGCff/45Y6zp/czZe4156KGH2EMPPSTRJ3IP3bsCh+KCppUrV7KWLVva/VPfvn07Y4yxhIQEZjQaLe/379/f8uUinFNRUcHS0tLYnj172P79+9ltt93mtO26detYdnY2u3DhAmOMMY1Gw7p27coYY+yjjz5iAwcOZFVVVaxNmzbs5MmTluNqa2tZmzZtmNls9u+HIQhCsZSVlbFu3bpZXg8ePJgVFRU1aWcwGCz3pZdeeonNmDHDsq9Xr15s69atjLGm9zNn7zWGgiblEvLDc6xhsrDwe8iQIdDr9Rg+fDg2bNiAxYsXW+r3XHPNNfjjjz8sx8bGxqJ79+6BNzrE2LBhA+644w5ceeWVWLNmDYYNGwa9Xo/Kykp89tlnluHPffv2YfDgwbjrrrssw3GbN2/GoEGDsH//fuzduxeDBw/GZ599hoEDB6J169aWa2zbtg19+/al0gEEQXiNbQ6kXbt2ITExET169LC7TwH8vnTLLbegoqICZ86cwTXXXAMA+PnnnxEfH48+ffo4vJ85eo8IL0L6P5TBYLAUbly5ciUuXLiA5s2b45tvvkFJSQnuu+8+S1VsAPj444+xfPlyvPPOO5g/fz4mTJigiGRp/mbdunV4+OGHAfA8IxEREVCr1fjzzz/x6KOPYv369TCZTHjooYfw3XffITk5GQMHDgTAcyft27cPer0eZrMZFy5cwJYtWzB69Gi7a/zf//0f/vnPfwb6oxEEoSC++uor1NXVWeYFrVy50u4+JXDo0CFER0fDaDRi8uTJ2LZtG77//nts2bIF33zzjcP7mbN7nDOKiopw3333+e2+9tNPP+Huu+9WRJb0UELFGOVkJ7xn69atYIzhxhtv9Ok8kydPxltvvUXLbQmHVFZW4umnn0ZKSgoqKysxf/58h6ulli5digMHDqC8vBxTpkyx9CAAwKuvvgqtVouysjK8+OKLlsryZrMZ+fn5iIqKwsWLFzF37lykpaXZnXfr1q3Ytm0b2rdvj379+oVMYdhwwmAw4Prrr8e+ffua7JPqPkUQIZ+niZCPs2fP4uzZs7jrrru8Psf48eMxbNgwvPDCCxQwEU6ZPHkyRo4ciZEjR+KDDz5AQUGBJZWIwObNm7F27Vp8/fXX0Ov16NOnD7Zv346EhASsWLEC586dw6JFi3D8+HHcc8892LZtGyIiIjBjxgxkZWXhiSeeQHFxMcaPH48vv/zSct5ly5bh+PHjmDVrVqA/NiESvV6PuXPn4rLLLsP58+dxySWXWPZJcZ8iCAHqaSIIIqgpLS1F+/btUV5ejtjYWJSVlSE7Oxvnzp2zS047aNAg3HPPPRg3bhwAYOjQoRg5ciQmTJiAK664Am+99RZuueUWAEDXrl2xaNEi3HTTTWjevDn+/PNPtGvXDvX19UhNTcWuXbvQoUMHbNmyBbNmzcKGDRsoqCcIIvR6murr61FaWoqkpCS6iRFEkMMYg16vR1ZWlteT/Lds2YLmzZsjNjYWAC+fpFarsWPHDtx6660A+BBbUVERnn76actxHTt2RFFREYYMGYKDBw9ahuNs98XHx0Ov11sWJURERKB9+/YoLi5Ghw4d8OSTT6Jv37547LHHcPToUbzwwgvo06ePKLvpXkUQoYPYe1XIBU2lpaVo1aqV3GYQBOEBp0+fxmWXXebVsSUlJUhPT7d7LzExEaWlpZbXGo0GRqPRrl1iYiJ2796NkpISAGiyr7S0FCUlJUhOTkZUVFSTfQcPHsSff/6JlStX4qqrrsL8+fMxcOBAHD161GHx2JqaGrtaliUlJejSpYtXn5kgCHlwd68KuaBJ6I4/ffo0kpOTZbaGIAhX6HQ6tGrVyqcajyqVytLLJGAymezK7Ag9ObbthDbO9iUkJLg89759+5Ceno6rrroKAPCvf/0LM2bMwFdffYWJEyc2sXP27NmYMWNGk/d3796NpKQkpKamWlaRRkVFISEhAVqtFgAQHx8Pxhiqq6sB8Mr3BoMBdXV1iIyMRFJSEioqKgDwavcqlQpVVVUAYJkcL7RNTk5GeXm55TNHRkZaMlwnJyejuroatbW1iIiIQEpKil3bqKgoGAwGAPxeW1NTA5PJBJVKhbS0NGg0GgCAWq1GdHS0XVvbAujp6ekoLy8HYwwxMTFQq9WWYumJiYmora21a1tRUYH6+npER0cjLi4OOp0OAJCQkACz2Qyj0QgASEtLg1artbSNj493qaErvQE41dCd3lVVVU41dKV3amqqSw1d6R0TE+NSQ1d619XVOdXQnd46nU60z9rqnZiYKNpnG+sdEREh2mcb6200GkX7rK3ekZGRou5VIRc0CTfA5ORkUUFTeXl5k5UwhPeQntISLnr6MjyVlZVluVELGAwGZGVlWV43a9YMarXarp3Q1S6002q1iIuLs+zr2rWrw3MLx9XV1dnV+YqLi0OHDh2clrAoKCjAk08+aXktBIzZ2dmWe1VqaqrdMbZ/+/Lyclx66aWW143bNn7t7DwA/6dki6OeMWdtmzdv7rRt43uuJ21drThs3LZxz6Itje119v0pLy9vMirh6rvWeJ+/9A6Uhq7aNrZXjN7CvcqVhr74bOO2nvisFHoLgaO7e1VI52kSA81zlxbSU1pIT/fk5OTgzJkzMJlMAGAZluvVq5eljUqlQk5ODg4fPmx578iRI8jJyUFWVhY6d+7scF+PHj0QFxeH06dPA+DzkE6cOIGbb74Z3bp1Q0VFBS5cuGA5LioqCl27dnVop1qttjzMiX2os4V8QVpIT2khPTmKD5piYmLkNkFRkJ7SQnq6JzMzE4MGDUJRUREAnqE+NzcXarUa06dPtxRNzcvLsyQw1Ol0KCkpwahRowAAubm5ln3Hjh1Deno6+vXrB7VajfHjx1v2FRcXY+jQocjOzsYVV1yBwYMH4/PPPwcAVFRUoK6uDkOHDvXL5yRfkBbSU1pIT07IpRzQ6XRISUmBVqsV9SRXW1trN/eB8A3SU1qUrqen31dnXLhwAfn5+WjTpg00Gg3mzJkDs9mMLl26oLCwEL179wYAzJkzBwaDARqNBpMmTUK3bt0A8B6k/Px8yyTvZ5991jJ0U11djWnTpqFly5YoKSnB7NmzLd3/Fy5cwNSpU3Hdddfh9OnTeOSRR9C5c2e/fHal+0KgIT2lRel6iv2+Kj5o0mg0LsdrCc8gPaVF6XpKFTSFInSvkhfSU1qUrqfY72vIDM8tXrwYXbp0Qc+ePeU2hSAIgiCIMCRkgqa8vDzs378fO3fu9Oi4xMREP1kUnpCe0kJ6EgLkC9JCekoL6ckJmaDJW+rq6uQ2QVGQntJCehIC5AvSQnpKC+nJUXzQJCTpIqSB9JQW0pMQIF+QFtJTWkhPjuKDJoIgiEBC8y8JQrkofvUcY4yKZUoI6SktSteTVs/RvUouSE9pUbqeYr+vIVdGxVO0Wq19evajR4Ht24G//wZMJv5TX8/33XILcNNNstgZKjTRk/AJ0pMQIF+QFr/qWV0NNJTkCRfIPzmKD5rqhYBIpwMefBD45hvnjV9+GTh2DMjODoxxIYhFT0ISSE9CgHxBWvym5/TpQHExsHkzoFb75xpBCPknR/FzmiwZTMePdx0wzZ0LbNgA+FCNPRxQckZYOSA9CQHyBWmRXE/GgJkzgdmzgV9+ASZNkvb8QQ75J0fxPU1xcXHArl1AQ/0oJCYC06YBnTsDsbFAdDQQGQmkpwM0cdMtcWHWJe1vSE9CgHxBWiTX85VXgBdftL7u0UPa8wc55J+ckAmaFi9ejMWLF8NsNnt0nE6nQ/rOnUBEBJ+7NGcOkJfnJyuVj06nU3Qq/UBDehIC5AvSIqmeH38MvPCC9fVrrwH/+pc05w4RyD85ITM8521GcAC8G7W0FHjrLeDee6U3jiAIglAmv/zCp3cIzJsHPPmkfPYQshIyPU3ekpCQwDcuvRSYPNlxo5ISYN8+oLYWuOoqoHXrwBkYYlj0JCSB9CQEyBekRTI9Z84Eamr49iOPAE89Jc15QwzyT07I9DR5i6jhvHXrgIEDgWHDgI0b/W9UCOPp8CjhGtKTECBfkBbJ9PziC2DoUOC224DFiwEF5ypyBfknR/FBk6jU7zEx1m2TyX/GKABKpS8tpKfy8DYjOPmCtEimZ2Ii8PXXwFdf8YVDYQr5J0fxQVP0d9/x1XLvvMMTWjrCNmiqrQ2MYQRBKBKf5l8SwUlUFA+eiLBH8UFT4q+/AgsW8MngJ044bmT79EA9TS5JS0uT2wRFQXoSAuQL0uK1njU1wMMPA4cOSWpPqEP+yVF80FR7/rz1RUaG40bU0yQanU4ntwmKgvQkBMgXpMUrPWtqgHvuAVauBPr0AX7+WXrDQhTyT47igyaVRmN94SxSpp4m0dBkQGkhPQkB8gVp8VhPxoAHHgC+/Za/rq62f6AOc8g/OYoPmiK0Wr6hUgEpKY4b0URw0URFKT5LRUAhPQkB8gVp8VjPZcuA1av5dnw8sGYN0KuX9IaFKOSfHOUHTUKXYkoKL5fiCNueJhqecwnl6pAW0pMQIF+QFo/0NBp5/VGBjz8Gbr1VeqNCGPJPTsgETd4u42XC8JyrSWzU0yQardBzR0gC6UkIkC9Ii0d6vvYacPQo387JAe64wy82hTLkn5yQCZq8WsbLGFTCH9pV0CT0NKlUfFybIAiCCA/KynjQBPDRiDfflNceIqhR9iClXg+VMHnNVdDUvTtQV+d8+I6wEB8fL7cJioL0JATIF6RFtJ6LFwPl5Xx7zBiga1f/GRXCkH9yQqanySuELwLgOmiKiKCASSSMeuIkhfRUHl5PJSBfkBRRejIGfPYZ31apgJdf9q9RIQz5J0fZQRMA0y238BUQnTvLbYoiqK6ultsERUF6Kg9vM4KTL0iLKD0ZA6ZPB4YP5xO/W7Xyv2EhCvknR9nDc9nZMKxejfT0dLktIQiCIIKNiAg+JDdmDM1nJUQheU/Tpk2bcP311+OEs5IlAAwGA9LT06FSqaBSqfDll19KbYaF1NRU940MBuCpp4CpU4G33/abLUpAlJ6EaEhPQoB8QVo81lOl8osdSoH8kyNpT1NZWRkMBgN27Njhst2KFSvwzjvvWGrZ5OTkSGmGHXq9HinOkloK1NZaV08MGgRMnuw3e0IdUXoSoiE9CQHyBWkhPaWF9ORIGjRlZGRg+PDhLtvU1dXhu+++w5tvvolOnTpJeXmHiEr9TrXnREOp9KWF9CQEyBekxa2e770HqNXAnXcCsbGBMSqEIf/kSD48FxHh+pQbN27E9u3bccUVV2DgwIE4b1tQ1wE1NTXQ6XR2P6L56iuk3HwzcP311npCjqDac6KhVPrSQnoSAuQL0uJSz5MngUmTgH/+E8jKAn77LXCGhSjkn5yAqzB48GBotVps3boVkyZNwu23345t27Y5DbZmz56NGTNmNHlfo9Ggrq4Oqamp0Ov1MJvNiIqKQkJCgiVzadKZM4jeuxcAYDh1CvH19TAYDKirq0NkZCSSkpJQUVEBMAZhqnhddTV0Gg1SUlJQWVlpaZucnIzyhhQGsbGxiIyMRGVlJQAgOTkZ1dXVqK2tRUREBFJSUuzaRkVFwWAwcJuSklBTUwOTyQSVSoW0tDRoGrKWq9VqREdH27U1mUyoqakBAKSnp6O8vByMMcTExECtVkOv1wMAEhMTUVtba9e2oqIC9fX1iI6ORlxcnCXgTEhIgNlshtFoBACkpaVBq9Va2sbHx1s0jI+PB2PMsnIiOTkZWq3Wod5CHo+qqioAaKKhRW8AcXFxUKlUdm2rqqqcauhK79TUVJcautI7JibGpYau9K6rq3OqoTu9dTodzGYzIiMjYTabnerd2L8TExNdauhK74iICNE+21hvo9Eo2mdt9Y6kVB6iSUxMlNsEReFSz/x86wPyiBFAjx6BMSqECTX/rKgA/DENS8X8kHxBpVLh+PHjaNOmjct2ZWVl6Ny5M7799lvccMMNDtvU1NRY/okBgE6nQ6tWraDVapGcnOzakEWLgMcf59uffALcf7/zttHRPMHltdcCu3a5Pm8Yo9FoaDWihChdT51Oh5SUFHHfV4Xh6WdXui8EGqd6fv01MHIk305PB44ccZ3HjwAQWv5pNgNt2/IMEpMn88WR7hD7fZW1vy0jIwOjRo3C6dOnnbZRq9VQq9XeXcAm2IK7c8TE8KCJhucIgiCUy+rV1u05cyhgUiDr1wOnT/Of9HRxQZNYZE9uGRUVhWuuucY/J/ckaBLmNdFEcJfExcXJbYKiID2Vh7cZwckXpMWpnj/9xH/HxwMPPxwwe0KdUPLPpUut2488Iu25JQ+ahNE+21G/efPmYd++fQCANWvW4NChQwCAw4cPIyUlxX+r6DztaQKop8kNKsplIimkp/LwNiM4+YK0ONSztJR3PwC8UoTtIiDCJaHin2fPAt99x7ezsoAhQ6Q9v6RBk8FgwJIlSwAAK1euxIULFwAAq1atwl9//QUA+PXXX9GzZ0/ccccd+O677zBz5kwpTbCHepokR5h0TEgD6UkIkC9Ii0M9t2+3bl9/feCMUQCh4p/vvcfnNAHAuHGA1Iv+JD1dYmIiJk+ejMmNkkPusplYPWvWLMyaNUvKyzrHk6Cpf39AowEuucSvJhEEQRAy8csv1u0+feSzg/AL9fXAsmV8W6UCxo+X/hrKTrzgSdD08cf+tUUhUEZYaSE9CQHyBWlxqOevv1q3nazYJhwTCv75ww/A8eN8e8AAwM0Cfq+QfSK4X/EkaCJEIeTuIaSB9CQEyBekxaGeGzYAmzbxslkZGYE3KoQJBf98913rttQTwAWU3dN0zz2oatUK8ZGRNOwmEXV1dXKboChIT3FUVlbi6aeftiTwnD9/vsNUJEuXLsWBAwdQXl6OKVOm2K3MffXVV6HValFWVoYXX3wR2dnZAHh5iPz8fERFReHixYuYO3eupS4mwKcUPPfccwCAbt264X//+59fPiP5grQ41DM+Hrj1Vv5DeESw+2dZGU/BBfB42E1FN69RdtA0ZAhqb7wRCIFuxVCBMjxLC+kpjsmTJ2PkyJEYOXIkPvjgAxQUFGDBggV2bTZv3oy1a9fi66+/hl6vR58+fbB9+3YkJCRgxYoVOHfuHBYtWoTjx4/jnnvusVQimDFjBrKysvDEE0+guLgY48ePx5dffgmAJ9c9deoUNm7cCACWQMsfkC9IC+kpLcGuZ0UF8I9/AN9/D4wda19SVlJYiPDf//6Xde7cmXXs2JEBYFqtVtRxZrNZ3AUeeoixTp0Ya9eOMZPJe0MVjmg9CVEoXU+tVuvR99URJSUlLDY2llVXVzPGGDt//jyLi4tjOp3Ort3AgQPZ8uXLLa+HDBnCli5dyhhjrFOnTmzz5s2WfV26dGEbN25kNTU1LCkpiR09epQxxv8eSUlJ7NChQ4wxxt599102Z84cVllZ6bHdnn52pftCoCE9pSVU9Dx1irGzZz0/Tuz3NWTmNHmb+0SoveWW06eBgweBY8co7YALROtJiIL0dM+WLVvQvHlzxDZUos/IyIBarcaOHTssbcxmM4qKiux6gjp27IiioiKUlpbi4MGDDvf99ttv0Ov1aN26NQBecLx9+/YoLi4GABQWFuLZZ59FixYt8OGHH7q006fi4iBfkBo7PRkDpkwB3n4b8NPwqtIJFf9s1Qpo0cJ/51f28Nz581CVlwORkUByMl+D6AzbJGcmEx/7JghCdkpKSprUvEpMTERpaanltUajgdFotGuXmJiI3bt3o6SkBACa7CstLUVJSQmSk5PtKrjbnvuHH36AVqvF66+/joceegjp6ekYOnSoQzt9KS4eHx8Pk8lkKYScmprquLg43BdqpuLivNh1fX29pbh49N9/I+nNNwEAtf37w/z99wCouLgnxcWrq6upuDiUHjQNG4a0nTt5sCRku3KG7QAo9TQ5JZRS6YcCpKd7VCqVpZdJwGQyIdrmQUfIVmzbTmjjbF9CQoKoc6ekpOCll15CfX09Fi1a5DRoKigowJNPPml5LRQXT09PtxQAbbxs2zaQS0lJsfOHxkVDGweOtna7a2s7aT4pKcllW9vX0Y0yZrtrm5CQYHmd1qimm23bmJgYu7apjcrRN75OvM1DrLu2gobV1dVWPbdssdp5ww2IbtDOEw1t27rTMBB6N9bQnd6eaGjbVvDZ6upqREZGOtXbtq2z8/rDZ8vLgZ9+UmPoUJ7IMjEx0eV5nekttmc4ZIbnvEJIOaBWu+5lApr2NBEOiYhQtssEGtLTPVlZWZanWwGDwYCsrCzL62bNmkGtVtu10+v1yMrKsrRztq/xuYV9jcnLy3NbXDw5OdnuxxPIF6TFTk+boVz06hV4YxRAsPrnRx8Bd9wBtG4NrFvn/+sFpwpSYRs0ucO2p4mCJqeEQq6OUIL0dE9OTg7OnDkDU8P3Uhg662Xzz0+lUiEnJweHDx+2vHfkyBHk5OQgKysLnTt3drivR48eiIuLswRD9fX1OHHiBG6++eYmdkRERODaa6/1y2cEyBekxk5P27mwHhZSJjjB6J+MWYvznj0L+HFxqwVlB00N47KigibbniYaniOIoCEzMxODBg1CUVERAGDDhg3Izc2FWq3G9OnTcfbsWQC8J2j9+vUAeFd7SUkJRo0aBQDIzc217Dt27BjS09PRr18/qNVqjB8/3rKvuLgYQ4cORXZ2Ni5cuICPPvoIZrMZjDG8/vrreOWVVwL98Qlfqa8HfvuNb7dsyau4Eopgxw5gzx6+3acP0LWr/6+p7DlN1NMkOZ4OORCuIT3FsWTJEuTn52P79u3QaDSYM2cOjEYjCgsLMXz4cGRmZmLYsGHYu3cvnnvuOWg0GhQWFlrmUOTm5iI/Px8zZ85EaWkpVq9ebTn3yy+/jGnTpmHWrFkoKSnBsobiVXq9Hi+++CJmzZqFfv36YerUqWjbtq3fPiP5grRY9Dx0CBDmq9DQnNcEo38KvUyA/zKAN4aCJgHqaRJFdXV1k0l5hPeQnuJo3ry5JZix5bhQaKqB/Px8h8dHRERg3rx5DvfFxcXhrbfeavJ+27ZtcfToUS+s9Q7yBWmx6Gk7n4mG5rwm2PxTpwM+/ZRvJycD99wTmOsqe3hOCJoarY5xCPU0iaKWAkpJIT0JAfIFabHoSZPAJSHY/LOwEBCmWf3zn4DNQkK/EjI9TYsXL8bixYthdpc6wBYh+BGTT/2OO3hJ5JiYwMwmC1GCdQVFqEJ6EgLkC9Ji0dN2EniPHvIYowCCzT/lGJoDABVjjAXucr6j0+mQkpICrVbrfow1MpJPArzuOvsvDuE1jDFL3hvCd5Sup0ffV4Xh6WdXui8EGoueCxcCP//ME/ps3iy3WSFLMPnnH38AwkLWHj2s8/x9Qez3NbhCR6mpr+e/g+QPrQSETKyENJCeymPx4sXo0qULeno4f4Z8QVosej7+OPD55xQw+Ugw+adcvUxACA3PecXvv0NbUYEUfxaiIQiCsCEvLw95eXmWJ1eCIKTlX//i67u+/BK4//7AXlvZQVP37oiuqhJXR85gADQavnLukkuAIFolEEw0LjlB+AbpSQiQL0gL6SktwaRnly7A668Dr70GBHqqlbKH5wDRRfiwfDmfAH755cDatf41KoQRrSchCtKTECBfkJZIsxlYtQpoKBJL+EYw+qccc9MVHzSJTv1OtedEEYyp9EMZ0pMQIF+QFtPatcB99wGXXgosWSK3OSEP+SdHucNz9fXARx8hprISaN8e+Mc/XLe3TUsQZPkoCIIgCM+I/v57vmEwAJmZ8hpDSMJ//sPrzT30EJ9FIwfKDZrq6oCHHkIiAPTr5z5oop4mUYTbsnF/Q3oSAuQLElJfD/WGDXw7NhYYMEBeexSA3P5pNAKzZ/Opx6+8Avz9NxAXF3g7lDs8Z5t+SszAJ2UEF4VRKIJMSALpSQiQL0jIzp1Q/f033x4wQNxiIMIlcvvnl1/ygAkAhg+XJ2AClBw0CTmaAHF5mqj2nChMFFBKCulJCJAvSMi331q3R4yQzw4FIbd/ypmbyZaQCZo8Thhn29MkJmiiniZRBEtGWKVAehIC5AsSIgRNKhUwbJi8tigEOf3z8GFgyxa+3akTn3EjFyETNOXl5WH//v3YKbYciqfDc9TTJIq0tDS5TVAUpKfy8DYjOPmCRBw7Buzdy7evv56vniN8Rk7/XLbMuj1hgrxFPkImaPIYT4fnqKdJFBphUJmQBNJTeXj8gNcA+YJE0NCcX5DLP00m4P33+XZ0NF85JyfKDZqop4kgCCL8sA2ahg+Xzw5CEtasAc6f59sjRwIZGfLao9yUA572NPXoAezbx4OnZs38Z1eIo1ar5TZBUZCehAD5ggQwBtx4I/D336ivqUFE585yW6QY5PLPd9+1bss5AVxAuUGTpxPBExJ4QRvCJdG2PXKEz5CehAD5ggSoVMDLLwMvv4y6c+cQQ5PrJUMO/ywvB375hW+3bQvcckvATWiCcoMmlQrIyEB9fT0iqNK4ZBgMBqSnp8tthmIgPQkB8gVpMURHg9SUDjn8My0NOHMG+OQT3q8hR625xig3aEpNBc6fR4VGQzcigiAIgghBUlOB3Fy5rbCi3KCpgaSkJHENDQbg00/5VP127YBBg/xrWIgiWk9CFKQnIUC+4CMaDVBVBVx2GQDSU2pIT04QdHb5l5qaGnENKyr4LLO8PPukEIQdovUkREF6EgLkCz7yySdAq1ZAmzbA+vWkp8QEWs9g/fOFTNDkbcI40anfbVcGBOtfKwiQO5W+0iA9CQHyBR8pLua/T54ELr2U9JSYQOp55gzPSTpxIvDnnwG7rChCJmjyOGFcRQXwz38iYdIkYNEi9+0paBIFlXqQFtJTeXj7gEe+4AOMAUVFfDs5GejWjfSUmEDq+d57gFbL68199VXALiuKkAmaPKaqCvjkE6hXr7Y+gbiCgiZRUKkHaSE9lYe3GcHJF3zg0CFrBsS+fYHISNJTYgKlZ309sHw531apgHHjAnJZ0Sg3aPKljAoFTU4pLy+X2wRFQXoSAuQLPvDTT9btm24CQHpKTaD03LiRj7ACwMCBQHZ2QC4rGuUGTZ4mt1SprIETBU1OYba6Ej5DehIC5As+sH27dfuGGwCQnlITKD2XLrVuB0MG8MaER9AkNiOWMERHQZNTYmx75AifIT0JAfIFHxCCpshIXhILpKfUBELPc+eAb77h25deCtx+u98v6TF+CZo2bdqE66+/HidOnHDa5ttvv8Vjjz2GRx55BJs2bZLeCE+H5wBr0GQ0Sm+PQqD6WNJCehIC5AteYjDwuqEAcNVVQHw8ANJTagKh58qVQF0d3x47lpeCDTYkT25ZVlYGg8GAHTt2OG1z4MABvPLKK9i+fTvq6+vRs2dPrFmzBi1btpTOEOpp8gt6vZ4yrEsI6UkIkC94ya5d1ofkXr0sb5Oe0uJvPRmzH5qbMMFvl/IJyXuaMjIyMHz4cJdtFi5ciEGDBkGlUiEyMhJ9+vTB22+/La0h3vQ0tW7NE6O1bi2tLQRBEIR/OH0aiI3l29dfL68thNds2QIcOcK3b7kFaN9eVnOc4pfhuQg3PTs//PADsm2mxHfs2BFFQo6NRtTU1ECn09n9iMLTieAAsHUrcPw4sG2buPZhSGJiotwmKArSkxAgX/CSMWMAnY73ONk8sJOe0uJvPXU63mcBBOcEcAFZas+VlJTYdfMlJiaitLTUYdvZs2djxowZTd7XaDSoq6tDamoq9Ho9zGYzoqKikJCQAK1Wi4jycqQ2tK2prUWlRoPU1FQYDAbU1dUhMjISSUlJqKioAADExcVBpVKhqqoKAJCSkoLKykpL2+TkZMuSy9jYWERGRqKyshIAkJycjOrqatTW1iIiIgIpKSl2baOiomAwGADw+j01NTUwmUxQqVRIS0uDRqMBwMeMo6Oj7dqaTCZL+vr09HSUl5eDMYaYmBio1Wro9XqLhrW1tXZtKyoqUF9fj+joaMTFxVkCzoSEBJjNZhgb5m6lpaVBq9Va2sbHx0Or1QIA4uPjwRhDdXU1ACA6OhrV1dVN9BbaAnCqoTu9q6qqnGroSu/U1FSXGrrSOyYmxqWGrvSuq6tzqqE7vXU6HcxmM+rq6tCsWTOnejf278TERNE+21jviIgI0T7bWG+j0SjaZ231joyMBCGO2tpamrzsLdHRwLXX2r1FekqLv/UcMYJP/N682ZI1IihRMT+tI1SpVDh+/DjaCKGjDYmJiVi9ejUGDx4MAHj77bexaNEiHDhwoEnbmpoau5o3Op0OrVq1glarRXJysnMDzp4FnnkGNUYj1LfcAkye7PNnIniwSvMEpEPpeup0OqSkpLj/viqIxYsXY/HixTCbzTh06JDoz650Xwg0pKe0KF1PsfcqWXqasrKyLE/WAJ9glpWV5bCtWq32btZ+Zibw4Yeo1GigVvAfmiCI4CIvLw95eXmWmzBBEMpBljxNt956Kw4fPmx5feTIEeTk5PjlWh5FxrNnA3fcAQwezJexEk1Q8pOGHJCehAD5ghe8/TZw553ArFlAoykepKe0+EvPo0cBm3Ag6PFL0CSM+NmO/M2bNw/7GnJpPProo9i4cSMAoK6uDjt27MAjfpr55VHq923beGat9euBhvkchD1UmkBaSE9CgHzBCzZs4BVdn3uuyYMu6Skt/tLzlVeAjh2BnBy+DivYkTxoMhgMWLJkCQBg5cqVuHDhAgBg1apV+OuvvwAA11xzDcaOHYunnnoKTz75JF5//XW0aNFCalMAeJj6XVi2ClCuJidQaQJpIT0JAfIFL/j9d/47KQm4/HK7XaSntPhDT60WWLWKb//xB88CHuxIPqcpMTERkydPxuRGE6937dpl93rs2LFSX9qe/fuBm25CGgA8+CCwYIH7Y2znTlHQ5BBajSItpCchQL7gIRcuAKdO8e3u3ZskMSY9pcUfen7yCdCwUBhjxliSuQc1skwEDwi1tcDFi1AB4ucnUdDklljb3jjCZ0hPcVRWVuLpp5+2pFWYP3++wwUiS5cuxYEDB1BeXo4pU6bgmmuusex79dVXodVqUVZWhhdffNGSK85sNiM/Px9RUVG4ePEi5s6di7S0NLvzmkwm9OzZE4sWLUL//v398hnJFzxkyxbrtk0mcAHSU1qk1pMx4N13ra+DOTeTLeFRsNfT2nMABU1OEJ1clBAF6SmOyZMnY8CAAZg9ezauu+46FBQUNGmzefNmrF27Fq+99hoWLVqEMWPGWHJNrVixAufOncPcuXPx/PPP45577kF9Q9WAGTNmICsrC7Nnz8aYMWMwfvz4JueeP3++y1qaUkC+4CEbNli3Bwxospv0lBap9dy1C/jzT77dsydw9dWSnt5vhEfQ5GntOYCCJoIIEkpLS+3yug0ePBhLliyxJBoVmD9/vqWEU1JSErKzs1FYWAiAL0QZMWIEAKBt27YwGAz44YcfYDKZsHDhQsu+vn37YtOmTXare7du3YrMzMwmvU+EjDBmDZrUaqBfP3ntITzGts5cqPQyAeESNIntaaKJ4G5JSEiQ2wRFQXq6Z8uWLWjevLlleCAjIwNqtdquKLjZbEZRUZHD8kylpaU4ePCgw32//fYb9Ho9WjfUm4yIiED79u1RXFwMgA8Lrl69GuPGjXNrp9clnxogX/CAw4eBkyf5dr9+QFxckyakp7RIqafBwOcz8fMC990n2an9TsjMabLNsisK24K91NMkGaL1J0RBerqncdkloGnpJY1GA6PR2KQ80+7du1FSUgIADks3lZSUIDk5GVFRUQ7PPXfuXIdDgY7wtuQTwMvnVFdXW4YTqeST65JP0V9+CeFfeFXfvjBqNE1KEMXExMBoNFLJJ4lKPpnNZqSnp0tS8umLL1JhMPD/y3ffbUJCQhQ0GmvbYC75FDJBk8dZdn2d09TgNIQ9RqPRcsMhfIf0dI9KpWoyCdVkMiE6OtquDWA/WVVo42xfQkKCy3OvX78e1113HS655BJRdhYUFODJJ5+0vBZKPqWnp1vKMjS+d9kGclVVVXavG5dyaBw42trtrq3tpPmkpCSXbW1f22ospq1tb0Tj4UzbtjExMXZtU1NTXV7H9juSmpoK/PCDdd+ddyLepn1cQ6+To7Ifvmho29adhoHQu7GG7vRuoqGL69i2FXxWo9EgMjKySds4m14+V/4NWDVcvtz6Xl5eDCIifNPQtm3jwsJi9RbbMxwyQZPHeBM0de8OTJzIg6e2bf1jF0EQHtG47BLA88HZll5q1qwZ1Gq1w/JMQjutVmu5wev1enTt2tXhuYXjXnvtNfzxxx+W98vLyzFixAg8++yzeOaZZ5rY6XXJJ8JzPv6YJyL++WfgyivltobwAMaAadP4nKYLF4DrrpPbIs9QbtDkzfDcwIH8h3AKTYaVFtLTPTk5OZg4cSJMJhNiYmIsQ2e9bJaZq1Qq5OTk4PDhw+jduzcAXp7pgQceQFZWFjp37ozDhw9bkugeOXIEBQUF6NGjB+Li4nD69Gm0atUK9fX1OHHiBG6++WYMHjzYrlh4nz59sGDBAgz00z2CfMEDMjKACRP4jxNIT2mRSk+VChg1iv8YjeL7NIIFmghOeETjp3LCN0hP92RmZmLQoEEoKioCAGzYsAG5ublQq9WYPn06zp49C4AP4a9fvx4A72ovKSnBqFGjAAC5ubmWfceOHUN6ejr69esHtVqN8ePHW/YVFxdj6NChyM7ORkZGBi677DLLT2RkJDIyMlxWQPcF8gVpIT2lxR96hmIqLeX2NF1+OfDhhzDo9Ujs2VNuaxRDvW0PHuEzpKc4lixZgvz8fGzfvh0ajQZz5syB0WhEYWEhhg8fjszMTAwbNgx79+7Fc889B41Gg8LCQsscitzcXOTn52PmzJmWFAYCL7/8MqZNm4ZZs2ahpKQEy5Ytk+Uzki9IC+kpLaQnR8VCrECPMBFcq9WKeuLT6/VNJpG5hTH+I3ZYL4zwSk/CKUrX09Pvq5IIyL0q3Dh4EFiyhE+juOkml3U3SE9pkULP554DbriB//lELlYLGGK/r4qPCuIc5O9wyo8/AomJQFQU8OKL/jMqhPFIT8ItpCchQL4ggjVrgIULgcGD7bMjOoD0lBZf9TxwAJg1Cxg6lP/5QhXFB00eJZiLigIqK/kkcqGKIGEHlSaQFtKTECBfEIFt6RQ3E/JJT2nxVU/bUe9QDpqUO6dJrwcOHkSkXg906gTYLE92im0kTUETQRBE8FBZCTQsBkDr1vy+ToQENTXAypV8OyYGeOABee3xhZDpaVq8eDG6dOmCnmIndf/2G9CzJ1JuuQV4801xx1DQ5BYqTSAtpKfy8Phe1QD5ghu2bQNMJr49aJDbVdGkp7T4ouc33/CcTABw551A8+YSGSUDIRM05eXlYf/+/di5c6e4A7xJOWA7qZCCJofQCgppIT2Vh8f3qgbIF9xgk2gUffq4bU56SosveoZqcV5HhEzQ5DHeJLeknia3VJMukkJ6EgLkC27YutW6LSKNNOkpLd7qeewYsGkT327fHujfXzqb5EC5QZM3PU22QVNDYUGCIAhCZurqgC1b+HZaGtCli6zmEOKxnQA+YULoZ/IJcfNdYBs0UU+TZDQu9Ej4BulJCJAvuOCXX4CKCr49YICoezrpKS3e6FlbC7z3Ht+OigIeflhSk2RBuUGT7fCc2J6m6Gjrl5GCJofo9Xq5TVAUpCchQL7ggo0brdu33y7qENJTWrzRs7gY+Ptvvn377UBD6ceQRrkpB7wZnlOpeG9TZSUFTU4wm81ym6AoSE9CgHzBBf37AwYD8L//8UzgIiA9pcUbPW+9FfjzTz4RfORI6W2Sg/AImjwZRP34Y57fPT1depsUQFSUcl1GDkhPQoB8wQW33cZ/PID0lBZv9bz6auC//5XYGBlRrld5MzwHACNGSG+LgqDcJ9JCehIC5AvSQnpKC+nJUe6cJm+G5wi3aLVauU1QFKQnIUC+IC2kp7R4oqdQ816JKDdoGjgQKCtD+cGDwOOPy20NQRAE4Q3V1XzlnFL/CyuQ778HrroKWLQI0GjktkZaQiZo8rg0QUwM0Lw54lq3BjzpVty7F/jhB2DtWvshPgIAEG+bNZ3wGdJTeXhbRoV8wQnr1/PcTAkJHk2OIT2lxRM9ly4F9u3j/RXFxf6zSQ5CJmjytjQB8/TpZOpUPuV/2DBaQecAj/UkXEJ6Ko+A3avChbNn+e/qao8egElPaRGr59mzwJo1fDszExg61I9GyUDIBE3e4nHqd9sEl5WV0hqjAKg0gbSQnoQA+YITSkut25mZog8jPaVFrJ7vvw8I2QnGjuXpD5WEclfP/fUX8OWXiDUaeVatXr3EHZeYaN2moIkgCEJehJ4mwKOgiQg89fX2ZVPGj5fPFn+h3KBp717guecQDwCpqRQ0SQSVJpAW0pMQIF9wgm3QlJUl+jDSU1rE6Pnjj7xAL8DTarVr51+b5EC5w3PeJre0DZoMBunsUQgG0kRSSE9CgHzBCULQFBUFNGsm+jDSU1rE6Ll0qXX7kUf8aIyMKDdo8ja5JQVNLqmrq5PbBEVBehIC5AtOEOY0tWjh0QMw6Skt7vS8cAH46iu+3by5cvNEKzdo8ja5pe3qDBqea0JkZKTcJigK0pMQIF9wQF0dUFbGtz0YmgNIT6lxp+cHHwAmE99++GFArfa/TXJAQVNjqKfJJUlJSXKboChIT0KAfMEB585Z7+UeTgInPaXFnZ4XL/L0iAAwYUIADJKJ8AiaaE6TZFRUVMhtgqIgPQkB8gUHeJluACA9pcadnrNm8T9XYSHQqVNgbJKDkFk9t3jxYixevBhmIQGEO3yd0xQRYe1rJAiCEInH9yrCOd268ZXQZ88Cl1witzWEG5o1A+67T24r/IuKhVjaVJ1Oh5SUFGi1WiQnJztv+MEHwEMP8e3Fi4HcXHEXMJl4Zq7YWCr064Dq6mrE2SYAJXxC6XqK/r4qEE8/u9J9IdCQntKidD3Ffl/DY3jOk+AnJoZnBaeAySEq0kVSSE9CgHxBWkhPaXGm58GDQFVVgI2REeUGTenpwLXXoq5bNyAjQ25rFENVOH07AgDpSQiQL0gL6SktjvRkDLjnHr6wMS8PqK2VwbAAEzJzmjzm9tuB22+HTqNBenq63NYQBEEQnlJYyKdMtG4N3HQTQGkEgoqdO4Hdu/n2778rr86cI5QbNDWQkpLi2QEGAzB7Ns/R1LGj+LlQYYLHehIuIT0JAfIFB7z6Kp8IHhMDeFiAl/SUFkd6hkMG8MZIOjxXWVmJ3NxcFBQUYMqUKaipqXHY7uTJk4iOjoZKpYJKpcLvv/8upRlNbPIIs5l/URctAr75xj9GhTAe60m4hPQkBMgXHHD6NP/dqpVnqWNAekpNYz31et4RCABJScC998pglAxIGjRNnjwZAwYMwOzZs3HdddehoKDAYbtly5ZhzZo12LhxI7Zs2YJrr71WSjPs8DiVvm1GcMrT1AQqTSAtpCchQL7QCJ0O0Gr5duvWHh9OekpLYz0//dRaNGP0aPt/nUpGsqCptLQUq1evxuDBgwEAgwcPxpIlS6DX6+3alZeXY9euXejSpQtuu+023HzzzVKZYM833wA334zk4cOB9evFHxcVxVfPAfxLS9hBpQmkhfQkBMgXGnH8uHXbi6CJ9JSWxnqG49AcIGHQtGXLFjRv3hyxsbEAgIyMDKjVauzYscOu3eeff47i4mJkZ2djzJgx/qtEXVoKFBcj6pdfeCp+TxDGboWnHMJCuOXa8TekJyFAvtCIY8es2+3be3w46Skttnr++SefBA4A3bsDPXrIY5McSBY0lZSUNFmllpiYiFLbNPgAHnnkEWi1Wqxbtw4//fQTxo4d6/K8NTU10Ol0dj+i8DZPE2ANmigNfxPKy8vlNkFRkJ7KY/HixejSpQt69uzp0XHkC42wDZratfP4cNJTWmz1DNdeJkDC1XMqlcrSyyRgMpkQ7WANYmRkJAYPHowNGzbgqquuQmlpKbKcVLCePXs2ZsyY0eR9jUaDuro6pKamQq/Xw2w2IyoqCgkJCdBqtVAbDBCGWA1VVTBpNEhNTYXBYEBdXR0iIyORlJRkqacTFxcHlUqFqqoqJCckcGH0emjKyhAZE4Pk5GSL08TGxiIyMtIyMS45ORnV1dWora1FREQEUlJS7NpGRUVZetSSkpJQU1MDk8kElUqFtLQ0aDQaAIBarUZ0dLRdW5PJZJlQn56ejvLycjDGEBMTA7VabRn+TExMRG1trV3biooK1NfXIzo6GnFxcZaAMyEhAWazGUajEQCQlpYGrVZraRsfHw9tQy9bfHw8GGOobli5Ul9fD61W20RvoS1gzeeRkpKCyspKt3oLbauqqpxq6Erv1NRUlxq60jsmJsalhq70rqurc6qhO711Oh3MZjOqq6thNpud6t3YvxMTE11q6ErviIgI0T7bWG+j0SjaZ231Dschkry8POTl5VkyDBNe4mPQRPiHqirg44/5dnw8n88UVjCJ+Pjjj1mnTp3s3ouPj2dFRUUujxs0aBD79ddfne43Go1Mq9Vafk6fPs0AMK1W69qgN95gjPc3MfbRR6I/B2OMsQEDrMeWl3t2rMKprKyU2wRFoXQ9tVqtuO+rAvH0syvdFzxm0CDrffjcOY8PJz2lRdCzooKxF19krFUrxh5+WF6bpETs91Wy4bmcnBycOXMGpoYit8KwXK9evVwel5CQgCuuuMLpfrVajeTkZLsfUfgyPJeaat2meU12hGPPgT8hPQkB8oVGCD1NCQleVXUgPaVF0DMlBXjpJT5P//XX5bVJDiQLmjIzMzFo0CAUFRUBADZs2IDc3Fyo1WpMnz4dZ8+eBQB88sknlu2tW7eiX79+/unCtg2aPMzvAVt7KGiyg3KfSAvpSQiQLzTi8sv5BPBOnbyqBUp6SktjPSMj7fsXwgVJM4IvWbIE+fn52L59OzQaDebMmQOj0YjCwkIMHz4cmZmZ+P777/HYY4/htttuw6BBgzB16lQpTbBSX2/d9vQLd9VVwG238eBJwVWdCSJUqKysxNNPP22ZtzV//nyo1eom7ZYuXYoDBw6gvLwcU6ZMwTXXXGPZ9+qrr0Kr1aKsrAwvvvgisrOzAQBmsxn5+fmIiorCxYsXMXfuXKSlpQHgD3bjx4/H2bNn8dBDD2HRokUB+bwEgLVr+W/bB2CCkJsADRdKhuh5Aq+9Zh0PX7UqMMaFAbW1tXKboCiUrqdUc5oeeOAB9uWXXzLGGFu5ciV74oknmrTZtGkTGzFiBGOMMZ1Ox7p27coMBgNjjLHly5ezKVOmMMYYO3bsGOvVqxczm82MMcaef/55tmDBAsYYY0VFRWzkyJGMMcb0ej175ZVX2MWLF9l3333HoqKi2MaNG0Xb7OlnV7ovBBrSU1r0+lr20kuMHTsmtyX+IeBzmoIOX4bnCKdUe1j/iXAN6ekesYlz58+fj+HDhwPgq/iys7NR2FDnYd68eRgxYgQAoG3btjAYDPjhhx9gMpmwcOFCy76+ffti06ZNOHz4MKKiojB9+nSkp6dj6NCh6N69u1/nyZAvSAvpKS2ffVaLl17iCxnnzJHbGvlQbjTRqxdQUIDqKVP4mDghCbW1tXKboChIT/eISZxrNptRVFRkGXIDgI4dO6KoqAilpaU4ePCgw32//fYb9Ho9WjdknI6IiED79u1RXFyM2NhYqBqG9isrK3HVVVehf//+fvuc5AvSQnpKy3vvWWfz9O4toyEyI+mcpqCiXz+gXz/UVFQgLhxnq/mJCOq1kxTS0z1iEudqNBoYjUa7domJidi9ezdKSkoAoMm+0tJSlJSUIDk5GVFRUU7PvXXrVuTn5yMzMxPV1dWWfGSNqampsStSLjoRbwPkCzY89hiwYwfQpg2wcCGQmenxKUhP6ThyBPj5Z55zsUMHwF/Vz0IB5QZNDXi1Mm/PHuDBB4ELF4CHHgJeeUV6w0IUStYnLaSne8QkzhV6hGzbCW2c7UtISBB17nbt2mHs2LF4+umn8dRTT+Gtt95yaKe3iXgBntQ0JibGkjRUbCJeoGlSUyUk4sXmzYj66y+wP/5A9TvvwNhwXU8S8aakpFAiXkiTiPfNN2MA8EVRo0dXobzcGLaJeEMmaFq8eDEWL14Ms9ns0XHl5eVNnlLdEhHBi+sAQMNTKsHxSk/CKaSne7Kysiz/7AQMBoNdFYFmzZpBrVbbtdPr9cjKyrK002q1/B9yw76uXbs6PLdwnECLFi0wduxYqFQqzJ8/36mdBQUFePLJJy2vdTodWrVqhfT0dEt+ucZBsu3fXqPR2L1unJOusZ/YBnvu2tquNExKSnLZ1vZ144oO7tom2JS6F1YgOmobExNj1zbVdjSAMeDkSQCAqm1bxKemwrZvL7XRyEFjm4S/cWM9HbX1REPbtu40DITejTV0p7dtD6k7DW3bxsenYNUqvh0VBUyeHI/0dOv+OJsV5q78G/Cfz9q2TUxMdNnWmd5ie4ZDpv8yLy8P+/fvx06hSqA7amsBoxGoqbFPPyCGZs2s2xcvenYsQRCSIiZxrkqlQk5ODg4fPmx578iRI8jJyUFWVhY6d+7scF+PHj0QFxeH06dPA+Blgk6cOIGbHYw/XHfddWjZsqVTO71OxEvY8/ffvFYH4FWhXkJa1qyx1rwfMQK49FJ57ZGbkAmaPGbuXCAuDulZWcC6dZ4daxs0XbggrV0hTuOhDMI3SE/3iE2cm5eXh/Xr1wPgT40lJSUYNWoUACA3N9ey79ixY0hPT0e/fv2gVqsxfvx4y77i4mIMHToU2dnZMBqN2LVrl8WOdevW+S+vHMgXLBw9at32IWgiPaUhnIvzOiJkhuc8xpcyKtHRQHIyoNNRT1MjbCfMEr5DeopDTOLcYcOGYe/evXjuueeg0WhQWFho+ceZm5uL/Px8zJw505LCQODll1/GtGnTMGvWLJSUlGDZsmUAgIMHD2LIkCG4/PLLccMNN6BXr14YOnSo3z4j+UIDtkHT5Zd7fRrS03dOngT+7//4dnY2w4ABnmdmVxrK9SpfgiaA9zZR0NQEg8FAc3AkhPQUR/PmzS3BjC3Hjx+3e52fn+/w+IiICMybN8/hvri4OIeTu6+++mqcE8YlAgD5QgMS9TSRnr7zwQfWf6WjR1cjIsLxytFwQrnDc7bzmLxZeioM0ZWXAx5OPicIgiC8ZNs263bnzvLZQeDpp4GPPwZycoDRo2vcHxAGKDdokqKnCeDBV8NSSKLpKgbCN0hPQoB8AYDJBGzdyrdbtuTpp72E9PSd2Fhg9Gjghx+ATp0S3R8QBlDQ5Izmza3bNERnwTZ5H+E7pCchQL4AYNcu68q5/v29u3c3QHpKC+nJUe6cJtvhOW++eBkZ1u1z54COHX23SQEIy74JaSA9CQHyBQBXXgls3Aj873/ANdf4dCrSU1pIT45ygyZfC/becQdP4d+iBdWus0Hlw5Mf0RTSU3l4m4iXfAFAUhJw2238x0dIT+/5z3+AnTt5ioFbbuH/QklPjoox2+gieLG9ER06dAhardZ18rjp04HZs/n25s38L08QREDR6XSWchbhluwxnD87EbrU1/NMD8eP80Ga48cBm1rXikXs9zVk5jR5nBHc1+E5wiFCHR9CGkhPQoB8QVpIT+/YvJkHSgAwYIA1YCI9Ocodnnv0UWDwYOgqKpDs49g4QRAE4WdWrgRKS4E776QpETJimwF84kT57AhWlBs0tW0LtG2LyMpKwKaooWgY41/gv//meZps6lyFM7aFEQnfIT0JgbD3hY8+AjZt4lMrTp8GLrvMp9OFvZ5eUFYGfP01377kEuD22637SE+OcoOmBhpXjfaItm154d+rrwb+/FMym0IZn/QkmkB6EgJh7wsnT/LfSUk8R5OPhL2eXrByJf+XBwAPPwzExFj3kZ6ckJnT5C0Gg8G7A1UqIDOTb585I51BIY7XehIOIT0JgbD2BcZ47xIAtG4tyTzUsNbTCxgDbCsVTZhgv5/05Ci3p2nPHuDoUUQbDGCDh+DH/6WjWzf7nJWlpcDjj1tfN15HOKMqG11wCrh4EeeOVeLSdtZhvu+/B1ascG9GZibwxhv2782eDfz+u/tjBw0Cxo+3f+/ee+3nuDsjPx/o0cP6es8eYOZM98cBwKefApGR1tcffgh8+y3fNpkS7Z4+bLnySuDFF+3fe+op6wNk8+bcrnBYiUEQhAdcuAAYjXy7dWt5bQlTfvoJOHiQb/fvD3ToIKs5QYtyg6YVK4CFC5EE4MneW/H6r33w2WfAqFHWJno9YFPsvAnDkY0u+AkAUHvkJNCui2XfkSPA55+7N8OR4/3yC7B2rftjW7Ro+t4XX4grhffQQ/avz58XZy/QNHjcs8f2WCcREwBHiys2bgR277a+vngR+OwzcXaEA1TqgRAIa184dcq6LVHQFNZ6esG771q3H3mk6X7Sk6Pc4Tmb//y//Mo/pthsBQIn0MayHXXmhARGET/80DQoC2coyy4hENa+YBs0tWolySnDWk8Pqa/nHQEAkJ7OFzA2hvTkKLenyWYMi0GF+HigXz/7Ju3a2X9XAfuh9PjCbOAZvp1RddKu3dixwMiR7s2IcqDw++9be6Jd4WjR34kT7o8DrPWGBW680TplwB22Q3MAX8wyZQrfLi8vR1pamsPjHC2u2LCBTywcOBDYv5/3NJ09C2RlibNF6dTU1CDBm9WdRNDibUbwsPYFP/Q0hbWeHhIRAWzbBvz2G8/RFBvbtA3pyVFu0GTTncGgwr/+Zb98EgCio9081HRvY9mMPH3CbldiIv/xBtt5VZ7i7Src2Fjvj01N5T8AEB/PkJ4u/thLL+W/Bw/mQRPAh/soaCKUSl5eHvLy8iwZhgkR+CFoIjxDpQJ69uQ/hHNCZnhu8eLF6NKlC3qK/YvaBE31iMCIEV5ctF076/bhw16cQHmkexIx2XDVVdbtPXskMkYBeKsnoTzC2hf8EDSFtZ5+gPTkhEzQ5FMZFajQvbsXF83Oto45HTjgxQmUR3l5uVfHUdDkGG/1JJRHWPtCZibQpQufUCNRN3RY6+kBp06Jm2dKenJCJmjyFFZv9YIWmSrExXlxkshIoGNHvl1bK26tv8Lxtr5z58583BygoMmWEKmXTQSAsPaFN94A9u3jkx4lyjwd1nqKRKfj9+Zrr+WJLV1BenIUGzQZq61/4NZtfPiYa9YABgMfnotQrFyiiXGWpMkNcXF8rLxfP54DhOB4qyehPMgXpIX0dM8nnwBVVbzgxfbtrtuSnhzFTgQ3VtdD6FxqnuFDdlnKxGiHL/WHfv1VQkMUAtVzIgTIF6SF9HSPbXFeR7mZbCE9OYrtOqmtj4IRapgQjeRUxX7MgKPX6+U2QVGQnoQA+YK0kJ6u+f13a2WKHj3gdt4v6clRbDRxyedvIZYZoT3/Nx5750q5zSEIgiAcsX07cN11wLBhVC4ggHjSy0RYUezwnEBKivNaaaJ5/33gxx+Bo0d5gR4JikmGKoneJqeygTG+YoNGPqXRk1AGYesLJ08Cu3bxbQknPIatniKorAQ+/phvx8cD99/v/hjSk6PYniaB2tpa30/yxRfABx/wonFChsYwxVc9p07lCS87dwZqaiQyKoSRxD+JoMLjnHINhK0v/P23ddtRwU0vCVs9RfDZZ7z2KsADpuRk98eQnhzFB001Uvxnzsmxbv/4o+/nC2F81bOiAigrA6qrPa8FqEQk8U8iqPA4p1wDYesLZ85YtzMzJTtt2OopAm+G5khPTsgETZ4+vf3x+Pso6joZ/+tbgIM/nfft4rfcYt3+v//z7Vxhjm3v+8aNsplBEESwcNKmrieN2fudfft4nTmAJx3u1Utee0KNkAmaPH16U/2wGTfvX4Kcv97F+SM63y7erZv1CWjjRmu/Zhjiayr9AQOs21984aMxCoBKExACYesLtkGTy2KgnhG2erpBpQJGjeK1Vx95RPwUXdKTEzJBk8eYrdm7o6J9nLgdEQGMHMm3a2qAr7/27XwhTEVFhU/HX3YZcOONfHvfPmDvXt9tCmV81ZNQDmHrC0LduRYtJMsGDoSxnm7o0oXPaTpzBnj4YfHHkZ4cxQZN9TZlVKJiJFjtdt991u0lS3w/X4hSL0EpmXvvtW6/9ZbPpwtppNCTUAZh6Qs1NcDZs3xb4qG5sNTTAy65BEhKEt+e9OQoNmiyrT0XFS3Bx+zbF+jalW9v3Qps2eL7OUOQ6Ohon8/xwAOAsHr1/feB0lKfTxmySKEnoQzC0hdsJ4FLHDSFpZ5+hPTkKDZosh2ei5aip0mlAp55xvr6iSd4Ed8wI86rysf2pKYCEybw7epqYNo0n08ZskihJ6EMwtIXbOcztW4t6anDUk8XHD8OFBYCRqN3x5OeHEmDpsrKSuTm5qKgoABTpkxxukRx6dKlmDZtGsaNG4c///xTShMs2Pc0SZSM8p//5JPCAT4w7K33hTA6nY+T6ht49llAmFf46ac8BVY4IpWeROgTlr7QoQPw3//yB9LbbpP01GGppwvefhsYPRpo2dK7zDmkJ0fSjOCTJ0/GyJEjMXLkSHzwwQcoKCjAggUL7Nps3rwZa9euxddffw29Xo8+ffpg+/btSEhIkNIU+6ApRqLYMDISeO894MQJ4M47pTlnmNK8ObBoETBuHLB4sXVyOEEQYUSrVkBentxWKB6TiU+FAPji7yupspjXSNbTVFpaitWrV2Pw4MEAgMGDB2PJkiVNivzNnz8fw4cPBwAkJSUhOzsbhYWFUplhgdVLuHrOlmuvDeuAScrgdswY4MCB8K57JPXDAiE/3mYEJ1+QFtLTyrff8qTCAF8InpHh+TlIT45kQdOWLVvQvHlzxMbGAgAyMjKgVquxY8cOSxuz2YyioiJk20z469ixI4qKiqQyw4Jfepoc8dlnfMhu9GjeA6VwzGazpOdr187+9ciRvNSKwSDpZYIWqfUk5MfbjODkC9JCelqRojgv6cmRbHiupKSkSfKrxMRElNosjdJoNDAajXbtEhMTsXv3bqfnrampsZsbJXZcteaqnthuNqO+zoxO6bFiP4bnbNsG7NnDf6KieI06BWM0GhEfH++Xc587Z02B1a0bMH68Xy4TVPhTTyK0CEtf2LWLF6PMzOTTHyQkLPV0wPHj1uoLbdvaF7jwBNKTI1nQpFKpLL1MAiaTyW6Zoqoh9ahtu8ZtGjN79mzMmDGjyfsajQZ1dXVITU2FXq+H2WxGVFQUEhISoNVqceXHjyI+/gmekCuGQaPRIDU1FQaDAXV1dYiMjERSUpIlYVdcXBxUKhWqqqoAACkpKaisrLS0TU5ORnl5ucX+yMhIVFZWIuHMGQjp2My//AJ9RQVSUlLs2kZFRcHQ0HWSlJSEmpoamEwmqFQqpKWlQaPRAADUajWio6Pt2ppMJkvQmJ6ejvLycjDGEBMTA7VabRn+TExMRG1trV3biooK1NfXIzo6GnFxcZaAMyEhAWazGcaGiexpaWnQarWWtvHx8dBqtQCA+Ph4MMZQXV0NgOfq0Gq1TfQW2gJwqqE7vd96qw5oULO0lEGjaao3ACQnJ6O6uhq1tbWIiIhAamqqSw1d6R0TE+NSQ1d619XVOdXQnd46nQ5msxnV1dUwm81O9W7s34mJiaJ9trHeERERTjVs7LON9TYajaJ91lbvSIn/ERIKor4euOEGPuHm6qsBPy0KCneWLwdYw8DLhAk8VzPhPSrGGHPfzD2ffPIJZs6ciQMHDljeS0hIwPfff4+bbroJAMAYQ1xcHLZs2YLevXsDAHJzc2E0GrFixQqH53XU09SqVStotVokiyjNzBizBGt+47LLgJISntFWSNSmUPyp5//9HzBoEN9+4QXAQaysOALinzKi0+mQkpIi+vuqJDz97Er3hSaUlPB7JwDcfjufeCMhYaenA+rqePqr0lLekXf6tPc1kZWup9jvq2QxZ05ODs6cOQOTyQQAlmG5XjbVAFUqFXJycnD48GHLe0eOHEFOTo7T86rVaiQnJ9v9eILwBO9XYmL47zAY8/WnnrYdjuGSAisg/kmEBGHnC8ePW7fbtJH89GGnpwPWrbMmD779du8DJoD0FJAsaMrMzMSgQYMsk7o3bNiA3NxcqNVqTJ8+HWcbemDy8vKwfv16ADyyKykpwahRo6QyowkBSf0uDEGUlQGvvw40DJcoEX/qGY5BE5UmEIcUOeBeffVV/Pvf/8a4ceNw0iapotlsxtNPP42CggJMnDjRMkwJAOvWrcPll1+O9PR0PPbYY6irq/PL5wPC0Bdsg6a2bSU/fdjp6QApJoALkJ4NMAkpKytj48ePZy+//DJ74oknWE1NDauqqmJt2rRh27Zts7SbPXs2e/bZZ9nkyZPZ//73P4+uodVqGQCm1WpFtdfpdB6d3ys6dWKMDxvznwULrPvMZsY2bWLs0CHre7//ztiYMYytX89Yfb3/7ZMQUXrW1jJWUeF4n9Fo3f79d8aeeIKxXbsYq6xkpya+zEbjIwYwNnWqJOYGPQHxTxnx9PvqjAceeIB9+eWXjDHGVq5cyZ544okmbTZt2sRGjBjBGOO6du3alRkMBsYYY8uXL2dTpkxhjDF27Ngx1qtXL2Y2mxljjD3//PNsQcN3tqioiI0cOZIxxu9no0ePZjt27GAfffQRS0hIYPPnzxdtc1Deq4KJGTOs98yvvpL89GGnpwOOHmVs+nTGevVirK7Ot3MpXU+x31dJg6ZA4OmNqM5XTxGDbcAk/AgsW2Z97803+Xvp6db32rVj7N13Gbv/fsb++sv/tvqIWz31esZat2YsPp6xHTtsD2RsyBD+mT/6iL/XrRt/nZbGg6cGTa7Ebpab67/PEEwExD9lRIqgqaSkhMXGxrLq6mrGGGPnz59ncXFxTW7iAwcOZMuXL7e8HjJkCFu6dCljjLFOnTqxzZs3W/Z16dKFbdy4kdXU1LCkpCR29OhRxhhjZrOZJSUlsUOHDrFt27axqqoqyzHPPPMMGzJkiGi7g/JeFUyMHGm9D+7bJ/npw05PP6N0PcV+XxU/j16WcdhmzfjvkyetRdYA4LHHgIULgYaVRwCAY8eAiRN5UaDOnQNqpje41fP774FTp/gQ5cyZ/L3du3k6hnXr+OsxY/j8LyHVRHk5H9ZsYDi+RcPUOMVD8wTc42sOuNLSUhw8eNDhvt9++w16vR6tG+qeRUREoH379iguLkbv3r3t6m21bNkSlwkTlx1QU1MDnU5n9+MJYecLv/7Kf6ekAFdcIfnpw05PP0N6ciQto0I0EBcH/P470KNH031PPBF4ewJJ8+bW7Suv5DfGPn2atlu71ukp7sSXeLP2WT8YR4QivuaAKykpAYAm+0pLS1FSUoLk5GRERUU5PbfAzp078YSL76+36VEAnmrCZDJZUjn4Iz0K4D7VRMDSo/z9NxKElcbdu6NCpwup9ChVVVWi03VQehRlpUdRfNAkSzKuM2ccB0wKwK2eto5nNjsOmACeQd0JabHVUhc8D1ooWZx7fM0B52xfQkKCqHMDwPHjx5GWloZrr73WqZ0FBQV48sknLa+F9Cjp6emWVb8pKSl2x9gGcqmpqXa2NF4p3Dhw9KStWq22bCclJblsa/u6sQ7u2tqW2khLS3PaNubcOeuOjh2Rmprq8jq23xN3bYXeQaPR2ORv64uGtm3daRgIvWNiYpzqPXUq0KxZOsaN44XRY2JiPNLQtq3gs0ajEZGRkU71tm3r7Lz+8lnbtomJiS7bOtNbbM+w4oMmJk0aKqIBt3raBk3btjlv1/Bk4Ih27SMsI3tKh/zTPVlZWU2GBgwGA7KysiyvmzVrBrVabddOr9cjKyvL0k6r1Vpu8Hq9Hl27dnV4buE4gfr6erz99tuYN2+eSzvVarXdzdtTwsoXzp/n9wqzmScS8gNhpacN584Bb73FczS98w7PzSRFQstw1bMxITOnydsimELXISENbvX87Tfr9s8/e3eRMMoiTf7pHl9zwGVlZaFz584O9/Xo0QNxcXE4ffo0AB4gnThxAjfffLOl7cKFC/H444836bWQmrDyhaFDgZoa/h994kS/XCKs9LTh/fd5wAQADz4oXQbwcNWzMSETNHlbBFMxXLwIbN9uzYfviKVLeSptF704XvPSS8D110Nlk8PGjro6YMQI4PHHfb/Wddf5fg5CMUiRAy43N9ey79ixY0hPT0e/fv2gVqsxfvx4y77i4mIMHTrUMml8wYIF6NSpE0wmE44dO4YVK1bgyJEjAf38iiUykmcEt50HSfgEY8CyZdbXtuuQCGmQrIxKoPC0NEF9fT0i/F1sR8rU8owBBw8CLVsCwthsTQ3QpQtfafef/wDTpvHsj7bj37/8AvTty7dnzODBky822H6mLVsA26ztjPEgyWbyLD7+mK+Kk4KPP3Y550lJBMQ/ZUSqMioXLlxAfn4+2rRpA41Ggzlz5sBsNqNLly4oLCy0lGWaM2cODAYDNBoNJk2ahG7dugHgOufn51smeT/77LNo1aoVAP4EPW3aNLRs2RIlJSWYPXs2UlJS8MYbb2Dq1Kl2dnTu3Bn79+/3y2dXui8EmnDU88cfrQV5b7kF2LxZunMrXU/R31c/pj3wC57mPqlwlmRRSgYOdJyryZufFSus+Zsa8tKw//3Pvs233zKWkMDYHXdYk2MuWmTd/+CD3n+WoiLGsrJ48k3h3PfdZ3/9r7/m1x850trmnnsk0+DlDivZ8OHef4RQIiD+KSNSJbcMRYLyXhUMnD9vn+TWT4SNnjbcf7/1VlpYKO25la4n5WlqwByIenD33ivNeXr3BsaN49vHjlnnBLVoYW1z1VXA8OF8CO7rr4G9e/n7tkWFrr7aexvGjuXFij76yDo/qXFtwFGj+PW/+or3igHA4MHeX7MR3x6+AjYpeBRNQPyTCAnCxhcWLAA6dADefdev9ZLCRs8GLl4EvviCbzdrBowcKe35w01PZyg+aLLNv+I3brxRmvMMG2b/Whgis50Y3TCkYEGowdWQVwOAb32yx45Zt4WJfzbLPWuHDbO/0QlZKCXstt2JXtBoXE/fUgoB8U8iJAgbX9iyhU8Af/RR+0S/EhM2ejbw4YfW2/FDDwE+LOR0SLjp6QzFB022eSz8hlQR+LRp1p4mwNp7dOCA9b2ffrI/RnBk2yLBQuZtbxg+3LrdqRP/bRO0RdqsKrLbJ/FTiMkENORmUzQB8U8iJAgLX6ipAXbt4tsdOgCXXuq3S4WFng0wZl+c1x8TwMNJT1coPmgKSOr3Dh2kOU9srP0EbKGqtDAEBjSNJISgqXEFam8rUtv2IgkTzW0CourG3enC9f3QdXv0qOSnDDqoNIHy8DY9Slj4wv/+Z73HNEze9xdhoWcDJ0/ynMoAXw/kj4pc4aSnKxQfNAWEqCjgxRd9P49KZR98CONTrlbnCVlgGwdJ5883bavTuQ9uHAVNsbF8NV+LFk2H4STuado85DXLtm2sSBChQtinR3HFL79Yt6+/Xj47FEabNnwq6nvvAc89J7c1ykbxQVPAylQMHSrNeWznFInpLRIyFzduK2Q3E/jpJ94VfuWVcFkN13ZfTAz/PXIkn3T+0ktIyM/n76Wn8yBKCNrEzGlyt+z6scegHW8tQ7Fvn/tThjpURoUQCAtfsA2a+vXz66XCQk8bEhKAhx8GBg70z/nDTU9nKD5oChhSZQsuLrZuC703znqaNm2y7mscNB06ZN02GoGbbuK/DxwAPv1U3PWFgpoAfyqcNMn6OiGB72/WjL9+5BHn5xRwl3tp8mTYjmhs3Oj+lARBhAiMWedkJicDXbvKaw9BeEHIBE3ezhOosp0g7U+uvNL5PmeV0YuKgD173J/b2dCX7STKxkHTjh3WyeEFBfb7Jk60Dv3Nns0DL5UK6NjRvp3tGHbjlROnTwN//eXedlvat3f8/u+/89QJnTujVSurlNu3A0of4QiYfxJBj+J94dAh67SBvn39Xi5J8XqC38YDNdUoHPQUQ8isIczLy0NeXp4la2fQoVLxCeE29a0svPAC8PrrTd/v3ds6BOYIYejLWdB07Jg1wmjcJ1tQwFMYMAYsXGi/r6aGd+P84x/A9OnW9xvbbrvm39EN7vhx+xmHFy7w12Vlju29+Wagf3/gxAn+I3DNNXa9aZMmAf/6F5CS0jTOuuMOwGDg27YdcMK28LuggF9K4MABXvlbDJ9/bpdlAZ98AnzwgfvjOnYE3njD/r1p01wPM9bWJiI6Grj/fr5MWMBo5J9VDP/5j33M/ssvwMsvuz9OrQa++cb+vTfeELf48vHHgUGDxNlHEADsa1H6eWguXNi1i8efd9/Nn8179JDbIuUTMkGTtwQ0wHI2ryc11f71U0/xpf2uAiYAaNuW/3Y2t2nECN7bc8UVTXuJAH7+//s/x8fu2wc4qyMnIFz3+++tOZts+eMPntRSiFSaNeNPkuXl3LbG6RESEnief4AP7b3/PjBkSJPhx4kTgS+/5GUA0tPtT1FUBFRUuDYb4Dk6bdHpgA0b3B8HNJ0OdvSocxltcZRyZvt2+2kcTeE+0LgD1WwWd02g6cTPc+fEHetoisK+feKOvftucbYR4gnKh0Epsc1Ye8MNfr+c4vUETzNQU8MrT/Xv79+gKRz0FIPig6bKykqfal55hLO5Rxcu8LlCDz7Is+AOGGC//7bb+PwkZ7hamSb8h3d07ZgY4LvvHB8XGQl89pnz8wLWniZHvWcA/289ciSvi7d+PZ8sHhnJr3nxYtP2ttnWMjObDhs2EB0NrF3rfdYEgghFAnqvkoMZM/hD0o4dwLXX+v1yStfTYOC94AAvU3rfff69ntL1FIvig6a6xt0G/sRZT9P587w7+vhxx/tvucX7oIkx3hXy5JNN96lU9okxbYmJ4fOSXMEYHwJ0Na7FGHDkiLgyKu561mxwNq/+zBlrLOfsNwDExdkfd+214nqogKaL/J5+Gpgyxf1xjkYw1693/ecrLy9HWlpak+y98fHi7W2cc+7228Uf25iFC4F589y3a6wv4TsBvVfJQYsWvAd6xIiAXE7peq5aZZ2qcP/91vru/kLpeopF8UFTpJ8nG9rhrKfJXbAgeL4jtm/nT2jOYIxPfhFq0NmyZ0/TsSZbm9zlVmLM+eRt2zZib4IS5PX3NiltVBSfI+UNsbHeL450fyOLcGiXSuW9vdHR3h8bF0cBkVwE9F4VBihdT9sM4GIWL/uK0vUUS8isnvOWJNsZvf7G26DJGb/9xieLu6rPxJjjgEm4rrOgKSvLvvSKs3O7gzFg/3737QR7CDsC6p9EQPB2pS/5grQoWc/du/nzNMDX0Vx3nf+vqWQ9PUHxQVOFt+MU3rBgAZCR0fR9d4UOhVxHjbGdOOkMV7OMY2KaZgZ/7TUe6Awa5H4MR8x6/z/+cN/G1h7CjoD6JxEQvM0Irmhf+OAD4KOPeJr/AFXiVrKejXuZXBWNkAol6+kJih+eCygDBvClR7t22feXuguanCWbFLOM6auvnO9zdN1p0/hSrX793N+83K2uA4CVK923ufZavqyDxn0IIjx55RW+oESt5vUzhRJNhMdUV/P4E+C31H/+U157wg3FB01xgfxHbTA4XhXibiz4zTcdF68U8/jgaJWau+MrK/lvd8vTpOoZ+u9/gT59pDmXwgiofxJBjWJ9obzcugK3e/eABUxK1fPzz62DBPfc4/38RU9Rqp6eEjLDc97OE1AFot9S4N//dvy+u9nLzgpXNm/u/pquZig760n66y++z11Pk5hvY02N+zbXXOO+TZgSUP8kghrF+sJvv1m3Pbx/+4JS9YyP51legMBMABdQqp6eEjJBk7fzBAKa+v2tt+xfDxjA+1HFLL1ytAKtZUv3x7manMeY496iJ58E/vc/9+cWU+LFVfFfAXpCcQqVJiAEFOsLtnMze/UK2GWVquddd/G1Pzt2BCRHqAWl6ukpIRM0hSTffit+wPnDD62PDwIHD7o/zl2a69xcx++fP+9+ycXixe6vr/TicARB+IbtPSKAQZOSUal4px11/gQexQdNsqZ+9ySvRVJS09Vyq1a5P65bN+f7GHNeSVylAvLzxdvnjPvv9/0cYQyVJiAEFOsLwn0tJQW4/PKAXVaxesoE6clRfNAka5eip8nAEhKAq65y3WbMGKBVK+trdyWuc3Icv8+Y43p1bqj6/HOe2Veg8Xysyy7z+JzhDHV5EwKK9IWSEl5nEuA9286qJvgBpem5axfPzyQXStPTWxQfNNXW1sp3cW9uEM8+63p/bi7PtSSg1ztul5npvr6TFxm6jTk5vNaGwOOP2zc4cyYwmdYUgqz+SQQVivQFmSaBA8rT89//Bq6+mj+nnjsX+OsrTU9vUXzQFBHAJxtJcNcFGhlpn3/JWbbws2d5DQ9neZQYczwg7irvExr0dNeDRqvlRBNy/km4xduVvor0Bdv5TAEOmpSk59GjwObNfFujcZxD2d8oSU9fULwKITcO6y4giYz0bNjPVcbuxr1EPXu6XemXcuqU++t/9pk424jQ80/CLd6u9FWkL/TvDwwdyu8ZAe6BVpKey5dbtydMCOgopwUl6ekLig+aysVktQ4mpA6avvvO8fuMNQ2oTp1ym1NKp9W6v75OJ96+MCfk/JPwG4r0hdtu4/egc+eA1q0Demml6FlbC7z3Ht+OigIeflgeO5Sip68oPmgKOdyVXPEkaBImYDqCMeDkSfv3zp3j5VWkuj5BEATgvL4m4Za1a4G//+bbw4cDl14qrz3hTsgETd7OE4gVk1jSH3Tu7N1xrgKSmBj+jREbtBw44Hq/2SzeLsGEuDgKmiRENv8kgg7yBWlRip6Ni/PKhVL09JWQCZq8nScQKdc/eFf5k1zhyt677gIuuQRo00bcuYqLne9r3hzwYglpZEwMBU0SIpt/EkGHonzh4kXghx/42JJMKEHPU6eA77/n261b8yITcqEEPaUgZIImb6kUitMGAttI3Ntit64c888/+e8OHcSd66WXnO97552mq+eefNLtKatqasRfn3BLQP2TCGoU5QtffQXceit/yBOTpNcPKEHPFSusJULHj5f3eVUJekqB4oOmgHLrrdbtxiVRxOLqW/HXX0BdHVBfL/58Q4c6fn/5cuCOO+zfa94cOHLE/Tk9SWD56afi2xIEoQzWrOG/KyqAtm1lNSVUMZt50ATw1XLjxslrD8FxM+s49ElOTg7cxd55Bxg2DEhPB554wrtzuHuUqKnx7HHDNnt4Y7Kzm77nJsN4YkICt8GWvDz7OnXnzgH79/MUBm5W44U7AfVPIqhRjC9UVQEbN/LtFi1kS3Yb6nqqVLwG/NKlfFvuYguhrqdUKL6nqbq6OnAXa9mSL+PfvNmrbNsA+CqT9HTn+8+caRq0TJkC3Hij4/bOeqWuuqrpvszMppPDT50C/vEPy0ujStX0+osX27VBTAzPz0IBk1sC6p9EUKMYX9i8GRA+y+23y5NUCKGvZ0QEfwb/5hvgiy/ktib09ZQKybz53LlzmDhxIp555hk8++yzYMJArAN++eUXqFQqqFQqxMTE4G9hPaUfCLnU75ddBnz4oes2P/5o//qNN4BffnHc9uabHb+/Z0/ToGnZMqDxuHWrVnZztWrr6x1nIbc9F00YFE3I+SfhFm9X+irGF7791ro9fLhsZihGTwTHLVVJevqCZEHTqFGjMHnyZMybNw9qtRpvvvmm07arV6/Gxo0bsXHjRvz8889oYVsAVmJCMvX7bbcBWVl8+913m+5v3BP1xhuOzxMRAYwezXt9HDFpkv3k9TNngLi4pu2eeYZP5iwshCo1FTh92n7/0qUUNHlJSPon4RJvV/oqwhdqaqzzmeLi7Od5BhhF6BlEkJ4cSVT49ddfceLECXTv3h0AMHjwYMyfP99hb9PBgwfx999/o1u3brjtttvQq1cvKUxwSmpqql/P7xdiYoC9e3ndpgkT+ARtgebNeQLKe+/lr2fMACZP5kNrjRGc3FmvX5cu9pPBY2N5NUhhXlZREX//xhuBe+4B7rsPqS1a8CBs1Cg+0D5/PjB2LC/J8tZbwH//6/3KwTAkJP2T8AuK8IVPP7VWkx082PFDWIAIVT3r6/kt9fPPAZNJbmushKqeUiNJ0PTDDz8g22ZScceOHXHmzBkcO3asSduPPvoI33zzDTIzMzFt2jS/d/lpnBW0DXbS0vgESpWKD8cNH84nmjdrxt/79FMeDL3wAs8i/sMPTc9RVwf89BMwdarja/z1F/Dgg9bX99/Pz71mDXD+PHDTTU0O0Wg0vM1nn/Fv91NP8Z6l22/nwVtenvus5oSFkPVPQnIU4QvCBHCAz7WUkVDV88cfgfff58+lY8bIbY2VUNVTaiQJmkpKSpBuM2SUmJgIACgtLW3S9uWXX4ZWq8WHH36I9957D9OnT3d57pqaGuh0OrufsOPKK/lswIkTnbe54grH7990E7B+veN9XbrY90LZdr/SEBtBEJ7y00/8d3w8cMMN8toSothmAB81Sj47CMeI7hIoKCjAnj17HO778ccfMWzYMMtrU0OfYnR0tMP2MTExGD16NFq0aIFhw4Zhzpw5TrONzp49GzNmzGjyvkajQV1dHVJTU6HX62E2mxEVFYWEhARoG5bNx8fHW9oCvHvRYDCgrq4OkZGRSEpKQkVFBQAgLi4OKpUKVQ1ZslNSUlBZWWlpm5ycbClYGBsbi8jISEuyr+TkZFRXV6O2thYRERFISUmxaxsVFQWDwQAASEpKQk1NDUwmE1QqFdLS0iz2qdVqREdH27U1mUyoaVitlp6ejvLycjDGEBMTA7VaDb1eD4AHqk4HxRzNi2rA+O23EGY1VVVXw6zXIz4+3k5Dxphl5UR0dDS0Wq1LvZ1p6E7vqqoqpxq60js1NdWlhq70jomJsdOwtrZWtN51dXUwGo0AgLS0NGi1WtTX1yM6OhpxcXGWAD8hIQFms9murU6ng9lsRl1dHcxms1O9G/t3YmKiaJ9trHdERIRon22st9FoFO2ztnpTFmHxqL1dcRssmEx8DtP27bzck5P7f6AIRT0vXOB5QQEgIwMYMUJee2wJRT39gYq5WuYmkldffRXFxcVY39Cjcf78eVx66aU4efIkWrupbN25c2ds2bIFlzqpQlhTU2P5JwYAOp0OrVq1glarFZU3wmQyISZc5tgkJjZd/eYJM2cCzz/vsklY6RkAlK6nTqdDSkqK6O+rMyorK/H0009bAsP58+c7vIkvXboUBw4cQHl5OaZMmYJrrrnGsu/VV1+FVqtFWVkZXnzxRcuUArPZjPz8fERFReHixYuYO3cu0tLSLMdt2rQJzz77LFatWoU2YksYefHZFeULdXWyD9OHop4LFgDTpvHtp57iU0aDhVDU0xPEfl8lGZ679dZbcfjwYcvrI0eOoF27dm4DJgBo3bo1LrnkEqf71Wo1kpOT7X48QXgCDgucDdGJRZj47YKw0jMAkJ7imDx5MgYMGIDZs2fjuuuuQ0FBQZM2mzdvxtq1a/Haa69h0aJFGDNmjKW3bMWKFTh37hzmzp2L559/Hvfccw/qG1Z8zpgxA1lZWZg9ezbGjBmD8ePHW85ZVlYGg8GAHTt2+P0zKsoXgmBeY6jpyZj90NyECfLZ4ohQ09NfSBI0XX/99UhLS7METhs2bMCTDXXMhCdEYQhh+fLllqGIzz//HBMmTICqcQ00wjtycnw7/uhRaewgCAkpLS3F6tWrMXjwYAB8de6SJUssQ6UC8+fPx/CGvEBJSUnIzs5GYWEhAGDevHkY0TDW0bZtWxgMBvzwww8wmUxYuHChZV/fvn2xadMmy70sIyPDck6C8Cc//wwcOMC3b74Z6NRJXnsIx0iWeGHVqlWYM2eOZf5Rbm4uAODChQsoLCxEWVkZ6uvr8dFHH+GKK67AAw88gOjoaIzy80y3pKQkv54/qAjAktCw0jMAkJ7u2bJlC5o3b47YhpxiGRkZUKvVdr0/ZrMZRUVFTVbxFhUVobS0FAcPHnS477fffoNer7f0ikdERKB9+/YoLi62tA1UfpqQ9oWaGmuqgSAh1PS07WV65BH57HBGqOnpLyTrQ23fvj2WL1/e5P3s7GycOXPG8vrHxtms/UxNTY3TCemKw9ceu3793DYJKz0DAOnpnsarcwE+Ed92da5Go4HRaGyyinf37t0oKSkBgCb7SktLUVJSguTkZETZDCc1PrdYHM2/9PT4kPWF4mJeSqlLFz4v8r775LYopPQsLwdWr+bbaWnAXXfJa48jQklPfyL/wLOfMQVTdjB/U1fn2/F9+7ptElZ6BgDS0z0qlcrSyyRgMpnsbuDCEL9tO6GNs30JCQmizi0WX1f6GgwGiz+E2krflJ9/RiQA7N8Pg06HRMDlytPGq1QrKipErzy1XaXqaqVvfX09zGZzSKz0/fbbaBiNvCdn1CgjqqurERsbXCt9q6urERcXF/YrfRUfNIXVfCkvno49Jaz0DACkp3uysrIsN2oBg8GALKHUEIBmzZpBrVbbtdPr9cjKyrK002q1iGvIUK3X69G1a1eH5xaO85SCggLLXE7AutI3PT3dsoAlJSXF7hjb3i+1Wm23aq/xopfGvW22wZ67trYrDRsPszRua/u6cfDotO3vv1veS7zlFgCw+yyNj42JiUGCTUHvxtmmG19HCHLEtBX+xuXl5S71BjzT0LatOw091fvhh4E+fXj5z4cfjkVaWqzTtgKNNXSntyca2rYVNCwvL0dkZKRTvW3bOjuvv3zWtq2QJ9JZW2f+LbZnWPHFZBo7kqIRsVrRJSKyT4SVngGA9HRPTk4Ozpw5Y+mFEYbObEswqVQq5OTkNFnFm5OTg6ysLHTu3Nnhvh49eiAuLg6nG+op1tfX48SJE7jZWaFrF/i60jdkfYExQJhflpYGtG8vrz0NhJqenTrxFANdu8ptiWNCTU9/ofigiVK/e0BDl6wrSE9pIT3dk5mZiUGDBqGoISXGhg0bkJubC7VajenTp+Ps2bMAeKFcIVecTqdDSUmJZaFJbm6uZd+xY8eQnp6Ofv36Qa1WY/z48ZZ9xcXFGDp0qN2kcSGVnQQp7VwSsr5w+jQvuwQAPXv6PrdSIkJWzyCF9OSETNC0ePFidOnSBT179pTblODF15v6669LYwdBSMySJUuwatUqvPLKK9i9ezdmzZoFo9GIwsJCnDx5EgAwbNgwXHXVVXjuueeQn5+PwsJCy3BAbm4uamtrMXPmTMybNw+rhVm34KWd/vjjD8yaNQufffYZli1bZtlnMBiwZMkSAMDKlStx4cKFAH7qEME2h5WfC7ArjdpaXsKTCB0kyQgeSDzNsltZWWk37qtoXnyRZ/X2ltatgYZ/QM4IKz0DgNL1lCojeCgSNveqf/8bmDePb3/zDS8uHgSEgp7vvgvMncsTWU6YwEunBCuhoKcvBDQjeDCj5LTvTXjzTd+O79DBbZOw0jMAkJ6EQMj6gm1PUxCNBISCnkuXAseOAdOn81HOYCYU9AwEig+aGmcNVjS+ziUYMMBtk7DSMwCQnoRASPqC2Qzs2sW3L7sMyMyU1x4bgl3PP/8EfvuNb197Lf8JZoJdz0Ch+KCJIAiC8BMnTliLhNN8Jo8I9gzghGMUn6epcc4GwjdIT2khPQmBkPSF9u0BrZbnaWqUJFRuglnPqirgo4/4dnw8MHq0vPaIIZj1DCSK72mqra2V24TA4evwnIjjw0rPAEB6Kg9vV/qGrC8kJgI33RR0PU3BrOdnnwFCLsV77wVCYY1EMOsZSBQfNNnWglI8w4b5drzNUmtnhJWeAYD0VB55eXnYv38/du7c6dFx5AvSEsx6huLQXDDrGUgUHzSFFd27+3Z8Qw0hgiAIwj/s2wds3cq3u3YFeveW1x7CMxQfNDWuO6Noovw/RS2s9AwApCchEHK+sHcv8MADwBtvAAcPym1NE4JVT9sO/UceCZoE6m4JVj0DjeKDJqEacljg67dPxGzEsNIzAJCehEDI+cLPP/PZzFOnAg1laIKJYNUzOhpISADUah5zhgrBqmegCZmgydvJlSGW8Nw3Skp8O15EZfew0jMAkJ6EQMj5gjDGBARVUkuBYNVz3jzg7Flg3ToglDpvglXPQBMyQZO3kyvDKovp0KG+HS/iSxFWegYA0pMQCClfMJmANWv4dlIS0KOHvPY4IJj1TEoCbrlFbis8I5j1DCQhEzR5i1qtltuEwNG6td8vEVZ6BgDSkxAIKV/48UegooJv3347H2sKMkJKzxCA9OQoPmgKq9Tvvs5pEjGZM6z0DACkJyEQUr7w+efW7bvuks8OFwSbnr/+yvOAhirBpqdcKD5oCit8DZq++04aOwiCUC51dcDXX/Pt+Hhg0CBZzQkFTCZgxAg+bXTSJFEzIYggRfFBU1ilfvc1aPrwQ7dNwkrPAEB6Kg9vF62EjC/89BNw4QLfHjKEB05BSDDpuWYNcP48L59y8WLopBmwJZj0lBPFB011dXVymxA4vP0mjhgBbNsG3Hyz26ZhpWcAID2Vh7eLVkLGF0JgaA4ILj1DMQN4Y4JJTzlRfNBkNBrlNiE4uOYa5/v27OFpaUUEXaSntJCehEBI+AJj1lVzarXvK3b9SLDoeeIEsGED327TBrjtNjmt8Z5g0VNu/J9Cmggc9fXO923d6rwb/csv/WMPQRDKQqUCdu4EVq3ieeGSkuS2KOhZscI6h2n8eCBC8V0VykbxQVNaWprcJshPTAxPQ+uIjAzg6qtFn4r0lBbSkxAIGV+49FJgyhS5rXBLMOhZV8eDJoAHS2PHymuPLwSDnsFAyMS83k6u1IbyGk9PcTa8ZjLxGYiOaNfOo0uElZ4BgPQkBMgXpCUY9Fy/3lqoYdgwoGVLee3xhWDQMxgImaDJ28mV9a6GrJSGNwV7t2/3qHlY6RkASE9CIKh9YetWYPFiua3wiGDQUwkTwAWCQc9gQPHDc9HOhqWUSEqK830SrXENKz0DAOlJCAStL/z8M8/FVFkJ/PUXsHChdw9oAUZuPUtLgbVr+XbLlqGfzkpuPYOFkOlp8pa4uDi5TQgOJAqaSE9pIT0JgaD0hX37eEqSykr++sABPtwfAsitZ3w88OqrwOWXA+PGhUSc6RK59QwWFB806XQ6uU0IDpwFTV27enQa0lNaSE9CIOh84cQJnrtNo+GvBwzgVQOCNJllY+TWMzUVeOYZ4NAhYPp0WU2RBLn1DBYUHzSFFc5y80dHOw+aJk70nz0EEYZ4u2glqDCZgHvv5emrAeC663hSy9hYee0KQVQqkk1JKD5oSkhIkNuEwGEwOH5/1Cjnx3g4uS+s9AwApKfy8HbRSlD5wrPPAjt28O127YCNG4HkZHlt8pCg0lMBkJ4cxQdNZrNZbhMCh7M092lpznuaPKwcGVZ6BgDSkxAIGl/YtQt47TW+HR3NE1mmpspqkjfIpef588C0aXzOvJIIGv+UGcUHTWGV+t22Dzg93bqtUjkPms6d8+gSYaVnACA9CYGg8AWzmSeuFB6mXnmFD82FIHLpuXIlsGAB0KVLyGVpcElQ+GcQoPigKaywDYyaN+eJQSZMAG64wXnQNHduYGwjCCL4uXgRKC/n2506AY8/Lqs5oQZj9rmZ/vEP+Wwh/EOIL4J0T9imfjebgeuv59/iq67ipVQkIGz19BOkJyEQFL5wySXAtm3Agw8CTzwh2X1DDuTQs6gIOHyYb99yC9ChQ8BN8BtB4Z9BQMj0NHm7IiWslkna9iYdPcp7mR55BNi82fkx3bt7dImw0jMAkJ6EQND4QkoK8M03QP/+clviE3Lo+e671m2lLUwOGv+UmZAJmrxdkRJWk9dqax2/33iFnG2Ssl69PLpEWOkZAEhPQkA2X1CoDwZazwsXgC++4NvNmgF33BHQy/sduldxQiZo8paoUE/D6gnOVs81XiFn+9rDTOFhpWcAID0JAdl84a67eDXZNWsUFUAFWs8PPrAmS3/4YUCtDujl/Q7dqziKD5rCKrdEYqLj9/Pz7W+GtqsgPAyawkrPAEB6EgKy+ML33/OhuLVrgUcf9ThvWzATSD0Zsx+aC/XivI6gexVH8UGTVquV24TAER8PLFkC3Hor0Lev9f3aWuf5mPR6jy4RVnoGANJTeXg7/zLgvmA229f3mDuX52VSCIHU86efgIMH+fbNN/OFh0qD7lUcyYImxhg+//xzdOnSxW3bpUuXYtq0aRg3bhz+/PNPqUwgAP60uGkTXzlnS2Sk4/YffeR/mwgijPB2/mXA+fhjQLj/XnstMGaMrOaEMoWF1m2lTQAn7JFskPLUqVPQaDT4y00a1M2bN2Pt2rX4+uuvodfr0adPH2zfvt1vXX/xIVJcUnIaD7tFRPClxGvW8BmLtn3JHhC2evoJ0pMQCLgvfPqpdXv+fI+H6oOdQOr5xhvAwIE8Dr3zzoBdNqDQvYojWU9TdnY2brvtNrft5s+fj+HDhwMAkpKSkJ2djULbMF1imIdlQhRN797ArFlAdrbXpyA9pYX0JAQC6gs6He+RBoDLLgv59AKOCKSe0dF8tdzq1cotzkv3Ko6kc5oiIlyfzmw2o6ioCNk2/7Q7duyIoqIiKc2wo7q62m/nDlm6dbNuT5rk0aGkp7SQnoRAQH1h2zZripLbb+c90QqDvlvSQnpyArqGUKPRwGg0It2mLlpiYiJ2797t9JiamhrU1NRYXlOCLZHYrndt3K1qm6epWbPA2EMQPlBZWYmnn34aKSkpqKysxPz586F2sKZ76dKlOHDgAMrLyzFlyhRcc801ln2vvvoqtFotysrK8OKLL1oe3sxmM/Lz8xEVFYWLFy9i7ty5luzHYq8bcmzbZt3u108+O0Kc2lpFzZ0nRCA6aCooKMCePXsc7hsxYgQeEbHGUtUwZh5r039pMpkQ7cLrZs+ejRkzZjR5X6PRoK6uDqmpqdDr9TCbzYiKikJCQoJlln98fDxiY2Oh0WgAAKmpqTAYDKirq0NkZCSSkpJQUVEBAIiLi4NKpUJVVRUAWG6SQtvk5GSUN9Rkio2NRWRkJCorKwEAycnJqK6uRm1tLSIiIpCSkmLXNioqCgaDAQAfkqypqYHJZIJKpUJaWprFPrVajejoaLu2JpPJEjSmp6ejvLwcjDHExMRArVZD37D6LTExEbW1tda2t97Kh+IA1EyahMi6OkvAmVhbC6E4QnVlJWIZg1arRX19PaKjoxEfH2+nIWPM8pSRnJwMrVbrVG8ATjV0p3dVVZVTDV3pnZqa6lJDV3rHxMQ419CN3nV1dZYilmlpaXYaxsXFWfROSEiA2Wy2a6vT6WA2mxEZGQmz2exU78b+nZiYKNpnG+sdEREh2mcb6200GkX7rK3ekc4WIHjI5MmTMXLkSIwcORIffPABCgoKsGDBArs2ruZLrlixAufOncOiRYtw/Phx3HPPPdi2bRsiIiIwY8YMZGVl4YknnkBxcTHGjx+PL7/8UvR1pSI1NdUv53WIbdB0ww2Bu24ACYSed93FA6epU3mdOQV22FkIqH8GM0xCjh8/zlydsr6+nqnVarZt2zbLe5MnT2Zjx451eozRaGRardbyc/r0aQaAabVaUTZVVFSI/wBKYvNmxniiAcYKCuz3/fijdV9+vkenDVs9/YTS9dRqtR59Xx1RUlLCYmNjWXV1NWOMsfPnz7O4uDim0+ns2g0cOJAtX77c8nrIkCFs6dKljDHGOnXqxDZv3mzZ16VLF7Zx40ZWU1PDkpKS2NGjRxljjJnNZpaUlMQOHTok+rpSffaA+UJ9PWPbtjEWH89Yy5b8tQLxt54HDjCmUvHbaKtWjNXW+vVyskP3Kk5Ah+dUKhVycnJw+PBh9O7dGwBw5MgRPPDAA06PUavVPnWHh23qd1dZv//+27r9888enTZs9fQTpKd7tmzZgubNm1t6qDMyMqBWq7Fjxw7ceuutAKzzJZ9++mnLccJ8ySFDhuDgwYMO51LGx8dDr9ejdevWAPi8zPbt26O4uBhxcXFurysV+5b/irPvfonoqCgADCrGHP5mzZqj39oCu2N/HbsE2LMXYAwq8MchFatvcrzq1lvQY8E/+f2gd2/gww+xadE+bJ7uftXcAw8Attlkjh4VvwB31izANpn0unXAjz+6P659+6ZTLhcsAEpK3B87ZAjQvbv1u6XXAy++2LSdo7nN06bxufECO3fyVXGNWbbMevy//mX/GZUI3as4kv6ZWYMHMcYsQ3GMMTz77LN47LHHkJmZiby8PBQWFuKBBx6ATqdDSUkJRo0aJaUZdoRt6verrgI+/5x/q6+4wn7f2bPWbQ+DprDV00+Qnu4pKSmxmwcJ8OHR0tJSy2tX8yVLGv7LNt5XWlqKkpISJCcn2/0dhH2xsbFur2uLL/MvL67fidt2zHfb7kT05QDsg6bIdd+h5/m1bo8tqo8D8E/rG3feiSH3jkRtsXv7+vSxD5pOnQLmzXN/HAC8/LL96+Ji4D//cX9c//5Ng6YPP7SmlnJFRgbQs6f1b1pdDbz+uvvjAODBB+2DpgMHgEWLnLe/9FIgN1fcuUMZuldxJFOhrKwMK1euBAC8/fbbeOihh5CQkACj0YjCwkIMHz4cmZmZGDZsGPbu3YvnnnsOGo0GhYWFdnOcpCbRWWkRpXPJJXzA3RETJwKvvgpcvMjLKHhA2OrpJ0hP96hUqib3iMZzIV3Nl3S2LyEhweW5xVzXFl/mX5rFli9pmO9mO5eNQVx+JXNdHerq6uzmskGVIupYPmct0TKXrbo6DkCcy2Nsj01Kss4HNJtTALif61ZXV4uamnq7+YBAGiDi81ZVVVnmZprNZuj10QCSRNmr1+tRX59gmQ9oMiUCllmg9kRFMbz1FmAylUOjofmX4TD/UsVYaCVf0Ol0SElJgVarRXJystv2Go2mydMiAd5fffEi0KaNR4eRntKidD09/b464pNPPsHMmTNx4MABy3sJCQn4/vvvcdNNNwHgPdpxcXHYsmWLZeg/NzcXRqMRr7zyClq2bImzZ8+iRYsWAIAhQ4agd+/euO2223DLLbfY/FMGunTpYllN5+66tjjqaWrVqpWoz166/TSOrf8D8QmJgErFAyGV9Ud4HZ0ch6vHXmt37F/fHoahRGttFxFhd6zwfvOO6WjfN9Pu2KIi5xWWbLnySqB5c+vrigrAxaJnO/r2tZ8gffy4uCG2lBTeYW7LH38ADf937Wg8A6F1ayA+3vrdqq0FfvtNnL3dugG2uZbLyoBjxxy3bdnSvldKydC9ikP9beFKUhL/IYggJycnBxMnToTJZEJMTIxleKxXr16WNq7mS2ZlZaFz5844fPiwJWg6cuQICgoK0KNHD8TFxeH06dNo1aoV6uvrceLECdx8882IiYlxe11bfJl/mXV9K8R2SPDqn1Ln4R28uibA66R5Q2oq4CBuFEXbtvzHG7p3F9+2oYMBAE8L0KePd9fMyOA/BAGEQcHeuDhxXciEOEhPaSE93ZOZmYlBgwZZkuBu2LABubm5UKvVmD59Os42zNHLy8vD+vXrAaDJfMnc3FzLvmPHjiE9PR39+vWDWq3G+PHjLfuKi4sxdOhQZGdnO72uv6YTkC9IC+kpLaQnR/HDc0aj0a9zpsIN0lNalK6nFMNzAHDhwgXk5+ejTZs20Gg0mDNnDsxmM7p06YLCwkJL79KcOXNgMBig0WgwadIkdGvIfl9fX4/8/HzLRO5nn30WrVq1AsAzHU+bNg0tW7ZESUkJZs+ejZSUFKfXjYlxPL/F18+udF8INKSntChdT7HfV8UHTUofhw00pKe0KF1PqYKmUITuVfJCekqL0vUU+30NmeG5xYsXo0uXLujZs6fcphAEQRAEEYYovqdJWCpJSAPpKS1K15N6muheJRekp7QoXU/F9TR5i5C/gZAG0lNaSE9CgHxBWkhPaSE9OYoPmurq6uQ2QVGQntJCehIC5AvSQnpKC+nJUXzQpOTuRDkgPaWF9FQe3s6/JF+QFtJTWkhPjuLnNNXX1/NyAYQkkJ7SonQ9aU4T3avkgvSUFqXrSXOaGhDq2RDSQHpKC+lJCJAvSAvpKS2kJyfkyqgIHWNiK4jrdDqqziwhpKe0KF1P4XsaYh3akkD3KnkhPaVF6XqKvVeFnAJC5WYhmy9BEMGPXq+3ZNkOF+heRRChh7t7VcjNaaqvr0dpaSmSkpKgalzauhFClfHTp09LOp+iZ8+e2Llzp2TnC5Vzkp6kp6cwxqDX65GVlaXo+RCOoHuVfOckPUlPTxF7rwq5nqaIiAhcdtllHh2TnJws6R86MjJS8kmtoXJOgPSUGqXrGW49TAJ0r5L3nADpKTVK11PMvSq8Hv0kIi8vL2zP6Q9C5bOTnkSoESq+ECr+FSqfnfT0HyE3POcJ4bzc2R+QntJCehIC5AvSQnpKC+lpRdE9TWq1Gi+++CLUarXcpigC0lNaSE9CgHxBWkhPaSE9rSi6p4kgCIIgCEIqFN3TRBAEQRAEIRUUNBEEQRAEQYiAgiaCIAiCIAgRUNBEEARBEAQhAsUGTZWVlcjNzUVBQQGmTJmCmpoauU0KadatW4fLL78c6enpeOyxx1BXVye3SYrAZDLh6quvxpYtW+Q2hZAJuldJC92r/APdqziKDZomT56MAQMGYPbs2bjuuutQUFAgt0khy4ULF/Dxxx+jsLAQb775Jt577z0sXLhQbrMUwfz583HixAm5zSBkhO5V0kH3Kv9B9yqOIlMOlJaWon379igvL0dsbCzKysqQnZ2Nc+fOISkpSW7zQo5ff/0VV199NeLi4gAA//73v7F3716sXbtWZstCm61bt+LAgQOYOXMm3n//ffTv319uk4gAQ/cqaaF7lX+ge5UVRfY0bdmyBc2bN0dsbCwAICMjA2q1Gjt27JDZstCkd+/elpsQALRs2dLjmlqEPZWVlVi9ejXGjRsntymEjNC9SlroXiU9dK+yR5FBU0lJCdLT0+3eS0xMRGlpqUwWKYudO3fi0UcflduMkGbu3Lk0DEPQvcrP0L3Kd+heZY8igyaVSmV5chMwmUyIjo6WySLlcPz4caSlpeHaa6+V25SQZf369bjuuutwySWXyG0KITN0r/IfdK/yHbpXNUWRQVNWVha0Wq3dewaDAVlZWTJZpAzq6+vx9ttvY968eXKbEtK89tprGDduHJo3b47mzZvj9OnTGDFiBOkahtC9yj/QvUoa6F7VFEVOBD979iw6dOgAjUaDmJgYlJaWokOHDrh48WKTpzpCPAsWLMB9991HN3QfKSsrs1tW3qdPHyxYsAADBw4M+wri4Qbdq/wD3aukge5VTVFkT1NmZiYGDRqEoqIiAMCGDRuQm5tLNyEfWLBgATp16gSTyYRjx45hxYoVOHLkiNxmhSQZGRm47LLLLD+RkZHIyMgI25tQOEP3Kumhe5V00L2qKVFyG+AvlixZgvz8fGzfvh0ajQZz5syR26SQ5Y033sC0adPs3uvcuTOtpiAICaB7lXTQvYrwN4ocniMIgiAIgpAaRQ7PEQRBEARBSA0FTQRBEARBECKgoIkgCIIgCEIEFDQRBEEQBEGIgIImgiAIgiAIEVDQRBAEQRAEIQIKmgiCIAiCIERAQRNBEARBEIQIKGgiCIIgCIIQAQVNBEEQBEEQIqCgiSAIgiAIQgQUNBEEQRAEQYjg/wECgBqzW0WyWAAAAABJRU5ErkJggg==' width=600.0/>\n",
       "            </div>\n",
       "        "
      ],
      "text/plain": [
       "Canvas(toolbar=Toolbar(toolitems=[('Home', 'Reset original view', 'home', 'home'), ('Back', 'Back to previous …"
      ]
     },
     "metadata": {},
     "output_type": "display_data"
    }
   ],
   "source": [
    "fig, ax = plt.subplots(1, 2, figsize=(6, 4))\n",
    "ax1 = ax.flat[0]\n",
    "ax1.plot(t1,sigma_hs_p1,'b--')\n",
    "ax1.plot(t2,sigma_hs_p2,'r--')\n",
    "ax1.set_title(r'$\\sigma^+_{h,surf}$ [Pa]')\n",
    "ax2 = ax.flat[1]\n",
    "ax2.plot(t1,C_p1[0]-C_p1,'b--')\n",
    "ax2.plot(t2,C_p2[0]-C_p2,'r--')\n",
    "ax2.set_title(r'$C_{p,loss}$ [Ah]')\n",
    "fig.tight_layout()\n",
    "plt.savefig(fig_DIR+'positive_electrode_stress'+'.png')"
   ]
  },
  {
   "cell_type": "code",
   "execution_count": 17,
   "metadata": {},
   "outputs": [
    {
     "name": "stdout",
     "output_type": "stream",
     "text": [
      "-22.99241728462938\n",
      "-103.74462943536203\n",
      "4.512123634112894\n"
     ]
    }
   ],
   "source": [
    "sigma_hs_p1_min = min(sigma_hs_p1/1e6)\n",
    "sigma_hs_p2_min = min(sigma_hs_p2/1e6)\n",
    "print(sigma_hs_p1_min)\n",
    "print(sigma_hs_p2_min)\n",
    "print(sigma_hs_p2_min/sigma_hs_p1_min)"
   ]
  },
  {
   "cell_type": "code",
   "execution_count": 18,
   "metadata": {},
   "outputs": [
    {
     "ename": "NameError",
     "evalue": "name 'aSAs' is not defined",
     "output_type": "error",
     "traceback": [
      "\u001b[1;31m---------------------------------------------------------------------------\u001b[0m",
      "\u001b[1;31mNameError\u001b[0m                                 Traceback (most recent call last)",
      "\u001b[1;32mc:\\Users\\spannala\\PyBaMM\\gmproj\\cycling_aging\\mech_stress_crate.ipynb Cell 20\u001b[0m in \u001b[0;36m<cell line: 1>\u001b[1;34m()\u001b[0m\n\u001b[1;32m----> <a href='vscode-notebook-cell:/c%3A/Users/spannala/PyBaMM/gmproj/cycling_aging/mech_stress_crate.ipynb#X30sZmlsZQ%3D%3D?line=0'>1</a>\u001b[0m aSAs\n",
      "\u001b[1;31mNameError\u001b[0m: name 'aSAs' is not defined"
     ]
    }
   ],
   "source": [
    "aSAs"
   ]
  },
  {
   "cell_type": "code",
   "execution_count": null,
   "metadata": {},
   "outputs": [],
   "source": [
    "fig, axes = plt.subplots(1, 2, figsize=(9, 4))\n",
    "ax1 = axes.flat[0]\n",
    "ax1.plot(t1,sigma_hs_n1,'b--')\n",
    "ax1.plot(t2,sigma_hs_n2,'rv-')\n",
    "ax1.set_title(r'$\\sigma_{h,surf}$ [Pa]')\n",
    "ax11 = axes.flat[1]\n",
    "ax11.plot(t1,c_ss_n1-c_save_n1,'b--')\n",
    "# ax11.plot(t1,c_save_n1,'b--')\n",
    "ax11.plot(t2,c_ss_n2-c_save_n2,'rv-')\n",
    "ax11.set_title(r'$c_{ss}^--c_{s,avg}^-$ [mol.$m^{-3}$]')\n",
    "plt.savefig(fig_DIR+'mech_stress_crate'+'.png')"
   ]
  },
  {
   "cell_type": "code",
   "execution_count": null,
   "metadata": {},
   "outputs": [],
   "source": [
    "\n",
    "fig, axes = plt.subplots(6, 2, figsize=(8, 10))\n",
    "ax1 = axes.flat[0]\n",
    "ax1.plot(t1,V1,'b')\n",
    "ax1.plot(t2,V2,'rv-')\n",
    "ax1.set_title('Voltage [V]')\n",
    "ax2 = axes.flat[2]\n",
    "ax2.plot(t1,phi_ocp1,'b')\n",
    "ax2.plot(t2,phi_ocp2,'rv-')\n",
    "ax2.set_title(r'U($c_{ss})$  [V]')\n",
    "ax3 = axes.flat[6]\n",
    "ax3.plot(t1,phi_pl1,'b')\n",
    "ax3.plot(t2,phi_pl2,'rv-')\n",
    "ax3.axhline(y = 0.0, color = 'k', linestyle = '--')\n",
    "ax3.set_title(r'$\\eta_{pl}$ [V]')\n",
    "ax4=axes.flat[3]\n",
    "ax4.plot(t1,i0_int1,'b')\n",
    "ax4.plot(t2,i0_int2,'rv-')\n",
    "ax4.set_title(r'$i_0$  [A.$m^{-2}$]')\n",
    "ax5=axes.flat[4]\n",
    "ax5.plot(t1,phi_int1,'b')\n",
    "ax5.plot(t2,phi_int2,'rv-')\n",
    "ax5.set_title(r'$\\eta_{int}$ [V]')\n",
    "ax6=axes.flat[7]\n",
    "ax6.plot(t1,I_Li1,'b')\n",
    "ax6.plot(t2,I_Li2,'rv-')\n",
    "ax6.set_title(r'$j_{pl}$ [A.$m^{-2}$]')\n",
    "ax7 = axes.flat[1]\n",
    "ax7.plot(t1,I1,'b')\n",
    "ax7.plot(t2,I2,'rv-')\n",
    "ax7.set_title('Current [A]')\n",
    "ax8=axes.flat[5]\n",
    "ax8.plot(t1,I_to1,'b')\n",
    "ax8.plot(t2,I_to2,'rv-')\n",
    "ax8.set_title(r'$j_{int}$  [A.$m^{-2}$]')\n",
    "ax9=axes.flat[8]\n",
    "ax9.plot(t1,phi_e_avg1,'b')\n",
    "ax9.plot(t2,phi_e_avg2,'rv-')\n",
    "ax9.set_title(r'$\\overline{\\Phi}^-_{e}$ [V]')\n",
    "ax10=axes.flat[9]\n",
    "ax10.plot(t1,c_e_avg1,'b')\n",
    "ax10.plot(t2,c_e_avg2,'rv-')\n",
    "ax10.set_title(r'$\\overline{c}^-_{e}$ [mol.$m^{-3}$]')\n",
    "\n",
    "ax11 = axes.flat[10]\n",
    "ax11.plot(t1,c_ss_n1-c_save_n1,'b--')\n",
    "# ax11.plot(t1,c_save_n1,'b--')\n",
    "ax11.plot(t2,c_ss_n2-c_save_n2,'rv-')\n",
    "# ax11.plot(t2,c_save_n2,'r--')\n",
    "# ax11.legend(['surf','ave'])\n",
    "ax11.set_title(r'$c_{ss}^--c_{s,avg}^-$ [mol.$m^{-3}$]')\n",
    "ax12 = axes.flat[11]\n",
    "ax12.plot(t1,Q_Li1,'b')\n",
    "ax12.plot(t2,Q_Li2,'rv-')\n",
    "ax12.set_title('Capacity lost due to plating [Ah]')\n",
    "\n",
    "ax11.set_xlabel(\"Time [hr]\")\n",
    "ax12.set_xlabel(\"Time [hr]\")\n",
    "# ax5.set_ylim([-0.1,1])\n",
    "# ax1.legend(['baseline',r'decreasing $\\alpha_{pl}$',r'Increasing $k_{0,pl}$'])\n",
    "# ax1.legend(['Irreversible ','Reversible','Partially Reversible'])\n",
    "# ax1.legend(['C/5','1.5C'])\n",
    "ax1.legend(['1.5C','2C'])\n",
    "axis = [ax1,ax2,ax5,ax3,ax9,ax7,ax4,ax8,ax6,ax10,ax11,ax12]\n",
    "labels = [\"a)\",\"b)\",\"c)\",\"d)\",\"e)\",\"f)\",\"g)\",\"h)\",\"i)\",\"j)\",\"k)\",\"l)\"]\n",
    "for ax, label in zip(axis,labels):\n",
    "  ax.text(-0.1,1.1,label,transform=ax.transAxes, fontsize=14)  \n",
    "\n",
    "# ax1.legend(['SPM','SPMe'])\n",
    "fig.tight_layout()\n",
    "# plt.savefig(fig_DIR+'plating_models_parameters'+'.png')\n",
    "# plt.savefig(fig_DIR+'plating_compare_models_1p5C'+'.png')\n",
    "plt.savefig(fig_DIR+'plating_compare_crate_new_2'+'.png')"
   ]
  },
  {
   "cell_type": "code",
   "execution_count": null,
   "metadata": {},
   "outputs": [],
   "source": [
    "i_pl_area1 = np.trapz(I_Li1,t1)\n",
    "i_pl_avg1 = i_pl_area1/t1[-1]\n",
    "i_pl_area2 = np.trapz(I_Li2,t2)\n",
    "i_pl_avg2 = i_pl_area2/t2[-1]\n",
    "print(i_pl_avg1)\n",
    "print(i_pl_avg2)\n",
    "print(i_pl_avg2/i_pl_avg1)\n",
    "print(Q_Li2[-1]/Q_Li1[-1])"
   ]
  },
  {
   "cell_type": "code",
   "execution_count": null,
   "metadata": {},
   "outputs": [],
   "source": [
    "fgdfgd"
   ]
  },
  {
   "attachments": {},
   "cell_type": "markdown",
   "metadata": {},
   "source": [
    "# Concentration Evolution"
   ]
  },
  {
   "cell_type": "code",
   "execution_count": null,
   "metadata": {},
   "outputs": [],
   "source": [
    "fig, ax = plt.subplots(1, 1, figsize=(5, 4))\n",
    "ax.plot(t1/t1[-1],c_ss_n1,'b')\n",
    "ax.plot(t1/t1[-1],c_save_n1,'b--')\n",
    "ax.plot(t1/t1[-1],c_s_n1[0,:],'b-.')\n",
    "ax.plot(t2/t2[-1],c_ss_n2,'r')\n",
    "ax.plot(t2/t2[-1],c_save_n2,'r--')\n",
    "ax.plot(t2/t2[-1],c_s_n2[0,:],'r-.')\n",
    "ax.legend([r\"C/5 $c_{ss}$\",r\"C/5 $c_{s,ave}$\",r\"C/5 $c_{s,0}$\",r\"1.5C $c_{ss}$\",r\"1.5C $c_{s,ave}$\",r\"1.5C $c_{s,0}$\"])\n",
    "ax.set_xlabel(\"Normalized Time\")\n",
    "ax.set_ylabel(\"Conc [mol$m^{-3}$]\")\n",
    "ax.set_title(r'Negative Electrode Li Concentration $c_s$')\n",
    "fig.savefig(fig_DIR+\"neg_conc_crate_comp_norm\"+\".png\")"
   ]
  },
  {
   "cell_type": "code",
   "execution_count": null,
   "metadata": {},
   "outputs": [],
   "source": [
    "fig, ax = plt.subplots(1, 1, figsize=(5, 4))\n",
    "ax.plot(t1/t1[-1],u_css_n1,'b')\n",
    "ax.plot(t2/t2[-1],u_css_n2,'r')\n",
    "ax.legend([\"C/5\",\"1.5C\"])\n",
    "ax.set_xlabel(\"Normalized Time\")\n",
    "ax.set_ylabel(\"Potential [V]\")\n",
    "ax.set_title(r'$U_n(c_{ss})$')\n",
    "fig.savefig(fig_DIR+\"neg_pot_crate_comp\"+\".png\")"
   ]
  },
  {
   "cell_type": "code",
   "execution_count": null,
   "metadata": {},
   "outputs": [],
   "source": [
    "fig, ax = plt.subplots(1, 1, figsize=(5, 4))\n",
    "ax.plot(t1/t1[-1],c_ss_n1-c_save_n1,'b')\n",
    "# ax.plot(t1/t1[-1],c_save_n1-c_s_n1[0,:],'b--')\n",
    "# ax.plot(t1/t1[-1],c_s_n1[0,:],'b-.')\n",
    "ax.plot(t2/t2[-1],c_ss_n2-c_save_n2,'r')\n",
    "# ax.plot(t2/t2[-1],c_save_n2-c_s_n2[0,:],'r--')\n",
    "# ax.plot(t2/t2[-1],c_s_n2[0,:],'r-.')\n",
    "ax.legend([r\"C/5 $c_{ss}-c_{s,avg}$\",r\"1.5C $c_{ss}-c_{s,avg}$\"])\n",
    "ax.set_xlabel(\"Normalized Time\")\n",
    "ax.set_ylabel(\"Conc [mol$m^{-3}$]\")\n",
    "ax.set_title(r'Negative Electrode Li Concentration Difference $c_s$')"
   ]
  },
  {
   "cell_type": "code",
   "execution_count": null,
   "metadata": {},
   "outputs": [],
   "source": [
    "len(t1)"
   ]
  },
  {
   "cell_type": "code",
   "execution_count": null,
   "metadata": {},
   "outputs": [],
   "source": [
    "fig, ax1 = plt.subplots(1, 1, figsize=(5,3))\n",
    "ax1.plot(t1,I1)\n",
    "n=1\n",
    "ax1.plot(t1[n],I1[n],'rx')\n",
    "n=150\n",
    "ax1.plot(t1[n],I1[n],'rx')\n",
    "n=287\n",
    "ax1.plot(t1[n],I1[n],'rx')\n",
    "n=292\n",
    "ax1.plot(t1[n],I1[n],'rx')\n",
    "n=298\n",
    "ax1.plot(t1[n],I1[n],'rx')"
   ]
  },
  {
   "cell_type": "code",
   "execution_count": null,
   "metadata": {},
   "outputs": [],
   "source": [
    "fig, ax1 = plt.subplots(1, 1, figsize=(5,3))\n",
    "ax1.plot(t2,I2)\n",
    "n=1\n",
    "ax1.plot(t2[n],I2[n],'rx')\n",
    "n=18\n",
    "ax1.plot(t2[n],I2[n],'rx')\n",
    "n=36\n",
    "ax1.plot(t2[n],I2[n],'rx')\n",
    "n=46\n",
    "ax1.plot(t2[n],I2[n],'rx')\n",
    "n=56\n",
    "ax1.plot(t2[n],I2[n],'rx')"
   ]
  },
  {
   "cell_type": "code",
   "execution_count": null,
   "metadata": {},
   "outputs": [],
   "source": [
    "ln = np.linspace(0,1,20)\n",
    "n = 1\n",
    "print(t1[n]/60)\n",
    "y1 = c_s_n1[:,n]\n",
    "n = 10\n",
    "y2 = c_s_n1[:,n]\n",
    "n = 20\n",
    "y3 = c_s_n1[:,n]\n",
    "n = 30\n",
    "y4 = c_s_n1[:,n]\n",
    "n = 40\n",
    "y5 = c_s_n1[:,n]\n",
    "n = 50\n",
    "y6 = c_s_n1[:,n]\n",
    "fig, ax1 = plt.subplots(1, 1, figsize=(5,3))\n",
    "ax1.plot(ln,y1)\n",
    "ax1.plot(ln,y2,'--')\n",
    "ax1.plot(ln,y3,'--')\n",
    "ax1.plot(ln,y4,'--')\n",
    "ax1.plot(ln,y5,'--')\n",
    "ax1.plot(ln,y6,'--')\n",
    "ax1.set_title(r'Negative Electrode $c_e-c_{e,ref}$ [mol.$m^{-3}$]')\n",
    "ax1.set_xlabel(\"Negative electrode normalized length\")\n",
    "ax1.legend([\"1 min\",\"10 min\",\"20 min\",\"30 min\",\"40 min\",\"50 min\"])\n",
    "# ax1.legend(['C/5','1.5 C'])\n",
    "fig.tight_layout()\n",
    "# plt.savefig(fig_DIR+'dfn_c_e_5'+'.png')"
   ]
  },
  {
   "cell_type": "code",
   "execution_count": null,
   "metadata": {},
   "outputs": [],
   "source": [
    "i_pl_area1 = np.trapz(I_Li1,t1)\n",
    "i_pl_avg1 = i_pl_area1/t1[-1]\n",
    "i_pl_area2 = np.trapz(I_Li2,t2)\n",
    "i_pl_avg2 = i_pl_area2/t2[-1]\n",
    "print(i_pl_avg1)\n",
    "print(i_pl_avg2)\n",
    "print(i_pl_avg2/i_pl_avg1)\n",
    "print(Q_Li2[-1]/Q_Li1[-1])"
   ]
  },
  {
   "cell_type": "code",
   "execution_count": null,
   "metadata": {},
   "outputs": [],
   "source": [
    "sadas"
   ]
  },
  {
   "cell_type": "code",
   "execution_count": null,
   "metadata": {},
   "outputs": [],
   "source": [
    "out = parameter_values.evaluate(0.75*param.F/param.R/298.15)\n",
    "print(out)"
   ]
  },
  {
   "attachments": {},
   "cell_type": "markdown",
   "metadata": {},
   "source": [
    "# Compare Lithium Plating average vs seperator overpotential"
   ]
  },
  {
   "cell_type": "code",
   "execution_count": null,
   "metadata": {},
   "outputs": [],
   "source": [
    "t1_e,V1_e,I1_e,Q1_e,Q_Li1_e,I_Li1_e,I_de1_e,I_st1_e,I_to1_e,phi_seif1_e,phi_sei1_e,phi_pl1_e,phi_del1_e,phi_ocp1_e,phi_int1_e,i0_int1_e,phi_e_avg1_e,c_e_avg1_e,c_ss_n1_e,c_save_n1_e,c_s_n1_e,u_css_n1_e,j_pl1_e,eta_pl1_e = plot_vars(solution1_e)\n",
    "t2_e,V2_e,I2_e,Q2_e,Q_Li2_e,I_Li2_e,I_de2_e,I_st2_e,I_to2_e,phi_seif2_e,phi_sei2_e,phi_pl2_e,phi_del2_e,phi_ocp2_e,phi_int2_e,i0_int2_e,phi_e_avg2_e,c_e_avg2_e,c_ss_n2_e,c_save_n2_e,c_s_n2_e,u_css_n2_e,j_pl2_e,eta_pl2_e = plot_vars(solution2_e)"
   ]
  },
  {
   "cell_type": "code",
   "execution_count": null,
   "metadata": {},
   "outputs": [],
   "source": [
    "# ln = np.linspace(0,1,20)\n",
    "# fig, ax1 = plt.subplots(1, 1, figsize=(5,3))\n",
    "# # ax1.plot(t2_e,j_pl2_e[10,:])\n",
    "# ax1.plot(ln,j_pl2_e[:,10])"
   ]
  },
  {
   "cell_type": "code",
   "execution_count": null,
   "metadata": {},
   "outputs": [],
   "source": [
    "es_2 = solution2_e[\"X-averaged positive electrode active material volume fraction\"].entries\n",
    "R_n = parameter_values.evaluate(param.n.prim.R_typ)\n",
    "F = parameter_values.evaluate(param.F)\n",
    "j_pl2_max_e = j_pl2_e[-1,:]\n",
    "nn = len(j_pl2_e)\n",
    "j_pl2_a=0\n",
    "eta_pl2_a=0\n",
    "for i in range(nn):\n",
    "    j_pl2_a+=j_pl2_e[i,:]\n",
    "    eta_pl2_a+=eta_pl2_e[i,:]\n",
    "j_pl2_av = j_pl2_a/nn\n",
    "eta_pl2_av = eta_pl2_a/nn\n",
    "d_c_lip_max = j_pl2_max_e\n",
    "d_c_lip_av = j_pl2_av\n",
    "\n",
    "eta_pl2_max_e = eta_pl2_e[-1,:]\n",
    "\n",
    "as_2 = 3*es_2/R_n\n",
    "\n",
    "mul =  parameter_values.evaluate(param.n.L*param.A_cc)\n",
    "# mul =  parameter_values.evaluate(param.n.L)\n",
    "mul2 = parameter_values.evaluate(param.n.L*param.L_y*param.L_z)\n",
    "# mul2 = parameter_values.evaluate(param.L_z)"
   ]
  },
  {
   "cell_type": "code",
   "execution_count": null,
   "metadata": {},
   "outputs": [],
   "source": [
    "Q_Li2_e_calc = -scipy.integrate.cumtrapz(d_c_lip_av*mul2*F,t2_e)\n",
    "Q_Li2_e_calc = np.append(Q_Li2_e_calc,Q_Li2_e_calc[-1])"
   ]
  },
  {
   "cell_type": "code",
   "execution_count": null,
   "metadata": {},
   "outputs": [],
   "source": [
    "Q_Li2_e_calc[-1] "
   ]
  },
  {
   "cell_type": "code",
   "execution_count": null,
   "metadata": {},
   "outputs": [],
   "source": [
    "Q_Li2_e[-1]"
   ]
  },
  {
   "cell_type": "code",
   "execution_count": null,
   "metadata": {},
   "outputs": [],
   "source": [
    "fig, ax1= plt.subplots(1, 1, figsize=(5, 4))\n",
    "ax1.plot(t2_e,Q_Li2_e)\n",
    "ax1.plot(t2_e,Q_Li2_e_calc)"
   ]
  },
  {
   "cell_type": "code",
   "execution_count": null,
   "metadata": {},
   "outputs": [],
   "source": [
    "c_lip_max = scipy.integrate.cumtrapz(d_c_lip_max,t2_e)\n",
    "c_lip_max = np.append(c_lip_max,c_lip_max[-1])\n",
    "c_lip_av = scipy.integrate.cumtrapz(d_c_lip_av,t2_e)\n",
    "c_lip_av = np.append(c_lip_av,c_lip_av[-1])"
   ]
  },
  {
   "cell_type": "code",
   "execution_count": null,
   "metadata": {},
   "outputs": [],
   "source": [
    "Q_Li2_e_max =c_lip_max/c_lip_av*Q_Li2_e"
   ]
  },
  {
   "cell_type": "code",
   "execution_count": null,
   "metadata": {},
   "outputs": [],
   "source": [
    "fig, axes = plt.subplots(1, 3, figsize=(10, 4))\n",
    "ax1 = axes.flat[0]\n",
    "ax1.plot(t2_e,j_pl2_av)\n",
    "ax1.plot(t2_e,j_pl2_max_e,'--')\n",
    "ax1.set_title(\"Plating Current\")\n",
    "ax1.set_ylabel(r\"Current [A$m^{-2}$]\")\n",
    "ax1.set_xlabel(\"Time [hr]\")\n",
    "ax1.legend([\"Average\",\"Maximum\"])\n",
    "ax2 = axes.flat[1]\n",
    "ax2.plot(t2_e,Q_Li2_e)\n",
    "ax2.plot(t2_e,Q_Li2_e_max,'--')\n",
    "ax2.set_title(R\"$Q_{loss,pl}$\")\n",
    "ax2.set_ylabel(r\"Capacity Loss [Ah]\")\n",
    "ax2.set_xlabel(\"Time [hr]\")\n",
    "ax3 = axes.flat[2]\n",
    "ax3.plot(t2_e,eta_pl2_av)\n",
    "ax3.plot(t2_e,eta_pl2_max_e,'--')\n",
    "ax3.set_title(R\"$\\eta_{pl}$\")\n",
    "ax3.set_ylabel(r\"Overpotential [V]\")\n",
    "ax3.set_xlabel(\"Time [hr]\")\n",
    "fig.tight_layout()\n",
    "plt.savefig(fig_DIR+'impact_eta_plmax'+'.png')"
   ]
  },
  {
   "cell_type": "code",
   "execution_count": null,
   "metadata": {},
   "outputs": [],
   "source": [
    "t1,V1,I1,Q1,Q_Li1,I_Li1,I_de1,I_st1,I_to1,phi_seif1,phi_sei1,phi_pl1,phi_del1,phi_ocp1,phi_int1,i0_int1,phi_e_avg1,c_e_avg1,c_ss_n1,c_save_n1,c_s_n1 = plot_vars(solution1)\n",
    "t2,V2,I2,Q2,Q_Li2,I_Li2,I_de2,I_st2,I_to2,phi_seif2,phi_sei2,phi_pl2,phi_del2,phi_ocp2,phi_int2,i0_int2,phi_e_avg2,c_e_avg2,c_ss_n2,c_save_n2,c_s_n2 = plot_vars(solution2)\n",
    "fig, axes = plt.subplots(6, 2, figsize=(8, 10))\n",
    "ax1 = axes.flat[0]\n",
    "ax1.plot(t1,V1,'b')\n",
    "ax1.plot(t2,V2,'rv-')\n",
    "ax1.set_title('Voltage [V]')\n",
    "ax2 = axes.flat[2]\n",
    "ax2.plot(t1,phi_ocp1,'b')\n",
    "ax2.plot(t2,phi_ocp2,'rv-')\n",
    "ax2.set_title(r'U($c_{ss})$  [V]')\n",
    "ax3 = axes.flat[6]\n",
    "ax3.plot(t1,phi_pl1,'b')\n",
    "ax3.plot(t2,phi_pl2,'rv-')\n",
    "ax3.set_title(r'$\\eta_{pl}$ [V]')\n",
    "ax4=axes.flat[3]\n",
    "ax4.plot(t1,i0_int1,'b')\n",
    "ax4.plot(t2,i0_int2,'rv-')\n",
    "ax4.set_title(r'$i_0$  [A.$m^{-2}$]')\n",
    "ax5=axes.flat[4]\n",
    "ax5.plot(t1,phi_int1,'b')\n",
    "ax5.plot(t2,phi_int2,'rv-')\n",
    "ax5.set_title(r'$\\eta_{int}$ [V]')\n",
    "ax6=axes.flat[7]\n",
    "ax6.plot(t1,I_Li1,'b')\n",
    "ax6.plot(t2,I_Li2,'rv-')\n",
    "ax6.set_title(r'$j_{pl}$ [A.$m^{-2}$]')\n",
    "ax7 = axes.flat[1]\n",
    "ax7.plot(t1,I1,'b')\n",
    "ax7.plot(t2,I2,'rv-')\n",
    "ax7.set_title('Current [A]')\n",
    "ax8=axes.flat[5]\n",
    "ax8.plot(t1,I_to1,'b')\n",
    "ax8.plot(t2,I_to2,'rv-')\n",
    "ax8.set_title(r'$j_{int}$  [A.$m^{-2}$]')\n",
    "ax9=axes.flat[8]\n",
    "ax9.plot(t1,phi_e_avg1,'b')\n",
    "ax9.plot(t2,phi_e_avg2,'rv-')\n",
    "ax9.set_title(r'$\\overline{\\Phi}^-_{e}$ [V]')\n",
    "ax10=axes.flat[9]\n",
    "ax10.plot(t1,c_e_avg1,'b')\n",
    "ax10.plot(t2,c_e_avg2,'rv-')\n",
    "ax10.set_title(r'$\\overline{c}^-_{e}$ [mol.$m^{-3}$]')\n",
    "\n",
    "ax11 = axes.flat[10]\n",
    "ax11.plot(t1,c_ss_n1-c_save_n1,'b--')\n",
    "# ax11.plot(t1,c_save_n1,'b--')\n",
    "ax11.plot(t2,c_ss_n2-c_save_n2,'r')\n",
    "# ax11.plot(t2,c_save_n2,'r--')\n",
    "ax11.legend(['surf','ave'])\n",
    "ax11.set_title(r'$c_s^-$ [mol.$m^{-3}$]')\n",
    "ax12 = axes.flat[11]\n",
    "ax12.plot(t1,Q_Li1,'b')\n",
    "ax12.plot(t2,Q_Li2,'rv-')\n",
    "ax12.set_title('Capacity lost due to plating [Ah]')\n",
    "\n",
    "ax11.set_xlabel(\"Time [hr]\")\n",
    "ax12.set_xlabel(\"Time [hr]\")\n",
    "# ax5.set_ylim([-0.1,1])\n",
    "# ax1.legend(['baseline',r'decreasing $\\alpha_{pl}$',r'Increasing $k_{0,pl}$'])\n",
    "# ax1.legend(['Irreversible ','Reversible','Partially Reversible'])\n",
    "ax1.legend(['1.5C','2C'])\n",
    "axis = [ax1,ax2,ax5,ax3,ax9,ax7,ax4,ax8,ax6,ax10,ax11,ax12]\n",
    "labels = [\"a)\",\"b)\",\"c)\",\"d)\",\"e)\",\"f)\",\"g)\",\"h)\",\"i)\",\"j)\",\"k)\",\"l)\"]\n",
    "for ax, label in zip(axis,labels):\n",
    "  ax.text(-0.1,1.1,label,transform=ax.transAxes, fontsize=14)  \n",
    "\n",
    "# ax1.legend(['SPM','SPMe'])\n",
    "fig.tight_layout()\n",
    "# plt.savefig(fig_DIR+'plating_models_parameters'+'.png')\n",
    "# plt.savefig(fig_DIR+'plating_compare_models_1p5C'+'.png')\n",
    "plt.savefig(fig_DIR+'plating_compare_crate_high_irrev'+'.png')"
   ]
  },
  {
   "cell_type": "code",
   "execution_count": null,
   "metadata": {},
   "outputs": [],
   "source": [
    "asdasd"
   ]
  },
  {
   "cell_type": "code",
   "execution_count": null,
   "metadata": {},
   "outputs": [],
   "source": [
    "c_ss_n1"
   ]
  },
  {
   "cell_type": "code",
   "execution_count": null,
   "metadata": {},
   "outputs": [],
   "source": [
    "c_smax_n = 28746\n",
    "f1 = (c_ss_p1**0.5)*((c_smax_n-c_ss_p1)**0.5)\n",
    "\n",
    "fig, ax1 = plt.subplots(1, 1, figsize=(5, 4))\n",
    "ax1.plot(t1,f1,'b')\n",
    "# ax1.plot(t2,V2,'rv-')\n",
    "ax1.set_title(r'$(c_{s,max}-c_{ss})^{1-\\alpha}\\times(c_{ss})^{\\alpha}$')\n",
    "ax1.set_xlabel(\"Time [hr]\")\n",
    "plt.savefig(fig_DIR+'exch_current_nonlinearity'+'.png')"
   ]
  },
  {
   "cell_type": "code",
   "execution_count": null,
   "metadata": {},
   "outputs": [],
   "source": [
    "c_ss_p1 = np.linspace(1,0,51)"
   ]
  },
  {
   "cell_type": "code",
   "execution_count": null,
   "metadata": {},
   "outputs": [],
   "source": [
    "c_smax_p =1\n",
    "f1 = (c_ss_p1**0.05)*((c_smax_p-c_ss_p1)**0.05)\n",
    "\n",
    "fig, ax1 = plt.subplots(1, 1, figsize=(5, 4))\n",
    "ax1.plot(c_ss_p1,f1,'b')\n",
    "# ax1.plot(t2,V2,'rv-')\n",
    "ax1.set_title(r'$(c_{s,max}-c_{ss})^{1-\\alpha}\\times(c_{ss})^{\\alpha}$')\n",
    "# plt.savefig(fig_DIR+'exch_current_nonlinearity'+'.png')"
   ]
  }
 ],
 "metadata": {
  "kernelspec": {
   "display_name": "Python 3",
   "language": "python",
   "name": "python3"
  },
  "language_info": {
   "codemirror_mode": {
    "name": "ipython",
    "version": 3
   },
   "file_extension": ".py",
   "mimetype": "text/x-python",
   "name": "python",
   "nbconvert_exporter": "python",
   "pygments_lexer": "ipython3",
   "version": "3.9.7"
  },
  "orig_nbformat": 4,
  "vscode": {
   "interpreter": {
    "hash": "fe6e1a396f7757d05554318f98bb2d7e7d3785df9fdbcce0707f057fad4349a9"
   }
  }
 },
 "nbformat": 4,
 "nbformat_minor": 2
}
