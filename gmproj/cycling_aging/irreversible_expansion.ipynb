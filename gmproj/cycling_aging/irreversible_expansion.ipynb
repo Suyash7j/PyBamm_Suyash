{
 "cells": [
  {
   "attachments": {},
   "cell_type": "markdown",
   "metadata": {},
   "source": [
    "# Simulate Irreversible Expansion"
   ]
  },
  {
   "cell_type": "code",
   "execution_count": 1,
   "metadata": {},
   "outputs": [],
   "source": [
    "import pybamm\n",
    "import matplotlib.pyplot as plt\n",
    "import numpy as np\n",
    "import pandas as pd\n",
    "import math\n",
    "import dfols\n",
    "import signal\n",
    "from scipy.integrate import solve_ivp\n",
    "from scipy.fft import fft, fftfreq, fftshift\n",
    "from scipy.signal import savgol_filter\n",
    "from scipy.signal import find_peaks\n",
    "from scipy import interpolate, integrate\n",
    "from scipy.optimize import curve_fit\n",
    "from stopit import threading_timeoutable as timeoutable\n",
    "import os, sys\n",
    "sys.path.append(os.path.dirname(os.path.dirname(os.path.abspath(\"__file__\"))))\n",
    "from batfuns import *\n",
    "plt.rcParams = set_rc_params(plt.rcParams)\n",
    "import winsound\n",
    "\n",
    "eSOH_DIR = \"../data/esoh_R/\"\n",
    "oCV_DIR = \"../data/ocv/\"\n",
    "hppc_DIR = \"../data/hppc/\"\n",
    "cyc_DIR = \"../data/cycling/\"\n",
    "fig_DIR = \"../figures/figures_fit/\"\n",
    "res_DIR = \"../data/results_irrev_exp/\"\n",
    "%matplotlib widget"
   ]
  },
  {
   "cell_type": "code",
   "execution_count": 2,
   "metadata": {},
   "outputs": [],
   "source": [
    "parameter_values = get_parameter_values()"
   ]
  },
  {
   "cell_type": "code",
   "execution_count": 3,
   "metadata": {},
   "outputs": [],
   "source": [
    "spm = pybamm.lithium_ion.SPM(\n",
    "    {\n",
    "        \"SEI\": \"ec reaction limited\",\n",
    "        \"loss of active material\": \"stress-driven\",\n",
    "        \"lithium plating\": \"irreversible\",\n",
    "        \"stress-induced diffusion\": \"false\",\n",
    "        \"calculate discharge energy\": \"true\",\n",
    "    }\n",
    ")\n",
    "# spm.print_parameter_info()\n",
    "param=spm.param"
   ]
  },
  {
   "cell_type": "code",
   "execution_count": 4,
   "metadata": {},
   "outputs": [
    {
     "name": "stdout",
     "output_type": "stream",
     "text": [
      "25\n"
     ]
    }
   ],
   "source": [
    "cell = 1\n",
    "sno = 7\n",
    "sim_des = f'cond{sno}'\n",
    "cell_no,dfe,dfe_0,dfo_0,N,N_0 = load_data(cell,eSOH_DIR,oCV_DIR)\n",
    "Ns = np.insert(N[1:]-1,0,0)\n",
    "eps_n_data,eps_p_data,c_rate_c,c_rate_d,dis_set,Temp,SOC_0 = init_exp(cell_no,dfe,spm,parameter_values)\n",
    "print(Temp)\n",
    "pybamm.set_logging_level(\"WARNING\")\n",
    "# pybamm.set_logging_level(\"NOTICE\")\n",
    "experiment = pybamm.Experiment(\n",
    "    [\n",
    "        (\"Discharge at \"+c_rate_d+dis_set,\n",
    "         \"Rest for 5 min\",\n",
    "         \"Charge at \"+c_rate_c+\" until 4.2V\", \n",
    "         \"Hold at 4.2V until C/50\")\n",
    "    ] *dfe.N.iloc[-1],\n",
    "    # ] *40,\n",
    "    termination=\"50% capacity\",\n",
    "#     cccv_handling=\"ode\",\n",
    ")"
   ]
  },
  {
   "cell_type": "code",
   "execution_count": 5,
   "metadata": {},
   "outputs": [],
   "source": [
    "# drive_cycle = pd.read_csv(cyc_DIR+'peyman_drive_cycle_current'+'.csv', comment=\"#\", header=None).to_numpy()\n",
    "# experiment = pybamm.Experiment(\n",
    "#     [\n",
    "#         (\"Run DriveCycle (A)\",\n",
    "#          \"Rest for 5 min\",\n",
    "#          \"Charge at \"+c_rate_c+\" until 4.2V\", \n",
    "#          \"Hold at 4.2V until C/50\")\n",
    "#     ] *dfe.N.iloc[-1],\n",
    "#     # ] *1,\n",
    "#     drive_cycles={\"DriveCycle\": drive_cycle},\n",
    "#     termination=\"50% capacity\",\n",
    "# #     cccv_handling=\"ode\",\n",
    "# )"
   ]
  },
  {
   "cell_type": "code",
   "execution_count": 6,
   "metadata": {},
   "outputs": [],
   "source": [
    "par_val = {}\n",
    "# Previous i.e. tuning mech sim sep and then Li plating\n",
    "par_val[0]=[1.2715e-07,1.2727e-06,1.1992,1.353e-9]\n",
    "# Using only C/5 and 1.5C Cycling aging, cost function with Cn,Cp,x100,y0\n",
    "par_val[1]=[1.4819e-07,1.5114e-06,1.2484,1.4732e-09]\n",
    "# Using only C/5 and 1.5C Cycling aging, cost function with Cn,Cp,C,LLI(%)\n",
    "par_val[2]=[1.4493e-07,1.3608e-06,1.199,1.2138e-09]\n",
    "# Using C/5, 1.5C and mixed c-rate (Ch:C/5, Dh:1.5C) Cycling aging, cost function with Cn,Cp,x100,y0\n",
    "par_val[3]=[1.043e-07,1.036e-06,1.208,1.6045e-09]\n",
    "# Using C/5, 1.5C and mixed c-rate (Ch:C/5, Dh:1.5C) Cycling aging, cost function with Cn,Cp,C,LLI(%)\n",
    "par_val[4]=[8.755e-08,8.572e-07,1.135,1.5788e-09]\n",
    "# Using C/5, 1.5C and mixed c-rate (Ch:C/5, Dh:1.5C) Cycling aging, cost function with Cn,Cp,C,LLI(%) another initial condition\n",
    "par_val[5]=[8.7698e-08,8.5848e-07,1.1354,1.5778e-09]\n",
    "# Using C/5, 2C Cycling aging, cost function with Cn,Cp,C,LLI(%)\n",
    "par_val[6]=[2.9056e-07,2.6764e-06,1.3792,1.2686e-09]\n",
    "# New Mech Damage Model with Lithium plating resistane\n",
    "par_val[7]=[2.190e-07,2.308e-06,1.214,2.537e-09]"
   ]
  },
  {
   "cell_type": "code",
   "execution_count": 7,
   "metadata": {},
   "outputs": [],
   "source": [
    "parameter_values = get_parameter_values()\n",
    "parameter_values.update(\n",
    "    {\n",
    "        \"Negative electrode active material volume fraction\": eps_n_data,\n",
    "        \"Positive electrode active material volume fraction\": eps_p_data,\n",
    "        \"Initial temperature [K]\": 273.15+Temp,\n",
    "        \"Ambient temperature [K]\": 273.15+Temp,\n",
    "        \"Positive electrode LAM constant proportional term [s-1]\": par_val[sno][0],\n",
    "        \"Negative electrode LAM constant proportional term [s-1]\": par_val[sno][1],\n",
    "        \"Positive electrode LAM constant exponential term\": par_val[sno][2],\n",
    "        \"Negative electrode LAM constant exponential term\": par_val[sno][2],\n",
    "        \"SEI kinetic rate constant [m.s-1]\":  4.60788219e-16, #1.08494281e-16 , \n",
    "        \"EC diffusivity [m2.s-1]\": 4.56607447e-19,#8.30909086e-19,\n",
    "        \"SEI growth activation energy [J.mol-1]\": 1.87422275e+04,#1.58777981e+04,\n",
    "        \"Lithium plating kinetic rate constant [m.s-1]\": par_val[sno][3],\n",
    "        # \"SEI kinetic rate constant [m.s-1]\": 1.6827e-16,\n",
    "        # \"EC diffusivity [m2.s-1]\": 2e-18,\n",
    "        # \"SEI growth activation energy [J.mol-1]\": 0,\n",
    "        \"Initial inner SEI thickness [m]\": 0e-09,\n",
    "        \"Initial outer SEI thickness [m]\": 5e-09,\n",
    "        \"SEI resistivity [Ohm.m]\": 30000.0,\n",
    "        # \"Negative electrode diffusion coefficient [m2.s-1]\":8.0E-15,\n",
    "        # \"Positive electrode diffusion coefficient [m2.s-1]\":8.0E-16,\n",
    "    },\n",
    "    check_already_exists=False,\n",
    ")\n"
   ]
  },
  {
   "cell_type": "code",
   "execution_count": 8,
   "metadata": {},
   "outputs": [],
   "source": [
    "sim_long = pybamm.Simulation(spm, experiment=experiment, parameter_values=parameter_values, \n",
    "                            solver=pybamm.CasadiSolver(\"safe\"))\n",
    "sol_long = sim_long.solve(initial_soc=1)\n",
    "long_sol_output =sol_long.summary_variables"
   ]
  },
  {
   "cell_type": "code",
   "execution_count": 9,
   "metadata": {},
   "outputs": [],
   "source": [
    "Rn = parameter_values.evaluate(param.n.prim.R_typ)\n",
    "Rp = parameter_values.evaluate(param.p.prim.R_typ)\n",
    "ln = parameter_values.evaluate(param.n.L )\n",
    "lp = parameter_values.evaluate(param.p.L )\n",
    "kb = 30\n",
    "omega_sei = 9.585e-05\n",
    "omega_li = 6.94e-3/534\n",
    "a_sn_0 = 3*eps_n_data/Rn\n",
    "a_sp_0 = 3*eps_p_data/Rp"
   ]
  },
  {
   "cell_type": "code",
   "execution_count": 10,
   "metadata": {},
   "outputs": [
    {
     "data": {
      "text/plain": [
       "1.299625468164794e-05"
      ]
     },
     "execution_count": 10,
     "metadata": {},
     "output_type": "execute_result"
    }
   ],
   "source": [
    "6.94e-3/534"
   ]
  },
  {
   "cell_type": "code",
   "execution_count": 11,
   "metadata": {},
   "outputs": [],
   "source": [
    "\n",
    "t = sol_long[\"Time [s]\"].entries\n",
    "del_sei_tot = sol_long[\"X-averaged total SEI thickness [m]\"].entries\n",
    "I = sol_long[\"Current [A]\"].entries\n",
    "Ah_th = sol_long[\"Throughput capacity [A.h]\"].entries\n",
    "del_sei = sol_long[\"X-averaged SEI thickness [m]\"].entries\n",
    "del_li = sol_long[\"X-averaged lithium plating thickness [m]\"].entries\n",
    "c_sei = sol_long[\"X-averaged SEI concentration [mol.m-3]\"].entries\n",
    "e_sn = sol_long[\"X-averaged negative electrode active material volume fraction\"].entries\n",
    "e_sp = sol_long[\"X-averaged positive electrode active material volume fraction\"].entries\n",
    "c_li = sol_long[\"X-averaged lithium plating concentration [mol.m-3]\"].entries\n",
    "\n",
    "a_sn = 3*e_sn/Rn\n",
    "a_sp = 3*e_sp/Rp\n",
    "del_sei_calc = (1/a_sn[0]) * c_sei * omega_sei\n",
    "del_li_calc = (1/a_sn[0]) * c_li * omega_li\n",
    "\n",
    "e_snloss = e_sn[0]-e_sn\n",
    "Q = integrate.cumtrapz(abs(I),t, initial=0)/3600 #Ah\n"
   ]
  },
  {
   "cell_type": "code",
   "execution_count": 12,
   "metadata": {},
   "outputs": [
    {
     "data": {
      "text/plain": [
       "[<matplotlib.lines.Line2D at 0x24405e5fe50>]"
      ]
     },
     "execution_count": 12,
     "metadata": {},
     "output_type": "execute_result"
    },
    {
     "data": {
      "application/vnd.jupyter.widget-view+json": {
       "model_id": "abc07dfdc956413c8923737b25605f89",
       "version_major": 2,
       "version_minor": 0
      },
      "image/png": "[encoded data removed]",
      "text/html": [
       "\n",
       "            <div style=\"display: inline-block;\">\n",
       "                <div class=\"jupyter-widgets widget-label\" style=\"text-align: center;\">\n",
       "                    Figure\n",
       "                </div>\n",
       "                <img src='data:image/png;base64,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' width=640.0/>\n",
       "            </div>\n",
       "        "
      ],
      "text/plain": [
       "Canvas(toolbar=Toolbar(toolitems=[('Home', 'Reset original view', 'home', 'home'), ('Back', 'Back to previous …"
      ]
     },
     "metadata": {},
     "output_type": "display_data"
    }
   ],
   "source": [
    "fig, ax = plt.subplots(1,1)\n",
    "ax.plot(t,del_li)\n",
    "ax.plot(t,del_li_calc,'--')"
   ]
  },
  {
   "cell_type": "code",
   "execution_count": 13,
   "metadata": {},
   "outputs": [],
   "source": [
    "irrev_exp = 1e6*kb*(del_sei_calc+del_li_calc)*a_sn[0]*ln\n",
    "irrev_exp_sei = 1e6*kb*(del_sei_calc)*a_sn[0]*ln\n",
    "irrev_ic = 1e6*kb*3*e_snloss/Rn*Rn*ln"
   ]
  },
  {
   "cell_type": "code",
   "execution_count": 14,
   "metadata": {},
   "outputs": [],
   "source": [
    "c_sei_cycle = []\n",
    "c_li_cycle = []\n",
    "e_sn_cycle = []\n",
    "e_sp_cycle = []\n",
    "e_sei_cycle = []\n",
    "e_li_cycle = []\n",
    "\n",
    "del_sei_cycle = []\n",
    "del_li_cycle = []\n",
    "del_in_n_cycle = []\n",
    "del_in_p_cycle = []\n",
    "\n",
    "for ii in range(len(sol_long.cycles)):\n",
    "    cycle_sim = sol_long.cycles[ii]\n",
    "    del_sei_c = cycle_sim[\"X-averaged SEI thickness [m]\"].entries[0]\n",
    "    del_sei_cycle.append(del_sei_c)\n",
    "    c_sei_c = cycle_sim[\"X-averaged SEI concentration [mol.m-3]\"].entries[0]\n",
    "    c_sei_cycle.append(c_sei_c)\n",
    "    c_li_c = cycle_sim[\"X-averaged lithium plating concentration [mol.m-3]\"].entries[0]\n",
    "    c_li_cycle.append(c_li_c)\n",
    "    e_sn_c = cycle_sim[\"X-averaged negative electrode active material volume fraction\"].entries[0]\n",
    "    e_sn_cycle.append(e_sn_c)\n",
    "    e_sp_c = cycle_sim[\"X-averaged positive electrode active material volume fraction\"].entries[0]\n",
    "    e_sp_cycle.append(e_sp_c)\n",
    "    e_sei_cycle.append(c_sei_c*omega_sei)\n",
    "    e_li_cycle.append(c_li_c*omega_li)\n",
    "    del_li_cycle.append(c_li_c*omega_li*(1/a_sn_0))\n",
    "e_sei_cycle = np.array(e_sei_cycle)\n",
    "e_li_cycle = np.array(e_li_cycle)\n",
    "del_sei_cycle = np.array(del_sei_cycle)\n",
    "del_li_cycle = np.array(del_li_cycle)\n",
    "e_sn_cycle = np.array(e_sn_cycle)\n",
    "e_sp_cycle = np.array(e_sp_cycle)"
   ]
  },
  {
   "cell_type": "code",
   "execution_count": 15,
   "metadata": {},
   "outputs": [],
   "source": [
    "e_snloss_cycle = e_sn_cycle[0]-e_sn_cycle\n",
    "e_sploss_cycle = e_sp_cycle[0]-e_sp_cycle\n",
    "del_in_n_cycle = e_snloss_cycle*(1/a_sn_0)\n",
    "del_in_p_cycle = e_sploss_cycle*(1/a_sp_0)\n",
    "del_in_n_cycle = np.array(del_in_n_cycle)\n",
    "del_in_p_cycle = np.array(del_in_p_cycle)"
   ]
  },
  {
   "cell_type": "code",
   "execution_count": 16,
   "metadata": {},
   "outputs": [],
   "source": [
    "e_sei_cycle_Ns = e_sei_cycle[Ns]\n",
    "e_li_cycle_Ns = e_li_cycle[Ns]\n",
    "e_snloss_cycle_Ns = e_snloss_cycle[Ns]\n",
    "e_sploss_cycle_Ns = e_sploss_cycle[Ns]\n",
    "\n",
    "e_sn_cycle_Ns = e_sn_cycle[Ns]\n",
    "e_sp_cycle_Ns = e_sp_cycle[Ns]\n",
    "\n",
    "del_sei_cycle_Ns = del_sei_cycle[Ns]-del_sei_cycle[0]\n",
    "del_li_cycle_Ns = del_li_cycle[Ns]\n",
    "del_in_n_cycle_Ns = del_in_n_cycle[Ns]\n",
    "del_in_p_cycle_Ns = del_in_p_cycle[Ns]"
   ]
  },
  {
   "cell_type": "code",
   "execution_count": 17,
   "metadata": {},
   "outputs": [],
   "source": [
    "df = pd.DataFrame({'N': N, 'irrev_exp': dfe['irrev_exp'],'e_sei':e_sei_cycle_Ns,\n",
    "                    'e_li':e_li_cycle_Ns, 'e_in_n':e_snloss_cycle_Ns, 'e_in_p':e_sploss_cycle_Ns,\n",
    "                    'e_sn':e_sn_cycle_Ns,'e_sp':e_sp_cycle_Ns,\n",
    "                    'del_sei':del_sei_cycle_Ns,'del_li':del_li_cycle_Ns, 'del_in_n':del_in_n_cycle_Ns, 'del_in_p':del_in_p_cycle_Ns,\n",
    "                    })\n",
    "df.to_csv(res_DIR + \"irrev_exp_cell\"+cell_no+\".csv\", index=False)"
   ]
  },
  {
   "cell_type": "code",
   "execution_count": 18,
   "metadata": {},
   "outputs": [
    {
     "data": {
      "text/plain": [
       "array([0.00000000e+00, 1.57170763e-08, 5.00266368e-08, 7.96595864e-08,\n",
       "       1.11184283e-07, 1.40490923e-07, 1.67720348e-07, 1.92997181e-07,\n",
       "       2.16432051e-07, 2.38123245e-07])"
      ]
     },
     "execution_count": 18,
     "metadata": {},
     "output_type": "execute_result"
    }
   ],
   "source": [
    "del_sei_cycle_Ns"
   ]
  },
  {
   "cell_type": "code",
   "execution_count": 19,
   "metadata": {},
   "outputs": [
    {
     "ename": "NameError",
     "evalue": "name 'sfsdfs' is not defined",
     "output_type": "error",
     "traceback": [
      "\u001b[1;31m---------------------------------------------------------------------------\u001b[0m",
      "\u001b[1;31mNameError\u001b[0m                                 Traceback (most recent call last)",
      "\u001b[1;32mc:\\Users\\spannala\\PyBaMM\\gmproj\\cycling_aging\\irreversible_expansion.ipynb Cell 20\u001b[0m in \u001b[0;36m<cell line: 1>\u001b[1;34m()\u001b[0m\n\u001b[1;32m----> <a href='vscode-notebook-cell:/c%3A/Users/spannala/PyBaMM/gmproj/cycling_aging/irreversible_expansion.ipynb#X25sZmlsZQ%3D%3D?line=0'>1</a>\u001b[0m sfsdfs\n",
      "\u001b[1;31mNameError\u001b[0m: name 'sfsdfs' is not defined"
     ]
    }
   ],
   "source": [
    "sfsdfs"
   ]
  },
  {
   "cell_type": "code",
   "execution_count": null,
   "metadata": {},
   "outputs": [],
   "source": [
    "fig,ax = plt.subplots(1,1,figsize=(5,4))\n",
    "ax.plot(Ns,e_snloss_cycle_Ns,'mx')\n",
    "ax.plot(Ns,e_sploss_cycle_Ns,'bx')\n",
    "ax.plot(Ns,e_sei_cycle_Ns,'rx')\n",
    "ax.plot(Ns,e_li_cycle_Ns,'gx')"
   ]
  },
  {
   "cell_type": "code",
   "execution_count": null,
   "metadata": {},
   "outputs": [],
   "source": [
    "fig,ax = plt.subplots(1,1,figsize=(5,4))\n",
    "ax.plot(dfe['Ah_th']-dfe['Ah_th'][0],dfe['N'],'kx-')\n",
    "ax.plot(long_sol_output['Throughput capacity [A.h]'],long_sol_output['Cycle number'],'r--')\n",
    "ax.set_xlabel(\"Ah Throughput\")\n",
    "ax.set_ylabel(r\"Cycle Number\")\n",
    "ax.set_title(r\"1.5C Aging Cell\")\n",
    "ax.legend([\"Data\",\"Sim\"])"
   ]
  },
  {
   "cell_type": "code",
   "execution_count": null,
   "metadata": {},
   "outputs": [],
   "source": [
    "# sim_des = \n",
    "fig,ax = plt.subplots(1,1,figsize=(5,4))\n",
    "ax.plot(dfe['Ah_th']-dfe['Ah_th'][0],dfe['Cap'],'kx-')\n",
    "ax.plot(long_sol_output['Throughput capacity [A.h]'],long_sol_output['Capacity [A.h]'],'r--')\n",
    "ax.set_xlabel(\"Ah Throughput\")\n",
    "ax.set_ylabel(r\"Capacity [Ah]\")\n",
    "ax.set_title(r\"1.5C Aging Cell\")\n",
    "ax.legend([\"Data\",\"Sim\"])\n",
    "# plt.savefig(fig_DIR +'cap_'+cell_no+'_Ah_2.png')"
   ]
  },
  {
   "cell_type": "code",
   "execution_count": null,
   "metadata": {},
   "outputs": [],
   "source": [
    "# sim_des = \n",
    "fig,ax = plt.subplots(1,1,figsize=(5,4))\n",
    "ax.plot(dfe['Ah_th']-dfe['Ah_th'][0],dfe['irrev_exp'],'k')\n",
    "ax.plot(Q,irrev_exp,'r--')\n",
    "ax.plot(Q,irrev_exp_sei,'b--')\n",
    "ax.plot(Q,irrev_exp+irrev_ic/5,'g--')\n",
    "ax.set_xlabel(\"AH Throughput [Ah]\")\n",
    "ax.set_ylabel(r\"Expansion [$\\mu$m]\")\n",
    "ax.set_title(r\"Irreversible Expansion 1.5C Aging Cell\")\n",
    "ax.legend([\"Data\",\"Model w SEI and Plating\",\"Model w SEI\"])\n",
    "# plt.savefig(fig_DIR +'cycling_aging_'+cell_no+'_irrev_Exp_plating.png')"
   ]
  },
  {
   "attachments": {},
   "cell_type": "markdown",
   "metadata": {},
   "source": [
    "# Expansion Output"
   ]
  },
  {
   "cell_type": "code",
   "execution_count": 20,
   "metadata": {},
   "outputs": [],
   "source": [
    "cells = [1,4]\n",
    "N_irrev_exp=[]\n",
    "irrev_exp_data=[]\n",
    "e_sei=[]; e_li=[]; e_in_n=[]; e_in_p=[]\n",
    "del_sei=[]; del_li=[]; del_in_n=[]; del_in_p=[]\n",
    "for cell in cells:\n",
    "    cell_no,dfe,dfe_0,dfo_0,N,N_0 = load_data(cell,eSOH_DIR,oCV_DIR)\n",
    "    Ns = np.insert(N[1:]-1,0,0)\n",
    "    eps_n_data,eps_p_data,c_rate_c,c_rate_d,dis_set,Temp,SOC_0 = init_exp(cell_no,dfe,spm,parameter_values)\n",
    "    irrev_exp = pd.read_csv(res_DIR + \"irrev_exp_cell\"+cell_no+\".csv\")\n",
    "    N_irrev_exp = np.append(N_irrev_exp,irrev_exp[\"N\"].to_numpy())\n",
    "    irrev_exp_data = np.append(irrev_exp_data,irrev_exp[\"irrev_exp\"].to_numpy())\n",
    "    e_sei = np.append(e_sei,irrev_exp[\"e_sei\"].to_numpy())\n",
    "    e_li = np.append(e_li,irrev_exp[\"e_li\"].to_numpy())\n",
    "    e_in_n = np.append(e_in_n, irrev_exp[\"e_in_n\"].to_numpy())\n",
    "    e_in_p = np.append(e_in_p, irrev_exp[\"e_in_p\"].to_numpy())\n",
    "    e_sn = np.append(e_sei,irrev_exp[\"e_sn\"].to_numpy())\n",
    "    e_sp = np.append(e_li,irrev_exp[\"e_sp\"].to_numpy())\n",
    "    del_sei = np.append(del_sei,irrev_exp[\"del_sei\"].to_numpy())\n",
    "    del_li = np.append(del_li,irrev_exp[\"del_li\"].to_numpy())\n",
    "    del_in_n = np.append(del_in_n, irrev_exp[\"del_in_n\"].to_numpy())\n",
    "    del_in_p = np.append(del_in_p, irrev_exp[\"del_in_p\"].to_numpy())"
   ]
  },
  {
   "cell_type": "code",
   "execution_count": 21,
   "metadata": {},
   "outputs": [
    {
     "data": {
      "text/plain": [
       "array([0.00000000e+00, 1.57170763e-08, 5.00266368e-08, 7.96595864e-08,\n",
       "       1.11184283e-07, 1.40490923e-07, 1.67720348e-07, 1.92997181e-07,\n",
       "       2.16432051e-07, 2.38123245e-07, 0.00000000e+00, 8.33397984e-09,\n",
       "       1.62989574e-08, 2.37044827e-08, 3.05795603e-08, 3.69447577e-08,\n",
       "       4.28259420e-08, 4.82402135e-08])"
      ]
     },
     "execution_count": 21,
     "metadata": {},
     "output_type": "execute_result"
    }
   ],
   "source": [
    "del_sei"
   ]
  },
  {
   "cell_type": "code",
   "execution_count": 22,
   "metadata": {},
   "outputs": [
    {
     "data": {
      "text/plain": [
       "array([0.00000000e+00, 8.57380206e-10, 2.82085702e-09, 4.63514537e-09,\n",
       "       6.70834084e-09, 8.79022985e-09, 1.08837862e-08, 1.29929528e-08,\n",
       "       1.51220924e-08, 1.72760920e-08, 0.00000000e+00, 1.65183680e-08,\n",
       "       3.35256522e-08, 5.06093736e-08, 6.78017560e-08, 8.51065305e-08,\n",
       "       1.02560525e-07, 1.20174316e-07])"
      ]
     },
     "execution_count": 22,
     "metadata": {},
     "output_type": "execute_result"
    }
   ],
   "source": [
    "del_li"
   ]
  },
  {
   "cell_type": "code",
   "execution_count": null,
   "metadata": {},
   "outputs": [],
   "source": [
    "b1 =0 # 0.55\n",
    "b2 = 0\n",
    "b3 = 0.59#0.57\n",
    "b4 = 0\n",
    "irrev_exp_sim = kb*1e6*(ln*(b1*e_sei+b2*e_li+b3*e_in_n)+lp*b4*e_in_p)\n",
    "fig,ax= plt.subplots(1,1,figsize=(5,4))\n",
    "ax.plot(N_irrev_exp,irrev_exp_data,'ko-')\n",
    "ax.plot(N_irrev_exp,irrev_exp_sim,'ro-')\n",
    "ax.set_xlabel(\"Cycle Number\")\n",
    "ax.set_ylabel(r\"Expansion [$\\mu$m]\")\n",
    "ax.set_title(\"Irreversible Expansion \"+c_rate_c+\" Cycling Aging\")\n",
    "ax.set_title(\"Irreversible Expansion Mixed\"+\" Cycling Aging\")\n",
    "ax.set_title(\"Irreversible Expansion \"+c_rate_c+\" 50% DOD Cycling Aging\")\n",
    "# ax.set_title(\"Irreversible Expansion Mixed Crate\"+\" 50% DOD Cycling Aging\")\n",
    "ax.legend([\"Data\",\"Sim\"])\n",
    "rmse  = pybamm.rmse(irrev_exp_data,irrev_exp_sim)\n",
    "ax.text(0.7,0.1,f'RMSE: {rmse:0.1f}'+r'$\\mu$m',transform=ax.transAxes) \n",
    "# fig.savefig(fig_DIR +'irrev_exp_cell_'+cell_no+'.png')"
   ]
  },
  {
   "cell_type": "code",
   "execution_count": null,
   "metadata": {},
   "outputs": [],
   "source": [
    "fig,ax = plt.subplots(1,1,figsize=(5,4))\n",
    "ax.plot(N_irrev_exp,e_sei,'mx')\n",
    "ax.plot(N_irrev_exp,e_li,'bx')\n",
    "ax.plot(N_irrev_exp,e_in_n,'rx')\n",
    "ax.plot(N_irrev_exp,e_in_p,'gx')\n",
    "ax.legend([\"SEI\",\"Li Plating\",\"Inactive: Neg\",\"Inactive: Pos\"])"
   ]
  },
  {
   "cell_type": "code",
   "execution_count": null,
   "metadata": {},
   "outputs": [],
   "source": [
    "sdfds"
   ]
  },
  {
   "cell_type": "code",
   "execution_count": 23,
   "metadata": {},
   "outputs": [],
   "source": [
    "cell = 13\n",
    "cell_no,dfe,dfe_0,dfo_0,N,N_0 = load_data(cell,eSOH_DIR,oCV_DIR)\n",
    "Ns = np.insert(N[1:]-1,0,0)\n",
    "eps_n_data,eps_p_data,c_rate_c,c_rate_d,dis_set,Temp,SOC_0 = init_exp(cell_no,dfe,spm,parameter_values)\n",
    "irrev_exp = pd.read_csv(res_DIR + \"irrev_exp_cell\"+cell_no+\".csv\")\n",
    "dfe_13= dfe\n",
    "N_irrev_exp_13 = irrev_exp[\"N\"]\n",
    "irrev_exp_data_13 = irrev_exp[\"irrev_exp\"]\n",
    "e_sei_13 = irrev_exp[\"e_sei\"]\n",
    "e_li_13 = irrev_exp[\"e_li\"]\n",
    "e_in_n_13 = irrev_exp[\"e_in_n\"]\n",
    "e_in_p_13 = irrev_exp[\"e_in_p\"]\n",
    "e_sn_13 = irrev_exp[\"e_sn\"]\n",
    "e_sp_13 = irrev_exp[\"e_sp\"]\n",
    "del_sei_13 = irrev_exp[\"del_sei\"]\n",
    "del_li_13 = irrev_exp[\"del_li\"]\n",
    "del_in_n_13 = irrev_exp[\"del_in_n\"]\n",
    "del_in_p_13 = irrev_exp[\"del_in_p\"]\n",
    "\n",
    "cell = 1\n",
    "cell_no,dfe,dfe_0,dfo_0,N,N_0 = load_data(cell,eSOH_DIR,oCV_DIR)\n",
    "Ns = np.insert(N[1:]-1,0,0)\n",
    "eps_n_data,eps_p_data,c_rate_c,c_rate_d,dis_set,Temp,SOC_0 = init_exp(cell_no,dfe,spm,parameter_values)\n",
    "irrev_exp = pd.read_csv(res_DIR + \"irrev_exp_cell\"+cell_no+\".csv\")\n",
    "dfe_1= dfe\n",
    "N_irrev_exp_1 = irrev_exp[\"N\"]\n",
    "irrev_exp_data_1 = irrev_exp[\"irrev_exp\"]\n",
    "e_sei_1 = irrev_exp[\"e_sei\"]\n",
    "e_li_1 = irrev_exp[\"e_li\"]\n",
    "e_in_n_1 = irrev_exp[\"e_in_n\"]\n",
    "e_in_p_1 = irrev_exp[\"e_in_p\"]\n",
    "e_sn_1 = irrev_exp[\"e_sn\"]\n",
    "e_sp_1 = irrev_exp[\"e_sp\"]\n",
    "del_sei_1 = irrev_exp[\"del_sei\"]\n",
    "del_li_1 = irrev_exp[\"del_li\"]\n",
    "del_in_n_1 = irrev_exp[\"del_in_n\"]\n",
    "del_in_p_1 = irrev_exp[\"del_in_p\"]\n",
    "\n",
    "cell = 4\n",
    "cell_no,dfe,dfe_0,dfo_0,N,N_0 = load_data(cell,eSOH_DIR,oCV_DIR)\n",
    "Ns = np.insert(N[1:]-1,0,0)\n",
    "eps_n_data,eps_p_data,c_rate_c,c_rate_d,dis_set,Temp,SOC_0 = init_exp(cell_no,dfe,spm,parameter_values)\n",
    "irrev_exp = pd.read_csv(res_DIR + \"irrev_exp_cell\"+cell_no+\".csv\")\n",
    "dfe_4= dfe\n",
    "N_irrev_exp_4 = irrev_exp[\"N\"]\n",
    "irrev_exp_data_4 = irrev_exp[\"irrev_exp\"]\n",
    "e_sei_4 = irrev_exp[\"e_sei\"]\n",
    "e_li_4 = irrev_exp[\"e_li\"]\n",
    "e_in_n_4 = irrev_exp[\"e_in_n\"]\n",
    "e_in_p_4 = irrev_exp[\"e_in_p\"]\n",
    "e_sn_4 = irrev_exp[\"e_sn\"]\n",
    "e_sp_4 = irrev_exp[\"e_sp\"]\n",
    "del_sei_4 = irrev_exp[\"del_sei\"]\n",
    "del_li_4 = irrev_exp[\"del_li\"]\n",
    "del_in_n_4 = irrev_exp[\"del_in_n\"]\n",
    "del_in_p_4 = irrev_exp[\"del_in_p\"]\n",
    "\n",
    "cell = 7\n",
    "cell_no,dfe,dfe_0,dfo_0,N,N_0 = load_data(cell,eSOH_DIR,oCV_DIR)\n",
    "Ns = np.insert(N[1:]-1,0,0)\n",
    "eps_n_data,eps_p_data,c_rate_c,c_rate_d,dis_set,Temp,SOC_0 = init_exp(cell_no,dfe,spm,parameter_values)\n",
    "dfe_7= dfe\n",
    "irrev_exp = pd.read_csv(res_DIR + \"irrev_exp_cell\"+cell_no+\".csv\")\n",
    "N_irrev_exp_7 = irrev_exp[\"N\"]\n",
    "irrev_exp_data_7 = irrev_exp[\"irrev_exp\"]\n",
    "e_sei_7 = irrev_exp[\"e_sei\"]\n",
    "e_li_7 = irrev_exp[\"e_li\"]\n",
    "e_in_n_7 = irrev_exp[\"e_in_n\"]\n",
    "e_in_p_7 = irrev_exp[\"e_in_p\"]\n",
    "e_sn_7 = irrev_exp[\"e_sn\"]\n",
    "e_sp_7 = irrev_exp[\"e_sp\"]\n",
    "del_sei_7 = irrev_exp[\"del_sei\"]\n",
    "del_li_7 = irrev_exp[\"del_li\"]\n",
    "del_in_n_7 = irrev_exp[\"del_in_n\"]\n",
    "del_in_p_7 = irrev_exp[\"del_in_p\"]\n",
    "\n",
    "cell = 10\n",
    "cell_no,dfe,dfe_0,dfo_0,N,N_0 = load_data(cell,eSOH_DIR,oCV_DIR)\n",
    "Ns = np.insert(N[1:]-1,0,0)\n",
    "eps_n_data,eps_p_data,c_rate_c,c_rate_d,dis_set,Temp,SOC_0 = init_exp(cell_no,dfe,spm,parameter_values)\n",
    "dfe_10= dfe\n",
    "irrev_exp = pd.read_csv(res_DIR + \"irrev_exp_cell\"+cell_no+\".csv\")\n",
    "N_irrev_exp_10 = irrev_exp[\"N\"]\n",
    "irrev_exp_data_10 = irrev_exp[\"irrev_exp\"]\n",
    "e_sei_10 = irrev_exp[\"e_sei\"]\n",
    "e_li_10 = irrev_exp[\"e_li\"]\n",
    "e_in_n_10 = irrev_exp[\"e_in_n\"]\n",
    "e_in_p_10 = irrev_exp[\"e_in_p\"]\n",
    "e_sn_10 = irrev_exp[\"e_sn\"]\n",
    "e_sp_10 = irrev_exp[\"e_sp\"]\n",
    "del_sei_10 = irrev_exp[\"del_sei\"]\n",
    "del_li_10 = irrev_exp[\"del_li\"]\n",
    "del_in_n_10 = irrev_exp[\"del_in_n\"]\n",
    "del_in_p_10 = irrev_exp[\"del_in_p\"]\n",
    "\n",
    "cell = 16\n",
    "cell_no,dfe,dfe_0,dfo_0,N,N_0 = load_data(cell,eSOH_DIR,oCV_DIR)\n",
    "Ns = np.insert(N[1:]-1,0,0)\n",
    "eps_n_data,eps_p_data,c_rate_c,c_rate_d,dis_set,Temp,SOC_0 = init_exp(cell_no,dfe,spm,parameter_values)\n",
    "dfe_16= dfe\n",
    "irrev_exp = pd.read_csv(res_DIR + \"irrev_exp_cell\"+cell_no+\".csv\")\n",
    "N_irrev_exp_16 = irrev_exp[\"N\"]\n",
    "irrev_exp_data_16 = irrev_exp[\"irrev_exp\"]\n",
    "e_sei_16 = irrev_exp[\"e_sei\"]\n",
    "e_li_16 = irrev_exp[\"e_li\"]\n",
    "e_in_n_16 = irrev_exp[\"e_in_n\"]\n",
    "e_in_p_16 = irrev_exp[\"e_in_p\"]\n",
    "e_sn_16 = irrev_exp[\"e_sn\"]\n",
    "e_sp_16 = irrev_exp[\"e_sp\"]\n",
    "del_sei_16 = irrev_exp[\"del_sei\"]\n",
    "del_li_16 = irrev_exp[\"del_li\"]\n",
    "del_in_n_16 = irrev_exp[\"del_in_n\"]\n",
    "del_in_p_16 = irrev_exp[\"del_in_p\"]\n",
    "\n",
    "cell = 19\n",
    "cell_no,dfe,dfe_0,dfo_0,N,N_0 = load_data(cell,eSOH_DIR,oCV_DIR)\n",
    "Ns = np.insert(N[1:]-1,0,0)\n",
    "eps_n_data,eps_p_data,c_rate_c,c_rate_d,dis_set,Temp,SOC_0 = init_exp(cell_no,dfe,spm,parameter_values)\n",
    "dfe_19= dfe\n",
    "irrev_exp = pd.read_csv(res_DIR + \"irrev_exp_cell\"+cell_no+\".csv\")\n",
    "N_irrev_exp_19 = irrev_exp[\"N\"]\n",
    "irrev_exp_data_19 = irrev_exp[\"irrev_exp\"]\n",
    "e_sei_19 = irrev_exp[\"e_sei\"]\n",
    "e_li_19 = irrev_exp[\"e_li\"]\n",
    "e_in_n_19 = irrev_exp[\"e_in_n\"]\n",
    "e_in_p_19 = irrev_exp[\"e_in_p\"]\n",
    "e_sn_19 = irrev_exp[\"e_sn\"]\n",
    "e_sp_19 = irrev_exp[\"e_sp\"]\n",
    "del_sei_19 = irrev_exp[\"del_sei\"]\n",
    "del_li_19 = irrev_exp[\"del_li\"]\n",
    "del_in_n_19 = irrev_exp[\"del_in_n\"]\n",
    "del_in_p_19 = irrev_exp[\"del_in_p\"]"
   ]
  },
  {
   "cell_type": "code",
   "execution_count": 24,
   "metadata": {},
   "outputs": [],
   "source": [
    "cells = [1,4]\n",
    "N_irrev_exp=[]\n",
    "irrev_exp_data=[]\n",
    "e_sei=[]; e_li=[]; e_in_n=[]; e_in_p=[]\n",
    "del_sei=[]; del_li=[]; del_in_n=[]; del_in_p=[]\n",
    "for cell in cells:\n",
    "    cell_no,dfe,dfe_0,dfo_0,N,N_0 = load_data(cell,eSOH_DIR,oCV_DIR)\n",
    "    Ns = np.insert(N[1:]-1,0,0)\n",
    "    eps_n_data,eps_p_data,c_rate_c,c_rate_d,dis_set,Temp,SOC_0 = init_exp(cell_no,dfe,spm,parameter_values)\n",
    "    irrev_exp = pd.read_csv(res_DIR + \"irrev_exp_cell\"+cell_no+\".csv\")\n",
    "    N_irrev_exp = np.append(N_irrev_exp,irrev_exp[\"N\"].to_numpy())\n",
    "    irrev_exp_data = np.append(irrev_exp_data,irrev_exp[\"irrev_exp\"].to_numpy())\n",
    "    e_sei = np.append(e_sei,irrev_exp[\"e_sei\"].to_numpy())\n",
    "    e_li = np.append(e_li,irrev_exp[\"e_li\"].to_numpy())\n",
    "    e_in_n = np.append(e_in_n, irrev_exp[\"e_in_n\"].to_numpy())\n",
    "    e_in_p = np.append(e_in_p, irrev_exp[\"e_in_p\"].to_numpy())\n",
    "    e_sn = np.append(e_sei,irrev_exp[\"e_sn\"].to_numpy())\n",
    "    e_sp = np.append(e_li,irrev_exp[\"e_sp\"].to_numpy())\n",
    "    del_sei = np.append(del_sei,irrev_exp[\"del_sei\"].to_numpy())\n",
    "    del_li = np.append(del_li,irrev_exp[\"del_li\"].to_numpy())\n",
    "    del_in_n = np.append(del_in_n, irrev_exp[\"del_in_n\"].to_numpy())\n",
    "    del_in_p = np.append(del_in_p, irrev_exp[\"del_in_p\"].to_numpy())"
   ]
  },
  {
   "cell_type": "code",
   "execution_count": null,
   "metadata": {},
   "outputs": [],
   "source": [
    "del_sei"
   ]
  },
  {
   "cell_type": "code",
   "execution_count": null,
   "metadata": {},
   "outputs": [],
   "source": [
    "del_li"
   ]
  },
  {
   "attachments": {},
   "cell_type": "markdown",
   "metadata": {},
   "source": [
    "## Curve Fitting"
   ]
  },
  {
   "cell_type": "code",
   "execution_count": null,
   "metadata": {},
   "outputs": [],
   "source": [
    "def fitfunc(X, b1, b2, b3, b4):\n",
    "  e_sei,e_li,e_in_n,e_in_p=X\n",
    "  out = kb*1e6*(ln*(b1*e_sei+b2*e_li+b3*e_in_n)+lp*b4*e_in_p)\n",
    "  return out"
   ]
  },
  {
   "cell_type": "code",
   "execution_count": null,
   "metadata": {},
   "outputs": [],
   "source": [
    "ig = (1,1,0.5,0.5)\n",
    "lb = 0 \n",
    "lb = [-100,-100,-100,-100] \n",
    "ub = [100,100,100,100]\n",
    "popt1, pcov1 = curve_fit(fitfunc, (e_sei,e_li,e_in_n,e_in_p), irrev_exp_data,p0=ig,bounds=(lb,ub))\n",
    "b1_fit = round(popt1[0],2)\n",
    "b2_fit = round(popt1[1],2)\n",
    "b3_fit = round(popt1[2],2)\n",
    "b4_fit = round(popt1[3],2)\n",
    "print(f\"b1 fit:{b1_fit}, b2 fit:{b2_fit}, b3 fit:{b3_fit}, b4 fit:{b4_fit}\")"
   ]
  },
  {
   "cell_type": "code",
   "execution_count": null,
   "metadata": {},
   "outputs": [],
   "source": [
    "def fitfunc2(X, b1, b2, b3, b4):\n",
    "  del_sei,del_li,del_in_n,del_in_p=X\n",
    "  out = 1e6*(b1*del_sei+b2*del_li+b3*del_in_n+b4*del_in_p)\n",
    "  return out"
   ]
  },
  {
   "cell_type": "code",
   "execution_count": 25,
   "metadata": {},
   "outputs": [],
   "source": [
    "def fitfunc3(X, b1, b2, b3, b4):\n",
    "  del_sei,del_li,del_in_n,del_in_p=X\n",
    "  out = 1e6*(b1*del_sei+b2*del_li+b3*del_in_n)\n",
    "  out = 1e6*(b1*del_sei+b2*del_li)\n",
    "  return out"
   ]
  },
  {
   "cell_type": "code",
   "execution_count": 26,
   "metadata": {},
   "outputs": [
    {
     "name": "stdout",
     "output_type": "stream",
     "text": [
      "b1 fit:751.92, b2 fit:1429.31, b3 fit:100.0, b4 fit:100.0\n"
     ]
    }
   ],
   "source": [
    "ig = (100,100,100,100)\n",
    "lb = 0\n",
    "# lb = [-100,-100,-100,-100] \n",
    "# ub = [100,100,100,100]\n",
    "ub = 1e5\n",
    "popt1, pcov1 = curve_fit(fitfunc3, (del_sei,del_li,del_in_n,del_in_p), irrev_exp_data,p0=ig,bounds=(lb,ub))\n",
    "b1_fit = round(popt1[0],2)\n",
    "b2_fit = round(popt1[1],2)\n",
    "b3_fit = round(popt1[2],2)\n",
    "b4_fit = round(popt1[3],2)\n",
    "print(f\"b1 fit:{b1_fit}, b2 fit:{b2_fit}, b3 fit:{b3_fit}, b4 fit:{b4_fit}\")"
   ]
  },
  {
   "attachments": {},
   "cell_type": "markdown",
   "metadata": {},
   "source": [
    "## Global Optimization"
   ]
  },
  {
   "cell_type": "code",
   "execution_count": null,
   "metadata": {},
   "outputs": [],
   "source": [
    "from scipy.optimize import rosen, differential_evolution, Bounds"
   ]
  },
  {
   "cell_type": "code",
   "execution_count": null,
   "metadata": {},
   "outputs": [],
   "source": [
    "def fitfunc_global(x):\n",
    "  # out = kb*1e6*(ln*(x[0]*e_sei+x[1]*e_li+x[2]*e_in_n)+lp*x[3]*e_in_p)\n",
    "  model = np.concatenate([\n",
    "         [kb*1e6*(ln*(x[0]*e_seit+x[1]*e_lit+x[2]*e_in_nt)+lp*x[3]*e_in_pt)]\n",
    "        for e_seit,e_lit,e_in_nt,e_in_pt in zip(e_sei,e_li,e_in_n,e_in_p)\n",
    "    ]\n",
    "  )\n",
    "  error = irrev_exp_data-model\n",
    "  out = np.linalg.norm(error)\n",
    "  return out"
   ]
  },
  {
   "cell_type": "code",
   "execution_count": null,
   "metadata": {},
   "outputs": [],
   "source": [
    "# bounds = Bounds([-200., -200., -200., -200.], [10., 10., 10., 10.])\n",
    "bounds = Bounds([-1000., -1000., -1000., -1000.], [1000., 1000., 1000., 1000.])\n",
    "result = differential_evolution(fitfunc_global, bounds,seed= 312312312)\n",
    "res = result.x\n",
    "print(f\"b1 fit:{round(res[0],2)}, b2 fit:{round(res[1],2)}, b3 fit:{round(res[2],2)}, b4 fit:{round(res[3],2)}\")"
   ]
  },
  {
   "cell_type": "code",
   "execution_count": null,
   "metadata": {},
   "outputs": [],
   "source": [
    "def fitfunc_global2(x):\n",
    "  # out = kb*1e6*(ln*(x[0]*e_sei+x[1]*e_li+x[2]*e_in_n)+lp*x[3]*e_in_p)\n",
    "  model = np.concatenate([\n",
    "         [1e6*(x[0]*del_seit+x[1]*del_lit+x[2]*del_in_nt+x[3]*del_in_pt)]\n",
    "        for del_seit,del_lit,del_in_nt,del_in_pt in zip(del_sei,del_li,del_in_n,del_in_p)\n",
    "    ]\n",
    "  )\n",
    "  error = irrev_exp_data-model\n",
    "  out = np.linalg.norm(error)\n",
    "  return out"
   ]
  },
  {
   "cell_type": "code",
   "execution_count": null,
   "metadata": {},
   "outputs": [],
   "source": [
    "def fitfunc_global3(x):\n",
    "  # out = kb*1e6*(ln*(x[0]*e_sei+x[1]*e_li+x[2]*e_in_n)+lp*x[3]*e_in_p)\n",
    "  model = np.concatenate([\n",
    "         [1e6*(x[0]*del_seit+x[1]*del_lit+x[2]*del_in_nt)]\n",
    "        for del_seit,del_lit,del_in_nt,del_in_pt in zip(del_sei,del_li,del_in_n,del_in_p)\n",
    "    ]\n",
    "  )\n",
    "  error = irrev_exp_data-model\n",
    "  out = np.linalg.norm(error)\n",
    "  return out"
   ]
  },
  {
   "cell_type": "code",
   "execution_count": null,
   "metadata": {},
   "outputs": [],
   "source": [
    "bounds = Bounds([-20000., -20000., -20000., -20000.], [10000., 10000., 10000., 10000.])\n",
    "bounds = Bounds([0, 0, 0, 0], [10000., 10000., 10000., 10000.])\n",
    "result = differential_evolution(fitfunc_global3, bounds,seed= 312312312)\n",
    "res = result.x\n",
    "print(f\"b1 fit:{round(res[0],2)}, b2 fit:{round(res[1],2)}, b3 fit:{round(res[2],2)}, b4 fit:{round(res[3],2)}\")"
   ]
  },
  {
   "cell_type": "code",
   "execution_count": null,
   "metadata": {},
   "outputs": [],
   "source": [
    "nn = 40\n",
    "b1_grid = np.linspace(0,1,nn)\n",
    "b2_grid = np.linspace(0,1,nn)\n",
    "b3_grid = np.linspace(0,1,nn)\n",
    "b4_grid = np.linspace(0,1,nn)\n",
    "\n",
    "import itertools\n",
    "\n",
    "list = [b1_grid, b2_grid, b3_grid, b4_grid]\n",
    "\n",
    "combination = [p for p in itertools.product(*list)]\n",
    "print(len(combination))\n",
    "\n",
    "ii = 0\n",
    "b1_l = []; b2_l = []; b3_l = []; b4_l = []\n",
    "cost_l = []\n",
    "for idx,(b1_g,b2_g,b3_g,b4_g) in enumerate(combination):\n",
    "    costg = fitfunc_global([b1_g,b2_g,b3_g,b4_g])\n",
    "    costg = round(costg,4)\n",
    "    cost_l.append(costg)\n",
    "    b1_l.append(b1_g)\n",
    "    b2_l.append(b2_g)\n",
    "    b3_l.append(b3_g)\n",
    "    b4_l.append(b4_g)\n",
    "dfg =  pd.DataFrame({\"b1\":b1_l,\"b2\":b2_l,\"b3\":b3_l,\"b4\":b4_l,\"cost\":cost_l})\n",
    "dfs = dfg.sort_values(by=['cost'], ascending=True)\n",
    "dfss = dfs[(dfs.b1>0) & (dfs.b2>0)& (dfs.b3>0) & (dfs.b4>0)]\n",
    "dfss[:20]"
   ]
  },
  {
   "cell_type": "code",
   "execution_count": null,
   "metadata": {},
   "outputs": [],
   "source": [
    "sdasdas"
   ]
  },
  {
   "cell_type": "code",
   "execution_count": 27,
   "metadata": {},
   "outputs": [
    {
     "ename": "NameError",
     "evalue": "name 'fitfunc' is not defined",
     "output_type": "error",
     "traceback": [
      "\u001b[1;31m---------------------------------------------------------------------------\u001b[0m",
      "\u001b[1;31mNameError\u001b[0m                                 Traceback (most recent call last)",
      "\u001b[1;32mc:\\Users\\spannala\\PyBaMM\\gmproj\\cycling_aging\\irreversible_expansion.ipynb Cell 51\u001b[0m in \u001b[0;36m<cell line: 1>\u001b[1;34m()\u001b[0m\n\u001b[1;32m----> <a href='vscode-notebook-cell:/c%3A/Users/spannala/PyBaMM/gmproj/cycling_aging/irreversible_expansion.ipynb#X64sZmlsZQ%3D%3D?line=0'>1</a>\u001b[0m irrev_exp_fit \u001b[39m=\u001b[39m [fitfunc((e_sei[j],e_li[j],e_in_n[j],e_in_p[j]), popt1[\u001b[39m0\u001b[39m], popt1[\u001b[39m1\u001b[39m], popt1[\u001b[39m2\u001b[39m], popt1[\u001b[39m3\u001b[39m]) \u001b[39mfor\u001b[39;00m j \u001b[39min\u001b[39;00m \u001b[39mrange\u001b[39m(\u001b[39mlen\u001b[39m(N_irrev_exp))]\n\u001b[0;32m      <a href='vscode-notebook-cell:/c%3A/Users/spannala/PyBaMM/gmproj/cycling_aging/irreversible_expansion.ipynb#X64sZmlsZQ%3D%3D?line=1'>2</a>\u001b[0m irrev_exp_fit_1 \u001b[39m=\u001b[39m [fitfunc((e_sei_1[j],e_li_1[j],e_in_n_1[j],e_in_p_1[j]), popt1[\u001b[39m0\u001b[39m], popt1[\u001b[39m1\u001b[39m], popt1[\u001b[39m2\u001b[39m], popt1[\u001b[39m3\u001b[39m]) \u001b[39mfor\u001b[39;00m j \u001b[39min\u001b[39;00m \u001b[39mrange\u001b[39m(\u001b[39mlen\u001b[39m(N_irrev_exp_1))]\n\u001b[0;32m      <a href='vscode-notebook-cell:/c%3A/Users/spannala/PyBaMM/gmproj/cycling_aging/irreversible_expansion.ipynb#X64sZmlsZQ%3D%3D?line=2'>3</a>\u001b[0m irrev_exp_fit_4 \u001b[39m=\u001b[39m [fitfunc((e_sei_4[j],e_li_4[j],e_in_n_4[j],e_in_p_4[j]), popt1[\u001b[39m0\u001b[39m], popt1[\u001b[39m1\u001b[39m], popt1[\u001b[39m2\u001b[39m], popt1[\u001b[39m3\u001b[39m]) \u001b[39mfor\u001b[39;00m j \u001b[39min\u001b[39;00m \u001b[39mrange\u001b[39m(\u001b[39mlen\u001b[39m(N_irrev_exp_4))]\n",
      "\u001b[1;32mc:\\Users\\spannala\\PyBaMM\\gmproj\\cycling_aging\\irreversible_expansion.ipynb Cell 51\u001b[0m in \u001b[0;36m<listcomp>\u001b[1;34m(.0)\u001b[0m\n\u001b[1;32m----> <a href='vscode-notebook-cell:/c%3A/Users/spannala/PyBaMM/gmproj/cycling_aging/irreversible_expansion.ipynb#X64sZmlsZQ%3D%3D?line=0'>1</a>\u001b[0m irrev_exp_fit \u001b[39m=\u001b[39m [fitfunc((e_sei[j],e_li[j],e_in_n[j],e_in_p[j]), popt1[\u001b[39m0\u001b[39m], popt1[\u001b[39m1\u001b[39m], popt1[\u001b[39m2\u001b[39m], popt1[\u001b[39m3\u001b[39m]) \u001b[39mfor\u001b[39;00m j \u001b[39min\u001b[39;00m \u001b[39mrange\u001b[39m(\u001b[39mlen\u001b[39m(N_irrev_exp))]\n\u001b[0;32m      <a href='vscode-notebook-cell:/c%3A/Users/spannala/PyBaMM/gmproj/cycling_aging/irreversible_expansion.ipynb#X64sZmlsZQ%3D%3D?line=1'>2</a>\u001b[0m irrev_exp_fit_1 \u001b[39m=\u001b[39m [fitfunc((e_sei_1[j],e_li_1[j],e_in_n_1[j],e_in_p_1[j]), popt1[\u001b[39m0\u001b[39m], popt1[\u001b[39m1\u001b[39m], popt1[\u001b[39m2\u001b[39m], popt1[\u001b[39m3\u001b[39m]) \u001b[39mfor\u001b[39;00m j \u001b[39min\u001b[39;00m \u001b[39mrange\u001b[39m(\u001b[39mlen\u001b[39m(N_irrev_exp_1))]\n\u001b[0;32m      <a href='vscode-notebook-cell:/c%3A/Users/spannala/PyBaMM/gmproj/cycling_aging/irreversible_expansion.ipynb#X64sZmlsZQ%3D%3D?line=2'>3</a>\u001b[0m irrev_exp_fit_4 \u001b[39m=\u001b[39m [fitfunc((e_sei_4[j],e_li_4[j],e_in_n_4[j],e_in_p_4[j]), popt1[\u001b[39m0\u001b[39m], popt1[\u001b[39m1\u001b[39m], popt1[\u001b[39m2\u001b[39m], popt1[\u001b[39m3\u001b[39m]) \u001b[39mfor\u001b[39;00m j \u001b[39min\u001b[39;00m \u001b[39mrange\u001b[39m(\u001b[39mlen\u001b[39m(N_irrev_exp_4))]\n",
      "\u001b[1;31mNameError\u001b[0m: name 'fitfunc' is not defined"
     ]
    }
   ],
   "source": [
    "irrev_exp_fit = [fitfunc((e_sei[j],e_li[j],e_in_n[j],e_in_p[j]), popt1[0], popt1[1], popt1[2], popt1[3]) for j in range(len(N_irrev_exp))]\n",
    "irrev_exp_fit_1 = [fitfunc((e_sei_1[j],e_li_1[j],e_in_n_1[j],e_in_p_1[j]), popt1[0], popt1[1], popt1[2], popt1[3]) for j in range(len(N_irrev_exp_1))]\n",
    "irrev_exp_fit_4 = [fitfunc((e_sei_4[j],e_li_4[j],e_in_n_4[j],e_in_p_4[j]), popt1[0], popt1[1], popt1[2], popt1[3]) for j in range(len(N_irrev_exp_4))]\n",
    "irrev_exp_fit_13 = [fitfunc((e_sei_13[j],e_li_13[j],e_in_n_13[j],e_in_p_13[j]), popt1[0], popt1[1], popt1[2], popt1[3]) for j in range(len(N_irrev_exp_13))]"
   ]
  },
  {
   "cell_type": "code",
   "execution_count": 28,
   "metadata": {},
   "outputs": [],
   "source": [
    "irrev_exp_fit_1 = [fitfunc3((del_sei_1[j],del_li_1[j],del_in_n_1[j],del_in_p_1[j]), popt1[0], popt1[1], popt1[2], popt1[3]) for j in range(len(N_irrev_exp_1))]\n",
    "irrev_exp_fit_4 = [fitfunc3((del_sei_4[j],del_li_4[j],del_in_n_4[j],del_in_p_4[j]), popt1[0], popt1[1], popt1[2], popt1[3]) for j in range(len(N_irrev_exp_4))]\n",
    "irrev_exp_fit_13 = [fitfunc3((del_sei_13[j],del_li_13[j],del_in_n_13[j],del_in_p_13[j]), popt1[0], popt1[1], popt1[2], popt1[3]) for j in range(len(N_irrev_exp_13))]\n",
    "\n",
    "irrev_exp_fit_7 = [fitfunc3((del_sei_7[j],del_li_7[j],del_in_n_7[j],del_in_p_7[j]), popt1[0], popt1[1], popt1[2], popt1[3]) for j in range(len(N_irrev_exp_7))]\n",
    "\n",
    "irrev_exp_fit_10 = [fitfunc3((del_sei_10[j],del_li_10[j],del_in_n_10[j],del_in_p_10[j]), popt1[0], popt1[1], popt1[2], popt1[3]) for j in range(len(N_irrev_exp_10))]\n",
    "\n",
    "irrev_exp_fit_16 = [fitfunc3((del_sei_16[j],del_li_16[j],del_in_n_16[j],del_in_p_16[j]), popt1[0], popt1[1], popt1[2], popt1[3]) for j in range(len(N_irrev_exp_16))]\n",
    "\n",
    "irrev_exp_fit_19 = [fitfunc3((del_sei_19[j],del_li_19[j],del_in_n_19[j],del_in_p_19[j]), popt1[0], popt1[1], popt1[2], popt1[3]) for j in range(len(N_irrev_exp_19))]"
   ]
  },
  {
   "cell_type": "code",
   "execution_count": null,
   "metadata": {},
   "outputs": [],
   "source": [
    "popt1[1]"
   ]
  },
  {
   "cell_type": "code",
   "execution_count": null,
   "metadata": {},
   "outputs": [],
   "source": [
    "del_sei_1*e_sn_1[0]/e_sn_1"
   ]
  },
  {
   "cell_type": "code",
   "execution_count": null,
   "metadata": {},
   "outputs": [],
   "source": [
    "fig,ax= plt.subplots(1,1,figsize=(5,4))\n",
    "ax1 = ax\n",
    "ax1.plot(N_irrev_exp_1,del_sei_1*1e9,'o-')\n",
    "ax1.plot(N_irrev_exp_4,del_sei_4*1e9,'o-')\n",
    "ax1.plot(N_irrev_exp_13,del_sei_13*1e9,'o-')\n",
    "# ax1.plot(N_irrev_exp_1,del_sei_1*e_sn_1[0]/e_sn_1,'o')\n",
    "# ax1.plot(N_irrev_exp_4,del_sei_4*e_sn_4[0]/e_sn_4,'o')\n",
    "# ax1.plot(N_irrev_exp_13,del_sei_13*e_sn_13[0]/e_sn_13,'o')\n",
    "ax1.set_xlabel(\"Cycle Number\")\n",
    "ax1.set_ylabel(r\"Thickness of layer [nm]\")\n",
    "ax1.legend(['C/5','1.5C','C/5 50% DOD'])\n",
    "ax1.set_title(r\"$\\delta_{SEI}$\")\n",
    "plt.show()\n",
    "fig.savefig(fig_DIR +'delta_sei.png')"
   ]
  },
  {
   "cell_type": "code",
   "execution_count": null,
   "metadata": {},
   "outputs": [],
   "source": [
    "fig,ax= plt.subplots(1,1,figsize=(5,4))\n",
    "ax1 = ax\n",
    "ax1.plot(N_irrev_exp_1,del_li_1*1e9,'o-')\n",
    "ax1.plot(N_irrev_exp_4,del_li_4*1e9,'o-')\n",
    "ax1.plot(N_irrev_exp_13,del_li_13*1e9,'o-')\n",
    "# ax1.plot(N_irrev_exp_1,del_li_1*e_sn_1[0]/e_sn_1,'o')\n",
    "# ax1.plot(N_irrev_exp_4,del_li_4*e_sn_4[0]/e_sn_4,'o')\n",
    "# ax1.plot(N_irrev_exp_13,del_li_13*e_sn_13[0]/e_sn_13,'o')\n",
    "ax1.set_xlabel(\"Cycle Number\")\n",
    "ax1.set_ylabel(r\"Thickness of layer [nm]\")\n",
    "ax1.legend(['C/5','1.5C','C/5 50% DOD'])\n",
    "ax1.set_title(r\"$\\delta_{Li}$\")\n",
    "plt.show()\n",
    "fig.savefig(fig_DIR +'delta_li_plating.png')"
   ]
  },
  {
   "cell_type": "code",
   "execution_count": 29,
   "metadata": {},
   "outputs": [
    {
     "data": {
      "application/vnd.jupyter.widget-view+json": {
       "model_id": "11d3f1a6e15b403c8e4ee0729414774a",
       "version_major": 2,
       "version_minor": 0
      },
      "image/png": "[encoded data removed]",
      "text/html": [
       "\n",
       "            <div style=\"display: inline-block;\">\n",
       "                <div class=\"jupyter-widgets widget-label\" style=\"text-align: center;\">\n",
       "                    Figure\n",
       "                </div>\n",
       "                <img src='data:image/png;base64,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' width=600.0/>\n",
       "            </div>\n",
       "        "
      ],
      "text/plain": [
       "Canvas(toolbar=Toolbar(toolitems=[('Home', 'Reset original view', 'home', 'home'), ('Back', 'Back to previous …"
      ]
     },
     "metadata": {},
     "output_type": "display_data"
    }
   ],
   "source": [
    "fig, ax1 = plt.subplots(1,1,figsize=(6,4))\n",
    "i = 0\n",
    "markers = [\"o\",\"v\",\"^\",\"1\",\"*\",\"d\",\"p\"]\n",
    "colors = [\"tab:blue\",\"tab:orange\",\"tab:green\",\"tab:red\",\"tab:purple\",\"tab:brown\",\"tab:cyan\"]\n",
    "ax1.plot(dfe_1[\"Ah_th\"],irrev_exp_data_1,linestyle=\"None\",marker=\"o\",label='_nolegend_',color=colors[i])\n",
    "ax1.plot(dfe_1[\"Ah_th\"],irrev_exp_fit_1,color=colors[i])\n",
    "i+=1\n",
    "ax1.plot(dfe_4[\"Ah_th\"],irrev_exp_data_4,linestyle=\"None\",marker=\"o\",label='_nolegend_',color=colors[i])\n",
    "ax1.plot(dfe_4[\"Ah_th\"],irrev_exp_fit_4,color=colors[i])\n",
    "i+=1\n",
    "ax1.plot(dfe_7[\"Ah_th\"],irrev_exp_data_7,linestyle=\"None\",marker=\"o\",label='_nolegend_',color=colors[i])\n",
    "ax1.plot(dfe_7[\"Ah_th\"],irrev_exp_fit_7,color=colors[i])\n",
    "i+=1\n",
    "ax1.plot(dfe_10[\"Ah_th\"],irrev_exp_data_10,linestyle=\"None\",marker=\"o\",label='_nolegend_',color=colors[i])\n",
    "ax1.plot(dfe_10[\"Ah_th\"],irrev_exp_fit_10,color=colors[i])\n",
    "ax1.set_xlabel('Ah Throughput')\n",
    "ax1.set_ylabel(r\"Expansion [$\\mu$m]\")\n",
    "ax1.set_title(r'Irreversible Expansion')\n",
    "# ax.legend(['C/5','1.5C','2C','Mixed Crate','C/5 50% DOD','Mixed 50% DOD','Drive Cycle'])\n",
    "fig.legend(['C/5','1.5C','2C','Mixed Crate'], \n",
    "            loc=\"lower center\",bbox_to_anchor=[0.5,-0.10], ncol=4, fontsize=11)\n",
    "fig.tight_layout()\n",
    "# plt.savefig(fig_DIR +'cycling_aging_room_expansion_s1_1.png')"
   ]
  },
  {
   "cell_type": "code",
   "execution_count": null,
   "metadata": {},
   "outputs": [],
   "source": [
    "fig, ax1 = plt.subplots(1,1,figsize=(6,4))\n",
    "i = 0\n",
    "markers = [\"o\",\"v\",\"^\",\"1\",\"*\",\"d\",\"p\"]\n",
    "colors = [\"tab:blue\",\"tab:orange\",\"tab:green\",\"tab:red\",\"tab:purple\",\"tab:brown\",\"tab:cyan\"]\n",
    "ax1.plot(dfe_1[\"Ah_th\"],irrev_exp_data_1,linestyle=\"None\",marker=\"o\",label='_nolegend_',color=colors[i])\n",
    "ax1.plot(dfe_1[\"Ah_th\"],irrev_exp_fit_1,color=colors[i])\n",
    "i+=1\n",
    "ax1.plot(dfe_13[\"Ah_th\"],irrev_exp_data_13,linestyle=\"None\",marker=\"o\",label='_nolegend_',color=colors[i])\n",
    "ax1.plot(dfe_13[\"Ah_th\"],irrev_exp_fit_13,color=colors[i])\n",
    "i+=1\n",
    "ax1.plot(dfe_10[\"Ah_th\"],irrev_exp_data_10,linestyle=\"None\",marker=\"o\",label='_nolegend_',color=colors[i])\n",
    "ax1.plot(dfe_10[\"Ah_th\"],irrev_exp_fit_10,color=colors[i])\n",
    "i+=1\n",
    "ax1.plot(dfe_16[\"Ah_th\"],irrev_exp_data_16,linestyle=\"None\",marker=\"o\",label='_nolegend_',color=colors[i])\n",
    "ax1.plot(dfe_16[\"Ah_th\"],irrev_exp_fit_16,color=colors[i])\n",
    "\n",
    "ax1.set_xlabel('Ah Throughput')\n",
    "ax1.set_ylabel(r\"Expansion [$\\mu$m]\")\n",
    "ax1.set_title(r'Irreversible Expansion')\n",
    "# ax.legend(['C/5','1.5C','2C','Mixed Crate','C/5 50% DOD','Mixed 50% DOD','Drive Cycle'])\n",
    "fig.legend(['C/5','C/5 50% DOD','Mixed Crate','Mixed 50% DOD'], \n",
    "            loc=\"lower center\",bbox_to_anchor=[0.5,-0.10], ncol=4, fontsize=11)\n",
    "plt.savefig(fig_DIR +'cycling_aging_room_expansion_s1_2.png')"
   ]
  },
  {
   "cell_type": "code",
   "execution_count": null,
   "metadata": {},
   "outputs": [],
   "source": [
    "cells = [1,4,7,10,13,16,19]\n",
    "fig, ax1 = plt.subplots(1,1,figsize=(6,4))\n",
    "i = 0\n",
    "markers = [\"o\",\"v\",\"^\",\"1\",\"*\",\"d\",\"p\"]\n",
    "colors = [\"tab:blue\",\"tab:orange\",\"tab:green\",\"tab:red\",\"tab:purple\",\"tab:brown\",\"tab:cyan\"]\n",
    "ax1.plot(dfe_13[\"Ah_th\"],irrev_exp_data_13,linestyle=\"None\",marker=\"o\",label='_nolegend_',color=colors[i])\n",
    "ax1.plot(dfe_13[\"Ah_th\"],irrev_exp_fit_13,color=colors[i])\n",
    "i+=1\n",
    "ax1.plot(dfe_16[\"Ah_th\"],irrev_exp_data_16,linestyle=\"None\",marker=\"o\",label='_nolegend_',color=colors[i])\n",
    "ax1.plot(dfe_16[\"Ah_th\"],irrev_exp_fit_16,color=colors[i])\n",
    "i+=1\n",
    "ax1.plot(dfe_19[\"Ah_th\"],irrev_exp_data_19,linestyle=\"None\",marker=\"o\",label='_nolegend_',color=colors[i])\n",
    "ax1.plot(dfe_19[\"Ah_th\"],irrev_exp_fit_19,color=colors[i])\n",
    "ax1.set_xlabel('Ah Throughput')\n",
    "ax1.set_ylabel(r\"Expansion [$\\mu$m]\")\n",
    "ax1.set_title(r'Irreversible Expansion')\n",
    "# ax.legend(['C/5','1.5C','2C','Mixed Crate','C/5 50% DOD','Mixed 50% DOD','Drive Cycle'])\n",
    "fig.legend(['C/5 50% DOD','Mixed 50% DOD','Drive Cycle'], \n",
    "            loc=\"lower center\",bbox_to_anchor=[0.5,-0.10], ncol=3, fontsize=11)\n",
    "plt.savefig(fig_DIR +'cycling_aging_room_expansion_s2_2.png')"
   ]
  },
  {
   "cell_type": "code",
   "execution_count": null,
   "metadata": {},
   "outputs": [],
   "source": [
    "cells = [1,4,7,10,13,16,19]\n",
    "fig, ax1 = plt.subplots(1,1,figsize=(6,4))\n",
    "i = 0\n",
    "markers = [\"o\",\"v\",\"^\",\"1\",\"*\",\"d\",\"p\"]\n",
    "colors = [\"tab:blue\",\"tab:orange\",\"tab:green\",\"tab:red\",\"tab:purple\",\"tab:brown\",\"tab:cyan\"]\n",
    "ax1.plot(dfe_1[\"Ah_th\"],irrev_exp_data_1,linestyle=\"None\",marker=markers[i],label='_nolegend_',color=colors[i])\n",
    "ax1.plot(dfe_1[\"Ah_th\"],irrev_exp_fit_1,color=colors[i])\n",
    "i+=1\n",
    "ax1.plot(dfe_4[\"Ah_th\"],irrev_exp_data_4,linestyle=\"None\",marker=markers[i],label='_nolegend_',color=colors[i])\n",
    "ax1.plot(dfe_4[\"Ah_th\"],irrev_exp_fit_4,color=colors[i])\n",
    "i+=1\n",
    "ax1.plot(dfe_7[\"Ah_th\"],irrev_exp_data_7,linestyle=\"None\",marker=markers[i],label='_nolegend_',color=colors[i])\n",
    "ax1.plot(dfe_7[\"Ah_th\"],irrev_exp_fit_7,color=colors[i])\n",
    "i+=1\n",
    "ax1.plot(dfe_10[\"Ah_th\"],irrev_exp_data_10,linestyle=\"None\",marker=markers[i],label='_nolegend_',color=colors[i])\n",
    "ax1.plot(dfe_10[\"Ah_th\"],irrev_exp_fit_10,color=colors[i])\n",
    "i+=1\n",
    "ax1.plot(dfe_13[\"Ah_th\"],irrev_exp_data_13,linestyle=\"None\",marker=markers[i],label='_nolegend_',color=colors[i])\n",
    "ax1.plot(dfe_13[\"Ah_th\"],irrev_exp_fit_13,color=colors[i])\n",
    "i+=1\n",
    "ax1.plot(dfe_16[\"Ah_th\"],irrev_exp_data_16,linestyle=\"None\",marker=markers[i],label='_nolegend_',color=colors[i])\n",
    "ax1.plot(dfe_16[\"Ah_th\"],irrev_exp_fit_16,color=colors[i])\n",
    "i+=1\n",
    "ax1.plot(dfe_19[\"Ah_th\"],irrev_exp_data_19,linestyle=\"None\",marker=markers[i],label='_nolegend_',color=colors[i])\n",
    "ax1.plot(dfe_19[\"Ah_th\"],irrev_exp_fit_19,color=colors[i])\n",
    "ax1.set_xlabel('Ah Throughput')\n",
    "ax1.set_ylabel(r\"Expansion [$\\mu$m]\")\n",
    "ax1.set_title(r'Irreversible Expansion')\n",
    "# ax.legend(['C/5','1.5C','2C','Mixed Crate','C/5 50% DOD','Mixed 50% DOD','Drive Cycle'])\n",
    "fig.legend(['C/5','1.5C','2C','Mixed Crate','C/5 50% DOD','Mixed 50% DOD','Drive Cycle'], \n",
    "            loc=\"lower center\",bbox_to_anchor=[0.5,-0.13], ncol=4, fontsize=11)\n",
    "plt.savefig(fig_DIR +'cycling_aging_room_expansion.png')"
   ]
  },
  {
   "cell_type": "code",
   "execution_count": null,
   "metadata": {},
   "outputs": [],
   "source": [
    "cells = [1,4,7,10,13,16,19]\n",
    "fig, ax1 = plt.subplots(1,1,figsize=(6,4))\n",
    "i = 0\n",
    "markers = [\"o\",\"v\",\"^\",\"1\",\"*\",\"d\",\"p\"]\n",
    "colors = [\"tab:blue\",\"tab:orange\",\"tab:green\",\"tab:red\",\"tab:purple\",\"tab:brown\",\"tab:cyan\"]\n",
    "ax1.plot(N_irrev_exp_1,irrev_exp_data_1,'k',linestyle=\"None\",marker=markers[i],label='_nolegend_')\n",
    "ax1.plot(N_irrev_exp_1,irrev_exp_fit_1,color=colors[i])\n",
    "i+=1\n",
    "ax1.plot(N_irrev_exp_4,irrev_exp_data_4,'k',linestyle=\"None\",marker=markers[i],label='_nolegend_')\n",
    "ax1.plot(N_irrev_exp_4,irrev_exp_fit_4,color=colors[i])\n",
    "i+=1\n",
    "ax1.plot(N_irrev_exp_7,irrev_exp_data_7,'k',linestyle=\"None\",marker=markers[i],label='_nolegend_')\n",
    "ax1.plot(N_irrev_exp_7,irrev_exp_fit_7,color=colors[i])\n",
    "i+=1\n",
    "ax1.plot(N_irrev_exp_10,irrev_exp_data_10,'k',linestyle=\"None\",marker=markers[i],label='_nolegend_')\n",
    "ax1.plot(N_irrev_exp_10,irrev_exp_fit_10,color=colors[i])\n",
    "i+=1\n",
    "ax1.plot(N_irrev_exp_13,irrev_exp_data_13,'k',linestyle=\"None\",marker=markers[i],label='_nolegend_')\n",
    "ax1.plot(N_irrev_exp_13,irrev_exp_fit_13,color=colors[i])\n",
    "i+=1\n",
    "ax1.plot(N_irrev_exp_16,irrev_exp_data_16,'k',linestyle=\"None\",marker=markers[i],label='_nolegend_')\n",
    "ax1.plot(N_irrev_exp_16,irrev_exp_fit_16,color=colors[i])\n",
    "i+=1\n",
    "ax1.plot(N_irrev_exp_19,irrev_exp_data_19,'k',linestyle=\"None\",marker=markers[i],label='_nolegend_')\n",
    "ax1.plot(N_irrev_exp_19,irrev_exp_fit_19,color=colors[i])\n",
    "ax1.set_xlabel('Cycle Number')\n",
    "ax1.set_ylabel(r\"Expansion [$\\mu$m]\")\n",
    "ax1.set_title(r'Irreversible Expansion')\n",
    "# ax.legend(['C/5','1.5C','2C','Mixed Crate','C/5 50% DOD','Mixed 50% DOD','Drive Cycle'])\n",
    "fig.legend(['C/5','1.5C','2C','Mixed Crate','C/5 50% DOD','Mixed 50% DOD','Drive Cycle'], \n",
    "            loc=\"lower center\",bbox_to_anchor=[0.5,-0.13], ncol=4, fontsize=11)\n",
    "plt.savefig(fig_DIR +'cycling_aging_room_expansion_N.png')"
   ]
  },
  {
   "cell_type": "code",
   "execution_count": null,
   "metadata": {},
   "outputs": [],
   "source": [
    "fig,ax= plt.subplots(1,3,figsize=(10,3))\n",
    "ax1 = ax.flat[0]\n",
    "ax1.plot(N_irrev_exp_1,irrev_exp_data_1,'kx')\n",
    "ax1.plot(N_irrev_exp_1,irrev_exp_fit_1,'ro')\n",
    "ax1.set_xlabel(\"Cycle Number\")\n",
    "ax1.set_ylabel(r\"Expansion [$\\mu$m]\")\n",
    "ax1.set_title(\"Irreversible Expansion C/5 Cycling Aging\")\n",
    "ax1.legend([\"Data\",\"Sim\"])\n",
    "rmse_1  = pybamm.rmse(irrev_exp_data_1,irrev_exp_fit_1)\n",
    "ax1.text(0.6,0.1,f'RMSE: {rmse_1:0.1f}'+r'$\\mu$m',transform=ax1.transAxes)\n",
    "ax2 = ax.flat[1]\n",
    "ax2.plot(N_irrev_exp_4,irrev_exp_data_4,'kx')\n",
    "ax2.plot(N_irrev_exp_4,irrev_exp_fit_4,'ro')\n",
    "ax2.set_xlabel(\"Cycle Number\")\n",
    "ax2.set_ylabel(r\"Expansion [$\\mu$m]\")\n",
    "ax2.set_title(\"Irreversible Expansion 1.5C Cycling Aging\")\n",
    "ax2.legend([\"Data\",\"Sim\"])\n",
    "rmse_4  = pybamm.rmse(irrev_exp_data_4,irrev_exp_fit_4)\n",
    "ax2.text(0.6,0.1,f'RMSE: {rmse_4:0.1f}'+r'$\\mu$m',transform=ax2.transAxes)\n",
    "ax3 = ax.flat[2]\n",
    "ax3.plot(N_irrev_exp_13,irrev_exp_data_13,'kx')\n",
    "ax3.plot(N_irrev_exp_13,irrev_exp_fit_13,'ro')\n",
    "ax3.set_xlabel(\"Cycle Number\")\n",
    "ax3.set_ylabel(r\"Expansion [$\\mu$m]\")\n",
    "ax3.set_title(\"Irreversible Expansion C/5 50% DOD Aging\")\n",
    "ax3.legend([\"Data\",\"Sim\"])\n",
    "rmse_13  = pybamm.rmse(irrev_exp_data_13,irrev_exp_fit_13)\n",
    "ax3.text(0.6,0.1,f'RMSE: {rmse_13:0.1f}'+r'$\\mu$m',transform=ax3.transAxes)\n",
    "fig.tight_layout()\n",
    "plt.show()\n",
    "fig.savefig(fig_DIR +'irrev_exp_summary.png')"
   ]
  },
  {
   "cell_type": "code",
   "execution_count": null,
   "metadata": {},
   "outputs": [],
   "source": [
    "fig,ax= plt.subplots(1,2,figsize=(7,3))\n",
    "ax1 = ax.flat[0]\n",
    "ax1.plot(N_irrev_exp_7,irrev_exp_data_7,'kx')\n",
    "ax1.plot(N_irrev_exp_7,irrev_exp_fit_7,'ro')\n",
    "ax1.set_xlabel(\"Cycle Number\")\n",
    "ax1.set_ylabel(r\"Expansion [$\\mu$m]\")\n",
    "ax1.set_title(\"Irreversible Expansion 2C Cycling Aging\")\n",
    "ax1.legend([\"Data\",\"Sim\"])\n",
    "rmse_7  = pybamm.rmse(irrev_exp_data_7,irrev_exp_fit_7)\n",
    "ax1.text(0.6,0.1,f'RMSE: {rmse_7:0.1f}'+r'$\\mu$m',transform=ax1.transAxes)\n",
    "ax2 = ax.flat[1]\n",
    "ax2.plot(N_irrev_exp_10,irrev_exp_data_10,'kx')\n",
    "ax2.plot(N_irrev_exp_10,irrev_exp_fit_10,'ro')\n",
    "ax2.set_xlabel(\"Cycle Number\")\n",
    "ax2.set_ylabel(r\"Expansion [$\\mu$m]\")\n",
    "ax2.set_title(\"Irreversible Expansion Mixed Crate Cycling Aging\")\n",
    "ax2.legend([\"Data\",\"Sim\"])\n",
    "rmse_10  = pybamm.rmse(irrev_exp_data_10,irrev_exp_fit_10)\n",
    "ax2.text(0.6,0.1,f'RMSE: {rmse_10:0.1f}'+r'$\\mu$m',transform=ax2.transAxes)\n",
    "fig.tight_layout()\n",
    "plt.show()\n",
    "fig.savefig(fig_DIR +'irrev_exp_summary_2.png')"
   ]
  }
 ],
 "metadata": {
  "kernelspec": {
   "display_name": "Python 3",
   "language": "python",
   "name": "python3"
  },
  "language_info": {
   "codemirror_mode": {
    "name": "ipython",
    "version": 3
   },
   "file_extension": ".py",
   "mimetype": "text/x-python",
   "name": "python",
   "nbconvert_exporter": "python",
   "pygments_lexer": "ipython3",
   "version": "3.9.7"
  },
  "orig_nbformat": 4,
  "vscode": {
   "interpreter": {
    "hash": "fe6e1a396f7757d05554318f98bb2d7e7d3785df9fdbcce0707f057fad4349a9"
   }
  }
 },
 "nbformat": 4,
 "nbformat_minor": 2
}
