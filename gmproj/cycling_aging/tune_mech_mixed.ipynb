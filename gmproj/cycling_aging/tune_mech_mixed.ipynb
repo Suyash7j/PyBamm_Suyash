{
 "cells": [
  {
   "cell_type": "code",
   "execution_count": 1,
   "metadata": {},
   "outputs": [],
   "source": [
    "import pybamm\n",
    "import matplotlib.pyplot as plt\n",
    "import numpy as np\n",
    "import pandas as pd\n",
    "import math\n",
    "import dfols\n",
    "import signal\n",
    "from scipy.integrate import solve_ivp\n",
    "from scipy.fft import fft, fftfreq, fftshift\n",
    "from scipy.signal import savgol_filter\n",
    "from scipy.signal import find_peaks\n",
    "from scipy import interpolate\n",
    "from stopit import threading_timeoutable as timeoutable\n",
    "import os, sys\n",
    "sys.path.append(os.path.dirname(os.path.dirname(os.path.abspath(\"__file__\"))))\n",
    "from stopit import threading_timeoutable as timeoutable\n",
    "from batfuns import *\n",
    "plt.rcParams = set_rc_params(plt.rcParams)\n",
    "\n",
    "eSOH_DIR = \"../data/esoh_R/\"\n",
    "oCV_DIR = \"../data/ocv/\"\n",
    "fig_DIR = \"../figures/figures_fit/\"\n",
    "res_DIR = \"../data/results_fit/\"\n",
    "cyc_DIR = \"../data/cycling/\"\n",
    "# %matplotlib widget"
   ]
  },
  {
   "cell_type": "code",
   "execution_count": 2,
   "metadata": {},
   "outputs": [],
   "source": [
    "parameter_values = get_parameter_values()"
   ]
  },
  {
   "cell_type": "code",
   "execution_count": 3,
   "metadata": {},
   "outputs": [],
   "source": [
    "# parameter_values.search(\"Li\")"
   ]
  },
  {
   "cell_type": "code",
   "execution_count": 4,
   "metadata": {},
   "outputs": [],
   "source": [
    "spm = pybamm.lithium_ion.SPM(\n",
    "    {\n",
    "        \"SEI\": \"ec reaction limited\",\n",
    "        # \"loss of active material\": (\"stress-driven\",\"none\"),\n",
    "        \"loss of active material\": \"stress-driven\",\n",
    "        \"lithium plating\": \"irreversible\",\n",
    "        \"stress-induced diffusion\": \"false\",\n",
    "    }\n",
    ")\n",
    "# spm.print_parameter_info()\n",
    "param=spm.param"
   ]
  },
  {
   "cell_type": "code",
   "execution_count": 5,
   "metadata": {},
   "outputs": [],
   "source": [
    "cell = 1"
   ]
  },
  {
   "cell_type": "markdown",
   "metadata": {},
   "source": [
    "## Load eSOH Data and OCV Data"
   ]
  },
  {
   "cell_type": "code",
   "execution_count": 6,
   "metadata": {},
   "outputs": [],
   "source": [
    "cell_no,dfe,dfe_0,dfo_0,N,N_0 = load_data(cell,eSOH_DIR,oCV_DIR)\n",
    "eps_n_data,eps_p_data,c_rate_c,c_rate_d,dis_set,Temp,SOC_0 = init_exp(cell_no,dfe,spm,parameter_values)"
   ]
  },
  {
   "cell_type": "code",
   "execution_count": 7,
   "metadata": {},
   "outputs": [],
   "source": [
    "pybamm.set_logging_level(\"WARNING\")\n",
    "# pybamm.set_logging_level(\"NOTICE\")\n",
    "drive_cycle = pd.read_csv(cyc_DIR+'peyman_drive_cycle_current'+'.csv', comment=\"#\", header=None).to_numpy()\n",
    "experiment = pybamm.Experiment(\n",
    "    [\n",
    "        (\"Discharge at \"+c_rate_d+dis_set,\n",
    "         \"Rest for 5 min\",\n",
    "         \"Charge at \"+c_rate_c+\" until 4.2V\", \n",
    "         \"Hold at 4.2V until C/100\")\n",
    "    ] *dfe.N.iloc[-1],\n",
    "    termination=\"50% capacity\",\n",
    "#     cccv_handling=\"ode\",\n",
    ")"
   ]
  },
  {
   "cell_type": "code",
   "execution_count": 8,
   "metadata": {},
   "outputs": [],
   "source": [
    "parameter_values = get_parameter_values()\n",
    "parameter_values.update(\n",
    "    {\n",
    "        \"Negative electrode active material volume fraction\": eps_n_data,\n",
    "        \"Positive electrode active material volume fraction\": eps_p_data,\n",
    "        \"Initial temperature [K]\": 273.15+Temp,\n",
    "        \"Ambient temperature [K]\": 273.15+Temp,\n",
    "        # \"Positive electrode LAM constant proportional term [s-1]\": 1.27152e-07,\n",
    "        # \"Negative electrode LAM constant proportional term [s-1]\": 1.27272e-06,\n",
    "        # \"Positive electrode LAM constant exponential term\": 1.1992,\n",
    "        # \"Negative electrode LAM constant exponential term\": 1.1992,\n",
    "        \"SEI kinetic rate constant [m.s-1]\":  4.60788219e-16, #1.08494281e-16 , \n",
    "        \"EC diffusivity [m2.s-1]\": 4.56607447e-19,#8.30909086e-19,\n",
    "        \"SEI growth activation energy [J.mol-1]\": 1.87422275e+04,#1.58777981e+04,\n",
    "        # \"Lithium plating kinetic rate constant [m.s-1]\": 0,\n",
    "        \"Initial inner SEI thickness [m]\": 0e-09,\n",
    "        \"Initial outer SEI thickness [m]\": 5e-09,\n",
    "        \"SEI resistivity [Ohm.m]\": 30000.0,\n",
    "        \"Positive electrode LAM constant proportional term [s-1]\": 2.190e-07,\n",
    "        \"Negative electrode LAM constant proportional term [s-1]\": 2.308e-06,\n",
    "        \"Positive electrode LAM constant proportional term 2 [s-1]\": 0,\n",
    "        \"Negative electrode LAM constant proportional term 2 [s-1]\": 2.308e-07,\n",
    "        \"Positive electrode LAM constant exponential term\": 1.214,\n",
    "        \"Negative electrode LAM constant exponential term\": 1.214,\n",
    "        \"Lithium plating kinetic rate constant [m.s-1]\": 2.537e-09,\n",
    "        \"Negative electrode partial molar volume [m3.mol-1]\": 4.544e-06,\n",
    "    },\n",
    "    check_already_exists=False,\n",
    ")\n"
   ]
  },
  {
   "cell_type": "code",
   "execution_count": 9,
   "metadata": {},
   "outputs": [
    {
     "ename": "KeyError",
     "evalue": "\"Cannot update parameter 'Negative electrode LAM min stress [Pa]' as it does not have a default value. ('Negative electrode LAM min stress [Pa]' not found. Best matches are ['Negative electrode critical stress [Pa]', 'Negative electrode thickness [m]', 'Positive electrode critical stress [Pa]']). If you are sure you want to update this parameter, use param.update({{name: value}}, check_already_exists=False)\"",
     "output_type": "error",
     "traceback": [
      "\u001b[1;31m---------------------------------------------------------------------------\u001b[0m",
      "\u001b[1;31mKeyError\u001b[0m                                  Traceback (most recent call last)",
      "File \u001b[1;32mc:\\users\\spannala\\pybamm\\pybamm\\util.py:59\u001b[0m, in \u001b[0;36mFuzzyDict.__getitem__\u001b[1;34m(self, key)\u001b[0m\n\u001b[0;32m     58\u001b[0m \u001b[39mtry\u001b[39;00m:\n\u001b[1;32m---> 59\u001b[0m     \u001b[39mreturn\u001b[39;00m \u001b[39msuper\u001b[39;49m()\u001b[39m.\u001b[39;49m\u001b[39m__getitem__\u001b[39;49m(key)\n\u001b[0;32m     60\u001b[0m \u001b[39mexcept\u001b[39;00m \u001b[39mKeyError\u001b[39;00m:\n",
      "\u001b[1;31mKeyError\u001b[0m: 'Negative electrode LAM min stress [Pa]'",
      "\nDuring handling of the above exception, another exception occurred:\n",
      "\u001b[1;31mKeyError\u001b[0m                                  Traceback (most recent call last)",
      "File \u001b[1;32mc:\\users\\spannala\\pybamm\\pybamm\\parameters\\parameter_values.py:286\u001b[0m, in \u001b[0;36mParameterValues.update\u001b[1;34m(self, values, check_conflict, check_already_exists, path)\u001b[0m\n\u001b[0;32m    285\u001b[0m \u001b[39mtry\u001b[39;00m:\n\u001b[1;32m--> 286\u001b[0m     \u001b[39mself\u001b[39;49m\u001b[39m.\u001b[39;49m_dict_items[name]\n\u001b[0;32m    287\u001b[0m \u001b[39mexcept\u001b[39;00m \u001b[39mKeyError\u001b[39;00m \u001b[39mas\u001b[39;00m err:\n",
      "File \u001b[1;32mc:\\users\\spannala\\pybamm\\pybamm\\util.py:73\u001b[0m, in \u001b[0;36mFuzzyDict.__getitem__\u001b[1;34m(self, key)\u001b[0m\n\u001b[0;32m     72\u001b[0m best_matches \u001b[39m=\u001b[39m \u001b[39mself\u001b[39m\u001b[39m.\u001b[39mget_best_matches(key)\n\u001b[1;32m---> 73\u001b[0m \u001b[39mraise\u001b[39;00m \u001b[39mKeyError\u001b[39;00m(\u001b[39mf\u001b[39m\u001b[39m\"\u001b[39m\u001b[39m'\u001b[39m\u001b[39m{\u001b[39;00mkey\u001b[39m}\u001b[39;00m\u001b[39m'\u001b[39m\u001b[39m not found. Best matches are \u001b[39m\u001b[39m{\u001b[39;00mbest_matches\u001b[39m}\u001b[39;00m\u001b[39m\"\u001b[39m)\n",
      "\u001b[1;31mKeyError\u001b[0m: \"'Negative electrode LAM min stress [Pa]' not found. Best matches are ['Negative electrode critical stress [Pa]', 'Negative electrode thickness [m]', 'Positive electrode critical stress [Pa]']\"",
      "\nDuring handling of the above exception, another exception occurred:\n",
      "\u001b[1;31mKeyError\u001b[0m                                  Traceback (most recent call last)",
      "\u001b[1;32mc:\\Users\\spannala\\PyBaMM\\gmproj\\cycling_aging\\tune_mech_mixed.ipynb Cell 10\u001b[0m in \u001b[0;36m<cell line: 1>\u001b[1;34m()\u001b[0m\n\u001b[1;32m----> <a href='vscode-notebook-cell:/c%3A/Users/spannala/PyBaMM/gmproj/cycling_aging/tune_mech_mixed.ipynb#X12sZmlsZQ%3D%3D?line=0'>1</a>\u001b[0m all_sumvars_dict \u001b[39m=\u001b[39m cycle_adaptive_simulation(spm, parameter_values, experiment,SOC_0, save_at_cycles\u001b[39m=\u001b[39;49m\u001b[39m1\u001b[39;49m)\n",
      "File \u001b[1;32mc:\\Users\\spannala\\PyBaMM\\gmproj\\batfuns.py:143\u001b[0m, in \u001b[0;36mcycle_adaptive_simulation\u001b[1;34m(model, parameter_values, experiment, SOC_0, save_at_cycles, drive_cycle)\u001b[0m\n\u001b[0;32m    124\u001b[0m esoh_sol \u001b[39m=\u001b[39m esoh_sim\u001b[39m.\u001b[39msolve(\n\u001b[0;32m    125\u001b[0m     [\u001b[39m0\u001b[39m],\n\u001b[0;32m    126\u001b[0m     inputs\u001b[39m=\u001b[39m{\u001b[39m\"\u001b[39m\u001b[39mV_min\u001b[39m\u001b[39m\"\u001b[39m: Vmin, \u001b[39m\"\u001b[39m\u001b[39mV_max\u001b[39m\u001b[39m\"\u001b[39m: Vmax, \u001b[39m\"\u001b[39m\u001b[39mC_n\u001b[39m\u001b[39m\"\u001b[39m: Cn, \u001b[39m\"\u001b[39m\u001b[39mC_p\u001b[39m\u001b[39m\"\u001b[39m: Cp, \u001b[39m\"\u001b[39m\u001b[39mn_Li\u001b[39m\u001b[39m\"\u001b[39m: n_Li_init},\n\u001b[0;32m    127\u001b[0m     solver\u001b[39m=\u001b[39mpybamm\u001b[39m.\u001b[39mAlgebraicSolver(),\n\u001b[0;32m    128\u001b[0m )\n\u001b[0;32m    130\u001b[0m parameter_values\u001b[39m.\u001b[39mupdate(\n\u001b[0;32m    131\u001b[0m     {\n\u001b[0;32m    132\u001b[0m         \u001b[39m\"\u001b[39m\u001b[39mInitial concentration in negative electrode [mol.m-3]\u001b[39m\u001b[39m\"\u001b[39m: esoh_sol[\n\u001b[1;32m   (...)\u001b[0m\n\u001b[0;32m    141\u001b[0m     }\n\u001b[0;32m    142\u001b[0m )\n\u001b[1;32m--> 143\u001b[0m parameter_values\u001b[39m.\u001b[39;49mupdate(\n\u001b[0;32m    144\u001b[0m     {\n\u001b[0;32m    145\u001b[0m         \u001b[39m\"\u001b[39;49m\u001b[39mNegative electrode LAM min stress [Pa]\u001b[39;49m\u001b[39m\"\u001b[39;49m: \u001b[39m0\u001b[39;49m,\n\u001b[0;32m    146\u001b[0m         \u001b[39m\"\u001b[39;49m\u001b[39mNegative electrode LAM max stress [Pa]\u001b[39;49m\u001b[39m\"\u001b[39;49m: \u001b[39m0\u001b[39;49m,\n\u001b[0;32m    147\u001b[0m         \u001b[39m\"\u001b[39;49m\u001b[39mPositive electrode LAM min stress [Pa]\u001b[39;49m\u001b[39m\"\u001b[39;49m: \u001b[39m0\u001b[39;49m,\n\u001b[0;32m    148\u001b[0m         \u001b[39m\"\u001b[39;49m\u001b[39mPositive electrode LAM max stress [Pa]\u001b[39;49m\u001b[39m\"\u001b[39;49m: \u001b[39m0\u001b[39;49m,\n\u001b[0;32m    149\u001b[0m     },\n\u001b[0;32m    150\u001b[0m )\n\u001b[0;32m    152\u001b[0m sim_ode \u001b[39m=\u001b[39m pybamm\u001b[39m.\u001b[39mSimulation(\n\u001b[0;32m    153\u001b[0m     model, experiment\u001b[39m=\u001b[39mexperiment_one_cycle, parameter_values\u001b[39m=\u001b[39mparameter_values,\n\u001b[0;32m    154\u001b[0m     solver\u001b[39m=\u001b[39mpybamm\u001b[39m.\u001b[39mCasadiSolver(\u001b[39m\"\u001b[39m\u001b[39msafe\u001b[39m\u001b[39m\"\u001b[39m)\n\u001b[0;32m    155\u001b[0m )\n\u001b[0;32m    156\u001b[0m sol0 \u001b[39m=\u001b[39m sim_ode\u001b[39m.\u001b[39msolve(initial_soc\u001b[39m=\u001b[39mSOC_0)\n",
      "File \u001b[1;32mc:\\users\\spannala\\pybamm\\pybamm\\parameters\\parameter_values.py:288\u001b[0m, in \u001b[0;36mParameterValues.update\u001b[1;34m(self, values, check_conflict, check_already_exists, path)\u001b[0m\n\u001b[0;32m    286\u001b[0m         \u001b[39mself\u001b[39m\u001b[39m.\u001b[39m_dict_items[name]\n\u001b[0;32m    287\u001b[0m     \u001b[39mexcept\u001b[39;00m \u001b[39mKeyError\u001b[39;00m \u001b[39mas\u001b[39;00m err:\n\u001b[1;32m--> 288\u001b[0m         \u001b[39mraise\u001b[39;00m \u001b[39mKeyError\u001b[39;00m(\n\u001b[0;32m    289\u001b[0m             \u001b[39m\"\u001b[39m\u001b[39mCannot update parameter \u001b[39m\u001b[39m'\u001b[39m\u001b[39m{}\u001b[39;00m\u001b[39m'\u001b[39m\u001b[39m as it does not \u001b[39m\u001b[39m\"\u001b[39m\u001b[39m.\u001b[39mformat(name)\n\u001b[0;32m    290\u001b[0m             \u001b[39m+\u001b[39m \u001b[39m\"\u001b[39m\u001b[39mhave a default value. (\u001b[39m\u001b[39m{}\u001b[39;00m\u001b[39m). If you are \u001b[39m\u001b[39m\"\u001b[39m\u001b[39m.\u001b[39mformat(err\u001b[39m.\u001b[39margs[\u001b[39m0\u001b[39m])\n\u001b[0;32m    291\u001b[0m             \u001b[39m+\u001b[39m \u001b[39m\"\u001b[39m\u001b[39msure you want to update this parameter, use \u001b[39m\u001b[39m\"\u001b[39m\n\u001b[0;32m    292\u001b[0m             \u001b[39m+\u001b[39m \u001b[39m\"\u001b[39m\u001b[39mparam.update(\u001b[39m\u001b[39m{{\u001b[39m\u001b[39mname: value}}, check_already_exists=False)\u001b[39m\u001b[39m\"\u001b[39m\n\u001b[0;32m    293\u001b[0m         )\n\u001b[0;32m    294\u001b[0m \u001b[39m# if no conflicts, update, loading functions and data if they are specified\u001b[39;00m\n\u001b[0;32m    295\u001b[0m \u001b[39m# Functions are flagged with the string \"[function]\"\u001b[39;00m\n\u001b[0;32m    296\u001b[0m \u001b[39mif\u001b[39;00m \u001b[39misinstance\u001b[39m(value, \u001b[39mstr\u001b[39m):\n",
      "\u001b[1;31mKeyError\u001b[0m: \"Cannot update parameter 'Negative electrode LAM min stress [Pa]' as it does not have a default value. ('Negative electrode LAM min stress [Pa]' not found. Best matches are ['Negative electrode critical stress [Pa]', 'Negative electrode thickness [m]', 'Positive electrode critical stress [Pa]']). If you are sure you want to update this parameter, use param.update({{name: value}}, check_already_exists=False)\""
     ]
    }
   ],
   "source": [
    "all_sumvars_dict = cycle_adaptive_simulation(spm, parameter_values, experiment,SOC_0, save_at_cycles=1)"
   ]
  },
  {
   "cell_type": "code",
   "execution_count": null,
   "metadata": {},
   "outputs": [],
   "source": [
    "fig = plotc(all_sumvars_dict,dfe);\n",
    "# fig.savefig(fig_DIR +'fast_sim_'+cell_no+'_new.png')"
   ]
  },
  {
   "cell_type": "code",
   "execution_count": null,
   "metadata": {},
   "outputs": [],
   "source": [
    "# fgdfdfg"
   ]
  },
  {
   "cell_type": "markdown",
   "metadata": {},
   "source": [
    "# Parameter Fitting"
   ]
  },
  {
   "cell_type": "markdown",
   "metadata": {},
   "source": [
    "## List of Initial Conditions"
   ]
  },
  {
   "cell_type": "code",
   "execution_count": null,
   "metadata": {},
   "outputs": [],
   "source": [
    "ic = 0\n",
    "blam_p = [2.190e-07,1.426e-07]\n",
    "blam_n = [2.308e-06/2,3.832e-06]\n",
    "blam_n2 = [2.308e-07/2,1.462e-06]\n",
    "k_pl = [2.537e-09,2.35e-09]\n",
    " # variables = [\"Capacity [A.h]\", \"Loss of lithium inventory [%]\",\"x_100\",\"y_0\"]\n",
    "    # weights = [1,1/20,5,5]"
   ]
  },
  {
   "cell_type": "code",
   "execution_count": null,
   "metadata": {},
   "outputs": [],
   "source": [
    "def objective(model, data):\n",
    "    return np.array(model.loc[data['N_mod']][\"Capacity [A.h]\"]) - np.array(data[\"Capacity [A.h]\"])\n",
    "\n",
    "def multi_objective(model, data):\n",
    "    variables = [\"C_n\",\"C_p\",\"x_100\",\"y_0\"]\n",
    "    weights = [1,1,5,5]\n",
    "    # variables = [\"Capacity [A.h]\", \"Loss of lithium inventory [%]\"]\n",
    "    # # weights = [1,1/20]\n",
    "    variables = [\"Capacity [A.h]\", \"Loss of lithium inventory [%]\", \"C_n\", \"C_p\"]\n",
    "    weights = [1,1/20,1,1]\n",
    "    return np.concatenate([\n",
    "        (np.array(model.loc[data['N_mod']][var]) - np.array(data[var])) * w\n",
    "        for w,var in zip(weights,variables)\n",
    "    ]\n",
    "    )\n",
    "@timeoutable()\n",
    "def simulate(x,eps_n_data,eps_p_data,SOC_0,Temp,experiment):\n",
    "    # simulate\n",
    "    return cycle_adaptive_simulation(spm, parameter_values, experiment, SOC_0,save_at_cycles=1,drive_cycle=None)\n",
    "def prediction_error(x):\n",
    "    try:\n",
    "        out=[]\n",
    "        for cell in [1,4,10]:\n",
    "            cell_no,dfe,dfe_0,dfo_0,N,N_0 = load_data(cell,eSOH_DIR,oCV_DIR)\n",
    "            eps_n_data,eps_p_data,c_rate_c,c_rate_d,dis_set,Temp,SOC_0 = init_exp(cell_no,dfe,spm,parameter_values)\n",
    "            # print(f\"Cell: {cell_no}\")\n",
    "            if cell == 19:\n",
    "                experiment = pybamm.Experiment(\n",
    "                    [\n",
    "                        (\"Run DriveCycle (A)\",\n",
    "                        \"Rest for 5 min\",\n",
    "                        \"Charge at \"+c_rate_c+\" until 4.2V\", \n",
    "                        \"Hold at 4.2V until C/50\")\n",
    "                    ] *dfe.N.iloc[-1],\n",
    "                    # ] *1,\n",
    "                    drive_cycles={\"DriveCycle\": drive_cycle},\n",
    "                    termination=\"50% capacity\",\n",
    "                #     cccv_handling=\"ode\",\n",
    "                )\n",
    "            else:\n",
    "                experiment = pybamm.Experiment(\n",
    "                    [\n",
    "                        (\"Discharge at \"+c_rate_d+dis_set,\n",
    "                        \"Rest for 5 min\",\n",
    "                        \"Charge at \"+c_rate_c+\" until 4.2V\", \n",
    "                        \"Hold at 4.2V until C/50\")\n",
    "                    ] *dfe.N.iloc[-1],\n",
    "                    termination=\"50% capacity\",\n",
    "                #     cccv_handling=\"ode\",\n",
    "                )\n",
    "            parameter_values.update(\n",
    "                {\n",
    "                    \"Positive electrode LAM constant proportional term [s-1]\": x[0]*blam_p[ic],\n",
    "                    \"Negative electrode LAM constant proportional term [s-1]\": x[1]*blam_n[ic],\n",
    "                    \"Positive electrode LAM constant exponential term\": x[2]*2,\n",
    "                    \"Negative electrode LAM constant exponential term\": x[2]*2,\n",
    "                    \"Lithium plating kinetic rate constant [m.s-1]\": x[3]*k_pl[ic],\n",
    "                    \"Positive electrode LAM constant proportional term 2 [s-1]\": 0,\n",
    "                    \"Negative electrode LAM constant proportional term 2 [s-1]\": x[4]*blam_n2[ic],\n",
    "                    \"Negative electrode active material volume fraction\": eps_n_data,\n",
    "                    \"Positive electrode active material volume fraction\": eps_p_data,\n",
    "                    \"Initial temperature [K]\": 273.15+Temp,\n",
    "                    \"Ambient temperature [K]\": 273.15+Temp,\n",
    "                },\n",
    "                check_already_exists=False,\n",
    "            )\n",
    "            if cell == 10 or cell == 16:\n",
    "               parameter_values.update(\n",
    "                    {\n",
    "                        \"Negative electrode LAM constant proportional term 2 [s-1]\": 7.5*x[4]*blam_n2[ic],\n",
    "\n",
    "                    },\n",
    "                    check_already_exists=False,\n",
    "                ) \n",
    "            # print(f\"Model\")\n",
    "            model = simulate(x,eps_n_data,eps_p_data,SOC_0,Temp,experiment,timeout=30)\n",
    "            # print(f\"Objective\")\n",
    "            out_t =   1/len(dfe)*multi_objective(pd.DataFrame(model), dfe)\n",
    "            # out_t = [np.linalg.norm(out_t)]\n",
    "            # print(out_t)\n",
    "            # out_t[-1] = 5*out_t[-1]\n",
    "            # print(f\"Concat\")\n",
    "            out=np.concatenate([out,out_t])\n",
    "        print(f\"x={x}, norm={np.linalg.norm(out)}\")\n",
    "    # except pybamm.SolverError:\n",
    "    except:\n",
    "        out=[]\n",
    "        for cell in [1,4,10]:\n",
    "            cell_no,dfe,dfe_0,dfo_0,N,N_0 = load_data(cell,eSOH_DIR,oCV_DIR)\n",
    "            # out_t = np.concatenate([np.array(dfe['Cap'])]*2)\n",
    "            out_t = 1/len(dfe)*np.concatenate([np.array(dfe['Cap'])]*4)\n",
    "            out=np.concatenate([out, out_t])\n",
    "        out = 2*np.ones_like(out)\n",
    "        print(f\"Error\")\n",
    "        print(f\"x={x}, norm={np.linalg.norm(out)}\")\n",
    "    return out\n",
    "\n",
    "def train_model():\n",
    "    timer = pybamm.Timer()\n",
    "    x0 = np.array([1.0,1.0,1.214/2,1.0,1.0])\n",
    "    # print(prediction_error(x0))\n",
    "    lower = np.array([1e-2, 1e-2, 0.51, 1e-1, 1e-2])\n",
    "    upper = np.array([1e+2, 1e+2, 1.5, 1e+1, 1e+2])\n",
    "    dfo_opts = {\n",
    "        \"init.random_initial_directions\":True,\n",
    "        \"init.run_in_parallel\": True,\n",
    "    }\n",
    "    soln_dfols = dfols.solve(prediction_error, x0,bounds=(lower, upper), rhoend=1e-2, user_params=dfo_opts)\n",
    "    print(timer.time())\n",
    "    return soln_dfols\n",
    "def sim_train(df):\n",
    "    soln_dfols = train_model()\n",
    "    xsol = soln_dfols.x\n",
    "    # print(xsol[0]*2e-2/3600)\n",
    "    # print(xsol[1]*2e-1/3600)\n",
    "    # print(xsol[2]*1.6e-16)\n",
    "    df['x_0'][0]=round(xsol[0]*blam_p[ic],4)\n",
    "    df['x_1'][0]=round(xsol[1]*blam_n[ic],4)\n",
    "    df['x_2'][0]=round(xsol[2]*2,4)\n",
    "    df['x_3'][0]=round(xsol[3]*k_pl[ic],4)\n",
    "    # df['x_4'][0]=round(xsol[4],4)*alam_p[ic]\n",
    "    df['x_4'][0]=round(xsol[4]*blam_n2[ic],4)\n",
    "    df['obj'][0]=soln_dfols.f\n",
    "    return xsol,df"
   ]
  },
  {
   "cell_type": "code",
   "execution_count": null,
   "metadata": {},
   "outputs": [],
   "source": [
    "df_x = pd.DataFrame(columns=['x_0','x_1','x_2','x_3','x_4','obj'], index=[0])"
   ]
  },
  {
   "cell_type": "code",
   "execution_count": null,
   "metadata": {},
   "outputs": [],
   "source": [
    "x,df_x = sim_train(df_x)"
   ]
  },
  {
   "cell_type": "code",
   "execution_count": null,
   "metadata": {},
   "outputs": [],
   "source": [
    "sim_des=\"plating_mech_1_4_10_conc_dep\"\n",
    "df_x.to_csv(res_DIR + \"cycl_train_\"+sim_des+\".csv\")"
   ]
  },
  {
   "cell_type": "code",
   "execution_count": null,
   "metadata": {},
   "outputs": [],
   "source": [
    "print(f\"{df_x['x_0'][0]},{df_x['x_1'][0]},{df_x['x_2'][0]},{df_x['x_3'][0]},{df_x['x_4'][0]}\")"
   ]
  },
  {
   "cell_type": "code",
   "execution_count": null,
   "metadata": {},
   "outputs": [],
   "source": [
    "4.6*4.544/3.1"
   ]
  },
  {
   "cell_type": "code",
   "execution_count": null,
   "metadata": {},
   "outputs": [],
   "source": [
    "def plotcn(all_sumvars_dict,esoh_data):\n",
    "    esoh_vars = [\"x_100\", \"y_0\", \"C_n_loss\", \"C_p_loss\", \"Capacity [A.h]\", \"Loss of lithium inventory [%]\"]\n",
    "    all_sumvars_dict[\"C_n_loss\"] = (all_sumvars_dict[\"C_n\"][0]-all_sumvars_dict[\"C_n\"])/all_sumvars_dict[\"C_n\"][0]*100\n",
    "    all_sumvars_dict[\"C_p_loss\"] = (all_sumvars_dict[\"C_p\"][0]-all_sumvars_dict[\"C_p\"])/all_sumvars_dict[\"C_p\"][0]*100\n",
    "    esoh_data[\"C_n_loss\"] = (esoh_data[\"C_n\"][0]-esoh_data[\"C_n\"])/esoh_data[\"C_n\"][0]*100\n",
    "    esoh_data[\"C_p_loss\"] = (esoh_data[\"C_p\"][0]-esoh_data[\"C_p\"])/esoh_data[\"C_p\"][0]*100\n",
    "    fig, axes = plt.subplots(3,2,figsize=(7,7))\n",
    "    for k, name in enumerate(esoh_vars):\n",
    "        ax = axes.flat[k]\n",
    "        ax.plot(all_sumvars_dict[\"Cycle number\"],all_sumvars_dict[name],\"ro\")\n",
    "        ax.plot(esoh_data[\"N\"],esoh_data[name],\"kx\")\n",
    "        ax.set_title(split_long_string(name))\n",
    "        # if k ==2 or k==3:\n",
    "        #     ax.set_ylim([3,6.2])\n",
    "        if k>3:\n",
    "            ax.set_xlabel(\"Cycle number\")\n",
    "    fig.legend([\"Sim\"] + [\"Data\"], \n",
    "           loc=\"lower center\",bbox_to_anchor=[0.5,-0.02], ncol=1, fontsize=11)\n",
    "    fig.tight_layout()\n",
    "    return fig"
   ]
  },
  {
   "cell_type": "code",
   "execution_count": null,
   "metadata": {},
   "outputs": [],
   "source": [
    "for cell in [1,4,7,10,13,16]:\n",
    "    cell_no,dfe,dfe_0,dfo_0,N,N_0 = load_data(cell,eSOH_DIR,oCV_DIR)\n",
    "    eps_n_data,eps_p_data,c_rate_c,c_rate_d,dis_set,Temp,SOC_0 = init_exp(cell_no,dfe,spm,parameter_values)\n",
    "    # print(f\"Cell: {cell_no}\")\n",
    "    experiment = pybamm.Experiment(\n",
    "        [\n",
    "            (\"Discharge at \"+c_rate_d+dis_set,\n",
    "            \"Rest for 5 min\",\n",
    "            \"Charge at \"+c_rate_c+\" until 4.2V\", \n",
    "            \"Hold at 4.2V until C/100\")\n",
    "        ] *dfe.N.iloc[-1],\n",
    "        termination=\"50% capacity\",\n",
    "    #     cccv_handling=\"ode\",\n",
    "    )\n",
    "    # print(f\"Model\")\n",
    "    sol_out = simulate(x,eps_n_data,eps_p_data,SOC_0,Temp,experiment,timeout=30)\n",
    "    fig = plotcn(sol_out,dfe);\n",
    "    plt.savefig(fig_DIR +'cycling_aging_cell_'+cell_no+'_'+sim_des+'.png')"
   ]
  },
  {
   "cell_type": "code",
   "execution_count": null,
   "metadata": {},
   "outputs": [],
   "source": [
    "x"
   ]
  }
 ],
 "metadata": {
  "kernelspec": {
   "display_name": "Python 3",
   "language": "python",
   "name": "python3"
  },
  "language_info": {
   "codemirror_mode": {
    "name": "ipython",
    "version": 3
   },
   "file_extension": ".py",
   "mimetype": "text/x-python",
   "name": "python",
   "nbconvert_exporter": "python",
   "pygments_lexer": "ipython3",
   "version": "3.9.7"
  },
  "orig_nbformat": 4,
  "vscode": {
   "interpreter": {
    "hash": "fe6e1a396f7757d05554318f98bb2d7e7d3785df9fdbcce0707f057fad4349a9"
   }
  }
 },
 "nbformat": 4,
 "nbformat_minor": 2
}
