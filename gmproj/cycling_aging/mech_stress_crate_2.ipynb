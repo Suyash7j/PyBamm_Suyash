{
 "cells": [
  {
   "attachments": {},
   "cell_type": "markdown",
   "metadata": {},
   "source": [
    "# Plot Mechanical Stress at several C-rates"
   ]
  },
  {
   "cell_type": "code",
   "execution_count": 1,
   "metadata": {},
   "outputs": [],
   "source": [
    "import pybamm\n",
    "import matplotlib.pyplot as plt\n",
    "import numpy as np\n",
    "import scipy\n",
    "import pandas as pd\n",
    "import math\n",
    "import dfols\n",
    "import signal\n",
    "from scipy.integrate import solve_ivp\n",
    "from scipy.fft import fft, fftfreq, fftshift\n",
    "from scipy.signal import savgol_filter\n",
    "from scipy.signal import find_peaks\n",
    "from scipy import interpolate\n",
    "from stopit import threading_timeoutable as timeoutable\n",
    "import os, sys\n",
    "sys.path.append(os.path.dirname(os.path.dirname(os.path.abspath(\"__file__\"))))\n",
    "from batfuns import *\n",
    "plt.rcParams = set_rc_params(plt.rcParams)\n",
    "\n",
    "eSOH_DIR = \"../data/esoh/\"\n",
    "oCV_DIR = \"../data/ocv/\"\n",
    "cyc_DIR = \"../data/cycling/\"\n",
    "fig_DIR = \"../figures/figures_model/\"\n",
    "res_DIR = \"../data/results_model/\"\n",
    "%matplotlib widget"
   ]
  },
  {
   "cell_type": "code",
   "execution_count": 2,
   "metadata": {},
   "outputs": [],
   "source": [
    "parameter_values = get_parameter_values()"
   ]
  },
  {
   "cell_type": "code",
   "execution_count": 3,
   "metadata": {},
   "outputs": [],
   "source": [
    "spm = pybamm.lithium_ion.SPM(\n",
    "    {\n",
    "        \"SEI\": \"ec reaction limited\",\n",
    "        \"loss of active material\": \"stress-driven\",\n",
    "        \"lithium plating\": \"irreversible\",\n",
    "        \"stress-induced diffusion\": \"false\",\n",
    "    }\n",
    ")\n",
    "# spm.print_parameter_info()\n",
    "param=spm.param"
   ]
  },
  {
   "cell_type": "code",
   "execution_count": 4,
   "metadata": {},
   "outputs": [
    {
     "name": "stdout",
     "output_type": "stream",
     "text": [
      "25\n"
     ]
    }
   ],
   "source": [
    "cell = 4\n",
    "sno = 7\n",
    "cell_no,dfe,dfe_0,dfo_0,N,N_0 = load_data(cell,eSOH_DIR,oCV_DIR)\n",
    "eps_n_data,eps_p_data,c_rate_c,c_rate_d,dis_set,Temp,SOC_0 = init_exp(cell_no,dfe,spm,parameter_values)\n",
    "print(Temp)"
   ]
  },
  {
   "cell_type": "code",
   "execution_count": 5,
   "metadata": {},
   "outputs": [],
   "source": [
    "par_val = {}\n",
    "# Previous i.e. tuning mech sim sep and then Li plating\n",
    "par_val[0]=[1.2715e-07,1.2727e-06,1.1992,1.353e-9,0]\n",
    "# Using only C/5 and 1.5C Cycling aging, cost function with Cn,Cp,x100,y0\n",
    "par_val[1]=[1.4819e-07,1.5114e-06,1.2484,1.4732e-09,0]\n",
    "# Using only C/5 and 1.5C Cycling aging, cost function with Cn,Cp,C,LLI(%)\n",
    "par_val[2]=[1.4493e-07,1.3608e-06,1.199,1.2138e-09,0]\n",
    "# Using C/5, 1.5C and mixed c-rate (Ch:C/5, Dh:1.5C) Cycling aging, cost function with Cn,Cp,x100,y0\n",
    "par_val[3]=[1.043e-07,1.036e-06,1.208,1.6045e-09,0]\n",
    "# Using C/5, 1.5C and mixed c-rate (Ch:C/5, Dh:1.5C) Cycling aging, cost function with Cn,Cp,C,LLI(%)\n",
    "par_val[4]=[8.755e-08,8.572e-07,1.135,1.5788e-09,0]\n",
    "# Using C/5, 1.5C and mixed c-rate (Ch:C/5, Dh:1.5C) Cycling aging, cost function with Cn,Cp,C,LLI(%) another initial condition\n",
    "par_val[5]=[8.7698e-08,8.5848e-07,1.1354,1.5778e-09,0]\n",
    "# New Mech Damage Model\n",
    "par_val[6]=[2.056E-07,2.4664E-06,1.2468,1.0482e-09,0]\n",
    "# New Mech Damage Model with Lithium plating resistane\n",
    "par_val[7]=[2.190e-07,2.308e-06,1.214,2.537e-09,0]\n",
    "# New Assymetric Mech Damage Model\n",
    "par_val[8]=[1.426128e-07,3.8319724e-06,1.215,2.35e-09,1.462e-06]"
   ]
  },
  {
   "cell_type": "code",
   "execution_count": 6,
   "metadata": {},
   "outputs": [],
   "source": [
    "parameter_values = get_parameter_values()\n",
    "parameter_values.update(\n",
    "    {\n",
    "        \"Negative electrode active material volume fraction\": eps_n_data,\n",
    "        \"Positive electrode active material volume fraction\": eps_p_data,\n",
    "        \"Initial temperature [K]\": 273.15+Temp,\n",
    "        \"Ambient temperature [K]\": 273.15+Temp,\n",
    "        \"Positive electrode LAM constant proportional term [s-1]\": par_val[sno][0],\n",
    "        \"Negative electrode LAM constant proportional term [s-1]\": par_val[sno][1],\n",
    "        \"Positive electrode LAM constant exponential term\": par_val[sno][2],\n",
    "        \"Negative electrode LAM constant exponential term\": par_val[sno][2],\n",
    "        \"Positive electrode LAM constant proportional term 2 [s-1]\": 0,\n",
    "        # \"Negative electrode LAM constant proportional term 2 [s-1]\": par_val[sno][4],\n",
    "        \"Negative electrode LAM constant proportional term 2 [s-1]\": par_val[sno][1]/2,\n",
    "        # \"Positive electrode LAM constant exponential term\": 1,\n",
    "        # \"Negative electrode LAM constant exponential term\": 1,\n",
    "        \"Negative electrode critical stress [Pa]\": 60e6,\n",
    "        \"SEI kinetic rate constant [m.s-1]\":  4.60788219e-16, #1.08494281e-16 , \n",
    "        \"EC diffusivity [m2.s-1]\": 4.56607447e-19,#8.30909086e-19,\n",
    "        \"SEI growth activation energy [J.mol-1]\": 1.87422275e+04,#1.58777981e+04,\n",
    "        \"Lithium plating kinetic rate constant [m.s-1]\": par_val[sno][3],\n",
    "        \"Initial inner SEI thickness [m]\": 0e-09,\n",
    "        \"Initial outer SEI thickness [m]\": 5e-09,\n",
    "        \"SEI resistivity [Ohm.m]\": 30000.0,\n",
    "        \"Positive electrode reference exchange-current density activation energy [J.mol-1]\": 0,\n",
    "        \"Positive electrode diffusion coefficient activation energy [J.mol-1]\": 0,\n",
    "        \"Negative electrode reference exchange-current density activation energy [J.mol-1]\": 0,\n",
    "        \"Negative electrode diffusion coefficient activation energy [J.mol-1]\": 0,\n",
    "        \"Negative electrode LAM min stress [Pa]\": 0,\n",
    "        \"Negative electrode LAM max stress [Pa]\": 0,\n",
    "        \"Positive electrode LAM min stress [Pa]\": 0,\n",
    "        \"Positive electrode LAM max stress [Pa]\": 0,\n",
    "    },\n",
    "    check_already_exists=False,\n",
    ")\n"
   ]
  },
  {
   "cell_type": "code",
   "execution_count": 7,
   "metadata": {},
   "outputs": [],
   "source": [
    "# c_rate_d = '2C'\n",
    "# c_rate_c = '1.5C'\n",
    "c_rate_c ='C/5'\n",
    "c_rate_d ='C/5'"
   ]
  },
  {
   "cell_type": "code",
   "execution_count": 8,
   "metadata": {},
   "outputs": [],
   "source": [
    "# pybamm.set_logging_level(\"WARNING\")\n",
    "pybamm.set_logging_level(\"NOTICE\")\n",
    "experiment = pybamm.Experiment(\n",
    "    [\n",
    "        (\n",
    "        #  \"Rest for 10 minutes\", \n",
    "         \"Charge at \"+c_rate_c+\" until 4.2V\", \n",
    "         \"Hold at 4.2V until C/50\",\n",
    "        #  \"Rest for 20 minutes\",\n",
    "         )\n",
    "    ],\n",
    "    termination=\"50% capacity\",\n",
    "    period = \"10 sec\",\n",
    "#     cccv_handling=\"ode\",\n",
    ")\n",
    "\n",
    "experiment = pybamm.Experiment(\n",
    "    [\n",
    "        (\n",
    "         \"Charge at \"+c_rate_c+\" until 4.2V\", \n",
    "         \"Hold at 4.2V until C/50\",\n",
    "         \"Rest for 5 min\",\n",
    "         \"Discharge at \"+c_rate_d+\" until 3V\",\n",
    "        #  \"Discharge at \"+c_rate_d+\" for 150 min\",\n",
    "         )\n",
    "    ],\n",
    "    termination=\"50% capacity\",\n",
    "    period = \"10 sec\",\n",
    "#     cccv_handling=\"ode\",\n",
    ")\n",
    "SOC_0 = 0"
   ]
  },
  {
   "cell_type": "code",
   "execution_count": 9,
   "metadata": {},
   "outputs": [
    {
     "name": "stderr",
     "output_type": "stream",
     "text": [
      "2023-07-10 14:49:31.130 - [NOTICE] callbacks.on_cycle_start(174): Cycle 1/1 (23.123 ms elapsed) --------------------\n",
      "2023-07-10 14:49:31.131 - [NOTICE] callbacks.on_step_start(182): Cycle 1/1, step 1/4: Charge at C/5 until 4.2V\n",
      "2023-07-10 14:49:31.378 - [NOTICE] callbacks.on_step_start(182): Cycle 1/1, step 2/4: Hold at 4.2V until C/50\n",
      "2023-07-10 14:49:31.521 - [NOTICE] callbacks.on_step_start(182): Cycle 1/1, step 3/4: Rest for 5 min\n",
      "2023-07-10 14:49:31.588 - [NOTICE] callbacks.on_step_start(182): Cycle 1/1, step 4/4: Discharge at C/5 until 3V\n",
      "2023-07-10 14:49:32.333 - [NOTICE] callbacks.on_cycle_end(196): Capacity is now 4.851 Ah (originally 4.851 Ah, will stop at 2.426 Ah)\n",
      "2023-07-10 14:49:32.334 - [NOTICE] callbacks.on_experiment_end(222): Finish experiment simulation, took 1.228 s\n"
     ]
    }
   ],
   "source": [
    "sim_long = pybamm.Simulation(spm, experiment=experiment, parameter_values=parameter_values, \n",
    "                            solver=pybamm.CasadiSolver(\"safe\"))\n",
    "sol_long = sim_long.solve(initial_soc=SOC_0)\n",
    "solution1 = sol_long"
   ]
  },
  {
   "cell_type": "code",
   "execution_count": 10,
   "metadata": {},
   "outputs": [
    {
     "name": "stderr",
     "output_type": "stream",
     "text": [
      "2023-07-10 14:49:34.645 - [NOTICE] callbacks.on_cycle_start(174): Cycle 1/1 (27.206 ms elapsed) --------------------\n",
      "2023-07-10 14:49:34.646 - [NOTICE] callbacks.on_step_start(182): Cycle 1/1, step 1/4: Charge at 1.5C until 4.2V\n",
      "2023-07-10 14:49:34.765 - [NOTICE] callbacks.on_step_start(182): Cycle 1/1, step 2/4: Hold at 4.2V until C/50\n",
      "2023-07-10 14:49:34.920 - [NOTICE] callbacks.on_step_start(182): Cycle 1/1, step 3/4: Rest for 5 min\n",
      "2023-07-10 14:49:34.971 - [NOTICE] callbacks.on_step_start(182): Cycle 1/1, step 4/4: Discharge at 1.5C until 3V\n",
      "2023-07-10 14:49:35.895 - [NOTICE] callbacks.on_cycle_end(196): Capacity is now 4.850 Ah (originally 4.850 Ah, will stop at 2.425 Ah)\n",
      "2023-07-10 14:49:35.896 - [NOTICE] callbacks.on_experiment_end(222): Finish experiment simulation, took 1.279 s\n"
     ]
    }
   ],
   "source": [
    "# parameter_values.update(\n",
    "#     {\n",
    "#     #   \"Exchange-current density for plating [A.m-2]\":0.001,\n",
    "#     #   \"Lithium plating transfer coefficient\": 0.5,\n",
    "#     #   \"Dead lithium decay constant [s-1]\": 1E-4,\n",
    "#         # \"Exchange-current density for stripping [A.m-2]\": 0.00005,\n",
    "#     },\n",
    "#     check_already_exists=False,\n",
    "# )\n",
    "c_rate_c ='C/5'\n",
    "c_rate_c ='1.5C'\n",
    "c_rate_d ='1.5C'\n",
    "# c_rate_c ='2C'\n",
    "experiment = pybamm.Experiment(\n",
    "    [\n",
    "        (\n",
    "        #  \"Rest for 10 minutes\",\n",
    "         \"Charge at \"+c_rate_c+\" until 4.2V\", \n",
    "         \"Hold at 4.2V until C/50\",\n",
    "        #  \"Rest for 20 minutes\",\n",
    "         )\n",
    "    ],\n",
    "    termination=\"50% capacity\",\n",
    "    period = \"1 sec\",\n",
    "#     cccv_handling=\"ode\",\n",
    ")\n",
    "experiment = pybamm.Experiment(\n",
    "    [\n",
    "        (\n",
    "         \"Charge at \"+c_rate_c+\" until 4.2V\", \n",
    "         \"Hold at 4.2V until C/50\",\n",
    "         \"Rest for 5 min\",\n",
    "         \"Discharge at \"+c_rate_d+\" until 3V\",\n",
    "         )\n",
    "    ],\n",
    "    termination=\"50% capacity\",\n",
    "    period = \"1 sec\",\n",
    "#     cccv_handling=\"ode\",\n",
    ")\n",
    "drive_cycle = pd.read_csv(cyc_DIR+'peyman_drive_cycle_current'+'.csv', comment=\"#\", header=None).to_numpy()\n",
    "# experiment = pybamm.Experiment(\n",
    "#     [\n",
    "#         (\n",
    "#          \"Charge at \"+c_rate_c+\" until 4.2V\", \n",
    "#          \"Hold at 4.2V until C/50\",\n",
    "#          \"Rest for 5 min\",\n",
    "#          \"Run DriveCycle (A)\",\n",
    "#         )\n",
    "#     ] ,\n",
    "#     drive_cycles={\"DriveCycle\": drive_cycle},\n",
    "#     termination=\"50% capacity\",\n",
    "# #     cccv_handling=\"ode\",\n",
    "# )\n",
    "SOC_0 = 0\n",
    "\n",
    "sim_long = pybamm.Simulation(spm, experiment=experiment, parameter_values=parameter_values, \n",
    "                            solver=pybamm.CasadiSolver(\"safe\"))\n",
    "sol_long = sim_long.solve(initial_soc=SOC_0)\n",
    "solution2 = sol_long"
   ]
  },
  {
   "cell_type": "code",
   "execution_count": 11,
   "metadata": {},
   "outputs": [
    {
     "name": "stderr",
     "output_type": "stream",
     "text": [
      "2023-07-10 14:49:38.561 - [NOTICE] callbacks.on_cycle_start(174): Cycle 1/1 (32.723 ms elapsed) --------------------\n",
      "2023-07-10 14:49:38.562 - [NOTICE] callbacks.on_step_start(182): Cycle 1/1, step 1/4: Charge at C/5 until 4.2V\n",
      "2023-07-10 14:49:39.119 - [NOTICE] callbacks.on_step_start(182): Cycle 1/1, step 2/4: Hold at 4.2V until C/50\n",
      "2023-07-10 14:49:39.348 - [NOTICE] callbacks.on_step_start(182): Cycle 1/1, step 3/4: Rest for 5 min\n",
      "2023-07-10 14:49:39.437 - [NOTICE] callbacks.on_step_start(182): Cycle 1/1, step 4/4: Discharge at 1.5C until 3V\n",
      "2023-07-10 14:49:43.460 - [NOTICE] callbacks.on_cycle_end(196): Capacity is now 4.851 Ah (originally 4.851 Ah, will stop at 2.426 Ah)\n",
      "2023-07-10 14:49:43.462 - [NOTICE] callbacks.on_experiment_end(222): Finish experiment simulation, took 4.941 s\n"
     ]
    }
   ],
   "source": [
    "parameter_values.update(\n",
    "    {\n",
    "        \"Negative electrode LAM constant proportional term 2 [s-1]\": 1/7.5*par_val[sno][1]/2,\n",
    "    },\n",
    "    check_already_exists=False,\n",
    ")\n",
    "\n",
    "c_rate_c ='C/5'\n",
    "# c_rate_c ='1.5C'\n",
    "c_rate_d ='1.5C'\n",
    "# c_rate_c ='2C'\n",
    "experiment = pybamm.Experiment(\n",
    "    [\n",
    "        (\n",
    "        #  \"Rest for 10 minutes\",\n",
    "         \"Charge at \"+c_rate_c+\" until 4.2V\", \n",
    "         \"Hold at 4.2V until C/50\",\n",
    "        #  \"Rest for 20 minutes\",\n",
    "         )\n",
    "    ],\n",
    "    termination=\"50% capacity\",\n",
    "    period = \"1 sec\",\n",
    "#     cccv_handling=\"ode\",\n",
    ")\n",
    "experiment = pybamm.Experiment(\n",
    "    [\n",
    "        (\n",
    "         \"Charge at \"+c_rate_c+\" until 4.2V\", \n",
    "         \"Hold at 4.2V until C/50\",\n",
    "         \"Rest for 5 min\",\n",
    "        #  \"Discharge at \"+c_rate_d+\" for 150 min\",\n",
    "         \"Discharge at \"+c_rate_d+\" until 3V\",\n",
    "         )\n",
    "    ],\n",
    "    termination=\"50% capacity\",\n",
    "    period = \"1 sec\",\n",
    "#     cccv_handling=\"ode\",\n",
    ")\n",
    "drive_cycle = pd.read_csv(cyc_DIR+'peyman_drive_cycle_current'+'.csv', comment=\"#\", header=None).to_numpy()\n",
    "# experiment = pybamm.Experiment(\n",
    "#     [\n",
    "#         (\n",
    "#          \"Charge at \"+c_rate_c+\" until 4.2V\", \n",
    "#          \"Hold at 4.2V until C/50\",\n",
    "#          \"Rest for 5 min\",\n",
    "#          \"Run DriveCycle (A)\",\n",
    "#         )\n",
    "#     ] ,\n",
    "#     drive_cycles={\"DriveCycle\": drive_cycle},\n",
    "#     termination=\"50% capacity\",\n",
    "# #     cccv_handling=\"ode\",\n",
    "# )\n",
    "SOC_0 = 0.0\n",
    "\n",
    "sim_long = pybamm.Simulation(spm, experiment=experiment, parameter_values=parameter_values, \n",
    "                            solver=pybamm.CasadiSolver(\"safe\"))\n",
    "sol_long = sim_long.solve(initial_soc=SOC_0)\n",
    "solution3 = sol_long"
   ]
  },
  {
   "cell_type": "code",
   "execution_count": 12,
   "metadata": {},
   "outputs": [],
   "source": [
    "def plot_vars(solution):\n",
    "    t =  solution[\"Time [s]\"].entries\n",
    "    t = t/3600\n",
    "    V =  solution[\"Terminal voltage [V]\"].entries\n",
    "    I =  solution[\"Current [A]\"].entries\n",
    "    Q = -solution['Discharge capacity [A.h]'].entries\n",
    "    Q_Li = solution[\"Loss of capacity to lithium plating [A.h]\"].entries\n",
    "    I_Li = solution[\"X-averaged lithium plating interfacial current density [A.m-2]\"].entries\n",
    "\n",
    "    I_de = solution[\"X-averaged negative electrode interfacial current density [A.m-2]\"].entries\n",
    "    I_st = solution[\"X-averaged lithium plating interfacial current density\"].entries\n",
    "    I_to = solution[\"X-averaged negative electrode total interfacial current density [A.m-2]\"].entries\n",
    "\n",
    "    # phi_seif = solution[\"X-averaged SEI film overpotential [V]\"].entries\n",
    "    phi_seif = []\n",
    "    # phi_sei  = solution[\"X-averaged negative electrode sei reaction overpotential [V]\"].entries\n",
    "    phi_sei  = []\n",
    "    # phi_sei = 0\n",
    "    phi_pl  = solution[\"X-averaged negative electrode lithium plating reaction overpotential [V]\"].entries\n",
    "    phi_pl_nd  = solution[\"X-averaged negative electrode lithium plating reaction overpotential\"].entries\n",
    "    phi_del = solution[\"X-averaged negative electrode surface potential difference [V]\"].entries\n",
    "\n",
    "    phi_ocp = solution[\"X-averaged negative electrode open circuit potential [V]\"].entries\n",
    "    phi_int = solution[\"X-averaged negative electrode reaction overpotential [V]\"].entries\n",
    "\n",
    "    i0_int = solution[\"X-averaged negative electrode exchange current density [A.m-2]\"].entries\n",
    "    phi_e_avg = solution[\"X-averaged negative electrolyte potential [V]\"].entries\n",
    "    c_e_avg = solution[\"X-averaged negative electrolyte concentration [mol.m-3]\"].entries\n",
    "    c_ss_n = solution[\"X-averaged negative particle surface concentration\"].entries\n",
    "    c_save_n1 = solution[\"R-averaged negative particle concentration\"].entries\n",
    "    c_save_n = c_save_n1[1,:]\n",
    "    c_s_n = solution[\"X-averaged negative particle concentration\"].entries\n",
    "\n",
    "    u_css_n = solution[\"X-averaged negative electrode open circuit potential [V]\"].entries\n",
    "\n",
    "    # j_pl = solution[\"Negative electrode lithium plating interfacial current density [A.m-2]\"].entries\n",
    "    j_pl = []\n",
    "    # eta_pl = solution[\"Negative electrode lithium plating reaction overpotential [V]\"].entries\n",
    "    eta_pl = []\n",
    "    sigma_ts_n = solution[\"X-averaged negative particle surface tangential stress [Pa]\"].entries\n",
    "    sigma_rs_n = solution[\"X-averaged negative particle surface radial stress [Pa]\"].entries\n",
    "    sigma_hs_n = (sigma_rs_n+2*sigma_ts_n)/2\n",
    "    sigma_ts_p = solution[\"X-averaged positive particle surface tangential stress [Pa]\"].entries\n",
    "    sigma_rs_p = solution[\"X-averaged positive particle surface radial stress [Pa]\"].entries\n",
    "    sigma_hs_p = (sigma_rs_p+2*sigma_ts_p)/2\n",
    "\n",
    "    C_n = solution[\"Negative electrode capacity [A.h]\"].entries\n",
    "    C_p = solution[\"Positive electrode capacity [A.h]\"].entries\n",
    "\n",
    "    return t,V,I,Q,Q_Li,I_Li,I_de,I_st,I_to,phi_seif,phi_sei,phi_pl,phi_del,phi_ocp,phi_int,i0_int,phi_e_avg,c_e_avg,c_ss_n,c_save_n,c_s_n,u_css_n,j_pl,eta_pl,sigma_hs_n,C_n,sigma_hs_p,C_p"
   ]
  },
  {
   "attachments": {},
   "cell_type": "markdown",
   "metadata": {},
   "source": [
    "# Compare Stress, Plating C Rates"
   ]
  },
  {
   "cell_type": "code",
   "execution_count": 13,
   "metadata": {},
   "outputs": [],
   "source": [
    "t1,V1,I1,Q1,Q_Li1,I_Li1,I_de1,I_st1,I_to1,phi_seif1,phi_sei1,phi_pl1,phi_del1,phi_ocp1,phi_int1,i0_int1,phi_e_avg1,c_e_avg1,c_ss_n1,c_save_n1,c_s_n1,u_css_n1,j_pl1,eta_pl1,sigma_hs_n1,C_n1,sigma_hs_p1,C_p1 = plot_vars(solution1)\n",
    "t2,V2,I2,Q2,Q_Li2,I_Li2,I_de2,I_st2,I_to2,phi_seif2,phi_sei2,phi_pl2,phi_del2,phi_ocp2,phi_int2,i0_int2,phi_e_avg2,c_e_avg2,c_ss_n2,c_save_n2,c_s_n2,u_css_n2,j_pl2,eta_pl2,sigma_hs_n2,C_n2,sigma_hs_p2,C_p2 = plot_vars(solution2)\n",
    "t3,V3,I3,Q3,Q_Li3,I_Li3,I_de3,I_st3,I_to3,phi_seif3,phi_sei3,phi_pl3,phi_del3,phi_ocp3,phi_int3,i0_int3,phi_e_avg3,c_e_avg3,c_ss_n3,c_save_n3,c_s_n3,u_css_n3,j_pl3,eta_pl3,sigma_hs_n3,C_n3,sigma_hs_p3,C_p3 = plot_vars(solution3)"
   ]
  },
  {
   "cell_type": "code",
   "execution_count": 14,
   "metadata": {},
   "outputs": [
    {
     "name": "stdout",
     "output_type": "stream",
     "text": [
      "7.497500161501874\n",
      "nan\n"
     ]
    },
    {
     "data": {
      "application/vnd.jupyter.widget-view+json": {
       "model_id": "6d9132e7c0dd44b597e3ed8e7f50517f",
       "version_major": 2,
       "version_minor": 0
      },
      "image/png": "[encoded data removed]",
      "text/html": [
       "\n",
       "            <div style=\"display: inline-block;\">\n",
       "                <div class=\"jupyter-widgets widget-label\" style=\"text-align: center;\">\n",
       "                    Figure\n",
       "                </div>\n",
       "                <img src='data:image/png;base64,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' width=600.0/>\n",
       "            </div>\n",
       "        "
      ],
      "text/plain": [
       "Canvas(toolbar=Toolbar(toolitems=[('Home', 'Reset original view', 'home', 'home'), ('Back', 'Back to previous …"
      ]
     },
     "metadata": {},
     "output_type": "display_data"
    }
   ],
   "source": [
    "sigma_hs_n1_min = min(sigma_hs_n1/1e6)\n",
    "sigma_hs_n2_min = min(sigma_hs_n2/1e6)\n",
    "print(sigma_hs_n2_min/sigma_hs_n1_min)\n",
    "print(max(C_n2[0]-C_n2)/max(C_n1[0]-C_n1))\n",
    "fig, ax = plt.subplots(1, 2, figsize=(6, 4))\n",
    "ax1 = ax.flat[0]\n",
    "ax1.plot(t1,sigma_hs_n1,'--',color='tab:blue')\n",
    "ax1.plot(t2,sigma_hs_n2,'--',color='tab:orange')\n",
    "ax1.plot(t3,sigma_hs_n3,'--',color='tab:red')\n",
    "ax1.set_title(r'$\\sigma^-_{h,surf}$ [Pa]')\n",
    "ax1.set_xlabel('Time [h]')\n",
    "ax2 = ax.flat[1]\n",
    "ax2.plot(t1,C_n1[0]-C_n1,'--',color='tab:blue')\n",
    "ax2.plot(t2,C_n2[0]-C_n2,'--',color='tab:orange')\n",
    "ax2.plot(t3,C_n3[0]-C_n3,'--',color='tab:red')\n",
    "ax2.set_title(r'$C_{n,loss}$ [Ah]')\n",
    "ax2.set_xlabel('Time [h]')\n",
    "# ax1.legend([\"C/5 100%\",\"C/5 50%\"])\n",
    "ax1.legend([\"C/5\",\"1.5C\",\"Mixed\"])\n",
    "fig.tight_layout()\n",
    "plt.show()\n",
    "# plt.savefig(fig_DIR+'negative_electrode_stress_DOD'+'.png')\n",
    "plt.savefig(fig_DIR+'negative_electrode_stress_mixed'+'.png')"
   ]
  },
  {
   "cell_type": "code",
   "execution_count": 15,
   "metadata": {},
   "outputs": [
    {
     "data": {
      "application/vnd.jupyter.widget-view+json": {
       "model_id": "2a4d3a6824524765a28450e0c812bad6",
       "version_major": 2,
       "version_minor": 0
      },
      "image/png": "[encoded data removed]",
      "text/html": [
       "\n",
       "            <div style=\"display: inline-block;\">\n",
       "                <div class=\"jupyter-widgets widget-label\" style=\"text-align: center;\">\n",
       "                    Figure\n",
       "                </div>\n",
       "                <img src='data:image/png;base64,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' width=600.0/>\n",
       "            </div>\n",
       "        "
      ],
      "text/plain": [
       "Canvas(toolbar=Toolbar(toolitems=[('Home', 'Reset original view', 'home', 'home'), ('Back', 'Back to previous …"
      ]
     },
     "metadata": {},
     "output_type": "display_data"
    }
   ],
   "source": [
    "fig, ax = plt.subplots(1, 2, figsize=(6, 4))\n",
    "ax1 = ax.flat[0]\n",
    "ax1.plot(t1,sigma_hs_p1,'b--')\n",
    "ax1.plot(t2,sigma_hs_p2,'r--')\n",
    "ax1.set_title(r'$\\sigma^+_{h,surf}$ [Pa]')\n",
    "ax2 = ax.flat[1]\n",
    "ax2.plot(t1,C_p1[0]-C_p1,'b--')\n",
    "ax2.plot(t2,C_p2[0]-C_p2,'r--')\n",
    "ax2.set_title(r'$C_{p,loss}$ [Ah]')\n",
    "fig.tight_layout()\n",
    "plt.savefig(fig_DIR+'positive_electrode_stress'+'.png')"
   ]
  },
  {
   "cell_type": "code",
   "execution_count": 16,
   "metadata": {},
   "outputs": [
    {
     "name": "stdout",
     "output_type": "stream",
     "text": [
      "-22.990290815730624\n",
      "-172.42718627840074\n",
      "7.500000224460886\n"
     ]
    }
   ],
   "source": [
    "sigma_hs_p1_min = min(sigma_hs_p1/1e6)\n",
    "sigma_hs_p2_min = min(sigma_hs_p2/1e6)\n",
    "print(sigma_hs_p1_min)\n",
    "print(sigma_hs_p2_min)\n",
    "print(sigma_hs_p2_min/sigma_hs_p1_min)"
   ]
  },
  {
   "cell_type": "code",
   "execution_count": 17,
   "metadata": {},
   "outputs": [
    {
     "ename": "NameError",
     "evalue": "name 'aSAs' is not defined",
     "output_type": "error",
     "traceback": [
      "\u001b[1;31m---------------------------------------------------------------------------\u001b[0m",
      "\u001b[1;31mNameError\u001b[0m                                 Traceback (most recent call last)",
      "\u001b[1;32mc:\\Users\\spannala\\PyBaMM\\gmproj\\cycling_aging\\mech_stress_crate_2.ipynb Cell 19\u001b[0m in \u001b[0;36m<cell line: 1>\u001b[1;34m()\u001b[0m\n\u001b[1;32m----> <a href='vscode-notebook-cell:/c%3A/Users/spannala/PyBaMM/gmproj/cycling_aging/mech_stress_crate_2.ipynb#X24sZmlsZQ%3D%3D?line=0'>1</a>\u001b[0m aSAs\n",
      "\u001b[1;31mNameError\u001b[0m: name 'aSAs' is not defined"
     ]
    }
   ],
   "source": [
    "aSAs"
   ]
  },
  {
   "cell_type": "code",
   "execution_count": null,
   "metadata": {},
   "outputs": [],
   "source": [
    "# fig, axes = plt.subplots(2, 3, figsize=(8, 6))\n",
    "# ax1 = axes.flat[0]\n",
    "# ax1.plot(t1,V1,'b')\n",
    "# ax1.plot(t2,V2,'rv-')\n",
    "# ax1.set_title('Voltage [V]')\n",
    "# ax3 = axes.flat[3]\n",
    "# ax3.plot(t1,phi_pl1,'b')\n",
    "# ax3.plot(t2,phi_pl2,'rv-')\n",
    "# ax3.set_ylim([-0.1,1])\n",
    "# ax3.set_title('Plating Overpotential [V]')\n",
    "# ax4 = axes.flat[5]\n",
    "# ax4.plot(t1,phi_sei1,'b')\n",
    "# ax4.plot(t2,phi_sei2,'rv-')\n",
    "# # ax4.set_ylim([-0.1,1])\n",
    "# ax4.set_title('SEI Overpotential [V]')\n",
    "# ax2 = axes.flat[2]\n",
    "# ax2.plot(t1,Q_Li1,'b')\n",
    "# ax2.plot(t2,Q_Li2,'rv-')\n",
    "# ax2.set_title('Capacity lost due to plating [Ah]')\n",
    "# ax6=axes.flat[1]\n",
    "# ax6.plot(t1,I_Li1,'b')\n",
    "# ax6.plot(t2,I_Li2,'rv-')\n",
    "# ax6.set_title('Lithium plating interfacial current density')\n",
    "# ax5=axes.flat[4]\n",
    "# ax5.plot(t1,phi_del1,'b')\n",
    "# ax5.plot(t2,phi_del2,'rv-')\n",
    "# ax5.set_ylim([-0.1,1])\n",
    "\n",
    "# ax1.plot(t3,V3,'g--')\n",
    "# ax3.plot(t3,phi_pl3,'g--')\n",
    "# ax4.plot(t3,phi_sei3,'g--')\n",
    "# ax2.plot(t3,Q_Li3,'g--')\n",
    "# ax6.plot(t3,I_Li3,'g--')\n",
    "# ax5.plot(t3,phi_del3,'g--')\n",
    "# ax5.set_title('Neg Elec Surf Pot Diff [V]')\n",
    "# # ax5.set_ylim([-0.1,1])\n",
    "# # ax1.legend(['baseline',r'decreasing $\\alpha_{pl}$',r'Increasing $k_{0,pl}$'])\n",
    "# # ax1.legend(['Irreversible ','Reversible','Partially Reversible'])\n",
    "# ax1.legend(['C/5','1.5C','New Params'])\n",
    "# # ax1.legend(['SPM','SPMe'])\n",
    "# fig.tight_layout()\n",
    "# # plt.savefig(fig_DIR+'plating_models_parameters'+'.png')\n",
    "# plt.savefig(fig_DIR+'plating_compare_crate'+'.png')\n",
    "# # plt.savefig(fig_DIR+'plating_compare_spme'+'.png')"
   ]
  },
  {
   "cell_type": "code",
   "execution_count": null,
   "metadata": {},
   "outputs": [],
   "source": [
    "# fig, axes = plt.subplots(3, 1, figsize=(6,8))\n",
    "# ax1 = axes.flat[0]\n",
    "# ax1.plot(Q1,phi_ocp1,'b')\n",
    "# ax1.plot(Q2,phi_ocp2,'rv-')\n",
    "# ax1.set_title('Negative Electrode Open Circuit Potential [V]')\n",
    "# ax2 = axes.flat[1]\n",
    "# ax2.plot(Q1,phi_int1,'b')\n",
    "# ax2.plot(Q2,phi_int2,'rv-')\n",
    "# ax2.set_title('Negative Electrode Intercalation Overpotential [V]')\n",
    "# ax3 = axes.flat[2]\n",
    "# ax3.plot(Q1,phi_pl1,'b')\n",
    "# ax3.plot(Q2,phi_pl2,'rv-')\n",
    "# ax3.set_title('Plating Overpotential [V]')\n",
    "# # ax5.set_ylim([-0.1,1])\n",
    "# # ax1.legend(['baseline',r'decreasing $\\alpha_{pl}$',r'Increasing $k_{0,pl}$'])\n",
    "# # ax1.legend(['Irreversible ','Reversible','Partially Reversible'])\n",
    "# ax1.legend(['C/5','1.5C','High R'])\n",
    "# # ax1.legend(['SPM','SPMe'])\n",
    "# fig.tight_layout()\n",
    "# # plt.savefig(fig_DIR+'plating_models_parameters'+'.png')\n",
    "# # plt.savefig(fig_DIR+'plating_compare_crate'+'.png')\n",
    "# # plt.savefig(fig_DIR+'plating_compare_spme'+'.png')"
   ]
  },
  {
   "cell_type": "code",
   "execution_count": null,
   "metadata": {},
   "outputs": [],
   "source": [
    "fig, axes = plt.subplots(1, 2, figsize=(9, 4))\n",
    "ax1 = axes.flat[0]\n",
    "ax1.plot(t1,sigma_hs_n1,'b--')\n",
    "ax1.plot(t2,sigma_hs_n2,'rv-')\n",
    "ax1.set_title(r'$\\sigma_{h,surf}$ [Pa]')\n",
    "ax11 = axes.flat[1]\n",
    "ax11.plot(t1,c_ss_n1-c_save_n1,'b--')\n",
    "# ax11.plot(t1,c_save_n1,'b--')\n",
    "ax11.plot(t2,c_ss_n2-c_save_n2,'rv-')\n",
    "ax11.set_title(r'$c_{ss}^--c_{s,avg}^-$ [mol.$m^{-3}$]')\n",
    "plt.savefig(fig_DIR+'mech_stress_crate'+'.png')"
   ]
  },
  {
   "cell_type": "code",
   "execution_count": null,
   "metadata": {},
   "outputs": [],
   "source": [
    "\n",
    "fig, axes = plt.subplots(6, 2, figsize=(8, 10))\n",
    "ax1 = axes.flat[0]\n",
    "ax1.plot(t1,V1,'b')\n",
    "ax1.plot(t2,V2,'rv-')\n",
    "ax1.set_title('Voltage [V]')\n",
    "ax2 = axes.flat[2]\n",
    "ax2.plot(t1,phi_ocp1,'b')\n",
    "ax2.plot(t2,phi_ocp2,'rv-')\n",
    "ax2.set_title(r'U($c_{ss})$  [V]')\n",
    "ax3 = axes.flat[6]\n",
    "ax3.plot(t1,phi_pl1,'b')\n",
    "ax3.plot(t2,phi_pl2,'rv-')\n",
    "ax3.axhline(y = 0.0, color = 'k', linestyle = '--')\n",
    "ax3.set_title(r'$\\eta_{pl}$ [V]')\n",
    "ax4=axes.flat[3]\n",
    "ax4.plot(t1,i0_int1,'b')\n",
    "ax4.plot(t2,i0_int2,'rv-')\n",
    "ax4.set_title(r'$i_0$  [A.$m^{-2}$]')\n",
    "ax5=axes.flat[4]\n",
    "ax5.plot(t1,phi_int1,'b')\n",
    "ax5.plot(t2,phi_int2,'rv-')\n",
    "ax5.set_title(r'$\\eta_{int}$ [V]')\n",
    "ax6=axes.flat[7]\n",
    "ax6.plot(t1,I_Li1,'b')\n",
    "ax6.plot(t2,I_Li2,'rv-')\n",
    "ax6.set_title(r'$j_{pl}$ [A.$m^{-2}$]')\n",
    "ax7 = axes.flat[1]\n",
    "ax7.plot(t1,I1,'b')\n",
    "ax7.plot(t2,I2,'rv-')\n",
    "ax7.set_title('Current [A]')\n",
    "ax8=axes.flat[5]\n",
    "ax8.plot(t1,I_to1,'b')\n",
    "ax8.plot(t2,I_to2,'rv-')\n",
    "ax8.set_title(r'$j_{int}$  [A.$m^{-2}$]')\n",
    "ax9=axes.flat[8]\n",
    "ax9.plot(t1,phi_e_avg1,'b')\n",
    "ax9.plot(t2,phi_e_avg2,'rv-')\n",
    "ax9.set_title(r'$\\overline{\\Phi}^-_{e}$ [V]')\n",
    "ax10=axes.flat[9]\n",
    "ax10.plot(t1,c_e_avg1,'b')\n",
    "ax10.plot(t2,c_e_avg2,'rv-')\n",
    "ax10.set_title(r'$\\overline{c}^-_{e}$ [mol.$m^{-3}$]')\n",
    "\n",
    "ax11 = axes.flat[10]\n",
    "ax11.plot(t1,c_ss_n1-c_save_n1,'b--')\n",
    "# ax11.plot(t1,c_save_n1,'b--')\n",
    "ax11.plot(t2,c_ss_n2-c_save_n2,'rv-')\n",
    "# ax11.plot(t2,c_save_n2,'r--')\n",
    "# ax11.legend(['surf','ave'])\n",
    "ax11.set_title(r'$c_{ss}^--c_{s,avg}^-$ [mol.$m^{-3}$]')\n",
    "ax12 = axes.flat[11]\n",
    "ax12.plot(t1,Q_Li1,'b')\n",
    "ax12.plot(t2,Q_Li2,'rv-')\n",
    "ax12.set_title('Capacity lost due to plating [Ah]')\n",
    "\n",
    "ax11.set_xlabel(\"Time [hr]\")\n",
    "ax12.set_xlabel(\"Time [hr]\")\n",
    "# ax5.set_ylim([-0.1,1])\n",
    "# ax1.legend(['baseline',r'decreasing $\\alpha_{pl}$',r'Increasing $k_{0,pl}$'])\n",
    "# ax1.legend(['Irreversible ','Reversible','Partially Reversible'])\n",
    "# ax1.legend(['C/5','1.5C'])\n",
    "ax1.legend(['1.5C','2C'])\n",
    "axis = [ax1,ax2,ax5,ax3,ax9,ax7,ax4,ax8,ax6,ax10,ax11,ax12]\n",
    "labels = [\"a)\",\"b)\",\"c)\",\"d)\",\"e)\",\"f)\",\"g)\",\"h)\",\"i)\",\"j)\",\"k)\",\"l)\"]\n",
    "for ax, label in zip(axis,labels):\n",
    "  ax.text(-0.1,1.1,label,transform=ax.transAxes, fontsize=14)  \n",
    "\n",
    "# ax1.legend(['SPM','SPMe'])\n",
    "fig.tight_layout()\n",
    "# plt.savefig(fig_DIR+'plating_models_parameters'+'.png')\n",
    "# plt.savefig(fig_DIR+'plating_compare_models_1p5C'+'.png')\n",
    "plt.savefig(fig_DIR+'plating_compare_crate_new_2'+'.png')"
   ]
  },
  {
   "cell_type": "code",
   "execution_count": null,
   "metadata": {},
   "outputs": [],
   "source": [
    "i_pl_area1 = np.trapz(I_Li1,t1)\n",
    "i_pl_avg1 = i_pl_area1/t1[-1]\n",
    "i_pl_area2 = np.trapz(I_Li2,t2)\n",
    "i_pl_avg2 = i_pl_area2/t2[-1]\n",
    "print(i_pl_avg1)\n",
    "print(i_pl_avg2)\n",
    "print(i_pl_avg2/i_pl_avg1)\n",
    "print(Q_Li2[-1]/Q_Li1[-1])"
   ]
  },
  {
   "cell_type": "code",
   "execution_count": null,
   "metadata": {},
   "outputs": [],
   "source": [
    "fgdfgd"
   ]
  },
  {
   "attachments": {},
   "cell_type": "markdown",
   "metadata": {},
   "source": [
    "# Concentration Evolution"
   ]
  },
  {
   "cell_type": "code",
   "execution_count": null,
   "metadata": {},
   "outputs": [],
   "source": [
    "fig, ax = plt.subplots(1, 1, figsize=(5, 4))\n",
    "ax.plot(t1/t1[-1],c_ss_n1,'b')\n",
    "ax.plot(t1/t1[-1],c_save_n1,'b--')\n",
    "ax.plot(t1/t1[-1],c_s_n1[0,:],'b-.')\n",
    "ax.plot(t2/t2[-1],c_ss_n2,'r')\n",
    "ax.plot(t2/t2[-1],c_save_n2,'r--')\n",
    "ax.plot(t2/t2[-1],c_s_n2[0,:],'r-.')\n",
    "ax.legend([r\"C/5 $c_{ss}$\",r\"C/5 $c_{s,ave}$\",r\"C/5 $c_{s,0}$\",r\"1.5C $c_{ss}$\",r\"1.5C $c_{s,ave}$\",r\"1.5C $c_{s,0}$\"])\n",
    "ax.set_xlabel(\"Normalized Time\")\n",
    "ax.set_ylabel(\"Conc [mol$m^{-3}$]\")\n",
    "ax.set_title(r'Negative Electrode Li Concentration $c_s$')\n",
    "fig.savefig(fig_DIR+\"neg_conc_crate_comp_norm\"+\".png\")"
   ]
  },
  {
   "cell_type": "code",
   "execution_count": null,
   "metadata": {},
   "outputs": [],
   "source": [
    "fig, ax = plt.subplots(1, 1, figsize=(5, 4))\n",
    "ax.plot(t1/t1[-1],u_css_n1,'b')\n",
    "ax.plot(t2/t2[-1],u_css_n2,'r')\n",
    "ax.legend([\"C/5\",\"1.5C\"])\n",
    "ax.set_xlabel(\"Normalized Time\")\n",
    "ax.set_ylabel(\"Potential [V]\")\n",
    "ax.set_title(r'$U_n(c_{ss})$')\n",
    "fig.savefig(fig_DIR+\"neg_pot_crate_comp\"+\".png\")"
   ]
  },
  {
   "cell_type": "code",
   "execution_count": null,
   "metadata": {},
   "outputs": [],
   "source": [
    "fig, ax = plt.subplots(1, 1, figsize=(5, 4))\n",
    "ax.plot(t1/t1[-1],c_ss_n1-c_save_n1,'b')\n",
    "# ax.plot(t1/t1[-1],c_save_n1-c_s_n1[0,:],'b--')\n",
    "# ax.plot(t1/t1[-1],c_s_n1[0,:],'b-.')\n",
    "ax.plot(t2/t2[-1],c_ss_n2-c_save_n2,'r')\n",
    "# ax.plot(t2/t2[-1],c_save_n2-c_s_n2[0,:],'r--')\n",
    "# ax.plot(t2/t2[-1],c_s_n2[0,:],'r-.')\n",
    "ax.legend([r\"C/5 $c_{ss}-c_{s,avg}$\",r\"1.5C $c_{ss}-c_{s,avg}$\"])\n",
    "ax.set_xlabel(\"Normalized Time\")\n",
    "ax.set_ylabel(\"Conc [mol$m^{-3}$]\")\n",
    "ax.set_title(r'Negative Electrode Li Concentration Difference $c_s$')"
   ]
  },
  {
   "cell_type": "code",
   "execution_count": null,
   "metadata": {},
   "outputs": [],
   "source": [
    "len(t1)"
   ]
  },
  {
   "cell_type": "code",
   "execution_count": null,
   "metadata": {},
   "outputs": [],
   "source": [
    "fig, ax1 = plt.subplots(1, 1, figsize=(5,3))\n",
    "ax1.plot(t1,I1)\n",
    "n=1\n",
    "ax1.plot(t1[n],I1[n],'rx')\n",
    "n=150\n",
    "ax1.plot(t1[n],I1[n],'rx')\n",
    "n=287\n",
    "ax1.plot(t1[n],I1[n],'rx')\n",
    "n=292\n",
    "ax1.plot(t1[n],I1[n],'rx')\n",
    "n=298\n",
    "ax1.plot(t1[n],I1[n],'rx')"
   ]
  },
  {
   "cell_type": "code",
   "execution_count": null,
   "metadata": {},
   "outputs": [],
   "source": [
    "fig, ax1 = plt.subplots(1, 1, figsize=(5,3))\n",
    "ax1.plot(t2,I2)\n",
    "n=1\n",
    "ax1.plot(t2[n],I2[n],'rx')\n",
    "n=18\n",
    "ax1.plot(t2[n],I2[n],'rx')\n",
    "n=36\n",
    "ax1.plot(t2[n],I2[n],'rx')\n",
    "n=46\n",
    "ax1.plot(t2[n],I2[n],'rx')\n",
    "n=56\n",
    "ax1.plot(t2[n],I2[n],'rx')"
   ]
  },
  {
   "cell_type": "code",
   "execution_count": null,
   "metadata": {},
   "outputs": [],
   "source": [
    "ln = np.linspace(0,1,20)\n",
    "n = 1\n",
    "print(t1[n]/60)\n",
    "y1 = c_s_n1[:,n]\n",
    "n = 10\n",
    "y2 = c_s_n1[:,n]\n",
    "n = 20\n",
    "y3 = c_s_n1[:,n]\n",
    "n = 30\n",
    "y4 = c_s_n1[:,n]\n",
    "n = 40\n",
    "y5 = c_s_n1[:,n]\n",
    "n = 50\n",
    "y6 = c_s_n1[:,n]\n",
    "fig, ax1 = plt.subplots(1, 1, figsize=(5,3))\n",
    "ax1.plot(ln,y1)\n",
    "ax1.plot(ln,y2,'--')\n",
    "ax1.plot(ln,y3,'--')\n",
    "ax1.plot(ln,y4,'--')\n",
    "ax1.plot(ln,y5,'--')\n",
    "ax1.plot(ln,y6,'--')\n",
    "ax1.set_title(r'Negative Electrode $c_e-c_{e,ref}$ [mol.$m^{-3}$]')\n",
    "ax1.set_xlabel(\"Negative electrode normalized length\")\n",
    "ax1.legend([\"1 min\",\"10 min\",\"20 min\",\"30 min\",\"40 min\",\"50 min\"])\n",
    "# ax1.legend(['C/5','1.5 C'])\n",
    "fig.tight_layout()\n",
    "# plt.savefig(fig_DIR+'dfn_c_e_5'+'.png')"
   ]
  },
  {
   "cell_type": "code",
   "execution_count": null,
   "metadata": {},
   "outputs": [],
   "source": [
    "i_pl_area1 = np.trapz(I_Li1,t1)\n",
    "i_pl_avg1 = i_pl_area1/t1[-1]\n",
    "i_pl_area2 = np.trapz(I_Li2,t2)\n",
    "i_pl_avg2 = i_pl_area2/t2[-1]\n",
    "print(i_pl_avg1)\n",
    "print(i_pl_avg2)\n",
    "print(i_pl_avg2/i_pl_avg1)\n",
    "print(Q_Li2[-1]/Q_Li1[-1])"
   ]
  },
  {
   "cell_type": "code",
   "execution_count": null,
   "metadata": {},
   "outputs": [],
   "source": [
    "sadas"
   ]
  },
  {
   "cell_type": "code",
   "execution_count": null,
   "metadata": {},
   "outputs": [],
   "source": [
    "out = parameter_values.evaluate(0.75*param.F/param.R/298.15)\n",
    "print(out)"
   ]
  },
  {
   "attachments": {},
   "cell_type": "markdown",
   "metadata": {},
   "source": [
    "# Compare Lithium Plating average vs seperator overpotential"
   ]
  },
  {
   "cell_type": "code",
   "execution_count": null,
   "metadata": {},
   "outputs": [],
   "source": [
    "t1_e,V1_e,I1_e,Q1_e,Q_Li1_e,I_Li1_e,I_de1_e,I_st1_e,I_to1_e,phi_seif1_e,phi_sei1_e,phi_pl1_e,phi_del1_e,phi_ocp1_e,phi_int1_e,i0_int1_e,phi_e_avg1_e,c_e_avg1_e,c_ss_n1_e,c_save_n1_e,c_s_n1_e,u_css_n1_e,j_pl1_e,eta_pl1_e = plot_vars(solution1_e)\n",
    "t2_e,V2_e,I2_e,Q2_e,Q_Li2_e,I_Li2_e,I_de2_e,I_st2_e,I_to2_e,phi_seif2_e,phi_sei2_e,phi_pl2_e,phi_del2_e,phi_ocp2_e,phi_int2_e,i0_int2_e,phi_e_avg2_e,c_e_avg2_e,c_ss_n2_e,c_save_n2_e,c_s_n2_e,u_css_n2_e,j_pl2_e,eta_pl2_e = plot_vars(solution2_e)"
   ]
  },
  {
   "cell_type": "code",
   "execution_count": null,
   "metadata": {},
   "outputs": [],
   "source": [
    "# ln = np.linspace(0,1,20)\n",
    "# fig, ax1 = plt.subplots(1, 1, figsize=(5,3))\n",
    "# # ax1.plot(t2_e,j_pl2_e[10,:])\n",
    "# ax1.plot(ln,j_pl2_e[:,10])"
   ]
  },
  {
   "cell_type": "code",
   "execution_count": null,
   "metadata": {},
   "outputs": [],
   "source": [
    "es_2 = solution2_e[\"X-averaged positive electrode active material volume fraction\"].entries\n",
    "R_n = parameter_values.evaluate(param.n.prim.R_typ)\n",
    "F = parameter_values.evaluate(param.F)\n",
    "j_pl2_max_e = j_pl2_e[-1,:]\n",
    "nn = len(j_pl2_e)\n",
    "j_pl2_a=0\n",
    "eta_pl2_a=0\n",
    "for i in range(nn):\n",
    "    j_pl2_a+=j_pl2_e[i,:]\n",
    "    eta_pl2_a+=eta_pl2_e[i,:]\n",
    "j_pl2_av = j_pl2_a/nn\n",
    "eta_pl2_av = eta_pl2_a/nn\n",
    "d_c_lip_max = j_pl2_max_e\n",
    "d_c_lip_av = j_pl2_av\n",
    "\n",
    "eta_pl2_max_e = eta_pl2_e[-1,:]\n",
    "\n",
    "as_2 = 3*es_2/R_n\n",
    "\n",
    "mul =  parameter_values.evaluate(param.n.L*param.A_cc)\n",
    "# mul =  parameter_values.evaluate(param.n.L)\n",
    "mul2 = parameter_values.evaluate(param.n.L*param.L_y*param.L_z)\n",
    "# mul2 = parameter_values.evaluate(param.L_z)"
   ]
  },
  {
   "cell_type": "code",
   "execution_count": null,
   "metadata": {},
   "outputs": [],
   "source": [
    "Q_Li2_e_calc = -scipy.integrate.cumtrapz(d_c_lip_av*mul2*F,t2_e)\n",
    "Q_Li2_e_calc = np.append(Q_Li2_e_calc,Q_Li2_e_calc[-1])"
   ]
  },
  {
   "cell_type": "code",
   "execution_count": null,
   "metadata": {},
   "outputs": [],
   "source": [
    "Q_Li2_e_calc[-1] "
   ]
  },
  {
   "cell_type": "code",
   "execution_count": null,
   "metadata": {},
   "outputs": [],
   "source": [
    "Q_Li2_e[-1]"
   ]
  },
  {
   "cell_type": "code",
   "execution_count": null,
   "metadata": {},
   "outputs": [],
   "source": [
    "fig, ax1= plt.subplots(1, 1, figsize=(5, 4))\n",
    "ax1.plot(t2_e,Q_Li2_e)\n",
    "ax1.plot(t2_e,Q_Li2_e_calc)"
   ]
  },
  {
   "cell_type": "code",
   "execution_count": null,
   "metadata": {},
   "outputs": [],
   "source": [
    "c_lip_max = scipy.integrate.cumtrapz(d_c_lip_max,t2_e)\n",
    "c_lip_max = np.append(c_lip_max,c_lip_max[-1])\n",
    "c_lip_av = scipy.integrate.cumtrapz(d_c_lip_av,t2_e)\n",
    "c_lip_av = np.append(c_lip_av,c_lip_av[-1])"
   ]
  },
  {
   "cell_type": "code",
   "execution_count": null,
   "metadata": {},
   "outputs": [],
   "source": [
    "Q_Li2_e_max =c_lip_max/c_lip_av*Q_Li2_e"
   ]
  },
  {
   "cell_type": "code",
   "execution_count": null,
   "metadata": {},
   "outputs": [],
   "source": [
    "fig, axes = plt.subplots(1, 3, figsize=(10, 4))\n",
    "ax1 = axes.flat[0]\n",
    "ax1.plot(t2_e,j_pl2_av)\n",
    "ax1.plot(t2_e,j_pl2_max_e,'--')\n",
    "ax1.set_title(\"Plating Current\")\n",
    "ax1.set_ylabel(r\"Current [A$m^{-2}$]\")\n",
    "ax1.set_xlabel(\"Time [hr]\")\n",
    "ax1.legend([\"Average\",\"Maximum\"])\n",
    "ax2 = axes.flat[1]\n",
    "ax2.plot(t2_e,Q_Li2_e)\n",
    "ax2.plot(t2_e,Q_Li2_e_max,'--')\n",
    "ax2.set_title(R\"$Q_{loss,pl}$\")\n",
    "ax2.set_ylabel(r\"Capacity Loss [Ah]\")\n",
    "ax2.set_xlabel(\"Time [hr]\")\n",
    "ax3 = axes.flat[2]\n",
    "ax3.plot(t2_e,eta_pl2_av)\n",
    "ax3.plot(t2_e,eta_pl2_max_e,'--')\n",
    "ax3.set_title(R\"$\\eta_{pl}$\")\n",
    "ax3.set_ylabel(r\"Overpotential [V]\")\n",
    "ax3.set_xlabel(\"Time [hr]\")\n",
    "fig.tight_layout()\n",
    "plt.savefig(fig_DIR+'impact_eta_plmax'+'.png')"
   ]
  },
  {
   "cell_type": "code",
   "execution_count": null,
   "metadata": {},
   "outputs": [],
   "source": [
    "t1,V1,I1,Q1,Q_Li1,I_Li1,I_de1,I_st1,I_to1,phi_seif1,phi_sei1,phi_pl1,phi_del1,phi_ocp1,phi_int1,i0_int1,phi_e_avg1,c_e_avg1,c_ss_n1,c_save_n1,c_s_n1 = plot_vars(solution1)\n",
    "t2,V2,I2,Q2,Q_Li2,I_Li2,I_de2,I_st2,I_to2,phi_seif2,phi_sei2,phi_pl2,phi_del2,phi_ocp2,phi_int2,i0_int2,phi_e_avg2,c_e_avg2,c_ss_n2,c_save_n2,c_s_n2 = plot_vars(solution2)\n",
    "fig, axes = plt.subplots(6, 2, figsize=(8, 10))\n",
    "ax1 = axes.flat[0]\n",
    "ax1.plot(t1,V1,'b')\n",
    "ax1.plot(t2,V2,'rv-')\n",
    "ax1.set_title('Voltage [V]')\n",
    "ax2 = axes.flat[2]\n",
    "ax2.plot(t1,phi_ocp1,'b')\n",
    "ax2.plot(t2,phi_ocp2,'rv-')\n",
    "ax2.set_title(r'U($c_{ss})$  [V]')\n",
    "ax3 = axes.flat[6]\n",
    "ax3.plot(t1,phi_pl1,'b')\n",
    "ax3.plot(t2,phi_pl2,'rv-')\n",
    "ax3.set_title(r'$\\eta_{pl}$ [V]')\n",
    "ax4=axes.flat[3]\n",
    "ax4.plot(t1,i0_int1,'b')\n",
    "ax4.plot(t2,i0_int2,'rv-')\n",
    "ax4.set_title(r'$i_0$  [A.$m^{-2}$]')\n",
    "ax5=axes.flat[4]\n",
    "ax5.plot(t1,phi_int1,'b')\n",
    "ax5.plot(t2,phi_int2,'rv-')\n",
    "ax5.set_title(r'$\\eta_{int}$ [V]')\n",
    "ax6=axes.flat[7]\n",
    "ax6.plot(t1,I_Li1,'b')\n",
    "ax6.plot(t2,I_Li2,'rv-')\n",
    "ax6.set_title(r'$j_{pl}$ [A.$m^{-2}$]')\n",
    "ax7 = axes.flat[1]\n",
    "ax7.plot(t1,I1,'b')\n",
    "ax7.plot(t2,I2,'rv-')\n",
    "ax7.set_title('Current [A]')\n",
    "ax8=axes.flat[5]\n",
    "ax8.plot(t1,I_to1,'b')\n",
    "ax8.plot(t2,I_to2,'rv-')\n",
    "ax8.set_title(r'$j_{int}$  [A.$m^{-2}$]')\n",
    "ax9=axes.flat[8]\n",
    "ax9.plot(t1,phi_e_avg1,'b')\n",
    "ax9.plot(t2,phi_e_avg2,'rv-')\n",
    "ax9.set_title(r'$\\overline{\\Phi}^-_{e}$ [V]')\n",
    "ax10=axes.flat[9]\n",
    "ax10.plot(t1,c_e_avg1,'b')\n",
    "ax10.plot(t2,c_e_avg2,'rv-')\n",
    "ax10.set_title(r'$\\overline{c}^-_{e}$ [mol.$m^{-3}$]')\n",
    "\n",
    "ax11 = axes.flat[10]\n",
    "ax11.plot(t1,c_ss_n1-c_save_n1,'b--')\n",
    "# ax11.plot(t1,c_save_n1,'b--')\n",
    "ax11.plot(t2,c_ss_n2-c_save_n2,'r')\n",
    "# ax11.plot(t2,c_save_n2,'r--')\n",
    "ax11.legend(['surf','ave'])\n",
    "ax11.set_title(r'$c_s^-$ [mol.$m^{-3}$]')\n",
    "ax12 = axes.flat[11]\n",
    "ax12.plot(t1,Q_Li1,'b')\n",
    "ax12.plot(t2,Q_Li2,'rv-')\n",
    "ax12.set_title('Capacity lost due to plating [Ah]')\n",
    "\n",
    "ax11.set_xlabel(\"Time [hr]\")\n",
    "ax12.set_xlabel(\"Time [hr]\")\n",
    "# ax5.set_ylim([-0.1,1])\n",
    "# ax1.legend(['baseline',r'decreasing $\\alpha_{pl}$',r'Increasing $k_{0,pl}$'])\n",
    "# ax1.legend(['Irreversible ','Reversible','Partially Reversible'])\n",
    "ax1.legend(['1.5C','2C'])\n",
    "axis = [ax1,ax2,ax5,ax3,ax9,ax7,ax4,ax8,ax6,ax10,ax11,ax12]\n",
    "labels = [\"a)\",\"b)\",\"c)\",\"d)\",\"e)\",\"f)\",\"g)\",\"h)\",\"i)\",\"j)\",\"k)\",\"l)\"]\n",
    "for ax, label in zip(axis,labels):\n",
    "  ax.text(-0.1,1.1,label,transform=ax.transAxes, fontsize=14)  \n",
    "\n",
    "# ax1.legend(['SPM','SPMe'])\n",
    "fig.tight_layout()\n",
    "# plt.savefig(fig_DIR+'plating_models_parameters'+'.png')\n",
    "# plt.savefig(fig_DIR+'plating_compare_models_1p5C'+'.png')\n",
    "plt.savefig(fig_DIR+'plating_compare_crate_high_irrev'+'.png')"
   ]
  },
  {
   "cell_type": "code",
   "execution_count": null,
   "metadata": {},
   "outputs": [],
   "source": [
    "asdasd"
   ]
  },
  {
   "cell_type": "code",
   "execution_count": null,
   "metadata": {},
   "outputs": [],
   "source": [
    "c_ss_n1"
   ]
  },
  {
   "cell_type": "code",
   "execution_count": null,
   "metadata": {},
   "outputs": [],
   "source": [
    "c_smax_n = 28746\n",
    "f1 = (c_ss_p1**0.5)*((c_smax_n-c_ss_p1)**0.5)\n",
    "\n",
    "fig, ax1 = plt.subplots(1, 1, figsize=(5, 4))\n",
    "ax1.plot(t1,f1,'b')\n",
    "# ax1.plot(t2,V2,'rv-')\n",
    "ax1.set_title(r'$(c_{s,max}-c_{ss})^{1-\\alpha}\\times(c_{ss})^{\\alpha}$')\n",
    "ax1.set_xlabel(\"Time [hr]\")\n",
    "plt.savefig(fig_DIR+'exch_current_nonlinearity'+'.png')"
   ]
  },
  {
   "cell_type": "code",
   "execution_count": null,
   "metadata": {},
   "outputs": [],
   "source": [
    "c_ss_p1 = np.linspace(1,0,51)"
   ]
  },
  {
   "cell_type": "code",
   "execution_count": null,
   "metadata": {},
   "outputs": [],
   "source": [
    "c_smax_p =1\n",
    "f1 = (c_ss_p1**0.05)*((c_smax_p-c_ss_p1)**0.05)\n",
    "\n",
    "fig, ax1 = plt.subplots(1, 1, figsize=(5, 4))\n",
    "ax1.plot(c_ss_p1,f1,'b')\n",
    "# ax1.plot(t2,V2,'rv-')\n",
    "ax1.set_title(r'$(c_{s,max}-c_{ss})^{1-\\alpha}\\times(c_{ss})^{\\alpha}$')\n",
    "# plt.savefig(fig_DIR+'exch_current_nonlinearity'+'.png')"
   ]
  }
 ],
 "metadata": {
  "kernelspec": {
   "display_name": "Python 3",
   "language": "python",
   "name": "python3"
  },
  "language_info": {
   "codemirror_mode": {
    "name": "ipython",
    "version": 3
   },
   "file_extension": ".py",
   "mimetype": "text/x-python",
   "name": "python",
   "nbconvert_exporter": "python",
   "pygments_lexer": "ipython3",
   "version": "3.9.7"
  },
  "orig_nbformat": 4,
  "vscode": {
   "interpreter": {
    "hash": "fe6e1a396f7757d05554318f98bb2d7e7d3785df9fdbcce0707f057fad4349a9"
   }
  }
 },
 "nbformat": 4,
 "nbformat_minor": 2
}
