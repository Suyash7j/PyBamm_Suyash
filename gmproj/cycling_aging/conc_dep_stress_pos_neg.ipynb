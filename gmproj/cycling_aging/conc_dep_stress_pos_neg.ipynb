{
 "cells": [
  {
   "cell_type": "code",
   "execution_count": 1,
   "metadata": {},
   "outputs": [],
   "source": [
    "import pybamm\n",
    "import matplotlib.pyplot as plt\n",
    "import numpy as np\n",
    "import scipy\n",
    "import pandas as pd\n",
    "import math\n",
    "import dfols\n",
    "import signal\n",
    "from scipy.integrate import solve_ivp\n",
    "from scipy.fft import fft, fftfreq, fftshift\n",
    "from scipy.signal import savgol_filter\n",
    "from scipy.signal import find_peaks\n",
    "from scipy import interpolate\n",
    "from stopit import threading_timeoutable as timeoutable\n",
    "import os, sys\n",
    "sys.path.append(os.path.dirname(os.path.dirname(os.path.abspath(\"__file__\"))))\n",
    "from batfuns import *\n",
    "plt.rcParams = set_rc_params(plt.rcParams)\n",
    "\n",
    "eSOH_DIR = \"../data/esoh/\"\n",
    "oCV_DIR = \"../data/ocv/\"\n",
    "cyc_DIR = \"../data/cycling/\"\n",
    "fig_DIR = \"../figures/figures_model/\"\n",
    "res_DIR = \"../data/results_model/\"\n",
    "%matplotlib widget"
   ]
  },
  {
   "cell_type": "code",
   "execution_count": 2,
   "metadata": {},
   "outputs": [],
   "source": [
    "parameter_values = get_parameter_values()\n",
    "spm = pybamm.lithium_ion.SPM(\n",
    "    {\n",
    "        \"SEI\": \"ec reaction limited\",\n",
    "        \"loss of active material\": \"stress-driven\",\n",
    "        \"lithium plating\": \"irreversible\",\n",
    "        \"stress-induced diffusion\": \"false\",\n",
    "    }\n",
    ")\n",
    "# spm.print_parameter_info()\n",
    "param=spm.param"
   ]
  },
  {
   "cell_type": "code",
   "execution_count": 3,
   "metadata": {},
   "outputs": [
    {
     "name": "stdout",
     "output_type": "stream",
     "text": [
      "25\n"
     ]
    }
   ],
   "source": [
    "cell = 4\n",
    "sno = 13\n",
    "cell_no,dfe,dfe_0,dfo_0,N,N_0 = load_data(cell,eSOH_DIR,oCV_DIR)\n",
    "eps_n_data,eps_p_data,c_rate_c,c_rate_d,dis_set,Temp,SOC_0 = init_exp(cell_no,dfe,spm,parameter_values)\n",
    "print(Temp)"
   ]
  },
  {
   "cell_type": "code",
   "execution_count": 4,
   "metadata": {},
   "outputs": [],
   "source": [
    "par_val = {}\n",
    "# Previous i.e. tuning mech sim sep and then Li plating\n",
    "par_val[0] = [1.2715e-07,1.2727e-06,1.1992,1.353e-9,0,0]\n",
    "# Using only C/5 and 1.5C Cycling aging, cost function with Cn,Cp,x100,y0\n",
    "par_val[1] = [1.4819e-07,1.5114e-06,1.2484,1.4732e-09,0,0]\n",
    "# Using only C/5 and 1.5C Cycling aging, cost function with Cn,Cp,C,LLI(%)\n",
    "par_val[2] = [1.4493e-07,1.3608e-06,1.199,1.2138e-09,0,0]\n",
    "# Using C/5, 1.5C and mixed c-rate (Ch:C/5, Dh:1.5C) Cycling aging, cost function with Cn,Cp,x100,y0\n",
    "par_val[3] = [1.043e-07,1.036e-06,1.208,1.6045e-09,0,0]\n",
    "# Using C/5, 1.5C and mixed c-rate (Ch:C/5, Dh:1.5C) Cycling aging, cost function with Cn,Cp,C,LLI(%)\n",
    "par_val[4] = [8.755e-08,8.572e-07,1.135,1.5788e-09,0,0]\n",
    "# Using C/5, 1.5C and mixed c-rate (Ch:C/5, Dh:1.5C) Cycling aging, cost function with Cn,Cp,C,LLI(%) another initial condition\n",
    "par_val[5] = [8.7698e-08,8.5848e-07,1.1354,1.5778e-09,0,0]\n",
    "# New Mech Damage Model\n",
    "par_val[6] = [2.056E-07,2.4664E-06,1.2468,1.0482e-09,0,0]\n",
    "# New Mech Damage Model with Lithium plating resistane\n",
    "par_val[7] = [2.190e-07,2.308e-06,1.214,2.537e-09,0]\n",
    "# New Assymetric Mech Damage Model, tuned using C/5, 1.5C and mixed c-rate (Ch:C/5, Dh:1.5C) Cycling aging\n",
    "par_val[8] = [1.426e-07,3.832e-06,1.215,2.35e-09,1.462e-06,0]\n",
    "# New Assymetric Mech Damage Model, tuned using C/5, 1.5C and mixed c-rate (Ch:C/5, Dh:1.5C) Cycling aging version 2\n",
    "par_val[9] = [1.41036e-07,2.3913188000000003e-06,1.2098,2.4487124e-09,7.330208e-08,0]\n",
    "# New Assymetric Mech Damage Model, tuned using C/5, 1.5C and mixed c-rate (Ch:C/5, Dh:1.5C) Cycling aging version 3\n",
    "par_val[10] = [1.414e-07,1.5045e-06,1.2094,2.45e-09,4.603e-08,0]\n",
    "# Post processing LAM model using simulated stress, tuned using C/5 and 1.5C Cycling aging \n",
    "par_val[11] = [4.2298e-08,3.1590e-07,1.0773,2.3688e-09,1.8939e-08,0]\n",
    "# Post processing LAM model using simulated stress, tuned using C/5 and mixed c-rate (Ch:C/5, Dh:1.5C) Cycling aging \n",
    "par_val[12] = [8.4600e-09,2.8926e-07,1.0462,2.8351e-09,7.6933e-11,0]\n",
    "# Post processing LAM model using simulated stress, tuned using C/5 and mixed c-rate (Ch:C/5, Dh:1.5C) Cycling aging version 2\n",
    "par_val[13] = [4.0689e-08,2.8887e-07,1.0484,2.4848e-09,7.6548e-12,5.8577e-11]\n",
    "# [8.5870e-09,2.8829e-07,1.0451,2.8285e-09,7.6933e-11]\n",
    "parameter_values = get_parameter_values()\n",
    "parameter_values.update(\n",
    "    {\n",
    "        \"Negative electrode active material volume fraction\": eps_n_data,\n",
    "        \"Positive electrode active material volume fraction\": eps_p_data,\n",
    "        \"Initial temperature [K]\": 273.15+Temp,\n",
    "        \"Ambient temperature [K]\": 273.15+Temp,\n",
    "        \"Positive electrode LAM constant proportional term [s-1]\": par_val[sno][0],\n",
    "        \"Negative electrode LAM constant proportional term [s-1]\": par_val[sno][1],\n",
    "        \"Positive electrode LAM constant proportional term 2 [s-1]\": par_val[sno][5],\n",
    "        \"Negative electrode LAM constant proportional term 2 [s-1]\": par_val[sno][4],\n",
    "        \"Positive electrode LAM constant exponential term\": par_val[sno][2],\n",
    "        \"Negative electrode LAM constant exponential term\": par_val[sno][2],\n",
    "        \"SEI kinetic rate constant [m.s-1]\":  4.60788219e-16, #1.08494281e-16 , \n",
    "        \"EC diffusivity [m2.s-1]\": 4.56607447e-19,#8.30909086e-19,\n",
    "        \"SEI growth activation energy [J.mol-1]\": 1.87422275e+04,#1.58777981e+04,\n",
    "        \"Lithium plating kinetic rate constant [m.s-1]\": par_val[sno][3],\n",
    "        \"Initial inner SEI thickness [m]\": 0e-09,\n",
    "        \"Initial outer SEI thickness [m]\": 5e-09,\n",
    "        \"SEI resistivity [Ohm.m]\": 30000.0,\n",
    "        \"Negative electrode partial molar volume [m3.mol-1]\": 4.544e-06,\n",
    "        \"Negative electrode LAM min stress [Pa]\": 0,\n",
    "        \"Negative electrode LAM max stress [Pa]\": 0,\n",
    "        \"Positive electrode LAM min stress [Pa]\": 0,\n",
    "        \"Positive electrode LAM max stress [Pa]\": 0,\n",
    "        \"Negative electrode critical stress [Pa]\": 6e+07,\n",
    "        \"Positive electrode critical stress [Pa]\": 375e+07,\n",
    "    },\n",
    "    check_already_exists=False,\n",
    ")"
   ]
  },
  {
   "cell_type": "code",
   "execution_count": 29,
   "metadata": {},
   "outputs": [
    {
     "data": {
      "text/plain": [
       "1.1211693641406024"
      ]
     },
     "execution_count": 29,
     "metadata": {},
     "output_type": "execute_result"
    }
   ],
   "source": [
    "1.1**1.2 "
   ]
  },
  {
   "cell_type": "code",
   "execution_count": 28,
   "metadata": {},
   "outputs": [
    {
     "data": {
      "text/plain": [
       "0.23580092567898683"
      ]
     },
     "execution_count": 28,
     "metadata": {},
     "output_type": "execute_result"
    }
   ],
   "source": [
    "0.3**1.2"
   ]
  },
  {
   "cell_type": "code",
   "execution_count": 5,
   "metadata": {},
   "outputs": [
    {
     "name": "stdout",
     "output_type": "stream",
     "text": [
      "Negative electrode critical stress [Pa]\t60000000.0\n",
      "Positive electrode critical stress [Pa]\t3750000000.0\n"
     ]
    }
   ],
   "source": [
    "parameter_values.search(\"critical\")"
   ]
  },
  {
   "cell_type": "code",
   "execution_count": 6,
   "metadata": {},
   "outputs": [],
   "source": [
    "c_rate_c ='C/5'\n",
    "c_rate_d ='C/5'\n",
    "# c_rate_c ='1.5C'\n",
    "# c_rate_d ='1.5C'"
   ]
  },
  {
   "cell_type": "code",
   "execution_count": null,
   "metadata": {},
   "outputs": [],
   "source": []
  },
  {
   "cell_type": "code",
   "execution_count": 7,
   "metadata": {},
   "outputs": [],
   "source": [
    "experiment = pybamm.Experiment(\n",
    "    [\n",
    "        (\n",
    "         \"Charge at \"+c_rate_c+\" until 4.2V\", \n",
    "         \"Hold at 4.2V until C/50\",\n",
    "         \"Rest for 10 sec\",\n",
    "         \"Discharge at \"+c_rate_d+\" until 3V\",\n",
    "        #  \"Discharge at \"+c_rate_d+\" for 150 min\",\n",
    "         )\n",
    "    ]*1,\n",
    "    termination=\"50% capacity\",\n",
    "    period = \"10 sec\",\n",
    "#     cccv_handling=\"ode\",\n",
    ")\n",
    "SOC_0 =0.0"
   ]
  },
  {
   "cell_type": "code",
   "execution_count": 8,
   "metadata": {},
   "outputs": [],
   "source": [
    "sim_long = pybamm.Simulation(spm, experiment=experiment, parameter_values=parameter_values, \n",
    "                            solver=pybamm.CasadiSolver(\"safe\"))\n",
    "sol_long = sim_long.solve(initial_soc=SOC_0)\n",
    "solution1 = sol_long"
   ]
  },
  {
   "cell_type": "code",
   "execution_count": 9,
   "metadata": {},
   "outputs": [],
   "source": [
    "def plot_vars(solution):\n",
    "    t =  solution[\"Time [s]\"].entries\n",
    "    t = t/3600\n",
    "    V =  solution[\"Terminal voltage [V]\"].entries\n",
    "    I =  solution[\"Current [A]\"].entries\n",
    "    Q = -solution['Discharge capacity [A.h]'].entries\n",
    "\n",
    "    c_ss_n = solution[\"X-averaged negative particle surface concentration\"].entries\n",
    "    c_save_n1 = solution[\"R-averaged negative particle concentration\"].entries\n",
    "    c_save_n = c_save_n1[1,:]\n",
    "    c_s_n = solution[\"X-averaged negative particle concentration\"].entries\n",
    "\n",
    "    c_ss_p = solution[\"X-averaged positive particle surface concentration\"].entries\n",
    "    c_save_p1 = solution[\"R-averaged positive particle concentration\"].entries\n",
    "    c_save_p = c_save_p1[1,:]\n",
    "    c_s_p = solution[\"X-averaged positive particle concentration\"].entries\n",
    "\n",
    "\n",
    "    return t,V,I,Q,c_ss_n,c_save_n,c_s_n,c_ss_p,c_save_p,c_s_p"
   ]
  },
  {
   "cell_type": "code",
   "execution_count": 14,
   "metadata": {},
   "outputs": [],
   "source": [
    "def graphite_volume_change(sto):\n",
    "    stoichpoints = np.array([0,0.12,0.18,0.24,0.50,1])\n",
    "    thicknesspoints = np.array([0,2.406/100,3.3568/100,4.3668/100,5.583/100,13.0635/100])\n",
    "    x = [sto]\n",
    "    t_change = pybamm.Interpolant(stoichpoints, thicknesspoints, x, name=None, interpolator='linear', extrapolate=True, entries_string=None)\n",
    "    t_change = np.interp(x,stoichpoints,thicknesspoints)\n",
    "    return t_change"
   ]
  },
  {
   "cell_type": "code",
   "execution_count": 15,
   "metadata": {},
   "outputs": [],
   "source": [
    "def nmc_volume_change(sto):\n",
    "        t_change = -1.10/100*(1-sto)\n",
    "        return t_change"
   ]
  },
  {
   "cell_type": "code",
   "execution_count": 16,
   "metadata": {},
   "outputs": [],
   "source": [
    "t,V,I,Q,c_ss_n,c_save_n,c_s_n,c_ss_p,c_save_p,c_s_p = plot_vars(solution1)"
   ]
  },
  {
   "cell_type": "code",
   "execution_count": 17,
   "metadata": {},
   "outputs": [
    {
     "name": "stdout",
     "output_type": "stream",
     "text": [
      "No results for search using 'dis'. Best matches are []\n"
     ]
    }
   ],
   "source": [
    "parameter_values.search(\"dis\")"
   ]
  },
  {
   "cell_type": "code",
   "execution_count": 18,
   "metadata": {},
   "outputs": [],
   "source": [
    "def sigma_hfun(c_s_n,c_s_p):\n",
    "\n",
    "    Omega_n = param.n.Omega\n",
    "    R_n = parameter_values.evaluate(param.n.prim.R_typ)\n",
    "    E_n = param.n.E\n",
    "    nu_n = param.n.nu\n",
    "    CC_n = parameter_values.evaluate(2*E_n/(1-nu_n)/3)\n",
    "\n",
    "    Omega_p = param.n.Omega\n",
    "    R_p = parameter_values.evaluate(param.p.prim.R_typ)\n",
    "    E_p = param.p.E\n",
    "    nu_p = param.p.nu\n",
    "    CC_p = parameter_values.evaluate(2*E_p/(1-nu_p)/3)\n",
    "\n",
    "    Rvec_n = np.linspace(0,R_n,len(c_s_n))\n",
    "    Rvec_p = np.linspace(0,R_p,len(c_s_p))\n",
    "    sigma_h_n = []\n",
    "    sigma_h_p = []\n",
    "    for nn in range(np.size(c_s_n,1)):\n",
    "        c_s_n1 = c_s_n[:,nn]\n",
    "        y_s = np.vectorize(graphite_volume_change)(c_s_n1)\n",
    "        cube_n = Rvec_n[1:]**3-Rvec_n[:-1]**3\n",
    "        mul_n = (y_s[1:]+y_s[:-1])/2\n",
    "        sigma_h_s_n = CC_n*((1/R_n**3)*1/3*np.sum(cube_n*mul_n)-1/3*y_s[-1])\n",
    "        sigma_h_n.append(sigma_h_s_n)\n",
    "        c_s_p1 = c_s_p[:,nn]\n",
    "        x_s = np.vectorize(nmc_volume_change)(c_s_p1)\n",
    "        cube_p = Rvec_p[1:]**3-Rvec_p[:-1]**3\n",
    "        mul_p = (x_s[1:]+x_s[:-1])/2\n",
    "        sigma_h_s_p = CC_p*((1/R_p**3)*1/3*np.sum(cube_p*mul_p)-1/3*x_s[-1])\n",
    "        sigma_h_p.append(sigma_h_s_p)\n",
    "    sigma_h_n = np.array(sigma_h_n)\n",
    "    sigma_h_p = np.array(sigma_h_p)\n",
    "\n",
    "    return sigma_h_n,sigma_h_p"
   ]
  },
  {
   "cell_type": "code",
   "execution_count": 19,
   "metadata": {},
   "outputs": [],
   "source": [
    "sigma_h_n,sigma_h_p = sigma_hfun(c_s_n,c_s_p)"
   ]
  },
  {
   "cell_type": "code",
   "execution_count": 20,
   "metadata": {},
   "outputs": [
    {
     "data": {
      "application/vnd.jupyter.widget-view+json": {
       "model_id": "149e7d1b00e3440b986d209ddbc056b0",
       "version_major": 2,
       "version_minor": 0
      },
      "image/png": "[encoded data removed]",
      "text/html": [
       "\n",
       "            <div style=\"display: inline-block;\">\n",
       "                <div class=\"jupyter-widgets widget-label\" style=\"text-align: center;\">\n",
       "                    Figure\n",
       "                </div>\n",
       "                <img src='data:image/png;base64,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' width=500.0/>\n",
       "            </div>\n",
       "        "
      ],
      "text/plain": [
       "Canvas(toolbar=Toolbar(toolitems=[('Home', 'Reset original view', 'home', 'home'), ('Back', 'Back to previous …"
      ]
     },
     "metadata": {},
     "output_type": "display_data"
    }
   ],
   "source": [
    "fig,ax = plt.subplots(1,1,figsize=(5,4))\n",
    "ax1 = ax\n",
    "ax1.plot(t,sigma_h_n/1e6,'b')\n",
    "ax1.plot(t,sigma_h_p/1e6,'r')\n",
    "ax1.legend([\"Normal\",\"Conc Dependent\",\"Simplified Conc Dep\"])\n",
    "ax1.set_title(\"Stress profile\")\n",
    "ax1.set_xlabel(\"Time\")\n",
    "ax1.set_ylabel(\"Stress [MPa]\")\n",
    "fig.tight_layout()\n",
    "# plt.savefig(fig_DIR+'conc_dep_stress_cap_C5_100'+'.png')"
   ]
  }
 ],
 "metadata": {
  "kernelspec": {
   "display_name": "windows-dev",
   "language": "python",
   "name": "python3"
  },
  "language_info": {
   "codemirror_mode": {
    "name": "ipython",
    "version": 3
   },
   "file_extension": ".py",
   "mimetype": "text/x-python",
   "name": "python",
   "nbconvert_exporter": "python",
   "pygments_lexer": "ipython3",
   "version": "3.9.7"
  },
  "orig_nbformat": 4
 },
 "nbformat": 4,
 "nbformat_minor": 2
}
